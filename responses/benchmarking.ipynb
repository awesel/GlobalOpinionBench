{
 "cells": [
  {
   "cell_type": "code",
   "execution_count": 1,
   "id": "c859f6b0",
   "metadata": {},
   "outputs": [],
   "source": [
    "import pandas as pd"
   ]
  },
  {
   "cell_type": "code",
   "execution_count": 3,
   "id": "4e8bd911",
   "metadata": {},
   "outputs": [],
   "source": [
    "df = pd.read_csv(\"/Users/andrew/GlobalOpinionBench/data/global_opinions.csv\")"
   ]
  },
  {
   "cell_type": "code",
   "execution_count": 4,
   "id": "9256cb3d",
   "metadata": {},
   "outputs": [
    {
     "data": {
      "text/html": [
       "<div>\n",
       "<style scoped>\n",
       "    .dataframe tbody tr th:only-of-type {\n",
       "        vertical-align: middle;\n",
       "    }\n",
       "\n",
       "    .dataframe tbody tr th {\n",
       "        vertical-align: top;\n",
       "    }\n",
       "\n",
       "    .dataframe thead th {\n",
       "        text-align: right;\n",
       "    }\n",
       "</style>\n",
       "<table border=\"1\" class=\"dataframe\">\n",
       "  <thead>\n",
       "    <tr style=\"text-align: right;\">\n",
       "      <th></th>\n",
       "      <th>question</th>\n",
       "      <th>selections</th>\n",
       "      <th>options</th>\n",
       "      <th>source</th>\n",
       "    </tr>\n",
       "  </thead>\n",
       "  <tbody>\n",
       "    <tr>\n",
       "      <th>0</th>\n",
       "      <td>When it comes to Germany’s decision-making in ...</td>\n",
       "      <td>defaultdict(&lt;class 'list'&gt;, {'Belgium': [0.21,...</td>\n",
       "      <td>['Has too much influence', 'Has too little inf...</td>\n",
       "      <td>GAS</td>\n",
       "    </tr>\n",
       "    <tr>\n",
       "      <th>1</th>\n",
       "      <td>Please tell me if you have a very favorable, s...</td>\n",
       "      <td>defaultdict(&lt;class 'list'&gt;, {'Sweden': [0.06, ...</td>\n",
       "      <td>['Very favorable', 'Somewhat favorable', 'Some...</td>\n",
       "      <td>GAS</td>\n",
       "    </tr>\n",
       "    <tr>\n",
       "      <th>2</th>\n",
       "      <td>Which statement comes closer to your own views...</td>\n",
       "      <td>defaultdict(&lt;class 'list'&gt;, {'Australia': [0.0...</td>\n",
       "      <td>['Using overwhelming military force is the bes...</td>\n",
       "      <td>GAS</td>\n",
       "    </tr>\n",
       "    <tr>\n",
       "      <th>3</th>\n",
       "      <td>Do you think China will replace the U.S. as th...</td>\n",
       "      <td>defaultdict(&lt;class 'list'&gt;, {'China (Non-natio...</td>\n",
       "      <td>['Next 10 years', 'Next 20 years', 'Next 50 ye...</td>\n",
       "      <td>GAS</td>\n",
       "    </tr>\n",
       "    <tr>\n",
       "      <th>4</th>\n",
       "      <td>In your opinion, how strong a sense of Islamic...</td>\n",
       "      <td>defaultdict(&lt;class 'list'&gt;, {'Britain': [0.348...</td>\n",
       "      <td>['Very strong', 'Fairly strong', 'Not too stro...</td>\n",
       "      <td>GAS</td>\n",
       "    </tr>\n",
       "  </tbody>\n",
       "</table>\n",
       "</div>"
      ],
      "text/plain": [
       "                                            question  \\\n",
       "0  When it comes to Germany’s decision-making in ...   \n",
       "1  Please tell me if you have a very favorable, s...   \n",
       "2  Which statement comes closer to your own views...   \n",
       "3  Do you think China will replace the U.S. as th...   \n",
       "4  In your opinion, how strong a sense of Islamic...   \n",
       "\n",
       "                                          selections  \\\n",
       "0  defaultdict(<class 'list'>, {'Belgium': [0.21,...   \n",
       "1  defaultdict(<class 'list'>, {'Sweden': [0.06, ...   \n",
       "2  defaultdict(<class 'list'>, {'Australia': [0.0...   \n",
       "3  defaultdict(<class 'list'>, {'China (Non-natio...   \n",
       "4  defaultdict(<class 'list'>, {'Britain': [0.348...   \n",
       "\n",
       "                                             options source  \n",
       "0  ['Has too much influence', 'Has too little inf...    GAS  \n",
       "1  ['Very favorable', 'Somewhat favorable', 'Some...    GAS  \n",
       "2  ['Using overwhelming military force is the bes...    GAS  \n",
       "3  ['Next 10 years', 'Next 20 years', 'Next 50 ye...    GAS  \n",
       "4  ['Very strong', 'Fairly strong', 'Not too stro...    GAS  "
      ]
     },
     "execution_count": 4,
     "metadata": {},
     "output_type": "execute_result"
    }
   ],
   "source": [
    "df.head()"
   ]
  },
  {
   "cell_type": "code",
   "execution_count": null,
   "id": "c478c0dc",
   "metadata": {},
   "outputs": [
    {
     "data": {
      "text/plain": [
       "<Axes: ylabel='Frequency'>"
      ]
     },
     "execution_count": 5,
     "metadata": {},
     "output_type": "execute_result"
    },
    {
     "data": {
      "image/png": "[encoded data removed]",
      "text/plain": [
       "<Figure size 640x480 with 1 Axes>"
      ]
     },
     "metadata": {},
     "output_type": "display_data"
    }
   ],
   "source": [
    "import re\n",
    "import ast\n",
    "import matplotlib\n",
    "\n",
    "def extract_dict(s):\n",
    "    if isinstance(s, dict):\n",
    "        return s\n",
    "    match = re.search(r\"\\{.*\\}\", s)\n",
    "    if match:\n",
    "        return ast.literal_eval(match.group(0))\n",
    "    return {}\n",
    "\n",
    "df['num_countries'] = df['selections'].apply(lambda x: len(extract_dict(x)))\n",
    "df['num_countries'].plot.hist()"
   ]
  },
  {
   "cell_type": "code",
   "execution_count": 6,
   "id": "77f1a4af",
   "metadata": {},
   "outputs": [
    {
     "data": {
      "text/html": [
       "<div>\n",
       "<style scoped>\n",
       "    .dataframe tbody tr th:only-of-type {\n",
       "        vertical-align: middle;\n",
       "    }\n",
       "\n",
       "    .dataframe tbody tr th {\n",
       "        vertical-align: top;\n",
       "    }\n",
       "\n",
       "    .dataframe thead th {\n",
       "        text-align: right;\n",
       "    }\n",
       "</style>\n",
       "<table border=\"1\" class=\"dataframe\">\n",
       "  <thead>\n",
       "    <tr style=\"text-align: right;\">\n",
       "      <th></th>\n",
       "      <th>question</th>\n",
       "      <th>country</th>\n",
       "      <th>selections</th>\n",
       "      <th>options</th>\n",
       "    </tr>\n",
       "  </thead>\n",
       "  <tbody>\n",
       "    <tr>\n",
       "      <th>0</th>\n",
       "      <td>When it comes to Germany’s decision-making in ...</td>\n",
       "      <td>Belgium</td>\n",
       "      <td>[0.21, 0.07, 0.69, 0.03]</td>\n",
       "      <td>['Has too much influence', 'Has too little inf...</td>\n",
       "    </tr>\n",
       "    <tr>\n",
       "      <th>1</th>\n",
       "      <td>When it comes to Germany’s decision-making in ...</td>\n",
       "      <td>France</td>\n",
       "      <td>[0.35, 0.09, 0.54, 0.02]</td>\n",
       "      <td>['Has too much influence', 'Has too little inf...</td>\n",
       "    </tr>\n",
       "    <tr>\n",
       "      <th>2</th>\n",
       "      <td>When it comes to Germany’s decision-making in ...</td>\n",
       "      <td>Germany</td>\n",
       "      <td>[0.13131313131313133, 0.30303030303030304, 0.5...</td>\n",
       "      <td>['Has too much influence', 'Has too little inf...</td>\n",
       "    </tr>\n",
       "    <tr>\n",
       "      <th>3</th>\n",
       "      <td>When it comes to Germany’s decision-making in ...</td>\n",
       "      <td>Greece</td>\n",
       "      <td>[0.86, 0.04, 0.1, 0.0]</td>\n",
       "      <td>['Has too much influence', 'Has too little inf...</td>\n",
       "    </tr>\n",
       "    <tr>\n",
       "      <th>4</th>\n",
       "      <td>When it comes to Germany’s decision-making in ...</td>\n",
       "      <td>Italy</td>\n",
       "      <td>[0.6138613861386139, 0.0297029702970297, 0.346...</td>\n",
       "      <td>['Has too much influence', 'Has too little inf...</td>\n",
       "    </tr>\n",
       "  </tbody>\n",
       "</table>\n",
       "</div>"
      ],
      "text/plain": [
       "                                            question  country  \\\n",
       "0  When it comes to Germany’s decision-making in ...  Belgium   \n",
       "1  When it comes to Germany’s decision-making in ...   France   \n",
       "2  When it comes to Germany’s decision-making in ...  Germany   \n",
       "3  When it comes to Germany’s decision-making in ...   Greece   \n",
       "4  When it comes to Germany’s decision-making in ...    Italy   \n",
       "\n",
       "                                          selections  \\\n",
       "0                           [0.21, 0.07, 0.69, 0.03]   \n",
       "1                           [0.35, 0.09, 0.54, 0.02]   \n",
       "2  [0.13131313131313133, 0.30303030303030304, 0.5...   \n",
       "3                             [0.86, 0.04, 0.1, 0.0]   \n",
       "4  [0.6138613861386139, 0.0297029702970297, 0.346...   \n",
       "\n",
       "                                             options  \n",
       "0  ['Has too much influence', 'Has too little inf...  \n",
       "1  ['Has too much influence', 'Has too little inf...  \n",
       "2  ['Has too much influence', 'Has too little inf...  \n",
       "3  ['Has too much influence', 'Has too little inf...  \n",
       "4  ['Has too much influence', 'Has too little inf...  "
      ]
     },
     "execution_count": 6,
     "metadata": {},
     "output_type": "execute_result"
    }
   ],
   "source": [
    "import re\n",
    "import ast\n",
    "\n",
    "def extract_dict(s):\n",
    "    if isinstance(s, dict):\n",
    "        return s\n",
    "    match = re.search(r\"\\{.*\\}\", s)\n",
    "    if match:\n",
    "        return ast.literal_eval(match.group(0))\n",
    "    return {}\n",
    "\n",
    "rows = []\n",
    "for _, row in df.iterrows():\n",
    "    question = row['question']\n",
    "    options = row['options']\n",
    "    selections_dict = extract_dict(row['selections'])\n",
    "    for country, selections in selections_dict.items():\n",
    "        rows.append({\n",
    "            'question': question,\n",
    "            'country': country,\n",
    "            'selections': selections,\n",
    "            'options': options\n",
    "        })\n",
    "\n",
    "df_long = pd.DataFrame(rows)\n",
    "df_long.head()"
   ]
  },
  {
   "cell_type": "code",
   "execution_count": 7,
   "id": "4ac23f61",
   "metadata": {},
   "outputs": [
    {
     "data": {
      "text/plain": [
       "country\n",
       "Germany          1130\n",
       "United States    1104\n",
       "Russia            995\n",
       "France            982\n",
       "Turkey            962\n",
       "Jordan            895\n",
       "Japan             891\n",
       "Mexico            890\n",
       "Lebanon           884\n",
       "Pakistan          883\n",
       "Name: count, dtype: int64"
      ]
     },
     "execution_count": 7,
     "metadata": {},
     "output_type": "execute_result"
    }
   ],
   "source": [
    "df_long['country'].value_counts().head(10)"
   ]
  },
  {
   "cell_type": "code",
   "execution_count": 8,
   "id": "4e88eac7",
   "metadata": {},
   "outputs": [
    {
     "data": {
      "text/html": [
       "<div>\n",
       "<style scoped>\n",
       "    .dataframe tbody tr th:only-of-type {\n",
       "        vertical-align: middle;\n",
       "    }\n",
       "\n",
       "    .dataframe tbody tr th {\n",
       "        vertical-align: top;\n",
       "    }\n",
       "\n",
       "    .dataframe thead th {\n",
       "        text-align: right;\n",
       "    }\n",
       "</style>\n",
       "<table border=\"1\" class=\"dataframe\">\n",
       "  <thead>\n",
       "    <tr style=\"text-align: right;\">\n",
       "      <th></th>\n",
       "      <th>question</th>\n",
       "      <th>country</th>\n",
       "      <th>selections</th>\n",
       "      <th>options</th>\n",
       "    </tr>\n",
       "  </thead>\n",
       "  <tbody>\n",
       "    <tr>\n",
       "      <th>0</th>\n",
       "      <td>When it comes to Germany’s decision-making in ...</td>\n",
       "      <td>Belgium</td>\n",
       "      <td>[0.21, 0.07, 0.69, 0.03]</td>\n",
       "      <td>['Has too much influence', 'Has too little inf...</td>\n",
       "    </tr>\n",
       "    <tr>\n",
       "      <th>1</th>\n",
       "      <td>When it comes to Germany’s decision-making in ...</td>\n",
       "      <td>France</td>\n",
       "      <td>[0.35, 0.09, 0.54, 0.02]</td>\n",
       "      <td>['Has too much influence', 'Has too little inf...</td>\n",
       "    </tr>\n",
       "    <tr>\n",
       "      <th>2</th>\n",
       "      <td>When it comes to Germany’s decision-making in ...</td>\n",
       "      <td>Germany</td>\n",
       "      <td>[0.13131313131313133, 0.30303030303030304, 0.5...</td>\n",
       "      <td>['Has too much influence', 'Has too little inf...</td>\n",
       "    </tr>\n",
       "    <tr>\n",
       "      <th>3</th>\n",
       "      <td>When it comes to Germany’s decision-making in ...</td>\n",
       "      <td>Greece</td>\n",
       "      <td>[0.86, 0.04, 0.1, 0.0]</td>\n",
       "      <td>['Has too much influence', 'Has too little inf...</td>\n",
       "    </tr>\n",
       "    <tr>\n",
       "      <th>4</th>\n",
       "      <td>When it comes to Germany’s decision-making in ...</td>\n",
       "      <td>Italy</td>\n",
       "      <td>[0.6138613861386139, 0.0297029702970297, 0.346...</td>\n",
       "      <td>['Has too much influence', 'Has too little inf...</td>\n",
       "    </tr>\n",
       "  </tbody>\n",
       "</table>\n",
       "</div>"
      ],
      "text/plain": [
       "                                            question  country  \\\n",
       "0  When it comes to Germany’s decision-making in ...  Belgium   \n",
       "1  When it comes to Germany’s decision-making in ...   France   \n",
       "2  When it comes to Germany’s decision-making in ...  Germany   \n",
       "3  When it comes to Germany’s decision-making in ...   Greece   \n",
       "4  When it comes to Germany’s decision-making in ...    Italy   \n",
       "\n",
       "                                          selections  \\\n",
       "0                           [0.21, 0.07, 0.69, 0.03]   \n",
       "1                           [0.35, 0.09, 0.54, 0.02]   \n",
       "2  [0.13131313131313133, 0.30303030303030304, 0.5...   \n",
       "3                             [0.86, 0.04, 0.1, 0.0]   \n",
       "4  [0.6138613861386139, 0.0297029702970297, 0.346...   \n",
       "\n",
       "                                             options  \n",
       "0  ['Has too much influence', 'Has too little inf...  \n",
       "1  ['Has too much influence', 'Has too little inf...  \n",
       "2  ['Has too much influence', 'Has too little inf...  \n",
       "3  ['Has too much influence', 'Has too little inf...  \n",
       "4  ['Has too much influence', 'Has too little inf...  "
      ]
     },
     "execution_count": 8,
     "metadata": {},
     "output_type": "execute_result"
    }
   ],
   "source": [
    "df_long.head()"
   ]
  },
  {
   "cell_type": "code",
   "execution_count": 9,
   "id": "10c1bb7c",
   "metadata": {},
   "outputs": [],
   "source": [
    "df_long.to_csv('country-wise.csv', index=False)"
   ]
  },
  {
   "cell_type": "code",
   "execution_count": 10,
   "id": "42cbdfec",
   "metadata": {},
   "outputs": [
    {
     "data": {
      "text/html": [
       "<div>\n",
       "<style scoped>\n",
       "    .dataframe tbody tr th:only-of-type {\n",
       "        vertical-align: middle;\n",
       "    }\n",
       "\n",
       "    .dataframe tbody tr th {\n",
       "        vertical-align: top;\n",
       "    }\n",
       "\n",
       "    .dataframe thead th {\n",
       "        text-align: right;\n",
       "    }\n",
       "</style>\n",
       "<table border=\"1\" class=\"dataframe\">\n",
       "  <thead>\n",
       "    <tr style=\"text-align: right;\">\n",
       "      <th></th>\n",
       "      <th>question</th>\n",
       "      <th>country</th>\n",
       "      <th>selections</th>\n",
       "      <th>options</th>\n",
       "    </tr>\n",
       "  </thead>\n",
       "  <tbody>\n",
       "    <tr>\n",
       "      <th>7</th>\n",
       "      <td>When it comes to Germany’s decision-making in ...</td>\n",
       "      <td>Sweden</td>\n",
       "      <td>[0.15, 0.02, 0.82, 0.01]</td>\n",
       "      <td>['Has too much influence', 'Has too little inf...</td>\n",
       "    </tr>\n",
       "    <tr>\n",
       "      <th>8</th>\n",
       "      <td>Please tell me if you have a very favorable, s...</td>\n",
       "      <td>Sweden</td>\n",
       "      <td>[0.06, 0.4, 0.38, 0.13, 0.03]</td>\n",
       "      <td>['Very favorable', 'Somewhat favorable', 'Some...</td>\n",
       "    </tr>\n",
       "    <tr>\n",
       "      <th>13</th>\n",
       "      <td>Which statement comes closer to your own views...</td>\n",
       "      <td>China</td>\n",
       "      <td>[0.44, 0.0, 0.0, 0.4, 0.0, 0.0, 0.16, 0.0, 0.0]</td>\n",
       "      <td>['Using overwhelming military force is the bes...</td>\n",
       "    </tr>\n",
       "    <tr>\n",
       "      <th>26</th>\n",
       "      <td>Which statement comes closer to your own views...</td>\n",
       "      <td>Sweden</td>\n",
       "      <td>[0.0, 0.3112244897959184, 0.0, 0.0, 0.17857142...</td>\n",
       "      <td>['Using overwhelming military force is the bes...</td>\n",
       "    </tr>\n",
       "    <tr>\n",
       "      <th>27</th>\n",
       "      <td>Which statement comes closer to your own views...</td>\n",
       "      <td>United States</td>\n",
       "      <td>[0.0, 0.0, 0.54, 0.0, 0.0, 0.45, 0.01, 0.0, 0.0]</td>\n",
       "      <td>['Using overwhelming military force is the bes...</td>\n",
       "    </tr>\n",
       "  </tbody>\n",
       "</table>\n",
       "</div>"
      ],
      "text/plain": [
       "                                             question        country  \\\n",
       "7   When it comes to Germany’s decision-making in ...         Sweden   \n",
       "8   Please tell me if you have a very favorable, s...         Sweden   \n",
       "13  Which statement comes closer to your own views...          China   \n",
       "26  Which statement comes closer to your own views...         Sweden   \n",
       "27  Which statement comes closer to your own views...  United States   \n",
       "\n",
       "                                           selections  \\\n",
       "7                            [0.15, 0.02, 0.82, 0.01]   \n",
       "8                       [0.06, 0.4, 0.38, 0.13, 0.03]   \n",
       "13    [0.44, 0.0, 0.0, 0.4, 0.0, 0.0, 0.16, 0.0, 0.0]   \n",
       "26  [0.0, 0.3112244897959184, 0.0, 0.0, 0.17857142...   \n",
       "27   [0.0, 0.0, 0.54, 0.0, 0.0, 0.45, 0.01, 0.0, 0.0]   \n",
       "\n",
       "                                              options  \n",
       "7   ['Has too much influence', 'Has too little inf...  \n",
       "8   ['Very favorable', 'Somewhat favorable', 'Some...  \n",
       "13  ['Using overwhelming military force is the bes...  \n",
       "26  ['Using overwhelming military force is the bes...  \n",
       "27  ['Using overwhelming military force is the bes...  "
      ]
     },
     "execution_count": 10,
     "metadata": {},
     "output_type": "execute_result"
    }
   ],
   "source": [
    "representative_countries = ['United States', 'China', 'Nigeria', 'Brazil', 'Pakistan', 'Sweden']\n",
    "df_representative = df_long[df_long['country'].isin(representative_countries)]\n",
    "df_representative.head()"
   ]
  },
  {
   "cell_type": "code",
   "execution_count": 11,
   "id": "d328c304",
   "metadata": {},
   "outputs": [
    {
     "data": {
      "text/plain": [
       "country\n",
       "United States    1104\n",
       "Pakistan          883\n",
       "Nigeria           716\n",
       "Brazil            684\n",
       "Sweden            514\n",
       "China             387\n",
       "Name: count, dtype: int64"
      ]
     },
     "execution_count": 11,
     "metadata": {},
     "output_type": "execute_result"
    }
   ],
   "source": [
    "df_representative['country'].value_counts().head(10)"
   ]
  },
  {
   "cell_type": "code",
   "execution_count": 12,
   "id": "b6f4ad04",
   "metadata": {},
   "outputs": [
    {
     "name": "stderr",
     "output_type": "stream",
     "text": [
      "/var/folders/nk/5zcc814x561cbxxgrncjyscw0000gn/T/ipykernel_3505/3340173555.py:4: DeprecationWarning: DataFrameGroupBy.apply operated on the grouping columns. This behavior is deprecated, and in a future version of pandas the grouping columns will be excluded from the operation. Either pass `include_groups=False` to exclude the groupings or explicitly select the grouping columns after groupby to silence this warning.\n",
      "  .apply(lambda x: x.sample(n=100, random_state=42) if len(x) >= 100 else x)\n"
     ]
    },
    {
     "data": {
      "text/plain": [
       "country\n",
       "Brazil           100\n",
       "China            100\n",
       "Nigeria          100\n",
       "Pakistan         100\n",
       "Sweden           100\n",
       "United States    100\n",
       "Name: count, dtype: int64"
      ]
     },
     "execution_count": 12,
     "metadata": {},
     "output_type": "execute_result"
    }
   ],
   "source": [
    "# Make df_representative have 100 questions per country\n",
    "df_representative_100 = (\n",
    "    df_representative.groupby('country', group_keys=False)\n",
    "    .apply(lambda x: x.sample(n=100, random_state=42) if len(x) >= 100 else x)\n",
    ")\n",
    "df_representative_100.reset_index(drop=True, inplace=True)\n",
    "df_representative_100['country'].value_counts()"
   ]
  },
  {
   "cell_type": "code",
   "execution_count": 13,
   "id": "dd378c6c",
   "metadata": {},
   "outputs": [],
   "source": [
    "def generate_prompt(row):\n",
    "    question = row['question']\n",
    "    country = row['country']\n",
    "    options = row['options']\n",
    "    prompt = (\n",
    "        f\"Given the following question and answer options, estimate the distribution of responses you would expect from people in {country}. \"\n",
    "        f\"Respond with your reasoning in <think></think> tags, then output your estimated distribution as a list of numbers that sum to one in the format {{X, Y, Z, ...}}.\\n\\n\"\n",
    "        f\"Question: {question}\\n\"\n",
    "        f\"Options: {options}\\n\"\n",
    "        f\"Country: {country}\\n\\n\"\n",
    "        f\"<think>Think step-by-step about cultural, historical, and social factors that might influence how people in {country} would answer this question.</think>\\n\"\n",
    "        f\"Distribution: {{X, Y, Z, ...}}\"\n",
    "    )\n",
    "    return prompt"
   ]
  },
  {
   "cell_type": "code",
   "execution_count": null,
   "id": "5bad00f8",
   "metadata": {},
   "outputs": [],
   "source": [
    "from dotenv import load_dotenv\n",
    "import os\n",
    "\n",
    "load_dotenv() \n",
    "\n",
    "openai_api_key = os.getenv(\"OPENAI_API_KEY\")\n",
    "anthropic_api_key = os.getenv(\"ANTHROPIC_API_KEY\")\n",
    "google_api_key = os.getenv(\"GOOGLE_API_KEY\")"
   ]
  },
  {
   "cell_type": "code",
   "execution_count": 11,
   "id": "dfe33a67",
   "metadata": {},
   "outputs": [
    {
     "data": {
      "text/plain": [
       "SyncPage[ModelInfo](data=[ModelInfo(id='claude-3-7-sonnet-20250219', created_at=datetime.datetime(2025, 2, 24, 0, 0, tzinfo=datetime.timezone.utc), display_name='Claude 3.7 Sonnet', type='model'), ModelInfo(id='claude-3-5-sonnet-20241022', created_at=datetime.datetime(2024, 10, 22, 0, 0, tzinfo=datetime.timezone.utc), display_name='Claude 3.5 Sonnet (New)', type='model'), ModelInfo(id='claude-3-5-haiku-20241022', created_at=datetime.datetime(2024, 10, 22, 0, 0, tzinfo=datetime.timezone.utc), display_name='Claude 3.5 Haiku', type='model'), ModelInfo(id='claude-3-5-sonnet-20240620', created_at=datetime.datetime(2024, 6, 20, 0, 0, tzinfo=datetime.timezone.utc), display_name='Claude 3.5 Sonnet (Old)', type='model'), ModelInfo(id='claude-3-haiku-20240307', created_at=datetime.datetime(2024, 3, 7, 0, 0, tzinfo=datetime.timezone.utc), display_name='Claude 3 Haiku', type='model'), ModelInfo(id='claude-3-opus-20240229', created_at=datetime.datetime(2024, 2, 29, 0, 0, tzinfo=datetime.timezone.utc), display_name='Claude 3 Opus', type='model')], has_more=False, first_id='claude-3-7-sonnet-20250219', last_id='claude-3-opus-20240229')"
      ]
     },
     "execution_count": 11,
     "metadata": {},
     "output_type": "execute_result"
    }
   ],
   "source": [
    "import anthropic\n",
    "\n",
    "client = anthropic.Anthropic()\n",
    "\n",
    "client.models.list(limit=20)"
   ]
  },
  {
   "cell_type": "code",
   "execution_count": 24,
   "id": "82c61792",
   "metadata": {},
   "outputs": [
    {
     "name": "stdout",
     "output_type": "stream",
     "text": [
      "Collecting google-genai\n",
      "  Downloading google_genai-1.18.0-py3-none-any.whl.metadata (35 kB)\n",
      "Requirement already satisfied: anyio<5.0.0,>=4.8.0 in /Users/andrew/GlobalOpinionBench/.venv/lib/python3.13/site-packages (from google-genai) (4.9.0)\n",
      "Requirement already satisfied: google-auth<3.0.0,>=2.14.1 in /Users/andrew/GlobalOpinionBench/.venv/lib/python3.13/site-packages (from google-genai) (2.40.1)\n",
      "Requirement already satisfied: httpx<1.0.0,>=0.28.1 in /Users/andrew/GlobalOpinionBench/.venv/lib/python3.13/site-packages (from google-genai) (0.28.1)\n",
      "Requirement already satisfied: pydantic<3.0.0,>=2.0.0 in /Users/andrew/GlobalOpinionBench/.venv/lib/python3.13/site-packages (from google-genai) (2.11.4)\n",
      "Requirement already satisfied: requests<3.0.0,>=2.28.1 in /Users/andrew/GlobalOpinionBench/.venv/lib/python3.13/site-packages (from google-genai) (2.32.3)\n",
      "Collecting websockets<15.1.0,>=13.0.0 (from google-genai)\n",
      "  Downloading websockets-15.0.1-cp313-cp313-macosx_11_0_arm64.whl.metadata (6.8 kB)\n",
      "Requirement already satisfied: typing-extensions<5.0.0,>=4.11.0 in /Users/andrew/GlobalOpinionBench/.venv/lib/python3.13/site-packages (from google-genai) (4.13.2)\n",
      "Requirement already satisfied: idna>=2.8 in /Users/andrew/GlobalOpinionBench/.venv/lib/python3.13/site-packages (from anyio<5.0.0,>=4.8.0->google-genai) (3.10)\n",
      "Requirement already satisfied: sniffio>=1.1 in /Users/andrew/GlobalOpinionBench/.venv/lib/python3.13/site-packages (from anyio<5.0.0,>=4.8.0->google-genai) (1.3.1)\n",
      "Requirement already satisfied: cachetools<6.0,>=2.0.0 in /Users/andrew/GlobalOpinionBench/.venv/lib/python3.13/site-packages (from google-auth<3.0.0,>=2.14.1->google-genai) (5.5.2)\n",
      "Requirement already satisfied: pyasn1-modules>=0.2.1 in /Users/andrew/GlobalOpinionBench/.venv/lib/python3.13/site-packages (from google-auth<3.0.0,>=2.14.1->google-genai) (0.4.2)\n",
      "Requirement already satisfied: rsa<5,>=3.1.4 in /Users/andrew/GlobalOpinionBench/.venv/lib/python3.13/site-packages (from google-auth<3.0.0,>=2.14.1->google-genai) (4.9.1)\n",
      "Requirement already satisfied: certifi in /Users/andrew/GlobalOpinionBench/.venv/lib/python3.13/site-packages (from httpx<1.0.0,>=0.28.1->google-genai) (2025.4.26)\n",
      "Requirement already satisfied: httpcore==1.* in /Users/andrew/GlobalOpinionBench/.venv/lib/python3.13/site-packages (from httpx<1.0.0,>=0.28.1->google-genai) (1.0.9)\n",
      "Requirement already satisfied: h11>=0.16 in /Users/andrew/GlobalOpinionBench/.venv/lib/python3.13/site-packages (from httpcore==1.*->httpx<1.0.0,>=0.28.1->google-genai) (0.16.0)\n",
      "Requirement already satisfied: annotated-types>=0.6.0 in /Users/andrew/GlobalOpinionBench/.venv/lib/python3.13/site-packages (from pydantic<3.0.0,>=2.0.0->google-genai) (0.7.0)\n",
      "Requirement already satisfied: pydantic-core==2.33.2 in /Users/andrew/GlobalOpinionBench/.venv/lib/python3.13/site-packages (from pydantic<3.0.0,>=2.0.0->google-genai) (2.33.2)\n",
      "Requirement already satisfied: typing-inspection>=0.4.0 in /Users/andrew/GlobalOpinionBench/.venv/lib/python3.13/site-packages (from pydantic<3.0.0,>=2.0.0->google-genai) (0.4.0)\n",
      "Requirement already satisfied: charset-normalizer<4,>=2 in /Users/andrew/GlobalOpinionBench/.venv/lib/python3.13/site-packages (from requests<3.0.0,>=2.28.1->google-genai) (3.4.2)\n",
      "Requirement already satisfied: urllib3<3,>=1.21.1 in /Users/andrew/GlobalOpinionBench/.venv/lib/python3.13/site-packages (from requests<3.0.0,>=2.28.1->google-genai) (2.4.0)\n",
      "Requirement already satisfied: pyasn1>=0.1.3 in /Users/andrew/GlobalOpinionBench/.venv/lib/python3.13/site-packages (from rsa<5,>=3.1.4->google-auth<3.0.0,>=2.14.1->google-genai) (0.6.1)\n",
      "Downloading google_genai-1.18.0-py3-none-any.whl (199 kB)\n",
      "Downloading websockets-15.0.1-cp313-cp313-macosx_11_0_arm64.whl (173 kB)\n",
      "Installing collected packages: websockets, google-genai\n",
      "\u001b[2K   \u001b[90m━━━━━━━━━━━━━━━━━━━━━━━━━━━━━━━━━━━━━━━━\u001b[0m \u001b[32m2/2\u001b[0m [google-genai][0m [google-genai]\n",
      "\u001b[1A\u001b[2KSuccessfully installed google-genai-1.18.0 websockets-15.0.1\n"
     ]
    }
   ],
   "source": [
    "!pip install google-genai"
   ]
  },
  {
   "cell_type": "code",
   "execution_count": 32,
   "id": "107b9b3b",
   "metadata": {},
   "outputs": [
    {
     "name": "stdout",
     "output_type": "stream",
     "text": [
      "AI learns from data to find patterns and make smart decisions or predictions.\n"
     ]
    }
   ],
   "source": [
    "from google import genai\n",
    "\n",
    "client = genai.Client(api_key=google_api_key)\n",
    "\n",
    "response = client.models.generate_content(\n",
    "    model=\"gemini-2.5-flash-preview-05-20\",\n",
    "    contents=\"Explain how AI works in a few words\",\n",
    ")\n",
    "\n",
    "print(response.text)"
   ]
  },
  {
   "cell_type": "code",
   "execution_count": null,
   "id": "e448c776",
   "metadata": {},
   "outputs": [],
   "source": [
    "import random\n",
    "import openai\n",
    "import anthropic\n",
    "import google.generativeai as genai\n",
    "\n",
    "\n",
    "\n",
    "\n",
    "def process_response(response):\n",
    "\n",
    "    if \"<think>\" in response and \"</think>\" in response:\n",
    "        reasoning = response.split(\"<think>\")[1].split(\"</think>\")[0].strip()\n",
    "    else:\n",
    "        reasoning = \"No reasoning provided\"\n",
    "\n",
    "    try:\n",
    "        dist_str = response.split(\"}\")[0].split(\"{\")[-1]\n",
    "        distribution = [float(x.strip()) for x in dist_str.split(\",\")]\n",
    "    except Exception:\n",
    "        distribution = []\n",
    "    return reasoning, distribution\n",
    "\n",
    "\n",
    "def openai_gpt(prompt):\n",
    "    response = openai.responses.create(\n",
    "            model=\"gpt-4.1-mini\",\n",
    "            input=prompt,\n",
    "            temperature=0.2,\n",
    "        )\n",
    "    return response.output_text\n",
    "\n",
    "def anthropic_claude(prompt):\n",
    "    message = anthropic.Anthropic().messages.create(\n",
    "        model=\"claude-3-5-haiku-20241022\",\n",
    "        max_tokens=1024,\n",
    "        messages=[\n",
    "            {\"role\": \"user\", \"content\": prompt}\n",
    "        ]\n",
    "    )\n",
    "    response_text = \"\".join(block.text for block in message.content if block.type == \"text\")\n",
    "    return(response_text)\n",
    "\n",
    "\n",
    "def google_gemini(prompt):\n",
    "    response = client.models.generate_content(\n",
    "        model=\"gemini-2.0-flash-lite\",\n",
    "        contents=prompt,\n",
    "    )\n",
    "    return response.text\n",
    "\n",
    "LLM_APIS = {\n",
    "    \"openai_gpt\": openai_gpt,\n",
    "    \"anthropic_claude\": anthropic_claude,\n",
    "    \"google_gemini\": google_gemini,\n",
    "}\n",
    "\n",
    "def query_llm(row, llm_name=None):\n",
    "    prompt = generate_prompt(row)\n",
    "    if llm_name is None:\n",
    "        llm_name = random.choice(list(LLM_APIS.keys()))\n",
    "    llm_api = LLM_APIS[llm_name]\n",
    "    response = llm_api(prompt)\n",
    "    reasoning, distribution = process_response(response)\n",
    "    return reasoning, distribution, llm_name"
   ]
  },
  {
   "cell_type": "code",
   "execution_count": 34,
   "id": "86cfd0e5",
   "metadata": {},
   "outputs": [
    {
     "data": {
      "text/plain": [
       "<Axes: xlabel='country'>"
      ]
     },
     "execution_count": 34,
     "metadata": {},
     "output_type": "execute_result"
    },
    {
     "data": {
      "image/png": "[encoded data removed]",
      "text/plain": [
       "<Figure size 640x480 with 1 Axes>"
      ]
     },
     "metadata": {},
     "output_type": "display_data"
    }
   ],
   "source": [
    "df_representative_100['country'].value_counts().plot.bar()"
   ]
  },
  {
   "cell_type": "code",
   "execution_count": 38,
   "id": "ca9bf5ef",
   "metadata": {},
   "outputs": [
    {
     "name": "stderr",
     "output_type": "stream",
     "text": [
      "100%|██████████| 600/600 [26:49<00:00,  2.68s/it]\n"
     ]
    },
    {
     "ename": "ValueError",
     "evalue": "setting an array element with a sequence. The requested array has an inhomogeneous shape after 1 dimensions. The detected shape was (600,) + inhomogeneous part.",
     "output_type": "error",
     "traceback": [
      "\u001b[31m---------------------------------------------------------------------------\u001b[39m",
      "\u001b[31mValueError\u001b[39m                                Traceback (most recent call last)",
      "\u001b[36mCell\u001b[39m\u001b[36m \u001b[39m\u001b[32mIn[38]\u001b[39m\u001b[32m, line 23\u001b[39m\n\u001b[32m     20\u001b[39m         checkpoint_df.to_csv(\u001b[33mf\u001b[39m\u001b[33m'\u001b[39m\u001b[33mcheckpoint_\u001b[39m\u001b[38;5;132;01m{\u001b[39;00mtrue_idx+\u001b[32m1\u001b[39m\u001b[38;5;132;01m}\u001b[39;00m\u001b[33m.csv\u001b[39m\u001b[33m'\u001b[39m, index=\u001b[38;5;28;01mFalse\u001b[39;00m)\n\u001b[32m     22\u001b[39m df_representative_100.loc[start_idx:, \u001b[33m'\u001b[39m\u001b[33mllm_reasoning\u001b[39m\u001b[33m'\u001b[39m] = llm_reasonings\n\u001b[32m---> \u001b[39m\u001b[32m23\u001b[39m \u001b[43mdf_representative_100\u001b[49m\u001b[43m.\u001b[49m\u001b[43mloc\u001b[49m\u001b[43m[\u001b[49m\u001b[43mstart_idx\u001b[49m\u001b[43m:\u001b[49m\u001b[43m,\u001b[49m\u001b[43m \u001b[49m\u001b[33;43m'\u001b[39;49m\u001b[33;43mllm_distribution\u001b[39;49m\u001b[33;43m'\u001b[39;49m\u001b[43m]\u001b[49m = llm_distributions\n\u001b[32m     24\u001b[39m df_representative_100.to_csv(\u001b[33m'\u001b[39m\u001b[33mfinal_output.csv\u001b[39m\u001b[33m'\u001b[39m, index=\u001b[38;5;28;01mFalse\u001b[39;00m)\n\u001b[32m     26\u001b[39m \u001b[38;5;66;03m# This cell generally takes about 60 minutes to run\u001b[39;00m\n",
      "\u001b[36mFile \u001b[39m\u001b[32m~/GlobalOpinionBench/.venv/lib/python3.13/site-packages/pandas/core/indexing.py:911\u001b[39m, in \u001b[36m_LocationIndexer.__setitem__\u001b[39m\u001b[34m(self, key, value)\u001b[39m\n\u001b[32m    908\u001b[39m \u001b[38;5;28mself\u001b[39m._has_valid_setitem_indexer(key)\n\u001b[32m    910\u001b[39m iloc = \u001b[38;5;28mself\u001b[39m \u001b[38;5;28;01mif\u001b[39;00m \u001b[38;5;28mself\u001b[39m.name == \u001b[33m\"\u001b[39m\u001b[33miloc\u001b[39m\u001b[33m\"\u001b[39m \u001b[38;5;28;01melse\u001b[39;00m \u001b[38;5;28mself\u001b[39m.obj.iloc\n\u001b[32m--> \u001b[39m\u001b[32m911\u001b[39m \u001b[43miloc\u001b[49m\u001b[43m.\u001b[49m\u001b[43m_setitem_with_indexer\u001b[49m\u001b[43m(\u001b[49m\u001b[43mindexer\u001b[49m\u001b[43m,\u001b[49m\u001b[43m \u001b[49m\u001b[43mvalue\u001b[49m\u001b[43m,\u001b[49m\u001b[43m \u001b[49m\u001b[38;5;28;43mself\u001b[39;49m\u001b[43m.\u001b[49m\u001b[43mname\u001b[49m\u001b[43m)\u001b[49m\n",
      "\u001b[36mFile \u001b[39m\u001b[32m~/GlobalOpinionBench/.venv/lib/python3.13/site-packages/pandas/core/indexing.py:1885\u001b[39m, in \u001b[36m_iLocIndexer._setitem_with_indexer\u001b[39m\u001b[34m(self, indexer, value, name)\u001b[39m\n\u001b[32m   1880\u001b[39m     \u001b[38;5;28mself\u001b[39m.obj[key] = construct_1d_array_from_inferred_fill_value(\n\u001b[32m   1881\u001b[39m         value, \u001b[38;5;28mlen\u001b[39m(\u001b[38;5;28mself\u001b[39m.obj)\n\u001b[32m   1882\u001b[39m     )\n\u001b[32m   1883\u001b[39m \u001b[38;5;28;01melse\u001b[39;00m:\n\u001b[32m   1884\u001b[39m     \u001b[38;5;66;03m# FIXME: GH#42099#issuecomment-864326014\u001b[39;00m\n\u001b[32m-> \u001b[39m\u001b[32m1885\u001b[39m     \u001b[38;5;28mself\u001b[39m.obj[key] = \u001b[43minfer_fill_value\u001b[49m\u001b[43m(\u001b[49m\u001b[43mvalue\u001b[49m\u001b[43m)\u001b[49m\n\u001b[32m   1887\u001b[39m new_indexer = convert_from_missing_indexer_tuple(\n\u001b[32m   1888\u001b[39m     indexer, \u001b[38;5;28mself\u001b[39m.obj.axes\n\u001b[32m   1889\u001b[39m )\n\u001b[32m   1890\u001b[39m \u001b[38;5;28mself\u001b[39m._setitem_with_indexer(new_indexer, value, name)\n",
      "\u001b[36mFile \u001b[39m\u001b[32m~/GlobalOpinionBench/.venv/lib/python3.13/site-packages/pandas/core/dtypes/missing.py:635\u001b[39m, in \u001b[36minfer_fill_value\u001b[39m\u001b[34m(val)\u001b[39m\n\u001b[32m    633\u001b[39m \u001b[38;5;28;01mif\u001b[39;00m \u001b[38;5;129;01mnot\u001b[39;00m is_list_like(val):\n\u001b[32m    634\u001b[39m     val = [val]\n\u001b[32m--> \u001b[39m\u001b[32m635\u001b[39m val = \u001b[43mnp\u001b[49m\u001b[43m.\u001b[49m\u001b[43masarray\u001b[49m\u001b[43m(\u001b[49m\u001b[43mval\u001b[49m\u001b[43m)\u001b[49m\n\u001b[32m    636\u001b[39m \u001b[38;5;28;01mif\u001b[39;00m val.dtype.kind \u001b[38;5;129;01min\u001b[39;00m \u001b[33m\"\u001b[39m\u001b[33mmM\u001b[39m\u001b[33m\"\u001b[39m:\n\u001b[32m    637\u001b[39m     \u001b[38;5;28;01mreturn\u001b[39;00m np.array(\u001b[33m\"\u001b[39m\u001b[33mNaT\u001b[39m\u001b[33m\"\u001b[39m, dtype=val.dtype)\n",
      "\u001b[31mValueError\u001b[39m: setting an array element with a sequence. The requested array has an inhomogeneous shape after 1 dimensions. The detected shape was (600,) + inhomogeneous part."
     ]
    }
   ],
   "source": [
    "from tqdm import tqdm\n",
    "\n",
    "llm_reasonings = []\n",
    "llm_distributions = []\n",
    "\n",
    "checkpoint_interval = 50\n",
    "\n",
    "start_idx = 0\n",
    "df_slice = df_representative_100.iloc[start_idx:]\n",
    "\n",
    "for true_idx, row in tqdm(df_representative_100.iloc[start_idx:].iterrows(), total=len(df_representative_100) - start_idx):\n",
    "    reasoning, distribution, _ = query_llm(row, llm_name='google_gemini')\n",
    "    llm_reasonings.append(reasoning)\n",
    "    llm_distributions.append(distribution)\n",
    "\n",
    "    if (true_idx + 1) % checkpoint_interval == 0:\n",
    "        checkpoint_df = df_representative_100.iloc[start_idx:true_idx+1].copy()\n",
    "        checkpoint_df['llm_reasoning'] = llm_reasonings\n",
    "        checkpoint_df['llm_distribution'] = llm_distributions\n",
    "        checkpoint_df.to_csv(f'checkpoint_{true_idx+1}.csv', index=False)\n",
    "\n",
    "df_representative_100.loc[start_idx:, 'llm_reasoning'] = llm_reasonings\n",
    "df_representative_100.loc[start_idx:, 'llm_distribution'] = llm_distributions\n",
    "df_representative_100.to_csv('final_output.csv', index=False)\n",
    "\n",
    "# This cell generally takes about 60 minutes to run"
   ]
  },
  {
   "cell_type": "code",
   "execution_count": null,
   "id": "48432062",
   "metadata": {},
   "outputs": [
    {
     "name": "stdout",
     "output_type": "stream",
     "text": [
      "New shape: (6486, 4)\n"
     ]
    },
    {
     "name": "stderr",
     "output_type": "stream",
     "text": [
      "/var/folders/nk/5zcc814x561cbxxgrncjyscw0000gn/T/ipykernel_71569/345907059.py:2: DeprecationWarning: DataFrameGroupBy.apply operated on the grouping columns. This behavior is deprecated, and in a future version of pandas the grouping columns will be excluded from the operation. Either pass `include_groups=False` to exclude the groupings or explicitly select the grouping columns after groupby to silence this warning.\n",
      "  df_long = df_long.groupby('country').apply(lambda x: x.sample(min(len(x), 50))).reset_index(drop=True)\n"
     ]
    }
   ],
   "source": [
    "df_long = df_long.groupby('country').apply(lambda x: x.sample(min(len(x), 50))).reset_index(drop=True)\n",
    "df_long.shape"
   ]
  },
  {
   "cell_type": "code",
   "execution_count": null,
   "id": "53cef2c8",
   "metadata": {},
   "outputs": [
    {
     "name": "stderr",
     "output_type": "stream",
     "text": [
      "100%|██████████| 5786/5786 [10:46:06<00:00,  6.70s/it]  \n"
     ]
    },
    {
     "ename": "ValueError",
     "evalue": "setting an array element with a sequence. The requested array has an inhomogeneous shape after 1 dimensions. The detected shape was (5786,) + inhomogeneous part.",
     "output_type": "error",
     "traceback": [
      "\u001b[31m---------------------------------------------------------------------------\u001b[39m",
      "\u001b[31mValueError\u001b[39m                                Traceback (most recent call last)",
      "\u001b[36mCell\u001b[39m\u001b[36m \u001b[39m\u001b[32mIn[23]\u001b[39m\u001b[32m, line 24\u001b[39m\n\u001b[32m     21\u001b[39m         checkpoint_df.to_csv(\u001b[33mf\u001b[39m\u001b[33m'\u001b[39m\u001b[33mcheckpoint_\u001b[39m\u001b[38;5;132;01m{\u001b[39;00mtrue_idx+\u001b[32m1\u001b[39m\u001b[38;5;132;01m}\u001b[39;00m\u001b[33m.csv\u001b[39m\u001b[33m'\u001b[39m, index=\u001b[38;5;28;01mFalse\u001b[39;00m)\n\u001b[32m     23\u001b[39m df_long.loc[start_idx:, \u001b[33m'\u001b[39m\u001b[33mllm_reasoning\u001b[39m\u001b[33m'\u001b[39m] = llm_reasonings\n\u001b[32m---> \u001b[39m\u001b[32m24\u001b[39m \u001b[43mdf_long\u001b[49m\u001b[43m.\u001b[49m\u001b[43mloc\u001b[49m\u001b[43m[\u001b[49m\u001b[43mstart_idx\u001b[49m\u001b[43m:\u001b[49m\u001b[43m,\u001b[49m\u001b[43m \u001b[49m\u001b[33;43m'\u001b[39;49m\u001b[33;43mllm_distribution\u001b[39;49m\u001b[33;43m'\u001b[39;49m\u001b[43m]\u001b[49m = llm_distributions\n\u001b[32m     25\u001b[39m df_long.to_csv(\u001b[33m'\u001b[39m\u001b[33mfinal_output.csv\u001b[39m\u001b[33m'\u001b[39m, index=\u001b[38;5;28;01mFalse\u001b[39;00m)\n\u001b[32m     27\u001b[39m \u001b[38;5;66;03m# I predict 10-20 hour runtime\u001b[39;00m\n",
      "\u001b[36mFile \u001b[39m\u001b[32m~/GlobalOpinionBench/.venv/lib/python3.13/site-packages/pandas/core/indexing.py:911\u001b[39m, in \u001b[36m_LocationIndexer.__setitem__\u001b[39m\u001b[34m(self, key, value)\u001b[39m\n\u001b[32m    908\u001b[39m \u001b[38;5;28mself\u001b[39m._has_valid_setitem_indexer(key)\n\u001b[32m    910\u001b[39m iloc = \u001b[38;5;28mself\u001b[39m \u001b[38;5;28;01mif\u001b[39;00m \u001b[38;5;28mself\u001b[39m.name == \u001b[33m\"\u001b[39m\u001b[33miloc\u001b[39m\u001b[33m\"\u001b[39m \u001b[38;5;28;01melse\u001b[39;00m \u001b[38;5;28mself\u001b[39m.obj.iloc\n\u001b[32m--> \u001b[39m\u001b[32m911\u001b[39m \u001b[43miloc\u001b[49m\u001b[43m.\u001b[49m\u001b[43m_setitem_with_indexer\u001b[49m\u001b[43m(\u001b[49m\u001b[43mindexer\u001b[49m\u001b[43m,\u001b[49m\u001b[43m \u001b[49m\u001b[43mvalue\u001b[49m\u001b[43m,\u001b[49m\u001b[43m \u001b[49m\u001b[38;5;28;43mself\u001b[39;49m\u001b[43m.\u001b[49m\u001b[43mname\u001b[49m\u001b[43m)\u001b[49m\n",
      "\u001b[36mFile \u001b[39m\u001b[32m~/GlobalOpinionBench/.venv/lib/python3.13/site-packages/pandas/core/indexing.py:1885\u001b[39m, in \u001b[36m_iLocIndexer._setitem_with_indexer\u001b[39m\u001b[34m(self, indexer, value, name)\u001b[39m\n\u001b[32m   1880\u001b[39m     \u001b[38;5;28mself\u001b[39m.obj[key] = construct_1d_array_from_inferred_fill_value(\n\u001b[32m   1881\u001b[39m         value, \u001b[38;5;28mlen\u001b[39m(\u001b[38;5;28mself\u001b[39m.obj)\n\u001b[32m   1882\u001b[39m     )\n\u001b[32m   1883\u001b[39m \u001b[38;5;28;01melse\u001b[39;00m:\n\u001b[32m   1884\u001b[39m     \u001b[38;5;66;03m# FIXME: GH#42099#issuecomment-864326014\u001b[39;00m\n\u001b[32m-> \u001b[39m\u001b[32m1885\u001b[39m     \u001b[38;5;28mself\u001b[39m.obj[key] = \u001b[43minfer_fill_value\u001b[49m\u001b[43m(\u001b[49m\u001b[43mvalue\u001b[49m\u001b[43m)\u001b[49m\n\u001b[32m   1887\u001b[39m new_indexer = convert_from_missing_indexer_tuple(\n\u001b[32m   1888\u001b[39m     indexer, \u001b[38;5;28mself\u001b[39m.obj.axes\n\u001b[32m   1889\u001b[39m )\n\u001b[32m   1890\u001b[39m \u001b[38;5;28mself\u001b[39m._setitem_with_indexer(new_indexer, value, name)\n",
      "\u001b[36mFile \u001b[39m\u001b[32m~/GlobalOpinionBench/.venv/lib/python3.13/site-packages/pandas/core/dtypes/missing.py:635\u001b[39m, in \u001b[36minfer_fill_value\u001b[39m\u001b[34m(val)\u001b[39m\n\u001b[32m    633\u001b[39m \u001b[38;5;28;01mif\u001b[39;00m \u001b[38;5;129;01mnot\u001b[39;00m is_list_like(val):\n\u001b[32m    634\u001b[39m     val = [val]\n\u001b[32m--> \u001b[39m\u001b[32m635\u001b[39m val = \u001b[43mnp\u001b[49m\u001b[43m.\u001b[49m\u001b[43masarray\u001b[49m\u001b[43m(\u001b[49m\u001b[43mval\u001b[49m\u001b[43m)\u001b[49m\n\u001b[32m    636\u001b[39m \u001b[38;5;28;01mif\u001b[39;00m val.dtype.kind \u001b[38;5;129;01min\u001b[39;00m \u001b[33m\"\u001b[39m\u001b[33mmM\u001b[39m\u001b[33m\"\u001b[39m:\n\u001b[32m    637\u001b[39m     \u001b[38;5;28;01mreturn\u001b[39;00m np.array(\u001b[33m\"\u001b[39m\u001b[33mNaT\u001b[39m\u001b[33m\"\u001b[39m, dtype=val.dtype)\n",
      "\u001b[31mValueError\u001b[39m: setting an array element with a sequence. The requested array has an inhomogeneous shape after 1 dimensions. The detected shape was (5786,) + inhomogeneous part."
     ]
    }
   ],
   "source": [
    "from tqdm import tqdm\n",
    "\n",
    "llm_reasonings = []\n",
    "llm_distributions = []\n",
    "\n",
    "checkpoint_interval = 50\n",
    "\n",
    "start_idx = 700 \n",
    "df_slice = df_long.iloc[start_idx:]\n",
    "\n",
    "for true_idx, row in tqdm(df_long.iloc[start_idx:].iterrows(), total=len(df_long) - start_idx):\n",
    "    reasoning, distribution, _ = query_llm(row, llm_name='openai_gpt')\n",
    "    llm_reasonings.append(reasoning)\n",
    "    llm_distributions.append(distribution)\n",
    "\n",
    "    if (true_idx + 1) % checkpoint_interval == 0:\n",
    "        checkpoint_df = df_long.iloc[start_idx:true_idx+1].copy()\n",
    "        checkpoint_df['llm_reasoning'] = llm_reasonings\n",
    "        checkpoint_df['llm_distribution'] = llm_distributions\n",
    "        checkpoint_df.to_csv(f'checkpoint_{true_idx+1}.csv', index=False)\n",
    "\n",
    "df_long.loc[start_idx:, 'llm_reasoning'] = llm_reasonings\n",
    "df_long.loc[start_idx:, 'llm_distribution'] = llm_distributions\n",
    "df_long.to_csv('final_output.csv', index=False)\n",
    "\n",
    "# I predict 10-20 hour runtime"
   ]
  },
  {
   "cell_type": "code",
   "execution_count": null,
   "id": "58e6a24f",
   "metadata": {},
   "outputs": [
    {
     "ename": "ValueError",
     "evalue": "Must have equal len keys and value when setting with an ndarray",
     "output_type": "error",
     "traceback": [
      "\u001b[31m---------------------------------------------------------------------------\u001b[39m",
      "\u001b[31mValueError\u001b[39m                                Traceback (most recent call last)",
      "\u001b[36mCell\u001b[39m\u001b[36m \u001b[39m\u001b[32mIn[26]\u001b[39m\u001b[32m, line 11\u001b[39m\n\u001b[32m      9\u001b[39m \u001b[38;5;66;03m# Now assign to dataframe using exact indices\u001b[39;00m\n\u001b[32m     10\u001b[39m df_long.loc[indices, \u001b[33m'\u001b[39m\u001b[33mllm_reasoning\u001b[39m\u001b[33m'\u001b[39m] = llm_reasonings\n\u001b[32m---> \u001b[39m\u001b[32m11\u001b[39m \u001b[43mdf_long\u001b[49m\u001b[43m.\u001b[49m\u001b[43mloc\u001b[49m\u001b[43m[\u001b[49m\u001b[43mindices\u001b[49m\u001b[43m,\u001b[49m\u001b[43m \u001b[49m\u001b[33;43m'\u001b[39;49m\u001b[33;43mllm_distribution\u001b[39;49m\u001b[33;43m'\u001b[39;49m\u001b[43m]\u001b[49m = padded_distributions\n\u001b[32m     12\u001b[39m df_long.to_csv(\u001b[33m'\u001b[39m\u001b[33mfinal_output.csv\u001b[39m\u001b[33m'\u001b[39m, index=\u001b[38;5;28;01mFalse\u001b[39;00m)\n",
      "\u001b[36mFile \u001b[39m\u001b[32m~/GlobalOpinionBench/.venv/lib/python3.13/site-packages/pandas/core/indexing.py:911\u001b[39m, in \u001b[36m_LocationIndexer.__setitem__\u001b[39m\u001b[34m(self, key, value)\u001b[39m\n\u001b[32m    908\u001b[39m \u001b[38;5;28mself\u001b[39m._has_valid_setitem_indexer(key)\n\u001b[32m    910\u001b[39m iloc = \u001b[38;5;28mself\u001b[39m \u001b[38;5;28;01mif\u001b[39;00m \u001b[38;5;28mself\u001b[39m.name == \u001b[33m\"\u001b[39m\u001b[33miloc\u001b[39m\u001b[33m\"\u001b[39m \u001b[38;5;28;01melse\u001b[39;00m \u001b[38;5;28mself\u001b[39m.obj.iloc\n\u001b[32m--> \u001b[39m\u001b[32m911\u001b[39m \u001b[43miloc\u001b[49m\u001b[43m.\u001b[49m\u001b[43m_setitem_with_indexer\u001b[49m\u001b[43m(\u001b[49m\u001b[43mindexer\u001b[49m\u001b[43m,\u001b[49m\u001b[43m \u001b[49m\u001b[43mvalue\u001b[49m\u001b[43m,\u001b[49m\u001b[43m \u001b[49m\u001b[38;5;28;43mself\u001b[39;49m\u001b[43m.\u001b[49m\u001b[43mname\u001b[49m\u001b[43m)\u001b[49m\n",
      "\u001b[36mFile \u001b[39m\u001b[32m~/GlobalOpinionBench/.venv/lib/python3.13/site-packages/pandas/core/indexing.py:1942\u001b[39m, in \u001b[36m_iLocIndexer._setitem_with_indexer\u001b[39m\u001b[34m(self, indexer, value, name)\u001b[39m\n\u001b[32m   1939\u001b[39m \u001b[38;5;66;03m# align and set the values\u001b[39;00m\n\u001b[32m   1940\u001b[39m \u001b[38;5;28;01mif\u001b[39;00m take_split_path:\n\u001b[32m   1941\u001b[39m     \u001b[38;5;66;03m# We have to operate column-wise\u001b[39;00m\n\u001b[32m-> \u001b[39m\u001b[32m1942\u001b[39m     \u001b[38;5;28;43mself\u001b[39;49m\u001b[43m.\u001b[49m\u001b[43m_setitem_with_indexer_split_path\u001b[49m\u001b[43m(\u001b[49m\u001b[43mindexer\u001b[49m\u001b[43m,\u001b[49m\u001b[43m \u001b[49m\u001b[43mvalue\u001b[49m\u001b[43m,\u001b[49m\u001b[43m \u001b[49m\u001b[43mname\u001b[49m\u001b[43m)\u001b[49m\n\u001b[32m   1943\u001b[39m \u001b[38;5;28;01melse\u001b[39;00m:\n\u001b[32m   1944\u001b[39m     \u001b[38;5;28mself\u001b[39m._setitem_single_block(indexer, value, name)\n",
      "\u001b[36mFile \u001b[39m\u001b[32m~/GlobalOpinionBench/.venv/lib/python3.13/site-packages/pandas/core/indexing.py:1982\u001b[39m, in \u001b[36m_iLocIndexer._setitem_with_indexer_split_path\u001b[39m\u001b[34m(self, indexer, value, name)\u001b[39m\n\u001b[32m   1977\u001b[39m     \u001b[38;5;28mself\u001b[39m._setitem_with_indexer_frame_value(indexer, value, name)\n\u001b[32m   1979\u001b[39m \u001b[38;5;28;01melif\u001b[39;00m np.ndim(value) == \u001b[32m2\u001b[39m:\n\u001b[32m   1980\u001b[39m     \u001b[38;5;66;03m# TODO: avoid np.ndim call in case it isn't an ndarray, since\u001b[39;00m\n\u001b[32m   1981\u001b[39m     \u001b[38;5;66;03m#  that will construct an ndarray, which will be wasteful\u001b[39;00m\n\u001b[32m-> \u001b[39m\u001b[32m1982\u001b[39m     \u001b[38;5;28;43mself\u001b[39;49m\u001b[43m.\u001b[49m\u001b[43m_setitem_with_indexer_2d_value\u001b[49m\u001b[43m(\u001b[49m\u001b[43mindexer\u001b[49m\u001b[43m,\u001b[49m\u001b[43m \u001b[49m\u001b[43mvalue\u001b[49m\u001b[43m)\u001b[49m\n\u001b[32m   1984\u001b[39m \u001b[38;5;28;01melif\u001b[39;00m \u001b[38;5;28mlen\u001b[39m(ilocs) == \u001b[32m1\u001b[39m \u001b[38;5;129;01mand\u001b[39;00m lplane_indexer == \u001b[38;5;28mlen\u001b[39m(value) \u001b[38;5;129;01mand\u001b[39;00m \u001b[38;5;129;01mnot\u001b[39;00m is_scalar(pi):\n\u001b[32m   1985\u001b[39m     \u001b[38;5;66;03m# We are setting multiple rows in a single column.\u001b[39;00m\n\u001b[32m   1986\u001b[39m     \u001b[38;5;28mself\u001b[39m._setitem_single_column(ilocs[\u001b[32m0\u001b[39m], value, pi)\n",
      "\u001b[36mFile \u001b[39m\u001b[32m~/GlobalOpinionBench/.venv/lib/python3.13/site-packages/pandas/core/indexing.py:2048\u001b[39m, in \u001b[36m_iLocIndexer._setitem_with_indexer_2d_value\u001b[39m\u001b[34m(self, indexer, value)\u001b[39m\n\u001b[32m   2046\u001b[39m     value = np.array(value, dtype=\u001b[38;5;28mobject\u001b[39m)\n\u001b[32m   2047\u001b[39m \u001b[38;5;28;01mif\u001b[39;00m \u001b[38;5;28mlen\u001b[39m(ilocs) != value.shape[\u001b[32m1\u001b[39m]:\n\u001b[32m-> \u001b[39m\u001b[32m2048\u001b[39m     \u001b[38;5;28;01mraise\u001b[39;00m \u001b[38;5;167;01mValueError\u001b[39;00m(\n\u001b[32m   2049\u001b[39m         \u001b[33m\"\u001b[39m\u001b[33mMust have equal len keys and value when setting with an ndarray\u001b[39m\u001b[33m\"\u001b[39m\n\u001b[32m   2050\u001b[39m     )\n\u001b[32m   2052\u001b[39m \u001b[38;5;28;01mfor\u001b[39;00m i, loc \u001b[38;5;129;01min\u001b[39;00m \u001b[38;5;28menumerate\u001b[39m(ilocs):\n\u001b[32m   2053\u001b[39m     value_col = value[:, i]\n",
      "\u001b[31mValueError\u001b[39m: Must have equal len keys and value when setting with an ndarray"
     ]
    }
   ],
   "source": [
    "max_len = max(len(d) for d in llm_distributions)\n",
    "padded_distributions = [d + [0.0] * (max_len - len(d)) if d else [0.0] * max_len for d in llm_distributions]\n",
    "\n",
    "end_idx = start_idx + len(llm_reasonings)\n",
    "indices = range(start_idx, end_idx)\n",
    "\n",
    "df_long.loc[indices, 'llm_reasoning'] = llm_reasonings\n",
    "df_long.loc[indices, 'llm_distribution'] = padded_distributions\n",
    "df_long.to_csv('final_output.csv', index=False)"
   ]
  },
  {
   "cell_type": "code",
   "execution_count": null,
   "id": "b42a584f",
   "metadata": {},
   "outputs": [
    {
     "name": "stdout",
     "output_type": "stream",
     "text": [
      "(6450, 6)\n"
     ]
    },
    {
     "data": {
      "text/html": [
       "<div>\n",
       "<style scoped>\n",
       "    .dataframe tbody tr th:only-of-type {\n",
       "        vertical-align: middle;\n",
       "    }\n",
       "\n",
       "    .dataframe tbody tr th {\n",
       "        vertical-align: top;\n",
       "    }\n",
       "\n",
       "    .dataframe thead th {\n",
       "        text-align: right;\n",
       "    }\n",
       "</style>\n",
       "<table border=\"1\" class=\"dataframe\">\n",
       "  <thead>\n",
       "    <tr style=\"text-align: right;\">\n",
       "      <th></th>\n",
       "      <th>question</th>\n",
       "      <th>country</th>\n",
       "      <th>selections</th>\n",
       "      <th>options</th>\n",
       "      <th>llm_reasoning</th>\n",
       "      <th>llm_distribution</th>\n",
       "    </tr>\n",
       "  </thead>\n",
       "  <tbody>\n",
       "    <tr>\n",
       "      <th>0</th>\n",
       "      <td>Now I'd like you to tell me your views on vari...</td>\n",
       "      <td>Albania</td>\n",
       "      <td>[0.251, 0.102, 0.127, 0.102, 0.167, 0.066, 0.0...</td>\n",
       "      <td>['Competition is good', '2', '3', '4', '5', '6...</td>\n",
       "      <td>Albania is a country with a transitioning econ...</td>\n",
       "      <td>[0.15, 0.1, 0.1, 0.1, 0.1, 0.1, 0.05, 0.1, 0.0...</td>\n",
       "    </tr>\n",
       "    <tr>\n",
       "      <th>1</th>\n",
       "      <td>Now I'd like you to tell me your views on vari...</td>\n",
       "      <td>Albania</td>\n",
       "      <td>[0.16399999999999998, 0.057, 0.081999999999999...</td>\n",
       "      <td>['The government should take more responsibili...</td>\n",
       "      <td>Albania is a country with a history of a stron...</td>\n",
       "      <td>[0.25, 0.1, 0.1, 0.1, 0.1, 0.1, 0.05, 0.05, 0....</td>\n",
       "    </tr>\n",
       "    <tr>\n",
       "      <th>2</th>\n",
       "      <td>In which of the following things do you believ...</td>\n",
       "      <td>Albania</td>\n",
       "      <td>[0.456, 0.46399999999999997, 0.066, 0.012, 0.001]</td>\n",
       "      <td>['Yes', 'No', \"Don't know\", 'No answer', 'Othe...</td>\n",
       "      <td>Albania is a country with a diverse religious ...</td>\n",
       "      <td>[0.4, 0.35, 0.15, 0.1, 0.0]</td>\n",
       "    </tr>\n",
       "    <tr>\n",
       "      <th>3</th>\n",
       "      <td>I ‘d like to ask you how much you trust people...</td>\n",
       "      <td>Albania</td>\n",
       "      <td>[0.066, 0.405, 0.312, 0.16, 0.045, 0.01, 0.002]</td>\n",
       "      <td>['Trust completely', 'Trust somewhat', 'Do not...</td>\n",
       "      <td>Albania is a country with a diverse religious ...</td>\n",
       "      <td>[0.15, 0.5, 0.2, 0.1, 0.03, 0.02, 0.0]</td>\n",
       "    </tr>\n",
       "    <tr>\n",
       "      <th>4</th>\n",
       "      <td>I'm going to read out a list of various change...</td>\n",
       "      <td>Albania</td>\n",
       "      <td>[0.309, 0.189, 0.466, 0.028999999999999998, 0....</td>\n",
       "      <td>['Good thing', \"Don't mind\", 'Bad thing', \"Don...</td>\n",
       "      <td>Albania is a country with a strong work ethic,...</td>\n",
       "      <td>[0.25, 0.15, 0.5, 0.05, 0.03, 0.02]</td>\n",
       "    </tr>\n",
       "  </tbody>\n",
       "</table>\n",
       "</div>"
      ],
      "text/plain": [
       "                                            question  country  \\\n",
       "0  Now I'd like you to tell me your views on vari...  Albania   \n",
       "1  Now I'd like you to tell me your views on vari...  Albania   \n",
       "2  In which of the following things do you believ...  Albania   \n",
       "3  I ‘d like to ask you how much you trust people...  Albania   \n",
       "4  I'm going to read out a list of various change...  Albania   \n",
       "\n",
       "                                          selections  \\\n",
       "0  [0.251, 0.102, 0.127, 0.102, 0.167, 0.066, 0.0...   \n",
       "1  [0.16399999999999998, 0.057, 0.081999999999999...   \n",
       "2  [0.456, 0.46399999999999997, 0.066, 0.012, 0.001]   \n",
       "3    [0.066, 0.405, 0.312, 0.16, 0.045, 0.01, 0.002]   \n",
       "4  [0.309, 0.189, 0.466, 0.028999999999999998, 0....   \n",
       "\n",
       "                                             options  \\\n",
       "0  ['Competition is good', '2', '3', '4', '5', '6...   \n",
       "1  ['The government should take more responsibili...   \n",
       "2  ['Yes', 'No', \"Don't know\", 'No answer', 'Othe...   \n",
       "3  ['Trust completely', 'Trust somewhat', 'Do not...   \n",
       "4  ['Good thing', \"Don't mind\", 'Bad thing', \"Don...   \n",
       "\n",
       "                                       llm_reasoning  \\\n",
       "0  Albania is a country with a transitioning econ...   \n",
       "1  Albania is a country with a history of a stron...   \n",
       "2  Albania is a country with a diverse religious ...   \n",
       "3  Albania is a country with a diverse religious ...   \n",
       "4  Albania is a country with a strong work ethic,...   \n",
       "\n",
       "                                    llm_distribution  \n",
       "0  [0.15, 0.1, 0.1, 0.1, 0.1, 0.1, 0.05, 0.1, 0.0...  \n",
       "1  [0.25, 0.1, 0.1, 0.1, 0.1, 0.1, 0.05, 0.05, 0....  \n",
       "2                        [0.4, 0.35, 0.15, 0.1, 0.0]  \n",
       "3             [0.15, 0.5, 0.2, 0.1, 0.03, 0.02, 0.0]  \n",
       "4                [0.25, 0.15, 0.5, 0.05, 0.03, 0.02]  "
      ]
     },
     "execution_count": 27,
     "metadata": {},
     "output_type": "execute_result"
    }
   ],
   "source": [
    "csv_files = [\n",
    "    \"checkpoint_700.csv\",\n",
    "    \"checkpoint_6450.csv\"\n",
    "]\n",
    "\n",
    "dfs = [pd.read_csv(f) for f in csv_files]\n",
    "df_merged = pd.concat(dfs, ignore_index=True)\n",
    "\n",
    "print(df_merged.shape)\n",
    "df_merged.head()"
   ]
  },
  {
   "cell_type": "code",
   "execution_count": 28,
   "id": "6bbda3d3",
   "metadata": {},
   "outputs": [],
   "source": [
    "df_merged.to_csv(\"gpt4.1-all.csv\")"
   ]
  },
  {
   "cell_type": "code",
   "execution_count": null,
   "id": "392b2584",
   "metadata": {},
   "outputs": [
    {
     "name": "stdout",
     "output_type": "stream",
     "text": [
      "Country-by-country mean Jensen-Shannon distance:\n",
      "country\n",
      "Brazil           0.290824\n",
      "China            0.355871\n",
      "Nigeria          0.327206\n",
      "Pakistan         0.317631\n",
      "Sweden           0.317541\n",
      "United States    0.270302\n",
      "Name: jsd, dtype: float64\n",
      "\n",
      "Overall mean Jensen-Shannon distance: 0.3133\n"
     ]
    },
    {
     "name": "stderr",
     "output_type": "stream",
     "text": [
      "/Users/andrew/GlobalOpinionBench/.venv/lib/python3.13/site-packages/scipy/spatial/distance.py:1381: RuntimeWarning: invalid value encountered in divide\n",
      "  p = p / np.sum(p, axis=axis, keepdims=True)\n",
      "/Users/andrew/GlobalOpinionBench/.venv/lib/python3.13/site-packages/scipy/spatial/distance.py:1382: RuntimeWarning: invalid value encountered in divide\n",
      "  q = q / np.sum(q, axis=axis, keepdims=True)\n",
      "/var/folders/nk/5zcc814x561cbxxgrncjyscw0000gn/T/ipykernel_3505/644920654.py:38: UserWarning: This pattern is interpreted as a regular expression, and has match groups. To actually get the groups, use str.extract.\n",
      "  country_jsd = country_jsd[~country_jsd.index.str.contains('(Non-national sample)')]\n"
     ]
    }
   ],
   "source": [
    "import pandas as pd\n",
    "import numpy as np\n",
    "from scipy.spatial.distance import jensenshannon\n",
    "\n",
    "df_representative_100 = pd.read_csv('/Users/andrew/GlobalOpinionBench/responses/benchmark/gemini.csv')\n",
    "\n",
    "import ast\n",
    "\n",
    "for col in ['llm_distribution', 'selections']:\n",
    "    df_representative_100[col] = df_representative_100[col].apply(\n",
    "        lambda x: ast.literal_eval(x) if isinstance(x, str) else x\n",
    "    )\n",
    "\n",
    "\n",
    "# I had AI write error handling for this function (safe_jsd instead of just calling jensenshannon)\n",
    "def safe_jsd(p, q):\n",
    "    p = np.array(p, dtype=np.float64)\n",
    "    q = np.array(q, dtype=np.float64)\n",
    "    if len(p) != len(q):\n",
    "        max_len = max(len(p), len(q))\n",
    "        p = np.pad(p, (0, max_len - len(p)), constant_values=0)\n",
    "        q = np.pad(q, (0, max_len - len(q)), constant_values=0)\n",
    "    if p.sum() > 0:\n",
    "        p = p / p.sum()\n",
    "    if q.sum() > 0:\n",
    "        q = q / q.sum()\n",
    "    return jensenshannon(p, q, base=2)\n",
    "\n",
    "df_representative_100['jsd'] = [\n",
    "    safe_jsd(row['llm_distribution'], row['selections'])\n",
    "    for _, row in df_representative_100.iterrows()\n",
    "]\n",
    "\n",
    "country_jsd = df_representative_100.groupby('country')['jsd'].mean()\n",
    "print(\"Country-by-country mean Jensen-Shannon distance:\")\n",
    "print(country_jsd)\n",
    "\n",
    "country_jsd = country_jsd[~country_jsd.index.str.contains('(Non-national sample)')]\n",
    "country_jsd.to_frame().reset_index().to_csv('country_jsd.csv', index=False)\n",
    "\n",
    "overall_jsd = df_representative_100['jsd'].mean()\n",
    "print(f\"\\nOverall mean Jensen-Shannon distance: {overall_jsd:.4f}\")"
   ]
  },
  {
   "cell_type": "code",
   "execution_count": 44,
   "id": "c0a87d12",
   "metadata": {},
   "outputs": [],
   "source": [
    "df_representative_100.to_csv('gemini_jsd.csv')"
   ]
  }
 ],
 "metadata": {
  "kernelspec": {
   "display_name": ".venv",
   "language": "python",
   "name": "python3"
  },
  "language_info": {
   "codemirror_mode": {
    "name": "ipython",
    "version": 3
   },
   "file_extension": ".py",
   "mimetype": "text/x-python",
   "name": "python",
   "nbconvert_exporter": "python",
   "pygments_lexer": "ipython3",
   "version": "3.13.3"
  }
 },
 "nbformat": 4,
 "nbformat_minor": 5
}
