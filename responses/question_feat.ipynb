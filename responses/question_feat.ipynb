{
 "cells": [
  {
   "cell_type": "code",
   "execution_count": 2,
   "metadata": {},
   "outputs": [],
   "source": [
    "import pandas as pd\n",
    "\n",
    "df = pd.read_csv('/Users/andrew/GlobalOpinionBench/responses/other/gpt4.1-all.csv')"
   ]
  },
  {
   "cell_type": "code",
   "execution_count": 3,
   "metadata": {},
   "outputs": [
    {
     "data": {
      "text/html": [
       "<div>\n",
       "<style scoped>\n",
       "    .dataframe tbody tr th:only-of-type {\n",
       "        vertical-align: middle;\n",
       "    }\n",
       "\n",
       "    .dataframe tbody tr th {\n",
       "        vertical-align: top;\n",
       "    }\n",
       "\n",
       "    .dataframe thead th {\n",
       "        text-align: right;\n",
       "    }\n",
       "</style>\n",
       "<table border=\"1\" class=\"dataframe\">\n",
       "  <thead>\n",
       "    <tr style=\"text-align: right;\">\n",
       "      <th></th>\n",
       "      <th>Unnamed: 0</th>\n",
       "      <th>question</th>\n",
       "      <th>country</th>\n",
       "      <th>selections</th>\n",
       "      <th>options</th>\n",
       "      <th>llm_reasoning</th>\n",
       "      <th>llm_distribution</th>\n",
       "    </tr>\n",
       "  </thead>\n",
       "  <tbody>\n",
       "    <tr>\n",
       "      <th>0</th>\n",
       "      <td>0</td>\n",
       "      <td>Now I'd like you to tell me your views on vari...</td>\n",
       "      <td>Albania</td>\n",
       "      <td>[0.251, 0.102, 0.127, 0.102, 0.167, 0.066, 0.0...</td>\n",
       "      <td>['Competition is good', '2', '3', '4', '5', '6...</td>\n",
       "      <td>Albania is a country with a transitioning econ...</td>\n",
       "      <td>[0.15, 0.1, 0.1, 0.1, 0.1, 0.1, 0.05, 0.1, 0.0...</td>\n",
       "    </tr>\n",
       "    <tr>\n",
       "      <th>1</th>\n",
       "      <td>1</td>\n",
       "      <td>Now I'd like you to tell me your views on vari...</td>\n",
       "      <td>Albania</td>\n",
       "      <td>[0.16399999999999998, 0.057, 0.081999999999999...</td>\n",
       "      <td>['The government should take more responsibili...</td>\n",
       "      <td>Albania is a country with a history of a stron...</td>\n",
       "      <td>[0.25, 0.1, 0.1, 0.1, 0.1, 0.1, 0.05, 0.05, 0....</td>\n",
       "    </tr>\n",
       "    <tr>\n",
       "      <th>2</th>\n",
       "      <td>2</td>\n",
       "      <td>In which of the following things do you believ...</td>\n",
       "      <td>Albania</td>\n",
       "      <td>[0.456, 0.46399999999999997, 0.066, 0.012, 0.001]</td>\n",
       "      <td>['Yes', 'No', \"Don't know\", 'No answer', 'Othe...</td>\n",
       "      <td>Albania is a country with a diverse religious ...</td>\n",
       "      <td>[0.4, 0.35, 0.15, 0.1, 0.0]</td>\n",
       "    </tr>\n",
       "    <tr>\n",
       "      <th>3</th>\n",
       "      <td>3</td>\n",
       "      <td>I ‘d like to ask you how much you trust people...</td>\n",
       "      <td>Albania</td>\n",
       "      <td>[0.066, 0.405, 0.312, 0.16, 0.045, 0.01, 0.002]</td>\n",
       "      <td>['Trust completely', 'Trust somewhat', 'Do not...</td>\n",
       "      <td>Albania is a country with a diverse religious ...</td>\n",
       "      <td>[0.15, 0.5, 0.2, 0.1, 0.03, 0.02, 0.0]</td>\n",
       "    </tr>\n",
       "    <tr>\n",
       "      <th>4</th>\n",
       "      <td>4</td>\n",
       "      <td>I'm going to read out a list of various change...</td>\n",
       "      <td>Albania</td>\n",
       "      <td>[0.309, 0.189, 0.466, 0.028999999999999998, 0....</td>\n",
       "      <td>['Good thing', \"Don't mind\", 'Bad thing', \"Don...</td>\n",
       "      <td>Albania is a country with a strong work ethic,...</td>\n",
       "      <td>[0.25, 0.15, 0.5, 0.05, 0.03, 0.02]</td>\n",
       "    </tr>\n",
       "  </tbody>\n",
       "</table>\n",
       "</div>"
      ],
      "text/plain": [
       "   Unnamed: 0                                           question  country  \\\n",
       "0           0  Now I'd like you to tell me your views on vari...  Albania   \n",
       "1           1  Now I'd like you to tell me your views on vari...  Albania   \n",
       "2           2  In which of the following things do you believ...  Albania   \n",
       "3           3  I ‘d like to ask you how much you trust people...  Albania   \n",
       "4           4  I'm going to read out a list of various change...  Albania   \n",
       "\n",
       "                                          selections  \\\n",
       "0  [0.251, 0.102, 0.127, 0.102, 0.167, 0.066, 0.0...   \n",
       "1  [0.16399999999999998, 0.057, 0.081999999999999...   \n",
       "2  [0.456, 0.46399999999999997, 0.066, 0.012, 0.001]   \n",
       "3    [0.066, 0.405, 0.312, 0.16, 0.045, 0.01, 0.002]   \n",
       "4  [0.309, 0.189, 0.466, 0.028999999999999998, 0....   \n",
       "\n",
       "                                             options  \\\n",
       "0  ['Competition is good', '2', '3', '4', '5', '6...   \n",
       "1  ['The government should take more responsibili...   \n",
       "2  ['Yes', 'No', \"Don't know\", 'No answer', 'Othe...   \n",
       "3  ['Trust completely', 'Trust somewhat', 'Do not...   \n",
       "4  ['Good thing', \"Don't mind\", 'Bad thing', \"Don...   \n",
       "\n",
       "                                       llm_reasoning  \\\n",
       "0  Albania is a country with a transitioning econ...   \n",
       "1  Albania is a country with a history of a stron...   \n",
       "2  Albania is a country with a diverse religious ...   \n",
       "3  Albania is a country with a diverse religious ...   \n",
       "4  Albania is a country with a strong work ethic,...   \n",
       "\n",
       "                                    llm_distribution  \n",
       "0  [0.15, 0.1, 0.1, 0.1, 0.1, 0.1, 0.05, 0.1, 0.0...  \n",
       "1  [0.25, 0.1, 0.1, 0.1, 0.1, 0.1, 0.05, 0.05, 0....  \n",
       "2                        [0.4, 0.35, 0.15, 0.1, 0.0]  \n",
       "3             [0.15, 0.5, 0.2, 0.1, 0.03, 0.02, 0.0]  \n",
       "4                [0.25, 0.15, 0.5, 0.05, 0.03, 0.02]  "
      ]
     },
     "execution_count": 3,
     "metadata": {},
     "output_type": "execute_result"
    }
   ],
   "source": [
    "df.head()"
   ]
  },
  {
   "cell_type": "code",
   "execution_count": 4,
   "metadata": {},
   "outputs": [],
   "source": [
    "def convert_selections_to_list(df):\n",
    "    df = df.copy()\n",
    "    df['llm_distribution'] = df['llm_distribution'].apply(eval)\n",
    "    df['selections'] = df['selections'].apply(eval)\n",
    "\n",
    "    return df\n",
    "\n",
    "df = convert_selections_to_list(df)"
   ]
  },
  {
   "cell_type": "code",
   "execution_count": 5,
   "metadata": {},
   "outputs": [
    {
     "data": {
      "text/html": [
       "<div>\n",
       "<style scoped>\n",
       "    .dataframe tbody tr th:only-of-type {\n",
       "        vertical-align: middle;\n",
       "    }\n",
       "\n",
       "    .dataframe tbody tr th {\n",
       "        vertical-align: top;\n",
       "    }\n",
       "\n",
       "    .dataframe thead th {\n",
       "        text-align: right;\n",
       "    }\n",
       "</style>\n",
       "<table border=\"1\" class=\"dataframe\">\n",
       "  <thead>\n",
       "    <tr style=\"text-align: right;\">\n",
       "      <th></th>\n",
       "      <th>selections</th>\n",
       "      <th>num_selections</th>\n",
       "    </tr>\n",
       "  </thead>\n",
       "  <tbody>\n",
       "    <tr>\n",
       "      <th>0</th>\n",
       "      <td>[0.251, 0.102, 0.127, 0.102, 0.167, 0.066, 0.0...</td>\n",
       "      <td>13</td>\n",
       "    </tr>\n",
       "    <tr>\n",
       "      <th>1</th>\n",
       "      <td>[0.16399999999999998, 0.057, 0.081999999999999...</td>\n",
       "      <td>13</td>\n",
       "    </tr>\n",
       "    <tr>\n",
       "      <th>2</th>\n",
       "      <td>[0.456, 0.46399999999999997, 0.066, 0.012, 0.001]</td>\n",
       "      <td>5</td>\n",
       "    </tr>\n",
       "    <tr>\n",
       "      <th>3</th>\n",
       "      <td>[0.066, 0.405, 0.312, 0.16, 0.045, 0.01, 0.002]</td>\n",
       "      <td>7</td>\n",
       "    </tr>\n",
       "    <tr>\n",
       "      <th>4</th>\n",
       "      <td>[0.309, 0.189, 0.466, 0.028999999999999998, 0....</td>\n",
       "      <td>6</td>\n",
       "    </tr>\n",
       "  </tbody>\n",
       "</table>\n",
       "</div>"
      ],
      "text/plain": [
       "                                          selections  num_selections\n",
       "0  [0.251, 0.102, 0.127, 0.102, 0.167, 0.066, 0.0...              13\n",
       "1  [0.16399999999999998, 0.057, 0.081999999999999...              13\n",
       "2  [0.456, 0.46399999999999997, 0.066, 0.012, 0.001]               5\n",
       "3    [0.066, 0.405, 0.312, 0.16, 0.045, 0.01, 0.002]               7\n",
       "4  [0.309, 0.189, 0.466, 0.028999999999999998, 0....               6"
      ]
     },
     "execution_count": 5,
     "metadata": {},
     "output_type": "execute_result"
    }
   ],
   "source": [
    "df['num_selections'] = df['selections'].apply(len)\n",
    "\n",
    "df[['selections', 'num_selections']].head()"
   ]
  },
  {
   "cell_type": "code",
   "execution_count": 6,
   "metadata": {},
   "outputs": [],
   "source": [
    "import numpy as np\n",
    "from scipy.spatial.distance import jensenshannon\n",
    "\n",
    "def safe_jsd(p, q):\n",
    "    p = np.array(p, dtype=np.float64)\n",
    "    q = np.array(q, dtype=np.float64)\n",
    "    if len(p) != len(q):\n",
    "        max_len = max(len(p), len(q))\n",
    "        p = np.pad(p, (0, max_len - len(p)), constant_values=0)\n",
    "        q = np.pad(q, (0, max_len - len(q)), constant_values=0)\n",
    "    if p.sum() > 0:\n",
    "        p = p / p.sum()\n",
    "    if q.sum() > 0:\n",
    "        q = q / q.sum()\n",
    "    return jensenshannon(p, q, base=2)"
   ]
  },
  {
   "cell_type": "code",
   "execution_count": 7,
   "metadata": {},
   "outputs": [
    {
     "name": "stderr",
     "output_type": "stream",
     "text": [
      "/Users/andrew/GlobalOpinionBench/.venv/lib/python3.13/site-packages/scipy/spatial/distance.py:1382: RuntimeWarning: invalid value encountered in divide\n",
      "  q = q / np.sum(q, axis=axis, keepdims=True)\n",
      "/Users/andrew/GlobalOpinionBench/.venv/lib/python3.13/site-packages/scipy/spatial/distance.py:1381: RuntimeWarning: invalid value encountered in divide\n",
      "  p = p / np.sum(p, axis=axis, keepdims=True)\n"
     ]
    }
   ],
   "source": [
    "df['jsd'] = [\n",
    "    safe_jsd(row['llm_distribution'], row['selections'])\n",
    "    for _, row in df.iterrows()\n",
    "]"
   ]
  },
  {
   "cell_type": "code",
   "execution_count": 8,
   "metadata": {},
   "outputs": [
    {
     "data": {
      "application/vnd.plotly.v1+json": {
       "config": {
        "plotlyServerURL": "https://plot.ly"
       },
       "data": [
        {
         "hovertemplate": "country=Albania<br>num_selections=%{x}<br>jsd=%{y}<extra></extra>",
         "legendgroup": "Albania",
         "marker": {
          "color": "#636efa",
          "symbol": "circle"
         },
         "mode": "markers",
         "name": "Albania",
         "showlegend": true,
         "type": "scattergl",
         "x": {
          "bdata": "DQ0FBwYNDgUHBQ4HBQ0HDgUHBQYNBgUFBwcFBwgOBQ4GBwUNBw0HCAcGDQcHBwUHBQc=",
          "dtype": "i1"
         },
         "xaxis": "x",
         "y": {
          "bdata": "s6hxHfkozj8E0uEkPO7JPyexvMxbG8w/4ZhQLGY9xz/c3FrQ7zXCPyWJcgsOf9Q/jTNDT85C4j/fc9Yaa+XWP5/PmwBKGtQ/mY2JlXYAxj/oJepPHgnQP/75/Xulx9M/kA+6xIt82j+x23k+RtjSP1794DwZg7c/9NB6CPlJ2j+HODNk9B/FP6YJoTSVV84/ZREQq1DKyD9An6qhUY+9PytU/baMG9A/5zWqw+iEyj/Ste/VhGjUP6iGNtnDSuA/9DgEMiHV1T+HK2rrRenSPx431Iohnbk/R6feqhda0D9+As0eqg7NP3Tr65MUzeQ/dMcxbov2yz/B2wg4K5fVP3R/vdyd/Mk/3D7GQpSf1j9dPsoZuLHFP1GfdVCM3co/R5hVNSaouj/fwOp6xefVPzTTLC9pP8c/KySXz5Wowj/dEYOuwUDAP/HTaACbpc8/mJUCCNrk1D+OhvndXh7OP+m03cYrZMI/DnY/D2MpuT9QTiWwNRDRP/oX2yLZHNE/lcc00BSa2j8nO2BQc4zIPw==",
          "dtype": "f8"
         },
         "yaxis": "y"
        },
        {
         "hovertemplate": "<b>OLS trendline</b><br>jsd = 0.013263 * num_selections + 0.151615<br>R<sup>2</sup>=0.136790<br><br>country=Albania<br>num_selections=%{x}<br>jsd=%{y} <b>(trend)</b><extra></extra>",
         "legendgroup": "Albania",
         "marker": {
          "color": "#636efa",
          "symbol": "circle"
         },
         "mode": "lines",
         "name": "Albania",
         "showlegend": false,
         "type": "scattergl",
         "x": {
          "bdata": "BQUFBQUFBQUFBQUFBQYGBgYGBwcHBwcHBwcHBwcHBwcHBwcICA0NDQ0NDQ0NDg4ODg4=",
          "dtype": "i1"
         },
         "xaxis": "x",
         "y": {
          "bdata": "7TgmMyPlyz/tOCYzI+XLP+04JjMj5cs/7TgmMyPlyz/tOCYzI+XLP+04JjMj5cs/7TgmMyPlyz/tOCYzI+XLP+04JjMj5cs/7TgmMyPlyz/tOCYzI+XLP+04JjMj5cs/7TgmMyPlyz9bK4ovvZfNP1srii+9l80/WyuKL72XzT9bK4ovvZfNP1srii+9l80/yR3uK1dKzz/JHe4rV0rPP8kd7itXSs8/yR3uK1dKzz/JHe4rV0rPP8kd7itXSs8/yR3uK1dKzz/JHe4rV0rPP8kd7itXSs8/yR3uK1dKzz/JHe4rV0rPP8kd7itXSs8/yR3uK1dKzz/JHe4rV0rPP8kd7itXSs8/yR3uK1dKzz/JHe4rV0rPPxwIKZR4ftA/HAgplHh+0D8u5iKL+bzUPy7mIov5vNQ/LuYii/m81D8u5iKL+bzUPy7mIov5vNQ/LuYii/m81D8u5iKL+bzUPy7mIov5vNQ/Zt9UiUaW1T9m31SJRpbVP2bfVIlGltU/Zt9UiUaW1T9m31SJRpbVPw==",
          "dtype": "f8"
         },
         "yaxis": "y"
        },
        {
         "hovertemplate": "country=Andorra<br>num_selections=%{x}<br>jsd=%{y}<extra></extra>",
         "legendgroup": "Andorra",
         "marker": {
          "color": "#EF553B",
          "symbol": "circle"
         },
         "mode": "markers",
         "name": "Andorra",
         "showlegend": true,
         "type": "scattergl",
         "x": {
          "bdata": "DQcOBwcIBQcFBw0NBQUOBQYIBwcFBwcHDQUGBgYIBgcIBQcFDQ4FBgcNDQcGBw0HDQc=",
          "dtype": "i1"
         },
         "xaxis": "x",
         "y": {
          "bdata": "zK4oabCezj+tYRCef8XbP+yF4do8JeI/h+pgWapM1T8lOlEA7ZnQP+JiEKsgreU/xfiOSJUj6D87oNRay/7hPxFNjTEECdc/8Uunkoxr5j+ygOUHZ+3TP4tKfvvNNdw/sAIeMHvK0T8jLkchCarbP4ijJOBx6ts/Sd7xe5Qx0T8CoZVpfva6PwAAAAAAAPh/SP//5vax1j+prnvJ33bQP1lbeZHo+tA/uuze0Rfn0z8xEOitYcfKP9Fyui4+u9c/BPumqBR2yj+NRHw+2tfUP/+SM8Rr99Q/Zu9/OFBe1T/JFRjz0ua2P/KtehywYMY/QyXl948C0D86rZU63y7CP+y0suNy9so/B50hdj3Vxz+RePslWmDMP7A6DX2Bbd0/iQr0hh8i4z+muc2xGMPePxGQIJdCi9o/51yVyQhswj+lR3yXoz3VP4J3MevD89A/hb6Nov3/0D+t62GuS4nBP3viBVRc0Mk/IwHS3eAE2T8RxXv9+wjaPyIlkaKhn9c/kZDm4gP/yT8phkElVGPdPw==",
          "dtype": "f8"
         },
         "yaxis": "y"
        },
        {
         "hovertemplate": "<b>OLS trendline</b><br>jsd = 0.00625825 * num_selections + 0.286901<br>R<sup>2</sup>=0.016170<br><br>country=Andorra<br>num_selections=%{x}<br>jsd=%{y} <b>(trend)</b><extra></extra>",
         "legendgroup": "Andorra",
         "marker": {
          "color": "#EF553B",
          "symbol": "circle"
         },
         "mode": "lines",
         "name": "Andorra",
         "showlegend": false,
         "type": "scattergl",
         "x": {
          "bdata": "BQUFBQUFBQUFBQYGBgYGBgYHBwcHBwcHBwcHBwcHBwcHBwgICA0NDQ0NDQ0NDQ4ODg==",
          "dtype": "i1"
         },
         "xaxis": "x",
         "y": {
          "bdata": "lI8l50Jd1D+UjyXnQl3UP5SPJedCXdQ/lI8l50Jd1D+UjyXnQl3UP5SPJedCXdQ/lI8l50Jd1D+UjyXnQl3UP5SPJedCXdQ/lI8l50Jd1D+QqIPsy8PUP5Cog+zLw9Q/kKiD7MvD1D+QqIPsy8PUP5Cog+zLw9Q/kKiD7MvD1D+QqIPsy8PUP4zB4fFUKtU/jMHh8VQq1T+MweHxVCrVP4zB4fFUKtU/jMHh8VQq1T+MweHxVCrVP4zB4fFUKtU/jMHh8VQq1T+MweHxVCrVP4zB4fFUKtU/jMHh8VQq1T+MweHxVCrVP4zB4fFUKtU/jMHh8VQq1T+MweHxVCrVP4zB4fFUKtU/jMHh8VQq1T+I2j/33ZDVP4jaP/fdkNU/iNo/992Q1T9yVxYSi5HXP3JXFhKLkdc/clcWEouR1z9yVxYSi5HXP3JXFhKLkdc/clcWEouR1z9yVxYSi5HXP3JXFhKLkdc/clcWEouR1z9ucHQXFPjXP25wdBcU+Nc/bnB0FxT41z8=",
          "dtype": "f8"
         },
         "yaxis": "y"
        },
        {
         "hovertemplate": "country=Angola<br>num_selections=%{x}<br>jsd=%{y}<extra></extra>",
         "legendgroup": "Angola",
         "marker": {
          "color": "#00cc96",
          "symbol": "circle"
         },
         "mode": "markers",
         "name": "Angola",
         "showlegend": true,
         "type": "scattergl",
         "x": {
          "bdata": "Cws=",
          "dtype": "i1"
         },
         "xaxis": "x",
         "y": {
          "bdata": "ANDyPbiZ0T+F6/7/82HDPw==",
          "dtype": "f8"
         },
         "yaxis": "y"
        },
        {
         "hovertemplate": "<b>OLS trendline</b><br>jsd = 0.0193834<br>R<sup>2</sup>=0.000000<br><br>country=Angola<br>num_selections=%{x}<br>jsd=%{y} <b>(trend)</b><extra></extra>",
         "legendgroup": "Angola",
         "marker": {
          "color": "#00cc96",
          "symbol": "circle"
         },
         "mode": "lines",
         "name": "Angola",
         "showlegend": false,
         "type": "scattergl",
         "x": {
          "bdata": "Cws=",
          "dtype": "i1"
         },
         "xaxis": "x",
         "y": {
          "bdata": "wUXyPbJKyz/BRfI9skrLPw==",
          "dtype": "f8"
         },
         "yaxis": "y"
        },
        {
         "hovertemplate": "country=Angola (Non-national sample)<br>num_selections=%{x}<br>jsd=%{y}<extra></extra>",
         "legendgroup": "Angola (Non-national sample)",
         "marker": {
          "color": "#ab63fa",
          "symbol": "circle"
         },
         "mode": "markers",
         "name": "Angola (Non-national sample)",
         "showlegend": true,
         "type": "scattergl",
         "x": {
          "bdata": "BAQDAgMEAwMCAwUEAwIEBAMEBAMDAgQFAgQFAgIEAwIEAwQCAgsEBAQEBQMCBAMCBAQ=",
          "dtype": "i1"
         },
         "xaxis": "x",
         "y": {
          "bdata": "4N9flq5bvT8Z/BUTfY+0P54jrsrXcbQ/++/Rot392z+XHIm6ZXXTPzVqd2iEesg/elcpTzX1uj9m1eHC0YvgP0om559hKKk/Pdlf0hf21T+hSsYCUjXLP1+bCpNyrMU/9vubGPc/0T8duZ5NYBm9P+U/c6vHr9g/5cv+Aw6Y2D9Gzeurzu/SP7E5O9Xvoqk/+CxTQJHIvj8pWtF00SfIP0DuhGssAcg/9f1yxSz1zT8fDWRbejjbP6B49EXi48w/9c0Ky1TeyD/stmselGfhP23Lu1OlNOQ/eMSxEPS4oD/E3eWR1gF3PxDu94xatdE/jJDsPOSXoD8DzZlkH6HCPy3ldjwvEso/w88HuT+q0j9HTuPWnR/QP17Tk4XAJ8Y/Hl/3JIE9yj8mLcHesebRP3ofZ4GAac4/F+spln4Twz+Y2rjQJqmsP9LcVQN66r4/vyHbb5p53D8CSWGzHADUP8azeX+FALU/rBYOfa6iuT97FQCL9NC5P+kqJtq9Gpo/4APwAzaI2D//a9vB3CLLPw==",
          "dtype": "f8"
         },
         "yaxis": "y"
        },
        {
         "hovertemplate": "<b>OLS trendline</b><br>jsd = 0.0274304 * num_selections + 0.124082<br>R<sup>2</sup>=0.072932<br><br>country=Angola (Non-national sample)<br>num_selections=%{x}<br>jsd=%{y} <b>(trend)</b><extra></extra>",
         "legendgroup": "Angola (Non-national sample)",
         "marker": {
          "color": "#ab63fa",
          "symbol": "circle"
         },
         "mode": "lines",
         "name": "Angola (Non-national sample)",
         "showlegend": false,
         "type": "scattergl",
         "x": {
          "bdata": "AgICAgICAgICAgICAwMDAwMDAwMDAwMDAwQEBAQEBAQEBAQEBAQEBAQEBAQEBQUFBQs=",
          "dtype": "i1"
         },
         "xaxis": "x",
         "y": {
          "bdata": "YDZgZZjnxj9gNmBlmOfGP2A2YGWY58Y/YDZgZZjnxj9gNmBlmOfGP2A2YGWY58Y/YDZgZZjnxj9gNmBlmOfGP2A2YGWY58Y/YDZgZZjnxj9gNmBlmOfGP2A2YGWY58Y/Soj4i29qyj9KiPiLb2rKP0qI+Itvaso/Soj4i29qyj9KiPiLb2rKP0qI+Itvaso/Soj4i29qyj9KiPiLb2rKP0qI+Itvaso/Soj4i29qyj9KiPiLb2rKP0qI+Itvaso/Soj4i29qyj802pCyRu3NPzTakLJG7c0/NNqQskbtzT802pCyRu3NPzTakLJG7c0/NNqQskbtzT802pCyRu3NPzTakLJG7c0/NNqQskbtzT802pCyRu3NPzTakLJG7c0/NNqQskbtzT802pCyRu3NPzTakLJG7c0/NNqQskbtzT802pCyRu3NPzTakLJG7c0/NNqQskbtzT802pCyRu3NPzTakLJG7c0/D5aU7A640D8PlpTsDrjQPw+WlOwOuNA/D5aU7A640D/Ni11glEDbPw==",
          "dtype": "f8"
         },
         "yaxis": "y"
        },
        {
         "hovertemplate": "country=Argentina<br>num_selections=%{x}<br>jsd=%{y}<extra></extra>",
         "legendgroup": "Argentina",
         "marker": {
          "color": "#FFA15A",
          "symbol": "circle"
         },
         "mode": "markers",
         "name": "Argentina",
         "showlegend": true,
         "type": "scattergl",
         "x": {
          "bdata": "Ag0DAwcHBg0FBQ4DBwsFAwQCAwMEBgMECAMFAwQNBQUGBwQCBAMEDQsEAwQNAgUEBQI=",
          "dtype": "i1"
         },
         "xaxis": "x",
         "y": {
          "bdata": "qTihUGTMxz+sXgTi4nDMP1xsNwJhgMc/9tvq3D/7vj8GSqOUGaDUP/KEC7OmBck/xg34cis1yD+poCSoOizKP0TmcWKta90/gx5JLfDTzj8MsUEFcRbWP1mw1+p2x7E/NU/iw+3q4T8Pk0EmVY7OP/byFTHuZMY/83BN0a+1yz8yYrmTDJ+lP27qt6TpiJ4/wsjtnaPLxD82JcJkeUWtPwMxfy5XM70/sdYdE9iDyD+36EjFSjrMPxoo9EtNTbo/IdsDfJnC2z9wHu4MzKfSP6AgMoM0bLg/n5SiUiqvyT+wmiwI82bQP9uS2BXD1s8/+Cj5Hv3K1z+mSO8CWUW+P5K+ImnjsLk/yKPcvNlcwT+N8EkPuDrSP8QC04neD9M/heQ2Qx392j9VAjHklTXRP3hegN0Oxsc/wi+KRqZx0j91z/RUCHndP0FMGDpzhr8/XL5zVz9O0j9oPjVERASmPz8t/vqGbsw/ROsWlu2xtD8GczACWgbSPxWlclhayc4/QojNMoH0vT/PP0IDx6rKPw==",
          "dtype": "f8"
         },
         "yaxis": "y"
        },
        {
         "hovertemplate": "<b>OLS trendline</b><br>jsd = 0.011136 * num_selections + 0.156334<br>R<sup>2</sup>=0.106252<br><br>country=Argentina<br>num_selections=%{x}<br>jsd=%{y} <b>(trend)</b><extra></extra>",
         "legendgroup": "Argentina",
         "marker": {
          "color": "#FFA15A",
          "symbol": "circle"
         },
         "mode": "lines",
         "name": "Argentina",
         "showlegend": false,
         "type": "scattergl",
         "x": {
          "bdata": "AgICAgIDAwMDAwMDAwMDAwQEBAQEBAQEBAQFBQUFBQUFBQYGBgcHBwcICwsNDQ0NDQ4=",
          "dtype": "i1"
         },
         "xaxis": "x",
         "y": {
          "bdata": "MGs50pDcxj8waznSkNzGPzBrOdKQ3MY/MGs50pDcxj8waznSkNzGP9gTWKV4Scg/2BNYpXhJyD/YE1ileEnIP9gTWKV4Scg/2BNYpXhJyD/YE1ileEnIP9gTWKV4Scg/2BNYpXhJyD/YE1ileEnIP9gTWKV4Scg/2BNYpXhJyD+AvHZ4YLbJP4C8dnhgtsk/gLx2eGC2yT+AvHZ4YLbJP4C8dnhgtsk/gLx2eGC2yT+AvHZ4YLbJP4C8dnhgtsk/gLx2eGC2yT+AvHZ4YLbJPyhllUtII8s/KGWVS0gjyz8oZZVLSCPLPyhllUtII8s/KGWVS0gjyz8oZZVLSCPLPyhllUtII8s/KGWVS0gjyz/RDbQeMJDMP9ENtB4wkMw/0Q20HjCQzD95ttLxF/3NP3m20vEX/c0/ebbS8Rf9zT95ttLxF/3NPyJf8cT/ac8/jawmn1vY0T+NrCafW9jRPzZVRXJDRdM/NlVFckNF0z82VUVyQ0XTPzZVRXJDRdM/NlVFckNF0z+KqdRbt/vTPw==",
          "dtype": "f8"
         },
         "yaxis": "y"
        },
        {
         "hovertemplate": "country=Armenia<br>num_selections=%{x}<br>jsd=%{y}<extra></extra>",
         "legendgroup": "Armenia",
         "marker": {
          "color": "#19d3f3",
          "symbol": "circle"
         },
         "mode": "markers",
         "name": "Armenia",
         "showlegend": true,
         "type": "scattergl",
         "x": {
          "bdata": "BQ0HBQYHDgUFCAcODQcHBQ0HBQYGDgUNBwcHBgYHDgUGBwcFDQUNBw0FBwcFBwgNBwY=",
          "dtype": "i1"
         },
         "xaxis": "x",
         "y": {
          "bdata": "k65Tem+zwj+YdBIA8HrMP2F+j+83dN8/nSceFsaR4j8EAu/ouPrIPx6vL/62IsQ/V/sxFAAeyz/qjlvPOKzNP9DvLxSRGNI/YcJcsn/pyj9y5bNnGMjEP+QRT2ocuuE/ZPY81a5vxz9FVCMCd1DIP/D2Q5KUM9E/mzszbWneyj9I0vjjO4fQP32be91Vo88/0Voc/n4xuz/5YByCK6HSP/ppVs6/1sU/XdH3EQwN0z8nCTaeT4bRP+HCjqpH9tM/6jX5mPysyz8O7ZBsfWrLP1bTCqo858I/TQkwO0QCxT8y7RQj+dbWP88E7V+X6cw/U0E9ptJB5T+pkaLddvzcP2E/Qgyhjck/OqNeKL1Ixj/WE+HqYYzWP7zkiRiIjNc/IwZSKY2m0z8XXuLHM1TEP0CXj2VfU9w/2J0vCYDW0j+huDVSvxnKP1jFyz6CAtY/nyau5ZtxzT/yuGew/qO5P9DIjsuUDck/nc+sJwMh3T/CHVKC3VDGP/EC6U+2/9U/fCcePeskvD8hMxXdoevJPw==",
          "dtype": "f8"
         },
         "yaxis": "y"
        },
        {
         "hovertemplate": "<b>OLS trendline</b><br>jsd = 0.0106382 * num_selections + 0.182586<br>R<sup>2</sup>=0.073062<br><br>country=Armenia<br>num_selections=%{x}<br>jsd=%{y} <b>(trend)</b><extra></extra>",
         "legendgroup": "Armenia",
         "marker": {
          "color": "#19d3f3",
          "symbol": "circle"
         },
         "mode": "lines",
         "name": "Armenia",
         "showlegend": false,
         "type": "scattergl",
         "x": {
          "bdata": "BQUFBQUFBQUFBQUFBgYGBgYGBgcHBwcHBwcHBwcHBwcHBwcHCAgNDQ0NDQ0NDQ4ODg4=",
          "dtype": "i1"
         },
         "xaxis": "x",
         "y": {
          "bdata": "aF3Q0O4tzj9oXdDQ7i3OP2hd0NDuLc4/aF3Q0O4tzj9oXdDQ7i3OP2hd0NDuLc4/aF3Q0O4tzj9oXdDQ7i3OP2hd0NDuLc4/aF3Q0O4tzj9oXdDQ7i3OP2hd0NDuLc4/pQXIc4aKzz+lBchzhorPP6UFyHOGis8/pQXIc4aKzz+lBchzhorPP6UFyHOGis8/pQXIc4aKzz/x1l8Lj3PQP/HWXwuPc9A/8dZfC49z0D/x1l8Lj3PQP/HWXwuPc9A/8dZfC49z0D/x1l8Lj3PQP/HWXwuPc9A/8dZfC49z0D/x1l8Lj3PQP/HWXwuPc9A/8dZfC49z0D/x1l8Lj3PQP/HWXwuPc9A/8dZfC49z0D/x1l8Lj3PQP/HWXwuPc9A/EKvb3Noh0T8Qq9vc2iHRP6jPRvRVidQ/qM9G9FWJ1D+oz0b0VYnUP6jPRvRVidQ/qM9G9FWJ1D+oz0b0VYnUP6jPRvRVidQ/qM9G9FWJ1D/Io8LFoTfVP8ijwsWhN9U/yKPCxaE31T/Io8LFoTfVPw==",
          "dtype": "f8"
         },
         "yaxis": "y"
        },
        {
         "hovertemplate": "country=Australia<br>num_selections=%{x}<br>jsd=%{y}<extra></extra>",
         "legendgroup": "Australia",
         "marker": {
          "color": "#FF6692",
          "symbol": "circle"
         },
         "mode": "markers",
         "name": "Australia",
         "showlegend": true,
         "type": "scattergl",
         "x": {
          "bdata": "BQYEBQMEAgcEBQQFBQIIAwMFAwMIBQUEBAMFBAQMBQYGBQIDBwYGBAUHDQUFCQcEBQQ=",
          "dtype": "i1"
         },
         "xaxis": "x",
         "y": {
          "bdata": "uQ9+TTrKzz8bpvPnolvGP+VV7mDdHNA/EqT/l2mkxj9ZCAP9ZM3WPxP/yd0TZ9A/hSgv27CVuj/yB0HEA/XhPxTZKBqK1tM/WXeWlEwf4z+HoGSQbdjMPxn5utZhytA/wtferg2KtD8Cv4bnYv3PP/m//nkN1OM/2m3us09E4D+kpNdSairFP2FtqRFv0M4/MA8fp8b9yj+tOWSRR7/VP+jH0BfOF+I/0XACwZ4ayj/MqeGbWT3TP/rWr8ciK9I/Iw/2b+CE0T8z3EcRb1q+P89OI/UZh8Y/F3iu5ah+wj9NYHyL0cLJPxdRZxCvA8Q/z6u2+DUjzj9d+eimkS/FP1HU2IS+xsE/Ko3gngV21T/peJLVbpCOPyxhmgaMfLI/UixjZ5hOuj+c4nZkxUXUP5UXQgCbPso/OEJnTLKPxz+Cf7XggnfGP+nHJwM699g/I6LMk4Y6wT+tU7kz/pfcP5SzbS31oMo/FeX4p4zM1T/iTsFZqjm9PzS4GoohLbY/ZRjRYIkxuz8f/aEJwcXLPw==",
          "dtype": "f8"
         },
         "yaxis": "y"
        },
        {
         "hovertemplate": "<b>OLS trendline</b><br>jsd = 0.0100753 * num_selections + 0.195902<br>R<sup>2</sup>=0.024565<br><br>country=Australia<br>num_selections=%{x}<br>jsd=%{y} <b>(trend)</b><extra></extra>",
         "legendgroup": "Australia",
         "marker": {
          "color": "#FF6692",
          "symbol": "circle"
         },
         "mode": "lines",
         "name": "Australia",
         "showlegend": false,
         "type": "scattergl",
         "x": {
          "bdata": "AgICAwMDAwMDAwQEBAQEBAQEBAQEBQUFBQUFBQUFBQUFBQUFBgYGBgYHBwcHCAgJDA0=",
          "dtype": "i1"
         },
         "xaxis": "x",
         "y": {
          "bdata": "sucLDJqnyz+y5wsMmqfLP7LnCwyap8s/aWvf8b/xzD9pa9/xv/HMP2lr3/G/8cw/aWvf8b/xzD9pa9/xv/HMP2lr3/G/8cw/aWvf8b/xzD8h77LX5TvOPyHvstflO84/Ie+y1+U7zj8h77LX5TvOPyHvstflO84/Ie+y1+U7zj8h77LX5TvOPyHvstflO84/Ie+y1+U7zj8h77LX5TvOPyHvstflO84/2XKGvQuGzz/Zcoa9C4bPP9lyhr0Lhs8/2XKGvQuGzz/Zcoa9C4bPP9lyhr0Lhs8/2XKGvQuGzz/Zcoa9C4bPP9lyhr0Lhs8/2XKGvQuGzz/Zcoa9C4bPP9lyhr0Lhs8/2XKGvQuGzz/Zcoa9C4bPP9lyhr0Lhs8/SPus0Rho0D9I+6zRGGjQP0j7rNEYaNA/SPus0Rho0D9I+6zRGGjQPyS9lsQrDdE/JL2WxCsN0T8kvZbEKw3RPyS9lsQrDdE/AH+Atz6y0T8Af4C3PrLRP9xAaqpRV9I/cIYng4pG1D9MSBF2nevUPw==",
          "dtype": "f8"
         },
         "yaxis": "y"
        },
        {
         "hovertemplate": "country=Austria<br>num_selections=%{x}<br>jsd=%{y}<extra></extra>",
         "legendgroup": "Austria",
         "marker": {
          "color": "#B6E880",
          "symbol": "circle"
         },
         "mode": "markers",
         "name": "Austria",
         "showlegend": true,
         "type": "scattergl",
         "x": {
          "bdata": "BwcNBgcHBwgIDQcGDgUHBwUHBwUFBwUNDQcHBQcHBQgHBwUHBw0HBg0HDgcHBw0HCA0=",
          "dtype": "i1"
         },
         "xaxis": "x",
         "y": {
          "bdata": "JyIzR21TyT+W9NW6JUrGP0NQMGFe28k/9I+J6m6c1z8MsRKhUs/FP2V8BRV6ZLo/PliQUxjzyz+XS+AgB1PRP9S8uNwoMLk/gGsMWhej1T/WRF9L3cHNP+6HT+GcM8I/jb7XR77a1z9n+hF9O23iP9mvqz7fd88/PpL3SQBgwz+YcwJix3DLP2l/YQKKQsA/PV6CNX3owD+LHpaH+tTBPwk/5aokMMc/yLFK0MIjzz9wM6OPJm7BPxhDHUSvsb4/qx80Q8Us0D+SsGmvQvjLP/oPBAo6x8Y/NpKd44AyzT9Jnoxlpn24P7mNiCRK7sQ/ibJpFzWs3z/YbMqCChzEP/RlX3XaSNA/E4pHsqSi0D8I9jEFQTTXP64NK1ctx8w/HtaT8aEjxD9nXOk0dxi6Pxthu/QdRMY/fT6LgjVf0T9bh8sh+7O+P8ZiUEFs68k/TXLTBjJd3D+Y9z31IeTHP1eJhovbqNc/qYLCLrHfyj8Hx2ZFI3HNPxOv/lMi6s0/bKCZ9vItzT9UfYXjcV3ZPw==",
          "dtype": "f8"
         },
         "yaxis": "y"
        },
        {
         "hovertemplate": "<b>OLS trendline</b><br>jsd = 0.00235138 * num_selections + 0.208741<br>R<sup>2</sup>=0.003933<br><br>country=Austria<br>num_selections=%{x}<br>jsd=%{y} <b>(trend)</b><extra></extra>",
         "legendgroup": "Austria",
         "marker": {
          "color": "#B6E880",
          "symbol": "circle"
         },
         "mode": "lines",
         "name": "Austria",
         "showlegend": false,
         "type": "scattergl",
         "x": {
          "bdata": "BQUFBQUFBQUGBgYHBwcHBwcHBwcHBwcHBwcHBwcHBwcHBwcHCAgICA0NDQ0NDQ0NDg4=",
          "dtype": "i1"
         },
         "xaxis": "x",
         "y": {
          "bdata": "SF9pMkU5zD9IX2kyRTnMP0hfaTJFOcw/SF9pMkU5zD9IX2kyRTnMP0hfaTJFOcw/SF9pMkU5zD9IX2kyRTnMP1nB/gBShsw/WcH+AFKGzD9Zwf4AUobMP2kjlM9e08w/aSOUz17TzD9pI5TPXtPMP2kjlM9e08w/aSOUz17TzD9pI5TPXtPMP2kjlM9e08w/aSOUz17TzD9pI5TPXtPMP2kjlM9e08w/aSOUz17TzD9pI5TPXtPMP2kjlM9e08w/aSOUz17TzD9pI5TPXtPMP2kjlM9e08w/aSOUz17TzD9pI5TPXtPMP2kjlM9e08w/aSOUz17TzD9pI5TPXtPMP2kjlM9e08w/aSOUz17TzD9pI5TPXtPMP2kjlM9e08w/eYUpnmsgzT95hSmeayDNP3mFKZ5rIM0/eYUpnmsgzT/JbxSnq6HOP8lvFKeroc4/yW8Up6uhzj/JbxSnq6HOP8lvFKeroc4/yW8Up6uhzj/JbxSnq6HOP8lvFKeroc4/2dGpdbjuzj/Z0al1uO7OPw==",
          "dtype": "f8"
         },
         "yaxis": "y"
        },
        {
         "hovertemplate": "country=Azerbaijan<br>num_selections=%{x}<br>jsd=%{y}<extra></extra>",
         "legendgroup": "Azerbaijan",
         "marker": {
          "color": "#FF97FF",
          "symbol": "circle"
         },
         "mode": "markers",
         "name": "Azerbaijan",
         "showlegend": true,
         "type": "scattergl",
         "x": {
          "bdata": "BQ0HDQcHDQcFBwcNBw0HBwcIBgYGBQYHBQUHBQcFBwcHDQcNBwcFDggGDg0NBwUNDgU=",
          "dtype": "i1"
         },
         "xaxis": "x",
         "y": {
          "bdata": "TxWDWe6I4z9B2FU8E9fSP7SosZoOe9U/6OwI2ynd3D80bmb1EXHRP1yELnv51NQ/eSjlOFil5z9FFcHu3c7dP9vBvnLkfdo/X0xYboyR1T8fvxEenPnbP4EjLSAhZtE/tk+Hsxl+6D8gJEIHgAfgP7Q0zudJ/tg/46TC1MRg1z+9cMoc6ArkP2x1cIxYGMk/Pwvdl/RIzT+18S3WVLnYP4wmjpnNMdI//UI8gWFExz8z5QW4svHUPzUCPA802sI/jNP5yBjm2T/88yXW/BPeP1uZkUQkLsc/jwExapb42j8mFhXTe06+P7t8/Mkxpdw/n+FDl3p34j+ce8HjVtLTPySd4k9Vpdc/3ialQsAp5D9dlVu9sKvBPxc29rAbHdM//IxlvvCL4T8AqlYg5cbKP5uBSkYRl8s/PU/7iunq4T8AAAAAAAD4f3WgUc+uads/zcM/ytMQ2D+TfDiqM5HkP5NX8Zqj28k/RuPbJy1U0z8IDIULTATSP+9Ov48QzNA/ec5DpJI54j/d7gYIxxDFPw==",
          "dtype": "f8"
         },
         "yaxis": "y"
        },
        {
         "hovertemplate": "<b>OLS trendline</b><br>jsd = 0.0125633 * num_selections + 0.27464<br>R<sup>2</sup>=0.061527<br><br>country=Azerbaijan<br>num_selections=%{x}<br>jsd=%{y} <b>(trend)</b><extra></extra>",
         "legendgroup": "Azerbaijan",
         "marker": {
          "color": "#FF97FF",
          "symbol": "circle"
         },
         "mode": "lines",
         "name": "Azerbaijan",
         "showlegend": false,
         "type": "scattergl",
         "x": {
          "bdata": "BQUFBQUFBQUFBQYGBgYGBwcHBwcHBwcHBwcHBwcHBwcHBwcIDQ0NDQ0NDQ0NDQ4ODg==",
          "dtype": "i1"
         },
         "xaxis": "x",
         "y": {
          "bdata": "r9UIxuGY1T+v1QjG4ZjVP6/VCMbhmNU/r9UIxuGY1T+v1QjG4ZjVP6/VCMbhmNU/r9UIxuGY1T+v1QjG4ZjVP6/VCMbhmNU/r9UIxuGY1T/tx1gAuGbWP+3HWAC4ZtY/7cdYALhm1j/tx1gAuGbWP+3HWAC4ZtY/K7qoOo401z8ruqg6jjTXPyu6qDqONNc/K7qoOo401z8ruqg6jjTXPyu6qDqONNc/K7qoOo401z8ruqg6jjTXPyu6qDqONNc/K7qoOo401z8ruqg6jjTXPyu6qDqONNc/K7qoOo401z8ruqg6jjTXPyu6qDqONNc/K7qoOo401z8ruqg6jjTXPyu6qDqONNc/K7qoOo401z8ruqg6jjTXP2is+HRkAtg/nmeImJMH3D+eZ4iYkwfcP55niJiTB9w/nmeImJMH3D+eZ4iYkwfcP55niJiTB9w/nmeImJMH3D+eZ4iYkwfcP55niJiTB9w/nmeImJMH3D/cWdjSadXcP9xZ2NJp1dw/3FnY0mnV3D8=",
          "dtype": "f8"
         },
         "yaxis": "y"
        },
        {
         "hovertemplate": "country=Bangladesh<br>num_selections=%{x}<br>jsd=%{y}<extra></extra>",
         "legendgroup": "Bangladesh",
         "marker": {
          "color": "#FECB52",
          "symbol": "circle"
         },
         "mode": "markers",
         "name": "Bangladesh",
         "showlegend": true,
         "type": "scattergl",
         "x": {
          "bdata": "BQQIBQQLDQUGBwINBg0HBgUNCAYNDQYHAwYOBQUEAwQFBQIHBwYNBwUHBwcHBAcFBwU=",
          "dtype": "i1"
         },
         "xaxis": "x",
         "y": {
          "bdata": "HilDRDJn5z+Jk32u4wPMP0SlWFGMdNM/8lbfwkRW1T9dCr/+23rZP/dHEdJlV8s/UIRDWTmy0D9MTMlgOdnHP3jfRhSyeuA/S62CFQRt4D+5r/Uqcf6FP/eNe2+bG80/PIh5s4m5yD96p0IjjQvRPzShJVhZAMo/5V6oJmHu3D8rXyrf9JPWPzwng/ucQdI/LNPHZpPj1z9lgPFGUmTKP7I0CrGOPdo/yKLyYAehyT9+996/mPDQP3zyyox0gs4/0kSj6HH2xD8rMVNA5WPQP23kh6nJL+o/2b0gkq4E4z+eriZWm/7JPxzeX8aybdE/DQmz8xrjwz8I+9yMM+/YP7wvRSXa+dI/I1pV5ske1T9ryj7C/5+6P4IlJUQPeeE/dojamzgf4z9jt/VaHuriPyRzpwozntQ/24eC6cG4yz+bWKMNBrDbP8660MmBLNA/OJnnmDz02z90dNXbmerYP24AmHzJUNA/inlb7YDItz+Y5IVwBNnEPwrm8Hr8o84/g6yjCydMyj8yoqhvJnrhPw==",
          "dtype": "f8"
         },
         "yaxis": "y"
        },
        {
         "hovertemplate": "<b>OLS trendline</b><br>jsd = 0.0089306 * num_selections + 0.263302<br>R<sup>2</sup>=0.029434<br><br>country=Bangladesh<br>num_selections=%{x}<br>jsd=%{y} <b>(trend)</b><extra></extra>",
         "legendgroup": "Bangladesh",
         "marker": {
          "color": "#FECB52",
          "symbol": "circle"
         },
         "mode": "lines",
         "name": "Bangladesh",
         "showlegend": false,
         "type": "scattergl",
         "x": {
          "bdata": "AgIDAwQEBAQEBQUFBQUFBQUFBQUGBgYGBgYGBwcHBwcHBwcHBwcHCAgLDQ0NDQ0NDQ4=",
          "dtype": "i1"
         },
         "xaxis": "x",
         "y": {
          "bdata": "HhsR/JX+0T8eGxH8lf7RP0SCRKHnkNI/RIJEoeeQ0j9r6XdGOSPTP2vpd0Y5I9M/a+l3Rjkj0z9r6XdGOSPTP2vpd0Y5I9M/kVCr64q10z+RUKvrirXTP5FQq+uKtdM/kVCr64q10z+RUKvrirXTP5FQq+uKtdM/kVCr64q10z+RUKvrirXTP5FQq+uKtdM/kVCr64q10z+RUKvrirXTP7i33pDcR9Q/uLfekNxH1D+4t96Q3EfUP7i33pDcR9Q/uLfekNxH1D+4t96Q3EfUP7i33pDcR9Q/3h4SNi7a1D/eHhI2LtrUP94eEjYu2tQ/3h4SNi7a1D/eHhI2LtrUP94eEjYu2tQ/3h4SNi7a1D/eHhI2LtrUP94eEjYu2tQ/3h4SNi7a1D/eHhI2LtrUP94eEjYu2tQ/BIZF239s1T8EhkXbf2zVP3i738p0I9c/xIlGFRhI2D/EiUYVGEjYP8SJRhUYSNg/xIlGFRhI2D/EiUYVGEjYP8SJRhUYSNg/xIlGFRhI2D/q8Hm6adrYPw==",
          "dtype": "f8"
         },
         "yaxis": "y"
        },
        {
         "hovertemplate": "country=Bangladesh (Non-national sample)<br>num_selections=%{x}<br>jsd=%{y}<extra></extra>",
         "legendgroup": "Bangladesh (Non-national sample)",
         "marker": {
          "color": "#636efa",
          "symbol": "circle"
         },
         "mode": "markers",
         "name": "Bangladesh (Non-national sample)",
         "showlegend": true,
         "type": "scattergl",
         "x": {
          "bdata": "AgQCBQQLAgIFBAIDBAQDAwMEBAICBAUEAwMCBAUEBAQEAgIEBAIFBAQFBAMEBAMEBAQ=",
          "dtype": "i1"
         },
         "xaxis": "x",
         "y": {
          "bdata": "w/3zYSey1D9XXxuWMCy2Pw7c+r7Tb9g/m8BwTU24yz/U5vsE2YbXPzB/2Nkm69Y/LyYoNl6kuj9nDrMVcKHTP3d7X5jrd9w/NxuT4KQzsT98jkREKxTVP051A1Bv+9I/kPqkYg+U1T9gY5s/PsPSP52LEbrcmNQ/d+H/WSNO4T/PW2/5GbvIP8ZJDF4Qq7w/AGXh/hPJsD8Uy+6WI0DIP3ek0pzuD8g//nOpPdXkxD+ufiuJGdzHP1Nrl8X04sw/QdFq45xk2D+bLcziaYbgP0pD92TCkrI/ygQVbNaT0j/HUKnPEHzFP6yAbEr0VeM/o+sSJ/SwyT+YMihPHcvKPwnu51iwk8c/Fkg95dduyz+AjpVpmJSTP3jB2/v3/8E/+zp7OnIm2D9pVGXRkhnOP56k+ft/984/aZj9ShzJxT/nYjpgSZbaP4XUn9mNLNA/4ORZqeGNxz+tav3uiI/QP4XHw+Vyz8w/Z0XgIu8L1T9jL6dImHjVPzxzjFWMa+E/A4zVeJBO2j8Vw47zbbbVPw==",
          "dtype": "f8"
         },
         "yaxis": "y"
        },
        {
         "hovertemplate": "<b>OLS trendline</b><br>jsd = 0.0099545 * num_selections + 0.231961<br>R<sup>2</sup>=0.011710<br><br>country=Bangladesh (Non-national sample)<br>num_selections=%{x}<br>jsd=%{y} <b>(trend)</b><extra></extra>",
         "legendgroup": "Bangladesh (Non-national sample)",
         "marker": {
          "color": "#636efa",
          "symbol": "circle"
         },
         "mode": "lines",
         "name": "Bangladesh (Non-national sample)",
         "showlegend": false,
         "type": "scattergl",
         "x": {
          "bdata": "AgICAgICAgICAgIDAwMDAwMDAwQEBAQEBAQEBAQEBAQEBAQEBAQEBAQEBAUFBQUFBQs=",
          "dtype": "i1"
         },
         "xaxis": "x",
         "y": {
          "bdata": "tvXZw6Me0D+29dnDox7QP7b12cOjHtA/tvXZw6Me0D+29dnDox7QP7b12cOjHtA/tvXZw6Me0D+29dnDox7QP7b12cOjHtA/tvXZw6Me0D+29dnDox7QPy0STva7wdA/LRJO9rvB0D8tEk72u8HQPy0STva7wdA/LRJO9rvB0D8tEk72u8HQPy0STva7wdA/LRJO9rvB0D+kLsIo1GTRP6QuwijUZNE/pC7CKNRk0T+kLsIo1GTRP6QuwijUZNE/pC7CKNRk0T+kLsIo1GTRP6QuwijUZNE/pC7CKNRk0T+kLsIo1GTRP6QuwijUZNE/pC7CKNRk0T+kLsIo1GTRP6QuwijUZNE/pC7CKNRk0T+kLsIo1GTRP6QuwijUZNE/pC7CKNRk0T+kLsIo1GTRP6QuwijUZNE/pC7CKNRk0T+kLsIo1GTRP6QuwijUZNE/pC7CKNRk0T8bSzZb7AfSPxtLNlvsB9I/G0s2W+wH0j8bSzZb7AfSPxtLNlvsB9I/G0s2W+wH0j/m9e6JfdrVPw==",
          "dtype": "f8"
         },
         "yaxis": "y"
        },
        {
         "hovertemplate": "country=Belarus<br>num_selections=%{x}<br>jsd=%{y}<extra></extra>",
         "legendgroup": "Belarus",
         "marker": {
          "color": "#EF553B",
          "symbol": "circle"
         },
         "mode": "markers",
         "name": "Belarus",
         "showlegend": true,
         "type": "scattergl",
         "x": {
          "bdata": "Bw0HBQgHBw4HBwcNDQcFBwUHDQcFCAYNBw0NBggGDg4HBQcFBQgFDQcNCA0FDg0OBw0=",
          "dtype": "i1"
         },
         "xaxis": "x",
         "y": {
          "bdata": "d/312AW2zj9RPD79Zg7ZP2UZfuw6kcg/kUBEeH0F0D8oSCyFCPm6P7h5Yg41V9o/056/fCoE2T+do1ayFYPeP3uQZryru8M/GR/wi5mc3j9nk7HKAlnXP99qn/3SEd0/vx2hEbbf1T86Yt1eDl+9Px1qhK95ldI/dlJaizR84D+vrSFB9hPOP4inqIDgadQ/OC9DJ5xB4T/iWK5zHknRP7hil6iessY/JGGyYB/x0D/nmpj3jTm8PwBw8MUNY+E/yhZMWkUbtT9Wm5LW7HnDP2rOBbDDDcg/pQiIu/Gh0j/dqI9x3qLMP6BwWmVzWsU/h8VDDUFdyj9JffGDRGPRP+upg/Cte9o/JpLv8D/I4j+pRaiVxdHUP90bor4sG9o/CkacU3qLzT9iDXHfcOvUP5NyzZdMztU/Ch0BLRlqyD9wjYxP+TLQP0TZ1CB7WNM/UI7gMNFJyj8eAeCybQ/UP2erCEd2UtE/JZplRN+r3j8qL3XTBqzPP83vwXxs2uE/5BPWrhoJ1z/RgKq108vEPw==",
          "dtype": "f8"
         },
         "yaxis": "y"
        },
        {
         "hovertemplate": "<b>OLS trendline</b><br>jsd = 0.00762812 * num_selections + 0.236471<br>R<sup>2</sup>=0.038898<br><br>country=Belarus<br>num_selections=%{x}<br>jsd=%{y} <b>(trend)</b><extra></extra>",
         "legendgroup": "Belarus",
         "marker": {
          "color": "#EF553B",
          "symbol": "circle"
         },
         "mode": "lines",
         "name": "Belarus",
         "showlegend": false,
         "type": "scattergl",
         "x": {
          "bdata": "BQUFBQUFBQUFBgYGBwcHBwcHBwcHBwcHBwcHBwgICAgIDQ0NDQ0NDQ0NDQ0NDg4ODg4=",
          "dtype": "i1"
         },
         "xaxis": "x",
         "y": {
          "bdata": "MlmtbjyT0T8yWa1uPJPRPzJZrW48k9E/MlmtbjyT0T8yWa1uPJPRPzJZrW48k9E/MlmtbjyT0T8yWa1uPJPRPzJZrW48k9E/8nMvFTcQ0j/ycy8VNxDSP/JzLxU3ENI/s46xuzGN0j+zjrG7MY3SP7OOsbsxjdI/s46xuzGN0j+zjrG7MY3SP7OOsbsxjdI/s46xuzGN0j+zjrG7MY3SP7OOsbsxjdI/s46xuzGN0j+zjrG7MY3SP7OOsbsxjdI/s46xuzGN0j+zjrG7MY3SP7OOsbsxjdI/s46xuzGN0j9zqTNiLArTP3OpM2IsCtM/c6kzYiwK0z9zqTNiLArTP3OpM2IsCtM/Ni++ohF71T82L76iEXvVPzYvvqIRe9U/Ni++ohF71T82L76iEXvVPzYvvqIRe9U/Ni++ohF71T82L76iEXvVPzYvvqIRe9U/Ni++ohF71T82L76iEXvVPzYvvqIRe9U/9klASQz41T/2SUBJDPjVP/ZJQEkM+NU/9klASQz41T/2SUBJDPjVPw==",
          "dtype": "f8"
         },
         "yaxis": "y"
        },
        {
         "hovertemplate": "country=Belgium<br>num_selections=%{x}<br>jsd=%{y}<extra></extra>",
         "legendgroup": "Belgium",
         "marker": {
          "color": "#00cc96",
          "symbol": "circle"
         },
         "mode": "markers",
         "name": "Belgium",
         "showlegend": true,
         "type": "scattergl",
         "x": {
          "bdata": "AwMFAwUFBAkECAUDBAUFBQUFCwUEAwUDBQQFBAUFBQQDAwMJAwYFBQUKBA0ECQoFBQY=",
          "dtype": "i1"
         },
         "xaxis": "x",
         "y": {
          "bdata": "6lEWLAQ30j/oxYZNu5/HP4bkK1eorMI/2KidVhDmxD/kof/O1IDTP1Vb+zdpldA//KZU0q86uT+eatvb+J/qP5oj2OtLVME/9PC0dOUV6j/0EGHfDLLIP/iokHl4W8c/wHaxc5FqxD8lUUW6ZGvLP05che40+b4/WCCT0Q4R3z/2PgKBljPPP7cnV/6xG8M/nREkYzjH7z8iwZIP5ce2P/+REErL6ro/Ib40ruYVxT/JkJ8UiAnEP0MvzDonULw/RfDG4iqoxD96KvNaevXFPwoMFyg7IcE/oLmPz6Afxz+LiGiyrlXFP8AsdNu6XdA/bIZMDiNpyj9tMNDqDPy4P3q1ihriuMs/0KEZ9nUC0T8oXzT+zA2sP6xq6ShZaek/VVoyG7jxxD8ExlC7hFTGP9rw9D9i3OU/zQSZ8NlB6T/4SFSDl9nQP6joZbF2r+8/rBeE4m9mxD9FzDalBRntP9y/NgAW1cc/LG00Ec8/5z+rBIZqXIXmP3p8oy/Vj80/AQP9rSD6zT8hHnDVLlXZPw==",
          "dtype": "f8"
         },
         "yaxis": "y"
        },
        {
         "hovertemplate": "<b>OLS trendline</b><br>jsd = 0.0997006 * num_selections + -0.204309<br>R<sup>2</sup>=0.711423<br><br>country=Belgium<br>num_selections=%{x}<br>jsd=%{y} <b>(trend)</b><extra></extra>",
         "legendgroup": "Belgium",
         "marker": {
          "color": "#00cc96",
          "symbol": "circle"
         },
         "mode": "lines",
         "name": "Belgium",
         "showlegend": false,
         "type": "scattergl",
         "x": {
          "bdata": "AwMDAwMDAwMDAwQEBAQEBAQEBAUFBQUFBQUFBQUFBQUFBQUFBQUFBQYGCAkJCQoKCw0=",
          "dtype": "i1"
         },
         "xaxis": "x",
         "y": {
          "bdata": "TEEwglhEuD9MQTCCWES4P0xBMIJYRLg/TEEwglhEuD9MQTCCWES4P0xBMIJYRLg/TEEwglhEuD9MQTCCWES4P0xBMIJYRLg/TEEwglhEuD8iXRDbKeXIPyJdENsp5cg/Il0Q2ynlyD8iXRDbKeXIPyJdENsp5cg/Il0Q2ynlyD8iXRDbKeXIPyJdENsp5cg/Il0Q2ynlyD/PTIS6E9TSP89MhLoT1NI/z0yEuhPU0j/PTIS6E9TSP89MhLoT1NI/z0yEuhPU0j/PTIS6E9TSP89MhLoT1NI/z0yEuhPU0j/PTIS6E9TSP89MhLoT1NI/z0yEuhPU0j/PTIS6E9TSP89MhLoT1NI/z0yEuhPU0j/PTIS6E9TSP89MhLoT1NI/z0yEuhPU0j/PTIS6E9TSP89MhLoT1NI/z0yEuhPU0j8Pa4CHkjXZPw9rgIeSNdk/xlO8EEj84j/kYjp3By3mP+RiOncHLeY/5GI6dwct5j8Ecrjdxl3pPwRyuN3GXek/JIE2RIaO7D+xT5mIAnjxPw==",
          "dtype": "f8"
         },
         "yaxis": "y"
        },
        {
         "hovertemplate": "country=Bolivia<br>num_selections=%{x}<br>jsd=%{y}<extra></extra>",
         "legendgroup": "Bolivia",
         "marker": {
          "color": "#ab63fa",
          "symbol": "circle"
         },
         "mode": "markers",
         "name": "Bolivia",
         "showlegend": true,
         "type": "scattergl",
         "x": {
          "bdata": "BQMNBwYHAwcGBQcEBw4OBQUODQYDBQYEBg4NDQYDBwcNBAQFAwcCBgULBQgIBwUHDQU=",
          "dtype": "i1"
         },
         "xaxis": "x",
         "y": {
          "bdata": "PVeoOZC22z/7NBoJn4bHP8EgOcS3NcU/6dfKRy9NzD/v9RiqkmPCPzzqmmOROd8/89BhcMWP3z+yMpMfFrjAP+8Lsy/eOtQ/xlBF47eizT8kgPFeW9i8P7CcbrmlwMU/i3iIM9S5xj/z0Rza5TrkPy8tPCtFVdA/skQmIh96wj82zejI3hHEP58HDjnL5uQ/kM4mnZZK0z/40OnEvgHIP5tsgXflaM0/Gh6t4FBA4T98ub06PJvRPyHNWchNdb4/Prpu4Phd1j8Pv6vPEzjTPyoHyK2txc0/agxAUcsd0T+H1rAUqKPiP8+GKkQgys0/lVHHstzL0j9I6KsguUrGPyy53L3+/cg/1sJvWJAq3T8YKoor1DnBP3iMQMzHg80/KvBLXWvBxz/iBYx6wtDBPxG+gQsJccM/IJIJY7p9wT+egVz7CC7JP7WxOA09eNM/f+8Yh2axxj8AAAAAAAD4f9FajjRONNY/t/D0AnHk0j8u2PRXRVDOP8Ln9bObDdU/muT435Aa0z/OpGa3c2vEPw==",
          "dtype": "f8"
         },
         "yaxis": "y"
        },
        {
         "hovertemplate": "<b>OLS trendline</b><br>jsd = 0.0100116 * num_selections + 0.197608<br>R<sup>2</sup>=0.067837<br><br>country=Bolivia<br>num_selections=%{x}<br>jsd=%{y} <b>(trend)</b><extra></extra>",
         "legendgroup": "Bolivia",
         "marker": {
          "color": "#ab63fa",
          "symbol": "circle"
         },
         "mode": "lines",
         "name": "Bolivia",
         "showlegend": false,
         "type": "scattergl",
         "x": {
          "bdata": "AgMDAwMDBAQEBAUFBQUFBQUFBQUGBgYGBgYGBwcHBwcHBwcHBwgLDQ0NDQ0NDg4ODg==",
          "dtype": "i1"
         },
         "xaxis": "x",
         "y": {
          "bdata": "N9IEhFjbyz8RGLBCaCPNPxEYsEJoI80/ERiwQmgjzT8RGLBCaCPNPxEYsEJoI80/611bAXhrzj/rXVsBeGvOP+tdWwF4a84/611bAXhrzj/EowbAh7PPP8SjBsCHs88/xKMGwIezzz/EowbAh7PPP8SjBsCHs88/xKMGwIezzz/EowbAh7PPP8SjBsCHs88/xKMGwIezzz/EowbAh7PPP8/0WL/LfdA/z/RYv8t90D/P9Fi/y33QP8/0WL/LfdA/z/RYv8t90D/P9Fi/y33QP8/0WL/LfdA/vJeuntMh0T+8l66e0yHRP7yXrp7TIdE/vJeuntMh0T+8l66e0yHRP7yXrp7TIdE/vJeuntMh0T+8l66e0yHRP7yXrp7TIdE/vJeuntMh0T+pOgR+28XRP28jBRzzsdM/SWmw2gL61D9JabDaAvrUP0lpsNoC+tQ/SWmw2gL61D9JabDaAvrUP0lpsNoC+tQ/NgwGugqe1T82DAa6Cp7VPzYMBroKntU/NgwGugqe1T8=",
          "dtype": "f8"
         },
         "yaxis": "y"
        },
        {
         "hovertemplate": "country=Bolivia (Non-national sample)<br>num_selections=%{x}<br>jsd=%{y}<extra></extra>",
         "legendgroup": "Bolivia (Non-national sample)",
         "marker": {
          "color": "#FFA15A",
          "symbol": "circle"
         },
         "mode": "markers",
         "name": "Bolivia (Non-national sample)",
         "showlegend": true,
         "type": "scattergl",
         "x": {
          "bdata": "BAQCBAQCAgUDBgQIBAICAgIEBQQEAgIEAwQCBQQDAgQDBAMEBgQEBgQEBQQDBAIEBAM=",
          "dtype": "i1"
         },
         "xaxis": "x",
         "y": {
          "bdata": "sIOcaXf9vD+o3BpdNwm6PyVmbO9bS8s/bWZc74Ig1j8LuLfSlCzFP7IviixPMrk/vrJyFwOKtz++7SrNAqvRP4iaGBOcicw/2rcNhYCc0T+V6QodiCvEP9MokbnwOs4/8Fs1S3H7wT+3CYA0ASPVPzhElYRXQtQ/ANNfSg+xxD9mNTx8yj/PP3NpwKomLNc/KOwDpk/N5j/CFNjRXrm/P59RAXqaMNU/wNuhCHMttT//4PwJzMvBP2K9wn1i0cI/9izffXphzj/xCTTJ9UjEP2GCa5WPZ50/gcpspckb0D9HQnyLYlfFP0AnUO5rSro/eImHl9NYxD9MpmjDwi3YP71iCizomKI//+N17kUXuz8MQ8UwHYjPP3Wb3HbHkMo/vsjZqCtX2T96ThJuVZ7EP89fPUGnyMs/8+tRI8oq2T+eUqlSFt3LPw8DLhcZf7M/A/TUtSw72T/27ahnrxbRP0y8Uydthc4/iZ812vIDwT9HBxqEPwa8P5ATu3dNess/e+dB4bLhtj9ESJQB9FW2Pw==",
          "dtype": "f8"
         },
         "yaxis": "y"
        },
        {
         "hovertemplate": "<b>OLS trendline</b><br>jsd = 0.0387039 * num_selections + 0.0675873<br>R<sup>2</sup>=0.165770<br><br>country=Bolivia (Non-national sample)<br>num_selections=%{x}<br>jsd=%{y} <b>(trend)</b><extra></extra>",
         "legendgroup": "Bolivia (Non-national sample)",
         "marker": {
          "color": "#FFA15A",
          "symbol": "circle"
         },
         "mode": "lines",
         "name": "Bolivia (Non-national sample)",
         "showlegend": false,
         "type": "scattergl",
         "x": {
          "bdata": "AgICAgICAgICAgICAwMDAwMDAwQEBAQEBAQEBAQEBAQEBAQEBAQEBAQEBQUFBQYGBgg=",
          "dtype": "i1"
         },
         "xaxis": "x",
         "y": {
          "bdata": "NBWIfjKPwj80FYh+Mo/CPzQViH4yj8I/NBWIfjKPwj80FYh+Mo/CPzQViH4yj8I/NBWIfjKPwj80FYh+Mo/CPzQViH4yj8I/NBWIfjKPwj80FYh+Mo/CPzQViH4yj8I/KG9CAnKDxz8ob0ICcoPHPyhvQgJyg8c/KG9CAnKDxz8ob0ICcoPHPyhvQgJyg8c/KG9CAnKDxz8eyfyFsXfMPx7J/IWxd8w/Hsn8hbF3zD8eyfyFsXfMPx7J/IWxd8w/Hsn8hbF3zD8eyfyFsXfMPx7J/IWxd8w/Hsn8hbF3zD8eyfyFsXfMPx7J/IWxd8w/Hsn8hbF3zD8eyfyFsXfMPx7J/IWxd8w/Hsn8hbF3zD8eyfyFsXfMPx7J/IWxd8w/Hsn8hbF3zD8eyfyFsXfMPx7J/IWxd8w/Hsn8hbF3zD8eyfyFsXfMPx7J/IWxd8w/iZHbhPi10D+JkduE+LXQP4mR24T4tdA/iZHbhPi10D+EvrhGGDDTP4S+uEYYMNM/hL64Rhgw0z95GHPKVyTYPw==",
          "dtype": "f8"
         },
         "yaxis": "y"
        },
        {
         "hovertemplate": "country=Bosnia Herzegovina<br>num_selections=%{x}<br>jsd=%{y}<extra></extra>",
         "legendgroup": "Bosnia Herzegovina",
         "marker": {
          "color": "#19d3f3",
          "symbol": "circle"
         },
         "mode": "markers",
         "name": "Bosnia Herzegovina",
         "showlegend": true,
         "type": "scattergl",
         "x": {
          "bdata": "BwcOBwcOBwUHDQ4FDQ0ODQgFBwUHDggHBwgHBwUNBwgHBwcHBwcNDQcHBQ0GBggFDgc=",
          "dtype": "i1"
         },
         "xaxis": "x",
         "y": {
          "bdata": "/uyzrMEU2z/jqUi7iGPFPx9ALBKGr9s//I6tT7dpvD87huK2xm7RPxhYrdwVkdo/BjEJSZdixj9dW+RLd1vRPzGugfQuQdA/y0xxn7AFyj8yI7SBRRDXPy6AwwXKrM0/5/nl41vw0T9cG4oUi93TP+05brkmgeA/9wihO+3Qyz/DzMdjgoTJPwUfZq4+ma4/XCe0RIq4yT9xiVaU6IfSPwJ2PJfys8c/0K9sZjLu1j8m6ehzAXDBP4hS4vG1l8U/1wgku6XZyD84hy7KBJfGP0XYDK5cXMA/eut5FQBAvj8lYxCFGDG+P6sK/NDk69g/84DO0a3X1z+u2gu6kGjFP9QSABkywc8/dF5joDED0T++YcoyeI7TP6w0KjHpW8E/u0/8H5ltuz+owOWk0g3SPxcqxrwLjcI/+/VgY0lS0j/RTbWgIwrCP24PC14iz8Y/Qib4Dh4p3D8AqdfKnr7ZPycnYqR/b8w/YYs8ApIt0z+4NfKuxvXAP12i9sxe3MM/oiiprzeX5j/nE/0uSpi/Pw==",
          "dtype": "f8"
         },
         "yaxis": "y"
        },
        {
         "hovertemplate": "<b>OLS trendline</b><br>jsd = 0.0210596 * num_selections + 0.0688722<br>R<sup>2</sup>=0.283993<br><br>country=Bosnia Herzegovina<br>num_selections=%{x}<br>jsd=%{y} <b>(trend)</b><extra></extra>",
         "legendgroup": "Bosnia Herzegovina",
         "marker": {
          "color": "#19d3f3",
          "symbol": "circle"
         },
         "mode": "lines",
         "name": "Bosnia Herzegovina",
         "showlegend": false,
         "type": "scattergl",
         "x": {
          "bdata": "BQUFBQUFBQYGBwcHBwcHBwcHBwcHBwcHBwcHBwcHBwgICAgIDQ0NDQ0NDQ0ODg4ODg4=",
          "dtype": "i1"
         },
         "xaxis": "x",
         "y": {
          "bdata": "JRV5IDRLxj8lFXkgNEvGPyUVeSA0S8Y/JRV5IDRLxj8lFXkgNEvGPyUVeSA0S8Y/JRV5IDRLxj+mnI6YSP3IP6acjphI/cg/KCSkEF2vyz8oJKQQXa/LPygkpBBdr8s/KCSkEF2vyz8oJKQQXa/LPygkpBBdr8s/KCSkEF2vyz8oJKQQXa/LPygkpBBdr8s/KCSkEF2vyz8oJKQQXa/LPygkpBBdr8s/KCSkEF2vyz8oJKQQXa/LPygkpBBdr8s/KCSkEF2vyz8oJKQQXa/LPygkpBBdr8s/KCSkEF2vyz8oJKQQXa/LPygkpBBdr8s/KCSkEF2vyz+qq7mIcWHOP6qruYhxYc4/qqu5iHFhzj+qq7mIcWHOP6qruYhxYc4/maiS8Ovt1T+ZqJLw6+3VP5mokvDr7dU/maiS8Ovt1T+ZqJLw6+3VP5mokvDr7dU/maiS8Ovt1T+ZqJLw6+3VP1psnSz2Rtc/WmydLPZG1z9abJ0s9kbXP1psnSz2Rtc/WmydLPZG1z9abJ0s9kbXPw==",
          "dtype": "f8"
         },
         "yaxis": "y"
        },
        {
         "hovertemplate": "country=Brazil<br>num_selections=%{x}<br>jsd=%{y}<extra></extra>",
         "legendgroup": "Brazil",
         "marker": {
          "color": "#FF6692",
          "symbol": "circle"
         },
         "mode": "markers",
         "name": "Brazil",
         "showlegend": true,
         "type": "scattergl",
         "x": {
          "bdata": "CAYHBQgHBQUJBwUEBgkDAwIHBQUDBwYFBQQFAw0NBQoHDQILBwQGBwIEBAYEBAMGBQc=",
          "dtype": "i1"
         },
         "xaxis": "x",
         "y": {
          "bdata": "QTYWD2004j/GbLNmP8/LP9OBMvECgMk/GJoaKjEpxD9bK0l1vZDYPyZvtDHnN8M/d4Wk8LeE3T8kWS4hvVTYP+k5Yn9Cwsk/xEb26n7uwz+rrAPQpXbQP8z1Mh2gVdI/av1sBecByz/cJjUfNd3HP0h7kpPGvNQ/wlE4POxfwT99xpgaQ8/IPy35anpY1dE/ESVBykstyT/uL/6zWk7UP/ok/pmdKsQ/hEouAbeeyz9SgDLe+E3QP9k/LC54i+A/EtEd7suqxT8Kh20qSx7BP7bHgK0N79U/nZff2oBv2D/JSeJrWEPUP7kwmw7Fwdo/kCm4GZ2cxD+Fzes35LbTP5jzPSVvbMQ/BzJqyAw82j9j7QflJFyoP5CxIF8IqNA/M8LzhLlvwz+LZ9KSFYHDPym3eblq0Ms/2Zsc3J2GwT+QTlDq5P+tP5YCgxFkfdU/7PGmvtH8yT/Hf2/sO27DPwPiiVavt8s/ZWJdHXTi0D8K4HoLFAvCP/0YPqLLUM4/svcIzP/e1D/ODyRR51/WPw==",
          "dtype": "f8"
         },
         "yaxis": "y"
        },
        {
         "hovertemplate": "<b>OLS trendline</b><br>jsd = 0.0142862 * num_selections + 0.164296<br>R<sup>2</sup>=0.117713<br><br>country=Brazil<br>num_selections=%{x}<br>jsd=%{y} <b>(trend)</b><extra></extra>",
         "legendgroup": "Brazil",
         "marker": {
          "color": "#FF6692",
          "symbol": "circle"
         },
         "mode": "lines",
         "name": "Brazil",
         "showlegend": false,
         "type": "scattergl",
         "x": {
          "bdata": "AgICAwMDAwMEBAQEBAQEBQUFBQUFBQUFBQUGBgYGBgYHBwcHBwcHBwcICAkJCgsNDQ0=",
          "dtype": "i1"
         },
         "xaxis": "x",
         "y": {
          "bdata": "/JMff+yvyD/8kx9/7K/IP/yTH3/sr8g/gqtV0w2Eyj+Cq1XTDYTKP4KrVdMNhMo/gqtV0w2Eyj+Cq1XTDYTKPwjDiycvWMw/CMOLJy9YzD8Iw4snL1jMPwjDiycvWMw/CMOLJy9YzD8Iw4snL1jMPwjDiycvWMw/jtrBe1Aszj+O2sF7UCzOP47awXtQLM4/jtrBe1Aszj+O2sF7UCzOP47awXtQLM4/jtrBe1Aszj+O2sF7UCzOP47awXtQLM4/jtrBe1Aszj+O2sF7UCzOPwr5++c4ANA/Cvn75zgA0D8K+fvnOADQPwr5++c4ANA/Cvn75zgA0D8K+fvnOADQP84EF5JJ6tA/zgQXkknq0D/OBBeSSerQP84EF5JJ6tA/zgQXkknq0D/OBBeSSerQP84EF5JJ6tA/zgQXkknq0D/OBBeSSerQP5AQMjxa1NE/kBAyPFrU0T9UHE3mar7SP1QcTeZqvtI/FihokHuo0z/aM4M6jJLUP2BLuY6tZtY/YEu5jq1m1j9gS7mOrWbWPw==",
          "dtype": "f8"
         },
         "yaxis": "y"
        },
        {
         "hovertemplate": "country=Brazil (Non-national sample)<br>num_selections=%{x}<br>jsd=%{y}<extra></extra>",
         "legendgroup": "Brazil (Non-national sample)",
         "marker": {
          "color": "#B6E880",
          "symbol": "circle"
         },
         "mode": "markers",
         "name": "Brazil (Non-national sample)",
         "showlegend": true,
         "type": "scattergl",
         "x": {
          "bdata": "BAUFAwQEAgQCBgMEAgIFAgMEAwQEBAMEAwQEAgUEAgUEBAMCAwQFAwMEAwQEBAMFBAM=",
          "dtype": "i1"
         },
         "xaxis": "x",
         "y": {
          "bdata": "4FeVAl271T9IBejSbXrHPy33taCmUtc/8op66A6U4T8Q4sitckjOPzQIm1jmVtI/2zYP1bT9uz9jQzh2zaWyP/XLX/iGuKE/KoKRDaZ24D8UPkpdwG3DP7+Zc1Q+8MU/SUx3bMc0sT+bZrrnVZG2PxdGZ9nQrNE/5NqZULyplT9M3qhRBaTFPwVDjQy8cqs/xTg3YPHuuj8ZuqwiDAPSP18p+OwsztU/rAM1qmh6tj8EPo7L943SP8Bri6/hGdI/YihWhM0hxD/SVYcjHhfYPw1jD0pXCtA/rtYdXArNzT+jQsfphvDYP06rBAhFLMA/AAAAAAAAAADf0kQOOWTSP8f2x/32380/jcRaKJcZyz+LwsEcBb7XP3v0LkGIWbE/MLA+Zf8J1z8W8LUOWgLEPyRUA2mLddI/Ladou8F13D8wc5OYSGmyP8Nfg70t9NM/ABaaQcV3zj8hkVax/nDLPxnf6ajIS90/L66qUE1tvT/ojZyGZqjWPz0Uj7yZVNg/VobBinSeyD9XY5dM82DRPw==",
          "dtype": "f8"
         },
         "yaxis": "y"
        },
        {
         "hovertemplate": "<b>OLS trendline</b><br>jsd = 0.0641263 * num_selections + 0.00191146<br>R<sup>2</sup>=0.228090<br><br>country=Brazil (Non-national sample)<br>num_selections=%{x}<br>jsd=%{y} <b>(trend)</b><extra></extra>",
         "legendgroup": "Brazil (Non-national sample)",
         "marker": {
          "color": "#B6E880",
          "symbol": "circle"
         },
         "mode": "lines",
         "name": "Brazil (Non-national sample)",
         "showlegend": false,
         "type": "scattergl",
         "x": {
          "bdata": "AgICAgICAgIDAwMDAwMDAwMDAwMDBAQEBAQEBAQEBAQEBAQEBAQEBAQEBQUFBQUFBQY=",
          "dtype": "i1"
         },
         "xaxis": "x",
         "y": {
          "bdata": "FfjcPTepwD8V+Nw9N6nAPxX43D03qcA/FfjcPTepwD8V+Nw9N6nAPxX43D03qcA/FfjcPTepwD8V+Nw9N6nAP44xN5qB3sg/jjE3moHeyD+OMTeagd7IP44xN5qB3sg/jjE3moHeyD+OMTeagd7IP44xN5qB3sg/jjE3moHeyD+OMTeagd7IP44xN5qB3sg/jjE3moHeyD+OMTeagd7IP44xN5qB3sg/hLVI++WJ0D+EtUj75YnQP4S1SPvlidA/hLVI++WJ0D+EtUj75YnQP4S1SPvlidA/hLVI++WJ0D+EtUj75YnQP4S1SPvlidA/hLVI++WJ0D+EtUj75YnQP4S1SPvlidA/hLVI++WJ0D+EtUj75YnQP4S1SPvlidA/hLVI++WJ0D+EtUj75YnQP4S1SPvlidA/hLVI++WJ0D+EtUj75YnQP4S1SPvlidA/QNJ1KYuk1D9A0nUpi6TUP0DSdSmLpNQ/QNJ1KYuk1D9A0nUpi6TUP0DSdSmLpNQ/QNJ1KYuk1D/97qJXML/YPw==",
          "dtype": "f8"
         },
         "yaxis": "y"
        },
        {
         "hovertemplate": "country=Britain<br>num_selections=%{x}<br>jsd=%{y}<extra></extra>",
         "legendgroup": "Britain",
         "marker": {
          "color": "#FF97FF",
          "symbol": "circle"
         },
         "mode": "markers",
         "name": "Britain",
         "showlegend": true,
         "type": "scattergl",
         "x": {
          "bdata": "AwwDAgMGAgICAwQDBQILBgQCBAMEAgQFBQUCBAMDAwMEBQIEBAUCBAIDBQQCAgUDBAY=",
          "dtype": "i1"
         },
         "xaxis": "x",
         "y": {
          "bdata": "ri1KEKaV1D/zueT8EwXfP5+X0OxVGLI/74KVm7yafz+Q5BaWL6bBP75FlPmeWM8/gI+Z6fqhtD9S6QNAUG3AP1Y8WhyK0JU/XuNdPCPn1T8/9RLk52nFP1+KlKrs/6s/LFV8azOwuj8AAAAAAAAAAEFlwYtfleQ/CCoMDTfByj9T8zQIIuOzP5dcJ+2A6aQ/O3rkA5IDzD/QaW184f25PxuJ/zBCjMY/UIJYrcKdlj/z3zcoKB2dP4MrThC9ns4/p25awvc90D/PLtbJxGzCP4a5fN7oPbM/wMrsPiWqzD8R4x0is3GoP8+lRoOAX8Q/OYBRlQ2dvz9wM0J3Gve2P2XOLltI9tQ/S/HHVw1W1T9VQ6IGTifOP6r00XDpwMc/YJFD9nxx0D/M63bpao3EP1LJpQDnedI/tmRslJ2syD8hS/pwX2++PxTtRCfkUdA/U8rDaf2DwT/UXncTkOPYP+A0WjKop8Y/lhhbqdX4xz+RqcPvU7i3P9R5bjX/dL8/AbSeI2CW0T+YvHkP10vWPw==",
          "dtype": "f8"
         },
         "yaxis": "y"
        },
        {
         "hovertemplate": "<b>OLS trendline</b><br>jsd = 0.043495 * num_selections + 0.0163254<br>R<sup>2</sup>=0.461227<br><br>country=Britain<br>num_selections=%{x}<br>jsd=%{y} <b>(trend)</b><extra></extra>",
         "legendgroup": "Britain",
         "marker": {
          "color": "#FF97FF",
          "symbol": "circle"
         },
         "mode": "lines",
         "name": "Britain",
         "showlegend": false,
         "type": "scattergl",
         "x": {
          "bdata": "AgICAgICAgICAgICAgMDAwMDAwMDAwMDAwQEBAQEBAQEBAQEBAUFBQUFBQUFBgYGCww=",
          "dtype": "i1"
         },
         "xaxis": "x",
         "y": {
          "bdata": "HRv9P+Byuj8dG/0/4HK6Px0b/T/gcro/HRv9P+Byuj8dG/0/4HK6Px0b/T/gcro/HRv9P+Byuj8dG/0/4HK6Px0b/T/gcro/HRv9P+Byuj8dG/0/4HK6Px0b/T/gcro/HRv9P+Byuj/cpk+UrsrCP9ymT5SuysI/3KZPlK7Kwj/cpk+UrsrCP9ymT5SuysI/3KZPlK7Kwj/cpk+UrsrCP9ymT5SuysI/3KZPlK7Kwj/cpk+UrsrCP9ymT5SuysI/3KZPlK7Kwj8owKAI7VvIPyjAoAjtW8g/KMCgCO1byD8owKAI7VvIPyjAoAjtW8g/KMCgCO1byD8owKAI7VvIPyjAoAjtW8g/KMCgCO1byD8owKAI7VvIPyjAoAjtW8g/KMCgCO1byD922fF8K+3NP3bZ8Xwr7c0/dtnxfCvtzT922fF8K+3NP3bZ8Xwr7c0/dtnxfCvtzT922fF8K+3NP3bZ8Xwr7c0/YXmh+DS/0T9heaH4NL/RP2F5ofg0v9E/ojhsG1Gq3z+kYsoqeDnhPw==",
          "dtype": "f8"
         },
         "yaxis": "y"
        },
        {
         "hovertemplate": "country=Bulgaria<br>num_selections=%{x}<br>jsd=%{y}<extra></extra>",
         "legendgroup": "Bulgaria",
         "marker": {
          "color": "#FECB52",
          "symbol": "circle"
         },
         "mode": "markers",
         "name": "Bulgaria",
         "showlegend": true,
         "type": "scattergl",
         "x": {
          "bdata": "AwIOBAMGBAQGBwQGBQUEBgQFBQQIBAsDBwULBwYCBAcHAw0HBwMEBQYNAwIIBQUFBAc=",
          "dtype": "i1"
         },
         "xaxis": "x",
         "y": {
          "bdata": "2Ne/zC8t1D+9Oc5A34yePw8V84hdjNk/MqEgdm0BqD9P3gFtCavJP1iB+s8INtI/aA9EVGaIzT8ZsCuAtkHHP+yk6u5qgdE/UxNzx2Od0T+BoN5OvZfNPzcLQXauk8w/AK/86UTVyD+owuxUJA/GP+R8yM2BL8c/MM5n9Lx5yT8c4DzK+3PEP4deZM2z5cU/opVc6+1EzD8zgHkzLJTCP/38bi+x78g/FwMVxrUA2j/7fspJbgXRPzRZIKWG9qc/KCGESB7B2j9NOqzahJzDPzQ/4NNcQOA/WsX34a0i0D/EITK57WfRP4sUMIF05sI/CH0e40rB0D9ghn/Rj+O9P2+I3ae/IsA/RRelo6CssD++Hl6T7qjVP+82GKWadtU/+IDSh5w6xj9156a+XtvhP6agv0+Kjdc/HMco1Cwfuz8/H9fFnJHQPzMU92Hii8s/FHlhS8EfwT+6nsA4LuOsP5jYiFcj9NA/hqhgU8yX2j9o/U8eB8XiP8GyVBDjCtY/RZarGR8a4T8Hv49epN+0Pw==",
          "dtype": "f8"
         },
         "yaxis": "y"
        },
        {
         "hovertemplate": "<b>OLS trendline</b><br>jsd = 0.0132861 * num_selections + 0.167617<br>R<sup>2</sup>=0.075609<br><br>country=Bulgaria<br>num_selections=%{x}<br>jsd=%{y} <b>(trend)</b><extra></extra>",
         "legendgroup": "Bulgaria",
         "marker": {
          "color": "#FECB52",
          "symbol": "circle"
         },
         "mode": "lines",
         "name": "Bulgaria",
         "showlegend": false,
         "type": "scattergl",
         "x": {
          "bdata": "AgICAwMDAwMDBAQEBAQEBAQEBAQFBQUFBQUFBQUGBgYGBgYHBwcHBwcHBwgICwsNDQ4=",
          "dtype": "i1"
         },
         "xaxis": "x",
         "y": {
          "bdata": "ct3b8DHbyD9y3dvwMdvIP3Ld2/Ax28g/7IjRio2Oyj/siNGKjY7KP+yI0YqNjso/7IjRio2Oyj/siNGKjY7KP+yI0YqNjso/ZTTHJOlBzD9lNMck6UHMP2U0xyTpQcw/ZTTHJOlBzD9lNMck6UHMP2U0xyTpQcw/ZTTHJOlBzD9lNMck6UHMP2U0xyTpQcw/ZTTHJOlBzD9lNMck6UHMP97fvL5E9c0/3t+8vkT1zT/e37y+RPXNP97fvL5E9c0/3t+8vkT1zT/e37y+RPXNP97fvL5E9c0/3t+8vkT1zT/e37y+RPXNP1iLsligqM8/WIuyWKCozz9Yi7JYoKjPP1iLsligqM8/WIuyWKCozz9Yi7JYoKjPP2gbVPn9rdA/aBtU+f2t0D9oG1T5/a3QP2gbVPn9rdA/aBtU+f2t0D9oG1T5/a3QP2gbVPn9rdA/aBtU+f2t0D8l8U7Gq4fRPyXxTsarh9E/W3I/LbUU1D9bcj8ttRTUP9QdNccQyNU/1B01xxDI1T+R8y+UvqHWPw==",
          "dtype": "f8"
         },
         "yaxis": "y"
        },
        {
         "hovertemplate": "country=Burkina Faso<br>num_selections=%{x}<br>jsd=%{y}<extra></extra>",
         "legendgroup": "Burkina Faso",
         "marker": {
          "color": "#636efa",
          "symbol": "circle"
         },
         "mode": "markers",
         "name": "Burkina Faso",
         "showlegend": true,
         "type": "scattergl",
         "x": {
          "bdata": "AgMFDAMDBQUFAwUGBgUFBAMEBQQFBQoFAwUFBQMFBAUFBQUFAgUEAwIEBAUFBQIFBQU=",
          "dtype": "i1"
         },
         "xaxis": "x",
         "y": {
          "bdata": "uArVL/X+nD9J25MJKOjKPw/DEyHHD8w/2LmRDQ6O3j8MMP0PAyO+P1tvn3ykZ8k/GpcYxw6WzD/u0SXZ8L3dP0zFrxTZNr4/jWILEEXrxj81HZ791N/LP99bl4KUguU/hsq23Qxg1j/pfPds+AHKP4KOuygmTcc/gR09ZC4Yuj/tznRXz3fdP0a/ZooM99M/UzTNd/HByT9or8PqPxXQP++8QRJcmMU/uajDK2Wu1D+LocQsK3DgP4/EPAjIENo/4p1SBbRdxT9qgA4DBS+3P4VNAsl4/74/lhRB3ycfxj8poci5pFu2P/KE9NKYHNM/eVF3V4R8zz+J4cg+lTXFP+1heTmJkdA/5Sf/EvocyT8Sab5VLfDNP4FwVzPqDdA/0oRIUqOHsT+yCl9OtZ3PPw+j+qNDts8/XaT69CZtzD9rKdoj3ULKP4P1V7S9Q9E/3ukV4IfSyD9tU8YYYKC/P6pRLgHaM60/aQwv7mthzT8A5IPMze6wP+fCkRsl5tM/LdtygVrvrT+t45BHa1XKPw==",
          "dtype": "f8"
         },
         "yaxis": "y"
        },
        {
         "hovertemplate": "<b>OLS trendline</b><br>jsd = 0.0401384 * num_selections + 0.0440735<br>R<sup>2</sup>=0.284112<br><br>country=Burkina Faso<br>num_selections=%{x}<br>jsd=%{y} <b>(trend)</b><extra></extra>",
         "legendgroup": "Burkina Faso",
         "marker": {
          "color": "#636efa",
          "symbol": "circle"
         },
         "mode": "lines",
         "name": "Burkina Faso",
         "showlegend": false,
         "type": "scattergl",
         "x": {
          "bdata": "AgICAgMDAwMDAwMDBAQEBAQEBAUFBQUFBQUFBQUFBQUFBQUFBQUFBQUFBQUFBQYGCgw=",
          "dtype": "i1"
         },
         "xaxis": "x",
         "y": {
          "bdata": "aKt2l2vVvz9oq3aXa9W/P2irdpdr1b8/aKt2l2vVvz+CQMjr9g3FP4JAyOv2DcU/gkDI6/YNxT+CQMjr9g3FP4JAyOv2DcU/gkDI6/YNxT+CQMjr9g3FP4JAyOv2DcU/UCvVCzgxyj9QK9ULODHKP1Ar1Qs4Mco/UCvVCzgxyj9QK9ULODHKP1Ar1Qs4Mco/UCvVCzgxyj8eFuIreVTPPx4W4it5VM8/HhbiK3lUzz8eFuIreVTPPx4W4it5VM8/HhbiK3lUzz8eFuIreVTPPx4W4it5VM8/HhbiK3lUzz8eFuIreVTPPx4W4it5VM8/HhbiK3lUzz8eFuIreVTPPx4W4it5VM8/HhbiK3lUzz8eFuIreVTPPx4W4it5VM8/HhbiK3lUzz8eFuIreVTPPx4W4it5VM8/HhbiK3lUzz8eFuIreVTPPx4W4it5VM8/HhbiK3lUzz8eFuIreVTPPx4W4it5VM8/HhbiK3lUzz93gPcl3TvSP3eA9yXdO9I/E1YRZl+C3D9xIA9D0NLgPw==",
          "dtype": "f8"
         },
         "yaxis": "y"
        },
        {
         "hovertemplate": "country=Canada<br>num_selections=%{x}<br>jsd=%{y}<extra></extra>",
         "legendgroup": "Canada",
         "marker": {
          "color": "#EF553B",
          "symbol": "circle"
         },
         "mode": "markers",
         "name": "Canada",
         "showlegend": true,
         "type": "scattergl",
         "x": {
          "bdata": "AwIDBAQFCgQCBwUCAwQDDQUGAwMEBgYFBAUHBwMDDQYGBgQEBgQFAgMFAgcHCQQNAgM=",
          "dtype": "i1"
         },
         "xaxis": "x",
         "y": {
          "bdata": "LqaBMX97xT+AQbewAE2/Pycl9up7icE/GW/fk9nayT+6vKT4WyXKP4/aYsmrCrM/uxwhsd+U7z+GEodYfWelPyfGwGwDzNM/bl+d1lXXxT/k6vV/4/jAP2X8ugRqhZU/PZY6/XFMxj/IRM9SbHHPPyknVAzDtrs/AAAAAAAA8D848W0KSxPQP+HPM9eSGck/AAX2b6QK0j8+XxTD7mTJPz1veMUBj8k/MC1uGWDn0z9Rgi8B/KjPP+Bu5jxfkcU/mKcVouT7yz9NYxrlKjfVP4KzwRKIqsQ/MhJlIVg00D/pDdY4tW/iP+lbQcz1/ss/MuphRK7T3T85y9WlOZPGP8YmMfiyis8/u7SDELyt0T95xHF7tInJP1Ymqjkjkck/9tIsJ/cmuj8ZZN+/jTHEP1vM0uYyQso/8hUm95yesj8WdgdqFaexP9pH7E3V5bo/uFN/RMSVwD8aG6kazl7DP+tvBPguTcU/J7pNKZF37z8n8/9TTCHQP0ZdKoNSS8k/1rDPe5Ccsz9DbzM8A//NPw==",
          "dtype": "f8"
         },
         "yaxis": "y"
        },
        {
         "hovertemplate": "<b>OLS trendline</b><br>jsd = 0.0456271 * num_selections + 0.0136248<br>R<sup>2</sup>=0.338276<br><br>country=Canada<br>num_selections=%{x}<br>jsd=%{y} <b>(trend)</b><extra></extra>",
         "legendgroup": "Canada",
         "marker": {
          "color": "#EF553B",
          "symbol": "circle"
         },
         "mode": "lines",
         "name": "Canada",
         "showlegend": false,
         "type": "scattergl",
         "x": {
          "bdata": "AgICAgICAwMDAwMDAwMDAwQEBAQEBAQEBAQFBQUFBQUFBgYGBgYGBgcHBwcHCQoNDQ0=",
          "dtype": "i1"
         },
         "xaxis": "x",
         "y": {
          "bdata": "/lMcnFjZuj/+UxycWNm6P/5THJxY2bo//lMcnFjZuj/+UxycWNm6P/5THJxY2bo/8MJREchDwz/wwlERyEPDP/DCURHIQ8M/8MJREchDwz/wwlERyEPDP/DCURHIQ8M/8MJREchDwz/wwlERyEPDP/DCURHIQ8M/8MJREchDwz/gW5XU4xrJP+BbldTjGsk/4FuV1OMayT/gW5XU4xrJP+BbldTjGsk/4FuV1OMayT/gW5XU4xrJP+BbldTjGsk/4FuV1OMayT/gW5XU4xrJP9D02Jf/8c4/0PTYl//xzj/Q9NiX//HOP9D02Jf/8c4/0PTYl//xzj/Q9NiX//HOP9D02Jf/8c4/4UaOrY1k0j/hRo6tjWTSP+FGjq2NZNI/4UaOrY1k0j/hRo6tjWTSP+FGjq2NZNI/4UaOrY1k0j9ZEzCPG1DVP1kTMI8bUNU/WRMwjxtQ1T9ZEzCPG1DVP1kTMI8bUNU/SaxzUjcn2z/BeBU0xRLePxZvfWy3auM/Fm99bLdq4z8Wb31st2rjPw==",
          "dtype": "f8"
         },
         "yaxis": "y"
        },
        {
         "hovertemplate": "country=Chile<br>num_selections=%{x}<br>jsd=%{y}<extra></extra>",
         "legendgroup": "Chile",
         "marker": {
          "color": "#00cc96",
          "symbol": "circle"
         },
         "mode": "markers",
         "name": "Chile",
         "showlegend": true,
         "type": "scattergl",
         "x": {
          "bdata": "CAQFBwUHBA0HAwMCBgQHBwcCAwUFBAQHBAIDBAgGAwMFBQUHBA4EAwYFAwcOAgUDAgc=",
          "dtype": "i1"
         },
         "xaxis": "x",
         "y": {
          "bdata": "PyiGjNUQzD8bDtad2ULQPxnP6HEqbdk/ezknGlxTxz83FPAh8n3RP3l/XEYyksQ/9Adp+CeYzT9kQxRVbQPEPyUxnYZaT8Q/oCSSSbqVsz+dkvvYiFnAPz9Sa82Oe5o/8I15mQ8nwj/p/4hOkKqwP2m6gLoQidg/ch95iWdIxz/uU1X8zinJP4FqrT3SWcM/A22Ct4bbsD/xGXpQiVHDP2DJY16zrNA/1g46HdNIvz/7v8mUv63fPwxVo+6GONI/ddb+3P9KxT/ziBVBsgDYPxx9/6J6ILE/0bIugxqXtT+PI8SPPHjHP073c4FB6tg/lyggfXV4wj+BjJyLSyfAP7UEH4WiHsE/v6NgVHfKwT8TmGJIK8HLP98sN6If58A/HMQtwe4+2T/4rVjz2SDnP8SF1kewddE/a41/YeBGyj8n14xcUQTFPzMB1m6hbc0/6wUbGlTmsD+NXdVEZsO9P7km/GpsT9M/ykzqxEptwT+clwulhLDYPxhnQ2c9CJI/0SGFyO9Rsz/eJ8gnEZTaPw==",
          "dtype": "f8"
         },
         "yaxis": "y"
        },
        {
         "hovertemplate": "<b>OLS trendline</b><br>jsd = 0.0211936 * num_selections + 0.0969916<br>R<sup>2</sup>=0.188211<br><br>country=Chile<br>num_selections=%{x}<br>jsd=%{y} <b>(trend)</b><extra></extra>",
         "legendgroup": "Chile",
         "marker": {
          "color": "#00cc96",
          "symbol": "circle"
         },
         "mode": "lines",
         "name": "Chile",
         "showlegend": false,
         "type": "scattergl",
         "x": {
          "bdata": "AgICAgIDAwMDAwMDAwMEBAQEBAQEBAQFBQUFBQUFBQUGBgYHBwcHBwcHBwcHCAgNDg4=",
          "dtype": "i1"
         },
         "xaxis": "x",
         "y": {
          "bdata": "xg8AnynXwT/GDwCfKdfBP8YPAJ8p18E/xg8AnynXwT/GDwCfKdfBP4GIiFWijcQ/gYiIVaKNxD+BiIhVoo3EP4GIiFWijcQ/gYiIVaKNxD+BiIhVoo3EP4GIiFWijcQ/gYiIVaKNxD+BiIhVoo3EPzwBEQwbRMc/PAERDBtExz88AREMG0THPzwBEQwbRMc/PAERDBtExz88AREMG0THPzwBEQwbRMc/PAERDBtExz88AREMG0THP/d5mcKT+sk/93mZwpP6yT/3eZnCk/rJP/d5mcKT+sk/93mZwpP6yT/3eZnCk/rJP/d5mcKT+sk/93mZwpP6yT/3eZnCk/rJP7HyIXkMscw/sfIheQyxzD+x8iF5DLHMP2xrqi+FZ88/bGuqL4Vnzz9sa6ovhWfPP2xrqi+FZ88/bGuqL4Vnzz9sa6ovhWfPP2xrqi+FZ88/bGuqL4Vnzz9sa6ovhWfPP2xrqi+FZ88/FHIZ8/4O0T8Uchnz/g7RP+afbrss19c/RNyyFmky2T9E3LIWaTLZPw==",
          "dtype": "f8"
         },
         "yaxis": "y"
        },
        {
         "hovertemplate": "country=China<br>num_selections=%{x}<br>jsd=%{y}<extra></extra>",
         "legendgroup": "China",
         "marker": {
          "color": "#ab63fa",
          "symbol": "circle"
         },
         "mode": "markers",
         "name": "China",
         "showlegend": true,
         "type": "scattergl",
         "x": {
          "bdata": "BwYHDQ0NBggDDQMFAgQNBgcEBQcHDQYHBQYFCwYEBAUEBQcEBwUGAwINBQ0FAwIDBAU=",
          "dtype": "i1"
         },
         "xaxis": "x",
         "y": {
          "bdata": "cpdFwbMn1D+HSl/lx6HIP0aJN7ohStU/wffJXP4jzz+ORMYrHZDWPxmYKumureM//WwRD17GyT/tijN5mvTOP/7+6kDs7ts/ZDPMzV6c1D+1MJepVw2nPyj4TWs7ecQ/HkaZOkiDyj8tXLOv5yDQPwsV1regl8Y/S1LbaZN1zz+UzlA0qWS5P5Zi2a2zm8c/Yke7neZdyj80m3KlkxzfP3o5PQVbHdI/vF5GcSTExz/Rxg4iSkTHP/+9uJPBA9o/7zbV28Fl5D98DODhivjWP77U5Qx7Ss8/cj2jasoF2z/lzAwEPRvlP2h2eicOdNE/zqT5YjmB0j8HTLZMgfnZP2TznHkgbsE/JKIPbWVQ1T/TCZ80WAvOPylhQTAkb9E/mp4MTODN1j/QQ3JGNWjRP1j2ZDLKtcs/saCebrHS0D+ML/90wXbIP3JXtVspE9E/1BVGJdCdyz+VOX3qsLDUP6d1kmeJBMk/LsxRzGJvxD9K4bD0Af+UP0+3I5guJNo/dmjJ/QWC1T/sEXg0AGvaPw==",
          "dtype": "f8"
         },
         "yaxis": "y"
        },
        {
         "hovertemplate": "<b>OLS trendline</b><br>jsd = 0.00835617 * num_selections + 0.232035<br>R<sup>2</sup>=0.044485<br><br>country=China<br>num_selections=%{x}<br>jsd=%{y} <b>(trend)</b><extra></extra>",
         "legendgroup": "China",
         "marker": {
          "color": "#ab63fa",
          "symbol": "circle"
         },
         "mode": "lines",
         "name": "China",
         "showlegend": false,
         "type": "scattergl",
         "x": {
          "bdata": "AgICAwMDAwMEBAQEBAQEBQUFBQUFBQUFBQYGBgYGBgYHBwcHBwcHBwgLDQ0NDQ0NDQ0=",
          "dtype": "i1"
         },
         "xaxis": "x",
         "y": {
          "bdata": "ecNukffWzz95w26R99bPP3nDbpH31s8/2XXGGGR00D/ZdcYYZHTQP9l1xhhkdNA/2XXGGGR00D/ZdcYYZHTQP/aJ1WhM/dA/9onVaEz90D/2idVoTP3QP/aJ1WhM/dA/9onVaEz90D/2idVoTP3QP/aJ1WhM/dA/Ep7kuDSG0T8SnuS4NIbRPxKe5Lg0htE/Ep7kuDSG0T8SnuS4NIbRPxKe5Lg0htE/Ep7kuDSG0T8SnuS4NIbRPxKe5Lg0htE/Ep7kuDSG0T8vsvMIHQ/SPy+y8wgdD9I/L7LzCB0P0j8vsvMIHQ/SPy+y8wgdD9I/L7LzCB0P0j8vsvMIHQ/SP0vGAlkFmNI/S8YCWQWY0j9LxgJZBZjSP0vGAlkFmNI/S8YCWQWY0j9LxgJZBZjSP0vGAlkFmNI/S8YCWQWY0j9o2hGp7SDTP70WP5mmu9Q/9j5dOXfN1T/2Pl05d83VP/Y+XTl3zdU/9j5dOXfN1T/2Pl05d83VP/Y+XTl3zdU/9j5dOXfN1T/2Pl05d83VPw==",
          "dtype": "f8"
         },
         "yaxis": "y"
        },
        {
         "hovertemplate": "country=China (Non-national sample)<br>num_selections=%{x}<br>jsd=%{y}<extra></extra>",
         "legendgroup": "China (Non-national sample)",
         "marker": {
          "color": "#FFA15A",
          "symbol": "circle"
         },
         "mode": "markers",
         "name": "China (Non-national sample)",
         "showlegend": true,
         "type": "scattergl",
         "x": {
          "bdata": "BgIEBQIEBAIDBQIDAgQEDgUDAwUCBQICCQUDAgUDAwQEBAIDAgIIBQICBAIDBQQCCgQ=",
          "dtype": "i1"
         },
         "xaxis": "x",
         "y": {
          "bdata": "LfiPAxE02D/v5+6AIMu6P785hjBGId4/q+ED/tCY4T/QtAabhj+uP1ki7cb0IcQ/KQ3KFfmmzz95YFWyxvrOPzRUV/H1UMw/N09DHwE5tz/0NCAfvP3CP2BtA/9kzsg/L8Ydm9dhlT85H3irwh/JP+zmR0WsDeA/yabq1Yke6j+xSJQ3Fh/IP1QReIwRZNg/4i9cQpWX0z9EFODDMQrWP2VoAnhx9r0/NDbEoG3vyz+j6VdvM4C0P4a4PZAqjKM/8w/RWI071D+9iqM0g4DVP0UCAVxcbdM/t4pwSE20qD++mxvVWgHNPyEBjQCpmr8/L4jUuncoyj/vnAHdup20P5ksTmWI6sY/aGGPO5Q91z8WiRrniSyeP66HgKQvXtM/AAAAAAAA+H9cV47ETLqqP+cqnAnP/NM/u/pN0ZIu0z/o3rMP1KTOP+ARPB77dbM/4Iaf7oFkxz8Ulr+V8fDgP8BqPZnruNI/urk+9CXv3j87KaICpEXMP5J+QVYe06I/lYn07eKU2z9rOCYzVYXUPw==",
          "dtype": "f8"
         },
         "yaxis": "y"
        },
        {
         "hovertemplate": "<b>OLS trendline</b><br>jsd = 0.0457376 * num_selections + 0.0660132<br>R<sup>2</sup>=0.417825<br><br>country=China (Non-national sample)<br>num_selections=%{x}<br>jsd=%{y} <b>(trend)</b><extra></extra>",
         "legendgroup": "China (Non-national sample)",
         "marker": {
          "color": "#FFA15A",
          "symbol": "circle"
         },
         "mode": "lines",
         "name": "China (Non-national sample)",
         "showlegend": false,
         "type": "scattergl",
         "x": {
          "bdata": "AgICAgICAgICAgICAgICAwMDAwMDAwMDBAQEBAQEBAQEBAQFBQUFBQUFBQUGCAkKDg==",
          "dtype": "i1"
         },
         "xaxis": "x",
         "y": {
          "bdata": "F84qnpUoxD8XziqelSjEPxfOKp6VKMQ/F84qnpUoxD8XziqelSjEPxfOKp6VKMQ/F84qnpUoxD8XziqelSjEPxfOKp6VKMQ/F84qnpUoxD8XziqelSjEPxfOKp6VKMQ/F84qnpUoxD8XziqelSjEPxfOKp6VKMQ/DRad0VADyj8NFp3RUAPKPw0WndFQA8o/DRad0VADyj8NFp3RUAPKPw0WndFQA8o/DRad0VADyj8NFp3RUAPKPw0WndFQA8o/A14PBQzezz8DXg8FDN7PPwNeDwUM3s8/A14PBQzezz8DXg8FDN7PPwNeDwUM3s8/A14PBQzezz8DXg8FDN7PPwNeDwUM3s8/A14PBQzezz8DXg8FDN7PP/zSQJxj3NI//NJAnGPc0j/80kCcY9zSP/zSQJxj3NI//NJAnGPc0j/80kCcY9zSP/zSQJxj3NI//NJAnGPc0j/80kCcY9zSP/j2+TXBydU/7j5saXyk2z/oYiUD2pHeP3JDb86bv+A/aIvhAVea5j8=",
          "dtype": "f8"
         },
         "yaxis": "y"
        },
        {
         "hovertemplate": "country=Colombia<br>num_selections=%{x}<br>jsd=%{y}<extra></extra>",
         "legendgroup": "Colombia",
         "marker": {
          "color": "#19d3f3",
          "symbol": "circle"
         },
         "mode": "markers",
         "name": "Colombia",
         "showlegend": true,
         "type": "scattergl",
         "x": {
          "bdata": "DQUFBgcHCw0IBQQIBwUEDQUHBg0EBQQLBgcHAwYIBQ0GAwQFBAQEBQUHDQQEBQUFAwQ=",
          "dtype": "i1"
         },
         "xaxis": "x",
         "y": {
          "bdata": "FMUJYwlo3T+0QawRnNvOP69G1lcmstY/IoaiP4/D0T/p+DiHPx/TP21U3zwtwsU/SwcTF745zD8lyeQdhtzXPwAAAAAAAPh/CS7lF+7GxD+Oo5nwkhLbPx6Bbp9i3NQ/07s43tbg0D+4jQKI8uTjP4JM7dS1E9I/D/jkjqeX2D9sRUAUk7vYPwcwtDO1VtE/rIqwXeTt1T8RzI5K3rLIP1KyBG/TgcQ/ZZKlR5NL1D9Fd/GQXm3dP4xq7NolT9Q/nQ0ywPKh0j9us9EJiuvSP2NoigtXTsk/lTQZfm5ewD/2ZDb+h+nWP8O/ZjF23NY/Ebwv2xF94D/Da0b6BSvQP96J5y7bIcY/oN2+ioZMtj8xOZnkfi7cPyNQOT5joNE/5nZ4iJrVvj9juDmFACPEP+HEeh4jE94/SwVayXZ0xD8uYzFx9qTNP982cu/6d9A/ZhfbyOOg2z+AftxYRXjKPzR+QIEXFOE/vhH8wZFxzD+MZ7j3pF7QP5lvRqQ4B84/IPgnH8awyT9oOpv4kznPPw==",
          "dtype": "f8"
         },
         "yaxis": "y"
        },
        {
         "hovertemplate": "<b>OLS trendline</b><br>jsd = 0.00610805 * num_selections + 0.254917<br>R<sup>2</sup>=0.024473<br><br>country=Colombia<br>num_selections=%{x}<br>jsd=%{y} <b>(trend)</b><extra></extra>",
         "legendgroup": "Colombia",
         "marker": {
          "color": "#19d3f3",
          "symbol": "circle"
         },
         "mode": "lines",
         "name": "Colombia",
         "showlegend": false,
         "type": "scattergl",
         "x": {
          "bdata": "AwMDBAQEBAQEBAQEBAQFBQUFBQUFBQUFBQUFBgYGBgYHBwcHBwcHCAgLCw0NDQ0NDQ==",
          "dtype": "i1"
         },
         "xaxis": "x",
         "y": {
          "bdata": "7BIYucd80T/sEhi5x3zRP+wSGLnHfNE/5981udrg0T/n3zW52uDRP+ffNbna4NE/5981udrg0T/n3zW52uDRP+ffNbna4NE/5981udrg0T/n3zW52uDRP+ffNbna4NE/5981udrg0T/n3zW52uDRP+KsU7ntRNI/4qxTue1E0j/irFO57UTSP+KsU7ntRNI/4qxTue1E0j/irFO57UTSP+KsU7ntRNI/4qxTue1E0j/irFO57UTSP+KsU7ntRNI/4qxTue1E0j/irFO57UTSP+KsU7ntRNI/3HlxuQCp0j/ceXG5AKnSP9x5cbkAqdI/3HlxuQCp0j/ceXG5AKnSP9ZGj7kTDdM/1kaPuRMN0z/WRo+5Ew3TP9ZGj7kTDdM/1kaPuRMN0z/WRo+5Ew3TP9ZGj7kTDdM/0ROtuSZx0z/RE625JnHTP8B6BrpfndQ/wHoGul+d1D+2FEK6hWXVP7YUQrqFZdU/thRCuoVl1T+2FEK6hWXVP7YUQrqFZdU/thRCuoVl1T8=",
          "dtype": "f8"
         },
         "yaxis": "y"
        },
        {
         "hovertemplate": "country=Colombia (Non-national sample)<br>num_selections=%{x}<br>jsd=%{y}<extra></extra>",
         "legendgroup": "Colombia (Non-national sample)",
         "marker": {
          "color": "#FF6692",
          "symbol": "circle"
         },
         "mode": "markers",
         "name": "Colombia (Non-national sample)",
         "showlegend": true,
         "type": "scattergl",
         "x": {
          "bdata": "CA==",
          "dtype": "i1"
         },
         "xaxis": "x",
         "y": {
          "bdata": "hn6YlwBp4j8=",
          "dtype": "f8"
         },
         "yaxis": "y"
        },
        {
         "hovertemplate": "country=Colombia (Non-national sample)<extra></extra>",
         "legendgroup": "Colombia (Non-national sample)",
         "marker": {
          "color": "#FF6692",
          "symbol": "circle"
         },
         "mode": "lines",
         "name": "Colombia (Non-national sample)",
         "showlegend": false,
         "type": "scattergl",
         "xaxis": "x",
         "yaxis": "y"
        },
        {
         "hovertemplate": "country=Croatia<br>num_selections=%{x}<br>jsd=%{y}<extra></extra>",
         "legendgroup": "Croatia",
         "marker": {
          "color": "#B6E880",
          "symbol": "circle"
         },
         "mode": "markers",
         "name": "Croatia",
         "showlegend": true,
         "type": "scattergl",
         "x": {
          "bdata": "Bw0NDQcHDgUHDQ4HBw0FCA0HBgUFBwUFBwYNBw0OBwcHCAcFDgUHBw0HDQcHDQcGBwc=",
          "dtype": "i1"
         },
         "xaxis": "x",
         "y": {
          "bdata": "HVrXQ45k3D9FrPTYL6TTP8H5YUq+gsA/dZgSaOYmzT8o8oGWY6rDP7CBy3cJnMU/iJTtyQt31j92J7eIDGrKP5R87JRxx9A/Fa+MtTTtzT+ZfjeQhILYP6rpyRg+2NA//Xuk53KL3T8Ii3y0JIzOPxaPfNb3Gr8/I23i48oz0z+RdM9aKpLQPyfFedWO+MQ/A9L0Jp0lwj8OdYbTiUrVP5O1AXMwh8U/demH1qKPzD+MFxqYBavWP0iI7qNAs8o/qxZn+V9Ixz8Vel4Ys5HNP6dFh7sXntM/qIeaImkXvj8yZh3RvTzWP344jreVwNY/ZdQIz16bzD/C9LFAqj3DP9So5e0QWdI/AYisCf4qwz893vfb/jbTP4C+2txXHsc/fNvdmFLI1j/1ciqF4sPGP2f0wi3MhNc/XMK2XcrKxD+ypCJa//vUP6dHlKS1a8I/P7l9kVZryj8zQbQTX8zXPwlx2Vvfu8U/t4nlNlDJ0T8RBkU6SHPHP1e7ntdBrsc/GIKtBSBMxj87x2Ni0rnQPw==",
          "dtype": "f8"
         },
         "yaxis": "y"
        },
        {
         "hovertemplate": "<b>OLS trendline</b><br>jsd = 0.00928147 * num_selections + 0.16671<br>R<sup>2</sup>=0.115480<br><br>country=Croatia<br>num_selections=%{x}<br>jsd=%{y} <b>(trend)</b><extra></extra>",
         "legendgroup": "Croatia",
         "marker": {
          "color": "#B6E880",
          "symbol": "circle"
         },
         "mode": "lines",
         "name": "Croatia",
         "showlegend": false,
         "type": "scattergl",
         "x": {
          "bdata": "BQUFBQUFBQUGBgYHBwcHBwcHBwcHBwcHBwcHBwcHBwcHCAgNDQ0NDQ0NDQ0NDQ4ODg4=",
          "dtype": "i1"
         },
         "xaxis": "x",
         "y": {
          "bdata": "YLUIjWpHyz9gtQiNakfLP2C1CI1qR8s/YLUIjWpHyz9gtQiNakfLP2C1CI1qR8s/YLUIjWpHyz9gtQiNakfLP8E5pCmNd8w/wTmkKY13zD/BOaQpjXfMPyK+P8avp80/Ir4/xq+nzT8ivj/Gr6fNPyK+P8avp80/Ir4/xq+nzT8ivj/Gr6fNPyK+P8avp80/Ir4/xq+nzT8ivj/Gr6fNPyK+P8avp80/Ir4/xq+nzT8ivj/Gr6fNPyK+P8avp80/Ir4/xq+nzT8ivj/Gr6fNPyK+P8avp80/Ir4/xq+nzT8ivj/Gr6fNPyK+P8avp80/Ir4/xq+nzT8ivj/Gr6fNPyK+P8avp80/hELbYtLXzj+EQtti0tfOPzZs8rg/ZNI/NmzyuD9k0j82bPK4P2TSPzZs8rg/ZNI/NmzyuD9k0j82bPK4P2TSPzZs8rg/ZNI/NmzyuD9k0j82bPK4P2TSPzZs8rg/ZNI/NmzyuD9k0j9mLkAHUfzSP2YuQAdR/NI/Zi5AB1H80j9mLkAHUfzSPw==",
          "dtype": "f8"
         },
         "yaxis": "y"
        },
        {
         "hovertemplate": "country=Cyprus<br>num_selections=%{x}<br>jsd=%{y}<extra></extra>",
         "legendgroup": "Cyprus",
         "marker": {
          "color": "#FF97FF",
          "symbol": "circle"
         },
         "mode": "markers",
         "name": "Cyprus",
         "showlegend": true,
         "type": "scattergl",
         "x": {
          "bdata": "CA0NBQ0FCAcHBw4IBQYHBgUNBQYFBg0GBwcNDQ0HBwcFBQ0GDQcHDQUGBw0HBgUGBwc=",
          "dtype": "i1"
         },
         "xaxis": "x",
         "y": {
          "bdata": "9L+aB9UYvz8+RwgXLBrXP5soMvF9ANA/oUZgZ05y0j8MaiyLfr/UP5PaEAOwjNA/kfKbMhsWxz+2QZYzLQbQP44k8tvX68c//9lrTD+y2T+y1GUTQ0faP5D04TurJr8/kYxmFIBr2z8VPRx2k1u+P/xYnkCtM9A/hpxA4ZEi1j9rlBHTQuS3P4zFHDs+bNY/DSKxF9Yt0z9ZPi1UFefIP1tbsGmiftI/6GKIkw8H1T8Whes3HbLJP4uLYdR1ldA/MeEJVEcpzT/9JntOjXXPPzp2C33nh80/1x5T+1ld0T8vbhTqRLnMP4DGqN5Ke8s/3kZfaRU81z86fhubLsu9PwIgK5UAFN4/oLGpj4VfsD97xev05IfdPw4kc2gpmtc/QzYWQJDvzz86CAqkNJ3DP4DAIWV/wsA/IkHe4Unpzj9dtIv0TbfOPwxrYUIP/MA/h+etVws5zj8ROtfrqP7HP/KpXr6aA8A/+t1K4dIw1z9++F8QGXXGP7FXj7grnMQ/b52QOFzf0T8dqqDuz1jPPw==",
          "dtype": "f8"
         },
         "yaxis": "y"
        },
        {
         "hovertemplate": "<b>OLS trendline</b><br>jsd = 0.00563108 * num_selections + 0.204494<br>R<sup>2</sup>=0.031603<br><br>country=Cyprus<br>num_selections=%{x}<br>jsd=%{y} <b>(trend)</b><extra></extra>",
         "legendgroup": "Cyprus",
         "marker": {
          "color": "#FF97FF",
          "symbol": "circle"
         },
         "mode": "lines",
         "name": "Cyprus",
         "showlegend": false,
         "type": "scattergl",
         "x": {
          "bdata": "BQUFBQUFBQUFBQYGBgYGBgYGBgcHBwcHBwcHBwcHBwcHBwgICA0NDQ0NDQ0NDQ0NDQ4=",
          "dtype": "i1"
         },
         "xaxis": "x",
         "y": {
          "bdata": "DFQgbnLHzT8MVCBucsfNPwxUIG5yx80/DFQgbnLHzT8MVCBucsfNPwxUIG5yx80/DFQgbnLHzT8MVCBucsfNPwxUIG5yx80/DFQgbnLHzT8ht1VQ93/OPyG3VVD3f84/IbdVUPd/zj8ht1VQ93/OPyG3VVD3f84/IbdVUPd/zj8ht1VQ93/OPyG3VVD3f84/IbdVUPd/zj82GosyfDjPPzYaizJ8OM8/NhqLMnw4zz82GosyfDjPPzYaizJ8OM8/NhqLMnw4zz82GosyfDjPPzYaizJ8OM8/NhqLMnw4zz82GosyfDjPPzYaizJ8OM8/NhqLMnw4zz82GosyfDjPPzYaizJ8OM8/NhqLMnw4zz9MfcAUAfHPP0x9wBQB8c8/TH3AFAHxzz9ctuW/zMXRP1y25b/MxdE/XLblv8zF0T9ctuW/zMXRP1y25b/MxdE/XLblv8zF0T9ctuW/zMXRP1y25b/MxdE/XLblv8zF0T9ctuW/zMXRP1y25b/MxdE/XLblv8zF0T/mZwAxDyLSPw==",
          "dtype": "f8"
         },
         "yaxis": "y"
        },
        {
         "hovertemplate": "country=Czech Rep.<br>num_selections=%{x}<br>jsd=%{y}<extra></extra>",
         "legendgroup": "Czech Rep.",
         "marker": {
          "color": "#FECB52",
          "symbol": "circle"
         },
         "mode": "markers",
         "name": "Czech Rep.",
         "showlegend": true,
         "type": "scattergl",
         "x": {
          "bdata": "AwUGBQQEBgUEBAQDBQQEBAMDBAgEAgUCAwQCBAIFAwUEAgQGBAUEBAUCBAQEBQMGBQQ=",
          "dtype": "i1"
         },
         "xaxis": "x",
         "y": {
          "bdata": "JZwcCVwk2j/ZYab+uBq6P3Kel/MJg9s/ifeOAZFJzz89/zGJSF+eP442ZvhdRMc/UKvwnnQJzj/WBYkaggrDP5UvmXFFD88/xq7ChLr31j8mtvdVVSrPP/7UiPzx9L0/z7c5YAFjyz9jZNUmdDfDP3XA01wu9dM/RncgvkjA0D9UlxXsfG3hP/i77PruEc8/MPdbcYhi2D/g+MAWkmvYPxTxnn0f28c//wkgk3u5uD/8/ThysuPQP5vi03QP1aE/t01kxHQv1T8FZjpqql/GPxtkoLOC+tA/AJJxCx20xj+AXEDmJTinPxyN9r9XIsE/TWqV31i4xz/3hrfcfdLcP/GEORECNMM/q8dCSpvKvD8sAtcfG9myP0mFM7cwAsk/j++VBB19uT9y70NbLk3SP8g01W7xSr8/S8MjeFvf0D/2aTtrcvDUP3hVIKSTzcE/S/bgmk+ytj/Oy6RGzjrCP7G8YJwKhM0/BS3BfeuP1D+7S12lHp7GPwg3Xs3nXsE/geir0qsEyz9HeynlAhHKPw==",
          "dtype": "f8"
         },
         "yaxis": "y"
        },
        {
         "hovertemplate": "<b>OLS trendline</b><br>jsd = 0.0265863 * num_selections + 0.108597<br>R<sup>2</sup>=0.082219<br><br>country=Czech Rep.<br>num_selections=%{x}<br>jsd=%{y} <b>(trend)</b><extra></extra>",
         "legendgroup": "Czech Rep.",
         "marker": {
          "color": "#FECB52",
          "symbol": "circle"
         },
         "mode": "lines",
         "name": "Czech Rep.",
         "showlegend": false,
         "type": "scattergl",
         "x": {
          "bdata": "AgICAgICAwMDAwMDAwQEBAQEBAQEBAQEBAQEBAQEBAQEBAUFBQUFBQUFBQUFBgYGBgg=",
          "dtype": "i1"
         },
         "xaxis": "x",
         "y": {
          "bdata": "nR5FleK0xD+dHkWV4rTEP50eRZXitMQ/nR5FleK0xD+dHkWV4rTEP50eRZXitMQ/WUCi/hAcyD9ZQKL+EBzIP1lAov4QHMg/WUCi/hAcyD9ZQKL+EBzIP1lAov4QHMg/WUCi/hAcyD8VYv9nP4PLPxVi/2c/g8s/FWL/Zz+Dyz8VYv9nP4PLPxVi/2c/g8s/FWL/Zz+Dyz8VYv9nP4PLPxVi/2c/g8s/FWL/Zz+Dyz8VYv9nP4PLPxVi/2c/g8s/FWL/Zz+Dyz8VYv9nP4PLPxVi/2c/g8s/FWL/Zz+Dyz8VYv9nP4PLPxVi/2c/g8s/FWL/Zz+Dyz8VYv9nP4PLPxVi/2c/g8s/FWL/Zz+Dyz/Rg1zRberOP9GDXNFt6s4/0YNc0W3qzj/Rg1zRberOP9GDXNFt6s4/0YNc0W3qzj/Rg1zRberOP9GDXNFt6s4/0YNc0W3qzj/Rg1zRberOP9GDXNFt6s4/xtJcHc4o0T/G0lwdzijRP8bSXB3OKNE/xtJcHc4o0T+C9LmG/I/UPw==",
          "dtype": "f8"
         },
         "yaxis": "y"
        },
        {
         "hovertemplate": "country=Czechia<br>num_selections=%{x}<br>jsd=%{y}<extra></extra>",
         "legendgroup": "Czechia",
         "marker": {
          "color": "#636efa",
          "symbol": "circle"
         },
         "mode": "markers",
         "name": "Czechia",
         "showlegend": true,
         "type": "scattergl",
         "x": {
          "bdata": "Bw4NBgYOBgcGBw4HDQcHBwUHBgYHBQcFDQ0FBQcIDQcHBQYGBQYHBg0FDQcNCA0FBQY=",
          "dtype": "i1"
         },
         "xaxis": "x",
         "y": {
          "bdata": "7vkcV9bdxj+QuRqjrbPdP1eSh4EhXMQ/uAQbyAb9xz+fcswSoaTRP0IX2pWsSOA/W8IYNun4zz+BQhIa3IfFPyKyfnI5MdE//zlcdwG4yj8HTHotTq3gPyjZzKZFBdA/s/Px3XuRxj8VdmtPjUbHP/rSbDNFSLo/EtaNCyVdyj9iBxlMMCrCP+7EtySBuMw/vxsMrZr3zT8SWiJSkOfPP8krSMyfhtQ/HQKr6UDzxj/TjxHlY/OwPyodxV5oi9g/X2eISQxvwz+KdqrA707XP/D5pKRP8MY/zRRJCXG0xD+u7VB8eDDOP1+nvJGdaMI/98y7O/0Uxz/hjub91tbMP2t7jkuWH8Q/1UbRt2qeuz89HO4aeTDEP1+0VZ6BMcg/TqjNuIDv3D918WC9jkXSPw3Izg7iG9s/j1yw6TuH0T+80pIb2w3KP/PYE4YWVtU/fX6A5Mk1zD9iK0lOnb7MP7C1u5AM1Ng/F+aGLIlAtD/VnYHA2xnfP4MOk/7giMY/yp58xMN2wj/b1ZJB2ETJPw==",
          "dtype": "f8"
         },
         "yaxis": "y"
        },
        {
         "hovertemplate": "<b>OLS trendline</b><br>jsd = 0.013468 * num_selections + 0.134305<br>R<sup>2</sup>=0.141580<br><br>country=Czechia<br>num_selections=%{x}<br>jsd=%{y} <b>(trend)</b><extra></extra>",
         "legendgroup": "Czechia",
         "marker": {
          "color": "#636efa",
          "symbol": "circle"
         },
         "mode": "lines",
         "name": "Czechia",
         "showlegend": false,
         "type": "scattergl",
         "x": {
          "bdata": "BQUFBQUFBQUFBQYGBgYGBgYGBgYGBwcHBwcHBwcHBwcHBwcHCAgNDQ0NDQ0NDQ0ODg4=",
          "dtype": "i1"
         },
         "xaxis": "x",
         "y": {
          "bdata": "LuY+xoLPyT8u5j7Ggs/JPy7mPsaCz8k/LuY+xoLPyT8u5j7Ggs/JPy7mPsaCz8k/LuY+xoLPyT8u5j7Ggs/JPy7mPsaCz8k/LuY+xoLPyT9GxB2b1IjLP0bEHZvUiMs/RsQdm9SIyz9GxB2b1IjLP0bEHZvUiMs/RsQdm9SIyz9GxB2b1IjLP0bEHZvUiMs/RsQdm9SIyz9GxB2b1IjLP0bEHZvUiMs/XaL8byZCzT9dovxvJkLNP12i/G8mQs0/XaL8byZCzT9dovxvJkLNP12i/G8mQs0/XaL8byZCzT9dovxvJkLNP12i/G8mQs0/XaL8byZCzT9dovxvJkLNP12i/G8mQs0/XaL8byZCzT9dovxvJkLNP12i/G8mQs0/dYDbRHj7zj91gNtEePvOP3brmrYIzdM/duuatgjN0z9265q2CM3TP3brmrYIzdM/duuatgjN0z9265q2CM3TP3brmrYIzdM/duuatgjN0z9265q2CM3TP4JaCqGxqdQ/gloKobGp1D+CWgqhsanUPw==",
          "dtype": "f8"
         },
         "yaxis": "y"
        },
        {
         "hovertemplate": "country=Denmark<br>num_selections=%{x}<br>jsd=%{y}<extra></extra>",
         "legendgroup": "Denmark",
         "marker": {
          "color": "#EF553B",
          "symbol": "circle"
         },
         "mode": "markers",
         "name": "Denmark",
         "showlegend": true,
         "type": "scattergl",
         "x": {
          "bdata": "BQcNBwQJBgcIAwcNAwsHBQcHBQUNDQkNCgcDBw0DBAoKBQ0NBQgFDgUHBwUHBwUDBQ0=",
          "dtype": "i1"
         },
         "xaxis": "x",
         "y": {
          "bdata": "y6L6oFbztD+FUEjMNDnSPxI25I1El9A/bzsOEzAvsz+MSgwfambQP2/C23Uxr+8/KGqFnvMruz+7qCZpu862PxcRhNapIdw/Njd2zfFcxz+plc2RNuzXP5KPC/R2e9k/Xq96Dg0szz/p3G4H8a/sP0rqRN0TBdw/KfJUn0Aj0j9EQon08mfTP+zCRxSAirs/ejAZeP7P1j/jYZI6oOnMP09xVx+zaM8/pQuUnGxayj+hnH6q06XvP0awWJlwIs0/b8LbdTGv7z9SZTw51STUP8Vcs2Qulro/MONPWKsR1j+6z6d2jsvaP81ekt94Bco/gpR73DoF1z9vwtt1Ma/vP2/C23Uxr+8/dvDWz6f/yT9FPsRIsivEPwAAAAAAAPA/1dNIO44Bxz85MEExq87APy9uw9qMleA/OJ7QBYHD0D84aGyYTJTVP2GsvRqTXbs/Z54sZHrSpD/5hg74cePDPznpZtCsLds/+FKkR2c70j/0N+syiXzBP4nxwYnNqcQ/PXwaRxxuzD9WjfbPe0/TPw==",
          "dtype": "f8"
         },
         "yaxis": "y"
        },
        {
         "hovertemplate": "<b>OLS trendline</b><br>jsd = 0.0298782 * num_selections + 0.12028<br>R<sup>2</sup>=0.128737<br><br>country=Denmark<br>num_selections=%{x}<br>jsd=%{y} <b>(trend)</b><extra></extra>",
         "legendgroup": "Denmark",
         "marker": {
          "color": "#EF553B",
          "symbol": "circle"
         },
         "mode": "lines",
         "name": "Denmark",
         "showlegend": false,
         "type": "scattergl",
         "x": {
          "bdata": "AwMDAwMEBAUFBQUFBQUFBQUFBgcHBwcHBwcHBwcHBwcICAkJCgoKCw0NDQ0NDQ0NDQ4=",
          "dtype": "i1"
         },
         "xaxis": "x",
         "y": {
          "bdata": "Ft5RqXveyj8W3lGpe97KPxbeUal73so/Ft5RqXveyj8W3lGpe97KP3/fJ9yHsc4/f98n3Iexzj908H4HSkLRP3TwfgdKQtE/dPB+B0pC0T908H4HSkLRP3TwfgdKQtE/dPB+B0pC0T908H4HSkLRP3TwfgdKQtE/dPB+B0pC0T908H4HSkLRP3TwfgdKQtE/KPHpINAr0z/c8VQ6VhXVP9zxVDpWFdU/3PFUOlYV1T/c8VQ6VhXVP9zxVDpWFdU/3PFUOlYV1T/c8VQ6VhXVP9zxVDpWFdU/3PFUOlYV1T/c8VQ6VhXVP9zxVDpWFdU/3PFUOlYV1T/c8VQ6VhXVP5Dyv1Pc/tY/kPK/U9z+1j9F8yptYujYP0XzKm1i6Ng/+fOVhujR2j/585WG6NHaP/nzlYbo0do/rfQAoG673D8Ke2tpPUfgPwp7a2k9R+A/CntraT1H4D8Ke2tpPUfgPwp7a2k9R+A/CntraT1H4D8Ke2tpPUfgPwp7a2k9R+A/CntraT1H4D9l+yB2ADzhPw==",
          "dtype": "f8"
         },
         "yaxis": "y"
        },
        {
         "hovertemplate": "country=Ecuador<br>num_selections=%{x}<br>jsd=%{y}<extra></extra>",
         "legendgroup": "Ecuador",
         "marker": {
          "color": "#00cc96",
          "symbol": "circle"
         },
         "mode": "markers",
         "name": "Ecuador",
         "showlegend": true,
         "type": "scattergl",
         "x": {
          "bdata": "Bg0OBwYGBw0GDQYFBg4HDQUNBQcNBwYIBwcGBw0NBw0GBwYNBwcOBgYHBwUFDgcGBwc=",
          "dtype": "i1"
         },
         "xaxis": "x",
         "y": {
          "bdata": "ykgnjZzyvz9ozlJ/czbcPy7ELL0lDes/sbPcEnc83D8gq3f1tJXZPxTmHbZfB9o/r3fr1FV1xD++pGp8R33cP/GCcI80RMQ/xHb5a19dyj97oQ84PVbOP/ibtmyZCM4/cEAUBSta3D/PuaaoWNXVP0CzjV5y7sI/q7OiUOS60D/qcwwMEvPbP4zatqLzcNo/iHOjT0Kd1T8tmezVZXDXP0Lv0yRYLdA/VtUhqkfwyT+VdCEPSWrgPzEhdCcEGs8/TyAdf4mu1j/QnoQp/bbGP/lUE9rKTMI/mM6ZKIPDxz81Mo8UdYbSP66P7lBHvM4/juqdoQ45vj+rMLlpS+nSP2O1Oq/Bx9A/qGS2lKkF5D9PD2kxDCLiP/KqI1Dpzs0/w4ZfYAPL2j+NQDjgee3hP0BaDGuZ7eE/GyGI0Ch53j9+1PbZBGbRP+v1FvUqfMM/URouba2evT+paIcv9h3TPweFZ9PpUc0/M9iepl7o2T8nFXMFipXTP8EbkAvTvNM/trc3Yiopuz/4V8qOcLLRPw==",
          "dtype": "f8"
         },
         "yaxis": "y"
        },
        {
         "hovertemplate": "<b>OLS trendline</b><br>jsd = 0.0103762 * num_selections + 0.234347<br>R<sup>2</sup>=0.046790<br><br>country=Ecuador<br>num_selections=%{x}<br>jsd=%{y} <b>(trend)</b><extra></extra>",
         "legendgroup": "Ecuador",
         "marker": {
          "color": "#00cc96",
          "symbol": "circle"
         },
         "mode": "lines",
         "name": "Ecuador",
         "showlegend": false,
         "type": "scattergl",
         "x": {
          "bdata": "BQUFBQUGBgYGBgYGBgYGBgYGBwcHBwcHBwcHBwcHBwcHBwcIDQ0NDQ0NDQ0NDQ4ODg4=",
          "dtype": "i1"
         },
         "xaxis": "x",
         "y": {
          "bdata": "8d2AwZBR0j/x3YDBkFHSP/HdgMGQUdI/8d2AwZBR0j/x3YDBkFHSP5NfxcGR+9I/k1/FwZH70j+TX8XBkfvSP5NfxcGR+9I/k1/FwZH70j+TX8XBkfvSP5NfxcGR+9I/k1/FwZH70j+TX8XBkfvSP5NfxcGR+9I/k1/FwZH70j+TX8XBkfvSP5NfxcGR+9I/NOEJwpKl0z804QnCkqXTPzThCcKSpdM/NOEJwpKl0z804QnCkqXTPzThCcKSpdM/NOEJwpKl0z804QnCkqXTPzThCcKSpdM/NOEJwpKl0z804QnCkqXTPzThCcKSpdM/NOEJwpKl0z804QnCkqXTPzThCcKSpdM/NOEJwpKl0z804QnCkqXTP9ZiTsKTT9Q//+qkw5ih1z//6qTDmKHXP//qpMOYodc//+qkw5ih1z//6qTDmKHXP//qpMOYodc//+qkw5ih1z//6qTDmKHXP//qpMOYodc//+qkw5ih1z+hbOnDmUvYP6Fs6cOZS9g/oWzpw5lL2D+hbOnDmUvYPw==",
          "dtype": "f8"
         },
         "yaxis": "y"
        },
        {
         "hovertemplate": "country=Egypt<br>num_selections=%{x}<br>jsd=%{y}<extra></extra>",
         "legendgroup": "Egypt",
         "marker": {
          "color": "#ab63fa",
          "symbol": "circle"
         },
         "mode": "markers",
         "name": "Egypt",
         "showlegend": true,
         "type": "scattergl",
         "x": {
          "bdata": "BQIODQ0EAg8CBQQHBwUHAggEAwQFAgUCBAMLBQ0HAwYNAwYEBAQCDgYEBwQFAwQEBwQ=",
          "dtype": "i1"
         },
         "xaxis": "x",
         "y": {
          "bdata": "W+VNDkVn4D/wCs422e7QP7IDChCA+Oo/Uk3O9mHH1D9TgrwEYE/KP0/pHhcAzMc/d2Fa1gSAwz8AFSlYO5HnPxRg3bZyKuA/XlH+Y6MM3T/s7mFwwwnCP1+rVz6KL9I/uTH4sjJy3j9dLBTXBRjYPyf+1KFeHdM/4FKom6xuxT9fVPsY0ZDRP28WIDSMjcA/Wn4Fpvq00z+ZZbDfANzHP6REa4p2h8U/7I4Br0X8xj8RYz4ZrZnSP722Whpkjl4/u8zoS9ZT2D8+yg0PO8DLP/NQi2Rvwco/KRtl5Qiozj9VYIweUCjRPz0jYPm5wdc/hWC9R2n91j/sv1P30ijQPzzoUFtD6tQ/4S4aXpDSyT9Sm100ZLzbP+QyZfgz1s0/99/oYiyrvz+0bM/3UybNP2MGTtpRCsY/HsF64A/W3T8tAFI58C3SP6vsN8Y8DdY/mrbNFo4XwT+JS0xLraPOPymu05/iscM/sgO96vB/vz8K+wCGgivRP/A+AIO6ka8/7Fk8v2AWyD/NbCAszBm+Pw==",
          "dtype": "f8"
         },
         "yaxis": "y"
        },
        {
         "hovertemplate": "<b>OLS trendline</b><br>jsd = 0.0217471 * num_selections + 0.151091<br>R<sup>2</sup>=0.257923<br><br>country=Egypt<br>num_selections=%{x}<br>jsd=%{y} <b>(trend)</b><extra></extra>",
         "legendgroup": "Egypt",
         "marker": {
          "color": "#ab63fa",
          "symbol": "circle"
         },
         "mode": "lines",
         "name": "Egypt",
         "showlegend": false,
         "type": "scattergl",
         "x": {
          "bdata": "AgICAgICAgMDAwMDBAQEBAQEBAQEBAQEBAUFBQUFBQUGBgYHBwcHBwcICw0NDQ0ODg8=",
          "dtype": "i1"
         },
         "xaxis": "x",
         "y": {
          "bdata": "eNMhbSfoyD940yFtJ+jIP3jTIW0n6Mg/eNMhbSfoyD940yFtJ+jIP3jTIW0n6Mg/eNMhbSfoyD/MCMxzw7DLP8wIzHPDsMs/zAjMc8Owyz/MCMxzw7DLP8wIzHPDsMs/Ij52el95zj8iPnZ6X3nOPyI+dnpfec4/Ij52el95zj8iPnZ6X3nOPyI+dnpfec4/Ij52el95zj8iPnZ6X3nOPyI+dnpfec4/Ij52el95zj8iPnZ6X3nOPyI+dnpfec4/Ij52el95zj+7OZDA/aDQP7s5kMD9oNA/uzmQwP2g0D+7OZDA/aDQP7s5kMD9oNA/uzmQwP2g0D+7OZDA/aDQP2ZU5cNLBdI/ZlTlw0sF0j9mVOXDSwXSPxBvOseZadM/EG86x5lp0z8QbzrHmWnTPxBvOseZadM/EG86x5lp0z8QbzrHmWnTP7qJj8rnzdQ/utmO1NH62D8PDznbbcPbPw8POdttw9s/Dw85223D2z8PDznbbcPbP7kpjt67J90/uSmO3rsn3T9kROPhCYzePw==",
          "dtype": "f8"
         },
         "yaxis": "y"
        },
        {
         "hovertemplate": "country=Egypt (Non-national sample)<br>num_selections=%{x}<br>jsd=%{y}<extra></extra>",
         "legendgroup": "Egypt (Non-national sample)",
         "marker": {
          "color": "#FFA15A",
          "symbol": "circle"
         },
         "mode": "markers",
         "name": "Egypt (Non-national sample)",
         "showlegend": true,
         "type": "scattergl",
         "x": {
          "bdata": "BAQFAgMDAwYEAwMDBAQEAgQEAgMDAwMFBAQFAgMEAwIEBAIDBAMCAgQDBAQEAwQCBAc=",
          "dtype": "i1"
         },
         "xaxis": "x",
         "y": {
          "bdata": "tFYzygBuzT+7s0VLT02dPyLCi1FYcNg/62eAEil8sz9MIKc8hm2xP+XNObq9N9E/w6ke1bPO0T+PBo+03XbeP++YBrd4y9E/8WVNO3y+1j8/98u+b6S8P6vnli5xZ8Q/rBTnLQYxxj/NOSpyb++pP0awDzXdb8Y/FYgcGHiynz90EJ6voDrhPwFgcaCFWMc/DsswXPVJjD/oVQTwgdPLP1vA655ctN0//wlyV0jx1j9bq3bQPlXgP6OYWCIUAs8/VHStiBQUxz/TD+lU+gfMP39vQmRlp8w/SHckba9Lgj+Fpek1jNnPP3QgghrSzbA/EqJOONBr2j9B6CVaq6PLP6VzrYrIN8E/ENcsl8Swyj8UDd6QgTHTP0WW6VECBtg/bhxRntsh0z9OBF39ynbXP2JtXJ2yFZY/jfkW6cnF1z/IIbEuZ2XeP4sTeLSUrNc/uZeR+jZh3z8YADAbzWm4P85lQVT/7Mk/eRj8h04Nxj+iAZ4R3CXAP25xHumUgrc/1XWrWGpe4T+AcMKorabePw==",
          "dtype": "f8"
         },
         "yaxis": "y"
        },
        {
         "hovertemplate": "<b>OLS trendline</b><br>jsd = 0.0489815 * num_selections + 0.076891<br>R<sup>2</sup>=0.112068<br><br>country=Egypt (Non-national sample)<br>num_selections=%{x}<br>jsd=%{y} <b>(trend)</b><extra></extra>",
         "legendgroup": "Egypt (Non-national sample)",
         "marker": {
          "color": "#FFA15A",
          "symbol": "circle"
         },
         "mode": "lines",
         "name": "Egypt (Non-national sample)",
         "showlegend": false,
         "type": "scattergl",
         "x": {
          "bdata": "AgICAgICAgICAwMDAwMDAwMDAwMDAwMDAwQEBAQEBAQEBAQEBAQEBAQEBAQEBQUFBgc=",
          "dtype": "i1"
         },
         "xaxis": "x",
         "y": {
          "bdata": "xxVw951hxj/HFXD3nWHGP8cVcPedYcY/xxVw951hxj/HFXD3nWHGP8cVcPedYcY/xxVw951hxj/HFXD3nWHGP8cVcPedYcY/1CBG2aSmzD/UIEbZpKbMP9QgRtmkpsw/1CBG2aSmzD/UIEbZpKbMP9QgRtmkpsw/1CBG2aSmzD/UIEbZpKbMP9QgRtmkpsw/1CBG2aSmzD/UIEbZpKbMP9QgRtmkpsw/1CBG2aSmzD/UIEbZpKbMP9QgRtmkpsw/1CBG2aSmzD/xFY7d1XXRP/EVjt3VddE/8RWO3dV10T/xFY7d1XXRP/EVjt3VddE/8RWO3dV10T/xFY7d1XXRP/EVjt3VddE/8RWO3dV10T/xFY7d1XXRP/EVjt3VddE/8RWO3dV10T/xFY7d1XXRP/EVjt3VddE/8RWO3dV10T/xFY7d1XXRP/EVjt3VddE/8RWO3dV10T/xFY7d1XXRP/EVjt3VddE/eBt5TlmY1D94G3lOWZjUP3gbeU5ZmNQ//iBkv9y61z+FJk8wYN3aPw==",
          "dtype": "f8"
         },
         "yaxis": "y"
        },
        {
         "hovertemplate": "country=El Salvador<br>num_selections=%{x}<br>jsd=%{y}<extra></extra>",
         "legendgroup": "El Salvador",
         "marker": {
          "color": "#19d3f3",
          "symbol": "circle"
         },
         "mode": "markers",
         "name": "El Salvador",
         "showlegend": true,
         "type": "scattergl",
         "x": {
          "bdata": "CwMFCwUEAwQEAwUFAwMEBQsDBAsEAwMDBAQFBAMECwMCBAIEBAQLCwICAwsFAwsCCwM=",
          "dtype": "i1"
         },
         "xaxis": "x",
         "y": {
          "bdata": "H5YFDPsn1D/fLpGuoNjZP+oMznHKcMU/lh7wliTd3z81xeMma7DgP6yFOjkTocA/eaGIw75ltz9RDO1d8nDEP7+jjGUD6NM/H0ZxOzPUsT/LTAk3Op3OPy2iJfCgbOI/GhfjDIpFzj8qi3Z8OD27P2qEGU23P8k/8gHCeMEU1j9Gv9xeiX3APzY7ymhoz9A/c43hx86p1T/m+U6VTWPgPy8MAwRKDs0/Cl4U5b2Z2z9LWh76XfPVPxpyFff3M88/sIHioc9TwD/9WDvj/16+PzDqPfgvatY/qZ1nARSHwT886GztcfXNP+Pz7w4xsMw/ushpCZGp2T8nzT+ukQjTP3GpKSzWicA/POdiGmAw0z/xz+aPXJvIP0EAxu4jvck/AxrlgCH71z9aMHP6vJLSPxF1/Y2DSeU/aoqKmKnv4T9lN5qE9G7QP62y/zL0mdA/xgbfSnrr0z9HRjHFep3eP56/8aR5isg/iM9dMKTWtT9Pw2z0CZbbP69xGAg8pZA/zuJBV2Cl5T/9EdpCterFPw==",
          "dtype": "f8"
         },
         "yaxis": "y"
        },
        {
         "hovertemplate": "<b>OLS trendline</b><br>jsd = 0.031305 * num_selections + 0.128302<br>R<sup>2</sup>=0.384364<br><br>country=El Salvador<br>num_selections=%{x}<br>jsd=%{y} <b>(trend)</b><extra></extra>",
         "legendgroup": "El Salvador",
         "marker": {
          "color": "#19d3f3",
          "symbol": "circle"
         },
         "mode": "lines",
         "name": "El Salvador",
         "showlegend": false,
         "type": "scattergl",
         "x": {
          "bdata": "AgICAgIDAwMDAwMDAwMDAwMDAwQEBAQEBAQEBAQEBAQEBQUFBQUFBQsLCwsLCwsLCws=",
          "dtype": "i1"
         },
         "xaxis": "x",
         "y": {
          "bdata": "bFyWytBvyD9sXJbK0G/IP2xclsrQb8g/bFyWytBvyD9sXJbK0G/IPxN2tweeccw/E3a3B55xzD8TdrcHnnHMPxN2tweeccw/E3a3B55xzD8TdrcHnnHMPxN2tweeccw/E3a3B55xzD8TdrcHnnHMPxN2tweeccw/E3a3B55xzD8TdrcHnnHMPxN2tweeccw/E3a3B55xzD/dR2yitTnQP91HbKK1OdA/3UdsorU50D/dR2yitTnQP91HbKK1OdA/3UdsorU50D/dR2yitTnQP91HbKK1OdA/3UdsorU50D/dR2yitTnQP91HbKK1OdA/3UdsorU50D/dR2yitTnQP91HbKK1OdA/sNT8QJw60j+w1PxAnDrSP7DU/ECcOtI/sNT8QJw60j+w1PxAnDrSP7DU/ECcOtI/sNT8QJw60j+lIWD4A0DeP6UhYPgDQN4/pSFg+ANA3j+lIWD4A0DeP6UhYPgDQN4/pSFg+ANA3j+lIWD4A0DeP6UhYPgDQN4/pSFg+ANA3j+lIWD4A0DePw==",
          "dtype": "f8"
         },
         "yaxis": "y"
        },
        {
         "hovertemplate": "country=Estonia<br>num_selections=%{x}<br>jsd=%{y}<extra></extra>",
         "legendgroup": "Estonia",
         "marker": {
          "color": "#FF6692",
          "symbol": "circle"
         },
         "mode": "markers",
         "name": "Estonia",
         "showlegend": true,
         "type": "scattergl",
         "x": {
          "bdata": "Bw0IDQ4HCAUFBwcGBQcHBwUHCA4NBwcNDgUNBw0ICA0NBwUNBwYHBwUGCAUHBw0HDQU=",
          "dtype": "i1"
         },
         "xaxis": "x",
         "y": {
          "bdata": "3Xjf85xQzT9si1wUozHUP8AX0NJ9tsA/SKhITh891T//CsgZx6bYP/QjhjMdhco/CRvY6cQ7zT+kEkZ6FVm7PzkbMUcLqd4/lgvzaxcf0z8vRnoOanHKP2p/p2mpOtE/c3m+MHTNyT8VlWRN3vjKPxQP34+CMMg/vzK6b+vp2T8teKK9iLLdP5xIMB3yu9A/S2rQnd9f3D9KmT3bs3jXP6kimz+Ll9A/RUKI6ARb0j+OEMEbHSjUP+6uSPuuzck/Vpkb8j6m5D+rMSNwQq6zP0wXu7El99I/B7OpqzYsxT92v2TXmtvBP96EwwDKSc4/t+ZOAHCxxj8SPDcyCrPVP+uubUGYe9g/Li0FCJUAzT8PGT6ead/OPy4Ly/fxc9E/dsgtnbLczz+aIUo5T5DQP7UywYkcDcE/Ky2YG7FS1T8d8zJKwg3iP/N+9z1RncU//JSDSv12zj9+/2f2jZTGP2KF0gg6hso/mE5pTXaw1z+VQLLB+VnQP9hrGoxbCtQ/jWmLtZPY0D9hZXzpWLy6Pw==",
          "dtype": "f8"
         },
         "yaxis": "y"
        },
        {
         "hovertemplate": "<b>OLS trendline</b><br>jsd = 0.00914271 * num_selections + 0.195379<br>R<sup>2</sup>=0.062476<br><br>country=Estonia<br>num_selections=%{x}<br>jsd=%{y} <b>(trend)</b><extra></extra>",
         "legendgroup": "Estonia",
         "marker": {
          "color": "#FF6692",
          "symbol": "circle"
         },
         "mode": "lines",
         "name": "Estonia",
         "showlegend": false,
         "type": "scattergl",
         "x": {
          "bdata": "BQUFBQUFBQUFBgYGBwcHBwcHBwcHBwcHBwcHBwcHCAgICAgIDQ0NDQ0NDQ0NDQ0ODg4=",
          "dtype": "i1"
         },
         "xaxis": "x",
         "y": {
          "bdata": "Z4pBLiLczj9nikEuItzOP2eKQS4i3M4/Z4pBLiLczj9nikEuItzOP2eKQS4i3M4/Z4pBLiLczj9nikEuItzOP2eKQS4i3M4/RORsatwD0D9E5Gxq3APQP0TkbGrcA9A/VAO5vaeZ0D9UA7m9p5nQP1QDub2nmdA/VAO5vaeZ0D9UA7m9p5nQP1QDub2nmdA/VAO5vaeZ0D9UA7m9p5nQP1QDub2nmdA/VAO5vaeZ0D9UA7m9p5nQP1QDub2nmdA/VAO5vaeZ0D9UA7m9p5nQP1QDub2nmdA/VAO5vaeZ0D9UA7m9p5nQP1QDub2nmdA/ZSIFEXMv0T9lIgURcy/RP2UiBRFzL9E/ZSIFEXMv0T9lIgURcy/RP2UiBRFzL9E/uL2BsWsc1D+4vYGxaxzUP7i9gbFrHNQ/uL2BsWsc1D+4vYGxaxzUP7i9gbFrHNQ/uL2BsWsc1D+4vYGxaxzUP7i9gbFrHNQ/uL2BsWsc1D+4vYGxaxzUP8jczQQ3stQ/yNzNBDey1D/I3M0EN7LUPw==",
          "dtype": "f8"
         },
         "yaxis": "y"
        },
        {
         "hovertemplate": "country=Ethiopia<br>num_selections=%{x}<br>jsd=%{y}<extra></extra>",
         "legendgroup": "Ethiopia",
         "marker": {
          "color": "#B6E880",
          "symbol": "circle"
         },
         "mode": "markers",
         "name": "Ethiopia",
         "showlegend": true,
         "type": "scattergl",
         "x": {
          "bdata": "BwUHBg0IBwYHBwYFBwYHDQYHBQcHBwcHBwcGBwcDBQcHBg0NBQUFBwUHBQcHBgcGBQQ=",
          "dtype": "i1"
         },
         "xaxis": "x",
         "y": {
          "bdata": "JQnYDp6x0T/JfQ7xyUnJPwdAL/MyMds/vP2dpfl5xT+tiChNjm/ZP+YwmKAFo9M/MElOOrWKxT/lKBM7jk/FP2H15ULZ3No/loa7IaFo2z8B/UuKeZHVP9ZA2q8XwdY/N84CF/81yz9qirj7CrvSP41wxOJsHtE/omOxn8963T/de1v+WRnQP/8uInPrc9M/F9wj9xecyj//M8j4xUTQP/XRH+7bF9E/eXQOoA340T8PP2WYBeHcPx16rl7Dcdg/KTe5bS6LzD8iJJLX2AjSP0Q0I0bnwNY/VnJMMLDkzD+ev0aCpMfUPxJ1fHxTyOI/Pf+f5V5QxT8rle6znkvXPyLVdAg49NQ/2pcG7CM50T+rET6Mrv7bP0WqphqLa+g/V5S0KS3K0D+HNJ3JaBjRP6gkRmi+WcU/LMM/6gyJ1D95liHL3UvJP2x++HUMJNk/oWV2NvmWyz8e+PpC9xHRP5zByRFvdck/DJ/cZ1LU1T94QyvRodfMPxqw9K0SR+A/OCLeUIe6yD/jhb73unLNPw==",
          "dtype": "f8"
         },
         "yaxis": "y"
        },
        {
         "hovertemplate": "<b>OLS trendline</b><br>jsd = 0.0270395 * num_selections + 0.124483<br>R<sup>2</sup>=0.232968<br><br>country=Ethiopia<br>num_selections=%{x}<br>jsd=%{y} <b>(trend)</b><extra></extra>",
         "legendgroup": "Ethiopia",
         "marker": {
          "color": "#B6E880",
          "symbol": "circle"
         },
         "mode": "lines",
         "name": "Ethiopia",
         "showlegend": false,
         "type": "scattergl",
         "x": {
          "bdata": "AwQFBQUFBQUFBQUFBgYGBgYGBgYGBwcHBwcHBwcHBwcHBwcHBwcHBwcHBwcHCA0NDQ0=",
          "dtype": "i1"
         },
         "xaxis": "x",
         "y": {
          "bdata": "2NOuNypRyj9iDfQGMsfNP3ajHOucntA/dqMc65ye0D92oxzrnJ7QP3ajHOucntA/dqMc65ye0D92oxzrnJ7QP3ajHOucntA/dqMc65ye0D92oxzrnJ7QP3ajHOucntA/OkC/0qBZ0j86QL/SoFnSPzpAv9KgWdI/OkC/0qBZ0j86QL/SoFnSPzpAv9KgWdI/OkC/0qBZ0j86QL/SoFnSPzpAv9KgWdI//9xhuqQU1D//3GG6pBTUP//cYbqkFNQ//9xhuqQU1D//3GG6pBTUP//cYbqkFNQ//9xhuqQU1D//3GG6pBTUP//cYbqkFNQ//9xhuqQU1D//3GG6pBTUP//cYbqkFNQ//9xhuqQU1D//3GG6pBTUP//cYbqkFNQ//9xhuqQU1D//3GG6pBTUP//cYbqkFNQ//9xhuqQU1D//3GG6pBTUP//cYbqkFNQ//9xhuqQU1D//3GG6pBTUP//cYbqkFNQ/xHkEoqjP1T+ciTEovHbeP5yJMSi8dt4/nIkxKLx23j+ciTEovHbePw==",
          "dtype": "f8"
         },
         "yaxis": "y"
        },
        {
         "hovertemplate": "country=Ethiopia (Non-national sample)<br>num_selections=%{x}<br>jsd=%{y}<extra></extra>",
         "legendgroup": "Ethiopia (Non-national sample)",
         "marker": {
          "color": "#FF97FF",
          "symbol": "circle"
         },
         "mode": "markers",
         "name": "Ethiopia (Non-national sample)",
         "showlegend": true,
         "type": "scattergl",
         "x": {
          "bdata": "BAQEBAMEBAQEBAUCBAQEAgQEBQIDBAQCBgQEAgQEBAQCAwUDBQQEAwUCBAQDBAcCBAM=",
          "dtype": "i1"
         },
         "xaxis": "x",
         "y": {
          "bdata": "HqNnUB6C0T/UMyZ13TfJP6w5kz71Pro/Lvl8aJxqvD9vxwbTZvXQP1vKqEuKcMQ/xCNIcdUQ0T9RY7UfJMPJP5ehL6bbJsM/AzL15+KizT8G0vrW4jzQPxcWUk7jY6s/KQBrvjs9xT8tNJr38SvNP6SlfYfPh8M/I0/IqVlZwz+Mr43Qh6PPP9jPdWsgQdA/0K8fCMq20j8A9qR+8fDTP68/tpLvt9I/3oeQb1IXyD8Zd1oBaxKxP5BpHwO0MbM/M/ZWjduQ2T8DPI+F41HQP2Db3RqLjNQ/OG7VaSLrwz9OaWSiTxnFP99JhCtppck/JId+gZeAwT++Eq833PPUPwcezj7duI8/HSeUxsuWxD8pjxKqNtDRP6n2ut28G9g/62Qv5CpgyT/r8VlEs23KPwFAvk88g7Q/+tSI2HfWzz/++3a3vmjVP7bkQH5Kh8A/jcIjtpyO2z/eXAi7ZFbXP352vYZJ97M/s6K0Ng8eyT8K4CFqKXvUP2xScuJ7SnE/DGNeOIC/xT+r+JtjiSHIPw==",
          "dtype": "f8"
         },
         "yaxis": "y"
        },
        {
         "hovertemplate": "<b>OLS trendline</b><br>jsd = 0.0452585 * num_selections + 0.0393598<br>R<sup>2</sup>=0.231329<br><br>country=Ethiopia (Non-national sample)<br>num_selections=%{x}<br>jsd=%{y} <b>(trend)</b><extra></extra>",
         "legendgroup": "Ethiopia (Non-national sample)",
         "marker": {
          "color": "#FF97FF",
          "symbol": "circle"
         },
         "mode": "lines",
         "name": "Ethiopia (Non-national sample)",
         "showlegend": false,
         "type": "scattergl",
         "x": {
          "bdata": "AgICAgICAgIDAwMDAwMDBAQEBAQEBAQEBAQEBAQEBAQEBAQEBAQEBAQEBAUFBQUFBgc=",
          "dtype": "i1"
         },
         "xaxis": "x",
         "y": {
          "bdata": "k1P9scyfwD+TU/2xzJ/AP5NT/bHMn8A/k1P9scyfwD+TU/2xzJ/AP5NT/bHMn8A/k1P9scyfwD+TU/2xzJ/AP6jEsSLUasY/qMSxItRqxj+oxLEi1GrGP6jEsSLUasY/qMSxItRqxj+oxLEi1GrGP6jEsSLUasY/vTVmk9s1zD+9NWaT2zXMP701ZpPbNcw/vTVmk9s1zD+9NWaT2zXMP701ZpPbNcw/vTVmk9s1zD+9NWaT2zXMP701ZpPbNcw/vTVmk9s1zD+9NWaT2zXMP701ZpPbNcw/vTVmk9s1zD+9NWaT2zXMP701ZpPbNcw/vTVmk9s1zD+9NWaT2zXMP701ZpPbNcw/vTVmk9s1zD+9NWaT2zXMP701ZpPbNcw/vTVmk9s1zD+9NWaT2zXMP701ZpPbNcw/vTVmk9s1zD+9NWaT2zXMP701ZpPbNcw/vTVmk9s1zD9pUw2CcQDRP2lTDYJxANE/aVMNgnEA0T9pUw2CcQDRP2lTDYJxANE/9ItnOvXl0z9/xMHyeMvWPw==",
          "dtype": "f8"
         },
         "yaxis": "y"
        },
        {
         "hovertemplate": "country=Finland<br>num_selections=%{x}<br>jsd=%{y}<extra></extra>",
         "legendgroup": "Finland",
         "marker": {
          "color": "#FECB52",
          "symbol": "circle"
         },
         "mode": "markers",
         "name": "Finland",
         "showlegend": true,
         "type": "scattergl",
         "x": {
          "bdata": "BQcIBwUIBwcFDQUOBQcFCAcFBw0IBwgHBwcFBg0OBwcHBQcHDgcNBgcHBQ4NDQ4NDQg=",
          "dtype": "i1"
         },
         "xaxis": "x",
         "y": {
          "bdata": "5NgwrgYJxz8ZJ0U2EBrZP3k1Ya2Tt8Q/mOWr/75JzD8u8w0MmG7EP1Ii6ycOCss/0Zva0UoexD9qtgGFIBfIP9lWziwmr78/Q6Mab72u0D8DJyZnFYnLP8hCSITpmOQ/g+TSmPJIxj+P24ysBnTYP3oBKVLKCsw/AAAAAAAA+H/tjuCrKXfaP/LFvxJe19A/EXal1EyfzT/00f6jtWzaPwr250MsrcA/9Kvi1wTd1j8D23bGrg/OP7vuXccEVMg/I6qI3U1L3j/6RgiFKHS+PxbgWbGaItE/pIb59a4S1z+KeFmSZL3RP612+1L3Bc8/uqzMU36J2z/Nn4Vcr9rHP9SFti22atQ/vdUrA9ad4j9nBNV+kTHPP73dhuC/Xco/hXHcHA0g0T9gQ33xHKfGPwLuXy7olt4/xVGtOnLKwT9FTAW0gU/KP9ygRXspMdg/9OBrrjH40j/GBbsVclzTP0H99zbPGdU/ZyOUo03GzT/sl0103GXkPzhubMtTVNM/aNj32uvE0j/4aHlUOJbQPw==",
          "dtype": "f8"
         },
         "yaxis": "y"
        },
        {
         "hovertemplate": "<b>OLS trendline</b><br>jsd = 0.0141485 * num_selections + 0.16616<br>R<sup>2</sup>=0.128248<br><br>country=Finland<br>num_selections=%{x}<br>jsd=%{y} <b>(trend)</b><extra></extra>",
         "legendgroup": "Finland",
         "marker": {
          "color": "#FECB52",
          "symbol": "circle"
         },
         "mode": "lines",
         "name": "Finland",
         "showlegend": false,
         "type": "scattergl",
         "x": {
          "bdata": "BQUFBQUFBQUFBQYGBwcHBwcHBwcHBwcHBwcHBwcHBwgICAgIDQ0NDQ0NDQ0ODg4ODg==",
          "dtype": "i1"
         },
         "xaxis": "x",
         "y": {
          "bdata": "T4dRZtJSzj9Ph1Fm0lLOP0+HUWbSUs4/T4dRZtJSzj9Ph1Fm0lLOP0+HUWbSUs4/T4dRZtJSzj9Ph1Fm0lLOP0+HUWbSUs4/T4dRZtJSzj+66/UvOBHQP7rr9S84EdA/zBPDLAf50D/ME8MsB/nQP8wTwywH+dA/zBPDLAf50D/ME8MsB/nQP8wTwywH+dA/zBPDLAf50D/ME8MsB/nQP8wTwywH+dA/zBPDLAf50D/ME8MsB/nQP8wTwywH+dA/zBPDLAf50D/ME8MsB/nQP8wTwywH+dA/zBPDLAf50D/ME8MsB/nQP8wTwywH+dA/zBPDLAf50D/eO5Ap1uDRP947kCnW4NE/3juQKdbg0T/eO5Ap1uDRP947kCnW4NE/OASSGeFn1j84BJIZ4WfWPzgEkhnhZ9Y/OASSGeFn1j84BJIZ4WfWPzgEkhnhZ9Y/OASSGeFn1j84BJIZ4WfWP0osXxawT9c/SixfFrBP1z9KLF8WsE/XP0osXxawT9c/SixfFrBP1z8=",
          "dtype": "f8"
         },
         "yaxis": "y"
        },
        {
         "hovertemplate": "country=France<br>num_selections=%{x}<br>jsd=%{y}<extra></extra>",
         "legendgroup": "France",
         "marker": {
          "color": "#636efa",
          "symbol": "circle"
         },
         "mode": "markers",
         "name": "France",
         "showlegend": true,
         "type": "scattergl",
         "x": {
          "bdata": "BAQEAgQFBAQCBgYFBQIFBAQECwQDAwMEBwIEAgUFDQIFBQQFBAMDAgMEAwUDAw0EAgM=",
          "dtype": "i1"
         },
         "xaxis": "x",
         "y": {
          "bdata": "LWpXGXYLyz+Gf6C0YlW8P0aKf+8G1NU/fxiDghGLxz+GGd47vnvTP1Z2Ejovmrw/mghnbX2+yT+bdGYXU0u7PzRyJb33W8s/GWTgRAhE0D/1DWaLEL3AP/sEH0zv5MY/qKE13DxH1T9nciDIVDDFP3TT0Bq/uMs/kh4UYS4Lyj/d9DZhQSzIP39bPJjnc9E/51aM2olH1D8OW9x5hhHRP61QCT+2As4/CmOAFeSJwj9QJ6dTQqfAP1hJoW6n/rQ/QpYcMAuTzj99oYLz65GJP3bSV3z5LdQ/4cpTjmK+0T9RHPbqelrEP12AV/u+isE/Hfjy302F0T+4znllTsGbPyQAvjxkHcQ/RbBoz+k32j9ysW7uJBvFP/JqQlypprc/Vh/KJz6grz/7DLVqgmLPP0bvuF9EWcY/H30G0Ye5uT9C5Vb7DKKlP/LHdQdik8c/F3WoWB/x0D8lsEDB84myP12XK4q6k8M/G4P1pA8L0j92wb17F2fQP8r42sGZrMM/k1ykGvcqfj/8TsJgVavCPw==",
          "dtype": "f8"
         },
         "yaxis": "y"
        },
        {
         "hovertemplate": "<b>OLS trendline</b><br>jsd = 0.0129871 * num_selections + 0.130127<br>R<sup>2</sup>=0.113847<br><br>country=France<br>num_selections=%{x}<br>jsd=%{y} <b>(trend)</b><extra></extra>",
         "legendgroup": "France",
         "marker": {
          "color": "#636efa",
          "symbol": "circle"
         },
         "mode": "lines",
         "name": "France",
         "showlegend": false,
         "type": "scattergl",
         "x": {
          "bdata": "AgICAgICAgIDAwMDAwMDAwMDBAQEBAQEBAQEBAQEBAQEBAUFBQUFBQUFBQUGBgcLDQ0=",
          "dtype": "i1"
         },
         "xaxis": "x",
         "y": {
          "bdata": "IXWTriH7wz8hdZOuIfvDPyF1k64h+8M/IXWTriH7wz8hdZOuIfvDPyF1k64h+8M/IXWTriH7wz8hdZOuIfvDP2zSOIexpMU/bNI4h7GkxT9s0jiHsaTFP2zSOIexpMU/bNI4h7GkxT9s0jiHsaTFP2zSOIexpMU/bNI4h7GkxT9s0jiHsaTFP2zSOIexpMU/ty/eX0FOxz+3L95fQU7HP7cv3l9BTsc/ty/eX0FOxz+3L95fQU7HP7cv3l9BTsc/ty/eX0FOxz+3L95fQU7HP7cv3l9BTsc/ty/eX0FOxz+3L95fQU7HP7cv3l9BTsc/ty/eX0FOxz+3L95fQU7HP7cv3l9BTsc/ty/eX0FOxz8CjYM40ffIPwKNgzjR98g/Ao2DONH3yD8CjYM40ffIPwKNgzjR98g/Ao2DONH3yD8CjYM40ffIPwKNgzjR98g/Ao2DONH3yD8CjYM40ffIP03qKBFhoco/TeooEWGhyj+YR87p8ErMP2LeMSaYeNE/rTvX/ici0z+tO9f+JyLTPw==",
          "dtype": "f8"
         },
         "yaxis": "y"
        },
        {
         "hovertemplate": "country=Georgia<br>num_selections=%{x}<br>jsd=%{y}<extra></extra>",
         "legendgroup": "Georgia",
         "marker": {
          "color": "#EF553B",
          "symbol": "circle"
         },
         "mode": "markers",
         "name": "Georgia",
         "showlegend": true,
         "type": "scattergl",
         "x": {
          "bdata": "BQ4FCA0NBgcFBw0HBwYFDgcHBQ0FDQcHDgcHBQ0HDgcHDQcFBw0FBwcGCAcHBgcIBwc=",
          "dtype": "i1"
         },
         "xaxis": "x",
         "y": {
          "bdata": "/sgNwKNfyD+HrPk0cJzRP2zbLRB469A/bwSNNRWA0T/50SHLyTPeP/3gKGscxcs/BEET4V9AyD9N1Ul0rAjSP2yhZLRHGtk/rtjozC/+wz8CRtwEaS3IP/shP1+nVt0/qFEvYZNgyz/UOzYSX+vUP67UsNyUTMQ/FHvyFILB4T90J6xMoBvOP4O6GIxE1NI/9nsw0ia0yj/sVP0CyUnJPx6TmEp0VsI/YSZDW7u14z9sljmO/0raP+P51sQS59M/YTn3waLj5T8JVx8GAQ/PPzc0ZaBE+Mc/P+TE873+yj/cZcs0aN3kP+1RWStxmNI/M0Z7O3gL2z9vuNSQNBDbPw/TldWGu8k/gaNbD8D70z9rbabfWee6P4xnjKU/cM4/6EXTryIb0D/M+p4qFPvCPwjp1wxFbtQ/gnNxivRcwD9KrUA4O5jDP1rwaENmCtQ/wlJzdXVCxz9Fqi41UYDDP4QJxRNq2tU/sXkTTGxy1D+o4bvdMVfYP+Ji66i6k9w/5b7+7QIgvj+Q0be8WO7OPw==",
          "dtype": "f8"
         },
         "yaxis": "y"
        },
        {
         "hovertemplate": "<b>OLS trendline</b><br>jsd = 0.0202561 * num_selections + 0.124985<br>R<sup>2</sup>=0.202754<br><br>country=Georgia<br>num_selections=%{x}<br>jsd=%{y} <b>(trend)</b><extra></extra>",
         "legendgroup": "Georgia",
         "marker": {
          "color": "#EF553B",
          "symbol": "circle"
         },
         "mode": "lines",
         "name": "Georgia",
         "showlegend": false,
         "type": "scattergl",
         "x": {
          "bdata": "BQUFBQUFBQUFBgYGBgcHBwcHBwcHBwcHBwcHBwcHBwcHBwcICAgNDQ0NDQ0NDQ4ODg4=",
          "dtype": "i1"
         },
         "xaxis": "x",
         "y": {
          "bdata": "3DRNxkf2zD/cNE3GR/bMP9w0TcZH9sw/3DRNxkf2zD/cNE3GR/bMP9w0TcZH9sw/3DRNxkf2zD/cNE3GR/bMP9w0TcZH9sw/BQaeEAiOzz8FBp4QCI7PPwUGnhAIjs8/BQaeEAiOzz+Xa3ct5BLRP5drdy3kEtE/l2t3LeQS0T+Xa3ct5BLRP5drdy3kEtE/l2t3LeQS0T+Xa3ct5BLRP5drdy3kEtE/l2t3LeQS0T+Xa3ct5BLRP5drdy3kEtE/l2t3LeQS0T+Xa3ct5BLRP5drdy3kEtE/l2t3LeQS0T+Xa3ct5BLRP5drdy3kEtE/l2t3LeQS0T+Xa3ct5BLRP5drdy3kEtE/l2t3LeQS0T+Xa3ct5BLRPyzUn1LEXtI/LNSfUsRe0j8s1J9SxF7SPxLfaQwl2tg/Et9pDCXa2D8S32kMJdrYPxLfaQwl2tg/Et9pDCXa2D8S32kMJdrYPxLfaQwl2tg/Et9pDCXa2D+nR5IxBSbaP6dHkjEFJto/p0eSMQUm2j+nR5IxBSbaPw==",
          "dtype": "f8"
         },
         "yaxis": "y"
        },
        {
         "hovertemplate": "country=Germany<br>num_selections=%{x}<br>jsd=%{y}<extra></extra>",
         "legendgroup": "Germany",
         "marker": {
          "color": "#00cc96",
          "symbol": "circle"
         },
         "mode": "markers",
         "name": "Germany",
         "showlegend": true,
         "type": "scattergl",
         "x": {
          "bdata": "BgcHCAQCBAMCBwQEAgcEAgQFBwcGBAIFAwUEDQoEBQICAwUGAwIDAwMCBAMFAwICBAU=",
          "dtype": "i1"
         },
         "xaxis": "x",
         "y": {
          "bdata": "E+yxHuhF0D94JO1OpNbhPyBnE9/5w8k/BV2x+E1J4D8GUG1xzm/SP6aj/bf4j8M/mFyIPYrC1D+483hsseaxP0McRyKhBcM/yZb0LDRFyT/jVWSTGziwP1iVPaqoZs0/nNYx7HmAtD8FyUTbCcjZP9d4VPJm8MY/KbrSunQqnz982B29UnHFP6gg9vpb9NU/kYmm4vcSxz/Kms8GbtPWPy5CmlzYF9Q/YdHThB3w4D/kDUIpymDBP3pcYDZ6ZcU/26Ps9vXksj/BvnPMRxjUPz5G9fUNyNs/ptzBneIYzj8YVAk8uYfvP+gqYrZCPdE/Ke4LvRXnwj97Yh3fGSy5P0gjGNT5QcA/Em7M0AkQ4D+83OIA+LSrP6FsY3+cYNY/vHgmTCvIdj831J4yCJXLP+50BFPbbc4/Wl94ImSSyj9DtPLnK//FP17Tk4XAJ8Y/8Oo/S4XbxD9ZNyjKjVDIPw3nyK1BaMc/5UBdWEac2z+2apmVEzSxPyXCaGEMdNc/8E87fis9zz8outUy2I3SPw==",
          "dtype": "f8"
         },
         "yaxis": "y"
        },
        {
         "hovertemplate": "<b>OLS trendline</b><br>jsd = 0.0368835 * num_selections + 0.0868308<br>R<sup>2</sup>=0.237373<br><br>country=Germany<br>num_selections=%{x}<br>jsd=%{y} <b>(trend)</b><extra></extra>",
         "legendgroup": "Germany",
         "marker": {
          "color": "#00cc96",
          "symbol": "circle"
         },
         "mode": "lines",
         "name": "Germany",
         "showlegend": false,
         "type": "scattergl",
         "x": {
          "bdata": "AgICAgICAgICAgIDAwMDAwMDAwMEBAQEBAQEBAQEBAUFBQUFBQUGBgYHBwcHBwcICg0=",
          "dtype": "i1"
         },
         "xaxis": "x",
         "y": {
          "bdata": "XsRfsHiOxD9exF+weI7EP17EX7B4jsQ/XsRfsHiOxD9exF+weI7EP17EX7B4jsQ/XsRfsHiOxD9exF+weI7EP17EX7B4jsQ/XsRfsHiOxD9exF+weI7EP8jXh0ISR8k/yNeHQhJHyT/I14dCEkfJP8jXh0ISR8k/yNeHQhJHyT/I14dCEkfJP8jXh0ISR8k/yNeHQhJHyT/I14dCEkfJPzTrr9Sr/80/NOuv1Kv/zT8066/Uq//NPzTrr9Sr/80/NOuv1Kv/zT8066/Uq//NPzTrr9Sr/80/NOuv1Kv/zT8066/Uq//NPzTrr9Sr/80/NOuv1Kv/zT9P/2uzIlzRP0//a7MiXNE/T/9rsyJc0T9P/2uzIlzRP0//a7MiXNE/T/9rsyJc0T9P/2uzIlzRPwQJgHxvuNM/BAmAfG+40z8ECYB8b7jTP7oSlEW8FNY/uhKURbwU1j+6EpRFvBTWP7oSlEW8FNY/uhKURbwU1j+6EpRFvBTWP28cqA4Jcdg/2i/QoKIp3T99JgZ+RB/iPw==",
          "dtype": "f8"
         },
         "yaxis": "y"
        },
        {
         "hovertemplate": "country=Ghana<br>num_selections=%{x}<br>jsd=%{y}<extra></extra>",
         "legendgroup": "Ghana",
         "marker": {
          "color": "#ab63fa",
          "symbol": "circle"
         },
         "mode": "markers",
         "name": "Ghana",
         "showlegend": true,
         "type": "scattergl",
         "x": {
          "bdata": "BAsHBQMFBQYDBQsCAwUDBAIDBAUCAgsDAwsEBgkFBQUFBQQFAwMDBAQDBAQEAwIFBAg=",
          "dtype": "i1"
         },
         "xaxis": "x",
         "y": {
          "bdata": "SJi/Chjzyz+stR+ykQ/OPzKkwspfzNE/3yNR5unuyD9ZqCYj9tbVP72+5+yxlNQ/ylkKwCIFzj/FUYclY57VPzLcFUnJ9uA/cqmYt/WDvT+x1+Suy4nRPxV8p0wQsLg/YG+f/bamrD+4ma3VePvKP50hH3rLNLI/VXsitLd3zD8BBMZhRcmvP7hhBhrhas8/+eak+rxbqT9NBv25ygzYP8s0uxUB8+A/Au3evLgrvz9wfeC45lDhP+Je6+WCkto/3TDCmSKNyT+NGBKCEJHjP9hrREy81Mg/Y4udVJ/W1z/rjmk0hjfiPy/ZsKRwOso/NIBOv2GbzT+TdmY4xqDTP10uHl2LVtQ/JQVQihSfxT/O2+huXdzCP2lcY+OWyso/O2WrIWkYuD84zHq4yr3XPwUlJMuQeso/pdm4dKrauD8hzU574jHQPz9BelCM29k/sXV9ylde1j8Ja1wv4RnGPwcvlcs1fsI/s1VaP3BVtz+cyElWEJHJP4+055otg9I/cRs1hZ8epz+PaFejvXbUPw==",
          "dtype": "f8"
         },
         "yaxis": "y"
        },
        {
         "hovertemplate": "<b>OLS trendline</b><br>jsd = 0.0265647 * num_selections + 0.128123<br>R<sup>2</sup>=0.195655<br><br>country=Ghana<br>num_selections=%{x}<br>jsd=%{y} <b>(trend)</b><extra></extra>",
         "legendgroup": "Ghana",
         "marker": {
          "color": "#ab63fa",
          "symbol": "circle"
         },
         "mode": "lines",
         "name": "Ghana",
         "showlegend": false,
         "type": "scattergl",
         "x": {
          "bdata": "AgICAgIDAwMDAwMDAwMDAwMEBAQEBAQEBAQEBAUFBQUFBQUFBQUFBQUGBgcICQsLCws=",
          "dtype": "i1"
         },
         "xaxis": "x",
         "y": {
          "bdata": "PM7puUkzxz88zum5STPHPzzO6blJM8c/PM7puUkzxz88zum5STPHPwx/EwDDmco/DH8TAMOZyj8MfxMAw5nKPwx/EwDDmco/DH8TAMOZyj8MfxMAw5nKPwx/EwDDmco/DH8TAMOZyj8MfxMAw5nKPwx/EwDDmco/DH8TAMOZyj8MfxMAw5nKP9wvPUY8AM4/3C89RjwAzj/cLz1GPADOP9wvPUY8AM4/3C89RjwAzj/cLz1GPADOP9wvPUY8AM4/3C89RjwAzj/cLz1GPADOP9wvPUY8AM4/3C89RjwAzj9WcDPGWrPQP1ZwM8Zas9A/VnAzxlqz0D9WcDPGWrPQP1ZwM8Zas9A/VnAzxlqz0D9WcDPGWrPQP1ZwM8Zas9A/VnAzxlqz0D9WcDPGWrPQP1ZwM8Zas9A/VnAzxlqz0D9WcDPGWrPQP75ISGmXZtI/vkhIaZdm0j8mIV0M1BnUP475ca8QzdU/9tGGUk2A1z/FgrCYxubaP8WCsJjG5to/xYKwmMbm2j/FgrCYxubaPw==",
          "dtype": "f8"
         },
         "yaxis": "y"
        },
        {
         "hovertemplate": "country=Great Britain<br>num_selections=%{x}<br>jsd=%{y}<extra></extra>",
         "legendgroup": "Great Britain",
         "marker": {
          "color": "#FFA15A",
          "symbol": "circle"
         },
         "mode": "markers",
         "name": "Great Britain",
         "showlegend": true,
         "type": "scattergl",
         "x": {
          "bdata": "CAcNBwYNBwcHBQ0HBwcHBwYGDgYHBwUFDQcNBQcGBQcODQgIBwYHBwYHBg0HDQUGBwc=",
          "dtype": "i1"
         },
         "xaxis": "x",
         "y": {
          "bdata": "a6kdkeVRzT8ckBLy0urRP7xITL8L4dg/EjtWwrY+yT/KKMK75s3KP7fLFBxAHss/fo9IGMyT0z93Leuek2W8PzzYArZx370/S6LIgT1EyD+RIVhzxJjcP7K2VrI/FcQ/JIklpDqgzj87bOk+aPrCP4ggT8KQksI/FfZUYnghyT+QRmN3SonGP6sbAKGvibg/nUjYdCxm6D90Df7lJpLHP98AeIq91co/CMPjqgfEzz/x5pXlqyXGP2U2M1otOME/0sIKiXvAzz8GEOyYoBm/P/w3KJawO80/ydIkpchv2j9HbYYryfbXPyQjCm06bNM/Qlf5Yv670T8Fq8KoXCfHP3WyoolX880/rZzh0HdWzT+A5aM64OrUP/lES5auWtI/CEeb8dNZyD+dO70XZuC1Pw0rVUJfh8Y/2fdFbogMwT8rYPeNJc/EPz8UvpEeVs8/F2jQeNLPxD84Qt+VzgHRP0bb36MjOsY/XGovRGrQyD/fQFylS+fMPzKl+FqZ9cY/utxG6RNo3T+C0N8iOSnVPw==",
          "dtype": "f8"
         },
         "yaxis": "y"
        },
        {
         "hovertemplate": "<b>OLS trendline</b><br>jsd = 0.0165863 * num_selections + 0.104561<br>R<sup>2</sup>=0.161232<br><br>country=Great Britain<br>num_selections=%{x}<br>jsd=%{y} <b>(trend)</b><extra></extra>",
         "legendgroup": "Great Britain",
         "marker": {
          "color": "#FFA15A",
          "symbol": "circle"
         },
         "mode": "lines",
         "name": "Great Britain",
         "showlegend": false,
         "type": "scattergl",
         "x": {
          "bdata": "BQUFBQUFBgYGBgYGBgYGBwcHBwcHBwcHBwcHBwcHBwcHBwcHBwgICA0NDQ0NDQ0NDg4=",
          "dtype": "i1"
         },
         "xaxis": "x",
         "y": {
          "bdata": "NO33A8T/xz807fcDxP/HPzTt9wPE/8c/NO33A8T/xz807fcDxP/HPzTt9wPE/8c/19ncTEQfyj/X2dxMRB/KP9fZ3ExEH8o/19ncTEQfyj/X2dxMRB/KP9fZ3ExEH8o/19ncTEQfyj/X2dxMRB/KP9fZ3ExEH8o/esbBlcQ+zD96xsGVxD7MP3rGwZXEPsw/esbBlcQ+zD96xsGVxD7MP3rGwZXEPsw/esbBlcQ+zD96xsGVxD7MP3rGwZXEPsw/esbBlcQ+zD96xsGVxD7MP3rGwZXEPsw/esbBlcQ+zD96xsGVxD7MP3rGwZXEPsw/esbBlcQ+zD96xsGVxD7MP3rGwZXEPsw/esbBlcQ+zD96xsGVxD7MP3rGwZXEPsw/esbBlcQ+zD8es6beRF7OPx6zpt5EXs4/HrOm3kRezj8pqY8l433UPympjyXjfdQ/KamPJeN91D8pqY8l433UPympjyXjfdQ/KamPJeN91D8pqY8l433UPympjyXjfdQ/eh8CSqON1T96HwJKo43VPw==",
          "dtype": "f8"
         },
         "yaxis": "y"
        },
        {
         "hovertemplate": "country=Greece<br>num_selections=%{x}<br>jsd=%{y}<extra></extra>",
         "legendgroup": "Greece",
         "marker": {
          "color": "#19d3f3",
          "symbol": "circle"
         },
         "mode": "markers",
         "name": "Greece",
         "showlegend": true,
         "type": "scattergl",
         "x": {
          "bdata": "BAMHBwYEBQcCAwMIBQQGBQUHBgkGDQUHBQMHAwgHBwUEBwQDBQcFBQMFBQYNAgUFBQQ=",
          "dtype": "i1"
         },
         "xaxis": "x",
         "y": {
          "bdata": "lVmqsBRG1D9JPkocVJHDP8s/PK+XVrs/GPXccfh10D93a9MSgnHEP3BFpIkrfc0/TBzlZKpRyT/h7JNFP+HLP368m43bYII/LZevlkqOyT8dUtGoY6awP095TkqsxNI/Gf1KhKGF0j9wrv176w7RP4QvKydEdMo/hFsD8Ges1D9f+er0d+vHP4tGFxx9PtA/Q2G9iWH31T9e43XAubnUP6s6WF9ur+I/ZsOvYbcy0z+NNW89PkDSP33JCOyNCM0/WcaXlGFtxD9/BR+BpKq/P/Xdz0aHPd0/aJSPliFCuT/Xi4eKH2HdPzVZB5Zxr9A/M6j3FY0Hwj8vZInzt2DOP92T28jf/8s/MKkdJ3lHxT9IQ9FywnrIP8eSpQOrY8c/s1r2IH9+4T9qGnpiMgzGP5qMNoySz74/iiNyyJHx0j9tXQftJTCpP6uJKKi6VcU/z+Ggy7Ei0D/dqVsgN5nCP0z+yk+lKcA/cczcMkPElD84P9N6HXLaPyWLgtKmgdg/LgMvJid2zD+V0Cb7vw3DPw==",
          "dtype": "f8"
         },
         "yaxis": "y"
        },
        {
         "hovertemplate": "<b>OLS trendline</b><br>jsd = 0.0159792 * num_selections + 0.143189<br>R<sup>2</sup>=0.086839<br><br>country=Greece<br>num_selections=%{x}<br>jsd=%{y} <b>(trend)</b><extra></extra>",
         "legendgroup": "Greece",
         "marker": {
          "color": "#19d3f3",
          "symbol": "circle"
         },
         "mode": "lines",
         "name": "Greece",
         "showlegend": false,
         "type": "scattergl",
         "x": {
          "bdata": "AgIDAwMDAwMDBAQEBAQEBQUFBQUFBQUFBQUFBQUFBgYGBgYHBwcHBwcHBwcHCAgJDQ0=",
          "dtype": "i1"
         },
         "xaxis": "x",
         "y": {
          "bdata": "6gTpjj1rxj/qBOmOPWvGP2uw/xTZdsg/a7D/FNl2yD9rsP8U2XbIP2uw/xTZdsg/a7D/FNl2yD9rsP8U2XbIP2uw/xTZdsg/61sWm3SCyj/rWxabdILKP+tbFpt0gso/61sWm3SCyj/rWxabdILKP+tbFpt0gso/awctIRCOzD9rBy0hEI7MP2sHLSEQjsw/awctIRCOzD9rBy0hEI7MP2sHLSEQjsw/awctIRCOzD9rBy0hEI7MP2sHLSEQjsw/awctIRCOzD9rBy0hEI7MP2sHLSEQjsw/awctIRCOzD9rBy0hEI7MP2sHLSEQjsw/7LJDp6uZzj/sskOnq5nOP+yyQ6ermc4/7LJDp6uZzj/sskOnq5nOPzYvrZajUtA/Ni+tlqNS0D82L62Wo1LQPzYvrZajUtA/Ni+tlqNS0D82L62Wo1LQPzYvrZajUtA/Ni+tlqNS0D82L62Wo1LQPzYvrZajUtA/9oS4WXFY0T/2hLhZcVjRP7bawxw/XtI/tjHxKHZ11j+2MfEodnXWPw==",
          "dtype": "f8"
         },
         "yaxis": "y"
        },
        {
         "hovertemplate": "country=Guatemala<br>num_selections=%{x}<br>jsd=%{y}<extra></extra>",
         "legendgroup": "Guatemala",
         "marker": {
          "color": "#FF6692",
          "symbol": "circle"
         },
         "mode": "markers",
         "name": "Guatemala",
         "showlegend": true,
         "type": "scattergl",
         "x": {
          "bdata": "BwYHDQcHDQYNBwcHBw0FBQcIBgYGDQcIBwYIDQgHBwYHBwcIBw0NBQUICA0HDQcGBwc=",
          "dtype": "i1"
         },
         "xaxis": "x",
         "y": {
          "bdata": "h9aAqqog0j8hSstomS3eP35jZI+B0s0//mhKWEiwzj+YW4zMQdXMP52ZNt1EjMU/6m40QSLnzj/Op5IplOnIP+ZY3x6sq9o/ihlCLP8C1j/tK2R+AlfVP3DVl4pfw9Y/lDTjn9jY3T8IoPQiwErQP/f28VRvY84/uVJUdMPTzj/LVjPwbQjQP4e9NxDDF8Y/AemcLCaJ5T/VD0dMoP3GPxricXCDe9A/QMs6GZvt1T+lxieBkrXaP6JuqzDKOL4/Q3DG3tCrwz//wI5YGUXgP7TvNGhZH9Q/OKr19MxZ1T8AAAAAAAD4f54puGSVSdQ/+kg+fCX11T/Ux4JJKurFP2D0+5mqmtQ/9DQywtZU0T869ccOhsfbP8X+g1/WoNE/ZeQxYooz0j9jxTNO64/QPyDvK30Y5dI/qDfpYb4kwD9JB9Ay1xvUP/OyXgO0UcQ/2GU5x+JR1T+bm7pcRTbbP7rx/84M+M0/NoAOMXsuzj/WNZA4/QfDP7jHE8aPTtE/fLKLOpHhzz9t4cKPKsLRPw==",
          "dtype": "f8"
         },
         "yaxis": "y"
        },
        {
         "hovertemplate": "<b>OLS trendline</b><br>jsd = 0.00179791 * num_selections + 0.274813<br>R<sup>2</sup>=0.001962<br><br>country=Guatemala<br>num_selections=%{x}<br>jsd=%{y} <b>(trend)</b><extra></extra>",
         "legendgroup": "Guatemala",
         "marker": {
          "color": "#FF6692",
          "symbol": "circle"
         },
         "mode": "lines",
         "name": "Guatemala",
         "showlegend": false,
         "type": "scattergl",
         "x": {
          "bdata": "BQUFBQYGBgYGBgYGBwcHBwcHBwcHBwcHBwcHBwcHBwcHCAgICAgIDQ0NDQ0NDQ0NDQ==",
          "dtype": "i1"
         },
         "xaxis": "x",
         "y": {
          "bdata": "GAedAtIp0j8YB50C0inSPxgHnQLSKdI/GAedAtIp0j+uMif7RkfSP64yJ/tGR9I/rjIn+0ZH0j+uMif7RkfSP64yJ/tGR9I/rjIn+0ZH0j+uMif7RkfSP64yJ/tGR9I/RF6x87tk0j9EXrHzu2TSP0ResfO7ZNI/RF6x87tk0j9EXrHzu2TSP0ResfO7ZNI/RF6x87tk0j9EXrHzu2TSP0ResfO7ZNI/RF6x87tk0j9EXrHzu2TSP0ResfO7ZNI/RF6x87tk0j9EXrHzu2TSP0ResfO7ZNI/RF6x87tk0j9EXrHzu2TSP0ResfO7ZNI/RF6x87tk0j9EXrHzu2TSP0ResfO7ZNI/24k77DCC0j/biTvsMILSP9uJO+wwgtI/24k77DCC0j/biTvsMILSP9uJO+wwgtI/ymPuxnkV0z/KY+7GeRXTP8pj7sZ5FdM/ymPuxnkV0z/KY+7GeRXTP8pj7sZ5FdM/ymPuxnkV0z/KY+7GeRXTP8pj7sZ5FdM/ymPuxnkV0z8=",
          "dtype": "f8"
         },
         "yaxis": "y"
        },
        {
         "hovertemplate": "country=Guatemala (Non-national sample)<br>num_selections=%{x}<br>jsd=%{y}<extra></extra>",
         "legendgroup": "Guatemala (Non-national sample)",
         "marker": {
          "color": "#B6E880",
          "symbol": "circle"
         },
         "mode": "markers",
         "name": "Guatemala (Non-national sample)",
         "showlegend": true,
         "type": "scattergl",
         "x": {
          "bdata": "AgQEBAQEBAQFAgsCBAUEAwQEBAUEBAMEAgQCBAUDAgQGBAIEBAQDBQMDBQQEBAMCAgQ=",
          "dtype": "i1"
         },
         "xaxis": "x",
         "y": {
          "bdata": "eK5NTd9b2j/KKHWfOW2iPzQLHGypWdE/9EHhfZVnyD/2iAfoSArEP5H5XWF0U8k/oqsv1gaLxj8U/FYhL/LQPyvGHkdim9A/N8s012hwvT+OADUDe57SP7ZhW4Omwc8/BNntjAIGwT8f9IZ3cg/UP3PiuvicUMo/iYarag8G0D+1e5U0d9DLPzeXJi+1yNI/unQ9LjU4zD+rkuCpBHjOP9nHNhOPcbc/WMOTclPl0j+esAA2lkjMPzpduFwditY/hF7haRmcdT9Jm+0z5GHQP745ukT7Yck/Dj0ryix0zD8uyqvJ8BnSP5SDyfUWCOA/v0ls7qZm0T/4Dt+lhUvKPzoFMJx0zcs/iFpPYe3Jxz8rE+4m/giwP2HSh6vg3co/cu9WkTWC0z8bBGOSmLDLP0GusHAuz9Q/Nf8/9kpavT+rweKm1WHTP4JqGosDIsg/S6kI9EeBxT8n6KhKkzfPPySqKgZTZMM/ExnonBoLvT/TolTSucPNPxYkEMgnxJ0/fMWrRyqAuj9n5AD6yXDSPw==",
          "dtype": "f8"
         },
         "yaxis": "y"
        },
        {
         "hovertemplate": "<b>OLS trendline</b><br>jsd = 0.0110489 * num_selections + 0.175037<br>R<sup>2</sup>=0.028101<br><br>country=Guatemala (Non-national sample)<br>num_selections=%{x}<br>jsd=%{y} <b>(trend)</b><extra></extra>",
         "legendgroup": "Guatemala (Non-national sample)",
         "marker": {
          "color": "#B6E880",
          "symbol": "circle"
         },
         "mode": "lines",
         "name": "Guatemala (Non-national sample)",
         "showlegend": false,
         "type": "scattergl",
         "x": {
          "bdata": "AgICAgICAgICAwMDAwMDAwQEBAQEBAQEBAQEBAQEBAQEBAQEBAQEBAQEBQUFBQUFBgs=",
          "dtype": "i1"
         },
         "xaxis": "x",
         "y": {
          "bdata": "5zuX6LE7yT/nO5fosTvJP+c7l+ixO8k/5zuX6LE7yT/nO5fosTvJP+c7l+ixO8k/5zuX6LE7yT/nO5fosTvJP+c7l+ixO8k/tciqcb6lyj+1yKpxvqXKP7XIqnG+pco/tciqcb6lyj+1yKpxvqXKP7XIqnG+pco/tciqcb6lyj+EVb76yg/MP4RVvvrKD8w/hFW++soPzD+EVb76yg/MP4RVvvrKD8w/hFW++soPzD+EVb76yg/MP4RVvvrKD8w/hFW++soPzD+EVb76yg/MP4RVvvrKD8w/hFW++soPzD+EVb76yg/MP4RVvvrKD8w/hFW++soPzD+EVb76yg/MP4RVvvrKD8w/hFW++soPzD+EVb76yg/MP4RVvvrKD8w/hFW++soPzD+EVb76yg/MP4RVvvrKD8w/hFW++soPzD+EVb76yg/MP4RVvvrKD8w/UuLRg9d5zT9S4tGD13nNP1Li0YPXec0/UuLRg9d5zT9S4tGD13nNP1Li0YPXec0/IG/lDOTjzj+UlyNdEfvSPw==",
          "dtype": "f8"
         },
         "yaxis": "y"
        },
        {
         "hovertemplate": "country=Honduras<br>num_selections=%{x}<br>jsd=%{y}<extra></extra>",
         "legendgroup": "Honduras",
         "marker": {
          "color": "#FF97FF",
          "symbol": "circle"
         },
         "mode": "markers",
         "name": "Honduras",
         "showlegend": true,
         "type": "scattergl",
         "x": {
          "bdata": "Cws=",
          "dtype": "i1"
         },
         "xaxis": "x",
         "y": {
          "bdata": "sFA2DN9e3D8udLg3BifTPw==",
          "dtype": "f8"
         },
         "yaxis": "y"
        },
        {
         "hovertemplate": "<b>OLS trendline</b><br>jsd = 0.0337522<br>R<sup>2</sup>=0.000000<br><br>country=Honduras<br>num_selections=%{x}<br>jsd=%{y} <b>(trend)</b><extra></extra>",
         "legendgroup": "Honduras",
         "marker": {
          "color": "#FF97FF",
          "symbol": "circle"
         },
         "mode": "lines",
         "name": "Honduras",
         "showlegend": false,
         "type": "scattergl",
         "x": {
          "bdata": "Cws=",
          "dtype": "i1"
         },
         "xaxis": "x",
         "y": {
          "bdata": "bGL3ofLC1z9sYveh8sLXPw==",
          "dtype": "f8"
         },
         "yaxis": "y"
        },
        {
         "hovertemplate": "country=Honduras (Non-national sample)<br>num_selections=%{x}<br>jsd=%{y}<extra></extra>",
         "legendgroup": "Honduras (Non-national sample)",
         "marker": {
          "color": "#FECB52",
          "symbol": "circle"
         },
         "mode": "markers",
         "name": "Honduras (Non-national sample)",
         "showlegend": true,
         "type": "scattergl",
         "x": {
          "bdata": "AgQFAgQEBAQCBAIDBAIFBAIDAgUEBAMEAgUEAwQEAwQEBAQEBAIEBAMEBAIEAwQEBAc=",
          "dtype": "i1"
         },
         "xaxis": "x",
         "y": {
          "bdata": "J0IR5Sd3xD80h1LNvZq7P9FKU/HoLdQ/HuTh52Qwsj/qioVPHRLaP8VLNoRESbE/1dwEdrDt1D8pF6Upbr3YP6vshhbissw/AWJoEUyi2z9qcVAunlvUP7iuTbGiFMc/Xxu92dbwzD//RDI2nePYPx50ETwh/Mc/+o2AxaEm0T9UI/1vQvHKP0T0aZuvAMg/V3fmSEVzxT/Q5Bfx74rCP2nwNpMCodo/lsgBm9As4T8ESxUmDxC8P4TUblhOTL8/2NGph4Cc1T+1QIFopAnOP3hOOQZCl88/O/lXC56GyD8p7IbkJSHCP+USCySVbsQ/evwzMI1yxT8g1h7+yxm2P2AIGetHkNY/L5CdjWyItj8akrH6JMTYP2qxdiT4V88/0cI++tJTwz9nciDIVDDFP38uRHlOls0/Kv2q5bDJ3z9zLrAc7PnKP+n//DIk6N0/V53RBupvyz/vXbjBhEyIP/VimHXCtcM/VS0Cabsh3j8V4IRg7MHbP7G/cD/Yj8M/lhhI2XtS0z/dqk603VbgPw==",
          "dtype": "f8"
         },
         "yaxis": "y"
        },
        {
         "hovertemplate": "<b>OLS trendline</b><br>jsd = 0.0348956 * num_selections + 0.12584<br>R<sup>2</sup>=0.073575<br><br>country=Honduras (Non-national sample)<br>num_selections=%{x}<br>jsd=%{y} <b>(trend)</b><extra></extra>",
         "legendgroup": "Honduras (Non-national sample)",
         "marker": {
          "color": "#FECB52",
          "symbol": "circle"
         },
         "mode": "lines",
         "name": "Honduras (Non-national sample)",
         "showlegend": false,
         "type": "scattergl",
         "x": {
          "bdata": "AgICAgICAgICAgMDAwMDAwMEBAQEBAQEBAQEBAQEBAQEBAQEBAQEBAQEBAQEBQUFBQc=",
          "dtype": "i1"
         },
         "xaxis": "x",
         "y": {
          "bdata": "Qgn+d3EKyT9CCf53cQrJP0IJ/ndxCsk/Qgn+d3EKyT9CCf53cQrJP0IJ/ndxCsk/Qgn+d3EKyT9CCf53cQrJP0IJ/ndxCsk/Qgn+d3EKyT//0PsF54HNP//Q+wXngc0//9D7BeeBzT//0PsF54HNP//Q+wXngc0//9D7BeeBzT//0PsF54HNP17M/Emu/NA/Xsz8Sa780D9ezPxJrvzQP17M/Emu/NA/Xsz8Sa780D9ezPxJrvzQP17M/Emu/NA/Xsz8Sa780D9ezPxJrvzQP17M/Emu/NA/Xsz8Sa780D9ezPxJrvzQP17M/Emu/NA/Xsz8Sa780D9ezPxJrvzQP17M/Emu/NA/Xsz8Sa780D9ezPxJrvzQP17M/Emu/NA/Xsz8Sa780D9ezPxJrvzQP17M/Emu/NA/Xsz8Sa780D9ezPxJrvzQP17M/Emu/NA/Xsz8Sa780D9ezPxJrvzQP17M/Emu/NA/PLD7EGk40z88sPsQaTjTPzyw+xBpONM/PLD7EGk40z/6d/me3q/XPw==",
          "dtype": "f8"
         },
         "yaxis": "y"
        },
        {
         "hovertemplate": "country=Hong Kong SAR<br>num_selections=%{x}<br>jsd=%{y}<extra></extra>",
         "legendgroup": "Hong Kong SAR",
         "marker": {
          "color": "#636efa",
          "symbol": "circle"
         },
         "mode": "markers",
         "name": "Hong Kong SAR",
         "showlegend": true,
         "type": "scattergl",
         "x": {
          "bdata": "BQgFBgcHBwcHBg0HBwYHBgcNBwcHDQcHBwgHBw0HBwYFBwgNBwYHDQ0GDgUOBQUFBwU=",
          "dtype": "i1"
         },
         "xaxis": "x",
         "y": {
          "bdata": "tyVFlvNjzj9VkJj6nGnGPxcIpnZvcMk/B6U4SmPd2j/SATor1y3LP8Eq2KDVo9M/37zPtZNQyD8BhVNuaf7KP3UxzEZEKdc/1sjmItrO1T+B5QiO8h7DP/n8zczVysg/B9APu17e0j+kbWnjie7RPwF5qHy/+eE/w7C/+TkWyD/2XDOAfmrXP0r5aXJi8rc/tDBb/sJ7yD+qCI3l3QXQP28QBJ1GANI/5rfDLAcZ4z/hk1q9Q77CPzGXaOuv8dk/nskhlWzdyj8nGeie7L/VP3r8WnCGO90/xeYZ1AXIxT99jlntAbrQP3DPG7F6R94/nGBtQJEU2D+IhfypOV3YP+xbvDs7H9s/oxKG+3c/0D+IUxSmUrjIP4Usl3e8n+E/SdxLMcar2D9y3lwTGJbEPzlic0cF3MY/FGag4kie0z9YGmIByt7PP+skAh6Gkc0/EYwVM9/z0j+0kYWeWvvVPwmDY4ffatY/eZ9PtEEL0T+D7t2imGvRP2A2lopRvc4/lc/CU5f62D/S1GjhDKTbPw==",
          "dtype": "f8"
         },
         "yaxis": "y"
        },
        {
         "hovertemplate": "<b>OLS trendline</b><br>jsd = 0.00262172 * num_selections + 0.276648<br>R<sup>2</sup>=0.003885<br><br>country=Hong Kong SAR<br>num_selections=%{x}<br>jsd=%{y} <b>(trend)</b><extra></extra>",
         "legendgroup": "Hong Kong SAR",
         "marker": {
          "color": "#636efa",
          "symbol": "circle"
         },
         "mode": "lines",
         "name": "Hong Kong SAR",
         "showlegend": false,
         "type": "scattergl",
         "x": {
          "bdata": "BQUFBQUFBQUGBgYGBgYGBwcHBwcHBwcHBwcHBwcHBwcHBwcHBwcICAgNDQ0NDQ0NDg4=",
          "dtype": "i1"
         },
         "xaxis": "x",
         "y": {
          "bdata": "qiE9t1+L0j+qIT23X4vSP6ohPbdfi9I/qiE9t1+L0j+qIT23X4vSP6ohPbdfi9I/qiE9t1+L0j+qIT23X4vSP8zzzP1TttI/zPPM/VO20j/M88z9U7bSP8zzzP1TttI/zPPM/VO20j/M88z9U7bSP8zzzP1TttI/7sVcREjh0j/uxVxESOHSP+7FXERI4dI/7sVcREjh0j/uxVxESOHSP+7FXERI4dI/7sVcREjh0j/uxVxESOHSP+7FXERI4dI/7sVcREjh0j/uxVxESOHSP+7FXERI4dI/7sVcREjh0j/uxVxESOHSP+7FXERI4dI/7sVcREjh0j/uxVxESOHSP+7FXERI4dI/7sVcREjh0j/uxVxESOHSP+7FXERI4dI/7sVcREjh0j/uxVxESOHSPxCY7Io8DNM/EJjsijwM0z8QmOyKPAzTP7uyu+sB49M/u7K76wHj0z+7srvrAePTP7uyu+sB49M/u7K76wHj0z+7srvrAePTP7uyu+sB49M/3YRLMvYN1D/dhEsy9g3UPw==",
          "dtype": "f8"
         },
         "yaxis": "y"
        },
        {
         "hovertemplate": "country=Hungary<br>num_selections=%{x}<br>jsd=%{y}<extra></extra>",
         "legendgroup": "Hungary",
         "marker": {
          "color": "#EF553B",
          "symbol": "circle"
         },
         "mode": "markers",
         "name": "Hungary",
         "showlegend": true,
         "type": "scattergl",
         "x": {
          "bdata": "BQMGAwUFBQUHBQMFBQMGBQQEBQ0FBwUHAgQEBwQEBBIFCAUDAgUNBQUDBAUDAgUNAwQ=",
          "dtype": "i1"
         },
         "xaxis": "x",
         "y": {
          "bdata": "xnDMyIR8zT+pbI0/RWCqP+GssQ9kkMw/k1Fu6OKdsT/Ja58zCa3MP4YsLQB3+8E/SueKpypayT8gUzWsCpnIP7KhvOQxZcw/u/R8kBKv1T/Yi/VKzoqzP1vlTPzR1do/ZblgwaTlvD8Gh4CQj+LAP0ZYT1P1jc8/EuQen0MW4D+/LT4mHvnMPy5bWMZLb8c/9E/0W0JGvj/wjCA3M0nXP+bz8L8uUco/zZXpmmNzvD9zH8/pZzXTP0H36EUT4Mc/vJxZQlMyoT+hRGGuVhO6P90lURifn9o/ET/atjrbxj+1QA8Q76fKP/hmGNdaxKg/NUMOT/9xyD/CLVahcwboP9GVaYHWVMQ/VmAGYLhj4z+PcTu416PRP1uT31QHVN4/GfVcxYfmuz+dZ51cugjLPxMrtPAXIdU/1y/wjKZbxj/SR4zbfpXLP2GP+Okxw78/c79QFXqBzT+rmN+/XHnFP8li5kIoiLA/cIpq8KFPYT996C1cKlTTP4dDIqVK6sw/W9QoSvQqwT/YlbPDW7jSPw==",
          "dtype": "f8"
         },
         "yaxis": "y"
        },
        {
         "hovertemplate": "<b>OLS trendline</b><br>jsd = 0.0280968 * num_selections + 0.072537<br>R<sup>2</sup>=0.343553<br><br>country=Hungary<br>num_selections=%{x}<br>jsd=%{y} <b>(trend)</b><extra></extra>",
         "legendgroup": "Hungary",
         "marker": {
          "color": "#EF553B",
          "symbol": "circle"
         },
         "mode": "lines",
         "name": "Hungary",
         "showlegend": false,
         "type": "scattergl",
         "x": {
          "bdata": "AgICAwMDAwMDAwMEBAQEBAQEBAQFBQUFBQUFBQUFBQUFBQUFBQUFBgYHBwcHCA0NDRI=",
          "dtype": "i1"
         },
         "xaxis": "x",
         "y": {
          "bdata": "9uxstD56wD/27Gy0PnrAP/bsbLQ+esA/viex1OsSxD++J7HU6xLEP74nsdTrEsQ/viex1OsSxD++J7HU6xLEP74nsdTrEsQ/viex1OsSxD++J7HU6xLEP4Zi9fSYq8c/hmL19Jirxz+GYvX0mKvHP4Zi9fSYq8c/hmL19Jirxz+GYvX0mKvHP4Zi9fSYq8c/hmL19Jirxz+GYvX0mKvHP06dORVGRMs/Tp05FUZEyz9OnTkVRkTLP06dORVGRMs/Tp05FUZEyz9OnTkVRkTLP06dORVGRMs/Tp05FUZEyz9OnTkVRkTLP06dORVGRMs/Tp05FUZEyz9OnTkVRkTLP06dORVGRMs/Tp05FUZEyz9OnTkVRkTLP06dORVGRMs/Tp05FUZEyz9OnTkVRkTLP06dORVGRMs/F9h9NfPczj8X2H0189zOP3AJ4SrQOtE/cAnhKtA60T9wCeEq0DrRP3AJ4SrQOtE/1CYDuyYH0z/Iua2L1wTcP8i5rYvXBNw/yLmti9cE3D9eJiwuRIHiPw==",
          "dtype": "f8"
         },
         "yaxis": "y"
        },
        {
         "hovertemplate": "country=Iceland<br>num_selections=%{x}<br>jsd=%{y}<extra></extra>",
         "legendgroup": "Iceland",
         "marker": {
          "color": "#00cc96",
          "symbol": "circle"
         },
         "mode": "markers",
         "name": "Iceland",
         "showlegend": true,
         "type": "scattergl",
         "x": {
          "bdata": "BQcHBwUHBwcFBwcNDgcIBg0FBgYNDQ0HBg0FDQgHBwcHDQ0HDg4GDQcHBw0HBQgFBw0=",
          "dtype": "i1"
         },
         "xaxis": "x",
         "y": {
          "bdata": "JGJcm7hszT9tBs9rruTSP0HT9X/ZVsU/ougX/ZP1uT9SC0FHPiDIP60ZJm8HmuA/5ieVhTPe1D+NsSNngIXOP/qsjx7+tMk//s6/cdQY0j8EvwpQDb3ZP0+dSaE6XMo/tB8GfvFj3z+rRCZ+oJPQP7w8Amem+sg/Sh0foqBayz8F6aBvZU7TP2ZsCe+8JsE/NjWgjek1uT9XoNoOeSXAPytva8qatNM/7+uQTtRoyD/GSKYKTVPSP0Ct1sf5gcQ//sZxKz6S3j/r09hj2jzSPxuRm1jt1eI/jYJM5Er9zz8RQ3ywPYrSP/eUDCpTas0/vKjPbYye0T+CQIsLMD/QP2lc4YxASck/Tqeh2dwWwD8eUyemPPncP3XtVOruTto/5bcnFFA70z/VaQcr82/UP9b8jJervcw/kheOAVM10D8MCVnXC6PAP7fo4DoTXdg/I7MKzNaCuz9AteZvrFzVP5xIwPeIcdg/Cx12Mq8I1z/bwXNCJc3OP2JVbxSpqNM/hYjwDJF9xj+qNOUmnefWPw==",
          "dtype": "f8"
         },
         "yaxis": "y"
        },
        {
         "hovertemplate": "<b>OLS trendline</b><br>jsd = 0.00494226 * num_selections + 0.230395<br>R<sup>2</sup>=0.019501<br><br>country=Iceland<br>num_selections=%{x}<br>jsd=%{y} <b>(trend)</b><extra></extra>",
         "legendgroup": "Iceland",
         "marker": {
          "color": "#00cc96",
          "symbol": "circle"
         },
         "mode": "lines",
         "name": "Iceland",
         "showlegend": false,
         "type": "scattergl",
         "x": {
          "bdata": "BQUFBQUFBQYGBgYGBwcHBwcHBwcHBwcHBwcHBwcHBwcICAgNDQ0NDQ0NDQ0NDQ0ODg4=",
          "dtype": "i1"
         },
         "xaxis": "x",
         "y": {
          "bdata": "/kZR56dT0D/+RlHnp1PQP/5GUeenU9A//kZR56dT0D/+RlHnp1PQP/5GUeenU9A//kZR56dT0D+eCV1CoaTQP54JXUKhpNA/ngldQqGk0D+eCV1CoaTQP54JXUKhpNA/PsxonZr10D8+zGidmvXQPz7MaJ2a9dA/PsxonZr10D8+zGidmvXQPz7MaJ2a9dA/PsxonZr10D8+zGidmvXQPz7MaJ2a9dA/PsxonZr10D8+zGidmvXQPz7MaJ2a9dA/PsxonZr10D8+zGidmvXQPz7MaJ2a9dA/PsxonZr10D8+zGidmvXQPz7MaJ2a9dA/PsxonZr10D8+zGidmvXQP96OdPiTRtE/3o50+JNG0T/ejnT4k0bRP/9br79y29I//1uvv3Lb0j//W6+/ctvSP/9br79y29I//1uvv3Lb0j//W6+/ctvSP/9br79y29I//1uvv3Lb0j//W6+/ctvSP/9br79y29I//1uvv3Lb0j//W6+/ctvSP58euxpsLNM/nx67Gmws0z+fHrsabCzTPw==",
          "dtype": "f8"
         },
         "yaxis": "y"
        },
        {
         "hovertemplate": "country=India (Current national sample)<br>num_selections=%{x}<br>jsd=%{y}<extra></extra>",
         "legendgroup": "India (Current national sample)",
         "marker": {
          "color": "#ab63fa",
          "symbol": "circle"
         },
         "mode": "markers",
         "name": "India (Current national sample)",
         "showlegend": true,
         "type": "scattergl",
         "x": {
          "bdata": "BAMFAwQEAwUFBQQCBAQDBAQFBgQFBAQDBAUEBAsEBAUDBQIFBQUEBQUCAwUFBAkFBQM=",
          "dtype": "i1"
         },
         "xaxis": "x",
         "y": {
          "bdata": "uGFqVxp6yj/0rXQHlrTRP+do10ZMF+A/1C5JYWdOuD/N+uhSv8fVP6e1UXhrZ9A/PKWBSWLiuj+b5Ygc4wXUP6SE9mkK7eE/LLYv6n7z0z93C5ZhgsTVP2YEdX2kDaM//WH9Yjz4wj9os8x7G9TgP7LrlaNfzsw/03jcyJUA3j+MqRbzcfbXP/h7Rv+qHNg/6Zyxnj8zzj+T3GMXsUfVP3Qwd42/KL4/5N97CxJozz+pqMmb70zIPyfh0xuP4r8/65fcYAqe0T+vkmtwXo7JP6AwmtvYO7I/ns/qxlMrwT/uDdY0qoTdP6F4JYlgssQ/JJpfrqUE1T9f0UcPSG/GP3iFKye6ANc/lW0grp682D/KRju0EOLVP8bW2gNO5Ns/a6ydRuBF1T81efoFRfXJP5uKQZJ8p9g/FEyAc7AMxT9TXpDLo3fYP5LmFYCyzsA/Pj+FUOzC1T9i2CWCPqfRP7uDG1KiCsI/7UVGACo/0D8RSI4ldsrmP6toYmI9bMg/8zHTVN0Uxj/i8SK26cXAPw==",
          "dtype": "f8"
         },
         "yaxis": "y"
        },
        {
         "hovertemplate": "<b>OLS trendline</b><br>jsd = 0.0441663 * num_selections + 0.0845629<br>R<sup>2</sup>=0.222263<br><br>country=India (Current national sample)<br>num_selections=%{x}<br>jsd=%{y} <b>(trend)</b><extra></extra>",
         "legendgroup": "India (Current national sample)",
         "marker": {
          "color": "#ab63fa",
          "symbol": "circle"
         },
         "mode": "lines",
         "name": "India (Current national sample)",
         "showlegend": false,
         "type": "scattergl",
         "x": {
          "bdata": "AgICAwMDAwMDAwMEBAQEBAQEBAQEBAQEBAQEBAQFBQUFBQUFBQUFBQUFBQUFBQUGCQs=",
          "dtype": "i1"
         },
         "xaxis": "x",
         "y": {
          "bdata": "SpSCi3Ahxj9KlIKLcCHGP0qUgotwIcY/fFDzdK7Iyz98UPN0rsjLP3xQ83SuyMs/fFDzdK7Iyz98UPN0rsjLP3xQ83SuyMs/fFDzdK7Iyz98UPN0rsjLP1YGMi/2t9A/VgYyL/a30D9WBjIv9rfQP1YGMi/2t9A/VgYyL/a30D9WBjIv9rfQP1YGMi/2t9A/VgYyL/a30D9WBjIv9rfQP1YGMi/2t9A/VgYyL/a30D9WBjIv9rfQP1YGMi/2t9A/VgYyL/a30D9WBjIv9rfQP1YGMi/2t9A/VgYyL/a30D9WBjIv9rfQP25k6iOVi9M/bmTqI5WL0z9uZOojlYvTP25k6iOVi9M/bmTqI5WL0z9uZOojlYvTP25k6iOVi9M/bmTqI5WL0z9uZOojlYvTP25k6iOVi9M/bmTqI5WL0z9uZOojlYvTP25k6iOVi9M/bmTqI5WL0z9uZOojlYvTP25k6iOVi9M/bmTqI5WL0z9uZOojlYvTP4fCohg0X9Y/z9zL9hDa3j+ATB5wp0DiPw==",
          "dtype": "f8"
         },
         "yaxis": "y"
        },
        {
         "hovertemplate": "country=India (Non-national sample)<br>num_selections=%{x}<br>jsd=%{y}<extra></extra>",
         "legendgroup": "India (Non-national sample)",
         "marker": {
          "color": "#FFA15A",
          "symbol": "circle"
         },
         "mode": "markers",
         "name": "India (Non-national sample)",
         "showlegend": true,
         "type": "scattergl",
         "x": {
          "bdata": "AwQEAgMDBQMCBAoCAwUEAwIPBAQEAwMEBAMCAgQEAwQDBAICBAIEAwQEBAICBAQCAwU=",
          "dtype": "i1"
         },
         "xaxis": "x",
         "y": {
          "bdata": "1x0DNIOW1T+XDuEow//MP3/9aL1QWNM/KbrSunQqnz/3wWCU/U7SP+jMG7o8kc8/jorkwCj/3z9GptexNJDUP5G02U3xytc/XTflZ65Axj8C/wH37VvZP9xtynpMrcQ/KGim+iGY1D8ZNWpNs0fQP/H0nWIKkLs/WGoDhwfwzz80ciW991vLP4Z0M32KZOk/Vdl6UwNh0z8zThneos3SP9lDLwlqZc0/eu35ZX2hyT9itAKy2Y/MPxm27Gbh0L8/cHWetPINwj+Ij23oWoXCPxNGjXQFsc4/jC//dMF2yD/lHmZYK3/HP1rBuUCHONI/xWRYqLHSxT+9Q9MU1jLRP8ZHKMiXMdI/bcA/zoqRqj8WBQWbw1zQP/0DbB6sStA/hMY5qtk4wj/+Va0RDj2YPxiaZMRRpMg/KOhRxBEuzT8n7XLUWGrZP/+oFOyP38w/Acq0DS2SvD9p1Ls4a2/UP8d4V08M6sQ/9QiGIANSuj9+EeQlxybSP5ch7lcTWNU/Eu9Yy5Tk0j871aM6SOXCPw==",
          "dtype": "f8"
         },
         "yaxis": "y"
        },
        {
         "hovertemplate": "<b>OLS trendline</b><br>jsd = 0.0357696 * num_selections + 0.111187<br>R<sup>2</sup>=0.360961<br><br>country=India (Non-national sample)<br>num_selections=%{x}<br>jsd=%{y} <b>(trend)</b><extra></extra>",
         "legendgroup": "India (Non-national sample)",
         "marker": {
          "color": "#FFA15A",
          "symbol": "circle"
         },
         "mode": "lines",
         "name": "India (Non-national sample)",
         "showlegend": false,
         "type": "scattergl",
         "x": {
          "bdata": "AgICAgICAgICAgICAwMDAwMDAwMDAwMDAwQEBAQEBAQEBAQEBAQEBAQEBAQEBQUFCg8=",
          "dtype": "i1"
         },
         "xaxis": "x",
         "y": {
          "bdata": "4iIuCJRjxz/iIi4IlGPHP+IiLgiUY8c/4iIuCJRjxz/iIi4IlGPHP+IiLgiUY8c/4iIuCJRjxz/iIi4IlGPHP+IiLgiUY8c/4iIuCJRjxz/iIi4IlGPHP+IiLgiUY8c/8I3bU633yz/wjdtTrffLP/CN21Ot98s/8I3bU633yz/wjdtTrffLP/CN21Ot98s/8I3bU633yz/wjdtTrffLP/CN21Ot98s/8I3bU633yz/wjdtTrffLP/CN21Ot98s/8I3bU633yz9+fMRP40XQP358xE/jRdA/fnzET+NF0D9+fMRP40XQP358xE/jRdA/fnzET+NF0D9+fMRP40XQP358xE/jRdA/fnzET+NF0D9+fMRP40XQP358xE/jRdA/fnzET+NF0D9+fMRP40XQP358xE/jRdA/fnzET+NF0D9+fMRP40XQP358xE/jRdA/fnzET+NF0D9+fMRP40XQP358xE/jRdA/BTKb9e+P0j8FMpv174/SPwUym/Xvj9I/pr3MMi8C3j+kJP83N7rkPw==",
          "dtype": "f8"
         },
         "yaxis": "y"
        },
        {
         "hovertemplate": "country=India (Old national sample)<br>num_selections=%{x}<br>jsd=%{y}<extra></extra>",
         "legendgroup": "India (Old national sample)",
         "marker": {
          "color": "#19d3f3",
          "symbol": "circle"
         },
         "mode": "markers",
         "name": "India (Old national sample)",
         "showlegend": true,
         "type": "scattergl",
         "x": {
          "bdata": "BQQFBQIFBQIFBgQCBQYEAgQCBAUCAgcCBAoEBAIFBwoFAgUDBgMEAgUDBAIDAgUCBAQ=",
          "dtype": "i1"
         },
         "xaxis": "x",
         "y": {
          "bdata": "F1PcMzxbyD9Y8FHuz3nQPxqikuSSqeM/pdLhSqIfxD+kWQSxLVGRP5HEke299sI/3P3/1deaxD8MINCJycjRP8sh4/bjK+k/QYVyA1/kvz/BOGN85e/BPw2uinJTEt4/ojbQjmbxxz8uWhBBVSLQP5EL3NJixsk/eFsQQB2xiD8Pc+IDTUnJPywW4hvr09c/ftcQvT0XyT+J/Vf41d7QPy2hS7Ms38E/BobyImmtyj8wEgYYmcrKP3M3DbpoUMU//SD2UrdZrD/Nxo8u9TXRP/mx332Mtsg/F2FbAgal1j/qa7CU+0+aP09uvgsh+eU/DKBy5Yu7yT82ZzrCHT3PP5iIog4jAdw/SOYeucqaoj/aJL3MuMLJPxZqVVdDi9s/VvXa9FMezT/m+amj++3TP2PZ5I5Kqr8/O03sNUNAzD8tZuN2CzTMP3jYf75pL7k/K5VynkAM0z9oO5wuD6bPP3rffbiqw88/gW0SVe1I2T/NVTWQIu3GP6tlbUqH0No/xWlReHgS0z+bhQQruGnXPw==",
          "dtype": "f8"
         },
         "yaxis": "y"
        },
        {
         "hovertemplate": "<b>OLS trendline</b><br>jsd = 0.00798403 * num_selections + 0.217998<br>R<sup>2</sup>=0.009134<br><br>country=India (Old national sample)<br>num_selections=%{x}<br>jsd=%{y} <b>(trend)</b><extra></extra>",
         "legendgroup": "India (Old national sample)",
         "marker": {
          "color": "#19d3f3",
          "symbol": "circle"
         },
         "mode": "lines",
         "name": "India (Old national sample)",
         "showlegend": false,
         "type": "scattergl",
         "x": {
          "bdata": "AgICAgICAgICAgICAgIDAwMDBAQEBAQEBAQEBAQEBQUFBQUFBQUFBQUFBQYGBgcHCgo=",
          "dtype": "i1"
         },
         "xaxis": "x",
         "y": {
          "bdata": "9FNl0JjyzT/0U2XQmPLNP/RTZdCY8s0/9FNl0JjyzT/0U2XQmPLNP/RTZdCY8s0/9FNl0JjyzT/0U2XQmPLNP/RTZdCY8s0/9FNl0JjyzT/0U2XQmPLNP/RTZdCY8s0/9FNl0JjyzT/0U2XQmPLNP3J2t6w3+M4/cna3rDf4zj9ydresN/jOP3J2t6w3+M4/8JgJidb9zz/wmAmJ1v3PP/CYCYnW/c8/8JgJidb9zz/wmAmJ1v3PP/CYCYnW/c8/8JgJidb9zz/wmAmJ1v3PP/CYCYnW/c8/8JgJidb9zz/wmAmJ1v3PP/CYCYnW/c8/t92tsrqB0D+33a2yuoHQP7fdrbK6gdA/t92tsrqB0D+33a2yuoHQP7fdrbK6gdA/t92tsrqB0D+33a2yuoHQP7fdrbK6gdA/t92tsrqB0D+33a2yuoHQP7fdrbK6gdA/t92tsrqB0D/27tYgigTRP/bu1iCKBNE/9u7WIIoE0T80AACPWYfRPzQAAI9Zh9E/8TN72ccP0z/xM3vZxw/TPw==",
          "dtype": "f8"
         },
         "yaxis": "y"
        },
        {
         "hovertemplate": "country=Indonesia<br>num_selections=%{x}<br>jsd=%{y}<extra></extra>",
         "legendgroup": "Indonesia",
         "marker": {
          "color": "#FF6692",
          "symbol": "circle"
         },
         "mode": "markers",
         "name": "Indonesia",
         "showlegend": true,
         "type": "scattergl",
         "x": {
          "bdata": "BgIEBAQCBAICBQYFBAMFAgUDBAMCBwQFAgUDAgQDAwYFBAYHBQUFAgQDBQMFBQMKBQU=",
          "dtype": "i1"
         },
         "xaxis": "x",
         "y": {
          "bdata": "MWXXcj7z4T8bBzcg3vHJP/FpW2id8dA/Tul3Aq8S1T/vkPmHLzLHPwEm77tVetI/FX3sqU7T2D+L/Kw8N8zIPwonDe9jfsg/j6r3lutVuz+zg3YghN3fPyDMUt88bMM/MVSvY1R6xT8045sBZTa+P3UTtgu0+tU/HEySRIRLuT94xd9yncXTP907yqvgB9Q/pGbWqw3ZxT8wCznPGw3EP0ZNstElQdk/msIC9pJS0z/rZp/OGM7JP7tCEzDkycE/wLTcH6kiyD9Zn8PVxEDPPxHrqHpDfMU/vPRhxAtKxD/UuFxsYX61P+8giOF7ULs/D5YfoM0E1z/tj8Bd8R/XPzNNo8og6NM/sqKXh5irxT8XdUW1m1TnP6UsxpLw1ck/k0JkOExasz8b+cHGGSrRP3MaxbzXstY/Owi4Glergz9eWxSU1++5P4sLoPrZ+LQ/fS/NY4y0rT86gLfaLPbFPxnUzV+oosc/6jdKS/CLsj8ufLNyMorGPwvJPxvJ+Oc/l5UhH2KZzj8D6Bv6IBG1Pw==",
          "dtype": "f8"
         },
         "yaxis": "y"
        },
        {
         "hovertemplate": "<b>OLS trendline</b><br>jsd = 0.0485967 * num_selections + 0.0333964<br>R<sup>2</sup>=0.257628<br><br>country=Indonesia<br>num_selections=%{x}<br>jsd=%{y} <b>(trend)</b><extra></extra>",
         "legendgroup": "Indonesia",
         "marker": {
          "color": "#FF6692",
          "symbol": "circle"
         },
         "mode": "lines",
         "name": "Indonesia",
         "showlegend": false,
         "type": "scattergl",
         "x": {
          "bdata": "AgICAgICAgICAwMDAwMDAwMDBAQEBAQEBAQEBAUFBQUFBQUFBQUFBQUFBQYGBgYHBwo=",
          "dtype": "i1"
         },
         "xaxis": "x",
         "y": {
          "bdata": "gE04byq3wD+ATThvKrfAP4BNOG8qt8A/gE04byq3wD+ATThvKrfAP4BNOG8qt8A/gE04byq3wD+ATThvKrfAP4BNOG8qt8A/i3LT8pTvxj+LctPylO/GP4ty0/KU78Y/i3LT8pTvxj+LctPylO/GP4ty0/KU78Y/i3LT8pTvxj+LctPylO/GP4ty0/KU78Y/lZdudv8nzT+Vl252/yfNP5WXbnb/J80/lZdudv8nzT+Vl252/yfNP5WXbnb/J80/lZdudv8nzT+Vl252/yfNP5WXbnb/J80/lZdudv8nzT9Q3gT9NLDRP1DeBP00sNE/UN4E/TSw0T9Q3gT9NLDRP1DeBP00sNE/UN4E/TSw0T9Q3gT9NLDRP1DeBP00sNE/UN4E/TSw0T9Q3gT9NLDRP1DeBP00sNE/UN4E/TSw0T9Q3gT9NLDRP1DeBP00sNE/UN4E/TSw0T/VcNI+aszUP9Vw0j5qzNQ/1XDSPmrM1D/VcNI+aszUP1oDoICf6Nc/WgOggJ/o1z90XQSjn57gPw==",
          "dtype": "f8"
         },
         "yaxis": "y"
        },
        {
         "hovertemplate": "country=Indonesia (Non-national sample)<br>num_selections=%{x}<br>jsd=%{y}<extra></extra>",
         "legendgroup": "Indonesia (Non-national sample)",
         "marker": {
          "color": "#B6E880",
          "symbol": "circle"
         },
         "mode": "markers",
         "name": "Indonesia (Non-national sample)",
         "showlegend": true,
         "type": "scattergl",
         "x": {
          "bdata": "AgIEAwIEBAMDAwQEBAIEBQQDAgICBQQFBAQEAgQFAwQEAwMEBAIEBAQDAwQEAgIEBAM=",
          "dtype": "i1"
         },
         "xaxis": "x",
         "y": {
          "bdata": "1k9rYOgL2D+h/vTc1tW+PxicAIliE9E/EcOcQBRKxj+oFeje76ngP3ky5cduVNM/5UBwE1ehwD9RxjWU28jSPzHSXipHRMc/dc1vnJKD0z+KBZAPRke8P/Ee0TeuxsM/juLVtOc3yT8iX95xU4fAP0hB0S7rCcQ/WnTn5smu1D/xnsg/1tfTP+1kA7oOJdc/3iR6iGE71T92BwNPu6rKP7P2oYgkitE/V9oWpKxL3T8GB6IF5Q3XPwMFTu5yEMQ/bPYevhHj2D9DHT95KFnIP6Vb2NyiCr8/8XRBmEeusT+cggHS0LvOP1M6YIRazdI/6zQbkhGAtj/o/QoFkojYP9ia7jpaHNM/1dVtDTcj2D8kommlQB7BP0rpsstvH9A/nsYwgQBP0D+ca/Kj9tLIP3lJtDKG7s0/TxQrAW2Ayz/DZIonq6/RP/36UQFx1pc/n5qV4x6v3T+tXbLqvzqzP4U/hnPsM88/v8OIQ4Qa2j+BYwg464jVPyQhvBXSSc8/6xefggcT0T+Zx7fGC33BPw==",
          "dtype": "f8"
         },
         "yaxis": "y"
        },
        {
         "hovertemplate": "<b>OLS trendline</b><br>jsd = -0.00105991 * num_selections + 0.251811<br>R<sup>2</sup>=0.000077<br><br>country=Indonesia (Non-national sample)<br>num_selections=%{x}<br>jsd=%{y} <b>(trend)</b><extra></extra>",
         "legendgroup": "Indonesia (Non-national sample)",
         "marker": {
          "color": "#B6E880",
          "symbol": "circle"
         },
         "mode": "lines",
         "name": "Indonesia (Non-national sample)",
         "showlegend": false,
         "type": "scattergl",
         "x": {
          "bdata": "AgICAgICAgICAgIDAwMDAwMDAwMDAwQEBAQEBAQEBAQEBAQEBAQEBAQEBAQEBAUFBQU=",
          "dtype": "i1"
         },
         "xaxis": "x",
         "y": {
          "bdata": "JZtKsuD1zz8lm0qy4PXPPyWbSrLg9c8/JZtKsuD1zz8lm0qy4PXPPyWbSrLg9c8/JZtKsuD1zz8lm0qy4PXPPyWbSrLg9c8/JZtKsuD1zz8lm0qy4PXPP1aLmo8l088/VouajyXTzz9Wi5qPJdPPP1aLmo8l088/VouajyXTzz9Wi5qPJdPPP1aLmo8l088/VouajyXTzz9Wi5qPJdPPP1aLmo8l088/VouajyXTzz+Ge+psarDPP4Z76mxqsM8/hnvqbGqwzz+Ge+psarDPP4Z76mxqsM8/hnvqbGqwzz+Ge+psarDPP4Z76mxqsM8/hnvqbGqwzz+Ge+psarDPP4Z76mxqsM8/hnvqbGqwzz+Ge+psarDPP4Z76mxqsM8/hnvqbGqwzz+Ge+psarDPP4Z76mxqsM8/hnvqbGqwzz+Ge+psarDPP4Z76mxqsM8/hnvqbGqwzz+Ge+psarDPP4Z76mxqsM8/hnvqbGqwzz+3azpKr43PP7drOkqvjc8/t2s6Sq+Nzz+3azpKr43PPw==",
          "dtype": "f8"
         },
         "yaxis": "y"
        },
        {
         "hovertemplate": "country=Iran<br>num_selections=%{x}<br>jsd=%{y}<extra></extra>",
         "legendgroup": "Iran",
         "marker": {
          "color": "#FF97FF",
          "symbol": "circle"
         },
         "mode": "markers",
         "name": "Iran",
         "showlegend": true,
         "type": "scattergl",
         "x": {
          "bdata": "DgYFBgcNBQ0NBgcHDQgNBg0HBwcFDQcGDQUFBgcGBgcHBgcHBQ0HBwcODQUFDQcFDQU=",
          "dtype": "i1"
         },
         "xaxis": "x",
         "y": {
          "bdata": "tJrrImT73D/pscFPpgXRPz4q22cJ2NQ/vzukYHfg2j9eHg3jlsjaP/R1fg7zRNQ/OyaUf/Kbzz+cesRmcOrYPzQXMxeIOtI/lENGO4FGwj9wgyaP8y/UP0QhPcY+KN8/fyOlBAjL0z91D62ZCyDPP/2VGaTGLdg/oi7S8Dr92D9Do+pcLXXRP50Psw2gv9c/um8xQUkuxj8oQlDpSD/ZPxFowYnBnM8/Dd7SfVXSyD/er8gfu6PCP4MorG6VH8U//v6Wnd1pzT+RaScmEBXcPxjgRmpX/t8/PMGGiW/z2T/XuQT/JYLaPz8iKw+t4Mc/5o0fPyHvxD+qUVt1gYjWP1LhDmAPccE/uBovVSHuxj+mfzWAs3PCPwgj77j8U80/c+Yrnj70xD8rhnqrJLbaP1y4VxfqjtM/PyZOIik84D/y0sce1VjRP2nYq5Eqnss/ylX45Uu60z/m3q4VZi7CPzagNifKxcQ/WstUyd/UyT8l7ZoGlZ/JPyQXRFQ109U/LxGD3EqE1j9zPhlL173QPw==",
          "dtype": "f8"
         },
         "yaxis": "y"
        },
        {
         "hovertemplate": "<b>OLS trendline</b><br>jsd = 0.00381789 * num_selections + 0.260415<br>R<sup>2</sup>=0.013074<br><br>country=Iran<br>num_selections=%{x}<br>jsd=%{y} <b>(trend)</b><extra></extra>",
         "legendgroup": "Iran",
         "marker": {
          "color": "#FF97FF",
          "symbol": "circle"
         },
         "mode": "lines",
         "name": "Iran",
         "showlegend": false,
         "type": "scattergl",
         "x": {
          "bdata": "BQUFBQUFBQUFBQYGBgYGBgYGBgcHBwcHBwcHBwcHBwcHBwcIDQ0NDQ0NDQ0NDQ0NDg4=",
          "dtype": "i1"
         },
         "xaxis": "x",
         "y": {
          "bdata": "Tkt+k2Xj0T9OS36TZePRP05LfpNl49E/Tkt+k2Xj0T9OS36TZePRP05LfpNl49E/Tkt+k2Xj0T9OS36TZePRP05LfpNl49E/Tkt+k2Xj0T+2TYz88iHSP7ZNjPzyIdI/tk2M/PIh0j+2TYz88iHSP7ZNjPzyIdI/tk2M/PIh0j+2TYz88iHSP7ZNjPzyIdI/tk2M/PIh0j8fUJplgGDSPx9QmmWAYNI/H1CaZYBg0j8fUJplgGDSPx9QmmWAYNI/H1CaZYBg0j8fUJplgGDSPx9QmmWAYNI/H1CaZYBg0j8fUJplgGDSPx9QmmWAYNI/H1CaZYBg0j8fUJplgGDSPx9QmmWAYNI/H1CaZYBg0j8fUJplgGDSP4dSqM4Nn9I/kV7u29DX0z+RXu7b0NfTP5Fe7tvQ19M/kV7u29DX0z+RXu7b0NfTP5Fe7tvQ19M/kV7u29DX0z+RXu7b0NfTP5Fe7tvQ19M/kV7u29DX0z+RXu7b0NfTP5Fe7tvQ19M/+mD8RF4W1D/6YPxEXhbUPw==",
          "dtype": "f8"
         },
         "yaxis": "y"
        },
        {
         "hovertemplate": "country=Iraq<br>num_selections=%{x}<br>jsd=%{y}<extra></extra>",
         "legendgroup": "Iraq",
         "marker": {
          "color": "#FECB52",
          "symbol": "circle"
         },
         "mode": "markers",
         "name": "Iraq",
         "showlegend": true,
         "type": "scattergl",
         "x": {
          "bdata": "BgcNCAYEBQcFDg0HBwcGBg0EBgcHBgcGBgcIBwYHBgcFBg0HDg0GBw4HBgYGBwcNCAc=",
          "dtype": "i1"
         },
         "xaxis": "x",
         "y": {
          "bdata": "x3xNWou30z/b2UddgHLLP4gtTiTU1dw/PcCgX+Na1z8ckNNWPZHFP9AuXKki2cs/yMeRL2QZ2T85fyZr/F/IP/ZGEQW/I9I/89qOrhPK1D8U7/x5pBTYP3/AyUAJ3rc/3cPI/Tb5uj86SLDOj5jWP58/1VhSlN8/oxHpCMTmuT+XiyxfALrVP4jVTJEdeM0/HZp8evnfwD9Hulh6IAvEP5oI+8jvDs4/llNDsEJ9wz9eaOUMwb/EP4/hV/oGoMI/w5UYB+IYvT8PUUsQs3K7P0/W59iTC9M/fvMHB9M2wj/cLDkAfeDGP8MSLwYk78g/c3u2wiHHwj+FLAIdghbVP6p3zF2CJtA/yeWeXxG6yD8XYJ9rJYvRPwBvZdwg4cQ/0fbKWD5E5j/topJj0N3PPyHjj2pggNc/3qjQtY8jyT8QzIOTjwTVPybvybJtctY/oPceHqlP1D8DePqjt5jSP4yXfxthbdM/S7xoenrNxD96JfvOsKy5P4JE+bJLe8s/kl+x/Wr82z/5OQV9ryPDPw==",
          "dtype": "f8"
         },
         "yaxis": "y"
        },
        {
         "hovertemplate": "<b>OLS trendline</b><br>jsd = 0.0181791 * num_selections + 0.111685<br>R<sup>2</sup>=0.179726<br><br>country=Iraq<br>num_selections=%{x}<br>jsd=%{y} <b>(trend)</b><extra></extra>",
         "legendgroup": "Iraq",
         "marker": {
          "color": "#FECB52",
          "symbol": "circle"
         },
         "mode": "lines",
         "name": "Iraq",
         "showlegend": false,
         "type": "scattergl",
         "x": {
          "bdata": "BAQFBQUGBgYGBgYGBgYGBgYGBgYHBwcHBwcHBwcHBwcHBwcHBwcICAgNDQ0NDQ0ODg4=",
          "dtype": "i1"
         },
         "xaxis": "x",
         "y": {
          "bdata": "mjek43eaxz+aN6Tjd5rHP5p5XXop7sk/mnldeinuyT+aeV16Ke7JP5q7FhHbQcw/mrsWEdtBzD+auxYR20HMP5q7FhHbQcw/mrsWEdtBzD+auxYR20HMP5q7FhHbQcw/mrsWEdtBzD+auxYR20HMP5q7FhHbQcw/mrsWEdtBzD+auxYR20HMP5q7FhHbQcw/mrsWEdtBzD+auxYR20HMP5v9z6eMlc4/m/3Pp4yVzj+b/c+njJXOP5v9z6eMlc4/m/3Pp4yVzj+b/c+njJXOP5v9z6eMlc4/m/3Pp4yVzj+b/c+njJXOP5v9z6eMlc4/m/3Pp4yVzj+b/c+njJXOP5v9z6eMlc4/m/3Pp4yVzj+b/c+njJXOP5v9z6eMlc4/m/3Pp4yVzj+b/c+njJXOP86fRB+fdNA/zp9EH5900D/On0Qfn3TQP87EExjbRdY/zsQTGNtF1j/OxBMY20XWP87EExjbRdY/zsQTGNtF1j/OxBMY20XWP85lcOOzb9c/zmVw47Nv1z/OZXDjs2/XPw==",
          "dtype": "f8"
         },
         "yaxis": "y"
        },
        {
         "hovertemplate": "country=Israel<br>num_selections=%{x}<br>jsd=%{y}<extra></extra>",
         "legendgroup": "Israel",
         "marker": {
          "color": "#636efa",
          "symbol": "circle"
         },
         "mode": "markers",
         "name": "Israel",
         "showlegend": true,
         "type": "scattergl",
         "x": {
          "bdata": "BgUFBAQCBAYEBAYEBAQDDQQCAwMEBAMECwUFBAMFBQQEAwIGBQUDBAYCBwQEBAsEBQY=",
          "dtype": "i1"
         },
         "xaxis": "x",
         "y": {
          "bdata": "+uVH1DBexj/6bMvTqlnEP2RhWvxRb7g/UApuRk25xz8lFCH7Jk7KP/WPvResWb4/Pk4/DbJ9sz80TL3l0JLWP4sszo93VsI/VU5kTLTtoD/UmFUQUXTjP5/cU+tsms0/x6Or7c290z8+zMZg6xHNP1ts50Oq1qo/LEcGCcO06z+7uQb3pivFP+Ayuk5+j6w/prSqhPSLyT/Gp5MU7GjMPxF6+DceoMM/qCQjvuWUwD81Y1j4whzAPyEklPkaxa0/fJhwvQry2D+PbFOsnuDJPwSN28WykMM/+5J16ZC92j9RqjhHWcq0P1hUExz7sL4/qg2+kRB/yD+spZthstDGP3PsTEw8Bb8/GnW9SxzEwj+GVC1pgmOQP6fqpjRMWsI/4WaQ6+3I4D+h57chYWeJPwUtPqsiq9Q/YlWJsB2Yyz8TsX6p7KjIP4oVAwVdzMQ/RnQbLnJA1j/jedNF4E+/PwFqU+573dg/ph4l3+wfyT8BdMy48H3hP2p1nM9dY7s/WUHEpLJFyT8Kybsq7MzKPw==",
          "dtype": "f8"
         },
         "yaxis": "y"
        },
        {
         "hovertemplate": "<b>OLS trendline</b><br>jsd = 0.0524915 * num_selections + -0.030506<br>R<sup>2</sup>=0.479620<br><br>country=Israel<br>num_selections=%{x}<br>jsd=%{y} <b>(trend)</b><extra></extra>",
         "legendgroup": "Israel",
         "marker": {
          "color": "#636efa",
          "symbol": "circle"
         },
         "mode": "lines",
         "name": "Israel",
         "showlegend": false,
         "type": "scattergl",
         "x": {
          "bdata": "AgICAgMDAwMDAwMEBAQEBAQEBAQEBAQEBAQEBAQEBAUFBQUFBQUFBQYGBgYGBgcLCw0=",
          "dtype": "i1"
         },
         "xaxis": "x",
         "y": {
          "bdata": "yJ24tOwQsz/Inbi07BCzP8iduLTsELM/yJ24tOwQsz83E1cQgUDAPzcTVxCBQMA/NxNXEIFAwD83E1cQgUDAPzcTVxCBQMA/NxNXEIFAwD83E1cQgUDAP4vXUcaL+MY/i9dRxov4xj+L11HGi/jGP4vXUcaL+MY/i9dRxov4xj+L11HGi/jGP4vXUcaL+MY/i9dRxov4xj+L11HGi/jGP4vXUcaL+MY/i9dRxov4xj+L11HGi/jGP4vXUcaL+MY/i9dRxov4xj+L11HGi/jGP4vXUcaL+MY/i9dRxov4xj+L11HGi/jGP4vXUcaL+MY/i9dRxov4xj/em0x8lrDNP96bTHyWsM0/3ptMfJawzT/em0x8lrDNP96bTHyWsM0/3ptMfJawzT/em0x8lrDNP96bTHyWsM0/3ptMfJawzT8ZsCOZUDTSPxmwI5lQNNI/GbAjmVA00j8ZsCOZUDTSPxmwI5lQNNI/GbAjmVA00j9DEiH0VZDVP3VNC7A1gOE/dU0LsDWA4T+frwgLO9zkPw==",
          "dtype": "f8"
         },
         "yaxis": "y"
        },
        {
         "hovertemplate": "country=Italy<br>num_selections=%{x}<br>jsd=%{y}<extra></extra>",
         "legendgroup": "Italy",
         "marker": {
          "color": "#EF553B",
          "symbol": "circle"
         },
         "mode": "markers",
         "name": "Italy",
         "showlegend": true,
         "type": "scattergl",
         "x": {
          "bdata": "BAQEAgUDBwMCBQMFAwUKCwMDBwMFBQUHBQUCBAUDDQUFBgUEBAcEBgIHAgMFBAUFBQM=",
          "dtype": "i1"
         },
         "xaxis": "x",
         "y": {
          "bdata": "Zv4IzhnYuT8hmMdi0gKoP9TdtC6jvNc/xZDifNX/xj8RFVMh7b3TPxTurSi6nM0/Y3x9xTgtyT+y+QNTbVncP0kZS7ouHdE/h+rZXEEWzz+/e+jUUu/PPy7WWU0UINI/JoVfinpR1D9Vz0zw7CfRPx3ZxuDuw+8/CU1XdPeu3j8g97Ie/Hq7P4P2Eg4ZOdA/yrrWpxu/0D/lT+fBh5nRP0Cbd+8gFdE/I/cZ9+DPyz+2uhtE3D3XP/zKaix4gtU/i6Njl6clzz/2OFLMuQ/SP2OyRcrz0Ks/pvkv3ljKzj9UnqdeZprLP+ZdpejDvcs/zHDu0fegxj9AeE4RjGTTPzdbz84Mm80/KoaAgTnCzz/QMqN7HvDFP4igo/Ps+NQ/lGz7ukTe0D9qSj/rs/bKPycm5Pwgls8/7zD/OK8wzT/6y7uYC0XCP/o/yiIPM9U/Dl80lV6koT/IQGcGTjymP6DxrttoBLg/kzpWvXb8wT9+hCERHHzEP+piHMqdirc/17JM90KTyD/g/fjC+DfBPw==",
          "dtype": "f8"
         },
         "yaxis": "y"
        },
        {
         "hovertemplate": "<b>OLS trendline</b><br>jsd = 0.0294622 * num_selections + 0.101445<br>R<sup>2</sup>=0.198917<br><br>country=Italy<br>num_selections=%{x}<br>jsd=%{y} <b>(trend)</b><extra></extra>",
         "legendgroup": "Italy",
         "marker": {
          "color": "#EF553B",
          "symbol": "circle"
         },
         "mode": "lines",
         "name": "Italy",
         "showlegend": false,
         "type": "scattergl",
         "x": {
          "bdata": "AgICAgIDAwMDAwMDAwMDBAQEBAQEBAQFBQUFBQUFBQUFBQUFBQUFBQYGBwcHBwcKCw0=",
          "dtype": "i1"
         },
         "xaxis": "x",
         "y": {
          "bdata": "LUcSdvuGxD8tRxJ2+4bEPy1HEnb7hsQ/LUcSdvuGxD8tRxJ2+4bEP4EnUFZmTMg/gSdQVmZMyD+BJ1BWZkzIP4EnUFZmTMg/gSdQVmZMyD+BJ1BWZkzIP4EnUFZmTMg/gSdQVmZMyD+BJ1BWZkzIP4EnUFZmTMg/1QeONtERzD/VB4420RHMP9UHjjbREcw/1QeONtERzD/VB4420RHMP9UHjjbREcw/1QeONtERzD/VB4420RHMPynoyxY8188/KejLFjzXzz8p6MsWPNfPPynoyxY8188/KejLFjzXzz8p6MsWPNfPPynoyxY8188/KejLFjzXzz8p6MsWPNfPPynoyxY8188/KejLFjzXzz8p6MsWPNfPPynoyxY8188/KejLFjzXzz8p6MsWPNfPPynoyxY8188/KejLFjzXzz8+5IR7U87RPz7khHtTztE/aNSj6wix0z9o1KPrCLHTP2jUo+sIsdM/aNSj6wix0z9o1KPrCLHTP+akADwpWdk/EJUfrN472z9kdV2MSQHfPw==",
          "dtype": "f8"
         },
         "yaxis": "y"
        },
        {
         "hovertemplate": "country=Ivory Coast<br>num_selections=%{x}<br>jsd=%{y}<extra></extra>",
         "legendgroup": "Ivory Coast",
         "marker": {
          "color": "#00cc96",
          "symbol": "circle"
         },
         "mode": "markers",
         "name": "Ivory Coast",
         "showlegend": true,
         "type": "scattergl",
         "x": {
          "bdata": "Cws=",
          "dtype": "i1"
         },
         "xaxis": "x",
         "y": {
          "bdata": "8vQTmjaSwD9gzs9A5qnQPw==",
          "dtype": "f8"
         },
         "yaxis": "y"
        },
        {
         "hovertemplate": "<b>OLS trendline</b><br>jsd = 0.0177196<br>R<sup>2</sup>=0.000000<br><br>country=Ivory Coast<br>num_selections=%{x}<br>jsd=%{y} <b>(trend)</b><extra></extra>",
         "legendgroup": "Ivory Coast",
         "marker": {
          "color": "#00cc96",
          "symbol": "circle"
         },
         "mode": "lines",
         "name": "Ivory Coast",
         "showlegend": false,
         "type": "scattergl",
         "x": {
          "bdata": "Cws=",
          "dtype": "i1"
         },
         "xaxis": "x",
         "y": {
          "bdata": "18jZjQHzyD/XyNmNAfPIPw==",
          "dtype": "f8"
         },
         "yaxis": "y"
        },
        {
         "hovertemplate": "country=Ivory Coast (Non-national sample)<br>num_selections=%{x}<br>jsd=%{y}<extra></extra>",
         "legendgroup": "Ivory Coast (Non-national sample)",
         "marker": {
          "color": "#ab63fa",
          "symbol": "circle"
         },
         "mode": "markers",
         "name": "Ivory Coast (Non-national sample)",
         "showlegend": true,
         "type": "scattergl",
         "x": {
          "bdata": "CwIFBAIEBQIEBAUEAwIFBAQEAggCBAQEBAQEAgUCBAQEBAMEAgMDBAIFAwMDAwQEAgI=",
          "dtype": "i1"
         },
         "xaxis": "x",
         "y": {
          "bdata": "mfiUeg082j91sT/DVtnEP3Cl/NJ1rOI/4F9YWwiZmD+LFQc5JI3UP9mbalfpkNU/e3+dGa2Syz/GWWQ+g8DAP7HHRCIuMcY/qvkz+r5lxD99KX8F7UXUPxEAHHkCY+A/DOmcyqnZ0D8+7VMRAV3AP3PJeh8/I7w/CqyvIT+NzT9Peh2olQfAP4zhNBVwbMc/zviXcR//pT9YGUDWqrnfP7YZP2PLxMM/LAIeANP8vj8TgquwWNnVP2KbyuABas4/h/nzlJZA3D+jP9xoTqnAPzeLk1Jp+sM/czB76KSmzj8PHwOZiUzJP/I+D9an27M/kcWfBY941D9YJOgazQ+5P7Y+x9KDAck/2ZwTml/T1T+FJE4j7uZ+P+w4j8z21Mk/ds7TxRr03T8Q01DybdXXPzpYP1QkSc8/liDpqtUrvz+Y+Tlk0dexP1gwTtZxWdI//lA82dyczz/zoHeKMrrTP32CR1kA0tQ/FcG+1NU9zD/9IxQVnJDVP3y0A/izJMA/utUw28V4wj9o0ETrBmzfPw==",
          "dtype": "f8"
         },
         "yaxis": "y"
        },
        {
         "hovertemplate": "<b>OLS trendline</b><br>jsd = 0.0269186 * num_selections + 0.139362<br>R<sup>2</sup>=0.098081<br><br>country=Ivory Coast (Non-national sample)<br>num_selections=%{x}<br>jsd=%{y} <b>(trend)</b><extra></extra>",
         "legendgroup": "Ivory Coast (Non-national sample)",
         "marker": {
          "color": "#ab63fa",
          "symbol": "circle"
         },
         "mode": "lines",
         "name": "Ivory Coast (Non-national sample)",
         "showlegend": false,
         "type": "scattergl",
         "x": {
          "bdata": "AgICAgICAgICAgICAwMDAwMDAwMEBAQEBAQEBAQEBAQEBAQEBAQEBAQEBQUFBQUFCAs=",
          "dtype": "i1"
         },
         "xaxis": "x",
         "y": {
          "bdata": "YDo9mr26yD9gOj2avbrIP2A6PZq9usg/YDo9mr26yD9gOj2avbrIP2A6PZq9usg/YDo9mr26yD9gOj2avbrIP2A6PZq9usg/YDo9mr26yD9gOj2avbrIP2A6PZq9usg/pGrqSs8szD+kaupKzyzMP6Rq6krPLMw/pGrqSs8szD+kaupKzyzMP6Rq6krPLMw/pGrqSs8szD+kaupKzyzMP+ial/vgns8/6JqX++Cezz/ompf74J7PP+ial/vgns8/6JqX++Cezz/ompf74J7PP+ial/vgns8/6JqX++Cezz/ompf74J7PP+ial/vgns8/6JqX++Cezz/ompf74J7PP+ial/vgns8/6JqX++Cezz/ompf74J7PP+ial/vgns8/6JqX++Cezz/ompf74J7PP+ial/vgns8/6JqX++Cezz/ompf74J7PP+ial/vgns8/lmUiVnmI0T+WZSJWeYjRP5ZlIlZ5iNE/lmUiVnmI0T+WZSJWeYjRP5ZlIlZ5iNE//C0m35Oz1j9h9ilort7bPw==",
          "dtype": "f8"
         },
         "yaxis": "y"
        },
        {
         "hovertemplate": "country=Japan<br>num_selections=%{x}<br>jsd=%{y}<extra></extra>",
         "legendgroup": "Japan",
         "marker": {
          "color": "#FFA15A",
          "symbol": "circle"
         },
         "mode": "markers",
         "name": "Japan",
         "showlegend": true,
         "type": "scattergl",
         "x": {
          "bdata": "Bw0FAwQCBgIDBQ0HAwUDBQQLBgcCAwUEBAQFAgUNDQQNDQUHBQMGCAQEDgYFBAMFBQQ=",
          "dtype": "i1"
         },
         "xaxis": "x",
         "y": {
          "bdata": "MQ5biW9H0T/7th6iJ4nQP1qYhTDdL88/yFZn64Fbxj8rBhE8E+HSP3xfh3ggp8M/WAAD+ybJxD8teoo3Cna5P+FWlPfk3tM/N/RgBdjL2j8OpS3c8XDOP/d3F+F2Bsw/hk0AfEentT8IxfSyXjW+PxnqpM8Yb64/n+SrTQqIyj/w7mrAV0/QP9gVqnwbNdY/wcqmQxA9zD9u0C9da5baP+IUHreYOrI/KyCbK0QZzj8AlMvo0ubKP40pwHvKa9o/sY5ZTvlD4T81ugflh6zPPx7vjJ6NQ9c/lH+22J/AxD8SexRcjk/cP+mgSkTPKs0/rNxtgxIc1z/g85gq5DfTP4p2qsiLetg/nKOnMnva6z8eW6FFL3LQP4kp1KQvitE/ImKHHkOX1D+wP3KoxtXQP/jwLGO/3rw/RqfFF3kf2D+cN6v+yhm/P08znb3P9Nc/T0gWN7QIxz/unZCGCyrLP+ZJ+f0bGcc/aBWBkfnMxD/AGzRQ7Im5P7u7Lxox/OA/y7wqb74vtz+bLuBGleXVPw==",
          "dtype": "f8"
         },
         "yaxis": "y"
        },
        {
         "hovertemplate": "<b>OLS trendline</b><br>jsd = 0.0149208 * num_selections + 0.178389<br>R<sup>2</sup>=0.122194<br><br>country=Japan<br>num_selections=%{x}<br>jsd=%{y} <b>(trend)</b><extra></extra>",
         "legendgroup": "Japan",
         "marker": {
          "color": "#FFA15A",
          "symbol": "circle"
         },
         "mode": "lines",
         "name": "Japan",
         "showlegend": false,
         "type": "scattergl",
         "x": {
          "bdata": "AgICAgMDAwMDAwMEBAQEBAQEBAQEBQUFBQUFBQUFBQUFBgYGBgcHBwcICw0NDQ0NDQ4=",
          "dtype": "i1"
         },
         "xaxis": "x",
         "y": {
          "bdata": "uceCy06nyj+5x4LLTqfKP7nHgstOp8o/uceCy06nyj82HR+3O5DMPzYdH7c7kMw/Nh0ftzuQzD82HR+3O5DMPzYdH7c7kMw/Nh0ftzuQzD82HR+3O5DMP7Nyu6Ioec4/s3K7oih5zj+zcruiKHnOP7Nyu6Ioec4/s3K7oih5zj+zcruiKHnOP7Nyu6Ioec4/s3K7oih5zj+zcruiKHnOP7Nyu6Ioec4/GOQrxwox0D8Y5CvHCjHQPxjkK8cKMdA/GOQrxwox0D8Y5CvHCjHQPxjkK8cKMdA/GOQrxwox0D8Y5CvHCjHQPxjkK8cKMdA/GOQrxwox0D8Y5CvHCjHQPxjkK8cKMdA/1g76PIEl0T/WDvo8gSXRP9YO+jyBJdE/1g76PIEl0T+UOciy9xnSP5Q5yLL3GdI/lDnIsvcZ0j+UOciy9xnSP1NklihuDtM/juQAitHr1T8KOp11vtTXPwo6nXW+1Nc/Cjqddb7U1z8KOp11vtTXPwo6nXW+1Nc/Cjqddb7U1z/JZGvrNMnYPw==",
          "dtype": "f8"
         },
         "yaxis": "y"
        },
        {
         "hovertemplate": "country=Jordan<br>num_selections=%{x}<br>jsd=%{y}<extra></extra>",
         "legendgroup": "Jordan",
         "marker": {
          "color": "#19d3f3",
          "symbol": "circle"
         },
         "mode": "markers",
         "name": "Jordan",
         "showlegend": true,
         "type": "scattergl",
         "x": {
          "bdata": "BQoCAgYCBQIHBQMEBAYHBAYFBAcEBQgFCAYEAwQEAwcEBwcHBwcEBAQEAgILBw0HBAU=",
          "dtype": "i1"
         },
         "xaxis": "x",
         "y": {
          "bdata": "J8fidtgCxj+CXrgpDC/IP+bnK96R1cA/8/fgWbTrxD9dAR4VLhzLP8H0TtbJx8w/zNevdo+M4j93DP1aEv/YP7yI9iX1Ms4/+y8lSa7u2T/cumim1hyjP1tF/t0H4NQ/Z6kVPOClxj9gFQvKK+jOPxhLamVfhdA/6lJJYM6ToT/UT+kdbVnLP9d5HJ/RItE/qoyl/c3BwT+rU8IimSfUP/iO0mwe5cU/jAjgXNvcyz+cpIB8cNTGP0xPEHca8ss/IvBQUKim2z/b5s6lBRDQP66j+lgDw8Y/bOZLAStCyT/BFisGV07RP79IGQmdUMQ/mVy99UA0xj/9gl0Tx7vOP+52AlTX1t0/t1pla0aQvD/HZmD4yLTUP8H8+H7mdtQ/pqNZJi4C0z8/DN4Fl2XRP40VGFUD48s/SJgXpVjl0T9La7IjB0i2PxGlyaaR/Mw/nhoW8s7wyD/QpqG7ItCbP9Tl7ShKkM4/19WPWo341T/ttL+ucnzRP7c5aFFdJsE/ertwx3nkzj88//zVGY7YPw==",
          "dtype": "f8"
         },
         "yaxis": "y"
        },
        {
         "hovertemplate": "<b>OLS trendline</b><br>jsd = 0.0102707 * num_selections + 0.182712<br>R<sup>2</sup>=0.049595<br><br>country=Jordan<br>num_selections=%{x}<br>jsd=%{y} <b>(trend)</b><extra></extra>",
         "legendgroup": "Jordan",
         "marker": {
          "color": "#19d3f3",
          "symbol": "circle"
         },
         "mode": "lines",
         "name": "Jordan",
         "showlegend": false,
         "type": "scattergl",
         "x": {
          "bdata": "AgICAgICAwMDBAQEBAQEBAQEBAQEBAQFBQUFBQUFBgYGBgcHBwcHBwcHBwcHCAgKCw0=",
          "dtype": "i1"
         },
         "xaxis": "x",
         "y": {
          "bdata": "Dj3CRDYEyj8OPcJENgTKPw49wkQ2BMo/Dj3CRDYEyj8OPcJENgTKPw49wkQ2BMo/TTxRbsNUyz9NPFFuw1TLP008UW7DVMs/jDvgl1ClzD+MO+CXUKXMP4w74JdQpcw/jDvgl1ClzD+MO+CXUKXMP4w74JdQpcw/jDvgl1ClzD+MO+CXUKXMP4w74JdQpcw/jDvgl1ClzD+MO+CXUKXMP4w74JdQpcw/jDvgl1ClzD+MO+CXUKXMP8w6b8Hd9c0/zDpvwd31zT/MOm/B3fXNP8w6b8Hd9c0/zDpvwd31zT/MOm/B3fXNP8w6b8Hd9c0/Czr+6mpGzz8LOv7qakbPPws6/upqRs8/Czr+6mpGzz+lnEYKfEvQP6WcRgp8S9A/pZxGCnxL0D+lnEYKfEvQP6WcRgp8S9A/pZxGCnxL0D+lnEYKfEvQP6WcRgp8S9A/pZxGCnxL0D+lnEYKfEvQP6WcRgp8S9A/RBwOn8Lz0D9EHA6fwvPQP4QbnchPRNI/I5tkXZbs0j9imvOGIz3UPw==",
          "dtype": "f8"
         },
         "yaxis": "y"
        },
        {
         "hovertemplate": "country=Jordan (Non-national sample)<br>num_selections=%{x}<br>jsd=%{y}<extra></extra>",
         "legendgroup": "Jordan (Non-national sample)",
         "marker": {
          "color": "#FF6692",
          "symbol": "circle"
         },
         "mode": "markers",
         "name": "Jordan (Non-national sample)",
         "showlegend": true,
         "type": "scattergl",
         "x": {
          "bdata": "CA==",
          "dtype": "i1"
         },
         "xaxis": "x",
         "y": {
          "bdata": "LIcM3w3B4j8=",
          "dtype": "f8"
         },
         "yaxis": "y"
        },
        {
         "hovertemplate": "country=Jordan (Non-national sample)<extra></extra>",
         "legendgroup": "Jordan (Non-national sample)",
         "marker": {
          "color": "#FF6692",
          "symbol": "circle"
         },
         "mode": "lines",
         "name": "Jordan (Non-national sample)",
         "showlegend": false,
         "type": "scattergl",
         "xaxis": "x",
         "yaxis": "y"
        },
        {
         "hovertemplate": "country=Kazakhstan<br>num_selections=%{x}<br>jsd=%{y}<extra></extra>",
         "legendgroup": "Kazakhstan",
         "marker": {
          "color": "#B6E880",
          "symbol": "circle"
         },
         "mode": "markers",
         "name": "Kazakhstan",
         "showlegend": true,
         "type": "scattergl",
         "x": {
          "bdata": "DQUHBw0FBgcGDQcHBgYHCAUFBwcHDg0FBg0NCA0NDgUNBw0HBggGBwYHBwcNDQUFBgU=",
          "dtype": "i1"
         },
         "xaxis": "x",
         "y": {
          "bdata": "08o3BYNU1z8RPt127KPQP41IjJHOLNc/W//64O31yD8Bj1iUqQHbP+mtHqp6r7o/vC0QAD9L2j/ryaWBderXPwV0TqOKCcs/xu0YH/O11T9kQPRGz8LTP1sS9TCgLco/av39DEBo2z8flpx7oIm/P47WdK05gNk/7VOmaX66tT8NJofyZrrfPzGumdyCN7Y/xVsjOx+7vz9MtzA+GdLMP1n+U/4igdw/3fZIDZuE4T9DKYZhxWDCP99WuOa3JtA/EPh0tZRC3T8wfUEngMXWP6ML3NhDZtA/81tLFAUL0z/WX4+uF73LP4hgrWt5INE/48PaRfXAzD8exN464PLfPwSUGMpA/NA/PZgTeb0pyj/uZyNDBl/UPw9RIIyfAL0/pADGrqLYxD9xvhyUBzjGPxaRXSueDtE/Kok5Sze3zT9P6aYjhVTRP8GlP5Zyj94/SpeSF5fl2T8SjvlZ2T7VPxE2JoVBpsQ/1tNYI2gq0D/7nxaiEF/TP7zyxKYIHNQ/kW0QlVUUzj8JtGAgibe+Pw==",
          "dtype": "f8"
         },
         "yaxis": "y"
        },
        {
         "hovertemplate": "<b>OLS trendline</b><br>jsd = 0.00245079 * num_selections + 0.261674<br>R<sup>2</sup>=0.004308<br><br>country=Kazakhstan<br>num_selections=%{x}<br>jsd=%{y} <b>(trend)</b><extra></extra>",
         "legendgroup": "Kazakhstan",
         "marker": {
          "color": "#B6E880",
          "symbol": "circle"
         },
         "mode": "lines",
         "name": "Kazakhstan",
         "showlegend": false,
         "type": "scattergl",
         "x": {
          "bdata": "BQUFBQUFBQUFBgYGBgYGBgYGBwcHBwcHBwcHBwcHBwcHCAgIDQ0NDQ0NDQ0NDQ0NDg4=",
          "dtype": "i1"
         },
         "xaxis": "x",
         "y": {
          "bdata": "bGZpbAiI0T9sZmlsCIjRP2xmaWwIiNE/bGZpbAiI0T9sZmlsCIjRP2xmaWwIiNE/bGZpbAiI0T9sZmlsCIjRP2xmaWwIiNE/JVtnxy+w0T8lW2fHL7DRPyVbZ8cvsNE/JVtnxy+w0T8lW2fHL7DRPyVbZ8cvsNE/JVtnxy+w0T8lW2fHL7DRPyVbZ8cvsNE/3U9lIlfY0T/dT2UiV9jRP91PZSJX2NE/3U9lIlfY0T/dT2UiV9jRP91PZSJX2NE/3U9lIlfY0T/dT2UiV9jRP91PZSJX2NE/3U9lIlfY0T/dT2UiV9jRP91PZSJX2NE/3U9lIlfY0T/dT2UiV9jRP91PZSJX2NE/lURjfX4A0j+VRGN9fgDSP5VEY31+ANI/LgxZREPJ0j8uDFlEQ8nSPy4MWURDydI/LgxZREPJ0j8uDFlEQ8nSPy4MWURDydI/LgxZREPJ0j8uDFlEQ8nSPy4MWURDydI/LgxZREPJ0j8uDFlEQ8nSPy4MWURDydI/5wBXn2rx0j/nAFefavHSPw==",
          "dtype": "f8"
         },
         "yaxis": "y"
        },
        {
         "hovertemplate": "country=Kenya<br>num_selections=%{x}<br>jsd=%{y}<extra></extra>",
         "legendgroup": "Kenya",
         "marker": {
          "color": "#FF97FF",
          "symbol": "circle"
         },
         "mode": "markers",
         "name": "Kenya",
         "showlegend": true,
         "type": "scattergl",
         "x": {
          "bdata": "BQQCDQQHBAUGBQQEBgIDBAIEBQICAg0EBQMEBAcFAwsGBAUEAwUDAgMEAgUGBwUHBgU=",
          "dtype": "i1"
         },
         "xaxis": "x",
         "y": {
          "bdata": "GCuFHKaHwj8xHPNYQ1/RP6HtLagprdI/UIVBpAPiwT8U3JBnCTaoP19wgVB8+70/Ya8LfDDWwz/b1uDg93vIP24z8jyXBs0/Elqh0LBeyD/wO9m9EY3DP2EcyHFxt6E/i3ROk6xIyD8juVi5ZFnCP51y8tmdbs4/EIeixJ1HxD/8EhabEICiP7I5cxk8Jrc/uqECetpL1j+x/9bZXqS5P7HwKazoXrs/Phfu4gfMzj+oXCBICXzQP9yR1jGW0dk/KAw5iDM62T/UrhIHOGfIP9p6CYvhDtU/oMhH+UBP2D89mFyPTI/NP6Ab7c6De8U/AnEwGDRo2D/h3mTgTyfRP4xPCK/r6MU/nRcin0OgqT/+Fl9/rJjIP1mZXzXr9tQ/1rQHUC1h2T/josFHywG1PwFVndCDRso/o9AI5GQJwD+B7jP16rjKP2LXsT7WlNQ/9NlK8vHGtD8k6aUGqy7SP8ql/3FBt8o/axC7dSkUwT/SBVBohsbSP22yz6WtGdg/gE76Up7jyT9zx/+U7TLIPw==",
          "dtype": "f8"
         },
         "yaxis": "y"
        },
        {
         "hovertemplate": "<b>OLS trendline</b><br>jsd = 0.00376921 * num_selections + 0.191544<br>R<sup>2</sup>=0.007994<br><br>country=Kenya<br>num_selections=%{x}<br>jsd=%{y} <b>(trend)</b><extra></extra>",
         "legendgroup": "Kenya",
         "marker": {
          "color": "#FF97FF",
          "symbol": "circle"
         },
         "mode": "lines",
         "name": "Kenya",
         "showlegend": false,
         "type": "scattergl",
         "x": {
          "bdata": "AgICAgICAgIDAwMDAwMEBAQEBAQEBAQEBAQEBQUFBQUFBQUFBQUGBgYGBgcHBwcLDQ0=",
          "dtype": "i1"
         },
         "xaxis": "x",
         "y": {
          "bdata": "yMvHiIp7yT/Iy8eIinvJP8jLx4iKe8k/yMvHiIp7yT/Iy8eIinvJP8jLx4iKe8k/yMvHiIp7yT/Iy8eIinvJP25ftPsM98k/bl+0+wz3yT9uX7T7DPfJP25ftPsM98k/bl+0+wz3yT9uX7T7DPfJPxTzoG6Pcso/FPOgbo9yyj8U86Buj3LKPxTzoG6Pcso/FPOgbo9yyj8U86Buj3LKPxTzoG6Pcso/FPOgbo9yyj8U86Buj3LKPxTzoG6Pcso/FPOgbo9yyj8U86Buj3LKPxTzoG6Pcso/u4aN4RHuyj+7ho3hEe7KP7uGjeER7so/u4aN4RHuyj+7ho3hEe7KP7uGjeER7so/u4aN4RHuyj+7ho3hEe7KP7uGjeER7so/u4aN4RHuyj+7ho3hEe7KP2EaelSUacs/YRp6VJRpyz9hGnpUlGnLP2EaelSUacs/YRp6VJRpyz8IrmbHFuXLPwiuZscW5cs/CK5mxxblyz8IrmbHFuXLP6H8GJMg080/7iPyeCXKzj/uI/J4JcrOPw==",
          "dtype": "f8"
         },
         "yaxis": "y"
        },
        {
         "hovertemplate": "country=Kuwait<br>num_selections=%{x}<br>jsd=%{y}<extra></extra>",
         "legendgroup": "Kuwait",
         "marker": {
          "color": "#FECB52",
          "symbol": "circle"
         },
         "mode": "markers",
         "name": "Kuwait",
         "showlegend": true,
         "type": "scattergl",
         "x": {
          "bdata": "AgQEAwQEBAICBAIEAgQCBAQCAwQCBQQFBAkHBAQEBAUDBAUFBAICBAUEBAYEBAUFAgI=",
          "dtype": "i1"
         },
         "xaxis": "x",
         "y": {
          "bdata": "ChpCmVf4sj98X4DrbbLNP4/yX11C19E/KuiZjthwoT9xYBOWNGXRPyu9VKkbetE/H8n6/ari0z9jaWiT0lvRP8bLtuqT7qw/lhy54EhdyD/CUCWynyTIPxqawFmJFLY/zOh0EO1muD9/t60UAEPPPym60rp0Kp8/buWh5hov0D+t4Blrq2/FP0t9bwFoCas/P6LOs2yr0j+qMQkeObLEPxSJ5hp3/sg/DXxnHU8n2z+sgZcn+qDVP0jfGuIWyso/qZeiS+41xT9Wjn8uPU7WP+CLCjfJg9g/yxFezlBT0D8kPETfHenVP1BUMAyo39w/VGMcnHqo0j+mBsrWm1TWP+6+XEjKbMY/xsURgME90D+nhNHqR0nEP32b0bVubso/k/K+q71zyT8hnZjv5/TMP6WEwB7gJco/uiz1Z2kYyj9iojAWlinUPxyx7zU29bo/gGeQUbGnwj/xsRG+2AfTP4fGb9eE6dE/CnmW4RDu2D+1VChmjb7lP9p7n7KS1MQ/9c0Ky1TeyD8iMBwVzUp1Pw==",
          "dtype": "f8"
         },
         "yaxis": "y"
        },
        {
         "hovertemplate": "<b>OLS trendline</b><br>jsd = 0.0458701 * num_selections + 0.0551534<br>R<sup>2</sup>=0.271768<br><br>country=Kuwait<br>num_selections=%{x}<br>jsd=%{y} <b>(trend)</b><extra></extra>",
         "legendgroup": "Kuwait",
         "marker": {
          "color": "#FECB52",
          "symbol": "circle"
         },
         "mode": "lines",
         "name": "Kuwait",
         "showlegend": false,
         "type": "scattergl",
         "x": {
          "bdata": "AgICAgICAgICAgICAwMDBAQEBAQEBAQEBAQEBAQEBAQEBAQEBAQEBQUFBQUFBQUGBwk=",
          "dtype": "i1"
         },
         "xaxis": "x",
         "y": {
          "bdata": "cD6H5GjNwj9wPofkaM3CP3A+h+RozcI/cD6H5GjNwj9wPofkaM3CP3A+h+RozcI/cD6H5GjNwj9wPofkaM3CP3A+h+RozcI/cD6H5GjNwj9wPofkaM3CP3A+h+RozcI/vBwJTHusyD+8HAlMe6zIP7wcCUx7rMg/CPuKs42Lzj8I+4qzjYvOPwj7irONi84/CPuKs42Lzj8I+4qzjYvOPwj7irONi84/CPuKs42Lzj8I+4qzjYvOPwj7irONi84/CPuKs42Lzj8I+4qzjYvOPwj7irONi84/CPuKs42Lzj8I+4qzjYvOPwj7irONi84/CPuKs42Lzj8I+4qzjYvOPwj7irONi84/CPuKs42Lzj8I+4qzjYvOPwj7irONi84/CPuKs42Lzj8I+4qzjYvOPwj7irONi84/qmyGDVA10j+qbIYNUDXSP6pshg1QNdI/qmyGDVA10j+qbIYNUDXSP6pshg1QNdI/qmyGDVA10j+qbIYNUDXSP89bR0HZJNU/9UoIdWIU2D9BKYrcdPPdPw==",
          "dtype": "f8"
         },
         "yaxis": "y"
        },
        {
         "hovertemplate": "country=Kyrgyzstan<br>num_selections=%{x}<br>jsd=%{y}<extra></extra>",
         "legendgroup": "Kyrgyzstan",
         "marker": {
          "color": "#636efa",
          "symbol": "circle"
         },
         "mode": "markers",
         "name": "Kyrgyzstan",
         "showlegend": true,
         "type": "scattergl",
         "x": {
          "bdata": "BQcHDg0HBwYIDQcNBggHBQcHDQYHBQcGDg0FBwcHBw0HBQ0GBw0NBwcGBw0HBwUGBw0=",
          "dtype": "i1"
         },
         "xaxis": "x",
         "y": {
          "bdata": "189529sc1z/rwCa+nnS+P3Dz8vdvgdE//u+Ip7jg5z8GLYP1nvTaP83ECZJc+9w/HzLysgTItT8/yJodgPnOP5EDYAhcKc8/Efwokq+31j+ABGWU7aDZP15KKo5BvdE/0YK/dqlU0D8fIARqdmzbP6ERA7TDX98/JgasN9Teyz/Cr6HEdEjQPzNG146fBdg/V9pSWe310z+zb9NgAFfKP31q0r7OS8c/KnYiznCr1j/YRDEdgTfWP0OrqdUJJ9M/Qhh6bwzE4D+LR8LDUTjQP2x9Io7FCNw/vA91u2BTyz87n5+tRDXOP/GSa+PqA94/T4hUw5NB3j8e3PHy5hPiP3BdedH93cE/ZhXTTK/fyz/5xHMr2K/bP+L6GRyZO9Q/FkAql83dtz81ZcmbmFPgP9N2bAQTIc4/iitE+9Rh2z/Zwb6IsR/WP9oKjfaAjb8/Bs17sNkM2D/WO/nbcJfVPzngckHVurQ/qq3PVVE51T+1XV1qNDDNP2dIkdto/94/Q9BIaj6L0j8NQzUQP+7TPw==",
          "dtype": "f8"
         },
         "yaxis": "y"
        },
        {
         "hovertemplate": "<b>OLS trendline</b><br>jsd = 0.0172375 * num_selections + 0.180641<br>R<sup>2</sup>=0.146201<br><br>country=Kyrgyzstan<br>num_selections=%{x}<br>jsd=%{y} <b>(trend)</b><extra></extra>",
         "legendgroup": "Kyrgyzstan",
         "marker": {
          "color": "#636efa",
          "symbol": "circle"
         },
         "mode": "lines",
         "name": "Kyrgyzstan",
         "showlegend": false,
         "type": "scattergl",
         "x": {
          "bdata": "BQUFBQUFBgYGBgYGBgcHBwcHBwcHBwcHBwcHBwcHBwcHBwcICA0NDQ0NDQ0NDQ0NDg4=",
          "dtype": "i1"
         },
         "xaxis": "x",
         "y": {
          "bdata": "5N7527gT0T/k3vnbuBPRP+Te+du4E9E/5N7527gT0T/k3vnbuBPRP+Te+du4E9E/Np3UEiQu0j82ndQSJC7SPzad1BIkLtI/Np3UEiQu0j82ndQSJC7SPzad1BIkLtI/Np3UEiQu0j+HW69Jj0jTP4dbr0mPSNM/h1uvSY9I0z+HW69Jj0jTP4dbr0mPSNM/h1uvSY9I0z+HW69Jj0jTP4dbr0mPSNM/h1uvSY9I0z+HW69Jj0jTP4dbr0mPSNM/h1uvSY9I0z+HW69Jj0jTP4dbr0mPSNM/h1uvSY9I0z+HW69Jj0jTP4dbr0mPSNM/h1uvSY9I0z+HW69Jj0jTP4dbr0mPSNM/h1uvSY9I0z+HW69Jj0jTP9gZioD6YtQ/2BmKgPpi1D9w0c+SEufZP3DRz5IS59k/cNHPkhLn2T9w0c+SEufZP3DRz5IS59k/cNHPkhLn2T9w0c+SEufZP3DRz5IS59k/cNHPkhLn2T9w0c+SEufZP3DRz5IS59k/wo+qyX0B2z/Cj6rJfQHbPw==",
          "dtype": "f8"
         },
         "yaxis": "y"
        },
        {
         "hovertemplate": "country=Latvia<br>num_selections=%{x}<br>jsd=%{y}<extra></extra>",
         "legendgroup": "Latvia",
         "marker": {
          "color": "#EF553B",
          "symbol": "circle"
         },
         "mode": "markers",
         "name": "Latvia",
         "showlegend": true,
         "type": "scattergl",
         "x": {
          "bdata": "CA0HBQcHDQgHBQcIBQUGDQcOBQ4HDQgFBgcNCA4FDQcHBw4NBwYHBwcNBwgHBgcNBwc=",
          "dtype": "i1"
         },
         "xaxis": "x",
         "y": {
          "bdata": "tPg17z4g0j8/rhNDV7/XPx01jTQkWt4/6ivfYq1pyj/DxMcJ9XDSP7f/W8izjsw/qdh384Pm0j8AAAAAAAD4f70LsXrL9tk/2d1kUP+yzz8goIM8nxXNP4L28fNRp80/7P+CQeZkwT9fOg3SiD/GP7WiK2BLEs0/jAdNSEi+xj+cp48NT5qzP2/SQuX7AMU/fWQJmYu10z8fbp2KYsjVPzo8B/IpZso/owrjvQ/2xD/ucfKKcpnNPzKEipWG2cc/B12oViGO6T+xfVe2P7TRP7an4eSB98Y/z7r3QxmFzD9ohWEhe/jdPywMS9ZZHNA/dS8t1Vd63D+2O6FFvCXVP6qMdLJAm8g/JgvUxSHpyj/pN7g7PcDsP92DIdZPrMw/NvmuoHQDxT8pItsTea3DP8Po+KItstE/aGiV4itPvj/z6S4nGve9P4Bd4IrHS9I/QeManu2H0T/wsYfSGu7AP+31uh15A9g/BeTMzB0QzT/oQbkHbIPNP5mY1azZgs4/Y/HyHbw1yT819lXA0nPZPw==",
          "dtype": "f8"
         },
         "yaxis": "y"
        },
        {
         "hovertemplate": "<b>OLS trendline</b><br>jsd = 0.0114936 * num_selections + 0.175407<br>R<sup>2</sup>=0.055435<br><br>country=Latvia<br>num_selections=%{x}<br>jsd=%{y} <b>(trend)</b><extra></extra>",
         "legendgroup": "Latvia",
         "marker": {
          "color": "#EF553B",
          "symbol": "circle"
         },
         "mode": "lines",
         "name": "Latvia",
         "showlegend": false,
         "type": "scattergl",
         "x": {
          "bdata": "BQUFBQUFBQYGBgYHBwcHBwcHBwcHBwcHBwcHBwcHBwgICAgIDQ0NDQ0NDQ0NDg4ODg==",
          "dtype": "i1"
         },
         "xaxis": "x",
         "y": {
          "bdata": "b1VwHtzOzT9vVXAe3M7NP29VcB7czs0/b1VwHtzOzT9vVXAe3M7NP29VcB7czs0/b1VwHtzOzT8Sc3fDe0fPPxJzd8N7R88/EnN3w3tHzz8Sc3fDe0fPP1pIP7QNYNA/Wkg/tA1g0D9aSD+0DWDQP1pIP7QNYNA/Wkg/tA1g0D9aSD+0DWDQP1pIP7QNYNA/Wkg/tA1g0D9aSD+0DWDQP1pIP7QNYNA/Wkg/tA1g0D9aSD+0DWDQP1pIP7QNYNA/Wkg/tA1g0D9aSD+0DWDQP1pIP7QNYNA/Wkg/tA1g0D9aSD+0DWDQP1pIP7QNYNA/Wkg/tA1g0D8s18KGXRzRPyzXwoZdHNE/LNfChl0c0T8s18KGXRzRPyzXwoZdHNE/RKFUo+zJ1D9EoVSj7MnUP0ShVKPsydQ/RKFUo+zJ1D9EoVSj7MnUP0ShVKPsydQ/RKFUo+zJ1D9EoVSj7MnUP0ShVKPsydQ/FTDYdTyG1T8VMNh1PIbVPxUw2HU8htU/FTDYdTyG1T8=",
          "dtype": "f8"
         },
         "yaxis": "y"
        },
        {
         "hovertemplate": "country=Lebanon<br>num_selections=%{x}<br>jsd=%{y}<extra></extra>",
         "legendgroup": "Lebanon",
         "marker": {
          "color": "#00cc96",
          "symbol": "circle"
         },
         "mode": "markers",
         "name": "Lebanon",
         "showlegend": true,
         "type": "scattergl",
         "x": {
          "bdata": "AwUHAgcHAgICBAcEBAUHBgIFAwQEAgcFBQUFBA0EAgQHBQ4FBAYDDQIEBwMGBAQEDQQ=",
          "dtype": "i1"
         },
         "xaxis": "x",
         "y": {
          "bdata": "5Ndf70ELuz9fMBHH15fiPwc4X6MpXcY/T/IIl3Obtj85KegQaL3NP6Yljams+ds/T/IIl3Obtj+ZEc2c4h7SP9oCWV7OyKg/MEfIc4it0T9p6R6wHarEPwYk7uwjbMs/LVPTT+okuj/9qkR00c3UP3ktMsbBds0/dg6O75v25z+2UHxvpn2NP8PwIrw7Ncs/rskkJIoOsT+g7DxNX8rDPyTRwLDdW8M/uc8+K+ciyj+QqVRzNeXGP5Ej3e7Uds4/OGu0zC/pvz8w8a+MweLdP7I7qZxRJts/DP7ELGp+yT91Lv5o4hfVP8jCHqnGnNE/nqFUJU3vyz9B+mQ4RDbOP9RkPnFz89c/V6CUDkwO1T98unLSOXbhP/b7WhA8ebg/TatD2l5f0T9mAPzdngDjP58MtQ5T4uI/Z9JPpwwJ3z/yriCaZG/MP+BtWjCALMo/+M2C5IaLyT/S4AE544HGPybztcvggNw/Tb7Ud8jO1D/WTiVR1EncP4Sr3RwVxsA/Qn5e2m8l1j/EPvp2ICPCPw==",
          "dtype": "f8"
         },
         "yaxis": "y"
        },
        {
         "hovertemplate": "<b>OLS trendline</b><br>jsd = 0.0240344 * num_selections + 0.147141<br>R<sup>2</sup>=0.181674<br><br>country=Lebanon<br>num_selections=%{x}<br>jsd=%{y} <b>(trend)</b><extra></extra>",
         "legendgroup": "Lebanon",
         "marker": {
          "color": "#00cc96",
          "symbol": "circle"
         },
         "mode": "lines",
         "name": "Lebanon",
         "showlegend": false,
         "type": "scattergl",
         "x": {
          "bdata": "AgICAgICAgIDAwMDBAQEBAQEBAQEBAQEBAQFBQUFBQUFBQUGBgYHBwcHBwcHBw0NDQ4=",
          "dtype": "i1"
         },
         "xaxis": "x",
         "y": {
          "bdata": "TDEogaD8yD9MMSiBoPzIP0wxKIGg/Mg/TDEogaD8yD9MMSiBoPzIP0wxKIGg/Mg/TDEogaD8yD9MMSiBoPzIPyqa1JgvEMw/KprUmC8QzD8qmtSYLxDMPyqa1JgvEMw/CQOBsL4jzz8JA4GwviPPPwkDgbC+I88/CQOBsL4jzz8JA4GwviPPPwkDgbC+I88/CQOBsL4jzz8JA4GwviPPPwkDgbC+I88/CQOBsL4jzz8JA4GwviPPPwkDgbC+I88/CQOBsL4jzz8JA4GwviPPP/S1FuSmG9E/9LUW5KYb0T/0tRbkphvRP/S1FuSmG9E/9LUW5KYb0T/0tRbkphvRP/S1FuSmG9E/9LUW5KYb0T/0tRbkphvRP2Pq7G9updI/Y+rsb26l0j9j6uxvbqXSP9Iew/s1L9Q/0h7D+zUv1D/SHsP7NS/UP9Iew/s1L9Q/0h7D+zUv1D/SHsP7NS/UP9Iew/s1L9Q/0h7D+zUv1D9uWchC42ndP25ZyELjad0/blnIQuNp3T/ejZ7OqvPePw==",
          "dtype": "f8"
         },
         "yaxis": "y"
        },
        {
         "hovertemplate": "country=Libya<br>num_selections=%{x}<br>jsd=%{y}<extra></extra>",
         "legendgroup": "Libya",
         "marker": {
          "color": "#ab63fa",
          "symbol": "circle"
         },
         "mode": "markers",
         "name": "Libya",
         "showlegend": true,
         "type": "scattergl",
         "x": {
          "bdata": "BwcGBQcHBQ0FDQYGBgcOBgcGBQYHBwcOBwcIBwcHBgcHBQ0HDQYHBgcFBgcFBwYFBwc=",
          "dtype": "i1"
         },
         "xaxis": "x",
         "y": {
          "bdata": "BPUSxvAyxT8Et47XBJXAPx8SEJpGatE/d1FHzDl2zj+emPeqcovFP4bhA6tUd8U/Bx137Oi7zj/lSGjxd+fbP554Oj+xltA/9pS9k0IB3D/9o82wZgjYPyLw9gFpZdM/mMGkPaBZ0D+C7a1EyvLTP6f7b8y1qt0/pkfiAjNwzz8MJIGc5GnEP/wn4TE2+Nc/d7Eni2mb5j/uK96p99PiP6p4QrtDR8o/GYqrMiRF1T+KSDgszcTRP2Y/WHnrruU/kGte5pcA2z+HRUi0ATnQP/heCIuYKtM/TO+4M3A50D80NpMrjvW/PzLHDQzq2Nc/evBqcK9d2D/s51wtgM2yP7nmy0Gyy9A/CqXg5a924D+cpMD0xqfSP49rqy87cr0/yTwKOK7o4T8LLcFBg5fQP01zRUXwbt8/IXT9bCjM3D8KNmEsxyDFP7nFJGlyktY/jFx6CJJe0D/uwQB42c/NP3+aTiVsXt4/xpW4qo/rxz8Bw9N4tIHOP/bBKwngcc0/z95tfoaO0j8+BypNlzK/Pw==",
          "dtype": "f8"
         },
         "yaxis": "y"
        },
        {
         "hovertemplate": "<b>OLS trendline</b><br>jsd = 0.0182882 * num_selections + 0.177204<br>R<sup>2</sup>=0.093012<br><br>country=Libya<br>num_selections=%{x}<br>jsd=%{y} <b>(trend)</b><extra></extra>",
         "legendgroup": "Libya",
         "marker": {
          "color": "#ab63fa",
          "symbol": "circle"
         },
         "mode": "lines",
         "name": "Libya",
         "showlegend": false,
         "type": "scattergl",
         "x": {
          "bdata": "BQUFBQUFBQUGBgYGBgYGBgYGBgYHBwcHBwcHBwcHBwcHBwcHBwcHBwcHBwgNDQ0NDg4=",
          "dtype": "i1"
         },
         "xaxis": "x",
         "y": {
          "bdata": "yQZggHox0T/JBmCAejHRP8kGYIB6MdE/yQZggHox0T/JBmCAejHRP8kGYIB6MdE/yQZggHox0T/JBmCAejHRP5KG3vkcXdI/kobe+Rxd0j+Sht75HF3SP5KG3vkcXdI/kobe+Rxd0j+Sht75HF3SP5KG3vkcXdI/kobe+Rxd0j+Sht75HF3SP5KG3vkcXdI/kobe+Rxd0j+Sht75HF3SP1wGXXO/iNM/XAZdc7+I0z9cBl1zv4jTP1wGXXO/iNM/XAZdc7+I0z9cBl1zv4jTP1wGXXO/iNM/XAZdc7+I0z9cBl1zv4jTP1wGXXO/iNM/XAZdc7+I0z9cBl1zv4jTP1wGXXO/iNM/XAZdc7+I0z9cBl1zv4jTP1wGXXO/iNM/XAZdc7+I0z9cBl1zv4jTP1wGXXO/iNM/XAZdc7+I0z9cBl1zv4jTP1wGXXO/iNM/XAZdc7+I0z8lhtvsYbTUPxMFVEyOjto/EwVUTI6O2j8TBVRMjo7aPxMFVEyOjto/3YTSxTC62z/dhNLFMLrbPw==",
          "dtype": "f8"
         },
         "yaxis": "y"
        },
        {
         "hovertemplate": "country=Lithuania<br>num_selections=%{x}<br>jsd=%{y}<extra></extra>",
         "legendgroup": "Lithuania",
         "marker": {
          "color": "#FFA15A",
          "symbol": "circle"
         },
         "mode": "markers",
         "name": "Lithuania",
         "showlegend": true,
         "type": "scattergl",
         "x": {
          "bdata": "BQcHBwYOCAIEBQYEEgUFAwYFBQUOBwcFBA4EDgUHBwYCCgICBQYEAwQNBQ0FBgMGBQc=",
          "dtype": "i1"
         },
         "xaxis": "x",
         "y": {
          "bdata": "3uoH4licyT/83mcSxxbNP8grifkLH9c/XCTtXn+uxT82s4qWyHDFPxuaKbYdTdg/sbrRfLFe0T9hta05TRq9PyntFb6GoM8//Dm8Qpo7yD9Hz5uwyKfTP0FeZi3hvdM/rjIMPls+1z8oTd3B5o3EP3/VbHtY0Nw/sanaINyAsz+2vTkGeBDXP/0Q2K9FfdA/4l7EV2q9zz8pXKF19jfQP4485OiBkd0/VmT/MjyQ1T/aVlk2KnzVPzoOZ7HzzOM/RqmjF/Mjtz9z3aXyyzDaPyrxzUNxGbw/rNAG/wUO3z8surje5DzEPzmU/JvY0c8/ihWyLZqYxz+rd9srNcjQPwqR262Cwq4//uV1Q+Cw2T/1DWWfwFvDP+b5+TXyCsE/RdN+/ppcxj8sxlMeVkPQP3fvKGDzVd0/oIaLmghU0T/Hb4BtPVvGP00GowwR9sU/NQ8UX6Wwuz/e3fWMeGzJP7+3p6q70NQ/SR9t1xL70z9pgnYgGTnUPypL2SJCNc8/F9jcbBVSyT/xKtCAqGXKPw==",
          "dtype": "f8"
         },
         "yaxis": "y"
        },
        {
         "hovertemplate": "<b>OLS trendline</b><br>jsd = 0.0146028 * num_selections + 0.165383<br>R<sup>2</sup>=0.198118<br><br>country=Lithuania<br>num_selections=%{x}<br>jsd=%{y} <b>(trend)</b><extra></extra>",
         "legendgroup": "Lithuania",
         "marker": {
          "color": "#FFA15A",
          "symbol": "circle"
         },
         "mode": "lines",
         "name": "Lithuania",
         "showlegend": false,
         "type": "scattergl",
         "x": {
          "bdata": "AgICAgMDAwQEBAQEBAUFBQUFBQUFBQUFBQUGBgYGBgYGBwcHBwcHBwcICg0NDg4ODhI=",
          "dtype": "i1"
         },
         "xaxis": "x",
         "y": {
          "bdata": "ASnHFEfoyD8BKccUR+jIPwEpxxRH6Mg/ASnHFEfoyD9c7BCkyMbKP1zsEKTIxso/XOwQpMjGyj+4r1ozSqXMP7ivWjNKpcw/uK9aM0qlzD+4r1ozSqXMP7ivWjNKpcw/uK9aM0qlzD8Uc6TCy4POPxRzpMLLg84/FHOkwsuDzj8Uc6TCy4POPxRzpMLLg84/FHOkwsuDzj8Uc6TCy4POPxRzpMLLg84/FHOkwsuDzj8Uc6TCy4POPxRzpMLLg84/FHOkwsuDzj8Uc6TCy4POPzgb96gmMdA/OBv3qCYx0D84G/eoJjHQPzgb96gmMdA/OBv3qCYx0D84G/eoJjHQPzgb96gmMdA/5vybcGcg0T/m/JtwZyDRP+b8m3BnINE/5vybcGcg0T/m/JtwZyDRP+b8m3BnINE/5vybcGcg0T/m/JtwZyDRP5TeQDioD9I/8KGKxynu0z/6Rnke7LvWP/pGeR7su9Y/qCge5iyr1z+oKB7mLKvXP6goHuYsq9c/qCge5iyr1z9gr7EEMGjbPw==",
          "dtype": "f8"
         },
         "yaxis": "y"
        },
        {
         "hovertemplate": "country=Macau SAR<br>num_selections=%{x}<br>jsd=%{y}<extra></extra>",
         "legendgroup": "Macau SAR",
         "marker": {
          "color": "#19d3f3",
          "symbol": "circle"
         },
         "mode": "markers",
         "name": "Macau SAR",
         "showlegend": true,
         "type": "scattergl",
         "x": {
          "bdata": "BQYODQYHBw0HDgcNBwUFBg0HBwYHBwcFBwcGBQUHBwcNDQYGDQ0HBw0IBwcFBwcHBgY=",
          "dtype": "i1"
         },
         "xaxis": "x",
         "y": {
          "bdata": "G8Yb4PiG4z/Ik2aktDPIP6359aUN9+A/ApfUcNlV3z/Mh7CPvAfKP2q4CwZoDdU/ql0NzLVq0z+ktccM6arcP6jCNoEEFtU/CExgeIH01j9N1OaTWLnXPzRw/Y14ydk/1bIyC87P1z8ESusVtMzWP7XJ6D9gedw/oSVEuXqgyz9pew3C+RXgP6eN0ipFI7U/lw/k0ORE3D/85JIe487PP90FW9laPdc/aH6yA9YH4j9MQbqwN0blP/oAGUlbBtA/tuqzuarO4z/rQygV++zUPzc7HYqMdNI/1DI5Pm7W1D9QeQEbid/aP+mFmlMsKNA/Px+AADwd0D8MfNhDE3fUP09cEehiDds/lsk+KS7E2z9Fv507lUPJPyLprPzXV9Q/zHQgsf9KzT+nfpPYT/PQPyUIlCPUhdw/5tQ+30220T+7F0VmWMvaPweqeaLuwNw/URUvj5vzzT/D/05V4Y7dPwFxGioGXNo/h9Yrlceo0T9rcRbMF2biP71OYWRWmdc/1VKzteMKwj+toArggQvOPw==",
          "dtype": "f8"
         },
         "yaxis": "y"
        },
        {
         "hovertemplate": "<b>OLS trendline</b><br>jsd = 0.00976446 * num_selections + 0.283333<br>R<sup>2</sup>=0.049392<br><br>country=Macau SAR<br>num_selections=%{x}<br>jsd=%{y} <b>(trend)</b><extra></extra>",
         "legendgroup": "Macau SAR",
         "marker": {
          "color": "#19d3f3",
          "symbol": "circle"
         },
         "mode": "lines",
         "name": "Macau SAR",
         "showlegend": false,
         "type": "scattergl",
         "x": {
          "bdata": "BQUFBQUFBQYGBgYGBgYGBgcHBwcHBwcHBwcHBwcHBwcHBwcHBwcIDQ0NDQ0NDQ0NDg4=",
          "dtype": "i1"
         },
         "xaxis": "x",
         "y": {
          "bdata": "+nXLAQlC1T/6dcsBCULVP/p1ywEJQtU/+nXLAQlC1T/6dcsBCULVP/p1ywEJQtU/+nXLAQlC1T8RjIsjBOLVPxGMiyME4tU/EYyLIwTi1T8RjIsjBOLVPxGMiyME4tU/EYyLIwTi1T8RjIsjBOLVPxGMiyME4tU/EYyLIwTi1T8poktF/4HWPymiS0X/gdY/KaJLRf+B1j8poktF/4HWPymiS0X/gdY/KaJLRf+B1j8poktF/4HWPymiS0X/gdY/KaJLRf+B1j8poktF/4HWPymiS0X/gdY/KaJLRf+B1j8poktF/4HWPymiS0X/gdY/KaJLRf+B1j8poktF/4HWPymiS0X/gdY/KaJLRf+B1j8poktF/4HWPymiS0X/gdY/KaJLRf+B1j8poktF/4HWP0C4C2f6Idc/tibMD+JB2j+2JswP4kHaP7YmzA/iQdo/tibMD+JB2j+2JswP4kHaP7YmzA/iQdo/tibMD+JB2j+2JswP4kHaP7YmzA/iQdo/zjyMMd3h2j/OPIwx3eHaPw==",
          "dtype": "f8"
         },
         "yaxis": "y"
        },
        {
         "hovertemplate": "country=Malaysia<br>num_selections=%{x}<br>jsd=%{y}<extra></extra>",
         "legendgroup": "Malaysia",
         "marker": {
          "color": "#FF6692",
          "symbol": "circle"
         },
         "mode": "markers",
         "name": "Malaysia",
         "showlegend": true,
         "type": "scattergl",
         "x": {
          "bdata": "BgUEDQcFBQcFBAsCDgMLBAQHBwQGBQYDBAUDBAUGBwcNCAUEDQQEAwsDCwYNDQ0EDQU=",
          "dtype": "i1"
         },
         "xaxis": "x",
         "y": {
          "bdata": "EPkWj+c1xj8O2oUMnL3WP6A1GQ+GrNY/p2MH5VGT1T/wjqup6iXJPzggM5TtIbk/KzDJjqnNxD+f5kkVGHbhPywpS2TJrdo/PQsAZuAS1j97fRv1L7HjP42Pyy7On9A/L1+o3SEu0T+c3LQ0C1TBPzEjHkWE9tg/n28CAgAJ1D9HpdNx+HPNP7bb9YcoqtE//TATGoMb0T+NrGnml27TP5UBQi5WcNE/lKtE0/+V1T+PitfDCuDVP6lglL8WbrE/hctDkmrnwz/O9QCV9HbVP2KkKdFy474/LXaoWg2txz9OBduL94fVPxhGAUBD8tg/VZYDsnx+yT+ckpS3WGLTPxKYsSC4PNg/FeImnuavyz/YRaihSvPWPxb/ysSIA8c/NVaoeJBR0T/RsraEiqutPxHgWtEXl9s/ssN/O0gJyD+foF3SsH7WP5zdTz/0ztE/lWv2WXdO0D+QraQ15m/FP1DY4oAIv+A/gUhEFmIz0j+hKcy8HgPXPzIntezPMc8/tRuLS1ln2T+kCHgu8yviPw==",
          "dtype": "f8"
         },
         "yaxis": "y"
        },
        {
         "hovertemplate": "<b>OLS trendline</b><br>jsd = 0.0133335 * num_selections + 0.202605<br>R<sup>2</sup>=0.146441<br><br>country=Malaysia<br>num_selections=%{x}<br>jsd=%{y} <b>(trend)</b><extra></extra>",
         "legendgroup": "Malaysia",
         "marker": {
          "color": "#FF6692",
          "symbol": "circle"
         },
         "mode": "lines",
         "name": "Malaysia",
         "showlegend": false,
         "type": "scattergl",
         "x": {
          "bdata": "AgMDAwMDBAQEBAQEBAQEBAQFBQUFBQUFBQUGBgYGBgcHBwcHBwgLCwsLDQ0NDQ0NDQ4=",
          "dtype": "i1"
         },
         "xaxis": "x",
         "y": {
          "bdata": "TxSyCsdYzT9DCT6jsA3PP0MJPqOwDc8/Qwk+o7ANzz9DCT6jsA3PP0MJPqOwDc8/HP/kHU1h0D8c/+QdTWHQPxz/5B1NYdA/HP/kHU1h0D8c/+QdTWHQPxz/5B1NYdA/HP/kHU1h0D8c/+QdTWHQPxz/5B1NYdA/HP/kHU1h0D8c/+QdTWHQP5b5KurBO9E/lvkq6sE70T+W+SrqwTvRP5b5KurBO9E/lvkq6sE70T+W+SrqwTvRP5b5KurBO9E/lvkq6sE70T+W+SrqwTvRPxD0cLY2FtI/EPRwtjYW0j8Q9HC2NhbSPxD0cLY2FtI/EPRwtjYW0j+K7raCq/DSP4rutoKr8NI/iu62gqvw0j+K7raCq/DSP4rutoKr8NI/iu62gqvw0j8E6fxOIMvTP3LYzrN+WtY/ctjOs35a1j9y2M6zflrWP3LYzrN+WtY/Z81aTGgP2D9nzVpMaA/YP2fNWkxoD9g/Z81aTGgP2D9nzVpMaA/YP2fNWkxoD9g/Z81aTGgP2D/hx6AY3enYPw==",
          "dtype": "f8"
         },
         "yaxis": "y"
        },
        {
         "hovertemplate": "country=Maldives<br>num_selections=%{x}<br>jsd=%{y}<extra></extra>",
         "legendgroup": "Maldives",
         "marker": {
          "color": "#B6E880",
          "symbol": "circle"
         },
         "mode": "markers",
         "name": "Maldives",
         "showlegend": true,
         "type": "scattergl",
         "x": {
          "bdata": "BgcFBg4GDQ0GBwUFBwcGBQYFBQcFBwUGBwcHBwcHBggFDQcHBQ0NBwYFBwgNDQUGBgc=",
          "dtype": "i1"
         },
         "xaxis": "x",
         "y": {
          "bdata": "WF5wAnXIxT9O0j8znZ7VP5X45qacu80/Fnit3frnwz+v7N7bQafgP3B148lRjcs/9Q9hp7uEzz88kA0dghTOP/FQKPCOeNM/NxwxQnMA0D8svDocmSXZP6wnFahfJc8/smDm/DPdxT9OLW5vNxnHP4XXI6Wnp80/tqPM7o5M1D+LGFze05PUP+rLVd3TzNo/wDXjfKZk1T/9DPkEXEXHPw9Ut+lDGts/ETC/tzTFzz9m8nkbzfnMP8uqGb8i8tI/24xUD90pyT8IO1dUUVPRP0dHhNIHh9U/aaANQmZdyT9z4ZSa5RzIPxn7E5ZU184/O6Wn0TMM0T8AAAAAAAD4fyQzxhY8ds4/Wm3HzIAJ0z8StP7w+1fNP6Aiwrdr+84/Pjh2L8pZ2T+CDjj7W07FP6hRwE55Ktg/lv6x364Q1z9+Z4Ks+T7iPzi8BXTxkeQ/OK7q0hHS7D/FBDhux9HLP43zAyfNl9A/8YC3ZofIwz8KdixFcwHNP/J4HUBDz8k/PSN9IexPxj/kV/nmdnnHPw==",
          "dtype": "f8"
         },
         "yaxis": "y"
        },
        {
         "hovertemplate": "<b>OLS trendline</b><br>jsd = -0.00324105 * num_selections + 0.313258<br>R<sup>2</sup>=0.004072<br><br>country=Maldives<br>num_selections=%{x}<br>jsd=%{y} <b>(trend)</b><extra></extra>",
         "legendgroup": "Maldives",
         "marker": {
          "color": "#B6E880",
          "symbol": "circle"
         },
         "mode": "lines",
         "name": "Maldives",
         "showlegend": false,
         "type": "scattergl",
         "x": {
          "bdata": "BQUFBQUFBQUFBQUFBgYGBgYGBgYGBgYHBwcHBwcHBwcHBwcHBwcHBwgNDQ0NDQ0NDg==",
          "dtype": "i1"
         },
         "xaxis": "x",
         "y": {
          "bdata": "fZeT7+cC0z99l5Pv5wLTP32Xk+/nAtM/fZeT7+cC0z99l5Pv5wLTP32Xk+/nAtM/fZeT7+cC0z99l5Pv5wLTP32Xk+/nAtM/fZeT7+cC0z99l5Pv5wLTP32Xk+/nAtM/3P4P/M3N0j/c/g/8zc3SP9z+D/zNzdI/3P4P/M3N0j/c/g/8zc3SP9z+D/zNzdI/3P4P/M3N0j/c/g/8zc3SP9z+D/zNzdI/3P4P/M3N0j/c/g/8zc3SPztmjAi0mNI/O2aMCLSY0j87ZowItJjSPztmjAi0mNI/O2aMCLSY0j87ZowItJjSPztmjAi0mNI/O2aMCLSY0j87ZowItJjSPztmjAi0mNI/O2aMCLSY0j87ZowItJjSPztmjAi0mNI/O2aMCLSY0j87ZowItJjSPztmjAi0mNI/O2aMCLSY0j+azQgVmmPSP3PSdlMYWtE/c9J2Uxha0T9z0nZTGFrRP3PSdlMYWtE/c9J2Uxha0T9z0nZTGFrRP3PSdlMYWtE/0jnzX/4k0T8=",
          "dtype": "f8"
         },
         "yaxis": "y"
        },
        {
         "hovertemplate": "country=Mali<br>num_selections=%{x}<br>jsd=%{y}<extra></extra>",
         "legendgroup": "Mali",
         "marker": {
          "color": "#FF97FF",
          "symbol": "circle"
         },
         "mode": "markers",
         "name": "Mali",
         "showlegend": true,
         "type": "scattergl",
         "x": {
          "bdata": "BAUEAwIFBAMEBAQCBAICBQQDAgsCAwIFBAIEBAQEAwQEAgIEAwsEBAMEBQQEBAQDAwU=",
          "dtype": "i1"
         },
         "xaxis": "x",
         "y": {
          "bdata": "klteU683sD+AjdbWnynQP9ewEc8oXLY/URkeqVEQzD9ptWaSQ6rPPxrjce2yosA/DAAF7sxKzD+6Gipnwq3iP1JdLRzVIN0/xdcbXW4txj9BlwyfNV68PwD8xnvJVdU/Cc5jmyaj1D/7X0wFX77UP1/dGqRulLA//IBN99N80T9ZTM3Lv2GmPzhgzcDs3M8/rulJXzCd1D9LDO8GGGDWP1zG/ES8Wac/xkrMrpdI2z9qtc/GVrTFP9or4e96YtA/m4zlod+6wj+MNIbpoiGsP2yGc+FzVrY/1Pu3N1au2D/Qv0lpD6a/P4rQD9RpMeE/nJSG2XCS2j/vFBrrCBupP+Q6r2Cc2rI/iYl2AfOxzD9eJBEVyHvNP//KaTFptcw/SN0aZ8ujyj+hPOto6VfQPxtB/UJR6LM/Vf0ZB9O1xj/wgnKcCarLPyr+xJDjecA/Am/x7TDizj9mt4H870fXP/7McyUgsb0/ZA5DoKDQ2D+oiYJErzDLP+VFsbwLz9E/EP3q6aGnzD8m9VH2QrO/Pw==",
          "dtype": "f8"
         },
         "yaxis": "y"
        },
        {
         "hovertemplate": "<b>OLS trendline</b><br>jsd = 0.00456289 * num_selections + 0.20829<br>R<sup>2</sup>=0.003796<br><br>country=Mali<br>num_selections=%{x}<br>jsd=%{y} <b>(trend)</b><extra></extra>",
         "legendgroup": "Mali",
         "marker": {
          "color": "#FF97FF",
          "symbol": "circle"
         },
         "mode": "lines",
         "name": "Mali",
         "showlegend": false,
         "type": "scattergl",
         "x": {
          "bdata": "AgICAgICAgICAgMDAwMDAwMDAwQEBAQEBAQEBAQEBAQEBAQEBAQEBAQEBQUFBQUFCws=",
          "dtype": "i1"
         },
         "xaxis": "x",
         "y": {
          "bdata": "MP9LnkPUyz8w/0ueQ9TLPzD/S55D1Ms/MP9LnkPUyz8w/0ueQ9TLPzD/S55D1Ms/MP9LnkPUyz8w/0ueQ9TLPzD/S55D1Ms/MP9LnkPUyz8AlgPpx2nMPwCWA+nHacw/AJYD6cdpzD8AlgPpx2nMPwCWA+nHacw/AJYD6cdpzD8AlgPpx2nMPwCWA+nHacw/AJYD6cdpzD/QLLszTP/MP9AsuzNM/8w/0Cy7M0z/zD/QLLszTP/MP9AsuzNM/8w/0Cy7M0z/zD/QLLszTP/MP9AsuzNM/8w/0Cy7M0z/zD/QLLszTP/MP9AsuzNM/8w/0Cy7M0z/zD/QLLszTP/MP9AsuzNM/8w/0Cy7M0z/zD/QLLszTP/MP9AsuzNM/8w/0Cy7M0z/zD/QLLszTP/MP9AsuzNM/8w/0Cy7M0z/zD/QLLszTP/MP9AsuzNM/8w/oMNyftCUzT+gw3J+0JTNP6DDcn7QlM0/oMNyftCUzT+gw3J+0JTNP6DDcn7QlM0/PyZgH/WK0D8/JmAf9YrQPw==",
          "dtype": "f8"
         },
         "yaxis": "y"
        },
        {
         "hovertemplate": "country=Mali (Non-national sample)<br>num_selections=%{x}<br>jsd=%{y}<extra></extra>",
         "legendgroup": "Mali (Non-national sample)",
         "marker": {
          "color": "#FECB52",
          "symbol": "circle"
         },
         "mode": "markers",
         "name": "Mali (Non-national sample)",
         "showlegend": true,
         "type": "scattergl",
         "x": {
          "bdata": "BAMDBAQEBAMEAwQEBAIEAgMFAgILBAMEAgQEBAUCAwMEBAQCBAQEAwQEBAQCBAQGAgQ=",
          "dtype": "i1"
         },
         "xaxis": "x",
         "y": {
          "bdata": "+7f/INeVzj+sTpOC8NDXPzjBbQ2l2tY/bM0G1r/Ctz+GW2RUW+vDP/+NjaXd4c0/VMYFiPda1T8MBuyvv+bXP7ddpI6HBsg/npxaWzX/2D9sTWMKPv7FP2qovTIi9bM/yqEcRqpNyz/JnTYjT7WnP3XmbHYfpcM/ZNUg3NGd0T/sO7ODt+DWP8KeVnbrnNg/RvQcI6Sxdj+eX2YoQIHSP45y7usBFto/uyLYVOL3wD+pCn2PaRXWP+EJnzSd18Q/ShQrUCYnsT89/63YggfCP8gSAG+QRcg/O5GMxRoR0T8houmesyfLP8Ly702hK84/O1w1UUxczj/y4fwXRoDNP2zyhZIUAdY/9yfOVyts1j/6nvGfH4bIP46lTnk+y80/yb9mmmHX0z/7UI0jE6LOPxGpWRatrM0/S1EbhWfI2T87NYQqdMDaP1flcR3VL8Y/LYYWYBkj2j8fjzK6eWLOP5Ncs9j6dLs/b0uVIGWf1T/Tqm8mbArIP62OhJkFYOY/0ZDQMt4nvD9b4zWYYtXKPw==",
          "dtype": "f8"
         },
         "yaxis": "y"
        },
        {
         "hovertemplate": "<b>OLS trendline</b><br>jsd = 0.0321832 * num_selections + 0.132155<br>R<sup>2</sup>=0.129849<br><br>country=Mali (Non-national sample)<br>num_selections=%{x}<br>jsd=%{y} <b>(trend)</b><extra></extra>",
         "legendgroup": "Mali (Non-national sample)",
         "marker": {
          "color": "#FECB52",
          "symbol": "circle"
         },
         "mode": "lines",
         "name": "Mali (Non-national sample)",
         "showlegend": false,
         "type": "scattergl",
         "x": {
          "bdata": "AgICAgICAgICAwMDAwMDAwMDBAQEBAQEBAQEBAQEBAQEBAQEBAQEBAQEBAQEBAUFBgs=",
          "dtype": "i1"
         },
         "xaxis": "x",
         "y": {
          "bdata": "R5yrhp8nyT9HnKuGnyfJP0ecq4afJ8k/R5yrhp8nyT9HnKuGnyfJP0ecq4afJ8k/R5yrhp8nyT9HnKuGnyfJP0ecq4afJ8k/imFzbDNGzT+KYXNsM0bNP4phc2wzRs0/imFzbDNGzT+KYXNsM0bNP4phc2wzRs0/imFzbDNGzT+KYXNsM0bNP4phc2wzRs0/ZpMdqWOy0D9mkx2pY7LQP2aTHaljstA/ZpMdqWOy0D9mkx2pY7LQP2aTHaljstA/ZpMdqWOy0D9mkx2pY7LQP2aTHaljstA/ZpMdqWOy0D9mkx2pY7LQP2aTHaljstA/ZpMdqWOy0D9mkx2pY7LQP2aTHaljstA/ZpMdqWOy0D9mkx2pY7LQP2aTHaljstA/ZpMdqWOy0D9mkx2pY7LQP2aTHaljstA/ZpMdqWOy0D9mkx2pY7LQP2aTHaljstA/ZpMdqWOy0D9mkx2pY7LQP2aTHaljstA/ZpMdqWOy0D8HdgGcrcHSPwd2AZytwdI/qFjljvfQ1D/PxVhNaR3fPw==",
          "dtype": "f8"
         },
         "yaxis": "y"
        },
        {
         "hovertemplate": "country=Mexico<br>num_selections=%{x}<br>jsd=%{y}<extra></extra>",
         "legendgroup": "Mexico",
         "marker": {
          "color": "#636efa",
          "symbol": "circle"
         },
         "mode": "markers",
         "name": "Mexico",
         "showlegend": true,
         "type": "scattergl",
         "x": {
          "bdata": "BAIFBAQOBQMDAgQFBAQDBAsLBgYFCQcNBwUCBQQFBAMFAwcNBwQCBgIIBAQNBQQFBAg=",
          "dtype": "i1"
         },
         "xaxis": "x",
         "y": {
          "bdata": "BklukyBTxj/rmFpHl4OcP9x/ocPKu98/rg5rtCHj4T8UC9l+m0fhP6SvaF+QD9c/YFwKt/wqxz/2JsElVVfEPwMSqbzVD7M/AHAoQjTZtT8ZEpwpy9HXPzQnj8mZVMo/yE2NRYNKxT/AoW1DIInSPyl016vsh8g/LCEM+qZsxT/jTND4H0XAP7PqOwg8/M0/NLhPrfzUyD89KEZJy/vQP3ByAslRNNY/ohDvWBUg4z+bAkUJKITHP93tiJdme8k/ztw21cFHzj/Lg2OMhwbYP7x3rbmqhMU/0fGa/fON0D9ISgzzNa7RPy2c2Ekcb8U/MHaXxq5U1z+iDe7tuBvGP2mDQNl+Kc0/Rciu9g4W0j9UqiINIa7MPwT/xuMksdc/LiXWbbrewj+usJ3RgzbKP6ndv8RYvqE/Sr5lRXrZxz+MPy5sdN2bP0ZsJipuf9c/jzPzWjQg2j87tkNuy63JP8/I8ovqi8o/70l/ar3uzz9wdnoLx4DVP/h0MigNrMk/tCrbN08qxT/Ujcy++NrAPw==",
          "dtype": "f8"
         },
         "yaxis": "y"
        },
        {
         "hovertemplate": "<b>OLS trendline</b><br>jsd = 0.00896098 * num_selections + 0.194143<br>R<sup>2</sup>=0.045252<br><br>country=Mexico<br>num_selections=%{x}<br>jsd=%{y} <b>(trend)</b><extra></extra>",
         "legendgroup": "Mexico",
         "marker": {
          "color": "#636efa",
          "symbol": "circle"
         },
         "mode": "lines",
         "name": "Mexico",
         "showlegend": false,
         "type": "scattergl",
         "x": {
          "bdata": "AgICAgIDAwMDAwQEBAQEBAQEBAQEBAQEBQUFBQUFBQUFBQYGBgcHBwcICAkLCw0NDQ4=",
          "dtype": "i1"
         },
         "xaxis": "x",
         "y": {
          "bdata": "fXeAvvMkyz99d4C+8yTLP313gL7zJMs/fXeAvvMkyz99d4C+8yTLP7YHSeOVSsw/tgdJ45VKzD+2B0njlUrMP7YHSeOVSsw/tgdJ45VKzD/ulxEIOHDNP+6XEQg4cM0/7pcRCDhwzT/ulxEIOHDNP+6XEQg4cM0/7pcRCDhwzT/ulxEIOHDNP+6XEQg4cM0/7pcRCDhwzT/ulxEIOHDNP+6XEQg4cM0/7pcRCDhwzT/ulxEIOHDNP+6XEQg4cM0/KCjaLNqVzj8oKNos2pXOPygo2izalc4/KCjaLNqVzj8oKNos2pXOPygo2izalc4/KCjaLNqVzj8oKNos2pXOPygo2izalc4/KCjaLNqVzj9guKJRfLvPP2C4olF8u88/YLiiUXy7zz9MpDU7j3DQP0ykNTuPcNA/TKQ1O49w0D9MpDU7j3DQP2nsmU1gA9E/aeyZTWAD0T+GNP5fMZbRP77ExoTTu9I/vsTGhNO70j/3VI+pdeHTP/dUj6l14dM/91SPqXXh0z8UnfO7RnTUPw==",
          "dtype": "f8"
         },
         "yaxis": "y"
        },
        {
         "hovertemplate": "country=Mongolia<br>num_selections=%{x}<br>jsd=%{y}<extra></extra>",
         "legendgroup": "Mongolia",
         "marker": {
          "color": "#EF553B",
          "symbol": "circle"
         },
         "mode": "markers",
         "name": "Mongolia",
         "showlegend": true,
         "type": "scattergl",
         "x": {
          "bdata": "DQcNBQYFBwUHDQcIBwUIBQcIBgcFBwcHDQYHBQ0GDQcFDQ0GBQcNDgcHBQgHBgUGBQY=",
          "dtype": "i1"
         },
         "xaxis": "x",
         "y": {
          "bdata": "bO0WQD+s0D/tAR3FbOzKP43TWQ+g1N8//5tPEygy0j9bjOERspTNP/HQ4m61gs4/NFn7jBwBzz/i2nkajdzOP9C3bNxUXtM/82PTjX002T9tUD4damLUP0/GDNKAsso/+FOgii4UyT93qVyTptTVP39rth073s4/QxXzVTvR3D/V+mcWv7vcP+NDOmkCcdA/LN6ic4951T8SvuWCRFfgP3WurEki49g/l8A6BMkMzD/PTnnRMf3GP2LdK60JN78/MqHHDTgc1z8VtEW1OxLaP54H9GokK8U/JJAEJ+hY2D9xHSA/ByfZP+aHu2zDA9Q/tEer9cOQ0j//vodmMe/JPwBQm+0rmNg/+yjSMMbi1z+uafMbUX7TP9FDy8k3RdM/ufo/b0SWzj+eYsdD85HJPwefFyi/SNo/OS/uIN2w0D9VPz1qOsPSP0BGnzJ4t9I/cuBLmH4s0D9SfXBg6j3LPyTu3F1Qg8o/P9i230brxz/djgHUlOzYP2Judh32cMI/ervpDVUo0T+JFw6gJC/HPw==",
          "dtype": "f8"
         },
         "yaxis": "y"
        },
        {
         "hovertemplate": "<b>OLS trendline</b><br>jsd = 0.00740186 * num_selections + 0.233959<br>R<sup>2</sup>=0.053224<br><br>country=Mongolia<br>num_selections=%{x}<br>jsd=%{y} <b>(trend)</b><extra></extra>",
         "legendgroup": "Mongolia",
         "marker": {
          "color": "#EF553B",
          "symbol": "circle"
         },
         "mode": "lines",
         "name": "Mongolia",
         "showlegend": false,
         "type": "scattergl",
         "x": {
          "bdata": "BQUFBQUFBQUFBQUFBgYGBgYGBgYHBwcHBwcHBwcHBwcHBwcHCAgICA0NDQ0NDQ0NDQ4=",
          "dtype": "i1"
         },
         "xaxis": "x",
         "y": {
          "bdata": "TlxRQI1X0T9OXFFAjVfRP05cUUCNV9E/TlxRQI1X0T9OXFFAjVfRP05cUUCNV9E/TlxRQI1X0T9OXFFAjVfRP05cUUCNV9E/TlxRQI1X0T9OXFFAjVfRP05cUUCNV9E/frGL6tLQ0T9+sYvq0tDRP36xi+rS0NE/frGL6tLQ0T9+sYvq0tDRP36xi+rS0NE/frGL6tLQ0T9+sYvq0tDRP60GxpQYStI/rQbGlBhK0j+tBsaUGErSP60GxpQYStI/rQbGlBhK0j+tBsaUGErSP60GxpQYStI/rQbGlBhK0j+tBsaUGErSP60GxpQYStI/rQbGlBhK0j+tBsaUGErSP60GxpQYStI/rQbGlBhK0j+tBsaUGErSP60GxpQYStI/3FsAP17D0j/cWwA/XsPSP9xbAD9ew9I/3FsAP17D0j/IBSSSuiHVP8gFJJK6IdU/yAUkkroh1T/IBSSSuiHVP8gFJJK6IdU/yAUkkroh1T/IBSSSuiHVP8gFJJK6IdU/yAUkkroh1T/4Wl48AJvVPw==",
          "dtype": "f8"
         },
         "yaxis": "y"
        },
        {
         "hovertemplate": "country=Montenegro<br>num_selections=%{x}<br>jsd=%{y}<extra></extra>",
         "legendgroup": "Montenegro",
         "marker": {
          "color": "#00cc96",
          "symbol": "circle"
         },
         "mode": "markers",
         "name": "Montenegro",
         "showlegend": true,
         "type": "scattergl",
         "x": {
          "bdata": "Bw0GDgcIBwcNBQcHBQcHBwcNCAYHDQUOBQYIBQ0FBQYNDQUNBwcFBwcHCA0HBQgNBwc=",
          "dtype": "i1"
         },
         "xaxis": "x",
         "y": {
          "bdata": "lwKzMF/k1D/H2840LIrFP3P5jOSGncw/ZIiud3WF4z+apFq+pQG2P7xQ084NpNE/IZvQLt9bxT+yTD6zTKW9P69iZ3IN/ds/0JlVUWdOyT/OboULKInEP+bFY3CqVcw/xXYkeE212z/wyoTyDqvWPzCmEC/1JdQ/d/nFGiKmtz9IjHWExZTSPw2Avr7DJM0/7bipTDlw0D9SWofImjW6PxZIC5AjDdE/NiaV0tQ73D8KdP849afCP/9MS2N1Dto/RIbSRAF80j8HqajCQP3GP4Hor6tnZcw/O9/qrIYM0D/R89L9yRnWPw5wgBh7fsQ/Vy8WjL350j8+k/Cl8FrRP+HK9AguTNk/kGZXlmOl1j9w2lQBroDLP6t8ilv2otQ/wLHmujlk2j+54Sk0E3vGP5o1IQCkU84/m7BngT8r2T8NKLXUKrzQPxKwPgnStcg/+KaqtyPjxD9bY0ZnYG7hP41B2451+cg/pieK+rQn3j+YuMIV99nKP8wksE4sONQ/dZiQ8CV92T/NtNpS/U3EPw==",
          "dtype": "f8"
         },
         "yaxis": "y"
        },
        {
         "hovertemplate": "<b>OLS trendline</b><br>jsd = 0.0185104 * num_selections + 0.125096<br>R<sup>2</sup>=0.223544<br><br>country=Montenegro<br>num_selections=%{x}<br>jsd=%{y} <b>(trend)</b><extra></extra>",
         "legendgroup": "Montenegro",
         "marker": {
          "color": "#00cc96",
          "symbol": "circle"
         },
         "mode": "lines",
         "name": "Montenegro",
         "showlegend": false,
         "type": "scattergl",
         "x": {
          "bdata": "BQUFBQUFBQUFBQYGBgYHBwcHBwcHBwcHBwcHBwcHBwcHCAgICAgNDQ0NDQ0NDQ0NDg4=",
          "dtype": "i1"
         },
         "xaxis": "x",
         "y": {
          "bdata": "68fAhubbyz/rx8CG5tvLP+vHwIbm28s/68fAhubbyz/rx8CG5tvLP+vHwIbm28s/68fAhubbyz/rx8CG5tvLP+vHwIbm28s/68fAhubbyz+E1M7McjrOP4TUzsxyOs4/hNTOzHI6zj+E1M7McjrOP45wbol/TNA/jnBuiX9M0D+OcG6Jf0zQP45wbol/TNA/jnBuiX9M0D+OcG6Jf0zQP45wbol/TNA/jnBuiX9M0D+OcG6Jf0zQP45wbol/TNA/jnBuiX9M0D+OcG6Jf0zQP45wbol/TNA/jnBuiX9M0D+OcG6Jf0zQP45wbol/TNA/jnBuiX9M0D+OcG6Jf0zQP45wbol/TNA/2nZ1rMV70T/adnWsxXvRP9p2dazFe9E/2nZ1rMV70T/adnWsxXvRP1aWmFskaNc/VpaYWyRo1z9WlphbJGjXP1aWmFskaNc/VpaYWyRo1z9WlphbJGjXP1aWmFskaNc/VpaYWyRo1z9WlphbJGjXP1aWmFskaNc/o5yffmqX2D+jnJ9+apfYPw==",
          "dtype": "f8"
         },
         "yaxis": "y"
        },
        {
         "hovertemplate": "country=Morocco<br>num_selections=%{x}<br>jsd=%{y}<extra></extra>",
         "legendgroup": "Morocco",
         "marker": {
          "color": "#ab63fa",
          "symbol": "circle"
         },
         "mode": "markers",
         "name": "Morocco",
         "showlegend": true,
         "type": "scattergl",
         "x": {
          "bdata": "BwUGAg0DBQ0FDQQCDQcEBwMOBgUHBAQECAUEBw4IDQQHBwcFBAcCBgYGBgQCBwYFBwQ=",
          "dtype": "i1"
         },
         "xaxis": "x",
         "y": {
          "bdata": "cAHilRDN0T8YvF3S/xHKPxtA7YdGuto/Q3+pw2Zj1z92xfLrqQnVP9CW0uKf1dQ/LapZxHte2j/HF06mHTHUP/FJUC0Gtc8//yc/3MRi3T+9ijj3U0u7P9KESFKjh7E/t5HoFLiryT8Wp37xkVzMP2UzJiMXHtI/ctjvCNXGxj/pFeV7A+fdP+3wGevPK+I/leVnh0KY1T+PrNDyODTcP/ZJAR/aANI/NrQHPOpIxD8gXxglZGLUPzuZ4c9Dv8Q/lRaQbEaI4D+g29t4HILGPzWxcm84HOA/ULpt+/8p2T8IpWHWhxPmP7ywBo0rytA/Lw3Fb6W61j+WbM/oqTPTP/zSQbI7N9E/s5hQ8d1W0D9srA/XtG7OP3FaJescRtA/mdaQKj303T8C6uszvvvWPyP2jWf7ma8/tSg8nzNn1z+OD2Lq70vHP7qJ2/8WHsY/bWyljKGPzD/Mp28CzWTdP9MX53wktsY/WfzRoHsx0D9sxLBYUmXSP/AzQaXduds/criIzxdy0z9S0UoJ0/PSPw==",
          "dtype": "f8"
         },
         "yaxis": "y"
        },
        {
         "hovertemplate": "<b>OLS trendline</b><br>jsd = 0.0149018 * num_selections + 0.213542<br>R<sup>2</sup>=0.140033<br><br>country=Morocco<br>num_selections=%{x}<br>jsd=%{y} <b>(trend)</b><extra></extra>",
         "legendgroup": "Morocco",
         "marker": {
          "color": "#ab63fa",
          "symbol": "circle"
         },
         "mode": "lines",
         "name": "Morocco",
         "showlegend": false,
         "type": "scattergl",
         "x": {
          "bdata": "AgICAgMDBAQEBAQEBAQEBAUFBQUFBQUGBgYGBgYGBwcHBwcHBwcHBwcICA0NDQ0NDg4=",
          "dtype": "i1"
         },
         "xaxis": "x",
         "y": {
          "bdata": "QF39mfUlzz9AXf2Z9SXPP0Bd/Zn1Jc8/QF39mfUlzz+cHl5QIYfQP5weXlAhh9A/mY6900d70T+Zjr3TR3vRP5mOvdNHe9E/mY6900d70T+Zjr3TR3vRP5mOvdNHe9E/mY6900d70T+Zjr3TR3vRP5mOvdNHe9E/mY6900d70T+W/hxXbm/SP5b+HFdub9I/lv4cV25v0j+W/hxXbm/SP5b+HFdub9I/lv4cV25v0j+W/hxXbm/SP5JufNqUY9M/km582pRj0z+SbnzalGPTP5JufNqUY9M/km582pRj0z+SbnzalGPTP5JufNqUY9M/j97bXbtX1D+P3ttdu1fUP4/e2127V9Q/j97bXbtX1D+P3ttdu1fUP4/e2127V9Q/j97bXbtX1D+P3ttdu1fUP4/e2127V9Q/j97bXbtX1D+P3ttdu1fUP4xOO+HhS9U/jE474eFL1T96fhhyohDaP3p+GHKiENo/en4YcqIQ2j96fhhyohDaP3p+GHKiENo/eO539cgE2z947nf1yATbPw==",
          "dtype": "f8"
         },
         "yaxis": "y"
        },
        {
         "hovertemplate": "country=Morocco (Non-national sample)<br>num_selections=%{x}<br>jsd=%{y}<extra></extra>",
         "legendgroup": "Morocco (Non-national sample)",
         "marker": {
          "color": "#FFA15A",
          "symbol": "circle"
         },
         "mode": "markers",
         "name": "Morocco (Non-national sample)",
         "showlegend": true,
         "type": "scattergl",
         "x": {
          "bdata": "CAQCAwIEAwQDAgQCAgMCAgQCAwQCBAIKBQIDAwUCBAQFAgYFBAIEBAIEBAMFAgIEAwI=",
          "dtype": "i1"
         },
         "xaxis": "x",
         "y": {
          "bdata": "BhacUo4N1j+mVX8isUvTP60ByEotec8/t3cWbg0otT9Un2QXQVrRPzQFQkrVoNI/pDzzPVkv2T8HZ6Zi1YXOP8t8tVxmE7E/RZUzxd0X0j+WTnl5rdXaP8Ih6sbGv8I/2J11ESQx0j8qfoRx+PDUP+XNObq9N9E/r8+0HQuSvj8eVULZNU7PPysmFl7JD8k/qy7fg41Atz9FrqgwgOjYP7ZqLEbs3sA/xONd1iE8zD+Zf1C28PjEP8VKnrb3gNY/msOFLIla4j+wMG8PWKu1P0TdhVo9Ms0/cFcQtD2I2D8zGYkGG6blPyaKFI5zMMo/rUTvtAXU1j+iJwZ+OM7TP/XYMm7u9eY/UGTufAsGmT+YXfrRId/OP9ZakqGMHNs/cLSlzq3K3T/dxf7ayJvFP8CGDtI0Yso/vO6s89l80D8ljZpyBzDHP3HzwEqHR9o/M6JHFqij2z/9HiyylzDBP+BlgXphB9A/bzamGvmq1z/cVs6AyBvVP3DzL5rCEcI/Q5//YJmL0D9zCgTUG1zLPw==",
          "dtype": "f8"
         },
         "yaxis": "y"
        },
        {
         "hovertemplate": "<b>OLS trendline</b><br>jsd = 0.0400945 * num_selections + 0.14038<br>R<sup>2</sup>=0.199849<br><br>country=Morocco (Non-national sample)<br>num_selections=%{x}<br>jsd=%{y} <b>(trend)</b><extra></extra>",
         "legendgroup": "Morocco (Non-national sample)",
         "marker": {
          "color": "#FFA15A",
          "symbol": "circle"
         },
         "mode": "lines",
         "name": "Morocco (Non-national sample)",
         "showlegend": false,
         "type": "scattergl",
         "x": {
          "bdata": "AgICAgICAgICAgICAgICAgICAwMDAwMDAwMDBAQEBAQEBAQEBAQEBAQEBQUFBQUGCAo=",
          "dtype": "i1"
         },
         "xaxis": "x",
         "y": {
          "bdata": "oFh37Zk7zD+gWHftmTvMP6BYd+2ZO8w/oFh37Zk7zD+gWHftmTvMP6BYd+2ZO8w/oFh37Zk7zD+gWHftmTvMP6BYd+2ZO8w/oFh37Zk7zD+gWHftmTvMP6BYd+2ZO8w/oFh37Zk7zD+gWHftmTvMP6BYd+2ZO8w/oFh37Zk7zD+gWHftmTvMP6BYd+2ZO8w//HX0jLWu0D/8dfSMta7QP/x19Iy1rtA//HX0jLWu0D/8dfSMta7QP/x19Iy1rtA//HX0jLWu0D/8dfSMta7QP/x19Iy1rtA/pj8tI54/0z+mPy0jnj/TP6Y/LSOeP9M/pj8tI54/0z+mPy0jnj/TP6Y/LSOeP9M/pj8tI54/0z+mPy0jnj/TP6Y/LSOeP9M/pj8tI54/0z+mPy0jnj/TP6Y/LSOeP9M/pj8tI54/0z+mPy0jnj/TP6Y/LSOeP9M/UglmuYbQ1T9SCWa5htDVP1IJZrmG0NU/UglmuYbQ1T9SCWa5htDVP/3Snk9vYdg/U2YQfECD3T/U/EDUiFLhPw==",
          "dtype": "f8"
         },
         "yaxis": "y"
        },
        {
         "hovertemplate": "country=Myanmar<br>num_selections=%{x}<br>jsd=%{y}<extra></extra>",
         "legendgroup": "Myanmar",
         "marker": {
          "color": "#19d3f3",
          "symbol": "circle"
         },
         "mode": "markers",
         "name": "Myanmar",
         "showlegend": true,
         "type": "scattergl",
         "x": {
          "bdata": "BwcHBgcIDQcHBQ0NBgcHBg4HBwYGBQUHDQ0HBwgGBwUHBwcNBwUFBwcHDgcNBwcHBw0=",
          "dtype": "i1"
         },
         "xaxis": "x",
         "y": {
          "bdata": "9E3JbSJ84z+65fdsPOHQPx/z+jDxwN4/rQUHp/Wp4D+ohiOpU7HPP6RjZxcuE8c/3xfmbEXv1D9T5z/WLjnVP5j/KUzWweM/LRQyACUs0D+Yomg3GLXVPztUgVIwy9E/Eu6jNugA4D/UhGLG8w3lPzmOKi+XK8c/e8iDLySE4z/p3NT0Wm7WP74oeVc8GOM/eO4oTtlywD/m6TVQuV7bP+f19aX9Cec/Cvw5yzDwxT+RWvI/m+jUP9EEoSAgSOM/kURRKB+J0D9wm86XzS7TP05uv4ewBdM/TwtxqPH30T+E2dm2BIPVPz8Y3QIV7tI/sZpKE5Nc3D9n+ck3wunKP0Rhx1uKnuY/zUg1b7Fs4z/mgdrFk1TcP6mepOtimuc/Wvi2gMlL0T9eejELvvPNP11dBQQZrNo/nQkhqNDn3D8m0Qdv3QrjP19pzxoQWdg/q8pEMwTT3j+nv7jV75rJP2uK/jJJKuY/iK/CPo+Ryz8dD2f/UlzdP7IzEZ0HGuI/wCBv1/bJ2D90WQLYqQDVPw==",
          "dtype": "f8"
         },
         "yaxis": "y"
        },
        {
         "hovertemplate": "<b>OLS trendline</b><br>jsd = 0.00244755 * num_selections + 0.386897<br>R<sup>2</sup>=0.001626<br><br>country=Myanmar<br>num_selections=%{x}<br>jsd=%{y} <b>(trend)</b><extra></extra>",
         "legendgroup": "Myanmar",
         "marker": {
          "color": "#19d3f3",
          "symbol": "circle"
         },
         "mode": "lines",
         "name": "Myanmar",
         "showlegend": false,
         "type": "scattergl",
         "x": {
          "bdata": "BQUFBQUFBgYGBgYGBwcHBwcHBwcHBwcHBwcHBwcHBwcHBwcHBwcICA0NDQ0NDQ0NDg4=",
          "dtype": "i1"
         },
         "xaxis": "x",
         "y": {
          "bdata": "bdzOOW2L2T9t3M45bYvZP23czjlti9k/bdzOOW2L2T9t3M45bYvZP23czjlti9k/RNkJ/Iaz2T9E2Qn8hrPZP0TZCfyGs9k/RNkJ/Iaz2T9E2Qn8hrPZP0TZCfyGs9k/G9ZEvqDb2T8b1kS+oNvZPxvWRL6g29k/G9ZEvqDb2T8b1kS+oNvZPxvWRL6g29k/G9ZEvqDb2T8b1kS+oNvZPxvWRL6g29k/G9ZEvqDb2T8b1kS+oNvZPxvWRL6g29k/G9ZEvqDb2T8b1kS+oNvZPxvWRL6g29k/G9ZEvqDb2T8b1kS+oNvZPxvWRL6g29k/G9ZEvqDb2T8b1kS+oNvZPxvWRL6g29k/G9ZEvqDb2T8b1kS+oNvZPxvWRL6g29k/G9ZEvqDb2T8b1kS+oNvZP/LSf4C6A9o/8tJ/gLoD2j8kw6ZLO8zaPyTDpks7zNo/JMOmSzvM2j8kw6ZLO8zaPyTDpks7zNo/JMOmSzvM2j8kw6ZLO8zaPyTDpks7zNo/+7/hDVX02j/7v+ENVfTaPw==",
          "dtype": "f8"
         },
         "yaxis": "y"
        },
        {
         "hovertemplate": "country=Netherlands<br>num_selections=%{x}<br>jsd=%{y}<extra></extra>",
         "legendgroup": "Netherlands",
         "marker": {
          "color": "#FF6692",
          "symbol": "circle"
         },
         "mode": "markers",
         "name": "Netherlands",
         "showlegend": true,
         "type": "scattergl",
         "x": {
          "bdata": "BQcFBwQNBAUKAwMFAwMEBgYHBQUFBw0DBQQCBQMEBAcEBwQDBQUDBwMEBQQNBAYIBQ4=",
          "dtype": "i1"
         },
         "xaxis": "x",
         "y": {
          "bdata": "4Zv4W0gGzT/Ene3zDTTYP2yEB1Yoys8/ZlW+QXEp0j/uSEAuo1XAP9KrYBsOx+8/X3KbQMODzj/5gH4mbFXQP4LKGvM3hOQ/EipWUkDcsz/Au6CLbPu/Px2LJ2c3Jsw/c7p5TVEAyD8JIsmFeKbEP/Lvj140n8M/ajrqWEhT0z9xS+OTCUTHP3OnUwH1MNM/QBWU3EOrzT//L69KvffGP/vdUez9kLI/JSWp7E9g1z/VLQq4xZe9P5vH5AHRNMY/hWFmK14Wwj8xb/pDFgzJP8JbGow7tbY/D6HkYOtsxj/4Fa+CESPLP7E6ZNOAydM/PM2/3hlixz/QjyRA9H3UP8wz+yhNgM0/NH/4EpV21T8SySEfz/i/P2lVpKEFYcM/2BgT+vrWvz+l71iO+0vpP5LzN9puNMk/MCYkukVIxD+Jwvsp4rfGPyrGYJzxBc8/uE3r4fP10D/n8ZUX/APHP0q+XIqohuM/Jl4VhhYP2D+wNzvs0xvSP3Kp5uJYFu4/7mIE4e4Uxj931/5lCEvRPw==",
          "dtype": "f8"
         },
         "yaxis": "y"
        },
        {
         "hovertemplate": "<b>OLS trendline</b><br>jsd = 0.0386086 * num_selections + 0.0567351<br>R<sup>2</sup>=0.294955<br><br>country=Netherlands<br>num_selections=%{x}<br>jsd=%{y} <b>(trend)</b><extra></extra>",
         "legendgroup": "Netherlands",
         "marker": {
          "color": "#FF6692",
          "symbol": "circle"
         },
         "mode": "lines",
         "name": "Netherlands",
         "showlegend": false,
         "type": "scattergl",
         "x": {
          "bdata": "AgMDAwMDAwMDAwQEBAQEBAQEBAQEBQUFBQUFBQUFBQUFBQYGBgcHBwcHBwcICg0NDQ4=",
          "dtype": "i1"
         },
         "xaxis": "x",
         "y": {
          "bdata": "sjSGx1klwT/Q07c0ehbGP9DTtzR6FsY/0NO3NHoWxj/Q07c0ehbGP9DTtzR6FsY/0NO3NHoWxj/Q07c0ehbGP9DTtzR6FsY/0NO3NHoWxj/tcumhmgfLP+1y6aGaB8s/7XLpoZoHyz/tcumhmgfLP+1y6aGaB8s/7XLpoZoHyz/tcumhmgfLP+1y6aGaB8s/7XLpoZoHyz/tcumhmgfLP+1y6aGaB8s/CxIbD7v4zz8LEhsPu/jPPwsSGw+7+M8/CxIbD7v4zz8LEhsPu/jPPwsSGw+7+M8/CxIbD7v4zz8LEhsPu/jPPwsSGw+7+M8/CxIbD7v4zz8LEhsPu/jPPwsSGw+7+M8/CxIbD7v4zz+UWCa+7XTSP5RYJr7tdNI/lFgmvu100j8iKL/0fe3UPyIov/R97dQ/Iii/9H3t1D8iKL/0fe3UPyIov/R97dQ/Iii/9H3t1D8iKL/0fe3UP7L3VysOZtc/0JaJmC5X3D++Aiqeb+DhP74CKp5v4OE/vgIqnm/g4T+Fana5txzjPw==",
          "dtype": "f8"
         },
         "yaxis": "y"
        },
        {
         "hovertemplate": "country=New Zealand<br>num_selections=%{x}<br>jsd=%{y}<extra></extra>",
         "legendgroup": "New Zealand",
         "marker": {
          "color": "#B6E880",
          "symbol": "circle"
         },
         "mode": "markers",
         "name": "New Zealand",
         "showlegend": true,
         "type": "scattergl",
         "x": {
          "bdata": "BwUIBwUHAwMFDQcGBwcHBQYNBgQFAwcNCAUFBwcNBwUGBQ4FBwUFAwYGAwcNDgYFBAc=",
          "dtype": "i1"
         },
         "xaxis": "x",
         "y": {
          "bdata": "0zVO7WeJ0T98/YqPQH/KP8O/wBti+MA/nLWEGT17yD+s62bvE5nGP5ZKKgCA0Mw/T4KMGh2AwT/7mvt9mMO8P1NBpb1y69A/j9IvynZZ0z/xBfjG0OrQP4zsaK066dA/ejQJaInmyT8UzhAgqtrMPxcIOyWk58I/aU7izQrvzT9R9YkPTGvUP9CXAQyWZ88/0qOpUL1Myj/TmgxY5oDRP8SFmrMMVdA/ULhKe86lwz99cWo8xwbVP5iaxYpmJOc//v9N3ugv0T/hS2gXiOvYP0fWXzRrItU/3ik9LjUY0j/AywgpNXjQP9FiC2hOzcw/WFhdUoY/zT9pSt6hUlLGP5ZJ9ge7qNQ/CJxxjMvCwj8J5l4UuKTiP6/DWV5FSdY/Hfld4f5zyj8vOZU/6aTRP9gdrXWfYcw/0xoJc7Zl0j+qocjeMLbKPzDzl5otQ8I/GDi3mN/ZwT+x52usF8HdP2pQbbTIB9Q/an8IVqLM1D/y+OlEpbLQP18No/ywI9I/pHqm2JNbyD/XlzG5nafVPw==",
          "dtype": "f8"
         },
         "yaxis": "y"
        },
        {
         "hovertemplate": "<b>OLS trendline</b><br>jsd = 0.0183607 * num_selections + 0.137819<br>R<sup>2</sup>=0.250550<br><br>country=New Zealand<br>num_selections=%{x}<br>jsd=%{y} <b>(trend)</b><extra></extra>",
         "legendgroup": "New Zealand",
         "marker": {
          "color": "#B6E880",
          "symbol": "circle"
         },
         "mode": "lines",
         "name": "New Zealand",
         "showlegend": false,
         "type": "scattergl",
         "x": {
          "bdata": "AwMDAwMEBAUFBQUFBQUFBQUFBQUGBgYGBgYGBwcHBwcHBwcHBwcHBwcICA0NDQ0NDg4=",
          "dtype": "i1"
         },
         "xaxis": "x",
         "y": {
          "bdata": "aAy10f2wyD9oDLXR/bDIP2gMtdH9sMg/aAy10f2wyD9oDLXR/bDIP5MfvVaiCss/kx+9VqIKyz++MsXbRmTNP74yxdtGZM0/vjLF20ZkzT++MsXbRmTNP74yxdtGZM0/vjLF20ZkzT++MsXbRmTNP74yxdtGZM0/vjLF20ZkzT++MsXbRmTNP74yxdtGZM0/vjLF20ZkzT++MsXbRmTNP+lFzWDrvc8/6UXNYOu9zz/pRc1g673PP+lFzWDrvc8/6UXNYOu9zz/pRc1g673PP+lFzWDrvc8/iqzq8scL0T+KrOryxwvRP4qs6vLHC9E/iqzq8scL0T+KrOryxwvRP4qs6vLHC9E/iqzq8scL0T+KrOryxwvRP4qs6vLHC9E/iqzq8scL0T+KrOryxwvRP4qs6vLHC9E/iqzq8scL0T+KrOryxwvRPyC2bjWaONI/ILZuNZo40j8L5gKCtRjYPwvmAoK1GNg/C+YCgrUY2D8L5gKCtRjYPwvmAoK1GNg/oO+GxIdF2T+g74bEh0XZPw==",
          "dtype": "f8"
         },
         "yaxis": "y"
        },
        {
         "hovertemplate": "country=Nicaragua<br>num_selections=%{x}<br>jsd=%{y}<extra></extra>",
         "legendgroup": "Nicaragua",
         "marker": {
          "color": "#FF97FF",
          "symbol": "circle"
         },
         "mode": "markers",
         "name": "Nicaragua",
         "showlegend": true,
         "type": "scattergl",
         "x": {
          "bdata": "DQcNBAYHCwcHCA4FDgsLDQUHBwULBwQNBAcHDQYGBQcNBQUCDQYFAwUHBQ0HCwcIBgc=",
          "dtype": "i1"
         },
         "xaxis": "x",
         "y": {
          "bdata": "r+C27O0V0j9ohVexkpveP7THTLx9ZdE/RI/iq1P+3D93wblqckPVP4ep/qlzyb0/OoBxUFQO0j+vfDpGB/XbP3nG6x34mNQ/2SslcgH01j+pvtlLO57ZP8I+ppIq/dc/ZQSPmwm84j99x1yNoVrmP/XWBOPwsNY/mm+5/Bmf3j/Q4G9CHzDgP7F5hZyassY/dwwF5vIy0z/8c4ay3dvOP+7mW0Bbueg/n5Dg/yZtzj8Qe4zA+KXHP6Pcp2SGDNc/++FHCAVNxj9takTXC4/gP8RHZhSxkMk/Wc6g0yTF1j8fRrFaOfjaPwvlp3FN+N0/hct5paw6yD/xGjT1bavVP+ZJtRES9dE/v7ySUsEW4z8+mQ88VvTSPzosLN64Z7U/UgBk/vBj2j8V0qXK/H/IPwAM4nSOc94/FEkKd/yq1D9OfnTTrxHcP1//Qzfnqd0/V6YXWmYS1z+6r31wA0TgPwOCxR8wndU/GJVBk8d10z/DqHHTr57TP4BIbj9TOc8/1NB5c5cRyT8EsgDT3RrPPw==",
          "dtype": "f8"
         },
         "yaxis": "y"
        },
        {
         "hovertemplate": "<b>OLS trendline</b><br>jsd = 0.0127574 * num_selections + 0.254357<br>R<sup>2</sup>=0.088203<br><br>country=Nicaragua<br>num_selections=%{x}<br>jsd=%{y} <b>(trend)</b><extra></extra>",
         "legendgroup": "Nicaragua",
         "marker": {
          "color": "#FF97FF",
          "symbol": "circle"
         },
         "mode": "lines",
         "name": "Nicaragua",
         "showlegend": false,
         "type": "scattergl",
         "x": {
          "bdata": "AgMEBAQFBQUFBQUFBQUGBgYGBgcHBwcHBwcHBwcHBwcHCAgLCwsLCw0NDQ0NDQ0NDg4=",
          "dtype": "i1"
         },
         "xaxis": "x",
         "y": {
          "bdata": "Mhbg12rp0T+mAzgab7rSPxvxj1xzi9M/G/GPXHOL0z8b8Y9cc4vTP4/e5553XNQ/j97nnndc1D+P3ueed1zUP4/e5553XNQ/j97nnndc1D+P3ueed1zUP4/e5553XNQ/j97nnndc1D+P3ueed1zUPwTMP+F7LdU/BMw/4Xst1T8EzD/hey3VPwTMP+F7LdU/BMw/4Xst1T94uZcjgP7VP3i5lyOA/tU/eLmXI4D+1T94uZcjgP7VP3i5lyOA/tU/eLmXI4D+1T94uZcjgP7VP3i5lyOA/tU/eLmXI4D+1T94uZcjgP7VP3i5lyOA/tU/eLmXI4D+1T94uZcjgP7VP3i5lyOA/tU/7KbvZYTP1j/spu9lhM/WP0pv9yyRQtk/Sm/3LJFC2T9Kb/cskULZP0pv9yyRQtk/Sm/3LJFC2T8ySqexmeTaPzJKp7GZ5No/MkqnsZnk2j8ySqexmeTaPzJKp7GZ5No/MkqnsZnk2j8ySqexmeTaPzJKp7GZ5No/pjf/85212z+mN//znbXbPw==",
          "dtype": "f8"
         },
         "yaxis": "y"
        },
        {
         "hovertemplate": "country=Nigeria<br>num_selections=%{x}<br>jsd=%{y}<extra></extra>",
         "legendgroup": "Nigeria",
         "marker": {
          "color": "#FECB52",
          "symbol": "circle"
         },
         "mode": "markers",
         "name": "Nigeria",
         "showlegend": true,
         "type": "scattergl",
         "x": {
          "bdata": "BwcLAwYFBAIGDQMPBQQEBQcIAwQGBQgCBAUFBwUJDQsFBAIHBQMFAwcGCwoCBQUDBwc=",
          "dtype": "i1"
         },
         "xaxis": "x",
         "y": {
          "bdata": "LgtZsMff1D91eKcbexPZP5H5i7qSTtA/OK0SgIaozT93ENcL0IfIP2rRfxty29o/6VtM7ZmV1T+r3ZeMU+nbP5mPP0jcVMY/u2l60NDh0j9OkemJ89DLP5MJhKocRtg/39ml8FRn0z+czmMRlYfPP3Bez1Zr7Mw/7YXDLLsc0D/qlkkCGMnaP6AsgRBTzdA/9bvH5vkzxT/NodrUMN/EPxswlAQS+NA/0DY52Pe+xj9LzyUkjK/DPxTL7pYjQMg/8UTaSl6cwD9ucZpKeny+P9NrtugZjsc/7DbCyU3L0D+LMZ7hxyHBP5TBrRbrdNs/KKeMext/4D8d3JKEbojcPwtd+STtuK8/xUI614MlyD9kYGH6msjKPzr68/2ve8U/U1YEoI0q1T8bUjgoLjTfPzP4oSTCHss/4vyu+rThxD+2JvadWTHQP3oALip/z9Q/6X0vaw4qxD++Sx+npyzKP9SfGnSxRrA/C32xmmLbvD9ozCDZWrXFP1VJsjG1Ldw/96mgDhujwz9Og3pbe/7SPw==",
          "dtype": "f8"
         },
         "yaxis": "y"
        },
        {
         "hovertemplate": "<b>OLS trendline</b><br>jsd = 0.0112943 * num_selections + 0.186368<br>R<sup>2</sup>=0.091705<br><br>country=Nigeria<br>num_selections=%{x}<br>jsd=%{y} <b>(trend)</b><extra></extra>",
         "legendgroup": "Nigeria",
         "marker": {
          "color": "#FECB52",
          "symbol": "circle"
         },
         "mode": "lines",
         "name": "Nigeria",
         "showlegend": false,
         "type": "scattergl",
         "x": {
          "bdata": "AgICAgMDAwMDAwQEBAQEBAUFBQUFBQUFBQUFBQYGBgYHBwcHBwcHBwgICQoLCwsNDQ8=",
          "dtype": "i1"
         },
         "xaxis": "x",
         "y": {
          "bdata": "YTq/6RK/yj9hOr/pEr/KP2E6v+kSv8o/YTq/6RK/yj+UR+k9KjHMP5RH6T0qMcw/lEfpPSoxzD+UR+k9KjHMP5RH6T0qMcw/lEfpPSoxzD/GVBOSQaPNP8ZUE5JBo80/xlQTkkGjzT/GVBOSQaPNP8ZUE5JBo80/xlQTkkGjzT/5YT3mWBXPP/lhPeZYFc8/+WE95lgVzz/5YT3mWBXPP/lhPeZYFc8/+WE95lgVzz/5YT3mWBXPP/lhPeZYFc8/+WE95lgVzz/5YT3mWBXPP/lhPeZYFc8/+WE95lgVzz+WtzMduEPQP5a3Mx24Q9A/lrczHbhD0D+WtzMduEPQPy++SMfD/NA/L75Ix8P80D8vvkjHw/zQPy++SMfD/NA/L75Ix8P80D8vvkjHw/zQPy++SMfD/NA/L75Ix8P80D/IxF1xz7XRP8jEXXHPtdE/YstyG9tu0j/70YfF5ifTP5TYnG/y4NM/lNicb/Lg0z+U2Jxv8uDTP8flxsMJU9U/x+XGwwlT1T/68vAXIcXWPw==",
          "dtype": "f8"
         },
         "yaxis": "y"
        },
        {
         "hovertemplate": "country=Nigeria (Non-national sample)<br>num_selections=%{x}<br>jsd=%{y}<extra></extra>",
         "legendgroup": "Nigeria (Non-national sample)",
         "marker": {
          "color": "#636efa",
          "symbol": "circle"
         },
         "mode": "markers",
         "name": "Nigeria (Non-national sample)",
         "showlegend": true,
         "type": "scattergl",
         "x": {
          "bdata": "AwQCBAICAgQGAgQEBQQGAgQEBAcCBAQEBAMDAgQFBAUFAwICBAQCAgUCAgQEAgIEBAQ=",
          "dtype": "i1"
         },
         "xaxis": "x",
         "y": {
          "bdata": "18El4vu00T9W873s09TIP06tVQ8VO88//PtQ0ZRGrj8+QJUIUDvBPyJA3T9dB9Y/jAi/JWFKnj8eIQ+2HRPVP1RrS5WY2dk/TzmzjXiykD8u5BVAfjnOP1cV9gVMFNU/+t16H5rC0T84Rb4EULjOP6HqFWK0jNY/KpOvepgp2D/ArCCfHqnRPz3AWQ2+stc/hvs4irz7xD+GboI1uzPVP7ZQfG+mfY0/kGDDnG6tvT9ZkqLOzITFP7Okm/3BTNk/AmsNbcF8xj9cytKKJcrQPy49USrsDro/Io6J4b9gqz9mf+N9qW3QP467Ar5yd8U/0OygYFRm2z8/XC024gfHP9xy2bE3G8k/NCaGsDXoxj+xbBPsBpzaPylfpBykf9Y/gEDixdxtrD/KSkZE/fHQP3w1U7Q3u9E/NUnyYsdw1j8io/auvKPFP1VAnvbjfLA/Au3evLgrvz8sUihsPM2/P8JLRrQvnZk/PMQc7hNFzz/GZjtBVSrLP3rhAPsDvLs/okYwYhQusz/Ufy5BUwjIPw==",
          "dtype": "f8"
         },
         "yaxis": "y"
        },
        {
         "hovertemplate": "<b>OLS trendline</b><br>jsd = 0.0168541 * num_selections + 0.155232<br>R<sup>2</sup>=0.032702<br><br>country=Nigeria (Non-national sample)<br>num_selections=%{x}<br>jsd=%{y} <b>(trend)</b><extra></extra>",
         "legendgroup": "Nigeria (Non-national sample)",
         "marker": {
          "color": "#636efa",
          "symbol": "circle"
         },
         "mode": "lines",
         "name": "Nigeria (Non-national sample)",
         "showlegend": false,
         "type": "scattergl",
         "x": {
          "bdata": "AgICAgICAgICAgICAgICAgMDAwMEBAQEBAQEBAQEBAQEBAQEBAQEBAQEBQUFBQUGBgc=",
          "dtype": "i1"
         },
         "xaxis": "x",
         "y": {
          "bdata": "EdYTmC4vyD8R1hOYLi/IPxHWE5guL8g/EdYTmC4vyD8R1hOYLi/IPxHWE5guL8g/EdYTmC4vyD8R1hOYLi/IPxHWE5guL8g/EdYTmC4vyD8R1hOYLi/IPxHWE5guL8g/EdYTmC4vyD8R1hOYLi/IPxHWE5guL8g/EdYTmC4vyD+sfG+zdFfKP6x8b7N0V8o/rHxvs3RXyj+sfG+zdFfKP0gjy866f8w/SCPLzrp/zD9II8vOun/MP0gjy866f8w/SCPLzrp/zD9II8vOun/MP0gjy866f8w/SCPLzrp/zD9II8vOun/MP0gjy866f8w/SCPLzrp/zD9II8vOun/MP0gjy866f8w/SCPLzrp/zD9II8vOun/MP0gjy866f8w/SCPLzrp/zD9II8vOun/MP0gjy866f8w/SCPLzrp/zD9II8vOun/MP0gjy866f8w/5Mkm6gCozj/kySbqAKjOP+TJJuoAqM4/5Mkm6gCozj/kySbqAKjOP0A4wYIjaNA/QDjBgiNo0D+NC2+QRnzRPw==",
          "dtype": "f8"
         },
         "yaxis": "y"
        },
        {
         "hovertemplate": "country=North Macedonia<br>num_selections=%{x}<br>jsd=%{y}<extra></extra>",
         "legendgroup": "North Macedonia",
         "marker": {
          "color": "#EF553B",
          "symbol": "circle"
         },
         "mode": "markers",
         "name": "North Macedonia",
         "showlegend": true,
         "type": "scattergl",
         "x": {
          "bdata": "BwUHBwcFDQcHBwcHBwYHBw4HBwcNBg0HBwcFBwUHDQgNBQcFDQgFBg4FBgYFBwcFBQ0=",
          "dtype": "i1"
         },
         "xaxis": "x",
         "y": {
          "bdata": "WRaLBkdQ4D+3qufk6gK7PyMA7SHQy8E/K5UEznTKuD9KEIYh2li6P0CcizT/5sk/6hG0BLLR1T8NSspJ49LGP43Uh0Kqad0/35b8taPYyz/sIhRFGnXHP3RpDKFoXMA/HZ5L3lxXxj/6uDjsGfjOP4qToCHBCtU/FmKu5iMNtD++srGv6jLVP8eVrAOcSck/TzMncQD2sD/6cqOyuyPKP74TeTBpyNM/UgroHSlNwz85XhAqXwTOP9nxq3WIuMY/lrmvSYvkwz+NXhgjFB20P6aCd/KxWdA/lHdLyT96xT/FABfiwWzIP5LFL180F8g//Qdf1tv+0T8AAAAAAAD4f+8rJuo7Xso/vTDxlYDP0j/kPklOnNrHP9MD2xYZa9E/HVzK69Vs0z8LN7KhTVizP07ZNnNEFtg/yR/T8z3P0j8Pv58Op7TbP1r6IA5z5sI/EedhlINowj/aTcZuEJnQPzBK6crrUMQ/e32e1OZ81z9NkJAQ5yu7PwkCC4D1dNA/dWJw72wr2j8RrLWnPNbSPw==",
          "dtype": "f8"
         },
         "yaxis": "y"
        },
        {
         "hovertemplate": "<b>OLS trendline</b><br>jsd = 0.0105932 * num_selections + 0.145073<br>R<sup>2</sup>=0.079210<br><br>country=North Macedonia<br>num_selections=%{x}<br>jsd=%{y} <b>(trend)</b><extra></extra>",
         "legendgroup": "North Macedonia",
         "marker": {
          "color": "#EF553B",
          "symbol": "circle"
         },
         "mode": "lines",
         "name": "North Macedonia",
         "showlegend": false,
         "type": "scattergl",
         "x": {
          "bdata": "BQUFBQUFBQUFBQUGBgYGBgcHBwcHBwcHBwcHBwcHBwcHBwcHBwcHCA0NDQ0NDQ0ODg==",
          "dtype": "i1"
         },
         "xaxis": "x",
         "y": {
          "bdata": "I4ZA4VdZyT8jhkDhV1nJPyOGQOFXWck/I4ZA4VdZyT8jhkDhV1nJPyOGQOFXWck/I4ZA4VdZyT8jhkDhV1nJPyOGQOFXWck/I4ZA4VdZyT8jhkDhV1nJP+uKED92tMo/64oQP3a0yj/rihA/drTKP+uKED92tMo/64oQP3a0yj+yj+CclA/MP7KP4JyUD8w/so/gnJQPzD+yj+CclA/MP7KP4JyUD8w/so/gnJQPzD+yj+CclA/MP7KP4JyUD8w/so/gnJQPzD+yj+CclA/MP7KP4JyUD8w/so/gnJQPzD+yj+CclA/MP7KP4JyUD8w/so/gnJQPzD+yj+CclA/MP7KP4JyUD8w/so/gnJQPzD+yj+CclA/MP7KP4JyUD8w/so/gnJQPzD+yj+CclA/MP7KP4JyUD8w/epSw+rJqzT8xVuBnJRnSPzFW4GclGdI/MVbgZyUZ0j8xVuBnJRnSPzFW4GclGdI/MVbgZyUZ0j8xVuBnJRnSP5RYyJa0xtI/lFjIlrTG0j8=",
          "dtype": "f8"
         },
         "yaxis": "y"
        },
        {
         "hovertemplate": "country=Northern Ireland<br>num_selections=%{x}<br>jsd=%{y}<extra></extra>",
         "legendgroup": "Northern Ireland",
         "marker": {
          "color": "#00cc96",
          "symbol": "circle"
         },
         "mode": "markers",
         "name": "Northern Ireland",
         "showlegend": true,
         "type": "scattergl",
         "x": {
          "bdata": "BwcGBwcFDQ0GBgcNDQcHBwcGBwUFBwcNCAcHBQ0GBwcHBQcOBwUOCAYHBwUGBwYHDgc=",
          "dtype": "i1"
         },
         "xaxis": "x",
         "y": {
          "bdata": "rRCrknm/zT+paXdLuyHMP8NlLYZEGtI/HYtnHtxCyj/FHDEgxm/JPxJDOf7G/tc/e+OSvL+70j8s2+KRc4HgP5sagJRp9dI/TSMgaYNO0D98Mangh9/CPwdYc0zbvcU/LQAgVenL0D96zh3NjsnEPykIxOE8qsM/4PbXnX0KwD8LTq1SUf+/P4/QrCG0N7s/StLjA2Zhyj+R1TJotzrHP3kYu1AiV9A/VWT45W1ozz+11icwZ7y+PwQXY/CEcc8/O5QOakFj2j+hz5DmjtveP5Ry9/NqQMs/2NU5bRFFzj+G0YDPBVTWPxfzZkk2xcA/Xi15Gb0JzT+tziPdqXHUP9vraoEEV9A/0RiuXyHI3T96X2Ahc6bIP6sePhhtUN0/jZ4xirgyzT9yKe9NGivQPw64Ef7K/dM/AAAAAAAA+H/vXpV3DTzQP0hOxi7RGM8/1a6rZc0stj9v5kNZG4rVP+pdSVKkkNI/FAHNoi77wD+hY3LfrPzPP7Hsa64z38M/nM94jhSA4z9Z7w+Lrb7IPw==",
          "dtype": "f8"
         },
         "yaxis": "y"
        },
        {
         "hovertemplate": "<b>OLS trendline</b><br>jsd = 0.0156736 * num_selections + 0.133148<br>R<sup>2</sup>=0.151658<br><br>country=Northern Ireland<br>num_selections=%{x}<br>jsd=%{y} <b>(trend)</b><extra></extra>",
         "legendgroup": "Northern Ireland",
         "marker": {
          "color": "#00cc96",
          "symbol": "circle"
         },
         "mode": "lines",
         "name": "Northern Ireland",
         "showlegend": false,
         "type": "scattergl",
         "x": {
          "bdata": "BQUFBQUFBQYGBgYGBgYGBwcHBwcHBwcHBwcHBwcHBwcHBwcHBwcHCA0NDQ0NDQ4ODg==",
          "dtype": "i1"
         },
         "xaxis": "x",
         "y": {
          "bdata": "oornUvgSyz+iiudS+BLLP6KK51L4Ess/oornUvgSyz+iiudS+BLLP6KK51L4Ess/oornUvgSyz+JPbk+kBTNP4k9uT6QFM0/iT25PpAUzT+JPbk+kBTNP4k9uT6QFM0/iT25PpAUzT+JPbk+kBTNP4k9uT6QFM0/cPCKKigWzz9w8IoqKBbPP3DwiiooFs8/cPCKKigWzz9w8IoqKBbPP3DwiiooFs8/cPCKKigWzz9w8IoqKBbPP3DwiiooFs8/cPCKKigWzz9w8IoqKBbPP3DwiiooFs8/cPCKKigWzz9w8IoqKBbPP3DwiiooFs8/cPCKKigWzz9w8IoqKBbPP3DwiiooFs8/cPCKKigWzz9w8IoqKBbPP3DwiiooFs8/cPCKKigWzz9w8IoqKBbPP3DwiiooFs8/rFEuC+CL0D/vkLrY24/VP++Qutjbj9U/75C62NuP1T/vkLrY24/VP++Qutjbj9U/75C62NuP1T9iaqPOp5DWP2Jqo86nkNY/YmqjzqeQ1j8=",
          "dtype": "f8"
         },
         "yaxis": "y"
        },
        {
         "hovertemplate": "country=Norway<br>num_selections=%{x}<br>jsd=%{y}<extra></extra>",
         "legendgroup": "Norway",
         "marker": {
          "color": "#ab63fa",
          "symbol": "circle"
         },
         "mode": "markers",
         "name": "Norway",
         "showlegend": true,
         "type": "scattergl",
         "x": {
          "bdata": "BwcNBg0NBwcFDQcHBwcHDggNBwcHBQcIBw0GCAcIBwcHBwUODgYODQUNBwcHBQ0IBwc=",
          "dtype": "i1"
         },
         "xaxis": "x",
         "y": {
          "bdata": "kdD5A5VMuj8sU1qpG3bQP815FQuzNNM/wi6eRaA8wj/rP56c7lvIP4MmjSymh9Q/Q1yqwxFgvD/fTNjYsgvCP9yOGV4Ufso/7y0F9nrw2j/SVPtROH3YP4oh36ENXbY/13NXufMeyz9NlOeePwbXPwpQvosfjrw/jfydNz6a4T8c0LlpbuDOPxnYhvHC/NM/1tXQYYlu0D8UOgAHpR3OP19xfBDqPrg//1W7TJ/w3D/6bpkhZXXGP5YGAiY7Xsg/b/q3sin+uD/oVY9KM6LQP3Kdd4uMD94/jxM50PRy1T9VyYEoNpLJPwqPHpgQu9Y/CBYEZO/Fyz9WVclp+t7OP8h4tLRLctc/5ZD+qQwzzT+rRzRbQLvXP6SHihJ7POQ/4+9tpopT0z/KcyEOfwvNP4YaMO6PNOk/+gV19on3yD+19pJPfLDAP3OUJ0MNrNM/GlViFUM1tD+ztBTEgODQP4D4GnfFbtI/M7htTj354z8r7SxdcnzUP/jx/mvhrs4/wH+1btmAxz9xkZ2HRlPPPw==",
          "dtype": "f8"
         },
         "yaxis": "y"
        },
        {
         "hovertemplate": "<b>OLS trendline</b><br>jsd = 0.0186214 * num_selections + 0.118498<br>R<sup>2</sup>=0.140962<br><br>country=Norway<br>num_selections=%{x}<br>jsd=%{y} <b>(trend)</b><extra></extra>",
         "legendgroup": "Norway",
         "marker": {
          "color": "#ab63fa",
          "symbol": "circle"
         },
         "mode": "lines",
         "name": "Norway",
         "showlegend": false,
         "type": "scattergl",
         "x": {
          "bdata": "BQUFBQUGBgYHBwcHBwcHBwcHBwcHBwcHBwcHBwcHBwcICAgICA0NDQ0NDQ0NDQ4ODg4=",
          "dtype": "i1"
         },
         "xaxis": "x",
         "y": {
          "bdata": "05qqU9oVyz/TmqpT2hXLP9OaqlPaFcs/05qqU9oVyz/TmqpT2hXLPxyW46AJeM0/HJbjoAl4zT8cluOgCXjNP2aRHO442s8/ZpEc7jjazz9mkRzuONrPP2aRHO442s8/ZpEc7jjazz9mkRzuONrPP2aRHO442s8/ZpEc7jjazz9mkRzuONrPP2aRHO442s8/ZpEc7jjazz9mkRzuONrPP2aRHO442s8/ZpEc7jjazz9mkRzuONrPP2aRHO442s8/ZpEc7jjazz9mkRzuONrPP2aRHO442s8/ZpEc7jjazz9mkRzuONrPP2aRHO442s8/ZpEc7jjazz9mkRzuONrPP1jGqh00HtE/WMaqHTQe0T9YxqodNB7RP1jGqh00HtE/WMaqHTQe0T+OOrleqhPXP446uV6qE9c/jjq5XqoT1z+OOrleqhPXP446uV6qE9c/jjq5XqoT1z+OOrleqhPXP446uV6qE9c/jjq5XqoT1z80uFUFwkTYPzS4VQXCRNg/NLhVBcJE2D80uFUFwkTYPw==",
          "dtype": "f8"
         },
         "yaxis": "y"
        },
        {
         "hovertemplate": "country=Pakistan<br>num_selections=%{x}<br>jsd=%{y}<extra></extra>",
         "legendgroup": "Pakistan",
         "marker": {
          "color": "#FFA15A",
          "symbol": "circle"
         },
         "mode": "markers",
         "name": "Pakistan",
         "showlegend": true,
         "type": "scattergl",
         "x": {
          "bdata": "AgQEBwIJBAQGBAIIBAcEBwIEBQUEBAQFAwsCBwYNBgIEBQcCCAMDBwYEBQMFBQQEAwc=",
          "dtype": "i1"
         },
         "xaxis": "x",
         "y": {
          "bdata": "azeiXeYJxz/J7D5glJ/WPytk1JaDEuA/sa+li7It0T/c1DNNrm+QP6y1Le9h0t8//mRUHiLd3D+NlH2vMmDVPxjff2TRWNE/+7XX59DE5j8qC9srpdzGP7ROx1zZnNY/7/ZoNJ0LwT/YLOUPKQHUPxY8LIlf9sM/OiJe1RZtxz+MPn6C2lq4P2c8ZpnBQMU/+voIn9yPsD8EtmVYflbAP3AAa9IEhNM/EAMnSxTJzj97E69XCe3hP9W75L9CqMM/oTXBOP6u0D+MRs7LSv7aP0Z9/ziNGck/OEQJ0jcu0j/kct4WoBvFPz9HQMLbG8g/zEfY9c8n2j8hIPiuDd3GP/XLXbMVK9Y/YVBW68cw0z/5l6G2q2PSP9ISpK5fnOI/rULuvF0W0D/qv8NmBDSzP0VI4z8Dxbk/GH+iJX4E3j/KDJYKj3nYP26LUtICFt4/7W9Ab93n0T/QuXwPL9LOP0vj8O+sjdE/MNH/hQW11z9soyJSw2jUP2ga72phO7U/QBn++C9l0T+EltJLdV7DPw==",
          "dtype": "f8"
         },
         "yaxis": "y"
        },
        {
         "hovertemplate": "<b>OLS trendline</b><br>jsd = 0.0105776 * num_selections + 0.227387<br>R<sup>2</sup>=0.027505<br><br>country=Pakistan<br>num_selections=%{x}<br>jsd=%{y} <b>(trend)</b><extra></extra>",
         "legendgroup": "Pakistan",
         "marker": {
          "color": "#FFA15A",
          "symbol": "circle"
         },
         "mode": "lines",
         "name": "Pakistan",
         "showlegend": false,
         "type": "scattergl",
         "x": {
          "bdata": "AgICAgICAgMDAwMDBAQEBAQEBAQEBAQEBAQEBQUFBQUFBQYGBgYHBwcHBwcHCAgJCw0=",
          "dtype": "i1"
         },
         "xaxis": "x",
         "y": {
          "bdata": "S5hMvj3Qzz9LmEy+PdDPP0uYTL490M8/S5hMvj3Qzz9LmEy+PdDPP0uYTL490M8/S5hMvj3Qzz8OUaaSbJXQPw5RppJsldA/DlGmkmyV0D8OUaaSbJXQPw5RppJsldA/91UmRrpC0T/3VSZGukLRP/dVJka6QtE/91UmRrpC0T/3VSZGukLRP/dVJka6QtE/91UmRrpC0T/3VSZGukLRP/dVJka6QtE/91UmRrpC0T/3VSZGukLRP/dVJka6QtE/91UmRrpC0T/3VSZGukLRP/dVJka6QtE/4Fqm+Qfw0T/gWqb5B/DRP+BapvkH8NE/4Fqm+Qfw0T/gWqb5B/DRP+BapvkH8NE/4Fqm+Qfw0T/JXyatVZ3SP8lfJq1VndI/yV8mrVWd0j/JXyatVZ3SP7JkpmCjStM/smSmYKNK0z+yZKZgo0rTP7JkpmCjStM/smSmYKNK0z+yZKZgo0rTP7JkpmCjStM/m2kmFPH30z+baSYU8ffTP4Rupsc+pdQ/VXimLtr/1T8ngqaVdVrXPw==",
          "dtype": "f8"
         },
         "yaxis": "y"
        },
        {
         "hovertemplate": "country=Pakistan (Non-national sample)<br>num_selections=%{x}<br>jsd=%{y}<extra></extra>",
         "legendgroup": "Pakistan (Non-national sample)",
         "marker": {
          "color": "#19d3f3",
          "symbol": "circle"
         },
         "mode": "markers",
         "name": "Pakistan (Non-national sample)",
         "showlegend": true,
         "type": "scattergl",
         "x": {
          "bdata": "BQMDBAMEBAQDAwMCBAIEBAMEBAIEAwICBQQEBAICAgQEAgIEAgQDAgQ=",
          "dtype": "i1"
         },
         "xaxis": "x",
         "y": {
          "bdata": "8EZifabN1z/8fZaSSpjZP6bHJTjUc8U/2HcTLfd9uz9YwRfDSvShP4zvV+2UqtI/4CVV+y9ZyD+3eo1SyzC2PyVTQy4zas8/+xlEOyxMzT+fV6AtCHrUP8zgATLywr4/Hm/I7CpK0z+lHE165TO2PxFAOh2SycY/PkqJ/3FW4D/TrCdfKBnAPwG8gZOw37w/XoL+MJEA2j+josY62DabP7fSEQ4ktuI/43h0LmP14T8LSFmZV4ubP+Ad2BmPiLU/m1UersbMzz9OZKW2Q9/jPyieu4YeheM/IaL0bzauyz8lwmhhDHTXP52c3+ropmo/Vcml7pdCxT8yQz0jK9PZP17kS3J5AMA/W4soXYWnsz/CHYKib7K+P1vc9+sGb9I/0TnoBkAvsz+hwX3mjyvdP9GzR8VQJ8s/5iDWgkAItz89B9X+EaLDPw==",
          "dtype": "f8"
         },
         "yaxis": "y"
        },
        {
         "hovertemplate": "<b>OLS trendline</b><br>jsd = 0.0914232 * num_selections + -0.057521<br>R<sup>2</sup>=0.246884<br><br>country=Pakistan (Non-national sample)<br>num_selections=%{x}<br>jsd=%{y} <b>(trend)</b><extra></extra>",
         "legendgroup": "Pakistan (Non-national sample)",
         "marker": {
          "color": "#19d3f3",
          "symbol": "circle"
         },
         "mode": "lines",
         "name": "Pakistan (Non-national sample)",
         "showlegend": false,
         "type": "scattergl",
         "x": {
          "bdata": "AgICAgICAgICAgICAwMDAwMDAwMDBAQEBAQEBAQEBAQEBAQEBAQEBQU=",
          "dtype": "i1"
         },
         "xaxis": "x",
         "y": {
          "bdata": "jLLfJaoKwD+Mst8lqgrAP4yy3yWqCsA/jLLfJaoKwD+Mst8lqgrAP4yy3yWqCsA/jLLfJaoKwD+Mst8lqgrAP4yy3yWqCsA/jLLfJaoKwD+Mst8lqgrAP4yy3yWqCsA/6XOMm2u+yz/pc4yba77LP+lzjJtrvss/6XOMm2u+yz/pc4yba77LP+lzjJtrvss/6XOMm2u+yz/pc4yba77LP+lzjJtrvss/o5qciBa50z+jmpyIFrnTP6OanIgWudM/o5qciBa50z+jmpyIFrnTP6OanIgWudM/o5qciBa50z+jmpyIFrnTP6OanIgWudM/o5qciBa50z+jmpyIFrnTP6OanIgWudM/o5qciBa50z+jmpyIFrnTP6OanIgWudM/o5qciBa50z+jmpyIFrnTP6OanIgWudM/UftyQ/eS2T9R+3JD95LZPw==",
          "dtype": "f8"
         },
         "yaxis": "y"
        },
        {
         "hovertemplate": "country=Palest. ter.<br>num_selections=%{x}<br>jsd=%{y}<extra></extra>",
         "legendgroup": "Palest. ter.",
         "marker": {
          "color": "#FF6692",
          "symbol": "circle"
         },
         "mode": "markers",
         "name": "Palest. ter.",
         "showlegend": true,
         "type": "scattergl",
         "x": {
          "bdata": "BAQEBAUFBAIEBgQEBgMEBAIGBQMDBAMLAgIEBAQCBgQCAgQCCwMFBQUCAgQDAgMGBAU=",
          "dtype": "i1"
         },
         "xaxis": "x",
         "y": {
          "bdata": "ld5ZWjcK4z89gV4rUgq8PxoKKDLusLY/keusYvJTxz9+RoU4zrjVP/NgIkGbjs0/dLzOpwio1T90AOAQPHC9P+3E26r0ocg/7bsSYRALwT+5Q8y9emLhP6dhtqkrWdY/yVxLcsYYyz83tux4U+C5P01pYJqxTK4/uEqlFj59tj+XImr6bly7Px0ZqzTQadU/vAoaJRIszD/qZNiJlj2qPwTq0gDJOMk/VWLMRtIZyz+MHWYYO9PDP0ouBHlGesw/UTNDEV8b0j/ZJpaAStOzP7VNuPqfy7g/XTWKTO7ltz/TDGUi5/O0P/oGKkxM6ZM/6wMl4vHQzT/iPog4azbSP9YPpO+UBk8/jpX/ZF5riD/EPZLcT5bIPx12Ei8obc0/90t5GIjMvj8SjMy7XcXPP6X+vHOk6Mw/ztRj5JC7yD8puI8MmA3KP+RUgMbr5LQ/TalsfkPYxj+tu8QtVwjeP4+cvPNibtM/WjqGxdUMmj8bbqKnpZKoP1Eth1ibjbk/KkEIFsqg5D9aK1Ncv/fIPw==",
          "dtype": "f8"
         },
         "yaxis": "y"
        },
        {
         "hovertemplate": "<b>OLS trendline</b><br>jsd = 0.0129335 * num_selections + 0.144092<br>R<sup>2</sup>=0.029279<br><br>country=Palest. ter.<br>num_selections=%{x}<br>jsd=%{y} <b>(trend)</b><extra></extra>",
         "legendgroup": "Palest. ter.",
         "marker": {
          "color": "#FF6692",
          "symbol": "circle"
         },
         "mode": "lines",
         "name": "Palest. ter.",
         "showlegend": false,
         "type": "scattergl",
         "x": {
          "bdata": "AgICAgICAgICAgIDAwMDAwMDBAQEBAQEBAQEBAQEBAQEBAQEBQUFBQUFBQYGBgYGCws=",
          "dtype": "i1"
         },
         "xaxis": "x",
         "y": {
          "bdata": "BzV4DjjBxT8HNXgOOMHFPwc1eA44wcU/BzV4DjjBxT8HNXgOOMHFPwc1eA44wcU/BzV4DjjBxT8HNXgOOMHFPwc1eA44wcU/BzV4DjjBxT8HNXgOOMHFPxKa+lAGacc/Epr6UAZpxz8SmvpQBmnHPxKa+lAGacc/Epr6UAZpxz8SmvpQBmnHPxKa+lAGacc/HP98k9QQyT8c/3yT1BDJPxz/fJPUEMk/HP98k9QQyT8c/3yT1BDJPxz/fJPUEMk/HP98k9QQyT8c/3yT1BDJPxz/fJPUEMk/HP98k9QQyT8c/3yT1BDJPxz/fJPUEMk/HP98k9QQyT8c/3yT1BDJPxz/fJPUEMk/HP98k9QQyT8c/3yT1BDJPxz/fJPUEMk/KGT/1aK4yj8oZP/VorjKPyhk/9WiuMo/KGT/1aK4yj8oZP/VorjKPyhk/9WiuMo/KGT/1aK4yj8yyYEYcWDMPzLJgRhxYMw/MsmBGHFgzD8yyYEYcWDMPzLJgRhxYMw/NOGGMrxT0j804YYyvFPSPw==",
          "dtype": "f8"
         },
         "yaxis": "y"
        },
        {
         "hovertemplate": "country=Peru<br>num_selections=%{x}<br>jsd=%{y}<extra></extra>",
         "legendgroup": "Peru",
         "marker": {
          "color": "#B6E880",
          "symbol": "circle"
         },
         "mode": "markers",
         "name": "Peru",
         "showlegend": true,
         "type": "scattergl",
         "x": {
          "bdata": "BAMGBAUEAgIFCwQGBQsEAwQDCAQFAwQEAwUFAgcNAw0EAgUFBQYHBQUHBwMECw4NBAY=",
          "dtype": "i1"
         },
         "xaxis": "x",
         "y": {
          "bdata": "dZ2/8e0WuD8aXXYBKZvTPwn4zq65rNw/AKryqeT02z+bCHoqXojJPyai8jrOe9Q/RHPn+qtjjz9bXboAt9fJP53Ttax1h9I/XD+H1G3+3z8H7hh9LWLAP7P/m1hbmdM/n1Ae3Kg+zz+ejQ+Ep8jGP4t3G5kEC9I/2dOhMle/xT9Uk4lN8zy5P0HKz3VDvM8/Za9ObH8T0D/RZNP2WiXKP/PRvlfLar8/BrUsRv865D/VppyuiyvIP8oY8RewZ8k/Lk39gxtJiT+9iS0IBDjMP4O/ClgR0cQ/ipZg6ojhyj93wgVWQ0bIP5HF4L7sAtQ/Arf1KtZXrz9J47ToinjSP5zKxTn/usA/zwQHlEYqyT8hb45+GeTJPzKqSg6RxtI/x8X55W3Bzj9kB3QUCVHSP90Ps5IIktc/O7tnelwVyj/jRujLWObXP5F43+1BPdY/xpFYVsumwj9ACfqIbKLCP7GnKVOc+8o/YHfc2ust0z8y/NpRvE3kP38nMTX5VcM/nnMTOHjn0z8aiEqunwrQPw==",
          "dtype": "f8"
         },
         "yaxis": "y"
        },
        {
         "hovertemplate": "<b>OLS trendline</b><br>jsd = 0.0153519 * num_selections + 0.1609<br>R<sup>2</sup>=0.135826<br><br>country=Peru<br>num_selections=%{x}<br>jsd=%{y} <b>(trend)</b><extra></extra>",
         "legendgroup": "Peru",
         "marker": {
          "color": "#B6E880",
          "symbol": "circle"
         },
         "mode": "lines",
         "name": "Peru",
         "showlegend": false,
         "type": "scattergl",
         "x": {
          "bdata": "AgICAgMDAwMDAwMEBAQEBAQEBAQEBAQFBQUFBQUFBQUFBQYGBgYHBwcHCAsLCw0NDQ4=",
          "dtype": "i1"
         },
         "xaxis": "x",
         "y": {
          "bdata": "DhiaKHiGyD8OGJooeIbIPw4Ymih4hsg/DhiaKHiGyD95WRmLhX3KP3lZGYuFfco/eVkZi4V9yj95WRmLhX3KP3lZGYuFfco/eVkZi4V9yj95WRmLhX3KP+WamO2SdMw/5ZqY7ZJ0zD/lmpjtknTMP+WamO2SdMw/5ZqY7ZJ0zD/lmpjtknTMP+WamO2SdMw/5ZqY7ZJ0zD/lmpjtknTMP+WamO2SdMw/5ZqY7ZJ0zD/lmpjtknTMP1HcF1Cga84/UdwXUKBrzj9R3BdQoGvOP1HcF1Cga84/UdwXUKBrzj9R3BdQoGvOP1HcF1Cga84/UdwXUKBrzj9R3BdQoGvOP1HcF1Cga84/UdwXUKBrzj/ejkvZVjHQP96OS9lWMdA/3o5L2VYx0D/ejkvZVjHQP5Qvi4rdLNE/lC+Lit0s0T+UL4uK3SzRP5Qvi4rdLNE/StDKO2Qo0j9ssolP+BrVP2yyiU/4GtU/bLKJT/ga1T/Y8wiyBRLXP9jzCLIFEtc/2PMIsgUS1z+NlEhjjA3YPw==",
          "dtype": "f8"
         },
         "yaxis": "y"
        },
        {
         "hovertemplate": "country=Philippines<br>num_selections=%{x}<br>jsd=%{y}<extra></extra>",
         "legendgroup": "Philippines",
         "marker": {
          "color": "#FF97FF",
          "symbol": "circle"
         },
         "mode": "markers",
         "name": "Philippines",
         "showlegend": true,
         "type": "scattergl",
         "x": {
          "bdata": "DQ4FBgYFBwQNBwUNAgcFAwMLBw0HBQQDAgUFBA0EBAcHBwQHBwUEBwMFBQQEBQUGDQU=",
          "dtype": "i1"
         },
         "xaxis": "x",
         "y": {
          "bdata": "F4Qh257ZzD9vnk9aUmLQP71QdIGYmrg/eDqqjwSS0D+QPAph00rGP59PDw4PHMQ/I2Ond6zB2z9xRoTRA0TQP2vDDQdXm9k/oeXb0Vh13D/lO+MkhQ7gP5KNJdvILNY/9swlxJZ0sT+Rini5Hb7MPzvvOinwds0/Ht6zk/za0z/mLFk86dKiPzu0rwi4uMk/GRkkNHF10j9jEocOYCTRPzbWECshzcQ/Qq7+jZWg1T9O2Zp/SFS4P5fZ71xA8cU/jXsSELq9oj9y3X0LQxnNP5xJ+ujwK+E/t8t77myf0j+78MCX8bvJP2T4/GXd698/eOwcL6pa0D9A83/KybfQP7dMjuWv478/xQVsFlR13T/6sO77TDbRP9Wg9WUsiNk/dHdvAYrc0j8Wubf5QiS9P4iSLmptftI/021PtLit4z9oJ5CYWQ3RP3aUPH11e9Y/4Ju1Sdtq0T9BhrZrq6nSP4bFHGKbGcc/sBffTr8Swj9Vvx5FVNXaPwGkQaQeqMQ/BVrzKFdazD8k7lOg1lGwPw==",
          "dtype": "f8"
         },
         "yaxis": "y"
        },
        {
         "hovertemplate": "<b>OLS trendline</b><br>jsd = 0.00665596 * num_selections + 0.221766<br>R<sup>2</sup>=0.026009<br><br>country=Philippines<br>num_selections=%{x}<br>jsd=%{y} <b>(trend)</b><extra></extra>",
         "legendgroup": "Philippines",
         "marker": {
          "color": "#FF97FF",
          "symbol": "circle"
         },
         "mode": "lines",
         "name": "Philippines",
         "showlegend": false,
         "type": "scattergl",
         "x": {
          "bdata": "AgIDAwMDBAQEBAQEBAQEBQUFBQUFBQUFBQUFBQYGBgcHBwcHBwcHBwcHCw0NDQ0NDQ4=",
          "dtype": "i1"
         },
         "xaxis": "x",
         "y": {
          "bdata": "A86e3gsXzj8Dzp7eCxfOP0uTABMm8c4/S5MAEybxzj9LkwATJvHOP0uTABMm8c4/k1hiR0DLzz+TWGJHQMvPP5NYYkdAy88/k1hiR0DLzz+TWGJHQMvPP5NYYkdAy88/k1hiR0DLzz+TWGJHQMvPP5NYYkdAy88/7g7iPa1S0D/uDuI9rVLQP+4O4j2tUtA/7g7iPa1S0D/uDuI9rVLQP+4O4j2tUtA/7g7iPa1S0D/uDuI9rVLQP+4O4j2tUtA/7g7iPa1S0D/uDuI9rVLQP+4O4j2tUtA/7g7iPa1S0D+S8RJYur/QP5LxEli6v9A/kvESWLq/0D821ENyxyzRPzbUQ3LHLNE/NtRDcscs0T821ENyxyzRPzbUQ3LHLNE/NtRDcscs0T821ENyxyzRPzbUQ3LHLNE/NtRDcscs0T821ENyxyzRPzbUQ3LHLNE/x14H2/vg0j8PJGkPFrvTPw8kaQ8Wu9M/DyRpDxa70z8PJGkPFrvTPw8kaQ8Wu9M/DyRpDxa70z+zBpopIyjUPw==",
          "dtype": "f8"
         },
         "yaxis": "y"
        },
        {
         "hovertemplate": "country=Philippines (Non-national sample)<br>num_selections=%{x}<br>jsd=%{y}<extra></extra>",
         "legendgroup": "Philippines (Non-national sample)",
         "marker": {
          "color": "#FECB52",
          "symbol": "circle"
         },
         "mode": "markers",
         "name": "Philippines (Non-national sample)",
         "showlegend": true,
         "type": "scattergl",
         "x": {
          "bdata": "CA==",
          "dtype": "i1"
         },
         "xaxis": "x",
         "y": {
          "bdata": "SPpDBKF24j8=",
          "dtype": "f8"
         },
         "yaxis": "y"
        },
        {
         "hovertemplate": "country=Philippines (Non-national sample)<extra></extra>",
         "legendgroup": "Philippines (Non-national sample)",
         "marker": {
          "color": "#FECB52",
          "symbol": "circle"
         },
         "mode": "lines",
         "name": "Philippines (Non-national sample)",
         "showlegend": false,
         "type": "scattergl",
         "xaxis": "x",
         "yaxis": "y"
        },
        {
         "hovertemplate": "country=Poland<br>num_selections=%{x}<br>jsd=%{y}<extra></extra>",
         "legendgroup": "Poland",
         "marker": {
          "color": "#636efa",
          "symbol": "circle"
         },
         "mode": "markers",
         "name": "Poland",
         "showlegend": true,
         "type": "scattergl",
         "x": {
          "bdata": "AwQCAwQDBAQDAwUEBQUHBQcFBAIFBgMEAgUHBQYDAgQEBwYEBAQDAwUCAgUGBwUEBAM=",
          "dtype": "i1"
         },
         "xaxis": "x",
         "y": {
          "bdata": "OadYtWXPsz+p269idZvHP66WeOYy0oA/XAeVm9jOzz+mDuOnJp/AP6FZUQ9IOdY/oesuP9+K1z+s9zFBYxiyP3Ai1wUni9I/3x45MWAyyD/MqRaPFCjWP3cH0HL68sI/AvR8+Uljwz8sDya0XwvRPwi45uL6Tsw/n2ct9wgT0D945LHFGfLSP2Sbnv4NNdw/l8UroZbJqj+24mF2KD+yPyjkyJNw0tU/rD04HYF20D/EAhQa4j3NP/vlmo++7cQ/CZv/rmU0wz+Vgyut7j27P6QKjn6Rb8M/gxvpvoJV4z9Z1Vbp59HAP25NaZi4LM8/GybXKm1MyD/XeoWRAJDEP+DZ6EXWy9Q/GLYwS2tB0D9wtqyps7rXP68zDUlVKco/e9zG4cZQ1D/GXDMe+QTIP4MPk8Guar4/o/UM+q3lwD8jYZ3I+0HDP+Rlh8chlK0/8ArPdYdj0D+nmywMf1TIPy3kNeQys8c/6N0C0SErwT+E4UBbkjnQP74mMyGMfsk/FBO1OJm7xT/qHxT0KvDXPw==",
          "dtype": "f8"
         },
         "yaxis": "y"
        },
        {
         "hovertemplate": "<b>OLS trendline</b><br>jsd = 0.0180672 * num_selections + 0.138713<br>R<sup>2</sup>=0.055209<br><br>country=Poland<br>num_selections=%{x}<br>jsd=%{y} <b>(trend)</b><extra></extra>",
         "legendgroup": "Poland",
         "marker": {
          "color": "#636efa",
          "symbol": "circle"
         },
         "mode": "lines",
         "name": "Poland",
         "showlegend": false,
         "type": "scattergl",
         "x": {
          "bdata": "AgICAgICAwMDAwMDAwMDAwQEBAQEBAQEBAQEBAQEBQUFBQUFBQUFBQUGBgYGBwcHBwc=",
          "dtype": "i1"
         },
         "xaxis": "x",
         "y": {
          "bdata": "EOKFpGZhxj8Q4oWkZmHGPxDihaRmYcY/EOKFpGZhxj8Q4oWkZmHGPxDihaRmYcY/5amiD22xyD/lqaIPbbHIP+Wpog9tscg/5amiD22xyD/lqaIPbbHIP+Wpog9tscg/5amiD22xyD/lqaIPbbHIP+Wpog9tscg/5amiD22xyD+5cb96cwHLP7lxv3pzAcs/uXG/enMByz+5cb96cwHLP7lxv3pzAcs/uXG/enMByz+5cb96cwHLP7lxv3pzAcs/uXG/enMByz+5cb96cwHLP7lxv3pzAcs/uXG/enMByz+5cb96cwHLP7lxv3pzAcs/jTnc5XlRzT+NOdzleVHNP4053OV5Uc0/jTnc5XlRzT+NOdzleVHNP4053OV5Uc0/jTnc5XlRzT+NOdzleVHNP4053OV5Uc0/jTnc5XlRzT+NOdzleVHNP2IB+VCAoc8/YgH5UIChzz9iAflQgKHPP2IB+VCAoc8/m+QKXsP40D+b5Apew/jQP5vkCl7D+NA/m+QKXsP40D+b5Apew/jQPw==",
          "dtype": "f8"
         },
         "yaxis": "y"
        },
        {
         "hovertemplate": "country=Poland (Non-national sample)<br>num_selections=%{x}<br>jsd=%{y}<extra></extra>",
         "legendgroup": "Poland (Non-national sample)",
         "marker": {
          "color": "#EF553B",
          "symbol": "circle"
         },
         "mode": "markers",
         "name": "Poland (Non-national sample)",
         "showlegend": true,
         "type": "scattergl",
         "x": {
          "bdata": "AwIDAwMCAgUCAg==",
          "dtype": "i1"
         },
         "xaxis": "x",
         "y": {
          "bdata": "m8d+5cBB0j8PkH80hvjTPyWEhbO9pds/DnOngJcEzD9GOgKOCzOfPz9Sa82Oe5o/ofWqKyZ2tz+hb0UR5AHYPxMZM5lMGcg/Ym1cnbIVlj8=",
          "dtype": "f8"
         },
         "yaxis": "y"
        },
        {
         "hovertemplate": "<b>OLS trendline</b><br>jsd = 0.0870587 * num_selections + -0.0369465<br>R<sup>2</sup>=0.295990<br><br>country=Poland (Non-national sample)<br>num_selections=%{x}<br>jsd=%{y} <b>(trend)</b><extra></extra>",
         "legendgroup": "Poland (Non-national sample)",
         "marker": {
          "color": "#EF553B",
          "symbol": "circle"
         },
         "mode": "lines",
         "name": "Poland (Non-national sample)",
         "showlegend": false,
         "type": "scattergl",
         "x": {
          "bdata": "AgICAgIDAwMDBQ==",
          "dtype": "i1"
         },
         "xaxis": "x",
         "y": {
          "bdata": "LO9ou9COwT8s72i70I7BPyzvaLvQjsE/LO9ou9COwT8s72i70I7BP4KUu8ONs8w/gpS7w42zzD+ClLvDjbPMP4KUu8ONs8w/lW8w6oN+2T8=",
          "dtype": "f8"
         },
         "yaxis": "y"
        },
        {
         "hovertemplate": "country=Portugal<br>num_selections=%{x}<br>jsd=%{y}<extra></extra>",
         "legendgroup": "Portugal",
         "marker": {
          "color": "#00cc96",
          "symbol": "circle"
         },
         "mode": "markers",
         "name": "Portugal",
         "showlegend": true,
         "type": "scattergl",
         "x": {
          "bdata": "DQUHBwcHBw0ODQUHBw4HBQcHBw0FCA4FBQ4NBQcHBwcICAUOBQcIDQcNBwcODQ0GBw4=",
          "dtype": "i1"
         },
         "xaxis": "x",
         "y": {
          "bdata": "Fvhpml502D9GbdEngKDVP7F77clwFdk/5lBK0rQZ1D+abMku2u3OP/CN/0S+cdw/X8xIYdKzwD+n8QaIZNnQP9fb1QJOIdE/iX52ILS62D89nUcWLiXGP/xiowexk9s/xI6YYVZ8zj85IA5LtFrkP/9Ta+BhvNY/itVjYoYhzD99Qix0rq3HP5LA9ZKkVdE/Negjt5gyyT8/wCLsTm7PP54vmkDFidI/qxN0Udcf1D9gL1VItcXRP4HfWoNzlco/B+iXSLw83j+TtUpxXv7jPyJHuTvz4Nc/FomVydJEyT+9rVx6VdLHP/1mSlAa48s/UNnKL2JHvD82iQK7kBXTP+HxQZz6ftQ/KhOGT3HaxT+pV4UPUfLNP0sk9yl92Mg/lMRsRGo73j+oIqbsqXHgP6st5qh8htA/q5vWIoCSzj8/xNT6WbDKP1Q45ymNwck/BlRwbL9a0j9tNaiK3BHGP6c4ry2M9+E/fftqhEDo0T9AMbvaZbLSPwcgxQQoUtQ/VN35oZzIyz8KtbbSRJHhPw==",
          "dtype": "f8"
         },
         "yaxis": "y"
        },
        {
         "hovertemplate": "<b>OLS trendline</b><br>jsd = 0.0119132 * num_selections + 0.19903<br>R<sup>2</sup>=0.102131<br><br>country=Portugal<br>num_selections=%{x}<br>jsd=%{y} <b>(trend)</b><extra></extra>",
         "legendgroup": "Portugal",
         "marker": {
          "color": "#00cc96",
          "symbol": "circle"
         },
         "mode": "lines",
         "name": "Portugal",
         "showlegend": false,
         "type": "scattergl",
         "x": {
          "bdata": "BQUFBQUFBQUFBgcHBwcHBwcHBwcHBwcHBwcHBwcHCAgICA0NDQ0NDQ0NDQ4ODg4ODg4=",
          "dtype": "i1"
         },
         "xaxis": "x",
         "y": {
          "bdata": "ujF719SM0D+6MXvX1IzQP7oxe9fUjNA/ujF719SM0D+6MXvX1IzQP7oxe9fUjNA/ujF719SM0D+6MXvX1IzQP7oxe9fUjNA/NJ3kRgRQ0T+uCE62MxPSP64ITrYzE9I/rghOtjMT0j+uCE62MxPSP64ITrYzE9I/rghOtjMT0j+uCE62MxPSP64ITrYzE9I/rghOtjMT0j+uCE62MxPSP64ITrYzE9I/rghOtjMT0j+uCE62MxPSP64ITrYzE9I/rghOtjMT0j+uCE62MxPSP64ITrYzE9I/rghOtjMT0j+uCE62MxPSP64ITrYzE9I/KHS3JWPW0j8odLclY9bSPyh0tyVj1tI/KHS3JWPW0j+KjcZSUKbWP4qNxlJQptY/io3GUlCm1j+KjcZSUKbWP4qNxlJQptY/io3GUlCm1j+KjcZSUKbWP4qNxlJQptY/io3GUlCm1j8E+S/Cf2nXPwT5L8J/adc/BPkvwn9p1z8E+S/Cf2nXPwT5L8J/adc/BPkvwn9p1z8E+S/Cf2nXPw==",
          "dtype": "f8"
         },
         "yaxis": "y"
        },
        {
         "hovertemplate": "country=Puerto Rico<br>num_selections=%{x}<br>jsd=%{y}<extra></extra>",
         "legendgroup": "Puerto Rico",
         "marker": {
          "color": "#ab63fa",
          "symbol": "circle"
         },
         "mode": "markers",
         "name": "Puerto Rico",
         "showlegend": true,
         "type": "scattergl",
         "x": {
          "bdata": "BwUHBwcOBQcGCAUFBwgNBwUGBwcNBQcFBQYHBwcNBwcGBw0OBQYGBwYGBg0GBwcNBwY=",
          "dtype": "i1"
         },
         "xaxis": "x",
         "y": {
          "bdata": "zoGrSJKx4T+74JLh+l/TP7gQDps0iuM/ec48Z2qPyD/2Ws7vMgHWP6HgcGRxUt4/Imjcl5iN0D+kQgcIF7vgPwB+RMBzw9M/JFB5GpSsyT/59A4v4OrRPwafGXuKEM0/QEJCJkvauz8AAAAAAAD4fxtqDy/9gNo/qewkPl4H0z+U/bTljXfRP8cO2LLqdcc/iKoIh/VQ3D8c2hgturrJP2FoSyJUCNE/TQwp+R0yzT/o9DW0noPNPz49kmapeNA/HoQGz3DK3z8+OpgTa5LWP6Nt2BqJ1dw/JDlEeedywz/YsHI2vP3IP4i+gZ9EBdU/QEOqveG5zD/7f3rFGGfYP7fteQN7ANg/9DJUhc+M0j/jO1Fb4zDcP9llTDrXf+k/3gQq+ljv0T90E+2J+JrKPziQToU6ouY/eG19EWmSxj9wL7a/R/PFP+Pa4L6TGNE/gkCG8eBR2T8O+JnzzBrWP06lLx2PbNc/ze9S30Fe2T/UFUZNGl/OP9V3FtXCbNA/oRJ1oXQt0D+bJ6lhLijJPw==",
          "dtype": "f8"
         },
         "yaxis": "y"
        },
        {
         "hovertemplate": "<b>OLS trendline</b><br>jsd = 0.0156679 * num_selections + 0.208111<br>R<sup>2</sup>=0.088035<br><br>country=Puerto Rico<br>num_selections=%{x}<br>jsd=%{y} <b>(trend)</b><extra></extra>",
         "legendgroup": "Puerto Rico",
         "marker": {
          "color": "#ab63fa",
          "symbol": "circle"
         },
         "mode": "lines",
         "name": "Puerto Rico",
         "showlegend": false,
         "type": "scattergl",
         "x": {
          "bdata": "BQUFBQUFBQUFBgYGBgYGBgYGBgYHBwcHBwcHBwcHBwcHBwcHBwcHBwgNDQ0NDQ0ODg==",
          "dtype": "i1"
         },
         "xaxis": "x",
         "y": {
          "bdata": "CVGK+jJV0j8JUYr6MlXSPwlRivoyVdI/CVGK+jJV0j8JUYr6MlXSPwlRivoyVdI/CVGK+jJV0j8JUYr6MlXSPwlRivoyVdI/ohZg8+ZV0z+iFmDz5lXTP6IWYPPmVdM/ohZg8+ZV0z+iFmDz5lXTP6IWYPPmVdM/ohZg8+ZV0z+iFmDz5lXTP6IWYPPmVdM/ohZg8+ZV0z+iFmDz5lXTPzzcNeyaVtQ/PNw17JpW1D883DXsmlbUPzzcNeyaVtQ/PNw17JpW1D883DXsmlbUPzzcNeyaVtQ/PNw17JpW1D883DXsmlbUPzzcNeyaVtQ/PNw17JpW1D883DXsmlbUPzzcNeyaVtQ/PNw17JpW1D883DXsmlbUPzzcNeyaVtQ/PNw17JpW1D883DXsmlbUPzzcNeyaVtQ/PNw17JpW1D/WoQvlTlfVP9V9OMHSWto/1X04wdJa2j/VfTjB0lraP9V9OMHSWto/1X04wdJa2j/VfTjB0lraP25DDrqGW9s/bkMOuoZb2z8=",
          "dtype": "f8"
         },
         "yaxis": "y"
        },
        {
         "hovertemplate": "country=Romania<br>num_selections=%{x}<br>jsd=%{y}<extra></extra>",
         "legendgroup": "Romania",
         "marker": {
          "color": "#FFA15A",
          "symbol": "circle"
         },
         "mode": "markers",
         "name": "Romania",
         "showlegend": true,
         "type": "scattergl",
         "x": {
          "bdata": "Bg0ODQUNBgcGDQ0HDgYGCAUHBwcFCAYHDQcHDQ0FCAYHBwgFBwYHBQ0HBwUGBwcHCAc=",
          "dtype": "i1"
         },
         "xaxis": "x",
         "y": {
          "bdata": "IhjD/veM1D8CU3+6k17BP+Z4y/iaftI/Skg6pnRs0D8heZsi9P/DP7jv8ijkmsM/kEvAdaYlwT+bpIVHDb2vP+kBSGLmmsU/CrvtYThp2j+goHaS9PPVP8GbzKEqYd4/o7kWPhuK0z+X181j2pTDP7zJn00nyNA/h7bESZS5xD8lJCtvWJnWP71jUCtY9Ns/Qj3mtr4N0j/3UVw5O/u+P+Wk8fC3YcU/PA1BWkkN1D9zmpWsWTLLP/HxapHsNM0/3MViZ95z1T+aB4uuzuLJP9UmHJfMxNs/QsHIjAmQzj8LvUoSAlTOP49GecsKm8M/d2w9Bc6VzD/Fk23GXNfOPy4CtBLcIcw/Hd1wJexvvT8L4bCQSOXQPwzYRpdHTsw/e/KFvWQCwj+xLfQpFhjCP7skB/U2J7g/3a+FEbrwvD/zY+9z6TzFP3X0fM/kFcU/ciN9ZVuBsz+XBQMITPDSP+zN5iUvJ8w/21ULREm8wD+h7Udcw4bPPz6VpZ2O6cg/AAAAAAAA+H/RLCnlHwW5Pw==",
          "dtype": "f8"
         },
         "yaxis": "y"
        },
        {
         "hovertemplate": "<b>OLS trendline</b><br>jsd = 0.00760405 * num_selections + 0.16099<br>R<sup>2</sup>=0.051473<br><br>country=Romania<br>num_selections=%{x}<br>jsd=%{y} <b>(trend)</b><extra></extra>",
         "legendgroup": "Romania",
         "marker": {
          "color": "#FFA15A",
          "symbol": "circle"
         },
         "mode": "lines",
         "name": "Romania",
         "showlegend": false,
         "type": "scattergl",
         "x": {
          "bdata": "BQUFBQUFBQYGBgYGBgYGBgcHBwcHBwcHBwcHBwcHBwcHBwgICAgNDQ0NDQ0NDQ0ODg==",
          "dtype": "i1"
         },
         "xaxis": "x",
         "y": {
          "bdata": "8nvv0Sl5yT/ye+/RKXnJP/J779Epeck/8nvv0Sl5yT/ye+/RKXnJP/J779Epeck/8nvv0Sl5yT80kyc6VXLKPzSTJzpVcso/NJMnOlVyyj80kyc6VXLKPzSTJzpVcso/NJMnOlVyyj80kyc6VXLKPzSTJzpVcso/NJMnOlVyyj93ql+igGvLP3eqX6KAa8s/d6pfooBryz93ql+igGvLP3eqX6KAa8s/d6pfooBryz93ql+igGvLP3eqX6KAa8s/d6pfooBryz93ql+igGvLP3eqX6KAa8s/d6pfooBryz93ql+igGvLP3eqX6KAa8s/d6pfooBryz93ql+igGvLP3eqX6KAa8s/d6pfooBryz+6wZcKrGTMP7rBlwqsZMw/usGXCqxkzD+6wZcKrGTMPwQb2IlCodA/BBvYiUKh0D8EG9iJQqHQPwQb2IlCodA/BBvYiUKh0D8EG9iJQqHQPwQb2IlCodA/BBvYiUKh0D8EG9iJQqHQP6Um9D3YHdE/pSb0Pdgd0T8=",
          "dtype": "f8"
         },
         "yaxis": "y"
        },
        {
         "hovertemplate": "country=Russia<br>num_selections=%{x}<br>jsd=%{y}<extra></extra>",
         "legendgroup": "Russia",
         "marker": {
          "color": "#19d3f3",
          "symbol": "circle"
         },
         "mode": "markers",
         "name": "Russia",
         "showlegend": true,
         "type": "scattergl",
         "x": {
          "bdata": "AgcEAwMGCwUFBAYNBwUEBAQCBgMFAgQCBAUEAwQDCwUEDQINCgIEBgIFBwcEBAQDBw0=",
          "dtype": "i1"
         },
         "xaxis": "x",
         "y": {
          "bdata": "I1RVTlDD2D+rEOCMcgfVP9MCrLEgjsk/zWuZ5tnT0D936EtEXBDBP2apN7VQd8A/gGT8xYxx3j9GykhM9kG9P7dsZS6K2dw/72dSc5sM0j9AXLt1EhjDP+5fxaszpNA/zCuNdp2suj8U9ah0NQi+P5W6GNkAzcE/mg6E9wa40D9ZTkuJwHm+P9nPL/7a3tA/3AYdd/Ld1j8VGVlvey3SP80EZdQ8INM/A1XsQs4lsT/8pJhUnszTPygBZP/RNMg/BfPXrDtavz/7kZ6tILvbP0IGVynuQ9c/cbBJmWzjqD/NWFpLwuvZP4DKA9nKldk/Nb8dSm/T4j/Zo1r5z2W6P1XPtwOv0Mo//yV1HXzu6j8i/ESUZkW3P4Oz3y5LIdU/X8i18udtzT9Y1g09s7/FP9mCBBlsW7E/XgRLdTXWzD/u/MhyR5zCP4YnY7whvcU/6QtcpfuN1D9+jLpsZHTUP5AIRRMyI64/vVVqBDA2sj//XLOYzyPDPwcpZiNjXKM/G6l8iR0axT+/ct4/2aTEPw==",
          "dtype": "f8"
         },
         "yaxis": "y"
        },
        {
         "hovertemplate": "<b>OLS trendline</b><br>jsd = 0.0227843 * num_selections + 0.117002<br>R<sup>2</sup>=0.209774<br><br>country=Russia<br>num_selections=%{x}<br>jsd=%{y} <b>(trend)</b><extra></extra>",
         "legendgroup": "Russia",
         "marker": {
          "color": "#19d3f3",
          "symbol": "circle"
         },
         "mode": "lines",
         "name": "Russia",
         "showlegend": false,
         "type": "scattergl",
         "x": {
          "bdata": "AgICAgICAgMDAwMDAwQEBAQEBAQEBAQEBAQEBQUFBQUFBQYGBgYHBwcHBwoLCw0NDQ0=",
          "dtype": "i1"
         },
         "xaxis": "x",
         "y": {
          "bdata": "VgyFiiDPxD9WDIWKIM/EP1YMhYogz8Q/VgyFiiDPxD9WDIWKIM/EP1YMhYogz8Q/VgyFiiDPxD84EuNTubnHPzgS41O5ucc/OBLjU7m5xz84EuNTubnHPzgS41O5ucc/OBLjU7m5xz8aGEEdUqTKPxoYQR1SpMo/GhhBHVKkyj8aGEEdUqTKPxoYQR1SpMo/GhhBHVKkyj8aGEEdUqTKPxoYQR1SpMo/GhhBHVKkyj8aGEEdUqTKPxoYQR1SpMo/GhhBHVKkyj8aGEEdUqTKPxoYQR1SpMo//B2f5uqOzT/8HZ/m6o7NP/wdn+bqjs0//B2f5uqOzT/8HZ/m6o7NP/wdn+bqjs0//B2f5uqOzT/wkf7XwTzQP/CR/tfBPNA/8JH+18E80D/wkf7XwTzQP+CUrTwOstE/4JStPA6y0T/glK08DrLRP+CUrTwOstE/4JStPA6y0T+0nbpq8xHWP6Sgac8/h9c/pKBpzz+H1z+IpseY2HHaP4imx5jYcdo/iKbHmNhx2j+IpseY2HHaPw==",
          "dtype": "f8"
         },
         "yaxis": "y"
        },
        {
         "hovertemplate": "country=Russia (Non-national sample)<br>num_selections=%{x}<br>jsd=%{y}<extra></extra>",
         "legendgroup": "Russia (Non-national sample)",
         "marker": {
          "color": "#FF6692",
          "symbol": "circle"
         },
         "mode": "markers",
         "name": "Russia (Non-national sample)",
         "showlegend": true,
         "type": "scattergl",
         "x": {
          "bdata": "AwQCCAMEAwICAwQCBAUCAgIDAgIDBAQDBA==",
          "dtype": "i1"
         },
         "xaxis": "x",
         "y": {
          "bdata": "ag8ZPazK0j+xI+ZUuP7DP7moPIgS9bM/kivi4KO94j9K8Xep/IbhP5tSrvf06M4/RbjorTruqD8xiD+y4Ia7PxM64C8Igcc/kHjNB8hG1T/SsKvIxyGsP4nbVqmnnrs/IszwEo94xT8ugAel7R/QPyme4naKacQ/F+q9nHJzsD+5lcAAKu3HP1HZjHh/kL4/oMEEOCr4sz9by1zXPjbFPyJjp9CVR7Q/FqSXYoXYwT9Eblgt8WrLP9/ilU9w5ME/VnAJCfZy0j8=",
          "dtype": "f8"
         },
         "yaxis": "y"
        },
        {
         "hovertemplate": "<b>OLS trendline</b><br>jsd = 0.0591956 * num_selections + 0.0022591<br>R<sup>2</sup>=0.342321<br><br>country=Russia (Non-national sample)<br>num_selections=%{x}<br>jsd=%{y} <b>(trend)</b><extra></extra>",
         "legendgroup": "Russia (Non-national sample)",
         "marker": {
          "color": "#FF6692",
          "symbol": "circle"
         },
         "mode": "lines",
         "name": "Russia (Non-national sample)",
         "showlegend": false,
         "type": "scattergl",
         "x": {
          "bdata": "AgICAgICAgICAwMDAwMDAwQEBAQEBAQFCA==",
          "dtype": "i1"
         },
         "xaxis": "x",
         "y": {
          "bdata": "lwXNbPHivj+XBc1s8eK+P5cFzWzx4r4/lwXNbPHivj+XBc1s8eK+P5cFzWzx4r4/lwXNbPHivj+XBc1s8eK+P5cFzWzx4r4/IKZTtzEFxz8gplO3MQXHPyCmU7cxBcc/IKZTtzEFxz8gplO3MQXHPyCmU7cxBcc/IKZTtzEFxz90yUC46pjOP3TJQLjqmM4/dMlAuOqYzj90yUC46pjOP3TJQLjqmM4/dMlAuOqYzj90yUC46pjOP2T2ltxRFtM/Yqv6Xedz3j8=",
          "dtype": "f8"
         },
         "yaxis": "y"
        },
        {
         "hovertemplate": "country=S. Africa<br>num_selections=%{x}<br>jsd=%{y}<extra></extra>",
         "legendgroup": "S. Africa",
         "marker": {
          "color": "#B6E880",
          "symbol": "circle"
         },
         "mode": "markers",
         "name": "S. Africa",
         "showlegend": true,
         "type": "scattergl",
         "x": {
          "bdata": "AgUJDAUEBQUEAwYDBAUEBQMECwMGBgMEBAMLAwMEAwUEBQQEBQUEBQUFBQUFBQMECwU=",
          "dtype": "i1"
         },
         "xaxis": "x",
         "y": {
          "bdata": "SFAqOMU1vz+m8jUbZpLQP0fiAOKrfrA/iKW5Fghl4z+KsTcy3ozJP7ELiO/eObo/OF/5wZb2tj/kq0TvUyvCP58b4fSxVOI/ZAuVvK2zyz+z54y6pi3PP9bYB0yHZso/anTfDnylyj+jYkay1xHWPxhAThFVeNY//hOWsslHyT8jaz9K8c2iP4I+nlXrnc8/4+DCURyu2T9kW1ZYgY7PP6bBHK0gF84/Ge6Rr5XVzz+yJxAb2zvEPztgghFcMbE/ecwL3rj6sT/zhRg7HJ7JP+0R5dcQ4eE/Jugp+zCrzz+RQQrD2KC/P+SYRB0X9dE/2J7rgf8Mxz9AabM1knveP8q7V6QasLs/+H8BB2Ze2D+puDUj4HrYPyKlvfF6Ebw/u+LED6vq0D8PllMUNZbMPw9HMMcLjrY/7PM13fekxz8lqV4IxC7GP35zcf/6KM8/+VrNuj6Y0z8fac/ryefIPyOUw0Gvbs0/Jsm58/mgzz9b83quzpzVP4ntUZk5S9Q/dMm0XaKx1j8Unt/o9obQPw==",
          "dtype": "f8"
         },
         "yaxis": "y"
        },
        {
         "hovertemplate": "<b>OLS trendline</b><br>jsd = 0.0290605 * num_selections + 0.0991629<br>R<sup>2</sup>=0.244013<br><br>country=S. Africa<br>num_selections=%{x}<br>jsd=%{y} <b>(trend)</b><extra></extra>",
         "legendgroup": "S. Africa",
         "marker": {
          "color": "#B6E880",
          "symbol": "circle"
         },
         "mode": "lines",
         "name": "S. Africa",
         "showlegend": false,
         "type": "scattergl",
         "x": {
          "bdata": "AgMDAwMDAwMDAwMEBAQEBAQEBAQEBAQEBQUFBQUFBQUFBQUFBQUFBQUFBgYGCQsLCww=",
          "dtype": "i1"
         },
         "xaxis": "x",
         "y": {
          "bdata": "yNi4LeAhxD+Aj0zqINrHP4CPTOog2sc/gI9M6iDaxz+Aj0zqINrHP4CPTOog2sc/gI9M6iDaxz+Aj0zqINrHP4CPTOog2sc/gI9M6iDaxz+Aj0zqINrHPzlG4KZhkss/OUbgpmGSyz85RuCmYZLLPzlG4KZhkss/OUbgpmGSyz85RuCmYZLLPzlG4KZhkss/OUbgpmGSyz85RuCmYZLLPzlG4KZhkss/OUbgpmGSyz85RuCmYZLLPzlG4KZhkss/8vxzY6JKzz/y/HNjokrPP/L8c2OiSs8/8vxzY6JKzz/y/HNjokrPP/L8c2OiSs8/8vxzY6JKzz/y/HNjokrPP/L8c2OiSs8/8vxzY6JKzz/y/HNjokrPP/L8c2OiSs8/8vxzY6JKzz/y/HNjokrPP/L8c2OiSs8/8vxzY6JKzz/y/HNjokrPP/L8c2OiSs8/1dkDkHGB0T/V2QOQcYHRP9XZA5BxgdE/6mvhqtIV1z+iInVnE87aP6IidWcTzto/oiJ1ZxPO2j///b7FM6rcPw==",
          "dtype": "f8"
         },
         "yaxis": "y"
        },
        {
         "hovertemplate": "country=S. Africa (Non-national sample)<br>num_selections=%{x}<br>jsd=%{y}<extra></extra>",
         "legendgroup": "S. Africa (Non-national sample)",
         "marker": {
          "color": "#FF97FF",
          "symbol": "circle"
         },
         "mode": "markers",
         "name": "S. Africa (Non-national sample)",
         "showlegend": true,
         "type": "scattergl",
         "x": {
          "bdata": "BAQEBAIEBAQEBAQDAgQDBAIDBAYDBAMEBAQEBAQFAgQEBQIDBAQFAwQDAwQCAwQCBwU=",
          "dtype": "i1"
         },
         "xaxis": "x",
         "y": {
          "bdata": "bwKvsVGmqT/yQvjk/KrWP5ExFqH1jcE/N/RLtpAN3T92ADfy7z6LP0nmsLbLJ7Y/67PfUadxwz9K/a7JhBjIP2q0ZuO1W8M/A0hpgoExxz9PI5bP78u/P+fA1hCX/r4/M6tn3vt4rj+Xffdce424Pxd2yjjErc0/yWLTiDnw0j+qebIiqbfVP6wsI5KN/M8/0hDP4+qyvD8EBbbuC2nRP+PsWqmkyNE//nAon9W0wT/AiJaGG/DRP00YolGRwLU/vlp3mWGQ1j/yFjujRrjCP1II9OGbk8U/K7E6q3xywj+VZZKZVrGQPy0LgIjAZ9Q/sKyR+OljwD/8m0LlUrHYP9FI39crj9I/kuvjeELLvD/PpNyo6TzBP2Ya2UrAiKM/IYIOfdQnxD9RWGiQXizSP09CtacQRcY/8Dk5iE2IzT+eJf62qUW/PxkOFeRfvt4/ErMC3wSqvT9EvOVFQ8alP6OUlkgAP5M/OXa5BwEEzT+Qvel9+izSPwSwveoQJ8U/anj+5Rto1z8mWfsWa7rUPw==",
          "dtype": "f8"
         },
         "yaxis": "y"
        },
        {
         "hovertemplate": "<b>OLS trendline</b><br>jsd = 0.029768 * num_selections + 0.0834246<br>R<sup>2</sup>=0.067972<br><br>country=S. Africa (Non-national sample)<br>num_selections=%{x}<br>jsd=%{y} <b>(trend)</b><extra></extra>",
         "legendgroup": "S. Africa (Non-national sample)",
         "marker": {
          "color": "#FF97FF",
          "symbol": "circle"
         },
         "mode": "lines",
         "name": "S. Africa (Non-national sample)",
         "showlegend": false,
         "type": "scattergl",
         "x": {
          "bdata": "AgICAgICAgMDAwMDAwMDAwMEBAQEBAQEBAQEBAQEBAQEBAQEBAQEBAQEBAQFBQUFBgc=",
          "dtype": "i1"
         },
         "xaxis": "x",
         "y": {
          "bdata": "4IPRS4hMwj/gg9FLiEzCP+CD0UuITMI/4IPRS4hMwj/gg9FLiEzCP+CD0UuITMI/4IPRS4hMwj+2eQN6+BvGP7Z5A3r4G8Y/tnkDevgbxj+2eQN6+BvGP7Z5A3r4G8Y/tnkDevgbxj+2eQN6+BvGP7Z5A3r4G8Y/tnkDevgbxj+2eQN6+BvGP41vNaho68k/jW81qGjryT+NbzWoaOvJP41vNaho68k/jW81qGjryT+NbzWoaOvJP41vNaho68k/jW81qGjryT+NbzWoaOvJP41vNaho68k/jW81qGjryT+NbzWoaOvJP41vNaho68k/jW81qGjryT+NbzWoaOvJP41vNaho68k/jW81qGjryT+NbzWoaOvJP41vNaho68k/jW81qGjryT+NbzWoaOvJP41vNaho68k/jW81qGjryT+NbzWoaOvJP41vNaho68k/jW81qGjryT+NbzWoaOvJP2RlZ9bYus0/ZGVn1ti6zT9kZWfW2LrNP2RlZ9bYus0/na1MgiTF0D+IqGWZ3KzSPw==",
          "dtype": "f8"
         },
         "yaxis": "y"
        },
        {
         "hovertemplate": "country=S. Korea<br>num_selections=%{x}<br>jsd=%{y}<extra></extra>",
         "legendgroup": "S. Korea",
         "marker": {
          "color": "#FECB52",
          "symbol": "circle"
         },
         "mode": "markers",
         "name": "S. Korea",
         "showlegend": true,
         "type": "scattergl",
         "x": {
          "bdata": "BQQFBQIEAwUDBQkLAgMDBAQIAgQKBgILBAUDBQQIAwUFBQUFBAUDBAUFAwQEAwUEBQM=",
          "dtype": "i1"
         },
         "xaxis": "x",
         "y": {
          "bdata": "ZoYbDoZUyD/VOKn69wLAP1KWsm0xAck/Q/TOAha5xz+3n67ZBgvNP1nhpJOBJtI/6ptMS+RjxD+u8Ekc+YfRPxKa5fkakNs/s78YLS0lzT+YVkROuaDhP+yEmaG67cc/evbdz1WVxD/0P0Jr74vIPwr4kgBcTMY/IkMG0R5c4D/CAhXBfaLFP2AgJJN7C8Y/hDUTTQb0mz95CG3cLlHEPwJ2QQ4Xru8/GvajwZ/x0j/z305JAt68P6E6Itd84N0/LAdb8n9Y4j/f+A/Tt7zIP1ZnCjC3LNE/P7jRKNywvT/K4FrRO9nGP/WMz6slEuM/yYfQjLuVtD+NWTUyySLdPxh7X3XR8NA/fFUkii0q2j8g0iYV+hXNPzaKPOgLW74/r338RuyDzT+eFDoZzXfQP9Xhu91jXs4/C5684i6C1D8P8i6dgjHBP6bTt5Vg+M0/8/hNROzoxj/5/+moQirJP45p0XOGnsA/IkFOewW7zj/QNoO8EvfUP5dEVQzTK8c/VRk4pBqLwz/O3FA1VDXIPw==",
          "dtype": "f8"
         },
         "yaxis": "y"
        },
        {
         "hovertemplate": "<b>OLS trendline</b><br>jsd = 0.0413314 * num_selections + 0.0657087<br>R<sup>2</sup>=0.269462<br><br>country=S. Korea<br>num_selections=%{x}<br>jsd=%{y} <b>(trend)</b><extra></extra>",
         "legendgroup": "S. Korea",
         "marker": {
          "color": "#FECB52",
          "symbol": "circle"
         },
         "mode": "lines",
         "name": "S. Korea",
         "showlegend": false,
         "type": "scattergl",
         "x": {
          "bdata": "AgICAgMDAwMDAwMDAwMEBAQEBAQEBAQEBAQFBQUFBQUFBQUFBQUFBQUFBQYICAkKCws=",
          "dtype": "i1"
         },
         "xaxis": "x",
         "y": {
          "bdata": "dqaC7tb9wj92poLu1v3CP3amgu7W/cI/dqaC7tb9wj+URfMZMEjIP5RF8xkwSMg/lEXzGTBIyD+URfMZMEjIP5RF8xkwSMg/lEXzGTBIyD+URfMZMEjIP5RF8xkwSMg/lEXzGTBIyD+URfMZMEjIP7PkY0WJks0/s+RjRYmSzT+z5GNFiZLNP7PkY0WJks0/s+RjRYmSzT+z5GNFiZLNP7PkY0WJks0/s+RjRYmSzT+z5GNFiZLNP7PkY0WJks0/s+RjRYmSzT+z5GNFiZLNP+lBajhxbtE/6UFqOHFu0T/pQWo4cW7RP+lBajhxbtE/6UFqOHFu0T/pQWo4cW7RP+lBajhxbtE/6UFqOHFu0T/pQWo4cW7RP+lBajhxbtE/6UFqOHFu0T/pQWo4cW7RP+lBajhxbtE/6UFqOHFu0T/pQWo4cW7RP+lBajhxbtE/6UFqOHFu0T94kSLOnRPUP5cwk/n2Xdk/lzCT+fZd2T8mgEuPIwPcP7bPAyVQqN4/og9eXb6m4D+iD15dvqbgPw==",
          "dtype": "f8"
         },
         "yaxis": "y"
        },
        {
         "hovertemplate": "country=Senegal<br>num_selections=%{x}<br>jsd=%{y}<extra></extra>",
         "legendgroup": "Senegal",
         "marker": {
          "color": "#636efa",
          "symbol": "circle"
         },
         "mode": "markers",
         "name": "Senegal",
         "showlegend": true,
         "type": "scattergl",
         "x": {
          "bdata": "BAMDBQQEBAQFAgsDAwsLAgQDCwMDBAUFAwILBQIDBwQLBQIDBAUFCwIEBgQDCwUEBAo=",
          "dtype": "i1"
         },
         "xaxis": "x",
         "y": {
          "bdata": "ysd3Zo/zuj/zgf2m96XMP2MNyjRpCbU/xT1cAsa+1D8pc1f8BRjTP4YZ330JjtM/CXMZgdG51j+BRW7LfP+4P0qxVhkBeso/qKTcneA80j9jIZQPb1fgP8x95vfmlNE/tg0egB6/qz9TapSk7xbbP2r3ZfCyg9c/B66YY6Ouxz8pV3YtU8bUP/nGS+mUNc0/x9gIcXPm0D+Copfh6wbQP5ufEwPb1bc/QEffKozP1j9L0zWZAKLYP/+LH6gN2MA/T53ep25Jzj+6TxW5PVSiP0Yumz6jadQ/fw74Wxa9zT/P7e3zS3ZdP8CUNTXyCdA/0bZIoOuNzT8wT2IvUdPHP73MrsMH0dQ/4vliY30lyT9sbFwzrn3cP9ChPl9wAsI/9GqNbUC7xD82H5g1RHzRPxab/Sr7/NQ/OmWe+QgNxj+AycBMy+vZP6sV7QYa9tU/ugyVxEp42D+uCZVPHku4PxQobr9Kg8c/RbYTr0hV4j/97iTqfSjdP900uhzLQts/I5rYpGhY1D/MDqJDMW7YPw==",
          "dtype": "f8"
         },
         "yaxis": "y"
        },
        {
         "hovertemplate": "<b>OLS trendline</b><br>jsd = 0.019134 * num_selections + 0.167816<br>R<sup>2</sup>=0.198487<br><br>country=Senegal<br>num_selections=%{x}<br>jsd=%{y} <b>(trend)</b><extra></extra>",
         "legendgroup": "Senegal",
         "marker": {
          "color": "#636efa",
          "symbol": "circle"
         },
         "mode": "lines",
         "name": "Senegal",
         "showlegend": false,
         "type": "scattergl",
         "x": {
          "bdata": "AgICAgICAwMDAwMDAwMDAwMEBAQEBAQEBAQEBAQEBQUFBQUFBQUFBgcKCwsLCwsLCws=",
          "dtype": "i1"
         },
         "xaxis": "x",
         "y": {
          "bdata": "BzMA2vZgyj8HMwDa9mDKPwczANr2YMo/BzMA2vZgyj8HMwDa9mDKPwczANr2YMo/f1YXr/LTzD9/Vhev8tPMP39WF6/y08w/f1YXr/LTzD9/Vhev8tPMP39WF6/y08w/f1YXr/LTzD9/Vhev8tPMP39WF6/y08w/f1YXr/LTzD9/Vhev8tPMP/Z5LoTuRs8/9nkuhO5Gzz/2eS6E7kbPP/Z5LoTuRs8/9nkuhO5Gzz/2eS6E7kbPP/Z5LoTuRs8/9nkuhO5Gzz/2eS6E7kbPP/Z5LoTuRs8/9nkuhO5Gzz/2eS6E7kbPP/Z5LoTuRs8/t86iLPXc0D+3zqIs9dzQP7fOoiz13NA/t86iLPXc0D+3zqIs9dzQP7fOoiz13NA/t86iLPXc0D+3zqIs9dzQP7fOoiz13NA/c2AuF3MW0j8u8rkB8U/TP2KnXMFq/NY/Hjnoq+g12D8eOeir6DXYPx456KvoNdg/Hjnoq+g12D8eOeir6DXYPx456KvoNdg/Hjnoq+g12D8eOeir6DXYPw==",
          "dtype": "f8"
         },
         "yaxis": "y"
        },
        {
         "hovertemplate": "country=Senegal (Non-national sample)<br>num_selections=%{x}<br>jsd=%{y}<extra></extra>",
         "legendgroup": "Senegal (Non-national sample)",
         "marker": {
          "color": "#EF553B",
          "symbol": "circle"
         },
         "mode": "markers",
         "name": "Senegal (Non-national sample)",
         "showlegend": true,
         "type": "scattergl",
         "x": {
          "bdata": "BAQEBAMDBAQDBAQDBQQEBAUFBgMEBAMEAgMEBAMIBAIEBAQCAgQEAgQDBAIFBAQDAwQ=",
          "dtype": "i1"
         },
         "xaxis": "x",
         "y": {
          "bdata": "YHmeqHPszD/E6BYJ0bTIP6pB/OggTsA/r7ZQUPhYvT8ejl8dOGXTP88ojmJFybM/EKBgUeGrxj/anBWZpf68P8SKc/DVstI/ux4JYWVb1T8XquzvmrfEPxZ7oV7iFdg/Yy8q9vDv1z9f0Z0NuZvDP31OHm/HNLA/qd5EgLi2zj9+X228nJjePweYn0xLh8Y/F8m7jwnb2D915q1ctVzVP/Q8GkJIZ9A/hi5PpSCT2T/2HHCsje7QP4qXmDRdNtU/lH+22J/AxD/yAbZnBNHPP7E02V2ZKtE/LF/yn/DD4T81UdVGwAPhP0YMypA0dtk/BEJ8q0mVxT97Yh3fGSy5P86G8lIm0dA/YOXrGMIxzD81voFvQazKP8cEJbhfx8I/9kzMZj3LqT8jC7dLdp/RP0qrNaPDU7g/EQGZyLLzzD+S/8dMyGjFPzPvSMuaQtY/6NbDWZDr1T9CEyV+xLDCP6ai1DIHENA/jhszLmdbwD+89DQC98jVP5NUAiCgE9U/CNz8Eo3d5z/rjX0lX5LEPw==",
          "dtype": "f8"
         },
         "yaxis": "y"
        },
        {
         "hovertemplate": "<b>OLS trendline</b><br>jsd = 0.0264781 * num_selections + 0.157545<br>R<sup>2</sup>=0.042096<br><br>country=Senegal (Non-national sample)<br>num_selections=%{x}<br>jsd=%{y} <b>(trend)</b><extra></extra>",
         "legendgroup": "Senegal (Non-national sample)",
         "marker": {
          "color": "#EF553B",
          "symbol": "circle"
         },
         "mode": "lines",
         "name": "Senegal (Non-national sample)",
         "showlegend": false,
         "type": "scattergl",
         "x": {
          "bdata": "AgICAgICAwMDAwMDAwMDAwMEBAQEBAQEBAQEBAQEBAQEBAQEBAQEBAQEBAQFBQUFBgg=",
          "dtype": "i1"
         },
         "xaxis": "x",
         "y": {
          "bdata": "LL8vyLHxyj8svy/IsfHKPyy/L8ix8co/LL8vyLHxyj8svy/IsfHKPyy/L8ix8co/UvX08lNVzj9S9fTyU1XOP1L19PJTVc4/UvX08lNVzj9S9fTyU1XOP1L19PJTVc4/UvX08lNVzj9S9fTyU1XOP1L19PJTVc4/UvX08lNVzj9S9fTyU1XOP7wV3Q573NA/vBXdDnvc0D+8Fd0Oe9zQP7wV3Q573NA/vBXdDnvc0D+8Fd0Oe9zQP7wV3Q573NA/vBXdDnvc0D+8Fd0Oe9zQP7wV3Q573NA/vBXdDnvc0D+8Fd0Oe9zQP7wV3Q573NA/vBXdDnvc0D+8Fd0Oe9zQP7wV3Q573NA/vBXdDnvc0D+8Fd0Oe9zQP7wV3Q573NA/vBXdDnvc0D+8Fd0Oe9zQP7wV3Q573NA/vBXdDnvc0D+8Fd0Oe9zQP7wV3Q573NA/vBXdDnvc0D+8Fd0Oe9zQP86wPyRMjtI/zrA/JEyO0j/OsD8kTI7SP86wPyRMjtI/4UuiOR1A1D8Ggmdkv6PXPw==",
          "dtype": "f8"
         },
         "yaxis": "y"
        },
        {
         "hovertemplate": "country=Serbia<br>num_selections=%{x}<br>jsd=%{y}<extra></extra>",
         "legendgroup": "Serbia",
         "marker": {
          "color": "#00cc96",
          "symbol": "circle"
         },
         "mode": "markers",
         "name": "Serbia",
         "showlegend": true,
         "type": "scattergl",
         "x": {
          "bdata": "BwUHBgcNCAcGCA0HBw0NBw0HDQcIBw0GBQcHBwcHBw0NCA0HDQYNBwUHBwgHBQUFBwc=",
          "dtype": "i1"
         },
         "xaxis": "x",
         "y": {
          "bdata": "oxRIxfQX1T8sTmH996fKP4il/jaoA8o/cjYtjMWztj/vsTPAPy3LP8nHRa9Nico/AAAAAAAA+H/ai+XPS4TPP07jjQErW8Y/b4cphP6Otj+bcdFLVvHSPxgPBWGSFb4/yMXQtIBtvD8DTXpOE6rQP56zKxIBGsU/uTHrnbyOwz/f5e0qSY3UP8kZhpo/EsM/3Jsuh873zj/cyS/LRvK+P0eRFh1BwNA/yRqyE+TW3j8Gi0v0GTTQP4LRdfOfwco/X1b6S4+Uxj8+8ModpQPBP97QDZyTg9Y/Mv/pvBIP0z9ZGppTgAjCP/KOxZlLa8U/7cPykSe+zD/u+EVsZe7MP2VprOD6hNM/Zxb2Ov2t1D/fTtxXsDXHP53giRHF4sE//MkBAo/c0T9xQ9bTZB7HP2D41Bzt1sc/Eu1IpXW3wj/P3of3ehLYP8D9ZE/6IcU/Jdm3ingD1j++ddXVNu3MP5O4RniPqck/oFi+7IyHzT/DrKrK0FnWP/TauHwv4Nc/7o2zhTouwT/WsERo0dDCPw==",
          "dtype": "f8"
         },
         "yaxis": "y"
        },
        {
         "hovertemplate": "<b>OLS trendline</b><br>jsd = 0.00256188 * num_selections + 0.201474<br>R<sup>2</sup>=0.007126<br><br>country=Serbia<br>num_selections=%{x}<br>jsd=%{y} <b>(trend)</b><extra></extra>",
         "legendgroup": "Serbia",
         "marker": {
          "color": "#00cc96",
          "symbol": "circle"
         },
         "mode": "lines",
         "name": "Serbia",
         "showlegend": false,
         "type": "scattergl",
         "x": {
          "bdata": "BQUFBQUFBgYGBgcHBwcHBwcHBwcHBwcHBwcHBwcHBwcHCAgICA0NDQ0NDQ0NDQ0NDQ==",
          "dtype": "i1"
         },
         "xaxis": "x",
         "y": {
          "bdata": "oT/Y6p9tyz+hP9jqn23LP6E/2Oqfbcs/oT/Y6p9tyz+hP9jqn23LP6E/2Oqfbcs/oPwpfpLByz+g/Cl+ksHLP6D8KX6Swcs/oPwpfpLByz+fuXsRhRXMP5+5exGFFcw/n7l7EYUVzD+fuXsRhRXMP5+5exGFFcw/n7l7EYUVzD+fuXsRhRXMP5+5exGFFcw/n7l7EYUVzD+fuXsRhRXMP5+5exGFFcw/n7l7EYUVzD+fuXsRhRXMP5+5exGFFcw/n7l7EYUVzD+fuXsRhRXMP5+5exGFFcw/n7l7EYUVzD+fuXsRhRXMP5+5exGFFcw/n7l7EYUVzD+fuXsRhRXMP5+5exGFFcw/nnbNpHdpzD+eds2kd2nMP552zaR3acw/nnbNpHdpzD+bJ2aFNA3OP5snZoU0Dc4/mydmhTQNzj+bJ2aFNA3OP5snZoU0Dc4/mydmhTQNzj+bJ2aFNA3OP5snZoU0Dc4/mydmhTQNzj+bJ2aFNA3OP5snZoU0Dc4/mydmhTQNzj8=",
          "dtype": "f8"
         },
         "yaxis": "y"
        },
        {
         "hovertemplate": "country=Singapore<br>num_selections=%{x}<br>jsd=%{y}<extra></extra>",
         "legendgroup": "Singapore",
         "marker": {
          "color": "#ab63fa",
          "symbol": "circle"
         },
         "mode": "markers",
         "name": "Singapore",
         "showlegend": true,
         "type": "scattergl",
         "x": {
          "bdata": "DQMFBwcGBQcGBwYGBQ0HBQUHBQUIBQ4HBQUHBQYFBgcGBwcHBgUGDQMHBwYNBQYHBQc=",
          "dtype": "i1"
         },
         "xaxis": "x",
         "y": {
          "bdata": "ICaCAfOGxD+IDAZQur3aP6yPCfZZ99Y/qXhglfdHxj8j7gr+kW7OPzY1zyM7ltI/VRp9epCkzz+HGz3JMcXTPyJZ33g7HNw/vBz69cJExD8QDYDa/g3NP2wUK8QFa80/9JzAd+LC3D/LUQRZMvDQPwxF4zz22N4/Iq/k5FW60T8ui5pn+l61PzRFPJc9tNA/2ifelyrKwT9vouc/8dTWP3G3hWzeus0/CKxvHWKkxD9VkTvlYe3SPwJ22geDIto/wORT5YFq4T9KQDp9Z3DNP082mLHta94/drk4kqKD5T+EF2xacefMP0aNiVJy2M4/jYpCpesl4j/Wf8lSYjXRP1Q/4OIeKtY/tx26ENAH1D82TFKSJj/aP0YFmtCpHso/mBM1LiyG0D8iX3qbEKO9PyNV+Qu4Sdg/+oMsUwOy0j9yfrtCL1TSP00qHYyoRcw/rJQ1zuIP0D8zek5v8M7SP7tiZOwRlNQ/v2t5SGhN0T9SHWeE5KXSP5CTF3EO8tQ/RSH4CPRC4D/ghFT8M1PVPw==",
          "dtype": "f8"
         },
         "yaxis": "y"
        },
        {
         "hovertemplate": "<b>OLS trendline</b><br>jsd = -0.00664675 * num_selections + 0.350436<br>R<sup>2</sup>=0.018016<br><br>country=Singapore<br>num_selections=%{x}<br>jsd=%{y} <b>(trend)</b><extra></extra>",
         "legendgroup": "Singapore",
         "marker": {
          "color": "#ab63fa",
          "symbol": "circle"
         },
         "mode": "lines",
         "name": "Singapore",
         "showlegend": false,
         "type": "scattergl",
         "x": {
          "bdata": "AwMFBQUFBQUFBQUFBQUFBQUGBgYGBgYGBgYGBgcHBwcHBwcHBwcHBwcHBwcIDQ0NDQ4=",
          "dtype": "i1"
         },
         "xaxis": "x",
         "y": {
          "bdata": "sZUvANkm1T+xlS8A2SbVP4CWNP4LTdQ/gJY0/gtN1D+AljT+C03UP4CWNP4LTdQ/gJY0/gtN1D+AljT+C03UP4CWNP4LTdQ/gJY0/gtN1D+AljT+C03UP4CWNP4LTdQ/gJY0/gtN1D+AljT+C03UP4CWNP4LTdQ/gJY0/gtN1D+AljT+C03UP+gWN30l4NM/6BY3fSXg0z/oFjd9JeDTP+gWN30l4NM/6BY3fSXg0z/oFjd9JeDTP+gWN30l4NM/6BY3fSXg0z/oFjd9JeDTP+gWN30l4NM/6BY3fSXg0z9Qlzn8PnPTP1CXOfw+c9M/UJc5/D5z0z9Qlzn8PnPTP1CXOfw+c9M/UJc5/D5z0z9Qlzn8PnPTP1CXOfw+c9M/UJc5/D5z0z9Qlzn8PnPTP1CXOfw+c9M/UJc5/D5z0z9Qlzn8PnPTP1CXOfw+c9M/UJc5/D5z0z9Qlzn8PnPTP7gXPHtYBtM/wJlI9tfl0D/AmUj21+XQP8CZSPbX5dA/wJlI9tfl0D8oGkt18XjQPw==",
          "dtype": "f8"
         },
         "yaxis": "y"
        },
        {
         "hovertemplate": "country=Slovakia<br>num_selections=%{x}<br>jsd=%{y}<extra></extra>",
         "legendgroup": "Slovakia",
         "marker": {
          "color": "#FFA15A",
          "symbol": "circle"
         },
         "mode": "markers",
         "name": "Slovakia",
         "showlegend": true,
         "type": "scattergl",
         "x": {
          "bdata": "AggNAwUNAg0NDQcFBw0EBwcHBwYGBQQFBhIDBQIFBQQFBAIDDQ0EBAcDBgcEBQUGBAM=",
          "dtype": "i1"
         },
         "xaxis": "x",
         "y": {
          "bdata": "cb2W+vn3vj80ev3HmzXQP2zjHLXD6Ng/PGEiXrMptj9OtcVQ+rHbPwAAAAAAAPh/sPSjb2fvvz+F0nIsOILYPxfPPvd0VNU/b4POE2SQyj+HKq770pbDPx+S/B68SMw/pDjCuT0ouT8AMNq523LJP/fABoZwld0/33ZU26p4wz80Sp6O7d3EPwIErU3nNMI//ntt0ECx0T9riyYtI6PJP2mV086ZltA/XdxZRElH0z8SI1vnTwjFP4b0zFl48MQ/t28nrEtJ1z+1YiueN9jlP1iwgjnNeaY/unGFJGR0yD/5DOaC17O0P1GjnPdEV8k/Utjhcj0/0z+8l2nC96TDP16TAgXSjdM/B7qGnAy90j/hp+h1M5i4P1AENBin/uA/T6Yb+UVZzD/ZqbiJxdLSP864vMeld74/Pc5SBUFwtD/6qOvIU7TGP8X2TvPicaY/u/UoIBIb1D9LOaXg8ZTHP4OpNlBDS8Y/NG4bVsdotT8Y6A4BO6HKPyPtKY5iS8Y/iUOMFd7Kwj9Mdx9aFCjiPw==",
          "dtype": "f8"
         },
         "yaxis": "y"
        },
        {
         "hovertemplate": "<b>OLS trendline</b><br>jsd = 0.0153311 * num_selections + 0.134558<br>R<sup>2</sup>=0.167753<br><br>country=Slovakia<br>num_selections=%{x}<br>jsd=%{y} <b>(trend)</b><extra></extra>",
         "legendgroup": "Slovakia",
         "marker": {
          "color": "#FFA15A",
          "symbol": "circle"
         },
         "mode": "lines",
         "name": "Slovakia",
         "showlegend": false,
         "type": "scattergl",
         "x": {
          "bdata": "AgICAgMDAwMDBAQEBAQEBAQFBQUFBQUFBQUFBgYGBgYHBwcHBwcHBwgNDQ0NDQ0NEg==",
          "dtype": "i1"
         },
         "xaxis": "x",
         "y": {
          "bdata": "WHqobewlxT9Yeqht7CXFP1h6qG3sJcU/WHqobewlxT+SDAa3ShzHP5IMBrdKHMc/kgwGt0ocxz+SDAa3ShzHP5IMBrdKHMc/zZ5jAKkSyT/NnmMAqRLJP82eYwCpEsk/zZ5jAKkSyT/NnmMAqRLJP82eYwCpEsk/zZ5jAKkSyT/NnmMAqRLJPwcxwUkHCcs/BzHBSQcJyz8HMcFJBwnLPwcxwUkHCcs/BzHBSQcJyz8HMcFJBwnLPwcxwUkHCcs/BzHBSQcJyz8HMcFJBwnLPwcxwUkHCcs/QcMek2X/zD9Bwx6TZf/MP0HDHpNl/8w/QcMek2X/zD9Bwx6TZf/MP3xVfNzD9c4/fFV83MP1zj98VXzcw/XOP3xVfNzD9c4/fFV83MP1zj98VXzcw/XOP3xVfNzD9c4/fFV83MP1zj/b8+wSEXbQP2zhVsr8XdU/bOFWyvxd1T9s4VbK/F3VP2zhVsr8XdU/bOFWyvxd1T9s4VbK/F3VP2zhVsr8XdU//s7AgehF2j8=",
          "dtype": "f8"
         },
         "yaxis": "y"
        },
        {
         "hovertemplate": "country=Slovenia<br>num_selections=%{x}<br>jsd=%{y}<extra></extra>",
         "legendgroup": "Slovenia",
         "marker": {
          "color": "#19d3f3",
          "symbol": "circle"
         },
         "mode": "markers",
         "name": "Slovenia",
         "showlegend": true,
         "type": "scattergl",
         "x": {
          "bdata": "CAcHBwcHBQ4HBwUGBgcHDQcHDQ0HBQgNBQcHBwcHBw0FDQUFBw4OBQYFCAcGBw4FBwU=",
          "dtype": "i1"
         },
         "xaxis": "x",
         "y": {
          "bdata": "gQvMHP9d1D+dMsKLwJHHP55Rs39jstA/L02IVDHH0D+k2Avq9WfMP09myuJrQc8/SbM+NcAG0z/ZcbQj8rTcP57andaNLtE/w9TS6vjJ3T8KUrBgbUHGPyS9ZU5Ettg/tC18Eh7UsD9hBIwmC9rUPzIYq8V8/OA/sqbYdrHR2j8XUD7j2oPBPwf90s55O8k/K9ny82GsxT9FMRI2xX3SP+EV7SndZcc/l5Sk/h1mzz+ixHzecWvWP9c3mCe1F88/0UMGtzhj2z+yaFFr+STbP421W4++M8g/ZBvMJuOg2D98FgnkBKLFP9ADwOLrLb8/JSi0EWpZvz/yQf4Q4zrOPxACScIfeMc/dvU6LuSu0D8WZBv9UlPHPxBqyP/5QdA/XxQH4GRs3D+x5dZHbGHOP2tHpPukxNA/9Le0KLPm1D9WHZub7//NP7Bs4RcEvM8/v4L9RDY0zz+WylF6JwLQP+3WS5Mab8M/FIy6CNRWxj+Y5ss4YO7LPwLPi6mfg98/loomf+0Bxz9tmZQVIlK6Pw==",
          "dtype": "f8"
         },
         "yaxis": "y"
        },
        {
         "hovertemplate": "<b>OLS trendline</b><br>jsd = 0.00289154 * num_selections + 0.241542<br>R<sup>2</sup>=0.006227<br><br>country=Slovenia<br>num_selections=%{x}<br>jsd=%{y} <b>(trend)</b><extra></extra>",
         "legendgroup": "Slovenia",
         "marker": {
          "color": "#19d3f3",
          "symbol": "circle"
         },
         "mode": "lines",
         "name": "Slovenia",
         "showlegend": false,
         "type": "scattergl",
         "x": {
          "bdata": "BQUFBQUFBQUFBQUGBgYGBwcHBwcHBwcHBwcHBwcHBwcHBwcHBwgICA0NDQ0NDQ4ODg4=",
          "dtype": "i1"
         },
         "xaxis": "x",
         "y": {
          "bdata": "kl5rcUxi0D+SXmtxTGLQP5Jea3FMYtA/kl5rcUxi0D+SXmtxTGLQP5Jea3FMYtA/kl5rcUxi0D+SXmtxTGLQP5Jea3FMYtA/kl5rcUxi0D+SXmtxTGLQP1VaVm+skdA/VVpWb6yR0D9VWlZvrJHQP1VaVm+skdA/F1ZBbQzB0D8XVkFtDMHQPxdWQW0MwdA/F1ZBbQzB0D8XVkFtDMHQPxdWQW0MwdA/F1ZBbQzB0D8XVkFtDMHQPxdWQW0MwdA/F1ZBbQzB0D8XVkFtDMHQPxdWQW0MwdA/F1ZBbQzB0D8XVkFtDMHQPxdWQW0MwdA/F1ZBbQzB0D8XVkFtDMHQPxdWQW0MwdA/F1ZBbQzB0D8XVkFtDMHQPxdWQW0MwdA/F1ZBbQzB0D/ZUSxrbPDQP9lRLGts8NA/2VEsa2zw0D+jPMNgTN3RP6M8w2BM3dE/ozzDYEzd0T+jPMNgTN3RP6M8w2BM3dE/ozzDYEzd0T9lOK5erAzSP2U4rl6sDNI/ZTiuXqwM0j9lOK5erAzSPw==",
          "dtype": "f8"
         },
         "yaxis": "y"
        },
        {
         "hovertemplate": "country=South Korea<br>num_selections=%{x}<br>jsd=%{y}<extra></extra>",
         "legendgroup": "South Korea",
         "marker": {
          "color": "#FF6692",
          "symbol": "circle"
         },
         "mode": "markers",
         "name": "South Korea",
         "showlegend": true,
         "type": "scattergl",
         "x": {
          "bdata": "BgYNBwcHBQYHBw4GBwoOBwYHBw0NBA4HBgcHCgYOBQcJBwcHDQ0FBQYFBgYHBwoHDQ0=",
          "dtype": "i1"
         },
         "xaxis": "x",
         "y": {
          "bdata": "B4WGq2fJzz/teIB91F3NP7gHIc8cidY/iypWnyUB0j8LWGXyzgPXPymxi/MMotY/15KeWG35yj+dCLp0E57MPzEB2dakJdE/ijyRE8AKzz+RhA8iRgzePzqCawj0M9g/ynox+J7Z2T9G81E7f8/jPzHZPBc/ydg/OK5DE3/AxT+9O7xeBQTUP1yVejaH+Mg/PPYYNHm50z/lgvM7FrXUP7A/r8V8aN8/joayJ2k3yz8JPrIdSsDUPw9cqZ7+FtM/SgxiV+j8yz8Mf5Pe3NfXP++jHr/2zdI/CsaqCfvI2D8ucfiaFjjQP2vaT8xdsOI/HgIUpMbJ2z+TXKWjJy3NP+kjEKUav+I/Tsx8vob+0z8Mr1i/u1TeP4ox15Wpxd4/3TGc/AyR1z9zBqp1PrLbP0FgbEx9VNA/nCD13gsAwD+PSAlT2QfTP59+iRHm/9o/E5F1ec4i2T+BxAFHtmnWPwwFX6cYlNA/hcmr8Dwd2z+YePw6L57WP1gxlTh3x9w/XAgk+Uma5j/YitNkHdTePw==",
          "dtype": "f8"
         },
         "yaxis": "y"
        },
        {
         "hovertemplate": "<b>OLS trendline</b><br>jsd = 0.0214794 * num_selections + 0.176819<br>R<sup>2</sup>=0.288969<br><br>country=South Korea<br>num_selections=%{x}<br>jsd=%{y} <b>(trend)</b><extra></extra>",
         "legendgroup": "South Korea",
         "marker": {
          "color": "#FF6692",
          "symbol": "circle"
         },
         "mode": "lines",
         "name": "South Korea",
         "showlegend": false,
         "type": "scattergl",
         "x": {
          "bdata": "BAUFBQUFBgYGBgYGBgYGBgcHBwcHBwcHBwcHBwcHBwcHBwcJCgoKDQ0NDQ0NDQ4ODg4=",
          "dtype": "i1"
         },
         "xaxis": "x",
         "y": {
          "bdata": "ON6HbqvQ0D/0uRaCljDSP/S5FoKWMNI/9LkWgpYw0j/0uRaCljDSP/S5FoKWMNI/sJWllYGQ0z+wlaWVgZDTP7CVpZWBkNM/sJWllYGQ0z+wlaWVgZDTP7CVpZWBkNM/sJWllYGQ0z+wlaWVgZDTP7CVpZWBkNM/sJWllYGQ0z9scTSpbPDUP2xxNKls8NQ/bHE0qWzw1D9scTSpbPDUP2xxNKls8NQ/bHE0qWzw1D9scTSpbPDUP2xxNKls8NQ/bHE0qWzw1D9scTSpbPDUP2xxNKls8NQ/bHE0qWzw1D9scTSpbPDUP2xxNKls8NQ/bHE0qWzw1D9scTSpbPDUP2xxNKls8NQ/bHE0qWzw1D9scTSpbPDUP+QoUtBCsNc/oATh4y0Q2T+gBOHjLRDZP6AE4eMtENk/05eNHu8v3T/Tl40e7y/dP9OXjR7vL90/05eNHu8v3T/Tl40e7y/dP9OXjR7vL90/05eNHu8v3T+Pcxwy2o/eP49zHDLaj94/j3McMtqP3j+Pcxwy2o/ePw==",
          "dtype": "f8"
         },
         "yaxis": "y"
        },
        {
         "hovertemplate": "country=Spain<br>num_selections=%{x}<br>jsd=%{y}<extra></extra>",
         "legendgroup": "Spain",
         "marker": {
          "color": "#B6E880",
          "symbol": "circle"
         },
         "mode": "markers",
         "name": "Spain",
         "showlegend": true,
         "type": "scattergl",
         "x": {
          "bdata": "AwQCAgIDBQgEAgUDBAIGAwQDAgUFAgMEBAMFAwcNAgIHBQMOBQUEBQILAwUCAwUDBQc=",
          "dtype": "i1"
         },
         "xaxis": "x",
         "y": {
          "bdata": "9cAfqPanzT+uFF0m2a3SP5WbWDmS76M/P/AWQm+CwD9KoURTnEWoPx2DBCxhzLA/lGzidqfb4T/3oSOGn4LSP0FT7+eFE9Y/z1avCHYDtz/mjh4UeBe0PxdZKb1q4LY/6PQJrWKwuz8AhF8lEfaqP20W6yWKtbg/swjI+rCuzD8xDZHEBYXCP8TzpLSGks4/1mffllYRsz/b7s+Dt0jnPxDfY9chGdQ/cPuESLA1uD8ZO5ZlLLnYPzzalzUdvcA/55dQjzQfwz9HIir9AmuLP22q/Ep6o8o/E5d59ecfxz/1NNskMtW3P+Ssjtjdj+w/eWBVssb6zj+r04+OzWPQP+gHXXoPfM8/hod+yVEF0j/okq19fq3GPyYDHw23G9A/yGIo6e7Z2T++Lk/awi3JP3gE6H6iX+A/55FQwhfP1D9t1mWaKFGyP8yBuY2Npus/oh4I+zsXxz+OB5Zy0xjPP9MWlX7ZCqc/0CN6DAYayj+FoW8wNl7WP0zeqFEFpMU/W1HNJCxp0D+rBhiR64jTPw==",
          "dtype": "f8"
         },
         "yaxis": "y"
        },
        {
         "hovertemplate": "<b>OLS trendline</b><br>jsd = 0.0439152 * num_selections + 0.0469414<br>R<sup>2</sup>=0.356718<br><br>country=Spain<br>num_selections=%{x}<br>jsd=%{y} <b>(trend)</b><extra></extra>",
         "legendgroup": "Spain",
         "marker": {
          "color": "#B6E880",
          "symbol": "circle"
         },
         "mode": "lines",
         "name": "Spain",
         "showlegend": false,
         "type": "scattergl",
         "x": {
          "bdata": "AgICAgICAgICAgIDAwMDAwMDAwMDAwMEBAQEBAQEBQUFBQUFBQUFBQUFBgcHBwgLDQ4=",
          "dtype": "i1"
         },
         "xaxis": "x",
         "y": {
          "bdata": "ziy+LTRAwT/OLL4tNEDBP84svi00QME/ziy+LTRAwT/OLL4tNEDBP84svi00QME/ziy+LTRAwT/OLL4tNEDBP84svi00QME/ziy+LTRAwT/OLL4tNEDBP5D1Ld0338Y/kPUt3Tffxj+Q9S3dN9/GP5D1Ld0338Y/kPUt3Tffxj+Q9S3dN9/GP5D1Ld0338Y/kPUt3Tffxj+Q9S3dN9/GP5D1Ld0338Y/kPUt3Tffxj+Q9S3dN9/GP1S+nYw7fsw/VL6djDt+zD9Uvp2MO37MP1S+nYw7fsw/VL6djDt+zD9Uvp2MO37MP1S+nYw7fsw/i8MGnp8O0T+Lwwaenw7RP4vDBp6fDtE/i8MGnp8O0T+Lwwaenw7RP4vDBp6fDtE/i8MGnp8O0T+Lwwaenw7RP4vDBp6fDtE/i8MGnp8O0T+Lwwaenw7RP4vDBp6fDtE/7ae+dSHe0z9OjHZNo63WP06Mdk2jrdY/Tox2TaOt1j+wcC4lJX3ZP+oOK1bV9eA/TPPiLVfF4z985b4ZGC3lPw==",
          "dtype": "f8"
         },
         "yaxis": "y"
        },
        {
         "hovertemplate": "country=Sweden<br>num_selections=%{x}<br>jsd=%{y}<extra></extra>",
         "legendgroup": "Sweden",
         "marker": {
          "color": "#FF97FF",
          "symbol": "circle"
         },
         "mode": "markers",
         "name": "Sweden",
         "showlegend": true,
         "type": "scattergl",
         "x": {
          "bdata": "BQQHBAUKDQUFBgMFBQUIBAUDAw0DBQ0DBgUFBQMDBQUEBgYFAwcECgIEBAcHBQkEBAI=",
          "dtype": "i1"
         },
         "xaxis": "x",
         "y": {
          "bdata": "hS7cppm21D/FJdokZ5a7P/cWI8Oe6tE/6uhbl5c0xD/m28jqiZfZPwAAAAAAAPA/o2NJN/yKyz/3Gj5xbqzGP9DP6WqskrY/w6VgqCyq0T/P3fRM4IS9P82c3Dn+Cs4/QBdoh0BX6z+3KVosX17HP+JskEuWtdo/W2VuCGc11z+n26FzDOXKP78+AlrjTsc/aVQTsKwfyj/NWz9OFWHWP4UGhU3vq98/4gSEojzX0j9/ewZ5ekrKPwhLu1E2TNI/7PPof6+m4j/2Sn6M+ye/PybGyy4A9c0/BuovqFF/xT/tYvjmGp/HP4DFXS33EMs/AKQ6Q0xSxz+cnOQph5DBPxjLlFgJNdA/05cnS2l61T+nAQj2nbXIP1eSPkT1vcQ/VUg/w9w2xz+8JAOVtZ/OP6Hc7zLlL8g//zrZXaWu7z9XRAYNy7+XPyGB8hFqMdg/XoDvQJTZzD+NIJi07yPMP0z5iYSNlsA/EazqLcmpvD+PFGZWwLnnP85RcYE7YsA/nTanv0XO0T8zxNVCtWWxPw==",
          "dtype": "f8"
         },
         "yaxis": "y"
        },
        {
         "hovertemplate": "<b>OLS trendline</b><br>jsd = 0.0332518 * num_selections + 0.100874<br>R<sup>2</sup>=0.165980<br><br>country=Sweden<br>num_selections=%{x}<br>jsd=%{y} <b>(trend)</b><extra></extra>",
         "legendgroup": "Sweden",
         "marker": {
          "color": "#FF97FF",
          "symbol": "circle"
         },
         "mode": "lines",
         "name": "Sweden",
         "showlegend": false,
         "type": "scattergl",
         "x": {
          "bdata": "AgIDAwMDAwMDAwQEBAQEBAQEBAUFBQUFBQUFBQUFBQUFBQUGBgYGBwcHBwgJCgoNDQ0=",
          "dtype": "i1"
         },
         "xaxis": "x",
         "y": {
          "bdata": "eiLXVaJsxT96ItdVomzFP5ZZVLw6rsk/lllUvDquyT+WWVS8Oq7JP5ZZVLw6rsk/lllUvDquyT+WWVS8Oq7JP5ZZVLw6rsk/lllUvDquyT+ykNEi0+/NP7KQ0SLT780/spDRItPvzT+ykNEi0+/NP7KQ0SLT780/spDRItPvzT+ykNEi0+/NP7KQ0SLT780/spDRItPvzT/nY6fEtRjRP+djp8S1GNE/52OnxLUY0T/nY6fEtRjRP+djp8S1GNE/52OnxLUY0T/nY6fEtRjRP+djp8S1GNE/52OnxLUY0T/nY6fEtRjRP+djp8S1GNE/52OnxLUY0T/nY6fEtRjRP+djp8S1GNE/52OnxLUY0T/nY6fEtRjRP3b/5feBOdM/dv/l94E50z92/+X3gTnTP3b/5feBOdM/BJskK05a1T8EmyQrTlrVPwSbJCtOWtU/BJskK05a1T+SNmNeGnvXPyDSoZHmm9k/rm3gxLK82z+ubeDEsrzbPywgTq+LD+E/LCBOr4sP4T8sIE6viw/hPw==",
          "dtype": "f8"
         },
         "yaxis": "y"
        },
        {
         "hovertemplate": "country=Switzerland<br>num_selections=%{x}<br>jsd=%{y}<extra></extra>",
         "legendgroup": "Switzerland",
         "marker": {
          "color": "#FECB52",
          "symbol": "circle"
         },
         "mode": "markers",
         "name": "Switzerland",
         "showlegend": true,
         "type": "scattergl",
         "x": {
          "bdata": "Bw0HBwcOBgcOBwcNCA0HCA0HBQgFBwcHDgcFDgcHBwYHBw0NCAgHDQUNBQgOBg0FBQc=",
          "dtype": "i1"
         },
         "xaxis": "x",
         "y": {
          "bdata": "jyldeFAh1T9Jj55L3TTSP4sbuJRsUtI/MrrqX6lS2j+cfWm06ZfRPw5E8rZrKeQ/yFM2myP8zD/R59UqddPYP765K0R5oM0/D9yc0u9duj+/tWKTPobLP6iuNcAcaco/3QuJGagYwz9oLY0zPlbXPyJF7MSlNsc/dFYXwX8j0j8TahZ1A5rMP/AdRczglsQ/x0ezt4CmyT88IA4LOCvRP9g+k0xF7OQ/VimzuaZ/1z+7FcJkfn7WP0nIGagx6sU/Rc5pJrLW1z9HyY2Se/jGP40lkIuFV9A/b7rRNc3/1j/WNxCy5SnQP1wM0SDWBdE/pBFTtXSa1j9c6U+a9DazP6FiBBY7/cg/WN1H2m+L1j+J5bWLmnXXP8gY0ooOKcw/RhkIwBKAyj+1xPw21/rKPylGArAMMMY/edR8GOhW1j/oMk8FW5DQP1h2ipDYQdQ/KY6BcfLlyD++uialP+zKPymvW7J4Y9Q/3PT0RAw2wT/DgtP48R3SPwSqyeLbhsY/ubtQ4mXN3j/xN10lb4u5Pw==",
          "dtype": "f8"
         },
         "yaxis": "y"
        },
        {
         "hovertemplate": "<b>OLS trendline</b><br>jsd = 0.00881234 * num_selections + 0.197039<br>R<sup>2</sup>=0.056674<br><br>country=Switzerland<br>num_selections=%{x}<br>jsd=%{y} <b>(trend)</b><extra></extra>",
         "legendgroup": "Switzerland",
         "marker": {
          "color": "#FECB52",
          "symbol": "circle"
         },
         "mode": "lines",
         "name": "Switzerland",
         "showlegend": false,
         "type": "scattergl",
         "x": {
          "bdata": "BQUFBQUFBQYGBgcHBwcHBwcHBwcHBwcHBwcHBwcHCAgICAgIDQ0NDQ0NDQ0NDg4ODg4=",
          "dtype": "i1"
         },
         "xaxis": "x",
         "y": {
          "bdata": "VZX4pV/czj9VlfilX9zOP1WV+KVf3M4/VZX4pV/czj9VlfilX9zOP1WV+KVf3M4/VZX4pV/czj9yYrDqIv3PP3JisOoi/c8/cmKw6iL9zz/IF7QX847QP8gXtBfzjtA/yBe0F/OO0D/IF7QX847QP8gXtBfzjtA/yBe0F/OO0D/IF7QX847QP8gXtBfzjtA/yBe0F/OO0D/IF7QX847QP8gXtBfzjtA/yBe0F/OO0D/IF7QX847QP8gXtBfzjtA/yBe0F/OO0D/IF7QX847QP8gXtBfzjtA/yBe0F/OO0D/IF7QX847QP8gXtBfzjtA/V/4PulQf0T9X/g+6VB/RP1f+D7pUH9E/V/4PulQf0T9X/g+6VB/RP1f+D7pUH9E/In/b5Tzx0z8if9vlPPHTPyJ/2+U88dM/In/b5Tzx0z8if9vlPPHTPyJ/2+U88dM/In/b5Tzx0z8if9vlPPHTPyJ/2+U88dM/sGU3iJ6B1D+wZTeInoHUP7BlN4iegdQ/sGU3iJ6B1D+wZTeInoHUPw==",
          "dtype": "f8"
         },
         "yaxis": "y"
        },
        {
         "hovertemplate": "country=Taiwan<br>num_selections=%{x}<br>jsd=%{y}<extra></extra>",
         "legendgroup": "Taiwan",
         "marker": {
          "color": "#636efa",
          "symbol": "circle"
         },
         "mode": "markers",
         "name": "Taiwan",
         "showlegend": true,
         "type": "scattergl",
         "x": {
          "bdata": "BQMFBQUGBQUFBQYFBQUFBQUGBQUEBgUFBQUFAwMFBQUEBQUFBQMDAwMEBQUFBQYDBQU=",
          "dtype": "i1"
         },
         "xaxis": "x",
         "y": {
          "bdata": "Dn2dW2ef4z/2zO1LxojJP0m70Jv3frg/XdZoFSm23D+BG78ks93RP/9njQbzis0/4+ygYUXWzj/PYioYXf3BP1g8QQGFG9s/IeIp8iaivz++bRuQaVXJP8luli62/+Q/+cmPKOkPzz/ra1qrruDBP3G3V1YdF8A/VHmQlUAevz/ma0RzglO8P80k0d7Y3tI/UUwJoqFcuz9z3qyRroG6P3H3DaXd0NM/5SK3Psu81z/Wi4M7XAnaP45CQ+zQX8Q/U6WzbTLpvz9+u1uDBSHHPwiW3FI7vsw/r8qf2P4Rqz/BQBdhmA+XP9K0jTfUmLU/lxiSJkuPzD8UrQ8ztkrDP9xqbqG/VNA/B3MuCG3vzT8zHuP39evIP4iKFii3PM8/Jf3+pQq80j+PfcEdb223P/KIdOZ+D7w/b4aFtDpSpz9lNxhfDbbCP1UGFiX7xck/QorfWlh3yz82Zr8VnZLdP0HKa4cdEuE/Udyd2QvgxD8a0YKZ5WDHP54ROJkyQsE/DENgd+u1zj8Ej1/l1AbCPw==",
          "dtype": "f8"
         },
         "yaxis": "y"
        },
        {
         "hovertemplate": "<b>OLS trendline</b><br>jsd = 0.0557489 * num_selections + -0.0413071<br>R<sup>2</sup>=0.116512<br><br>country=Taiwan<br>num_selections=%{x}<br>jsd=%{y} <b>(trend)</b><extra></extra>",
         "legendgroup": "Taiwan",
         "marker": {
          "color": "#636efa",
          "symbol": "circle"
         },
         "mode": "lines",
         "name": "Taiwan",
         "showlegend": false,
         "type": "scattergl",
         "x": {
          "bdata": "AwMDAwMDAwMEBAQFBQUFBQUFBQUFBQUFBQUFBQUFBQUFBQUFBQUFBQUFBQUFBgYGBgY=",
          "dtype": "i1"
         },
         "xaxis": "x",
         "y": {
          "bdata": "iLc0JckewD+ItzQlyR7AP4i3NCXJHsA/iLc0JckewD+ItzQlyR7AP4i3NCXJHsA/iLc0JckewD+ItzQlyR7APxBzamyQQcc/EHNqbJBBxz8Qc2pskEHHP5guoLNXZM4/mC6gs1dkzj+YLqCzV2TOP5guoLNXZM4/mC6gs1dkzj+YLqCzV2TOP5guoLNXZM4/mC6gs1dkzj+YLqCzV2TOP5guoLNXZM4/mC6gs1dkzj+YLqCzV2TOP5guoLNXZM4/mC6gs1dkzj+YLqCzV2TOP5guoLNXZM4/mC6gs1dkzj+YLqCzV2TOP5guoLNXZM4/mC6gs1dkzj+YLqCzV2TOP5guoLNXZM4/mC6gs1dkzj+YLqCzV2TOP5guoLNXZM4/mC6gs1dkzj+YLqCzV2TOP5guoLNXZM4/mC6gs1dkzj+YLqCzV2TOP5guoLNXZM4/mC6gs1dkzj+YLqCzV2TOP5guoLNXZM4/EPVqfY/D0j8Q9Wp9j8PSPxD1an2Pw9I/EPVqfY/D0j8Q9Wp9j8PSPw==",
          "dtype": "f8"
         },
         "yaxis": "y"
        },
        {
         "hovertemplate": "country=Taiwan ROC<br>num_selections=%{x}<br>jsd=%{y}<extra></extra>",
         "legendgroup": "Taiwan ROC",
         "marker": {
          "color": "#EF553B",
          "symbol": "circle"
         },
         "mode": "markers",
         "name": "Taiwan ROC",
         "showlegend": true,
         "type": "scattergl",
         "x": {
          "bdata": "BwcHBwYFBQYHBwcNBwcHBw0HDQ0HBwYFBwUHBQYHDQcFBQgHBQYODQcHBw4NBg0GBwY=",
          "dtype": "i1"
         },
         "xaxis": "x",
         "y": {
          "bdata": "YqI0dVQHwD+37IVGYTLMPwm09XluO8g/vom00SSe2z8bHD6OsO7OP/kV+esiTc0/227jrxlw4T9G1vEIfazKP8Pmnmm4KNc/mcmu26PPyz/J6VClwyPZP3FVdxdIsNg//z0xO2U21D+J2SdcYArHP1pB/Z5ZesY/Q2cmF/t0xD9pkKOb75/SP9w7SLrMlM4/k73WcFBxwz/w7ap6zG/SP04BqqWkmNs/kSK37CjLvT8otu0JYQ3CPwSD9BExguM/VpKtdHh1yD+6phCicDLWP1JbJAipQNE/GEcDMIhO1D/fjXm+sCrjP0+vw5pfi9A/KbWuMNi31j9TIW+EnXLhP+qIuxclKrI/HqjjCyS21T9dzoOJFvLSP9x0d4GgsdQ/TxUtJb6I0T+0b5oO8frEP07+aKfDTc8/REPSIHeczD92uNMbx3fNP4YxMHGtmNo/XbQcjcTE2z+6HqBM7o7XP3z+RqQsadQ/xtCpAs73xj/5la4uYGrRP8B3smycj9Q//U2VIqWT1z8Anor5wP7TPw==",
          "dtype": "f8"
         },
         "yaxis": "y"
        },
        {
         "hovertemplate": "<b>OLS trendline</b><br>jsd = -0.00197483 * num_selections + 0.309077<br>R<sup>2</sup>=0.002120<br><br>country=Taiwan ROC<br>num_selections=%{x}<br>jsd=%{y} <b>(trend)</b><extra></extra>",
         "legendgroup": "Taiwan ROC",
         "marker": {
          "color": "#EF553B",
          "symbol": "circle"
         },
         "mode": "lines",
         "name": "Taiwan ROC",
         "showlegend": false,
         "type": "scattergl",
         "x": {
          "bdata": "BQUFBQUFBQUGBgYGBgYGBgcHBwcHBwcHBwcHBwcHBwcHBwcHBwcHCA0NDQ0NDQ0NDg4=",
          "dtype": "i1"
         },
         "xaxis": "x",
         "y": {
          "bdata": "2lLgRCUm0z/aUuBEJSbTP9pS4EQlJtM/2lLgRCUm0z/aUuBEJSbTP9pS4EQlJtM/2lLgRCUm0z/aUuBEJSbTP571BTzKBdM/nvUFPMoF0z+e9QU8ygXTP571BTzKBdM/nvUFPMoF0z+e9QU8ygXTP571BTzKBdM/nvUFPMoF0z9jmCszb+XSP2OYKzNv5dI/Y5grM2/l0j9jmCszb+XSP2OYKzNv5dI/Y5grM2/l0j9jmCszb+XSP2OYKzNv5dI/Y5grM2/l0j9jmCszb+XSP2OYKzNv5dI/Y5grM2/l0j9jmCszb+XSP2OYKzNv5dI/Y5grM2/l0j9jmCszb+XSP2OYKzNv5dI/Y5grM2/l0j9jmCszb+XSP2OYKzNv5dI/Y5grM2/l0j9jmCszb+XSP2OYKzNv5dI/JztRKhTF0j/8aA3+TCPSP/xoDf5MI9I//GgN/kwj0j/8aA3+TCPSP/xoDf5MI9I//GgN/kwj0j/8aA3+TCPSP/xoDf5MI9I/wAsz9fEC0j/ACzP18QLSPw==",
          "dtype": "f8"
         },
         "yaxis": "y"
        },
        {
         "hovertemplate": "country=Tajikistan<br>num_selections=%{x}<br>jsd=%{y}<extra></extra>",
         "legendgroup": "Tajikistan",
         "marker": {
          "color": "#00cc96",
          "symbol": "circle"
         },
         "mode": "markers",
         "name": "Tajikistan",
         "showlegend": true,
         "type": "scattergl",
         "x": {
          "bdata": "Dg0HBQcGBgcHBQ0FCAgFBgcNBw4HBwUHBw0HBQ0FBw0HBwYHBwYGBgcFBw0GBw0NBQc=",
          "dtype": "i1"
         },
         "xaxis": "x",
         "y": {
          "bdata": "CzSTc0pR1T+CAJ4Su13UP+KUcpJNqNg/CtYjCs880D8enmvdjZ3VP+STHayDHdc//s/M5qf3xz8xea39TwTWPyxfblNL+uE/gm/Q9pEK1T/8zLLI65jaPxv0I3vgddI/FSrWxXkN2D9AbI0BFbnFP2n8/Sp6v+E/7kDYVvaw3T9SknA1obvIP0KWIwTJNOA/mKCdy4Y80z+6/EuQtTjYP42ZJJUfd9Q/F5lRYcib3D+SGJTVRNzSP6PqLv3Ei9Y/vTHRcs8d1T8sXi5Y73neP4S1fStm474/Qn5xO5w7zz80bZmRxtvjP+xojqueZM0/BmHYoDZ70T+ZqG8dirjhP3ZQ7/OZWcQ/hohSVmCv4z+ySRzT2GTQP8pvlPTjb9M/agNU6M4a0D+j4m6l/WXKPwUBUlOCMM8/4ROXTlp82D/zF1yZSJfaPxCHIqdgZdE/Ei51G8yT2T9Jp3x227LPP+bHlBqnUdI/rSPFeYjizz8Nmld/b2DiP6PXGu7o9uM/JBwNO7RF7T8SeL+5pRTiPw==",
          "dtype": "f8"
         },
         "yaxis": "y"
        },
        {
         "hovertemplate": "<b>OLS trendline</b><br>jsd = 0.014691 * num_selections + 0.249945<br>R<sup>2</sup>=0.081470<br><br>country=Tajikistan<br>num_selections=%{x}<br>jsd=%{y} <b>(trend)</b><extra></extra>",
         "legendgroup": "Tajikistan",
         "marker": {
          "color": "#00cc96",
          "symbol": "circle"
         },
         "mode": "lines",
         "name": "Tajikistan",
         "showlegend": false,
         "type": "scattergl",
         "x": {
          "bdata": "BQUFBQUFBQUFBgYGBgYGBgYHBwcHBwcHBwcHBwcHBwcHBwcHBwgIDQ0NDQ0NDQ0NDg4=",
          "dtype": "i1"
         },
         "xaxis": "x",
         "y": {
          "bdata": "Lw9bOJiy1D8vD1s4mLLUPy8PWziYstQ/Lw9bOJiy1D8vD1s4mLLUPy8PWziYstQ/Lw9bOJiy1D8vD1s4mLLUPy8PWziYstQ/1EJl7Uqj1T/UQmXtSqPVP9RCZe1Ko9U/1EJl7Uqj1T/UQmXtSqPVP9RCZe1Ko9U/1EJl7Uqj1T/UQmXtSqPVP3l2b6L9k9Y/eXZvov2T1j95dm+i/ZPWP3l2b6L9k9Y/eXZvov2T1j95dm+i/ZPWP3l2b6L9k9Y/eXZvov2T1j95dm+i/ZPWP3l2b6L9k9Y/eXZvov2T1j95dm+i/ZPWP3l2b6L9k9Y/eXZvov2T1j95dm+i/ZPWP3l2b6L9k9Y/eXZvov2T1j95dm+i/ZPWP3l2b6L9k9Y/eXZvov2T1j8eqnlXsITXPx6qeVewhNc/WKys4C043D9YrKzgLTjcP1isrOAtONw/WKys4C043D9YrKzgLTjcP1isrOAtONw/WKys4C043D9YrKzgLTjcP1isrOAtONw//N+2leAo3T/837aV4CjdPw==",
          "dtype": "f8"
         },
         "yaxis": "y"
        },
        {
         "hovertemplate": "country=Tanzania<br>num_selections=%{x}<br>jsd=%{y}<extra></extra>",
         "legendgroup": "Tanzania",
         "marker": {
          "color": "#ab63fa",
          "symbol": "circle"
         },
         "mode": "markers",
         "name": "Tanzania",
         "showlegend": true,
         "type": "scattergl",
         "x": {
          "bdata": "AgMFBAQEAgULBQQEAgICCAgECgQDAgUCBAIEAwIEBAQFBwMDBAQFBQQFBQQEBAIEBQQ=",
          "dtype": "i1"
         },
         "xaxis": "x",
         "y": {
          "bdata": "PQuY2HNY1D9CC9/NB/jJP4y0rSsP0bk/GNSiJFIa1z9+eB++TELLP5worJ2fYdE/EeYCsw/A1z/ecmPSSpfAP+rYfDS9SdQ/Mhb7xBOu0D+Ti/f0HY7OP9sJK8uki8s/Tlvjl8KP0D+JpJVR0ZzcP1e8sS8bYsk/v6H932E13z9GU03tMPLYP07A5S2QScU/DvP9NyRS0D8+RtQywHTIP4sJLmC339s/zx4VQB+s2D+/0kQx8FezP8woXAl57rk/uiHVVssv5D9j7QflJFyoP9cPKbqOTLw/hA+mLSVvyz9YELAl9iDEP+rtPDNRg7c/VCVgrIFw2T/FIMTsvyzdPzVthbFu6ro/aC1k5d0S0D/JaI8qUAjMPwthbskgNMI/8EkoNip2zT9klTia5byZP1n5XAVi4s8/dLCwolLl0D+WkEF7AAjfP9AN8nOxgsQ/SCSqYqbdxD/tCzIlnjbEP6CcHbI10sk/tkrvOkM1wz9LyDzCjT2vPy7pYA3m5c4/zZ2jXt440j/GW3BFwUbVPw==",
          "dtype": "f8"
         },
         "yaxis": "y"
        },
        {
         "hovertemplate": "<b>OLS trendline</b><br>jsd = 0.00947623 * num_selections + 0.204795<br>R<sup>2</sup>=0.019297<br><br>country=Tanzania<br>num_selections=%{x}<br>jsd=%{y} <b>(trend)</b><extra></extra>",
         "legendgroup": "Tanzania",
         "marker": {
          "color": "#ab63fa",
          "symbol": "circle"
         },
         "mode": "lines",
         "name": "Tanzania",
         "showlegend": false,
         "type": "scattergl",
         "x": {
          "bdata": "AgICAgICAgICAgMDAwMDBAQEBAQEBAQEBAQEBAQEBAQEBAQFBQUFBQUFBQUFBwgICgs=",
          "dtype": "i1"
         },
         "xaxis": "x",
         "y": {
          "bdata": "PemmIMKjzD896aYgwqPMPz3ppiDCo8w/PemmIMKjzD896aYgwqPMPz3ppiDCo8w/PemmIMKjzD896aYgwqPMPz3ppiDCo8w/PemmIMKjzD/GLxaGRtrNP8YvFoZG2s0/xi8WhkbazT/GLxaGRtrNP8YvFoZG2s0/TnaF68oQzz9OdoXryhDPP052hevKEM8/TnaF68oQzz9OdoXryhDPP052hevKEM8/TnaF68oQzz9OdoXryhDPP052hevKEM8/TnaF68oQzz9OdoXryhDPP052hevKEM8/TnaF68oQzz9OdoXryhDPP052hevKEM8/TnaF68oQzz9OdoXryhDPP052hevKEM8/TnaF68oQzz9OdoXryhDPP2xeeqinI9A/bF56qKcj0D9sXnqopyPQP2xeeqinI9A/bF56qKcj0D9sXnqopyPQP2xeeqinI9A/bF56qKcj0D9sXnqopyPQP2xeeqinI9A/9KTpDSxa0T85SKFAbvXRPzlIoUBu9dE/wo4QpvIr0z8GMsjYNMfTPw==",
          "dtype": "f8"
         },
         "yaxis": "y"
        },
        {
         "hovertemplate": "country=Tanzania (Non-national sample)<br>num_selections=%{x}<br>jsd=%{y}<extra></extra>",
         "legendgroup": "Tanzania (Non-national sample)",
         "marker": {
          "color": "#FFA15A",
          "symbol": "circle"
         },
         "mode": "markers",
         "name": "Tanzania (Non-national sample)",
         "showlegend": true,
         "type": "scattergl",
         "x": {
          "bdata": "CA==",
          "dtype": "i1"
         },
         "xaxis": "x",
         "y": {
          "bdata": "ibJQPcq+4j8=",
          "dtype": "f8"
         },
         "yaxis": "y"
        },
        {
         "hovertemplate": "country=Tanzania (Non-national sample)<extra></extra>",
         "legendgroup": "Tanzania (Non-national sample)",
         "marker": {
          "color": "#FFA15A",
          "symbol": "circle"
         },
         "mode": "lines",
         "name": "Tanzania (Non-national sample)",
         "showlegend": false,
         "type": "scattergl",
         "xaxis": "x",
         "yaxis": "y"
        },
        {
         "hovertemplate": "country=Thailand<br>num_selections=%{x}<br>jsd=%{y}<extra></extra>",
         "legendgroup": "Thailand",
         "marker": {
          "color": "#19d3f3",
          "symbol": "circle"
         },
         "mode": "markers",
         "name": "Thailand",
         "showlegend": true,
         "type": "scattergl",
         "x": {
          "bdata": "BQcHBwYHBQYHBA4DDQYFDQ0HBwQFBwcGBA0HBgcEBQcFBw0DAgYHBQcFBQYFBw0FDQc=",
          "dtype": "i1"
         },
         "xaxis": "x",
         "y": {
          "bdata": "GExzIWo90D/K6ctywEvKP5kZ3UkltdE/cuGAucj91j/p04r+9crEP/qbzDIWb9I/ln0UrBbO3D9TF6nlxXrPP3DrhscXGtA/FiKJsQMS0T+m5tbFITHXP9g2wH5iZsk/0JHg511H2D9vcMe+fl/EP8R/NaojoNI/56X09dE1yz8en8eXJCjRP+QTfSaXLdU/FWwBGygrzj+/PNQh8v3VP3wliisIE80/k5w0ucP1uT9aXRgH6JPTPw/i4iCuftM/7ZGcYkcg1T/go9ZNKjXQP1qvglcrH84/wh4bMUV6yD+hNBCSWX3XP3zqZKfoOro/J8MmdU9K0j9z1w75CTjKP0uynCnrvdA/pPAPxiG+1T9mJ4jkt57OP35XOzrHaKQ/AAZBKmBIxj/owlnM2tTUP42A0r3R/sw/WDDuJj2P0z82jipjZ9LAP9+qEN8Kecs/SZxitRnj0D+Ucyejt6fSP2pF1NTjatA/YRFWyGi9yj/lxx7hMmrbP+TVu3sx+88/C2o03bJG2j9pvkgyRQ3RPw==",
          "dtype": "f8"
         },
         "yaxis": "y"
        },
        {
         "hovertemplate": "<b>OLS trendline</b><br>jsd = 0.00954111 * num_selections + 0.195854<br>R<sup>2</sup>=0.119565<br><br>country=Thailand<br>num_selections=%{x}<br>jsd=%{y} <b>(trend)</b><extra></extra>",
         "legendgroup": "Thailand",
         "marker": {
          "color": "#19d3f3",
          "symbol": "circle"
         },
         "mode": "lines",
         "name": "Thailand",
         "showlegend": false,
         "type": "scattergl",
         "x": {
          "bdata": "AgMDBAQEBAUFBQUFBQUFBQUFBgYGBgYGBgcHBwcHBwcHBwcHBwcHBwcHDQ0NDQ0NDQ4=",
          "dtype": "i1"
         },
         "xaxis": "x",
         "y": {
          "bdata": "659YjgWDyz+2oHIzqrvMP7agcjOqu8w/gaGM2E70zT+BoYzYTvTNP4GhjNhO9M0/gaGM2E70zT9MoqZ98yzPP0yipn3zLM8/TKKmffMszz9MoqZ98yzPP0yipn3zLM8/TKKmffMszz9MoqZ98yzPP0yipn3zLM8/TKKmffMszz9MoqZ98yzPP0yipn3zLM8/i1FgEcwy0D+LUWARzDLQP4tRYBHMMtA/i1FgEcwy0D+LUWARzDLQP4tRYBHMMtA/i1FgEcwy0D/wUe1jHs/QP/BR7WMez9A/8FHtYx7P0D/wUe1jHs/QP/BR7WMez9A/8FHtYx7P0D/wUe1jHs/QP/BR7WMez9A/8FHtYx7P0D/wUe1jHs/QP/BR7WMez9A/8FHtYx7P0D/wUe1jHs/QP/BR7WMez9A/8FHtYx7P0D/wUe1jHs/QP/BR7WMez9A/UFQ7Uwx51D9QVDtTDHnUP1BUO1MMedQ/UFQ7Uwx51D9QVDtTDHnUP1BUO1MMedQ/UFQ7Uwx51D+2VMilXhXVPw==",
          "dtype": "f8"
         },
         "yaxis": "y"
        },
        {
         "hovertemplate": "country=Tunisia<br>num_selections=%{x}<br>jsd=%{y}<extra></extra>",
         "legendgroup": "Tunisia",
         "marker": {
          "color": "#FF6692",
          "symbol": "circle"
         },
         "mode": "markers",
         "name": "Tunisia",
         "showlegend": true,
         "type": "scattergl",
         "x": {
          "bdata": "BAULBwgDAgQFDQMEBgUGBwcEBAYNBwMCAgkCBwQEBQUEBQQECAMNAwgFBAUFBQsEBQQ=",
          "dtype": "i1"
         },
         "xaxis": "x",
         "y": {
          "bdata": "QljQ99Ht1D+fnqoCEuDSP43b9xtcG9k/qPKczYP7vj+aORA0vXHiP2X/QSrPS8c/xy4xemd9uD+uMuMwZE3JP3+GX/Mxm9I/YPHAcSDrwT+h6Ld3gXvKP4et5IyJKNI/azaHFzec0z+Zs3OTsJ7AP9hPPkp3Tc4/1v5dgC6NxT8jOSWxWA7MP0gaPYPacco/vmuQgQ9K2T9vfeHVQDjSP6nLIlOHfMo/2TFGv7mJ0D8M+nAXpjLUP0Ky9AXKP80/Up3K64enyz8bwegv0PnOP5HkUtzHgb4/1T7ybYTfxD8uKOI43+bKP4hs7dZeirM//a2zF5rEyT816JNtFsnSP1WgoliRpNU/7oV6vrG12z+21NrR2zjRP4WQbRkOP9s/RrgogsXqzz+42ZDVsPXQP9nHYnp8r9E/fkQuTXLJ0D8HHYGb1A7oP6qlKJwGKMY/oEl2jGKMyj9wqY8A6GLIP8zSB/Y6fts/6Za1eOZG1j89gPWijTzXP+fzxgSj1cs/yRuARpqLyj9rx6SxhLDWPw==",
          "dtype": "f8"
         },
         "yaxis": "y"
        },
        {
         "hovertemplate": "<b>OLS trendline</b><br>jsd = 0.00714838 * num_selections + 0.227362<br>R<sup>2</sup>=0.027739<br><br>country=Tunisia<br>num_selections=%{x}<br>jsd=%{y} <b>(trend)</b><extra></extra>",
         "legendgroup": "Tunisia",
         "marker": {
          "color": "#FF6692",
          "symbol": "circle"
         },
         "mode": "lines",
         "name": "Tunisia",
         "showlegend": false,
         "type": "scattergl",
         "x": {
          "bdata": "AgICAgMDAwMDBAQEBAQEBAQEBAQEBAUFBQUFBQUFBQUFBgYGBwcHBwcICAgJCwsNDQ0=",
          "dtype": "i1"
         },
         "xaxis": "x",
         "y": {
          "bdata": "2J+X9q3uzj/Yn5f2re7OP9ifl/at7s4/2J+X9q3uzj/yhr7o6tjPP/KGvujq2M8/8oa+6OrYzz/yhr7o6tjPP/KGvujq2M8/Bbdy7ZNh0D8Ft3Ltk2HQPwW3cu2TYdA/Bbdy7ZNh0D8Ft3Ltk2HQPwW3cu2TYdA/Bbdy7ZNh0D8Ft3Ltk2HQPwW3cu2TYdA/Bbdy7ZNh0D8Ft3Ltk2HQPwW3cu2TYdA/Bbdy7ZNh0D+SKoZmstbQP5Iqhmay1tA/kiqGZrLW0D+SKoZmstbQP5Iqhmay1tA/kiqGZrLW0D+SKoZmstbQP5Iqhmay1tA/kiqGZrLW0D+SKoZmstbQP5Iqhmay1tA/Hp6Z39BL0T8enpnf0EvRPx6emd/QS9E/qxGtWO/A0T+rEa1Y78DRP6sRrVjvwNE/qxGtWO/A0T+rEa1Y78DRPziFwNENNtI/OIXA0Q020j84hcDRDTbSP8T400osq9I/3t/6PGmV0z/e3/o8aZXTP/fGIS+mf9Q/98YhL6Z/1D/3xiEvpn/UPw==",
          "dtype": "f8"
         },
         "yaxis": "y"
        },
        {
         "hovertemplate": "country=Turkey<br>num_selections=%{x}<br>jsd=%{y}<extra></extra>",
         "legendgroup": "Turkey",
         "marker": {
          "color": "#B6E880",
          "symbol": "circle"
         },
         "mode": "markers",
         "name": "Turkey",
         "showlegend": true,
         "type": "scattergl",
         "x": {
          "bdata": "CAIFDQQGBQcDCwwNBAUFDQQHBQQFDQsHAgcCAwMFAwQCBwIDAwIGAwIFBg0DBQUFAwQ=",
          "dtype": "i1"
         },
         "xaxis": "x",
         "y": {
          "bdata": "AAAAAAAA+H9YPKfhTcPUPyau7q+nVMo/1XpzvGWYyz9EmO8kT33VPwS55isD0sc/WfUtifXFvj9XQJGdT+rNPwGrKxYXksg/rPpqlVLxyD/NqqvkjOTaPxkfgVcfd8o/o4h0on/nxj/9wtX6al7CP6rOO8x1xsU/a1bDezVLyj9odr+1Rk/SP5bJf3ANf9Y/ilmVsze94j+SU4GjwyTIP0sC6awS9bc/KeAuHi2LzT8istvQRnLhPxTZ1ntitsY/FpmZ5YFDmj+2bxuuw2vQPwtxW+Pwm6I/WlxtvgjGyT+XTxnDRFPEPzDr+/TiSMo/4I3g18LPrj/pBNAv+TrAP5T7ef+bMsE/2QLXfECJwT8yIM442ZLbP5pDCzPG178/8MSJeJWJtz9oQp/kXHyaP6cc/3itpcM/U0LZD68lxT9VwEtcouPSP2als110RNw/qYbAFnJxuT+fOMU5BdLLP3Mfc4A078U/2sWDSSJP3z9mCaH6b8/YP3ROvoLTRdI/bREKvL0BwD/lwtvbUQ7IPw==",
          "dtype": "f8"
         },
         "yaxis": "y"
        },
        {
         "hovertemplate": "<b>OLS trendline</b><br>jsd = 0.00915409 * num_selections + 0.170135<br>R<sup>2</sup>=0.058408<br><br>country=Turkey<br>num_selections=%{x}<br>jsd=%{y} <b>(trend)</b><extra></extra>",
         "legendgroup": "Turkey",
         "marker": {
          "color": "#B6E880",
          "symbol": "circle"
         },
         "mode": "lines",
         "name": "Turkey",
         "showlegend": false,
         "type": "scattergl",
         "x": {
          "bdata": "AgICAgICAgMDAwMDAwMDAwQEBAQEBAUFBQUFBQUFBQUFBgYGBwcHBwcLCwwNDQ0NDQ==",
          "dtype": "i1"
         },
         "xaxis": "x",
         "y": {
          "bdata": "rVNtLOweyD+tU20s7B7IP61TbSzsHsg/rVNtLOweyD+tU20s7B7IP61TbSzsHsg/rVNtLOweyD8q8tVH4krJPyry1UfiSsk/KvLVR+JKyT8q8tVH4krJPyry1UfiSsk/KvLVR+JKyT8q8tVH4krJPyry1UfiSsk/KvLVR+JKyT+okD5j2HbKP6iQPmPYdso/qJA+Y9h2yj+okD5j2HbKP6iQPmPYdso/qJA+Y9h2yj8lL6d+zqLLPyUvp37Ooss/JS+nfs6iyz8lL6d+zqLLPyUvp37Ooss/JS+nfs6iyz8lL6d+zqLLPyUvp37Ooss/JS+nfs6iyz8lL6d+zqLLPyUvp37Ooss/os0PmsTOzD+izQ+axM7MP6LND5rEzsw/IGx4tbr6zT8gbHi1uvrNPyBseLW6+s0/IGx4tbr6zT8gbHi1uvrNPwtzjZFJVdE/C3ONkUlV0T9KwkGfROvRP4gR9qw/gdI/iBH2rD+B0j+IEfasP4HSP4gR9qw/gdI/iBH2rD+B0j8=",
          "dtype": "f8"
         },
         "yaxis": "y"
        },
        {
         "hovertemplate": "country=Uganda<br>num_selections=%{x}<br>jsd=%{y}<extra></extra>",
         "legendgroup": "Uganda",
         "marker": {
          "color": "#FF97FF",
          "symbol": "circle"
         },
         "mode": "markers",
         "name": "Uganda",
         "showlegend": true,
         "type": "scattergl",
         "x": {
          "bdata": "BAMFBQIFBQIDAgQIAgQDBAMDAwQEBAMDBQICBAMEBAMEBQQGCwIDCwUEBAQEAwsEAwU=",
          "dtype": "i1"
         },
         "xaxis": "x",
         "y": {
          "bdata": "SemiYyKS0z/LqO4WonXhP7gda4wFYr8/bipVkwahzz+q3542WevAP8DkSjvAhMI/pVpiEkG9yz+WmV82KbakP6NNaGMwnN0/WUSzWtrAtD9MXPuOd3ysP/5lqcmfaeA/YKslsu1Mij8FTenfOXPkP512HtiIidM/f0Y7dycXyj/zOkWgPyy8P5ssFTl5o+A/54/ZJ4aavT/7fpnbKbXUP8oUWpg/seA/DJO+Jvwv2T9asAZoGX3UPzvepxF+KtI/tR/TPTWmyz/U/TuiUyW+P87GelJWpaA/mpN/EeFu3T9hvUinFWa4PzkZ8+Vik8g/hh3vpgcT1z/pNqoP7+LQPxAa31wKlss/6eiOHZ6k0j9q8WUgpY3YP2VXXiVcDcc/lYY4ImCO4T90p0Wbx5ykP7An0SKUQbw/aEVm5Brx1T9+soZMoarQP/nXmUWUxNA/+3MsCbmTyT9tnxEvfe/MPzIeIm8Ve8o/VPZpjNja4z/fxXO53crAP6jVOXnfR9A/Tox9opDZxT/7VVqJFZHCPw==",
          "dtype": "f8"
         },
         "yaxis": "y"
        },
        {
         "hovertemplate": "<b>OLS trendline</b><br>jsd = 0.0200501 * num_selections + 0.175476<br>R<sup>2</sup>=0.066752<br><br>country=Uganda<br>num_selections=%{x}<br>jsd=%{y} <b>(trend)</b><extra></extra>",
         "legendgroup": "Uganda",
         "marker": {
          "color": "#FF97FF",
          "symbol": "circle"
         },
         "mode": "lines",
         "name": "Uganda",
         "showlegend": false,
         "type": "scattergl",
         "x": {
          "bdata": "AgICAgICAgMDAwMDAwMDAwMDAwMEBAQEBAQEBAQEBAQEBAQEBAUFBQUFBQUFBggLCws=",
          "dtype": "i1"
         },
         "xaxis": "x",
         "y": {
          "bdata": "IjHGFwSYyz8iMcYXBJjLPyIxxhcEmMs/IjHGFwSYyz8iMcYXBJjLPyIxxhcEmMs/IjHGFwSYyz8F48zmBCnOPwXjzOYEKc4/BePM5gQpzj8F48zmBCnOPwXjzOYEKc4/BePM5gQpzj8F48zmBCnOPwXjzOYEKc4/BePM5gQpzj8F48zmBCnOPwXjzOYEKc4/BePM5gQpzj8F48zmBCnOP3TK6doCXdA/dMrp2gJd0D90yunaAl3QP3TK6doCXdA/dMrp2gJd0D90yunaAl3QP3TK6doCXdA/dMrp2gJd0D90yunaAl3QP3TK6doCXdA/dMrp2gJd0D90yunaAl3QP3TK6doCXdA/dMrp2gJd0D90yunaAl3QP3TK6doCXdA/dMrp2gJd0D9mI21Cg6XRP2YjbUKDpdE/ZiNtQoOl0T9mI21Cg6XRP2YjbUKDpdE/ZiNtQoOl0T9mI21Cg6XRP2YjbUKDpdE/WHzwqQPu0j88Lvd4BH/VPxI5ga+FWNk/EjmBr4VY2T8SOYGvhVjZPw==",
          "dtype": "f8"
         },
         "yaxis": "y"
        },
        {
         "hovertemplate": "country=Ukraine<br>num_selections=%{x}<br>jsd=%{y}<extra></extra>",
         "legendgroup": "Ukraine",
         "marker": {
          "color": "#FECB52",
          "symbol": "circle"
         },
         "mode": "markers",
         "name": "Ukraine",
         "showlegend": true,
         "type": "scattergl",
         "x": {
          "bdata": "BgcFAgUHDQcDBA0CAgUNBAQFBAYGDgcDBgQEBQ4FBQ4HBAsHCwUEBAcEAwMFBwMFAg0=",
          "dtype": "i1"
         },
         "xaxis": "x",
         "y": {
          "bdata": "E4VX2lEs0z88S7UFUKvPP1N8ss3QHOA/OZz0WKHn0z+SUM5WgZbJP2WmgoMRmsE/xnIfwAU84D/FvYCRcbrWP1cxSXEru8U/8gBm4vS8yj+EfC0BwhrKP/38qpdih6A/8WWxC7nHnD+5tfx1GMu2P+WpjbTptcg/XSvp1t6q0z/7Isfe67C0P8NuCVgyqtc/OwIxYoJ92j96mZjB8R3aP0wNSIAZDc4/oCtGE05y1T8fbgzXoGbSP+725ry7E8U/6ZOPcVHA0T9xCMxFnuWxP4y/jHBi99c/4mG355ldtz9uIO+IwffSP36eFE8cCsk/KH/WEqGU2z/R9THNySnbP8UNHXHxlMI//zkT4T58zD9aG45RK+DRP9IlP43gOMs/P4CusBUw4z9wT23aZ2PMP2fW8yIlHcI/uj5VKamCxT+s47WGDg/QP7z2LakrzLA/GxZonc9ewj8VK4JLHkvBP/KWjYh878g/39HQlE9b0D8VY2od+PnAP5te+CF/3ss/JF3GPhFZzj+aM85XOdLUPw==",
          "dtype": "f8"
         },
         "yaxis": "y"
        },
        {
         "hovertemplate": "<b>OLS trendline</b><br>jsd = 0.0163316 * num_selections + 0.143026<br>R<sup>2</sup>=0.203382<br><br>country=Ukraine<br>num_selections=%{x}<br>jsd=%{y} <b>(trend)</b><extra></extra>",
         "legendgroup": "Ukraine",
         "marker": {
          "color": "#FECB52",
          "symbol": "circle"
         },
         "mode": "lines",
         "name": "Ukraine",
         "showlegend": false,
         "type": "scattergl",
         "x": {
          "bdata": "AgICAgMDAwMDBAQEBAQEBAQEBAUFBQUFBQUFBQUGBgYGBwcHBwcHBwcLCw0NDQ0ODg4=",
          "dtype": "i1"
         },
         "xaxis": "x",
         "y": {
          "bdata": "SGqYv/18xj9Iapi//XzGP0hqmL/9fMY/SGqYv/18xj9EUMaEJZTIP0RQxoQllMg/RFDGhCWUyD9EUMaEJZTIP0RQxoQllMg/QTb0SU2ryj9BNvRJTavKP0E29ElNq8o/QTb0SU2ryj9BNvRJTavKP0E29ElNq8o/QTb0SU2ryj9BNvRJTavKP0E29ElNq8o/QTb0SU2ryj8+HCIPdcLMPz4cIg91wsw/PhwiD3XCzD8+HCIPdcLMPz4cIg91wsw/PhwiD3XCzD8+HCIPdcLMPz4cIg91wsw/PhwiD3XCzD8+HCIPdcLMPzoCUNSc2c4/OgJQ1JzZzj86AlDUnNnOPzoCUNSc2c4/HPS+TGJ40D8c9L5MYnjQPxz0vkxieNA/HPS+TGJ40D8c9L5MYnjQPxz0vkxieNA/HPS+TGJ40D8c9L5MYnjQPxXAGtexptQ/FcAa17Gm1D8Spkic2b3WPxKmSJzZvdY/EqZInNm91j8Spkic2b3WPxCZ335tydc/EJnffm3J1z8Qmd9+bcnXPw==",
          "dtype": "f8"
         },
         "yaxis": "y"
        },
        {
         "hovertemplate": "country=United States<br>num_selections=%{x}<br>jsd=%{y}<extra></extra>",
         "legendgroup": "United States",
         "marker": {
          "color": "#636efa",
          "symbol": "circle"
         },
         "mode": "markers",
         "name": "United States",
         "showlegend": true,
         "type": "scattergl",
         "x": {
          "bdata": "BQIFDgIHAgIEAgQDBgUCBAQFAwcHAgYNAg0KBAQDBAUCBQcFBQYFAgsEBQYFBQ4CBw4=",
          "dtype": "i1"
         },
         "xaxis": "x",
         "y": {
          "bdata": "LA7td2aM0D/abXN3+LasP/b3FuAlaMM/7+zYUCoR1j/+F22n7cilP+dUdPrazMs/lyJq+m5cuz/ZlsIYoq3AP76hkZPRU8Y/h3319akeYT8aqPEzUn28PzPXUr2Wg8w/mqgcXQL3yD/bSiCucA/QP54aFvLO8Mg/6Y8TjABvzT9d7Ic0rjS+PynIPGSu/Lg/oMOX7lWwzT+MmMUzQv3SPw1EXVuDm80/hVGlSGvLyz8XyK71KX7SPwAAAAAAAPA/1NPie2NIxz/CrBzWB37fP0Y5Qa9Eve8/R3VIPHWKzj9ttDAsIrvQP7MW19rt/7M/MdhtUJQsxT90pFEPZPm6PzQTkb4yRrw/gBdjUvJt0z+438oi+BrIP7ES7bjmbZ4/itPxKVjIxz95h67o4M7QP7rncBgsmMg/rKKRNLhlqj9rqIbtToznP//yNq+gTdA/9QK/QQ5IuT8gZaff0fTOP06QWTsfPr0/EvWV4z3YyD/iHWriv+LYPxwreycZv7o/PAP/1MZRxD/IDxO7SmLRPw==",
          "dtype": "f8"
         },
         "yaxis": "y"
        },
        {
         "hovertemplate": "<b>OLS trendline</b><br>jsd = 0.039663 * num_selections + 0.0164904<br>R<sup>2</sup>=0.458338<br><br>country=United States<br>num_selections=%{x}<br>jsd=%{y} <b>(trend)</b><extra></extra>",
         "legendgroup": "United States",
         "marker": {
          "color": "#636efa",
          "symbol": "circle"
         },
         "mode": "lines",
         "name": "United States",
         "showlegend": false,
         "type": "scattergl",
         "x": {
          "bdata": "AgICAgICAgICAgIDAwMEBAQEBAQEBAUFBQUFBQUFBQUFBQYGBgYHBwcHBwoLDQ0ODg4=",
          "dtype": "i1"
         },
         "xaxis": "x",
         "y": {
          "bdata": "w5dITmqHuD/Dl0hOaoe4P8OXSE5qh7g/w5dITmqHuD/Dl0hOaoe4P8OXSE5qh7g/w5dITmqHuD/Dl0hOaoe4P8OXSE5qh7g/w5dITmqHuD/Dl0hOaoe4PxA2WiZiV8E/EDZaJmJXwT8QNlomYlfBP0AgkCUPa8Y/QCCQJQ9rxj9AIJAlD2vGP0AgkCUPa8Y/QCCQJQ9rxj9AIJAlD2vGP0AgkCUPa8Y/QCCQJQ9rxj9uCsYkvH7LP24KxiS8fss/bgrGJLx+yz9uCsYkvH7LP24KxiS8fss/bgrGJLx+yz9uCsYkvH7LP24KxiS8fss/bgrGJLx+yz9uCsYkvH7LP24KxiS8fss/bgrGJLx+yz9P+v2RNEnQP0/6/ZE0SdA/T/r9kTRJ0D9P+v2RNEnQP2bvmBEL09I/Zu+YEQvT0j9m75gRC9PSP2bvmBEL09I/Zu+YEQvT0j+tzmmQjnDaP8TDBBBl+tw/+ladBwkH4T/6Vp0HCQfhP4XRakf0S+I/hdFqR/RL4j+F0WpH9EviPw==",
          "dtype": "f8"
         },
         "yaxis": "y"
        },
        {
         "hovertemplate": "country=Uruguay<br>num_selections=%{x}<br>jsd=%{y}<extra></extra>",
         "legendgroup": "Uruguay",
         "marker": {
          "color": "#EF553B",
          "symbol": "circle"
         },
         "mode": "markers",
         "name": "Uruguay",
         "showlegend": true,
         "type": "scattergl",
         "x": {
          "bdata": "BQYNDQUNDgUNCAcNBgcFDgcFBwUHDQcHBgcNBQUHBw0HDgcFCAcFBg0NBgcNBgcHBg0=",
          "dtype": "i1"
         },
         "xaxis": "x",
         "y": {
          "bdata": "mt1hRSv1xD87mmRIr8jTP5YkWsHCjso/uTCFGFEP1T8gL1IKCxPKP5ZVPxO7CdE/a2Hrgenw5D/uvm6MZjLRPwVT2qmJcdo/DhLusf8Z0z+rnyafKy3AP4SL8RtlC9M/wU8d+uRp0D8rzDmuOOnVP4em1zN//8Y/nmyyWMNW2j/FQkrRkLy8P7EDirf358A/Y56jgI9gvT9NE1XCIiHePzvD5ZToutE/U2+lt9pnzj86O2IV+sPdP51kgpxlgc8/1eYgZnWUvj8V4GGVh/jKPzfoNdIGacg/5O6PUChu0z8hW2HKv5rSP9zixHmNPc0/Q+7+gsRaxj+tV4LgLqrJP+9t8Q61RNU/S56polza0z8O6CNYwzDJP8A68FM30dE/ghgSwhQf0D8bkm+scZ/HPxeRAZ6Wb8Q/HSTT7sRWxj80U8EM8MPfP2SbR4gts8g/n0y59qMj0z85NZLXPlTLP4pMPyujCdU/J7dquAUByD9glzF/4FrTPyTW8C16jsQ/LtA9GsKxwz/onlsVnY/DPw==",
          "dtype": "f8"
         },
         "yaxis": "y"
        },
        {
         "hovertemplate": "<b>OLS trendline</b><br>jsd = 0.011475 * num_selections + 0.161641<br>R<sup>2</sup>=0.119468<br><br>country=Uruguay<br>num_selections=%{x}<br>jsd=%{y} <b>(trend)</b><extra></extra>",
         "legendgroup": "Uruguay",
         "marker": {
          "color": "#EF553B",
          "symbol": "circle"
         },
         "mode": "lines",
         "name": "Uruguay",
         "showlegend": false,
         "type": "scattergl",
         "x": {
          "bdata": "BQUFBQUFBQUFBQYGBgYGBgYHBwcHBwcHBwcHBwcHBwcHCAgNDQ0NDQ0NDQ0NDQ0ODg4=",
          "dtype": "i1"
         },
         "xaxis": "x",
         "y": {
          "bdata": "zrwU77oIzD/OvBTvugjMP868FO+6CMw/zrwU77oIzD/OvBTvugjMP868FO+6CMw/zrwU77oIzD/OvBTvugjMP868FO+6CMw/zrwU77oIzD84KwyLvoDNPzgrDIu+gM0/OCsMi76AzT84KwyLvoDNPzgrDIu+gM0/OCsMi76AzT84KwyLvoDNP6KZAyfC+M4/opkDJ8L4zj+imQMnwvjOP6KZAyfC+M4/opkDJ8L4zj+imQMnwvjOP6KZAyfC+M4/opkDJ8L4zj+imQMnwvjOP6KZAyfC+M4/opkDJ8L4zj+imQMnwvjOP6KZAyfC+M4/opkDJ8L4zj+imQMnwvjOP6KZAyfC+M4/BoR94WI40D8GhH3hYjjQPw4YaOdr5NM/Dhho52vk0z8OGGjna+TTPw4YaOdr5NM/Dhho52vk0z8OGGjna+TTPw4YaOdr5NM/Dhho52vk0z8OGGjna+TTPw4YaOdr5NM/Dhho52vk0z8OGGjna+TTP0PPY7VtoNQ/Q89jtW2g1D9Dz2O1baDUPw==",
          "dtype": "f8"
         },
         "yaxis": "y"
        },
        {
         "hovertemplate": "country=Uzbekistan<br>num_selections=%{x}<br>jsd=%{y}<extra></extra>",
         "legendgroup": "Uzbekistan",
         "marker": {
          "color": "#00cc96",
          "symbol": "circle"
         },
         "mode": "markers",
         "name": "Uzbekistan",
         "showlegend": true,
         "type": "scattergl",
         "x": {
          "bdata": "BAQECwIDAwQDBAMFAwQDCwQDAgQFBAQCBQIEBAUEBAIDBAQFAgIFBAIDAgMCBAQEBAQ=",
          "dtype": "i1"
         },
         "xaxis": "x",
         "y": {
          "bdata": "RyYVghin0T8iVvWgp8TMPziteuABj9s/rcg6clXT5j/AMO9vyoLDP9PTIiaPsMY/LK15R7+hzj+8sz3tODXQP9fwP4XdO9I/c+/pR6JC0j/4js2swfTHPxhmqWG4n80/JeoWTSgyyD9aey42zSzgP7Iun72xa9Q/zy3uKqye2T+0Vhsp597PP8HRpaDp+tQ/OZLl1g7J0T8ZdsQpTIbSP1hFgu7/DuE/ChoBpdrHwT90Ya9yYJWvP6vshhbissw/qfWSfe3Ixz912VuzdBinPwFDSHIQTKQ/OTR2ENnt0D/kTXMPc4vKPxtC5erDVMo/Rinpdmh52D9iHm5y6IPRP7bcVzuP5N8/38vN4rdn0z/k22tti5PEPwv+Ql+utNo/b/izKxPftT9Uw5lPfRvgP4ycMD80wcw/nHwxdOD6qj+JklKxqbKyP3uY+iXpbck/cZ8p1InMuj9zi5yIEg/SP++PtpMldNY/G3SPP20SyT8Dc3AQmWLHP9sHRzJn3dY/n2rPZ+UZwD+fVeG6wLfVPw==",
          "dtype": "f8"
         },
         "yaxis": "y"
        },
        {
         "hovertemplate": "<b>OLS trendline</b><br>jsd = 0.0349749 * num_selections + 0.127731<br>R<sup>2</sup>=0.195656<br><br>country=Uzbekistan<br>num_selections=%{x}<br>jsd=%{y} <b>(trend)</b><extra></extra>",
         "legendgroup": "Uzbekistan",
         "marker": {
          "color": "#00cc96",
          "symbol": "circle"
         },
         "mode": "lines",
         "name": "Uzbekistan",
         "showlegend": false,
         "type": "scattergl",
         "x": {
          "bdata": "AgICAgICAgICAgMDAwMDAwMDAwMEBAQEBAQEBAQEBAQEBAQEBAQEBAQEBQUFBQUFCws=",
          "dtype": "i1"
         },
         "xaxis": "x",
         "y": {
          "bdata": "lNjSjZpNyT+U2NKNmk3JP5TY0o2aTck/lNjSjZpNyT+U2NKNmk3JP5TY0o2aTck/lNjSjZpNyT+U2NKNmk3JP5TY0o2aTck/lNjSjZpNyT8JkeumqcfNPwmR66apx80/CZHrpqnHzT8JkeumqcfNPwmR66apx80/CZHrpqnHzT8JkeumqcfNPwmR66apx80/CZHrpqnHzT8JkeumqcfNP8AkAmDcINE/wCQCYNwg0T/AJAJg3CDRP8AkAmDcINE/wCQCYNwg0T/AJAJg3CDRP8AkAmDcINE/wCQCYNwg0T/AJAJg3CDRP8AkAmDcINE/wCQCYNwg0T/AJAJg3CDRP8AkAmDcINE/wCQCYNwg0T/AJAJg3CDRP8AkAmDcINE/wCQCYNwg0T/AJAJg3CDRP8AkAmDcINE/wCQCYNwg0T/AJAJg3CDRP8AkAmDcINE/+oCO7ONd0z/6gI7s413TP/qAjuzjXdM/+oCO7ONd0z/6gI7s413TP/qAjuzjXdM/LlXsmwhm4D8uVeybCGbgPw==",
          "dtype": "f8"
         },
         "yaxis": "y"
        },
        {
         "hovertemplate": "country=Venezuela<br>num_selections=%{x}<br>jsd=%{y}<extra></extra>",
         "legendgroup": "Venezuela",
         "marker": {
          "color": "#ab63fa",
          "symbol": "circle"
         },
         "mode": "markers",
         "name": "Venezuela",
         "showlegend": true,
         "type": "scattergl",
         "x": {
          "bdata": "AgQFBAMCBQsOBgsFBAcDDQUGBgcDBwUEBQQEAwUNBwQLBQYIBwsFBwYEDQgNBwQCAgY=",
          "dtype": "i1"
         },
         "xaxis": "x",
         "y": {
          "bdata": "SCXUg7UhyT9hE0mlEV62Pwj73zNc4s8/dgprpgmT0z+RZhEfSUXOP6QjDTPmf94/9I6GRHne0D/m2Zj5KUDlP1gD/JfREc0/aiKV2N+L0j97T5GCKI7XP42fsaxzk88/NLhJ3q6V0T9Aq1yUbCHTPzLTACfUW9w/MrKb3uro3T8VlZZ+aEDiPxcmICV/Cs4/XQTnfowawD9w0C/v4aLUP/cm4GCRGcM/Vd2IeIC/yj99p+4Q/2fGP6ApV3ufMM0/w5Jjgojr1T94Vv7nlPPWPzUyywF1G9I//9ySyW4uwz8oOvKWX8XCP6o2bsKrzt8/J3XMAs2CzD9KLDG8Fh7hPz7NA05C6dc/Nag8PG6d0j83BvxdRFDTPyIxZjOFSro/69TqcdbN2T9vSq9lY4HUP8NZHcgwdOA/byZPb5n51j94eTm2Xg7LP2bx6HHT3sE/G1P1tDgU2z+E+Bfkw3XMP7vexxJXps8/u5BZNDlT1j+520kx0VjDP4REd+SjcMc/RdvtPlHlxz8QAvaHVj/SPw==",
          "dtype": "f8"
         },
         "yaxis": "y"
        },
        {
         "hovertemplate": "<b>OLS trendline</b><br>jsd = 0.0126511 * num_selections + 0.215242<br>R<sup>2</sup>=0.101774<br><br>country=Venezuela<br>num_selections=%{x}<br>jsd=%{y} <b>(trend)</b><extra></extra>",
         "legendgroup": "Venezuela",
         "marker": {
          "color": "#ab63fa",
          "symbol": "circle"
         },
         "mode": "lines",
         "name": "Venezuela",
         "showlegend": false,
         "type": "scattergl",
         "x": {
          "bdata": "AgICAgMDAwMEBAQEBAQEBAQFBQUFBQUFBQUGBgYGBgYHBwcHBwcHCAgLCwsLDQ0NDQ4=",
          "dtype": "i1"
         },
         "xaxis": "x",
         "y": {
          "bdata": "lpAe1SPKzj+WkB7VI8rOP5aQHtUjys4/lpAe1SPKzj/dCGBjWDTQP90IYGNYNNA/3QhgY1g00D/dCGBjWDTQP27JMNyeA9E/bskw3J4D0T9uyTDcngPRP27JMNyeA9E/bskw3J4D0T9uyTDcngPRP27JMNyeA9E/bskw3J4D0T9uyTDcngPRPwCKAVXl0tE/AIoBVeXS0T8AigFV5dLRPwCKAVXl0tE/AIoBVeXS0T8AigFV5dLRPwCKAVXl0tE/AIoBVeXS0T8AigFV5dLRP5JK0s0rotI/kkrSzSui0j+SStLNK6LSP5JK0s0rotI/kkrSzSui0j+SStLNK6LSPyQLo0ZycdM/JAujRnJx0z8kC6NGcnHTPyQLo0ZycdM/JAujRnJx0z8kC6NGcnHTPyQLo0ZycdM/tctzv7hA1D+1y3O/uEDUP2oN5imMrtY/ag3mKYyu1j9qDeYpjK7WP2oN5imMrtY/jY6HGxlN2D+NjocbGU3YP42OhxsZTdg/jY6HGxlN2D8fT1iUXxzZPw==",
          "dtype": "f8"
         },
         "yaxis": "y"
        },
        {
         "hovertemplate": "country=Venezuela (Non-national sample)<br>num_selections=%{x}<br>jsd=%{y}<extra></extra>",
         "legendgroup": "Venezuela (Non-national sample)",
         "marker": {
          "color": "#FFA15A",
          "symbol": "circle"
         },
         "mode": "markers",
         "name": "Venezuela (Non-national sample)",
         "showlegend": true,
         "type": "scattergl",
         "x": {
          "bdata": "BAICBAIFAgMEBAIDBgUCAgQDAwQEAwMEAgQDBAMEBAQFBQUFBAQIBAQEBAQCBQQDBAU=",
          "dtype": "i1"
         },
         "xaxis": "x",
         "y": {
          "bdata": "xMznSCUf3T/mrzQLfDLCPxryjpkynrA/G/FJAfiB3D/TZyTxPP+kPy4C5ZKfcdU/o6wLe6Hd1j/yjL0f87fJP6LJ+k7Q68E/wTw1ir9e2j9NV7j9CKPSPz0EewcGOcs/3Qf+XakR0T89OvBB7eTPP8qMH+qfA74/K5xVW2tuoT9MO+SeiyrfP50chr7XmNo/kY1AiOrTyT9NbxHVyNK6P3HUX9Y+M9E/k6eEAnTxwT/STXpydUO9PzcA8D52dMc/jfwLUuYpwD/QUVxEmwLEPy9rzUzqedo/GBRG2QuVwz8xT86+bxDPP02S5Tw4E88/C8Q8SqubwD9UW7TgOhzHP8vKsqwUntE/ZYGMnDbjwj8bKGIhxOXSPy5zZUrcvdA/PE2HVi794T99KOlqnuPWP7xmjS25Z+I/qqgsI58pwz8Kj0GfsGrEPyrC2Ii9dNE/iIwguw24xz9Q7jnaFfbRP9THX+xafMY//JuiizHf0j+vzSz5RVzdP+DnUzEfSc8/jSYA0mXAzj99lxaS8vvmPw==",
          "dtype": "f8"
         },
         "yaxis": "y"
        },
        {
         "hovertemplate": "<b>OLS trendline</b><br>jsd = 0.0560203 * num_selections + 0.0500908<br>R<sup>2</sup>=0.210746<br><br>country=Venezuela (Non-national sample)<br>num_selections=%{x}<br>jsd=%{y} <b>(trend)</b><extra></extra>",
         "legendgroup": "Venezuela (Non-national sample)",
         "marker": {
          "color": "#FFA15A",
          "symbol": "circle"
         },
         "mode": "lines",
         "name": "Venezuela (Non-national sample)",
         "showlegend": false,
         "type": "scattergl",
         "x": {
          "bdata": "AgICAgICAgICAwMDAwMDAwMDBAQEBAQEBAQEBAQEBAQEBAQEBAQEBAUFBQUFBQUFBgg=",
          "dtype": "i1"
         },
         "xaxis": "x",
         "y": {
          "bdata": "zR535rfAxD/NHnfmt8DEP80ed+a3wMQ/zR535rfAxD/NHnfmt8DEP80ed+a3wMQ/zR535rfAxD/NHnfmt8DEP80ed+a3wMQ/DqrbAWTsyz8OqtsBZOzLPw6q2wFk7Ms/DqrbAWTsyz8OqtsBZOzLPw6q2wFk7Ms/DqrbAWTsyz8OqtsBZOzLPw6q2wFk7Ms/qBqgDgiM0T+oGqAOCIzRP6gaoA4IjNE/qBqgDgiM0T+oGqAOCIzRP6gaoA4IjNE/qBqgDgiM0T+oGqAOCIzRP6gaoA4IjNE/qBqgDgiM0T+oGqAOCIzRP6gaoA4IjNE/qBqgDgiM0T+oGqAOCIzRP6gaoA4IjNE/qBqgDgiM0T+oGqAOCIzRP6gaoA4IjNE/qBqgDgiM0T+oGqAOCIzRP6gaoA4IjNE/qBqgDgiM0T9IYFIc3iHVP0hgUhzeIdU/SGBSHN4h1T9IYFIc3iHVP0hgUhzeIdU/SGBSHN4h1T9IYFIc3iHVP0hgUhzeIdU/6aUEKrS32D8qMWlFYOPfPw==",
          "dtype": "f8"
         },
         "yaxis": "y"
        },
        {
         "hovertemplate": "country=Vietnam<br>num_selections=%{x}<br>jsd=%{y}<extra></extra>",
         "legendgroup": "Vietnam",
         "marker": {
          "color": "#19d3f3",
          "symbol": "circle"
         },
         "mode": "markers",
         "name": "Vietnam",
         "showlegend": true,
         "type": "scattergl",
         "x": {
          "bdata": "BgUHAwUNBwgLCw0HBQUGBAIDBQUFAwYDBwgCBgcHBgMLBQIHBQUGAwsEAgULAgUCAw0=",
          "dtype": "i1"
         },
         "xaxis": "x",
         "y": {
          "bdata": "NRvBmaBU3D//GFzZQv7XP7+sopvVj9c//gIqfQXKyD9iIcg31rTQPzpBm+da09A/q2R+8F8R2j8S0mBSB7bcP1I50kwi3eQ/fdRacZ4S4T/TxUMg0gDfP1bcbW4iRtU/lMzfQnBV2j9hh+HOcEfUPwsTIhHSot8/7P1VsvVzuT/LvfxWn2DHP3bUaM77Y7s/xz5ac+h1wD/VDTobzObKP5zn2El1l9k/BVI2MzG5wj/+UdO4TJzQP6swhnM5yrc/X3xfoJES0z+FZv7dzxjWP3ev59ky/Mk/e4xqS1O61T/MGsMUGr7YPz95bKh2ztk/ukoqFaTCyj+7NSokc6vHP2QS3FtZQLo/gco7Dgg+4j/6/ksdAKbUPzx0Ftm1L9w/Nn3vkZvb1D9WBBMMOY/XP8vuIdcoRto/JYyhbyiwuD8u5bH/bZvMPws0wfjcBMM/grwgRiPHrj9Gi99NYYrFP5j5D6QUDtQ//9WTUYjmyz9T+27eNp7VP7mPdj2KRbE/m0+r7mbT0z9kYvjE30jJPw==",
          "dtype": "f8"
         },
         "yaxis": "y"
        },
        {
         "hovertemplate": "<b>OLS trendline</b><br>jsd = 0.0196658 * num_selections + 0.176804<br>R<sup>2</sup>=0.186171<br><br>country=Vietnam<br>num_selections=%{x}<br>jsd=%{y} <b>(trend)</b><extra></extra>",
         "legendgroup": "Vietnam",
         "marker": {
          "color": "#19d3f3",
          "symbol": "circle"
         },
         "mode": "lines",
         "name": "Vietnam",
         "showlegend": false,
         "type": "scattergl",
         "x": {
          "bdata": "AgICAgICAwMDAwMDAwQEBQUFBQUFBQUFBQUFBgYGBgYGBwcHBwcHBwgICwsLCwsNDQ0=",
          "dtype": "i1"
         },
         "xaxis": "x",
         "y": {
          "bdata": "ynsBy1Sqyz/KewHLVKrLP8p7ActUqss/ynsBy1Sqyz/KewHLVKrLP8p7ActUqss/ty1phL0uzj+3LWmEvS7OP7ctaYS9Ls4/ty1phL0uzj+3LWmEvS7OP7ctaYS9Ls4/ty1phL0uzj/Sb+gek1nQP9Jv6B6TWdA/yEice8eb0T/ISJx7x5vRP8hInHvHm9E/yEice8eb0T/ISJx7x5vRP8hInHvHm9E/yEice8eb0T/ISJx7x5vRP8hInHvHm9E/yEice8eb0T/ISJx7x5vRP8hInHvHm9E/viFQ2Pvd0j++IVDY+93SP74hUNj73dI/viFQ2Pvd0j++IVDY+93SP74hUNj73dI/tPoDNTAg1D+0+gM1MCDUP7T6AzUwINQ/tPoDNTAg1D+0+gM1MCDUP7T6AzUwINQ/tPoDNTAg1D+q07eRZGLVP6rTt5FkYtU/jF7TpwEp2T+MXtOnASnZP4xe06cBKdk/jF7TpwEp2T+MXtOnASnZP3kQO2Fqrds/eRA7YWqt2z95EDthaq3bPw==",
          "dtype": "f8"
         },
         "yaxis": "y"
        },
        {
         "hovertemplate": "country=Vietnam (Non-national sample)<br>num_selections=%{x}<br>jsd=%{y}<extra></extra>",
         "legendgroup": "Vietnam (Non-national sample)",
         "marker": {
          "color": "#FF6692",
          "symbol": "circle"
         },
         "mode": "markers",
         "name": "Vietnam (Non-national sample)",
         "showlegend": true,
         "type": "scattergl",
         "x": {
          "bdata": "BAQEBQQDBQQFBAQCBQMCAwsEAwMFBQMCAwIEBAQDBQUDBQIDBAMEAgMCBAQCAwICAwI=",
          "dtype": "i1"
         },
         "xaxis": "x",
         "y": {
          "bdata": "RdGJthgI1j/xTa+pbyDVP+r/k7aig8s/x8HGenkW0T/l9/nKNkrVP0RVGXpV5do/oxrgHrRM2j+rXoiXJjrBP5cxO6IUgNs/D1cemAzOyD9IIzq73ZyxP2wkvWbVELU/iD6bHP37wz8uYa/aA3rQP44MoAWaCcc/ZL+QTG/czT8v8nw+W7HhP4L89WZLAco/3hkW3NzY2z9VsjxnJC3dPxI7h51Xu9Q/tmRRxIk50D9STJ6rtT7bPwfXygUsONA/RBnGPoYf1j9BSKMjQ2CnP5wFUsgTz8s/hGxMNOGXzD9LB1DDIm3PPwaoJI7Mn9M/Khip56Oa0j+imXdWcNnYPzSLRRu85dE/LbnCdukg0D9Sv2rinefCPzPEzRfj0dU/veDYy9AU3z+T4IcjcrHYP0Bb0icrhs4/MwU88qFPxD+E8CHAg8rVP9u0GggTFMI/IuQG6W1L2T8jfpSF9BvAP9fFU8ikI9o/RZviwpIW0j/HA62/Zl3RP75AIDaB5s4/MBNq8dAJxj9IeNG8+7qkPw==",
          "dtype": "f8"
         },
         "yaxis": "y"
        },
        {
         "hovertemplate": "<b>OLS trendline</b><br>jsd = 0.0325181 * num_selections + 0.157555<br>R<sup>2</sup>=0.165299<br><br>country=Vietnam (Non-national sample)<br>num_selections=%{x}<br>jsd=%{y} <b>(trend)</b><extra></extra>",
         "legendgroup": "Vietnam (Non-national sample)",
         "marker": {
          "color": "#FF6692",
          "symbol": "circle"
         },
         "mode": "lines",
         "name": "Vietnam (Non-national sample)",
         "showlegend": false,
         "type": "scattergl",
         "x": {
          "bdata": "AgICAgICAgICAgIDAwMDAwMDAwMDAwMDAwQEBAQEBAQEBAQEBAQEBAUFBQUFBQUFBQs=",
          "dtype": "i1"
         },
         "xaxis": "x",
         "y": {
          "bdata": "nWUN3959zD+dZQ3f3n3MP51lDd/efcw/nWUN3959zD+dZQ3f3n3MP51lDd/efcw/nWUN3959zD+dZQ3f3n3MP51lDd/efcw/nWUN3959zD+dZQ3f3n3MP21j3F+2U9A/bWPcX7ZT0D9tY9xftlPQP21j3F+2U9A/bWPcX7ZT0D9tY9xftlPQP21j3F+2U9A/bWPcX7ZT0D9tY9xftlPQP21j3F+2U9A/bWPcX7ZT0D9tY9xftlPQP21j3F+2U9A/bWPcX7ZT0D8MFDJQfWjSPwwUMlB9aNI/DBQyUH1o0j8MFDJQfWjSPwwUMlB9aNI/DBQyUH1o0j8MFDJQfWjSPwwUMlB9aNI/DBQyUH1o0j8MFDJQfWjSPwwUMlB9aNI/DBQyUH1o0j8MFDJQfWjSPwwUMlB9aNI/DBQyUH1o0j+rxIdARH3UP6vEh0BEfdQ/q8SHQER91D+rxIdARH3UP6vEh0BEfdQ/q8SHQER91D+rxIdARH3UP6vEh0BEfdQ/q8SHQER91D8y9ETx9nzgPw==",
          "dtype": "f8"
         },
         "yaxis": "y"
        },
        {
         "hovertemplate": "country=Zimbabwe<br>num_selections=%{x}<br>jsd=%{y}<extra></extra>",
         "legendgroup": "Zimbabwe",
         "marker": {
          "color": "#B6E880",
          "symbol": "circle"
         },
         "mode": "markers",
         "name": "Zimbabwe",
         "showlegend": true,
         "type": "scattergl",
         "x": {
          "bdata": "BQ4HBQ0NBQYNCAYFBgc=",
          "dtype": "i1"
         },
         "xaxis": "x",
         "y": {
          "bdata": "7nJQjuS02j/70tQtsc/XPyXj0DHSkNA/oM28yxaK3D/+56/z55/UP+a+8SHdh84/Ub6/nyD30D/ELC7X+nLUP4zqUGL2ksg/Hl8/nOpf0T9+I7ZxlATOPz/yJVMdes0/Id6/Rnah1D+4H9UM62HaPw==",
          "dtype": "f8"
         },
         "yaxis": "y"
        },
        {
         "hovertemplate": "<b>OLS trendline</b><br>jsd = -0.00503818 * num_selections + 0.347975<br>R<sup>2</sup>=0.049945<br><br>country=Zimbabwe<br>num_selections=%{x}<br>jsd=%{y} <b>(trend)</b><extra></extra>",
         "legendgroup": "Zimbabwe",
         "marker": {
          "color": "#B6E880",
          "symbol": "circle"
         },
         "mode": "lines",
         "name": "Zimbabwe",
         "showlegend": false,
         "type": "scattergl",
         "x": {
          "bdata": "BQUFBQYGBgcHCA0NDQ4=",
          "dtype": "i1"
         },
         "xaxis": "x",
         "y": {
          "bdata": "x+kEXoCo1D/H6QRegKjUP8fpBF6AqNQ/x+kEXoCo1D//Bca69FXUP/8Fxrr0VdQ//wXGuvRV1D82IocXaQPUPzYihxdpA9Q/bj5IdN2w0z+Dyw1EIxTSP4PLDUQjFNI/g8sNRCMU0j+6586gl8HRPw==",
          "dtype": "f8"
         },
         "yaxis": "y"
        }
       ],
       "layout": {
        "legend": {
         "title": {
          "text": "country"
         },
         "tracegroupgap": 0
        },
        "margin": {
         "t": 60
        },
        "template": {
         "data": {
          "bar": [
           {
            "error_x": {
             "color": "#2a3f5f"
            },
            "error_y": {
             "color": "#2a3f5f"
            },
            "marker": {
             "line": {
              "color": "#E5ECF6",
              "width": 0.5
             },
             "pattern": {
              "fillmode": "overlay",
              "size": 10,
              "solidity": 0.2
             }
            },
            "type": "bar"
           }
          ],
          "barpolar": [
           {
            "marker": {
             "line": {
              "color": "#E5ECF6",
              "width": 0.5
             },
             "pattern": {
              "fillmode": "overlay",
              "size": 10,
              "solidity": 0.2
             }
            },
            "type": "barpolar"
           }
          ],
          "carpet": [
           {
            "aaxis": {
             "endlinecolor": "#2a3f5f",
             "gridcolor": "white",
             "linecolor": "white",
             "minorgridcolor": "white",
             "startlinecolor": "#2a3f5f"
            },
            "baxis": {
             "endlinecolor": "#2a3f5f",
             "gridcolor": "white",
             "linecolor": "white",
             "minorgridcolor": "white",
             "startlinecolor": "#2a3f5f"
            },
            "type": "carpet"
           }
          ],
          "choropleth": [
           {
            "colorbar": {
             "outlinewidth": 0,
             "ticks": ""
            },
            "type": "choropleth"
           }
          ],
          "contour": [
           {
            "colorbar": {
             "outlinewidth": 0,
             "ticks": ""
            },
            "colorscale": [
             [
              0,
              "#0d0887"
             ],
             [
              0.1111111111111111,
              "#46039f"
             ],
             [
              0.2222222222222222,
              "#7201a8"
             ],
             [
              0.3333333333333333,
              "#9c179e"
             ],
             [
              0.4444444444444444,
              "#bd3786"
             ],
             [
              0.5555555555555556,
              "#d8576b"
             ],
             [
              0.6666666666666666,
              "#ed7953"
             ],
             [
              0.7777777777777778,
              "#fb9f3a"
             ],
             [
              0.8888888888888888,
              "#fdca26"
             ],
             [
              1,
              "#f0f921"
             ]
            ],
            "type": "contour"
           }
          ],
          "contourcarpet": [
           {
            "colorbar": {
             "outlinewidth": 0,
             "ticks": ""
            },
            "type": "contourcarpet"
           }
          ],
          "heatmap": [
           {
            "colorbar": {
             "outlinewidth": 0,
             "ticks": ""
            },
            "colorscale": [
             [
              0,
              "#0d0887"
             ],
             [
              0.1111111111111111,
              "#46039f"
             ],
             [
              0.2222222222222222,
              "#7201a8"
             ],
             [
              0.3333333333333333,
              "#9c179e"
             ],
             [
              0.4444444444444444,
              "#bd3786"
             ],
             [
              0.5555555555555556,
              "#d8576b"
             ],
             [
              0.6666666666666666,
              "#ed7953"
             ],
             [
              0.7777777777777778,
              "#fb9f3a"
             ],
             [
              0.8888888888888888,
              "#fdca26"
             ],
             [
              1,
              "#f0f921"
             ]
            ],
            "type": "heatmap"
           }
          ],
          "histogram": [
           {
            "marker": {
             "pattern": {
              "fillmode": "overlay",
              "size": 10,
              "solidity": 0.2
             }
            },
            "type": "histogram"
           }
          ],
          "histogram2d": [
           {
            "colorbar": {
             "outlinewidth": 0,
             "ticks": ""
            },
            "colorscale": [
             [
              0,
              "#0d0887"
             ],
             [
              0.1111111111111111,
              "#46039f"
             ],
             [
              0.2222222222222222,
              "#7201a8"
             ],
             [
              0.3333333333333333,
              "#9c179e"
             ],
             [
              0.4444444444444444,
              "#bd3786"
             ],
             [
              0.5555555555555556,
              "#d8576b"
             ],
             [
              0.6666666666666666,
              "#ed7953"
             ],
             [
              0.7777777777777778,
              "#fb9f3a"
             ],
             [
              0.8888888888888888,
              "#fdca26"
             ],
             [
              1,
              "#f0f921"
             ]
            ],
            "type": "histogram2d"
           }
          ],
          "histogram2dcontour": [
           {
            "colorbar": {
             "outlinewidth": 0,
             "ticks": ""
            },
            "colorscale": [
             [
              0,
              "#0d0887"
             ],
             [
              0.1111111111111111,
              "#46039f"
             ],
             [
              0.2222222222222222,
              "#7201a8"
             ],
             [
              0.3333333333333333,
              "#9c179e"
             ],
             [
              0.4444444444444444,
              "#bd3786"
             ],
             [
              0.5555555555555556,
              "#d8576b"
             ],
             [
              0.6666666666666666,
              "#ed7953"
             ],
             [
              0.7777777777777778,
              "#fb9f3a"
             ],
             [
              0.8888888888888888,
              "#fdca26"
             ],
             [
              1,
              "#f0f921"
             ]
            ],
            "type": "histogram2dcontour"
           }
          ],
          "mesh3d": [
           {
            "colorbar": {
             "outlinewidth": 0,
             "ticks": ""
            },
            "type": "mesh3d"
           }
          ],
          "parcoords": [
           {
            "line": {
             "colorbar": {
              "outlinewidth": 0,
              "ticks": ""
             }
            },
            "type": "parcoords"
           }
          ],
          "pie": [
           {
            "automargin": true,
            "type": "pie"
           }
          ],
          "scatter": [
           {
            "fillpattern": {
             "fillmode": "overlay",
             "size": 10,
             "solidity": 0.2
            },
            "type": "scatter"
           }
          ],
          "scatter3d": [
           {
            "line": {
             "colorbar": {
              "outlinewidth": 0,
              "ticks": ""
             }
            },
            "marker": {
             "colorbar": {
              "outlinewidth": 0,
              "ticks": ""
             }
            },
            "type": "scatter3d"
           }
          ],
          "scattercarpet": [
           {
            "marker": {
             "colorbar": {
              "outlinewidth": 0,
              "ticks": ""
             }
            },
            "type": "scattercarpet"
           }
          ],
          "scattergeo": [
           {
            "marker": {
             "colorbar": {
              "outlinewidth": 0,
              "ticks": ""
             }
            },
            "type": "scattergeo"
           }
          ],
          "scattergl": [
           {
            "marker": {
             "colorbar": {
              "outlinewidth": 0,
              "ticks": ""
             }
            },
            "type": "scattergl"
           }
          ],
          "scattermap": [
           {
            "marker": {
             "colorbar": {
              "outlinewidth": 0,
              "ticks": ""
             }
            },
            "type": "scattermap"
           }
          ],
          "scattermapbox": [
           {
            "marker": {
             "colorbar": {
              "outlinewidth": 0,
              "ticks": ""
             }
            },
            "type": "scattermapbox"
           }
          ],
          "scatterpolar": [
           {
            "marker": {
             "colorbar": {
              "outlinewidth": 0,
              "ticks": ""
             }
            },
            "type": "scatterpolar"
           }
          ],
          "scatterpolargl": [
           {
            "marker": {
             "colorbar": {
              "outlinewidth": 0,
              "ticks": ""
             }
            },
            "type": "scatterpolargl"
           }
          ],
          "scatterternary": [
           {
            "marker": {
             "colorbar": {
              "outlinewidth": 0,
              "ticks": ""
             }
            },
            "type": "scatterternary"
           }
          ],
          "surface": [
           {
            "colorbar": {
             "outlinewidth": 0,
             "ticks": ""
            },
            "colorscale": [
             [
              0,
              "#0d0887"
             ],
             [
              0.1111111111111111,
              "#46039f"
             ],
             [
              0.2222222222222222,
              "#7201a8"
             ],
             [
              0.3333333333333333,
              "#9c179e"
             ],
             [
              0.4444444444444444,
              "#bd3786"
             ],
             [
              0.5555555555555556,
              "#d8576b"
             ],
             [
              0.6666666666666666,
              "#ed7953"
             ],
             [
              0.7777777777777778,
              "#fb9f3a"
             ],
             [
              0.8888888888888888,
              "#fdca26"
             ],
             [
              1,
              "#f0f921"
             ]
            ],
            "type": "surface"
           }
          ],
          "table": [
           {
            "cells": {
             "fill": {
              "color": "#EBF0F8"
             },
             "line": {
              "color": "white"
             }
            },
            "header": {
             "fill": {
              "color": "#C8D4E3"
             },
             "line": {
              "color": "white"
             }
            },
            "type": "table"
           }
          ]
         },
         "layout": {
          "annotationdefaults": {
           "arrowcolor": "#2a3f5f",
           "arrowhead": 0,
           "arrowwidth": 1
          },
          "autotypenumbers": "strict",
          "coloraxis": {
           "colorbar": {
            "outlinewidth": 0,
            "ticks": ""
           }
          },
          "colorscale": {
           "diverging": [
            [
             0,
             "#8e0152"
            ],
            [
             0.1,
             "#c51b7d"
            ],
            [
             0.2,
             "#de77ae"
            ],
            [
             0.3,
             "#f1b6da"
            ],
            [
             0.4,
             "#fde0ef"
            ],
            [
             0.5,
             "#f7f7f7"
            ],
            [
             0.6,
             "#e6f5d0"
            ],
            [
             0.7,
             "#b8e186"
            ],
            [
             0.8,
             "#7fbc41"
            ],
            [
             0.9,
             "#4d9221"
            ],
            [
             1,
             "#276419"
            ]
           ],
           "sequential": [
            [
             0,
             "#0d0887"
            ],
            [
             0.1111111111111111,
             "#46039f"
            ],
            [
             0.2222222222222222,
             "#7201a8"
            ],
            [
             0.3333333333333333,
             "#9c179e"
            ],
            [
             0.4444444444444444,
             "#bd3786"
            ],
            [
             0.5555555555555556,
             "#d8576b"
            ],
            [
             0.6666666666666666,
             "#ed7953"
            ],
            [
             0.7777777777777778,
             "#fb9f3a"
            ],
            [
             0.8888888888888888,
             "#fdca26"
            ],
            [
             1,
             "#f0f921"
            ]
           ],
           "sequentialminus": [
            [
             0,
             "#0d0887"
            ],
            [
             0.1111111111111111,
             "#46039f"
            ],
            [
             0.2222222222222222,
             "#7201a8"
            ],
            [
             0.3333333333333333,
             "#9c179e"
            ],
            [
             0.4444444444444444,
             "#bd3786"
            ],
            [
             0.5555555555555556,
             "#d8576b"
            ],
            [
             0.6666666666666666,
             "#ed7953"
            ],
            [
             0.7777777777777778,
             "#fb9f3a"
            ],
            [
             0.8888888888888888,
             "#fdca26"
            ],
            [
             1,
             "#f0f921"
            ]
           ]
          },
          "colorway": [
           "#636efa",
           "#EF553B",
           "#00cc96",
           "#ab63fa",
           "#FFA15A",
           "#19d3f3",
           "#FF6692",
           "#B6E880",
           "#FF97FF",
           "#FECB52"
          ],
          "font": {
           "color": "#2a3f5f"
          },
          "geo": {
           "bgcolor": "white",
           "lakecolor": "white",
           "landcolor": "#E5ECF6",
           "showlakes": true,
           "showland": true,
           "subunitcolor": "white"
          },
          "hoverlabel": {
           "align": "left"
          },
          "hovermode": "closest",
          "mapbox": {
           "style": "light"
          },
          "paper_bgcolor": "white",
          "plot_bgcolor": "#E5ECF6",
          "polar": {
           "angularaxis": {
            "gridcolor": "white",
            "linecolor": "white",
            "ticks": ""
           },
           "bgcolor": "#E5ECF6",
           "radialaxis": {
            "gridcolor": "white",
            "linecolor": "white",
            "ticks": ""
           }
          },
          "scene": {
           "xaxis": {
            "backgroundcolor": "#E5ECF6",
            "gridcolor": "white",
            "gridwidth": 2,
            "linecolor": "white",
            "showbackground": true,
            "ticks": "",
            "zerolinecolor": "white"
           },
           "yaxis": {
            "backgroundcolor": "#E5ECF6",
            "gridcolor": "white",
            "gridwidth": 2,
            "linecolor": "white",
            "showbackground": true,
            "ticks": "",
            "zerolinecolor": "white"
           },
           "zaxis": {
            "backgroundcolor": "#E5ECF6",
            "gridcolor": "white",
            "gridwidth": 2,
            "linecolor": "white",
            "showbackground": true,
            "ticks": "",
            "zerolinecolor": "white"
           }
          },
          "shapedefaults": {
           "line": {
            "color": "#2a3f5f"
           }
          },
          "ternary": {
           "aaxis": {
            "gridcolor": "white",
            "linecolor": "white",
            "ticks": ""
           },
           "baxis": {
            "gridcolor": "white",
            "linecolor": "white",
            "ticks": ""
           },
           "bgcolor": "#E5ECF6",
           "caxis": {
            "gridcolor": "white",
            "linecolor": "white",
            "ticks": ""
           }
          },
          "title": {
           "x": 0.05
          },
          "xaxis": {
           "automargin": true,
           "gridcolor": "white",
           "linecolor": "white",
           "ticks": "",
           "title": {
            "standoff": 15
           },
           "zerolinecolor": "white",
           "zerolinewidth": 2
          },
          "yaxis": {
           "automargin": true,
           "gridcolor": "white",
           "linecolor": "white",
           "ticks": "",
           "title": {
            "standoff": 15
           },
           "zerolinecolor": "white",
           "zerolinewidth": 2
          }
         }
        },
        "xaxis": {
         "anchor": "y",
         "domain": [
          0,
          1
         ],
         "title": {
          "text": "num_selections"
         }
        },
        "yaxis": {
         "anchor": "x",
         "domain": [
          0,
          1
         ],
         "title": {
          "text": "jsd"
         }
        }
       }
      }
     },
     "metadata": {},
     "output_type": "display_data"
    }
   ],
   "source": [
    "import plotly.express as px\n",
    "\n",
    "px.scatter(df, 'num_selections', 'jsd', color='country', trendline='ols')"
   ]
  },
  {
   "cell_type": "code",
   "execution_count": 9,
   "metadata": {},
   "outputs": [
    {
     "data": {
      "text/plain": [
       "country\n",
       "Albania                          8.08\n",
       "Andorra                          8.04\n",
       "Angola                          11.00\n",
       "Angola (Non-national sample)     3.48\n",
       "Argentina                        5.56\n",
       "Name: num_selections, dtype: float64"
      ]
     },
     "execution_count": 9,
     "metadata": {},
     "output_type": "execute_result"
    }
   ],
   "source": [
    "country_selections = df.groupby('country')['num_selections'].mean()\n",
    "country_selections.head()"
   ]
  },
  {
   "cell_type": "code",
   "execution_count": 10,
   "metadata": {},
   "outputs": [],
   "source": [
    "country_jsd = pd.read_csv('/Users/andrew/GlobalOpinionBench/responses/other/find_relationships/country_jsd.csv')"
   ]
  },
  {
   "cell_type": "code",
   "execution_count": 11,
   "metadata": {},
   "outputs": [
    {
     "data": {
      "text/html": [
       "<div>\n",
       "<style scoped>\n",
       "    .dataframe tbody tr th:only-of-type {\n",
       "        vertical-align: middle;\n",
       "    }\n",
       "\n",
       "    .dataframe tbody tr th {\n",
       "        vertical-align: top;\n",
       "    }\n",
       "\n",
       "    .dataframe thead th {\n",
       "        text-align: right;\n",
       "    }\n",
       "</style>\n",
       "<table border=\"1\" class=\"dataframe\">\n",
       "  <thead>\n",
       "    <tr style=\"text-align: right;\">\n",
       "      <th></th>\n",
       "      <th>country</th>\n",
       "      <th>num_selections</th>\n",
       "    </tr>\n",
       "  </thead>\n",
       "  <tbody>\n",
       "    <tr>\n",
       "      <th>0</th>\n",
       "      <td>Albania</td>\n",
       "      <td>8.08</td>\n",
       "    </tr>\n",
       "    <tr>\n",
       "      <th>1</th>\n",
       "      <td>Andorra</td>\n",
       "      <td>8.04</td>\n",
       "    </tr>\n",
       "    <tr>\n",
       "      <th>2</th>\n",
       "      <td>Angola</td>\n",
       "      <td>11.00</td>\n",
       "    </tr>\n",
       "    <tr>\n",
       "      <th>3</th>\n",
       "      <td>Angola (Non-national sample)</td>\n",
       "      <td>3.48</td>\n",
       "    </tr>\n",
       "    <tr>\n",
       "      <th>4</th>\n",
       "      <td>Argentina</td>\n",
       "      <td>5.56</td>\n",
       "    </tr>\n",
       "  </tbody>\n",
       "</table>\n",
       "</div>"
      ],
      "text/plain": [
       "                        country  num_selections\n",
       "0                       Albania            8.08\n",
       "1                       Andorra            8.04\n",
       "2                        Angola           11.00\n",
       "3  Angola (Non-national sample)            3.48\n",
       "4                     Argentina            5.56"
      ]
     },
     "execution_count": 11,
     "metadata": {},
     "output_type": "execute_result"
    }
   ],
   "source": [
    "country_selections_df = country_selections.to_frame().reset_index()\n",
    "country_selections_df.head()"
   ]
  },
  {
   "cell_type": "code",
   "execution_count": 12,
   "metadata": {},
   "outputs": [],
   "source": [
    "merged_df = country_selections_df.merge(\n",
    "    country_jsd,\n",
    "    on='country',\n",
    "    how='left'\n",
    ")"
   ]
  },
  {
   "cell_type": "code",
   "execution_count": 13,
   "metadata": {},
   "outputs": [
    {
     "data": {
      "application/vnd.plotly.v1+json": {
       "config": {
        "plotlyServerURL": "https://plot.ly"
       },
       "data": [
        {
         "hovertemplate": "Jensen-Shannon Divergence=%{x}<br>Number of Options=%{y}<extra></extra>",
         "legendgroup": "",
         "marker": {
          "color": "#636efa",
          "symbol": "circle"
         },
         "mode": "markers",
         "name": "",
         "orientation": "v",
         "showlegend": false,
         "type": "scatter",
         "x": {
          "bdata": "8Jbv5dqP0D+M27taDZXVP8BF8j2ySss/AAAAAAAA+H+U7DUooe/LP2H1cqxlF9E/7T8SLHWgzz/2jiAhzBvNP3I8nZj/I9g/UgsQJLLF1D8AAAAAAAD4f5jyN/+ncNM/sO1Frh1c1D+C8TmBkDLRPwAAAAAAAPh/w44sm7Dxzz9p5idVW+TPPwAAAAAAAPh/4hy7ymFbxz8WqE/NmhTPP9lr0gQRLM0/5SPwgM0tzz96HhnJI6/KP2/tLFzgRdI/AAAAAAAA+H85r12fzs/SPwAAAAAAAPh/+zJYCQ58zz8E0EhLE/zPP/qX/DLxyMs/BSfeCirYzj/nCw1z10TWP2U6tnr6hdQ/quht9gi+0T8AAAAAAAD4fy60OGliWdI/TTrA41tx0T9sDOcbLrPTPwAAAAAAAPh/ThC4i0Ix0j/bLsFnb9bHP033Ob46jdI/I7WBbfDKzz8FyUaVyDDQP2Xe+4MMHc4/Jl045N2TzT8nN/XRyoLSPwAAAAAAAPh/b2L3ofLC1z8AAAAAAAD4f1EL45U1ANM/ej8c4uNqzD8zgpTSTXLRPwAAAAAAAPh/AAAAAAAA+H8AAAAAAAD4f1tBK9PIJs4/AAAAAAAA+H9sPvLzD6nSP4x9NIhaD9A/o5L8bV9Fyz98Dr3WiO/OP9bI2Y0B88g/AAAAAAAA+H9lbmgLZP7QP43jKJ5eTc4/AAAAAAAA+H+XYPyIIQrSPyVTIrd8y8o/lhUIJgB9zT+y2j1MaKzUP6vnRjA6adE/Przoy+dK0T88GAPgqsrTP49Vhx9smtA/5hzy/S0V1z/JiTsSIq/SP34IqJ5yiNI/nrozeGLkzD8AAAAAAAD4f67mgw1qNM8//OxSuCKa0j9998J8GZrRP8mZO7WXttM/AAAAAAAA+H/2yMI9hQDaP5hlQ1xMRdE/xcgFSJG90D8Mle09QbLWP9LGR64EQNA/AAAAAAAA+H96Sa4kGuTMPz57Y9S+R9A/dM9H3qWw0T9T/ha4KuLRPwAAAAAAAPh/kGm1WMghyT8fXWnjVYXPP1sCiHlx4NA/AAAAAAAA+H8zjfl/iY/LPwAAAAAAAPh/U9roZbpq0z90nZAN3MnUP73BlwqsZMw/OK/RHNR9zj8AAAAAAAD4fwAAAAAAAPh/AAAAAAAA+H/7E/wcv5XQP9HmyWjE79A/AAAAAAAA+H9bYgQPUHzMP9ueM61FmNM/mRFeOu6OzT+c0k5h5efQPw6PQE+miNY/pmGk3g6hzj+WsrjGawjSP7CJ8T0vcNE/U2qsRU9/0D8AAAAAAAD4fz1cyhjOZ9c/Ubsjja9Izz8AAAAAAAD4f0443458v9A/QsqV7/AV0T/fMi9pF0jMP3ulokeSkdA/5Yy5yfA5zz9/NEhImaDNP/nFSJwRfNA/TRLmQ0Gu0D8r3xjM6tPSPwAAAAAAAPh//KmTGDXE0j8AAAAAAAD4f093MQ34qtM/",
          "dtype": "f8"
         },
         "xaxis": "x",
         "y": {
          "bdata": "KVyPwvUoIEAUrkfhehQgQAAAAAAAACZA16NwPQrXC0A9CtejcD0WQMP1KFyPwh9AUrgehetRFEDD9Shcj8IfQFK4HoXrUSBAcT0K16NwG0BI4XoUrkcNQKRwPQrXoyFA9ihcj8L1FEB7FK5H4XocQEjhehSuRw1AKVyPwvUoIUDD9Shcj8IXQM3MzMzMzAxAj8L1KFyPDkCkcD0K16MWQFK4HoXrURJAKVyPwvUoFEAK16NwPQoVQJqZmZmZmRlAMzMzMzMzD0CuR+F6FK4ZQAAAAAAAACBAFK5H4XoUIUAfhetRuB4gQFK4HoXrURBArkfhehSuH0B7FK5H4XoeQKRwPQrXoyBAMzMzMzMzF0DXo3A9CtcLQD0K16NwPRRA4XoUrkfhIEAfhetRuB4bQOxRuB6F6w1ArkfhehSuIEBI4XoUrkcRQEjhehSuRyBAhetRuB6FEUDNzMzMzMwSQIXrUbgehR9AAAAAAAAAFkAK16NwPQogQGZmZmZmZg5AAAAAAAAAJkDNzMzMzMwMQOF6FK5H4R5ASOF6FK5HFUAUrkfhehQhQHE9CtejcBFASOF6FK5HDUBmZmZmZmYQQKRwPQrXoxBAXI/C9ShcC0BSuB6F61EgQKRwPQrXox5Aj8L1KFyPEkAK16NwPQoTQAAAAAAAACZAmpmZmZmZDUBcj8L1KFwXQArXo3A9ChVAAAAAAAAAIEB7FK5H4XogQOF6FK5H4RJAj8L1KFyPDkCF61G4HoUgQM3MzMzMzCBAexSuR+F6FEDhehSuR+EcQMP1KFyPwhlArkfhehSuH0DNzMzMzMwaQEjhehSuRx1Aj8L1KFyPDkBxPQrXo3ANQClcj8L1KBZApHA9CtejHkAzMzMzMzMgQFyPwvUoXBlAhetRuB6FC0CuR+F6FK4fQBSuR+F6FBZA9ihcj8L1GkBxPQrXo3AfQOxRuB6F6xdAKVyPwvUoDEB7FK5H4XoeQPYoXI/C9R5A9ihcj8L1IECuR+F6FK4TQPQxOB+D8wlAKVyPwvUoEEA9CtejcD0WQDMzMzMzMxlAAAAAAAAAIED2KFyPwvUQQJqZmZmZmQVAhetRuB6FIUDXo3A9CtcdQAAAAAAAACBASOF6FK5HFUCamZmZmZkJQK5H4XoUrhNAmpmZmZmZDUC4HoXrUbgSQD0K16NwPRRA7FG4HoXrDUBxPQrXo3AgQKRwPQrXoxpArkfhehSuGUBI4XoUrkcfQFK4HoXrUSBAhetRuB6FEUDD9Shcj8IVQB+F61G4HiFA4XoUrkfhEkAfhetRuB4fQIXrUbgehR9AuB6F61G4EEAAAAAAAAAgQJqZmZmZmRtAKVyPwvUoFkBmZmZmZmYWQKRwPQrXoxBAuB6F61G4GECuR+F6FK4VQLgehetRuCBAZmZmZmZmDkD2KFyPwvUYQOxRuB6F6w1ArkfhehSuF0DNzMzMzMwMQEmSJEmSJCBA",
          "dtype": "f8"
         },
         "yaxis": "y"
        },
        {
         "hovertemplate": "<b>OLS trendline</b><br>num_selections = 17.0768 * jsd + 2.03907<br>R<sup>2</sup>=0.189677<br><br>Jensen-Shannon Divergence=%{x}<br>Number of Options=%{y} <b>(trend)</b><extra></extra>",
         "legendgroup": "",
         "marker": {
          "color": "#636efa",
          "symbol": "circle"
         },
         "mode": "lines",
         "name": "",
         "showlegend": false,
         "type": "scatter",
         "x": {
          "bdata": "4hy7ymFbxz/bLsFnb9bHP9bI2Y0B88g/kGm1WMghyT96HhnJI6/KPyVTIrd8y8o/o5L8bV9Fyz/ARfI9skrLPzON+X+Jj8s/+pf8MvHIyz+U7DUooe/LP98yL2kXSMw/vcGXCqxkzD96Pxzi42rMP1tiBA9QfMw/ekmuJBrkzD+eujN4YuTMP/aOICHMG80/2WvSBBEszT+WFQgmAH3NP5kRXjrujs0/Jl045N2TzT9/NEhImaDNP2Xe+4MMHc4/W0Er08gmzj+N4yieXk3OPziv0RzUfc4/pmGk3g6hzj8FJ94KKtjOP3wOvdaI784/FqhPzZoUzz/lI/CAzS3PP67mgw1qNM8/5Yy5yfA5zz9RuyONr0jPP/syWAkOfM8/H11p41WFzz/tPxIsdaDPPyO1gW3wys8/aeYnVVvkzz/DjiybsPHPPwTQSEsT/M8/jH00iFoP0D8FyUaVyDDQP9LGR64EQNA/Pntj1L5H0D/5xUicEXzQP1NqrEVPf9A/8Jbv5dqP0D97paJHkpHQP/sT/By/ldA/j1WHH2ya0D9NEuZDQa7QP8XIBUiRvdA/Tjjfjny/0D9bAoh5ceDQP5zSTmHl59A/0ebJaMTv0D9lbmgLZP7QP0LKle/wFdE/YfVyrGUX0T+C8TmBkDLRP5hlQ1xMRdE/Przoy+dK0T+r50YwOmnRP7CJ8T0vcNE/TTrA41tx0T8zgpTSTXLRP333wnwZmtE/dM9H3qWw0T+q6G32CL7RP1P+Frgq4tE/lrK4xmsI0j+XYPyIIQrSP04QuItCMdI/b+0sXOBF0j8utDhpYlnSPyc39dHKgtI/fgionnKI0j9N9zm+Oo3SP/zsUrgimtI/bD7y8w+p0j/JiTsSIq/SP/ypkxg1xNI/Oa9dn87P0j8r3xjM6tPSP1EL45U1ANM/U9roZbpq0z+Y8jf/p3DTP9ueM61FmNM/T3cxDfiq0z9sDOcbLrPTP8mZO7WXttM/PBgD4KrK0z+w7UWuHVzUP2U6tnr6hdQ/sto9TGis1D9SCxAkssXUP3SdkA3cydQ/jNu7Wg2V1T/nCw1z10TWPw6PQE+miNY/DJXtPUGy1j/mHPL9LRXXPz1cyhjOZ9c/b2L3ofLC1z9yPJ2Y/yPYP/bIwj2FANo/",
          "dtype": "f8"
         },
         "xaxis": "x",
         "y": {
          "bdata": "hMhKEeaeFECYr5/ckOAUQLOGTD9teBVAyAdSlGORFUAMC20ocGUWQBCNFM+QdBZA1ViXGJy1FkBgdetbc7gWQPTJwPwv3RZA3sHoU9L7FkBCpNGPdxAXQHOUhLSsPxdAvqofN+1OF0CW/RqzPlIXQIUyyN2KWxdAvK/x9O2SF0DCPLqNFJMXQKBnVLamsBdAHe/JTFW5F0B6xz0JhuQXQJw0ooYX7hdAiJjV4LnwF0AUBXU/hfcXQMLYr+LuORhAtRkv5yA/GECaJZcsuFMYQHrkm1mUbRhAawalMmGAGECY7M14yZ0YQLOp6S5CqhhAJyhSfQq+GEAeRd/lfMsYQHDZ4R8EzxhAwi+aGPfRGEAE9ll+1dkYQB0eiTs/9RhABj5NGjP6GEBAjIBgrAgZQFPRVfFXHxlAVxYJWOgsGUDr3DDVBTQZQKqbWKOQORlAH2Ix2AtMGUDBlWnUuW8ZQH1jxmT8fxlAlVOsqjuIGUBh43zhE8AZQILCY2CJwxlAH76IDDLVGUCUPvT/BtcZQLisS8N72xlAo6YSVHngGUAS7RAmpPUZQHq2tPj7BRpADMdUTwgIGkAdTzgCNSsaQFuNn08pMxpAmPtF8o87GkCRf7KEK0saQNuMWSNOZBpA7wHJ9dtlGkBrEj7V2oIaQOx73W/ZlhpAxi5hedWcGkBoai9BMr0aQPKLDiufxBpAEo91DODFGkDOolZD4sYaQH0T2odb8RpAFGmnYGwJG0C7vzMbthcbQH/Ty1hGPhtAPGFpcxpnG0CmVnCr7WgbQMpQdMywkhtApkq9y7GoG0COo+fug70bQOqFyLi16RtAR51Z9L7vG0CXHER12fQbQBB6rsifAhxAanr4LI4SHEBk+MvhCBkcQN5NSfqGLxxAP9ZwWOg7HEA3qSpUS0AcQMHk+y+RbxxAYhBwHkHhHECwCCDZlOccQIrRMwndER1AeDByhdElHUA5ZKgKlS4dQBETdW45Mh1AIEdvc6ZHHUBl93gP4+IdQE2iORKRDx5At2fk8pQ4HkDrE992klMeQFqlCRwEWB5An7efCeIwH0CZhIangOwfQDjcJNxvGiBAYk1Dt6MwIEBS0TY8bmUgQCyQKAeGkSBAEkWiZynCIEAWN/3i8/UgQFIez38/9CFA",
          "dtype": "f8"
         },
         "yaxis": "y"
        }
       ],
       "layout": {
        "height": 400,
        "legend": {
         "tracegroupgap": 0
        },
        "margin": {
         "b": 20,
         "l": 20,
         "r": 20,
         "t": 20
        },
        "template": {
         "data": {
          "bar": [
           {
            "error_x": {
             "color": "#2a3f5f"
            },
            "error_y": {
             "color": "#2a3f5f"
            },
            "marker": {
             "line": {
              "color": "#E5ECF6",
              "width": 0.5
             },
             "pattern": {
              "fillmode": "overlay",
              "size": 10,
              "solidity": 0.2
             }
            },
            "type": "bar"
           }
          ],
          "barpolar": [
           {
            "marker": {
             "line": {
              "color": "#E5ECF6",
              "width": 0.5
             },
             "pattern": {
              "fillmode": "overlay",
              "size": 10,
              "solidity": 0.2
             }
            },
            "type": "barpolar"
           }
          ],
          "carpet": [
           {
            "aaxis": {
             "endlinecolor": "#2a3f5f",
             "gridcolor": "white",
             "linecolor": "white",
             "minorgridcolor": "white",
             "startlinecolor": "#2a3f5f"
            },
            "baxis": {
             "endlinecolor": "#2a3f5f",
             "gridcolor": "white",
             "linecolor": "white",
             "minorgridcolor": "white",
             "startlinecolor": "#2a3f5f"
            },
            "type": "carpet"
           }
          ],
          "choropleth": [
           {
            "colorbar": {
             "outlinewidth": 0,
             "ticks": ""
            },
            "type": "choropleth"
           }
          ],
          "contour": [
           {
            "colorbar": {
             "outlinewidth": 0,
             "ticks": ""
            },
            "colorscale": [
             [
              0,
              "#0d0887"
             ],
             [
              0.1111111111111111,
              "#46039f"
             ],
             [
              0.2222222222222222,
              "#7201a8"
             ],
             [
              0.3333333333333333,
              "#9c179e"
             ],
             [
              0.4444444444444444,
              "#bd3786"
             ],
             [
              0.5555555555555556,
              "#d8576b"
             ],
             [
              0.6666666666666666,
              "#ed7953"
             ],
             [
              0.7777777777777778,
              "#fb9f3a"
             ],
             [
              0.8888888888888888,
              "#fdca26"
             ],
             [
              1,
              "#f0f921"
             ]
            ],
            "type": "contour"
           }
          ],
          "contourcarpet": [
           {
            "colorbar": {
             "outlinewidth": 0,
             "ticks": ""
            },
            "type": "contourcarpet"
           }
          ],
          "heatmap": [
           {
            "colorbar": {
             "outlinewidth": 0,
             "ticks": ""
            },
            "colorscale": [
             [
              0,
              "#0d0887"
             ],
             [
              0.1111111111111111,
              "#46039f"
             ],
             [
              0.2222222222222222,
              "#7201a8"
             ],
             [
              0.3333333333333333,
              "#9c179e"
             ],
             [
              0.4444444444444444,
              "#bd3786"
             ],
             [
              0.5555555555555556,
              "#d8576b"
             ],
             [
              0.6666666666666666,
              "#ed7953"
             ],
             [
              0.7777777777777778,
              "#fb9f3a"
             ],
             [
              0.8888888888888888,
              "#fdca26"
             ],
             [
              1,
              "#f0f921"
             ]
            ],
            "type": "heatmap"
           }
          ],
          "histogram": [
           {
            "marker": {
             "pattern": {
              "fillmode": "overlay",
              "size": 10,
              "solidity": 0.2
             }
            },
            "type": "histogram"
           }
          ],
          "histogram2d": [
           {
            "colorbar": {
             "outlinewidth": 0,
             "ticks": ""
            },
            "colorscale": [
             [
              0,
              "#0d0887"
             ],
             [
              0.1111111111111111,
              "#46039f"
             ],
             [
              0.2222222222222222,
              "#7201a8"
             ],
             [
              0.3333333333333333,
              "#9c179e"
             ],
             [
              0.4444444444444444,
              "#bd3786"
             ],
             [
              0.5555555555555556,
              "#d8576b"
             ],
             [
              0.6666666666666666,
              "#ed7953"
             ],
             [
              0.7777777777777778,
              "#fb9f3a"
             ],
             [
              0.8888888888888888,
              "#fdca26"
             ],
             [
              1,
              "#f0f921"
             ]
            ],
            "type": "histogram2d"
           }
          ],
          "histogram2dcontour": [
           {
            "colorbar": {
             "outlinewidth": 0,
             "ticks": ""
            },
            "colorscale": [
             [
              0,
              "#0d0887"
             ],
             [
              0.1111111111111111,
              "#46039f"
             ],
             [
              0.2222222222222222,
              "#7201a8"
             ],
             [
              0.3333333333333333,
              "#9c179e"
             ],
             [
              0.4444444444444444,
              "#bd3786"
             ],
             [
              0.5555555555555556,
              "#d8576b"
             ],
             [
              0.6666666666666666,
              "#ed7953"
             ],
             [
              0.7777777777777778,
              "#fb9f3a"
             ],
             [
              0.8888888888888888,
              "#fdca26"
             ],
             [
              1,
              "#f0f921"
             ]
            ],
            "type": "histogram2dcontour"
           }
          ],
          "mesh3d": [
           {
            "colorbar": {
             "outlinewidth": 0,
             "ticks": ""
            },
            "type": "mesh3d"
           }
          ],
          "parcoords": [
           {
            "line": {
             "colorbar": {
              "outlinewidth": 0,
              "ticks": ""
             }
            },
            "type": "parcoords"
           }
          ],
          "pie": [
           {
            "automargin": true,
            "type": "pie"
           }
          ],
          "scatter": [
           {
            "fillpattern": {
             "fillmode": "overlay",
             "size": 10,
             "solidity": 0.2
            },
            "type": "scatter"
           }
          ],
          "scatter3d": [
           {
            "line": {
             "colorbar": {
              "outlinewidth": 0,
              "ticks": ""
             }
            },
            "marker": {
             "colorbar": {
              "outlinewidth": 0,
              "ticks": ""
             }
            },
            "type": "scatter3d"
           }
          ],
          "scattercarpet": [
           {
            "marker": {
             "colorbar": {
              "outlinewidth": 0,
              "ticks": ""
             }
            },
            "type": "scattercarpet"
           }
          ],
          "scattergeo": [
           {
            "marker": {
             "colorbar": {
              "outlinewidth": 0,
              "ticks": ""
             }
            },
            "type": "scattergeo"
           }
          ],
          "scattergl": [
           {
            "marker": {
             "colorbar": {
              "outlinewidth": 0,
              "ticks": ""
             }
            },
            "type": "scattergl"
           }
          ],
          "scattermap": [
           {
            "marker": {
             "colorbar": {
              "outlinewidth": 0,
              "ticks": ""
             }
            },
            "type": "scattermap"
           }
          ],
          "scattermapbox": [
           {
            "marker": {
             "colorbar": {
              "outlinewidth": 0,
              "ticks": ""
             }
            },
            "type": "scattermapbox"
           }
          ],
          "scatterpolar": [
           {
            "marker": {
             "colorbar": {
              "outlinewidth": 0,
              "ticks": ""
             }
            },
            "type": "scatterpolar"
           }
          ],
          "scatterpolargl": [
           {
            "marker": {
             "colorbar": {
              "outlinewidth": 0,
              "ticks": ""
             }
            },
            "type": "scatterpolargl"
           }
          ],
          "scatterternary": [
           {
            "marker": {
             "colorbar": {
              "outlinewidth": 0,
              "ticks": ""
             }
            },
            "type": "scatterternary"
           }
          ],
          "surface": [
           {
            "colorbar": {
             "outlinewidth": 0,
             "ticks": ""
            },
            "colorscale": [
             [
              0,
              "#0d0887"
             ],
             [
              0.1111111111111111,
              "#46039f"
             ],
             [
              0.2222222222222222,
              "#7201a8"
             ],
             [
              0.3333333333333333,
              "#9c179e"
             ],
             [
              0.4444444444444444,
              "#bd3786"
             ],
             [
              0.5555555555555556,
              "#d8576b"
             ],
             [
              0.6666666666666666,
              "#ed7953"
             ],
             [
              0.7777777777777778,
              "#fb9f3a"
             ],
             [
              0.8888888888888888,
              "#fdca26"
             ],
             [
              1,
              "#f0f921"
             ]
            ],
            "type": "surface"
           }
          ],
          "table": [
           {
            "cells": {
             "fill": {
              "color": "#EBF0F8"
             },
             "line": {
              "color": "white"
             }
            },
            "header": {
             "fill": {
              "color": "#C8D4E3"
             },
             "line": {
              "color": "white"
             }
            },
            "type": "table"
           }
          ]
         },
         "layout": {
          "annotationdefaults": {
           "arrowcolor": "#2a3f5f",
           "arrowhead": 0,
           "arrowwidth": 1
          },
          "autotypenumbers": "strict",
          "coloraxis": {
           "colorbar": {
            "outlinewidth": 0,
            "ticks": ""
           }
          },
          "colorscale": {
           "diverging": [
            [
             0,
             "#8e0152"
            ],
            [
             0.1,
             "#c51b7d"
            ],
            [
             0.2,
             "#de77ae"
            ],
            [
             0.3,
             "#f1b6da"
            ],
            [
             0.4,
             "#fde0ef"
            ],
            [
             0.5,
             "#f7f7f7"
            ],
            [
             0.6,
             "#e6f5d0"
            ],
            [
             0.7,
             "#b8e186"
            ],
            [
             0.8,
             "#7fbc41"
            ],
            [
             0.9,
             "#4d9221"
            ],
            [
             1,
             "#276419"
            ]
           ],
           "sequential": [
            [
             0,
             "#0d0887"
            ],
            [
             0.1111111111111111,
             "#46039f"
            ],
            [
             0.2222222222222222,
             "#7201a8"
            ],
            [
             0.3333333333333333,
             "#9c179e"
            ],
            [
             0.4444444444444444,
             "#bd3786"
            ],
            [
             0.5555555555555556,
             "#d8576b"
            ],
            [
             0.6666666666666666,
             "#ed7953"
            ],
            [
             0.7777777777777778,
             "#fb9f3a"
            ],
            [
             0.8888888888888888,
             "#fdca26"
            ],
            [
             1,
             "#f0f921"
            ]
           ],
           "sequentialminus": [
            [
             0,
             "#0d0887"
            ],
            [
             0.1111111111111111,
             "#46039f"
            ],
            [
             0.2222222222222222,
             "#7201a8"
            ],
            [
             0.3333333333333333,
             "#9c179e"
            ],
            [
             0.4444444444444444,
             "#bd3786"
            ],
            [
             0.5555555555555556,
             "#d8576b"
            ],
            [
             0.6666666666666666,
             "#ed7953"
            ],
            [
             0.7777777777777778,
             "#fb9f3a"
            ],
            [
             0.8888888888888888,
             "#fdca26"
            ],
            [
             1,
             "#f0f921"
            ]
           ]
          },
          "colorway": [
           "#636efa",
           "#EF553B",
           "#00cc96",
           "#ab63fa",
           "#FFA15A",
           "#19d3f3",
           "#FF6692",
           "#B6E880",
           "#FF97FF",
           "#FECB52"
          ],
          "font": {
           "color": "#2a3f5f"
          },
          "geo": {
           "bgcolor": "white",
           "lakecolor": "white",
           "landcolor": "#E5ECF6",
           "showlakes": true,
           "showland": true,
           "subunitcolor": "white"
          },
          "hoverlabel": {
           "align": "left"
          },
          "hovermode": "closest",
          "mapbox": {
           "style": "light"
          },
          "paper_bgcolor": "white",
          "plot_bgcolor": "#E5ECF6",
          "polar": {
           "angularaxis": {
            "gridcolor": "white",
            "linecolor": "white",
            "ticks": ""
           },
           "bgcolor": "#E5ECF6",
           "radialaxis": {
            "gridcolor": "white",
            "linecolor": "white",
            "ticks": ""
           }
          },
          "scene": {
           "xaxis": {
            "backgroundcolor": "#E5ECF6",
            "gridcolor": "white",
            "gridwidth": 2,
            "linecolor": "white",
            "showbackground": true,
            "ticks": "",
            "zerolinecolor": "white"
           },
           "yaxis": {
            "backgroundcolor": "#E5ECF6",
            "gridcolor": "white",
            "gridwidth": 2,
            "linecolor": "white",
            "showbackground": true,
            "ticks": "",
            "zerolinecolor": "white"
           },
           "zaxis": {
            "backgroundcolor": "#E5ECF6",
            "gridcolor": "white",
            "gridwidth": 2,
            "linecolor": "white",
            "showbackground": true,
            "ticks": "",
            "zerolinecolor": "white"
           }
          },
          "shapedefaults": {
           "line": {
            "color": "#2a3f5f"
           }
          },
          "ternary": {
           "aaxis": {
            "gridcolor": "white",
            "linecolor": "white",
            "ticks": ""
           },
           "baxis": {
            "gridcolor": "white",
            "linecolor": "white",
            "ticks": ""
           },
           "bgcolor": "#E5ECF6",
           "caxis": {
            "gridcolor": "white",
            "linecolor": "white",
            "ticks": ""
           }
          },
          "title": {
           "x": 0.05
          },
          "xaxis": {
           "automargin": true,
           "gridcolor": "white",
           "linecolor": "white",
           "ticks": "",
           "title": {
            "standoff": 15
           },
           "zerolinecolor": "white",
           "zerolinewidth": 2
          },
          "yaxis": {
           "automargin": true,
           "gridcolor": "white",
           "linecolor": "white",
           "ticks": "",
           "title": {
            "standoff": 15
           },
           "zerolinecolor": "white",
           "zerolinewidth": 2
          }
         }
        },
        "width": 600,
        "xaxis": {
         "anchor": "y",
         "domain": [
          0,
          1
         ],
         "title": {
          "text": "Jensen-Shannon Divergence"
         }
        },
        "yaxis": {
         "anchor": "x",
         "domain": [
          0,
          1
         ],
         "title": {
          "text": "Number of Options"
         }
        }
       }
      }
     },
     "metadata": {},
     "output_type": "display_data"
    }
   ],
   "source": [
    "px.scatter(merged_df, 'jsd', 'num_selections', trendline='ols', width=600, height=400,\n",
    "          labels={\n",
    "              'jsd': 'Jensen-Shannon Divergence',\n",
    "              'num_selections': 'Number of Options'\n",
    "          }).update_layout(\n",
    "    margin=dict(l=20, r=20, t=20, b=20)\n",
    ")"
   ]
  },
  {
   "cell_type": "code",
   "execution_count": null,
   "metadata": {},
   "outputs": [
    {
     "name": "stdout",
     "output_type": "stream",
     "text": [
      "                            OLS Regression Results                            \n",
      "==============================================================================\n",
      "Dep. Variable:                      y   R-squared:                       0.190\n",
      "Model:                            OLS   Adj. R-squared:                  0.182\n",
      "Method:                 Least Squares   F-statistic:                     24.81\n",
      "Date:                Mon, 02 Jun 2025   Prob (F-statistic):           2.47e-06\n",
      "Time:                        11:51:18   Log-Likelihood:                -197.88\n",
      "No. Observations:                 108   AIC:                             399.8\n",
      "Df Residuals:                     106   BIC:                             405.1\n",
      "Df Model:                           1                                         \n",
      "Covariance Type:            nonrobust                                         \n",
      "==============================================================================\n",
      "                 coef    std err          t      P>|t|      [0.025      0.975]\n",
      "------------------------------------------------------------------------------\n",
      "const          2.0391      0.929      2.194      0.030       0.196       3.882\n",
      "x1            17.0768      3.428      4.981      0.000      10.280      23.874\n",
      "==============================================================================\n",
      "Omnibus:                       17.912   Durbin-Watson:                   2.144\n",
      "Prob(Omnibus):                  0.000   Jarque-Bera (JB):               22.275\n",
      "Skew:                           0.894   Prob(JB):                     1.46e-05\n",
      "Kurtosis:                       4.324   Cond. No.                         25.0\n",
      "==============================================================================\n",
      "\n",
      "Notes:\n",
      "[1] Standard Errors assume that the covariance matrix of the errors is correctly specified.\n"
     ]
    }
   ],
   "source": [
    "# AI helped me write this code\n",
    "\n",
    "fig = px.scatter(merged_df, x='jsd', y='num_selections', trendline='ols')\n",
    "\n",
    "results = px.get_trendline_results(fig)\n",
    "\n",
    "ols_results = results.iloc[0][\"px_fit_results\"]\n",
    "ols_results.summary()"
   ]
  },
  {
   "cell_type": "code",
   "execution_count": 15,
   "metadata": {},
   "outputs": [],
   "source": [
    "merged_df[\"true_score\"] = (1 / merged_df[\"jsd\"]) * merged_df[\"num_selections\"]"
   ]
  },
  {
   "cell_type": "code",
   "execution_count": 16,
   "metadata": {},
   "outputs": [
    {
     "data": {
      "application/vnd.plotly.v1+json": {
       "config": {
        "plotlyServerURL": "https://plot.ly"
       },
       "data": [
        {
         "coloraxis": "coloraxis",
         "geo": "geo",
         "hovertemplate": "country=%{location}<br>1/JSD * num_options=%{z}<extra></extra>",
         "locationmode": "country names",
         "locations": [
          "Albania",
          "Andorra",
          "Angola",
          "Angola (Non-national sample)",
          "Argentina",
          "Armenia",
          "Australia",
          "Austria",
          "Azerbaijan",
          "Bangladesh",
          "Bangladesh (Non-national sample)",
          "Belarus",
          "Belgium",
          "Bolivia",
          "Bolivia (Non-national sample)",
          "Bosnia Herzegovina",
          "Brazil",
          "Brazil (Non-national sample)",
          "Britain",
          "Bulgaria",
          "Burkina Faso",
          "Canada",
          "Chile",
          "China",
          "China (Non-national sample)",
          "Colombia",
          "Colombia (Non-national sample)",
          "Croatia",
          "Cyprus",
          "Czech Rep.",
          "Czechia",
          "Denmark",
          "Ecuador",
          "Egypt",
          "Egypt (Non-national sample)",
          "El Salvador",
          "Estonia",
          "Ethiopia",
          "Ethiopia (Non-national sample)",
          "Finland",
          "France",
          "Georgia",
          "Germany",
          "Ghana",
          "Great Britain",
          "Greece",
          "Guatemala",
          "Guatemala (Non-national sample)",
          "Honduras",
          "Honduras (Non-national sample)",
          "Hong Kong SAR",
          "Hungary",
          "Iceland",
          "India (Current national sample)",
          "India (Non-national sample)",
          "India (Old national sample)",
          "Indonesia",
          "Indonesia (Non-national sample)",
          "Iran",
          "Iraq",
          "Israel",
          "Italy",
          "Ivory Coast",
          "Ivory Coast (Non-national sample)",
          "Japan",
          "Jordan",
          "Jordan (Non-national sample)",
          "Kazakhstan",
          "Kenya",
          "Kuwait",
          "Kyrgyzstan",
          "Latvia",
          "Lebanon",
          "Libya",
          "Lithuania",
          "Macau SAR",
          "Malaysia",
          "Maldives",
          "Mali",
          "Mali (Non-national sample)",
          "Mexico",
          "Mongolia",
          "Montenegro",
          "Morocco",
          "Morocco (Non-national sample)",
          "Myanmar",
          "Netherlands",
          "New Zealand",
          "Nicaragua",
          "Nigeria",
          "Nigeria (Non-national sample)",
          "North Macedonia",
          "Northern Ireland",
          "Norway",
          "Pakistan",
          "Pakistan (Non-national sample)",
          "Palest. ter.",
          "Peru",
          "Philippines",
          "Philippines (Non-national sample)",
          "Poland",
          "Poland (Non-national sample)",
          "Portugal",
          "Puerto Rico",
          "Romania",
          "Russia",
          "Russia (Non-national sample)",
          "S. Africa",
          "S. Africa (Non-national sample)",
          "S. Korea",
          "Senegal",
          "Senegal (Non-national sample)",
          "Serbia",
          "Singapore",
          "Slovakia",
          "Slovenia",
          "South Korea",
          "Spain",
          "Sweden",
          "Switzerland",
          "Taiwan",
          "Taiwan ROC",
          "Tajikistan",
          "Tanzania",
          "Tanzania (Non-national sample)",
          "Thailand",
          "Tunisia",
          "Turkey",
          "Uganda",
          "Ukraine",
          "United States",
          "Uruguay",
          "Uzbekistan",
          "Venezuela",
          "Venezuela (Non-national sample)",
          "Vietnam",
          "Vietnam (Non-national sample)",
          "Zimbabwe"
         ],
         "name": "",
         "type": "choropleth",
         "z": {
          "bdata": "dfF/MTE5P0AqbYQ8gtc3QAwVo3mZy0lAAAAAAAAA+H+4UWzXrnk5QE/yCiJfuz1A0h1OJ06PNECg5nO/F3VBQKHwg44cojVA6HlCwMkiNUAAAAAAAAD4f7/E1gx1CT1ApGugL754MEB2NQpoMX86QAAAAAAAAPh/G5hPsaUwQUCFP4CTJ9c3QAAAAAAAAPh/um4BuCnvNEBtzfwuT083QPI9pTmMGDRA8zdfId+wNED0bnxwQTs5QKvsZXlnajZAAAAAAAAA+H9s06PSd9c1QAAAAAAAAPh/9/bWAQ9cQUDS9OWusiBAQBEfi4+5yzJA3JytE/duQEAq5HtfS+Y1QKAaxaDw8TlAxrD+D/brNEAAAAAAAAD4f0H3AY0VpjFAOomOcq33PkD0K5WTxwY2QAAAAAAAAPh/bEqg4fVWPUDaaKv8aTI3QInftvLgFDxARL7gNVyiMUBhT0JtJ5QyQKCiyXVQv0BAszaJQkLNN0A/3EsQgLo7QAAAAAAAAPh/PMJTnrOgPUAAAAAAAAD4f3gL1ZrKADpAPQvMP3H2N0DCvBv36FM/QAAAAAAAAPh/AAAAAAAA+H8AAAAAAAD4f4/a733/qDFAAAAAAAAA+H9TJgnPjfw7QAzhIS6Mhj5AeXsY5UjHNUBSMyA577EzQJ7tnkqgN0xAAAAAAAAA+H9CWXjCd/41QLwv8kUFODZAAAAAAAAA+H9+auQLxzs9QNea7WMvjDZASYpjPt2UMEB1ark3KZI5QJngFQaA4D5AE4zNQ/vyMkBUZXfa4Vg3QKDwmv740jhAXjH9z5L1NUCnwuXEMfM2QHLvJRg1RzlAouIPwHPsMEAAAAAAAAD4f3xWRj2JuTZANN5BXaFaOkDj8pkWh3M9QOIvhY5GlTRAAAAAAAAA+H8n9W2gbX4zQGHiMuCYdDRAd4qcz3fEOUDY+s8Z+Sk2QFDigRZJjTdAAAAAAAAA+H92uDOVRuFAQLuO+YpSbT5AVK4U4e6tPkCFTvzDeZsxQAAAAAAAAPh/8aJ7DYGTNECrhkHe/JM2QNL7PtcQ5DdAAAAAAAAA+H/MFmauGrEzQAAAAAAAAPh/Wu43wrHfPECKtylqbvc2QAk8SvVOCEJA1DQWTDBVNkAAAAAAAAD4fwAAAAAAAPh/AAAAAAAA+H/wY7DCSw8yQONI1T7oHjNAAAAAAAAA+H+9LQ5C4XdCQDwyJaOwwDVAKbqCdCLNO0Aju8xqnZo9QJOAQG0FLTdAxUu3PtxNMkCmRcGSk04zQFS4HC+Caj9AdIiWRJVPMkAAAAAAAAD4f9vDqJ4NjDVAnUEvSUsaMUAAAAAAAAD4f86I7MAJXjpA3niGFHnANECBrm4YWFg5QJv9xUCkETBAMAVKlxxVOUCcEAXDjGo3QNxo3dZ6OkBAYMkIedMoLUBiAQpKEDY1QAAAAAAAAPh/esFPz3EwNEAAAAAAAAD4f3SPAMPHQzpA",
          "dtype": "f8"
         }
        }
       ],
       "layout": {
        "coloraxis": {
         "colorbar": {
          "title": {
           "text": "1/JSD * num_options"
          }
         },
         "colorscale": [
          [
           0,
           "#440154"
          ],
          [
           0.1111111111111111,
           "#482878"
          ],
          [
           0.2222222222222222,
           "#3e4989"
          ],
          [
           0.3333333333333333,
           "#31688e"
          ],
          [
           0.4444444444444444,
           "#26828e"
          ],
          [
           0.5555555555555556,
           "#1f9e89"
          ],
          [
           0.6666666666666666,
           "#35b779"
          ],
          [
           0.7777777777777778,
           "#6ece58"
          ],
          [
           0.8888888888888888,
           "#b5de2b"
          ],
          [
           1,
           "#fde725"
          ]
         ]
        },
        "geo": {
         "center": {},
         "domain": {
          "x": [
           0,
           1
          ],
          "y": [
           0,
           1
          ]
         },
         "projection": {
          "type": "equirectangular"
         },
         "showcoastlines": true,
         "showframe": false
        },
        "height": 400,
        "legend": {
         "tracegroupgap": 0
        },
        "margin": {
         "b": 0,
         "l": 0,
         "r": 0,
         "t": 30
        },
        "template": {
         "data": {
          "bar": [
           {
            "error_x": {
             "color": "#2a3f5f"
            },
            "error_y": {
             "color": "#2a3f5f"
            },
            "marker": {
             "line": {
              "color": "#E5ECF6",
              "width": 0.5
             },
             "pattern": {
              "fillmode": "overlay",
              "size": 10,
              "solidity": 0.2
             }
            },
            "type": "bar"
           }
          ],
          "barpolar": [
           {
            "marker": {
             "line": {
              "color": "#E5ECF6",
              "width": 0.5
             },
             "pattern": {
              "fillmode": "overlay",
              "size": 10,
              "solidity": 0.2
             }
            },
            "type": "barpolar"
           }
          ],
          "carpet": [
           {
            "aaxis": {
             "endlinecolor": "#2a3f5f",
             "gridcolor": "white",
             "linecolor": "white",
             "minorgridcolor": "white",
             "startlinecolor": "#2a3f5f"
            },
            "baxis": {
             "endlinecolor": "#2a3f5f",
             "gridcolor": "white",
             "linecolor": "white",
             "minorgridcolor": "white",
             "startlinecolor": "#2a3f5f"
            },
            "type": "carpet"
           }
          ],
          "choropleth": [
           {
            "colorbar": {
             "outlinewidth": 0,
             "ticks": ""
            },
            "type": "choropleth"
           }
          ],
          "contour": [
           {
            "colorbar": {
             "outlinewidth": 0,
             "ticks": ""
            },
            "colorscale": [
             [
              0,
              "#0d0887"
             ],
             [
              0.1111111111111111,
              "#46039f"
             ],
             [
              0.2222222222222222,
              "#7201a8"
             ],
             [
              0.3333333333333333,
              "#9c179e"
             ],
             [
              0.4444444444444444,
              "#bd3786"
             ],
             [
              0.5555555555555556,
              "#d8576b"
             ],
             [
              0.6666666666666666,
              "#ed7953"
             ],
             [
              0.7777777777777778,
              "#fb9f3a"
             ],
             [
              0.8888888888888888,
              "#fdca26"
             ],
             [
              1,
              "#f0f921"
             ]
            ],
            "type": "contour"
           }
          ],
          "contourcarpet": [
           {
            "colorbar": {
             "outlinewidth": 0,
             "ticks": ""
            },
            "type": "contourcarpet"
           }
          ],
          "heatmap": [
           {
            "colorbar": {
             "outlinewidth": 0,
             "ticks": ""
            },
            "colorscale": [
             [
              0,
              "#0d0887"
             ],
             [
              0.1111111111111111,
              "#46039f"
             ],
             [
              0.2222222222222222,
              "#7201a8"
             ],
             [
              0.3333333333333333,
              "#9c179e"
             ],
             [
              0.4444444444444444,
              "#bd3786"
             ],
             [
              0.5555555555555556,
              "#d8576b"
             ],
             [
              0.6666666666666666,
              "#ed7953"
             ],
             [
              0.7777777777777778,
              "#fb9f3a"
             ],
             [
              0.8888888888888888,
              "#fdca26"
             ],
             [
              1,
              "#f0f921"
             ]
            ],
            "type": "heatmap"
           }
          ],
          "histogram": [
           {
            "marker": {
             "pattern": {
              "fillmode": "overlay",
              "size": 10,
              "solidity": 0.2
             }
            },
            "type": "histogram"
           }
          ],
          "histogram2d": [
           {
            "colorbar": {
             "outlinewidth": 0,
             "ticks": ""
            },
            "colorscale": [
             [
              0,
              "#0d0887"
             ],
             [
              0.1111111111111111,
              "#46039f"
             ],
             [
              0.2222222222222222,
              "#7201a8"
             ],
             [
              0.3333333333333333,
              "#9c179e"
             ],
             [
              0.4444444444444444,
              "#bd3786"
             ],
             [
              0.5555555555555556,
              "#d8576b"
             ],
             [
              0.6666666666666666,
              "#ed7953"
             ],
             [
              0.7777777777777778,
              "#fb9f3a"
             ],
             [
              0.8888888888888888,
              "#fdca26"
             ],
             [
              1,
              "#f0f921"
             ]
            ],
            "type": "histogram2d"
           }
          ],
          "histogram2dcontour": [
           {
            "colorbar": {
             "outlinewidth": 0,
             "ticks": ""
            },
            "colorscale": [
             [
              0,
              "#0d0887"
             ],
             [
              0.1111111111111111,
              "#46039f"
             ],
             [
              0.2222222222222222,
              "#7201a8"
             ],
             [
              0.3333333333333333,
              "#9c179e"
             ],
             [
              0.4444444444444444,
              "#bd3786"
             ],
             [
              0.5555555555555556,
              "#d8576b"
             ],
             [
              0.6666666666666666,
              "#ed7953"
             ],
             [
              0.7777777777777778,
              "#fb9f3a"
             ],
             [
              0.8888888888888888,
              "#fdca26"
             ],
             [
              1,
              "#f0f921"
             ]
            ],
            "type": "histogram2dcontour"
           }
          ],
          "mesh3d": [
           {
            "colorbar": {
             "outlinewidth": 0,
             "ticks": ""
            },
            "type": "mesh3d"
           }
          ],
          "parcoords": [
           {
            "line": {
             "colorbar": {
              "outlinewidth": 0,
              "ticks": ""
             }
            },
            "type": "parcoords"
           }
          ],
          "pie": [
           {
            "automargin": true,
            "type": "pie"
           }
          ],
          "scatter": [
           {
            "fillpattern": {
             "fillmode": "overlay",
             "size": 10,
             "solidity": 0.2
            },
            "type": "scatter"
           }
          ],
          "scatter3d": [
           {
            "line": {
             "colorbar": {
              "outlinewidth": 0,
              "ticks": ""
             }
            },
            "marker": {
             "colorbar": {
              "outlinewidth": 0,
              "ticks": ""
             }
            },
            "type": "scatter3d"
           }
          ],
          "scattercarpet": [
           {
            "marker": {
             "colorbar": {
              "outlinewidth": 0,
              "ticks": ""
             }
            },
            "type": "scattercarpet"
           }
          ],
          "scattergeo": [
           {
            "marker": {
             "colorbar": {
              "outlinewidth": 0,
              "ticks": ""
             }
            },
            "type": "scattergeo"
           }
          ],
          "scattergl": [
           {
            "marker": {
             "colorbar": {
              "outlinewidth": 0,
              "ticks": ""
             }
            },
            "type": "scattergl"
           }
          ],
          "scattermap": [
           {
            "marker": {
             "colorbar": {
              "outlinewidth": 0,
              "ticks": ""
             }
            },
            "type": "scattermap"
           }
          ],
          "scattermapbox": [
           {
            "marker": {
             "colorbar": {
              "outlinewidth": 0,
              "ticks": ""
             }
            },
            "type": "scattermapbox"
           }
          ],
          "scatterpolar": [
           {
            "marker": {
             "colorbar": {
              "outlinewidth": 0,
              "ticks": ""
             }
            },
            "type": "scatterpolar"
           }
          ],
          "scatterpolargl": [
           {
            "marker": {
             "colorbar": {
              "outlinewidth": 0,
              "ticks": ""
             }
            },
            "type": "scatterpolargl"
           }
          ],
          "scatterternary": [
           {
            "marker": {
             "colorbar": {
              "outlinewidth": 0,
              "ticks": ""
             }
            },
            "type": "scatterternary"
           }
          ],
          "surface": [
           {
            "colorbar": {
             "outlinewidth": 0,
             "ticks": ""
            },
            "colorscale": [
             [
              0,
              "#0d0887"
             ],
             [
              0.1111111111111111,
              "#46039f"
             ],
             [
              0.2222222222222222,
              "#7201a8"
             ],
             [
              0.3333333333333333,
              "#9c179e"
             ],
             [
              0.4444444444444444,
              "#bd3786"
             ],
             [
              0.5555555555555556,
              "#d8576b"
             ],
             [
              0.6666666666666666,
              "#ed7953"
             ],
             [
              0.7777777777777778,
              "#fb9f3a"
             ],
             [
              0.8888888888888888,
              "#fdca26"
             ],
             [
              1,
              "#f0f921"
             ]
            ],
            "type": "surface"
           }
          ],
          "table": [
           {
            "cells": {
             "fill": {
              "color": "#EBF0F8"
             },
             "line": {
              "color": "white"
             }
            },
            "header": {
             "fill": {
              "color": "#C8D4E3"
             },
             "line": {
              "color": "white"
             }
            },
            "type": "table"
           }
          ]
         },
         "layout": {
          "annotationdefaults": {
           "arrowcolor": "#2a3f5f",
           "arrowhead": 0,
           "arrowwidth": 1
          },
          "autotypenumbers": "strict",
          "coloraxis": {
           "colorbar": {
            "outlinewidth": 0,
            "ticks": ""
           }
          },
          "colorscale": {
           "diverging": [
            [
             0,
             "#8e0152"
            ],
            [
             0.1,
             "#c51b7d"
            ],
            [
             0.2,
             "#de77ae"
            ],
            [
             0.3,
             "#f1b6da"
            ],
            [
             0.4,
             "#fde0ef"
            ],
            [
             0.5,
             "#f7f7f7"
            ],
            [
             0.6,
             "#e6f5d0"
            ],
            [
             0.7,
             "#b8e186"
            ],
            [
             0.8,
             "#7fbc41"
            ],
            [
             0.9,
             "#4d9221"
            ],
            [
             1,
             "#276419"
            ]
           ],
           "sequential": [
            [
             0,
             "#0d0887"
            ],
            [
             0.1111111111111111,
             "#46039f"
            ],
            [
             0.2222222222222222,
             "#7201a8"
            ],
            [
             0.3333333333333333,
             "#9c179e"
            ],
            [
             0.4444444444444444,
             "#bd3786"
            ],
            [
             0.5555555555555556,
             "#d8576b"
            ],
            [
             0.6666666666666666,
             "#ed7953"
            ],
            [
             0.7777777777777778,
             "#fb9f3a"
            ],
            [
             0.8888888888888888,
             "#fdca26"
            ],
            [
             1,
             "#f0f921"
            ]
           ],
           "sequentialminus": [
            [
             0,
             "#0d0887"
            ],
            [
             0.1111111111111111,
             "#46039f"
            ],
            [
             0.2222222222222222,
             "#7201a8"
            ],
            [
             0.3333333333333333,
             "#9c179e"
            ],
            [
             0.4444444444444444,
             "#bd3786"
            ],
            [
             0.5555555555555556,
             "#d8576b"
            ],
            [
             0.6666666666666666,
             "#ed7953"
            ],
            [
             0.7777777777777778,
             "#fb9f3a"
            ],
            [
             0.8888888888888888,
             "#fdca26"
            ],
            [
             1,
             "#f0f921"
            ]
           ]
          },
          "colorway": [
           "#636efa",
           "#EF553B",
           "#00cc96",
           "#ab63fa",
           "#FFA15A",
           "#19d3f3",
           "#FF6692",
           "#B6E880",
           "#FF97FF",
           "#FECB52"
          ],
          "font": {
           "color": "#2a3f5f"
          },
          "geo": {
           "bgcolor": "white",
           "lakecolor": "white",
           "landcolor": "#E5ECF6",
           "showlakes": true,
           "showland": true,
           "subunitcolor": "white"
          },
          "hoverlabel": {
           "align": "left"
          },
          "hovermode": "closest",
          "mapbox": {
           "style": "light"
          },
          "paper_bgcolor": "white",
          "plot_bgcolor": "#E5ECF6",
          "polar": {
           "angularaxis": {
            "gridcolor": "white",
            "linecolor": "white",
            "ticks": ""
           },
           "bgcolor": "#E5ECF6",
           "radialaxis": {
            "gridcolor": "white",
            "linecolor": "white",
            "ticks": ""
           }
          },
          "scene": {
           "xaxis": {
            "backgroundcolor": "#E5ECF6",
            "gridcolor": "white",
            "gridwidth": 2,
            "linecolor": "white",
            "showbackground": true,
            "ticks": "",
            "zerolinecolor": "white"
           },
           "yaxis": {
            "backgroundcolor": "#E5ECF6",
            "gridcolor": "white",
            "gridwidth": 2,
            "linecolor": "white",
            "showbackground": true,
            "ticks": "",
            "zerolinecolor": "white"
           },
           "zaxis": {
            "backgroundcolor": "#E5ECF6",
            "gridcolor": "white",
            "gridwidth": 2,
            "linecolor": "white",
            "showbackground": true,
            "ticks": "",
            "zerolinecolor": "white"
           }
          },
          "shapedefaults": {
           "line": {
            "color": "#2a3f5f"
           }
          },
          "ternary": {
           "aaxis": {
            "gridcolor": "white",
            "linecolor": "white",
            "ticks": ""
           },
           "baxis": {
            "gridcolor": "white",
            "linecolor": "white",
            "ticks": ""
           },
           "bgcolor": "#E5ECF6",
           "caxis": {
            "gridcolor": "white",
            "linecolor": "white",
            "ticks": ""
           }
          },
          "title": {
           "x": 0.05
          },
          "xaxis": {
           "automargin": true,
           "gridcolor": "white",
           "linecolor": "white",
           "ticks": "",
           "title": {
            "standoff": 15
           },
           "zerolinecolor": "white",
           "zerolinewidth": 2
          },
          "yaxis": {
           "automargin": true,
           "gridcolor": "white",
           "linecolor": "white",
           "ticks": "",
           "title": {
            "standoff": 15
           },
           "zerolinecolor": "white",
           "zerolinewidth": 2
          }
         }
        },
        "title": {
         "text": "True scores"
        },
        "width": 800
       }
      }
     },
     "metadata": {},
     "output_type": "display_data"
    }
   ],
   "source": [
    "import plotly.express as px\n",
    "\n",
    "fig = px.choropleth(merged_df, \n",
    "                    locations='country', \n",
    "                    locationmode='country names', \n",
    "                    color='true_score',  \n",
    "                    color_continuous_scale='Viridis',  \n",
    "                    title='True scores',\n",
    "                    labels={'true_score': '1/JSD * num_options'})\n",
    "\n",
    "fig.update_layout(\n",
    "    geo=dict(\n",
    "        showframe=False,\n",
    "        showcoastlines=True,\n",
    "        projection_type='equirectangular'\n",
    "    ),\n",
    "    width = 800, height=400,\n",
    "    margin=dict(l=0, r=0, t=30, b=0)\n",
    ")\n",
    "\n",
    "fig.show()"
   ]
  },
  {
   "cell_type": "code",
   "execution_count": 17,
   "metadata": {},
   "outputs": [
    {
     "data": {
      "text/plain": [
       "<Axes: ylabel='Frequency'>"
      ]
     },
     "execution_count": 17,
     "metadata": {},
     "output_type": "execute_result"
    },
    {
     "data": {
      "image/png": "[encoded data removed]",
      "text/plain": [
       "<Figure size 640x480 with 1 Axes>"
      ]
     },
     "metadata": {},
     "output_type": "display_data"
    }
   ],
   "source": [
    "merged_df['true_score'].plot.hist()"
   ]
  },
  {
   "cell_type": "code",
   "execution_count": 18,
   "metadata": {},
   "outputs": [
    {
     "data": {
      "text/plain": [
       "<Axes: ylabel='Frequency'>"
      ]
     },
     "execution_count": 18,
     "metadata": {},
     "output_type": "execute_result"
    },
    {
     "data": {
      "image/png": "[encoded data removed]",
      "text/plain": [
       "<Figure size 640x480 with 1 Axes>"
      ]
     },
     "metadata": {},
     "output_type": "display_data"
    }
   ],
   "source": [
    "merged_df['jsd'].plot.hist()"
   ]
  },
  {
   "cell_type": "code",
   "execution_count": null,
   "metadata": {},
   "outputs": [
    {
     "name": "stdout",
     "output_type": "stream",
     "text": [
      "true:  0.26111191805492046\n",
      "Pure JSD:  0.16074222022425427\n"
     ]
    }
   ],
   "source": [
    "print(\"true: \", merged_df[\"true_score\"].std() / merged_df[\"true_score\"].mean())\n",
    "print(\"Pure JSD: \", merged_df[\"jsd\"].std() / merged_df[\"jsd\"].mean())\n",
    "\n",
    "# I was a little surprised at this result- I don't know why variance is higher for our \"true score\" than for JSD"
   ]
  },
  {
   "cell_type": "code",
   "execution_count": 20,
   "metadata": {},
   "outputs": [
    {
     "data": {
      "text/html": [
       "<div>\n",
       "<style scoped>\n",
       "    .dataframe tbody tr th:only-of-type {\n",
       "        vertical-align: middle;\n",
       "    }\n",
       "\n",
       "    .dataframe tbody tr th {\n",
       "        vertical-align: top;\n",
       "    }\n",
       "\n",
       "    .dataframe thead th {\n",
       "        text-align: right;\n",
       "    }\n",
       "</style>\n",
       "<table border=\"1\" class=\"dataframe\">\n",
       "  <thead>\n",
       "    <tr style=\"text-align: right;\">\n",
       "      <th></th>\n",
       "      <th>Unnamed: 0</th>\n",
       "      <th>question</th>\n",
       "      <th>country</th>\n",
       "      <th>selections</th>\n",
       "      <th>options</th>\n",
       "      <th>llm_reasoning</th>\n",
       "      <th>llm_distribution</th>\n",
       "      <th>num_selections</th>\n",
       "      <th>jsd</th>\n",
       "    </tr>\n",
       "  </thead>\n",
       "  <tbody>\n",
       "    <tr>\n",
       "      <th>0</th>\n",
       "      <td>0</td>\n",
       "      <td>Now I'd like you to tell me your views on vari...</td>\n",
       "      <td>Albania</td>\n",
       "      <td>[0.251, 0.102, 0.127, 0.102, 0.167, 0.066, 0.0...</td>\n",
       "      <td>['Competition is good', '2', '3', '4', '5', '6...</td>\n",
       "      <td>Albania is a country with a transitioning econ...</td>\n",
       "      <td>[0.15, 0.1, 0.1, 0.1, 0.1, 0.1, 0.05, 0.1, 0.0...</td>\n",
       "      <td>13</td>\n",
       "      <td>0.235625</td>\n",
       "    </tr>\n",
       "    <tr>\n",
       "      <th>1</th>\n",
       "      <td>1</td>\n",
       "      <td>Now I'd like you to tell me your views on vari...</td>\n",
       "      <td>Albania</td>\n",
       "      <td>[0.16399999999999998, 0.057, 0.081999999999999...</td>\n",
       "      <td>['The government should take more responsibili...</td>\n",
       "      <td>Albania is a country with a history of a stron...</td>\n",
       "      <td>[0.25, 0.1, 0.1, 0.1, 0.1, 0.1, 0.05, 0.05, 0....</td>\n",
       "      <td>13</td>\n",
       "      <td>0.202583</td>\n",
       "    </tr>\n",
       "    <tr>\n",
       "      <th>2</th>\n",
       "      <td>2</td>\n",
       "      <td>In which of the following things do you believ...</td>\n",
       "      <td>Albania</td>\n",
       "      <td>[0.456, 0.46399999999999997, 0.066, 0.012, 0.001]</td>\n",
       "      <td>['Yes', 'No', \"Don't know\", 'No answer', 'Othe...</td>\n",
       "      <td>Albania is a country with a diverse religious ...</td>\n",
       "      <td>[0.4, 0.35, 0.15, 0.1, 0.0]</td>\n",
       "      <td>5</td>\n",
       "      <td>0.219585</td>\n",
       "    </tr>\n",
       "    <tr>\n",
       "      <th>3</th>\n",
       "      <td>3</td>\n",
       "      <td>I ‘d like to ask you how much you trust people...</td>\n",
       "      <td>Albania</td>\n",
       "      <td>[0.066, 0.405, 0.312, 0.16, 0.045, 0.01, 0.002]</td>\n",
       "      <td>['Trust completely', 'Trust somewhat', 'Do not...</td>\n",
       "      <td>Albania is a country with a diverse religious ...</td>\n",
       "      <td>[0.15, 0.5, 0.2, 0.1, 0.03, 0.02, 0.0]</td>\n",
       "      <td>7</td>\n",
       "      <td>0.181561</td>\n",
       "    </tr>\n",
       "    <tr>\n",
       "      <th>4</th>\n",
       "      <td>4</td>\n",
       "      <td>I'm going to read out a list of various change...</td>\n",
       "      <td>Albania</td>\n",
       "      <td>[0.309, 0.189, 0.466, 0.028999999999999998, 0....</td>\n",
       "      <td>['Good thing', \"Don't mind\", 'Bad thing', \"Don...</td>\n",
       "      <td>Albania is a country with a strong work ethic,...</td>\n",
       "      <td>[0.25, 0.15, 0.5, 0.05, 0.03, 0.02]</td>\n",
       "      <td>6</td>\n",
       "      <td>0.142271</td>\n",
       "    </tr>\n",
       "  </tbody>\n",
       "</table>\n",
       "</div>"
      ],
      "text/plain": [
       "   Unnamed: 0                                           question  country  \\\n",
       "0           0  Now I'd like you to tell me your views on vari...  Albania   \n",
       "1           1  Now I'd like you to tell me your views on vari...  Albania   \n",
       "2           2  In which of the following things do you believ...  Albania   \n",
       "3           3  I ‘d like to ask you how much you trust people...  Albania   \n",
       "4           4  I'm going to read out a list of various change...  Albania   \n",
       "\n",
       "                                          selections  \\\n",
       "0  [0.251, 0.102, 0.127, 0.102, 0.167, 0.066, 0.0...   \n",
       "1  [0.16399999999999998, 0.057, 0.081999999999999...   \n",
       "2  [0.456, 0.46399999999999997, 0.066, 0.012, 0.001]   \n",
       "3    [0.066, 0.405, 0.312, 0.16, 0.045, 0.01, 0.002]   \n",
       "4  [0.309, 0.189, 0.466, 0.028999999999999998, 0....   \n",
       "\n",
       "                                             options  \\\n",
       "0  ['Competition is good', '2', '3', '4', '5', '6...   \n",
       "1  ['The government should take more responsibili...   \n",
       "2  ['Yes', 'No', \"Don't know\", 'No answer', 'Othe...   \n",
       "3  ['Trust completely', 'Trust somewhat', 'Do not...   \n",
       "4  ['Good thing', \"Don't mind\", 'Bad thing', \"Don...   \n",
       "\n",
       "                                       llm_reasoning  \\\n",
       "0  Albania is a country with a transitioning econ...   \n",
       "1  Albania is a country with a history of a stron...   \n",
       "2  Albania is a country with a diverse religious ...   \n",
       "3  Albania is a country with a diverse religious ...   \n",
       "4  Albania is a country with a strong work ethic,...   \n",
       "\n",
       "                                    llm_distribution  num_selections       jsd  \n",
       "0  [0.15, 0.1, 0.1, 0.1, 0.1, 0.1, 0.05, 0.1, 0.0...              13  0.235625  \n",
       "1  [0.25, 0.1, 0.1, 0.1, 0.1, 0.1, 0.05, 0.05, 0....              13  0.202583  \n",
       "2                        [0.4, 0.35, 0.15, 0.1, 0.0]               5  0.219585  \n",
       "3             [0.15, 0.5, 0.2, 0.1, 0.03, 0.02, 0.0]               7  0.181561  \n",
       "4                [0.25, 0.15, 0.5, 0.05, 0.03, 0.02]               6  0.142271  "
      ]
     },
     "execution_count": 20,
     "metadata": {},
     "output_type": "execute_result"
    }
   ],
   "source": [
    "df.head()"
   ]
  },
  {
   "cell_type": "code",
   "execution_count": 21,
   "metadata": {},
   "outputs": [
    {
     "data": {
      "application/vnd.plotly.v1+json": {
       "config": {
        "plotlyServerURL": "https://plot.ly"
       },
       "data": [
        {
         "bingroup": "x",
         "hovertemplate": "jsd_category=high<br>jsd=%{x}<br>count=%{y}<extra></extra>",
         "legendgroup": "high",
         "marker": {
          "color": "#8B0000",
          "pattern": {
           "shape": ""
          }
         },
         "name": "high",
         "nbinsx": 100,
         "orientation": "v",
         "showlegend": true,
         "type": "histogram",
         "x": {
          "bdata": "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",
          "dtype": "f8"
         },
         "xaxis": "x",
         "yaxis": "y"
        },
        {
         "bingroup": "x",
         "hovertemplate": "jsd_category=low<br>jsd=%{x}<br>count=%{y}<extra></extra>",
         "legendgroup": "low",
         "marker": {
          "color": "#006400",
          "pattern": {
           "shape": ""
          }
         },
         "name": "low",
         "nbinsx": 100,
         "orientation": "v",
         "showlegend": true,
         "type": "histogram",
         "x": {
          "bdata": "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",
          "dtype": "f8"
         },
         "xaxis": "x",
         "yaxis": "y"
        }
       ],
       "layout": {
        "barmode": "relative",
        "legend": {
         "title": {
          "text": "jsd_category"
         },
         "tracegroupgap": 0
        },
        "margin": {
         "t": 60
        },
        "template": {
         "data": {
          "bar": [
           {
            "error_x": {
             "color": "#2a3f5f"
            },
            "error_y": {
             "color": "#2a3f5f"
            },
            "marker": {
             "line": {
              "color": "#E5ECF6",
              "width": 0.5
             },
             "pattern": {
              "fillmode": "overlay",
              "size": 10,
              "solidity": 0.2
             }
            },
            "type": "bar"
           }
          ],
          "barpolar": [
           {
            "marker": {
             "line": {
              "color": "#E5ECF6",
              "width": 0.5
             },
             "pattern": {
              "fillmode": "overlay",
              "size": 10,
              "solidity": 0.2
             }
            },
            "type": "barpolar"
           }
          ],
          "carpet": [
           {
            "aaxis": {
             "endlinecolor": "#2a3f5f",
             "gridcolor": "white",
             "linecolor": "white",
             "minorgridcolor": "white",
             "startlinecolor": "#2a3f5f"
            },
            "baxis": {
             "endlinecolor": "#2a3f5f",
             "gridcolor": "white",
             "linecolor": "white",
             "minorgridcolor": "white",
             "startlinecolor": "#2a3f5f"
            },
            "type": "carpet"
           }
          ],
          "choropleth": [
           {
            "colorbar": {
             "outlinewidth": 0,
             "ticks": ""
            },
            "type": "choropleth"
           }
          ],
          "contour": [
           {
            "colorbar": {
             "outlinewidth": 0,
             "ticks": ""
            },
            "colorscale": [
             [
              0,
              "#0d0887"
             ],
             [
              0.1111111111111111,
              "#46039f"
             ],
             [
              0.2222222222222222,
              "#7201a8"
             ],
             [
              0.3333333333333333,
              "#9c179e"
             ],
             [
              0.4444444444444444,
              "#bd3786"
             ],
             [
              0.5555555555555556,
              "#d8576b"
             ],
             [
              0.6666666666666666,
              "#ed7953"
             ],
             [
              0.7777777777777778,
              "#fb9f3a"
             ],
             [
              0.8888888888888888,
              "#fdca26"
             ],
             [
              1,
              "#f0f921"
             ]
            ],
            "type": "contour"
           }
          ],
          "contourcarpet": [
           {
            "colorbar": {
             "outlinewidth": 0,
             "ticks": ""
            },
            "type": "contourcarpet"
           }
          ],
          "heatmap": [
           {
            "colorbar": {
             "outlinewidth": 0,
             "ticks": ""
            },
            "colorscale": [
             [
              0,
              "#0d0887"
             ],
             [
              0.1111111111111111,
              "#46039f"
             ],
             [
              0.2222222222222222,
              "#7201a8"
             ],
             [
              0.3333333333333333,
              "#9c179e"
             ],
             [
              0.4444444444444444,
              "#bd3786"
             ],
             [
              0.5555555555555556,
              "#d8576b"
             ],
             [
              0.6666666666666666,
              "#ed7953"
             ],
             [
              0.7777777777777778,
              "#fb9f3a"
             ],
             [
              0.8888888888888888,
              "#fdca26"
             ],
             [
              1,
              "#f0f921"
             ]
            ],
            "type": "heatmap"
           }
          ],
          "histogram": [
           {
            "marker": {
             "pattern": {
              "fillmode": "overlay",
              "size": 10,
              "solidity": 0.2
             }
            },
            "type": "histogram"
           }
          ],
          "histogram2d": [
           {
            "colorbar": {
             "outlinewidth": 0,
             "ticks": ""
            },
            "colorscale": [
             [
              0,
              "#0d0887"
             ],
             [
              0.1111111111111111,
              "#46039f"
             ],
             [
              0.2222222222222222,
              "#7201a8"
             ],
             [
              0.3333333333333333,
              "#9c179e"
             ],
             [
              0.4444444444444444,
              "#bd3786"
             ],
             [
              0.5555555555555556,
              "#d8576b"
             ],
             [
              0.6666666666666666,
              "#ed7953"
             ],
             [
              0.7777777777777778,
              "#fb9f3a"
             ],
             [
              0.8888888888888888,
              "#fdca26"
             ],
             [
              1,
              "#f0f921"
             ]
            ],
            "type": "histogram2d"
           }
          ],
          "histogram2dcontour": [
           {
            "colorbar": {
             "outlinewidth": 0,
             "ticks": ""
            },
            "colorscale": [
             [
              0,
              "#0d0887"
             ],
             [
              0.1111111111111111,
              "#46039f"
             ],
             [
              0.2222222222222222,
              "#7201a8"
             ],
             [
              0.3333333333333333,
              "#9c179e"
             ],
             [
              0.4444444444444444,
              "#bd3786"
             ],
             [
              0.5555555555555556,
              "#d8576b"
             ],
             [
              0.6666666666666666,
              "#ed7953"
             ],
             [
              0.7777777777777778,
              "#fb9f3a"
             ],
             [
              0.8888888888888888,
              "#fdca26"
             ],
             [
              1,
              "#f0f921"
             ]
            ],
            "type": "histogram2dcontour"
           }
          ],
          "mesh3d": [
           {
            "colorbar": {
             "outlinewidth": 0,
             "ticks": ""
            },
            "type": "mesh3d"
           }
          ],
          "parcoords": [
           {
            "line": {
             "colorbar": {
              "outlinewidth": 0,
              "ticks": ""
             }
            },
            "type": "parcoords"
           }
          ],
          "pie": [
           {
            "automargin": true,
            "type": "pie"
           }
          ],
          "scatter": [
           {
            "fillpattern": {
             "fillmode": "overlay",
             "size": 10,
             "solidity": 0.2
            },
            "type": "scatter"
           }
          ],
          "scatter3d": [
           {
            "line": {
             "colorbar": {
              "outlinewidth": 0,
              "ticks": ""
             }
            },
            "marker": {
             "colorbar": {
              "outlinewidth": 0,
              "ticks": ""
             }
            },
            "type": "scatter3d"
           }
          ],
          "scattercarpet": [
           {
            "marker": {
             "colorbar": {
              "outlinewidth": 0,
              "ticks": ""
             }
            },
            "type": "scattercarpet"
           }
          ],
          "scattergeo": [
           {
            "marker": {
             "colorbar": {
              "outlinewidth": 0,
              "ticks": ""
             }
            },
            "type": "scattergeo"
           }
          ],
          "scattergl": [
           {
            "marker": {
             "colorbar": {
              "outlinewidth": 0,
              "ticks": ""
             }
            },
            "type": "scattergl"
           }
          ],
          "scattermap": [
           {
            "marker": {
             "colorbar": {
              "outlinewidth": 0,
              "ticks": ""
             }
            },
            "type": "scattermap"
           }
          ],
          "scattermapbox": [
           {
            "marker": {
             "colorbar": {
              "outlinewidth": 0,
              "ticks": ""
             }
            },
            "type": "scattermapbox"
           }
          ],
          "scatterpolar": [
           {
            "marker": {
             "colorbar": {
              "outlinewidth": 0,
              "ticks": ""
             }
            },
            "type": "scatterpolar"
           }
          ],
          "scatterpolargl": [
           {
            "marker": {
             "colorbar": {
              "outlinewidth": 0,
              "ticks": ""
             }
            },
            "type": "scatterpolargl"
           }
          ],
          "scatterternary": [
           {
            "marker": {
             "colorbar": {
              "outlinewidth": 0,
              "ticks": ""
             }
            },
            "type": "scatterternary"
           }
          ],
          "surface": [
           {
            "colorbar": {
             "outlinewidth": 0,
             "ticks": ""
            },
            "colorscale": [
             [
              0,
              "#0d0887"
             ],
             [
              0.1111111111111111,
              "#46039f"
             ],
             [
              0.2222222222222222,
              "#7201a8"
             ],
             [
              0.3333333333333333,
              "#9c179e"
             ],
             [
              0.4444444444444444,
              "#bd3786"
             ],
             [
              0.5555555555555556,
              "#d8576b"
             ],
             [
              0.6666666666666666,
              "#ed7953"
             ],
             [
              0.7777777777777778,
              "#fb9f3a"
             ],
             [
              0.8888888888888888,
              "#fdca26"
             ],
             [
              1,
              "#f0f921"
             ]
            ],
            "type": "surface"
           }
          ],
          "table": [
           {
            "cells": {
             "fill": {
              "color": "#EBF0F8"
             },
             "line": {
              "color": "white"
             }
            },
            "header": {
             "fill": {
              "color": "#C8D4E3"
             },
             "line": {
              "color": "white"
             }
            },
            "type": "table"
           }
          ]
         },
         "layout": {
          "annotationdefaults": {
           "arrowcolor": "#2a3f5f",
           "arrowhead": 0,
           "arrowwidth": 1
          },
          "autotypenumbers": "strict",
          "coloraxis": {
           "colorbar": {
            "outlinewidth": 0,
            "ticks": ""
           }
          },
          "colorscale": {
           "diverging": [
            [
             0,
             "#8e0152"
            ],
            [
             0.1,
             "#c51b7d"
            ],
            [
             0.2,
             "#de77ae"
            ],
            [
             0.3,
             "#f1b6da"
            ],
            [
             0.4,
             "#fde0ef"
            ],
            [
             0.5,
             "#f7f7f7"
            ],
            [
             0.6,
             "#e6f5d0"
            ],
            [
             0.7,
             "#b8e186"
            ],
            [
             0.8,
             "#7fbc41"
            ],
            [
             0.9,
             "#4d9221"
            ],
            [
             1,
             "#276419"
            ]
           ],
           "sequential": [
            [
             0,
             "#0d0887"
            ],
            [
             0.1111111111111111,
             "#46039f"
            ],
            [
             0.2222222222222222,
             "#7201a8"
            ],
            [
             0.3333333333333333,
             "#9c179e"
            ],
            [
             0.4444444444444444,
             "#bd3786"
            ],
            [
             0.5555555555555556,
             "#d8576b"
            ],
            [
             0.6666666666666666,
             "#ed7953"
            ],
            [
             0.7777777777777778,
             "#fb9f3a"
            ],
            [
             0.8888888888888888,
             "#fdca26"
            ],
            [
             1,
             "#f0f921"
            ]
           ],
           "sequentialminus": [
            [
             0,
             "#0d0887"
            ],
            [
             0.1111111111111111,
             "#46039f"
            ],
            [
             0.2222222222222222,
             "#7201a8"
            ],
            [
             0.3333333333333333,
             "#9c179e"
            ],
            [
             0.4444444444444444,
             "#bd3786"
            ],
            [
             0.5555555555555556,
             "#d8576b"
            ],
            [
             0.6666666666666666,
             "#ed7953"
            ],
            [
             0.7777777777777778,
             "#fb9f3a"
            ],
            [
             0.8888888888888888,
             "#fdca26"
            ],
            [
             1,
             "#f0f921"
            ]
           ]
          },
          "colorway": [
           "#636efa",
           "#EF553B",
           "#00cc96",
           "#ab63fa",
           "#FFA15A",
           "#19d3f3",
           "#FF6692",
           "#B6E880",
           "#FF97FF",
           "#FECB52"
          ],
          "font": {
           "color": "#2a3f5f"
          },
          "geo": {
           "bgcolor": "white",
           "lakecolor": "white",
           "landcolor": "#E5ECF6",
           "showlakes": true,
           "showland": true,
           "subunitcolor": "white"
          },
          "hoverlabel": {
           "align": "left"
          },
          "hovermode": "closest",
          "mapbox": {
           "style": "light"
          },
          "paper_bgcolor": "white",
          "plot_bgcolor": "#E5ECF6",
          "polar": {
           "angularaxis": {
            "gridcolor": "white",
            "linecolor": "white",
            "ticks": ""
           },
           "bgcolor": "#E5ECF6",
           "radialaxis": {
            "gridcolor": "white",
            "linecolor": "white",
            "ticks": ""
           }
          },
          "scene": {
           "xaxis": {
            "backgroundcolor": "#E5ECF6",
            "gridcolor": "white",
            "gridwidth": 2,
            "linecolor": "white",
            "showbackground": true,
            "ticks": "",
            "zerolinecolor": "white"
           },
           "yaxis": {
            "backgroundcolor": "#E5ECF6",
            "gridcolor": "white",
            "gridwidth": 2,
            "linecolor": "white",
            "showbackground": true,
            "ticks": "",
            "zerolinecolor": "white"
           },
           "zaxis": {
            "backgroundcolor": "#E5ECF6",
            "gridcolor": "white",
            "gridwidth": 2,
            "linecolor": "white",
            "showbackground": true,
            "ticks": "",
            "zerolinecolor": "white"
           }
          },
          "shapedefaults": {
           "line": {
            "color": "#2a3f5f"
           }
          },
          "ternary": {
           "aaxis": {
            "gridcolor": "white",
            "linecolor": "white",
            "ticks": ""
           },
           "baxis": {
            "gridcolor": "white",
            "linecolor": "white",
            "ticks": ""
           },
           "bgcolor": "#E5ECF6",
           "caxis": {
            "gridcolor": "white",
            "linecolor": "white",
            "ticks": ""
           }
          },
          "title": {
           "x": 0.05
          },
          "xaxis": {
           "automargin": true,
           "gridcolor": "white",
           "linecolor": "white",
           "ticks": "",
           "title": {
            "standoff": 15
           },
           "zerolinecolor": "white",
           "zerolinewidth": 2
          },
          "yaxis": {
           "automargin": true,
           "gridcolor": "white",
           "linecolor": "white",
           "ticks": "",
           "title": {
            "standoff": 15
           },
           "zerolinecolor": "white",
           "zerolinewidth": 2
          }
         }
        },
        "xaxis": {
         "anchor": "y",
         "domain": [
          0,
          1
         ],
         "title": {
          "text": "jsd"
         }
        },
        "yaxis": {
         "anchor": "x",
         "domain": [
          0,
          1
         ],
         "title": {
          "text": "count"
         }
        }
       }
      }
     },
     "metadata": {},
     "output_type": "display_data"
    }
   ],
   "source": [
    "df['jsd_category'] = df['jsd'].apply(lambda x: 'low' if x < 0.15 else 'high')\n",
    "\n",
    "fig = px.histogram(\n",
    "    df,\n",
    "    x='jsd',\n",
    "    color='jsd_category',\n",
    "    nbins=100,\n",
    "    color_discrete_map={'low': '#006400', 'high': '#8B0000'}\n",
    ")\n",
    "fig.show()"
   ]
  }
 ],
 "metadata": {
  "kernelspec": {
   "display_name": ".venv",
   "language": "python",
   "name": "python3"
  },
  "language_info": {
   "codemirror_mode": {
    "name": "ipython",
    "version": 3
   },
   "file_extension": ".py",
   "mimetype": "text/x-python",
   "name": "python",
   "nbconvert_exporter": "python",
   "pygments_lexer": "ipython3",
   "version": "3.13.3"
  }
 },
 "nbformat": 4,
 "nbformat_minor": 2
}
