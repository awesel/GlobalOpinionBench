{
 "cells": [
  {
   "cell_type": "code",
   "execution_count": 3,
   "metadata": {},
   "outputs": [
    {
     "data": {
      "text/html": [
       "<div>\n",
       "<style scoped>\n",
       "    .dataframe tbody tr th:only-of-type {\n",
       "        vertical-align: middle;\n",
       "    }\n",
       "\n",
       "    .dataframe tbody tr th {\n",
       "        vertical-align: top;\n",
       "    }\n",
       "\n",
       "    .dataframe thead th {\n",
       "        text-align: right;\n",
       "    }\n",
       "</style>\n",
       "<table border=\"1\" class=\"dataframe\">\n",
       "  <thead>\n",
       "    <tr style=\"text-align: right;\">\n",
       "      <th></th>\n",
       "      <th>Series Name</th>\n",
       "      <th>Series Code</th>\n",
       "      <th>Country Name</th>\n",
       "      <th>Country Code</th>\n",
       "      <th>1990 [YR1990]</th>\n",
       "      <th>2000 [YR2000]</th>\n",
       "      <th>2015 [YR2015]</th>\n",
       "      <th>2016 [YR2016]</th>\n",
       "      <th>2017 [YR2017]</th>\n",
       "      <th>2018 [YR2018]</th>\n",
       "      <th>2019 [YR2019]</th>\n",
       "      <th>2020 [YR2020]</th>\n",
       "      <th>2021 [YR2021]</th>\n",
       "      <th>2022 [YR2022]</th>\n",
       "      <th>2023</th>\n",
       "      <th>2024 [YR2024]</th>\n",
       "    </tr>\n",
       "  </thead>\n",
       "  <tbody>\n",
       "    <tr>\n",
       "      <th>0</th>\n",
       "      <td>Individuals using the Internet (% of population)</td>\n",
       "      <td>IT.NET.USER.ZS</td>\n",
       "      <td>Afghanistan</td>\n",
       "      <td>AFG</td>\n",
       "      <td>0</td>\n",
       "      <td>..</td>\n",
       "      <td>8.26</td>\n",
       "      <td>11</td>\n",
       "      <td>13.5</td>\n",
       "      <td>16.8</td>\n",
       "      <td>17.6</td>\n",
       "      <td>17</td>\n",
       "      <td>16.5</td>\n",
       "      <td>17.2</td>\n",
       "      <td>17.7</td>\n",
       "      <td>..</td>\n",
       "    </tr>\n",
       "    <tr>\n",
       "      <th>1</th>\n",
       "      <td>Individuals using the Internet (% of population)</td>\n",
       "      <td>IT.NET.USER.ZS</td>\n",
       "      <td>Albania</td>\n",
       "      <td>ALB</td>\n",
       "      <td>0</td>\n",
       "      <td>0.114</td>\n",
       "      <td>56.9</td>\n",
       "      <td>59.6</td>\n",
       "      <td>62.4</td>\n",
       "      <td>65.4</td>\n",
       "      <td>68.6</td>\n",
       "      <td>72.2</td>\n",
       "      <td>79.3</td>\n",
       "      <td>82.6</td>\n",
       "      <td>83.1</td>\n",
       "      <td>..</td>\n",
       "    </tr>\n",
       "    <tr>\n",
       "      <th>2</th>\n",
       "      <td>Individuals using the Internet (% of population)</td>\n",
       "      <td>IT.NET.USER.ZS</td>\n",
       "      <td>Algeria</td>\n",
       "      <td>DZA</td>\n",
       "      <td>0</td>\n",
       "      <td>0.492</td>\n",
       "      <td>38.2</td>\n",
       "      <td>42.9</td>\n",
       "      <td>47.7</td>\n",
       "      <td>49</td>\n",
       "      <td>55.8</td>\n",
       "      <td>63.5</td>\n",
       "      <td>72.2</td>\n",
       "      <td>74.8</td>\n",
       "      <td>76.9</td>\n",
       "      <td>..</td>\n",
       "    </tr>\n",
       "    <tr>\n",
       "      <th>3</th>\n",
       "      <td>Individuals using the Internet (% of population)</td>\n",
       "      <td>IT.NET.USER.ZS</td>\n",
       "      <td>American Samoa</td>\n",
       "      <td>ASM</td>\n",
       "      <td>0</td>\n",
       "      <td>..</td>\n",
       "      <td>..</td>\n",
       "      <td>..</td>\n",
       "      <td>..</td>\n",
       "      <td>..</td>\n",
       "      <td>..</td>\n",
       "      <td>..</td>\n",
       "      <td>..</td>\n",
       "      <td>..</td>\n",
       "      <td>..</td>\n",
       "      <td>..</td>\n",
       "    </tr>\n",
       "    <tr>\n",
       "      <th>4</th>\n",
       "      <td>Individuals using the Internet (% of population)</td>\n",
       "      <td>IT.NET.USER.ZS</td>\n",
       "      <td>Andorra</td>\n",
       "      <td>AND</td>\n",
       "      <td>0</td>\n",
       "      <td>10.5</td>\n",
       "      <td>87.9</td>\n",
       "      <td>89.7</td>\n",
       "      <td>91.6</td>\n",
       "      <td>..</td>\n",
       "      <td>90.7</td>\n",
       "      <td>93.2</td>\n",
       "      <td>93.9</td>\n",
       "      <td>94.5</td>\n",
       "      <td>95.4</td>\n",
       "      <td>..</td>\n",
       "    </tr>\n",
       "  </tbody>\n",
       "</table>\n",
       "</div>"
      ],
      "text/plain": [
       "                                        Series Name     Series Code  \\\n",
       "0  Individuals using the Internet (% of population)  IT.NET.USER.ZS   \n",
       "1  Individuals using the Internet (% of population)  IT.NET.USER.ZS   \n",
       "2  Individuals using the Internet (% of population)  IT.NET.USER.ZS   \n",
       "3  Individuals using the Internet (% of population)  IT.NET.USER.ZS   \n",
       "4  Individuals using the Internet (% of population)  IT.NET.USER.ZS   \n",
       "\n",
       "     Country Name Country Code 1990 [YR1990] 2000 [YR2000] 2015 [YR2015]  \\\n",
       "0     Afghanistan          AFG             0            ..          8.26   \n",
       "1         Albania          ALB             0         0.114          56.9   \n",
       "2         Algeria          DZA             0         0.492          38.2   \n",
       "3  American Samoa          ASM             0            ..            ..   \n",
       "4         Andorra          AND             0          10.5          87.9   \n",
       "\n",
       "  2016 [YR2016] 2017 [YR2017] 2018 [YR2018] 2019 [YR2019] 2020 [YR2020]  \\\n",
       "0            11          13.5          16.8          17.6            17   \n",
       "1          59.6          62.4          65.4          68.6          72.2   \n",
       "2          42.9          47.7            49          55.8          63.5   \n",
       "3            ..            ..            ..            ..            ..   \n",
       "4          89.7          91.6            ..          90.7          93.2   \n",
       "\n",
       "  2021 [YR2021] 2022 [YR2022]  2023 2024 [YR2024]  \n",
       "0          16.5          17.2  17.7            ..  \n",
       "1          79.3          82.6  83.1            ..  \n",
       "2          72.2          74.8  76.9            ..  \n",
       "3            ..            ..    ..            ..  \n",
       "4          93.9          94.5  95.4            ..  "
      ]
     },
     "execution_count": 3,
     "metadata": {},
     "output_type": "execute_result"
    }
   ],
   "source": [
    "import pandas as pd\n",
    "\n",
    "df = pd.read_csv('responses/other/country_jsd.csv')\n",
    "int_pen = pd.read_csv('responses/other/internet_penetration.csv')\n",
    "\n",
    "int_pen.head()"
   ]
  },
  {
   "cell_type": "code",
   "execution_count": 5,
   "metadata": {},
   "outputs": [
    {
     "name": "stdout",
     "output_type": "stream",
     "text": [
      "No matches found for:\n",
      "- Bosnia Herzegovina\n",
      "- Britain\n",
      "- Czech Rep.\n",
      "- Egypt\n",
      "- Great Britain\n",
      "- Hong Kong SAR\n",
      "- Iran\n",
      "- Ivory Coast\n",
      "- Kyrgyzstan\n",
      "- Macau SAR\n",
      "- Northern Ireland\n",
      "- Palest. ter.\n",
      "- Russia\n",
      "- S. Korea\n",
      "- Slovakia\n",
      "- South Korea\n",
      "- Taiwan\n",
      "- Turkey\n",
      "- Venezuela\n",
      "- Vietnam\n"
     ]
    }
   ],
   "source": [
    "merged_df = df.merge(\n",
    "    int_pen[['Country Name', '2023']],  \n",
    "    on='Country Name',                           \n",
    "    how='left',                                 \n",
    "    indicator=True                                \n",
    ")\n",
    "\n",
    "unmatched_df_countries = merged_df[merged_df['_merge'] == 'left_only']['Country Name']\n",
    "\n",
    "if not unmatched_df_countries.empty:\n",
    "    print(\"No matches found for:\")\n",
    "    for country in unmatched_df_countries:\n",
    "        print(f\"- {country}\")\n",
    "else:\n",
    "    print(\"All good.\")\n",
    "\n",
    "df['int_pen_2023'] = merged_df['2023']\n"
   ]
  },
  {
   "cell_type": "code",
   "execution_count": 6,
   "metadata": {},
   "outputs": [
    {
     "data": {
      "text/html": [
       "<div>\n",
       "<style scoped>\n",
       "    .dataframe tbody tr th:only-of-type {\n",
       "        vertical-align: middle;\n",
       "    }\n",
       "\n",
       "    .dataframe tbody tr th {\n",
       "        vertical-align: top;\n",
       "    }\n",
       "\n",
       "    .dataframe thead th {\n",
       "        text-align: right;\n",
       "    }\n",
       "</style>\n",
       "<table border=\"1\" class=\"dataframe\">\n",
       "  <thead>\n",
       "    <tr style=\"text-align: right;\">\n",
       "      <th></th>\n",
       "      <th>Country Name</th>\n",
       "      <th>jsd</th>\n",
       "      <th>int_pen_2023</th>\n",
       "    </tr>\n",
       "  </thead>\n",
       "  <tbody>\n",
       "    <tr>\n",
       "      <th>0</th>\n",
       "      <td>Albania</td>\n",
       "      <td>0.258780</td>\n",
       "      <td>83.1</td>\n",
       "    </tr>\n",
       "    <tr>\n",
       "      <th>1</th>\n",
       "      <td>Andorra</td>\n",
       "      <td>0.337222</td>\n",
       "      <td>95.4</td>\n",
       "    </tr>\n",
       "    <tr>\n",
       "      <th>2</th>\n",
       "      <td>Angola</td>\n",
       "      <td>0.213217</td>\n",
       "      <td>44.8</td>\n",
       "    </tr>\n",
       "    <tr>\n",
       "      <th>3</th>\n",
       "      <td>Argentina</td>\n",
       "      <td>0.218250</td>\n",
       "      <td>89.2</td>\n",
       "    </tr>\n",
       "    <tr>\n",
       "      <th>4</th>\n",
       "      <td>Armenia</td>\n",
       "      <td>0.267053</td>\n",
       "      <td>80</td>\n",
       "    </tr>\n",
       "  </tbody>\n",
       "</table>\n",
       "</div>"
      ],
      "text/plain": [
       "  Country Name       jsd int_pen_2023\n",
       "0      Albania  0.258780         83.1\n",
       "1      Andorra  0.337222         95.4\n",
       "2       Angola  0.213217         44.8\n",
       "3    Argentina  0.218250         89.2\n",
       "4      Armenia  0.267053           80"
      ]
     },
     "execution_count": 6,
     "metadata": {},
     "output_type": "execute_result"
    }
   ],
   "source": [
    "df.head()"
   ]
  },
  {
   "cell_type": "code",
   "execution_count": 13,
   "metadata": {},
   "outputs": [
    {
     "name": "stdout",
     "output_type": "stream",
     "text": [
      "Dropping 23 rows with invalid int_pen_2023\n",
      "float64\n"
     ]
    }
   ],
   "source": [
    "\n",
    "df['int_pen_2023'] = pd.to_numeric(\n",
    "    df['int_pen_2023'].str.replace(',', ''),\n",
    "    errors='coerce'\n",
    ")\n",
    "\n",
    "n_bad = df['int_pen_2023'].isna().sum()\n",
    "print(f\"Dropping {n_bad} rows with invalid int_pen_2023\")\n",
    "\n",
    "df = df.dropna(subset=['int_pen_2023'])\n",
    "print(df['int_pen_2023'].dtype)"
   ]
  },
  {
   "cell_type": "code",
   "execution_count": null,
   "metadata": {},
   "outputs": [
    {
     "data": {
      "application/vnd.plotly.v1+json": {
       "config": {
        "plotlyServerURL": "https://plot.ly"
       },
       "data": [
        {
         "hovertemplate": "jsd=%{x}<br>int_pen_2023=%{y}<extra></extra>",
         "legendgroup": "",
         "marker": {
          "color": "#636efa",
          "symbol": "circle"
         },
         "mode": "markers",
         "name": "",
         "orientation": "v",
         "showlegend": false,
         "type": "scatter",
         "x": {
          "bdata": "8Jbv5dqP0D+M27taDZXVP8BF8j2ySss/lOw1KKHvyz9h9XKsZRfRP+0/Eix1oM8/9o4gIcwbzT9yPJ2Y/yPYP1ILECSyxdQ/mPI3/6dw0z+w7UWuHVzUP4LxOYGQMtE/aeYnVVvkzz8WqE/NmhTPP9lr0gQRLM0/5SPwgM0tzz96HhnJI6/KP2/tLFzgRdI/Oa9dn87P0j/7MlgJDnzPPwTQSEsT/M8/BSfeCirYzj/nCw1z10TWP2U6tnr6hdQ/LrQ4aWJZ0j9NOsDjW3HRP04QuItCMdI/2y7BZ2/Wxz9N9zm+Oo3SPyO1gW3wys8/BclGlcgw0D8mXTjk3ZPNPyc39dHKgtI/b2L3ofLC1z96Pxzi42rMPzOClNJNctE/W0Er08gmzj+MfTSIWg/QP6OS/G1fRcs/fA691ojvzj9lbmgLZP7QP43jKJ5eTc4/l2D8iCEK0j8lUyK3fMvKP5YVCCYAfc0/q+dGMDpp0T8+vOjL50rRPzwYA+CqytM/j1WHH2ya0D/JiTsSIq/SP34IqJ5yiNI/nrozeGLkzD+u5oMNajTPP/zsUrgimtI/fffCfBma0T/JmTu1l7bTP/bIwj2FANo/mGVDXExF0T/FyAVIkb3QPwyV7T1BstY/0sZHrgRA0D96Sa4kGuTMP3TPR96lsNE/U/4WuCri0T8fXWnjVYXPP1sCiHlx4NA/M435f4mPyz9T2uhlumrTP73BlwqsZMw/DA3jP3T+zj/R5sloxO/QP1tiBA9QfMw/254zrUWY0z+c0k5h5efQP6ZhpN4Ooc4/lrK4xmsI0j+wifE9L3DRPz1cyhjOZ9c/Ubsjja9Izz9OON+OfL/QP0LKle/wFdE/e6WiR5KR0D/ljLnJ8DnPP380SEiZoM0/+cVInBF80D9NEuZDQa7QP093MQ34qtM/",
          "dtype": "f8"
         },
         "xaxis": "x",
         "y": {
          "bdata": "ZmZmZmbGVECamZmZmdlXQGZmZmZmZkZAzczMzMxMVkAAAAAAAABUQGZmZmZmRlhAMzMzMzPTV0AAAAAAAEBWQAAAAAAAQEZAAAAAAADgVkBmZmZmZqZXQM3MzMzMjFFAzczMzMwMVUCamZmZmRlUQAAAAAAAADFAAAAAAACAV0AAAAAAAKBXQAAAAAAAYFNAMzMzMzNTU0DNzMzMzMxUQM3MzMzMzFZAAAAAAACAVUAzMzMzM7NYQM3MzMzMLFJAzczMzMzsUEDNzMzMzExXQAAAAAAAYFdAMzMzMzOzVUCamZmZmXlUQAAAAAAAIFdAmpmZmZl5UUAAAAAAAEBVQM3MzMzMDExAZmZmZmYmTUAAAAAAAOBWQDMzMzMz81hAzczMzMxMUUDNzMzMzGxUQAAAAAAAwFVAAAAAAADAVUAAAAAAAMBVQAAAAAAAIFdAmpmZmZk5V0AAAAAAAIBBQM3MzMzM7FhAzczMzMwMV0AAAAAAAOBUQAAAAAAAIFZAAAAAAAAgVkDNzMzMzGxYQM3MzMzMLFVAzczMzMyMQUDNzMzMzExUQAAAAAAAwFRAMzMzMzNzVkAAAAAAAMBWQAAAAAAAQE1AAAAAAABAWEDNzMzMzAxYQJqZmZmZGU1AmpmZmZmZQ0DNzMzMzMxVQAAAAAAAwFhAZmZmZmZmO0AAAAAAAOBTQDMzMzMz81RAmpmZmZmZVUAzMzMzM3NVQM3MzMzMTFZAzczMzMzsUkDNzMzMzExOQJqZmZmZWVVAMzMzMzOTV0CamZmZmZlWQJqZmZmZ2VdAzczMzMzsV0AzMzMzM1NYQGZmZmZmZkxAmpmZmZkZPUAAAAAAAGBWQJqZmZmZGVJAmpmZmZmZLkCamZmZmZlUQGZmZmZmRldAmpmZmZl5VkAAAAAAAEBWQDMzMzMzM0NA",
          "dtype": "f8"
         },
         "yaxis": "y"
        },
        {
         "hovertemplate": "<b>OLS trendline</b><br>int_pen_2023 = -27.5868 * jsd + 86.6168<br>R<sup>2</sup>=0.003201<br><br>jsd=%{x}<br>int_pen_2023=%{y} <b>(trend)</b><extra></extra>",
         "legendgroup": "",
         "marker": {
          "color": "#636efa",
          "symbol": "circle"
         },
         "mode": "lines",
         "name": "",
         "showlegend": false,
         "type": "scatter",
         "x": {
          "bdata": "2y7BZ2/Wxz96HhnJI6/KPyVTIrd8y8o/o5L8bV9Fyz/ARfI9skrLPzON+X+Jj8s/lOw1KKHvyz+9wZcKrGTMP3o/HOLjasw/W2IED1B8zD96Sa4kGuTMP566M3hi5Mw/9o4gIcwbzT/Za9IEESzNP5YVCCYAfc0/Jl045N2TzT9/NEhImaDNP1tBK9PIJs4/jeMonl5Nzj+mYaTeDqHOPwUn3goq2M4/fA691ojvzj8MDeM/dP7OPxaoT82aFM8/5SPwgM0tzz+u5oMNajTPP+WMucnwOc8/Ubsjja9Izz/7MlgJDnzPPx9daeNVhc8/7T8SLHWgzz8jtYFt8MrPP2nmJ1Vb5M8/BNBISxP8zz+MfTSIWg/QPwXJRpXIMNA/0sZHrgRA0D/5xUicEXzQP/CW7+Xaj9A/e6WiR5KR0D+PVYcfbJrQP00S5kNBrtA/xcgFSJG90D9OON+OfL/QP1sCiHlx4NA/nNJOYeXn0D/R5sloxO/QP2VuaAtk/tA/QsqV7/AV0T9h9XKsZRfRP4LxOYGQMtE/mGVDXExF0T8+vOjL50rRP6vnRjA6adE/sInxPS9w0T9NOsDjW3HRPzOClNJNctE/fffCfBma0T90z0fepbDRP1P+Frgq4tE/lrK4xmsI0j+XYPyIIQrSP04QuItCMdI/b+0sXOBF0j8utDhpYlnSPyc39dHKgtI/fgionnKI0j9N9zm+Oo3SP/zsUrgimtI/yYk7EiKv0j85r12fzs/SP1Pa6GW6atM/mPI3/6dw0z/bnjOtRZjTP093MQ34qtM/yZk7tZe20z88GAPgqsrTP7DtRa4dXNQ/ZTq2evqF1D9SCxAkssXUP4zbu1oNldU/5wsNc9dE1j8Mle09QbLWPz1cyhjOZ9c/b2L3ofLC1z9yPJ2Y/yPYP/bIwj2FANo/",
          "dtype": "f8"
         },
         "xaxis": "x",
         "y": {
          "bdata": "4JS2Fa1eVECFqpLDaTdUQDk6xcHiNVRAzQ33iVEvVEDKAyMcCC9UQF9FVI9SK1RAhjIxHiUmVEBRad6z1h9UQBpO8e6AH1RALgbrnZAeVEBbc94B+RhUQC1KPhz1GFRAFOKhx/gVVEDatJtfGBVUQLiSLAS8EFRA7kwanYAPVECwp/3+0A5UQGLeGx6WB1RAXE6r5YEFVEB9UzKM/wBUQJW+MHIH/lNANzQIF8X8U0APQlZM9/tTQMk+FsTF+lNAz1frMmr5U0AsiOUAD/lTQGkN4MbC+FNAcxkFZPf3U0BuO//VMvVTQFKQ5tKy9FNAnIRYtzzzU0DyyX7A8vBTQPsBGCiU71NAg40L/0zuU0AW/tlNb+xTQOKRcxTV6FNAc1gqzTDnU0BvM/IyuOBTQLM7xluW3lNAtgWiAmfeU0D6dDnXct1TQEhDB7lP21NAhopBTKnZU0AGUH5bdNlTQB5/zi/n1VNAeH3ElhnVU0ABvYVyQNRTQPaLiQet0lNABo6bWSPQU0CNg/Uu+89TQDeLS7kNzVNANL7l6gjLU0CcMsg7bspTQPoKFcApx1NAm2l80mnGU0AjqpJsScZTQOrHaVovxlNAx9onheXBU0BECYh7d79TQCHxjGkhulNAp/xCGgK2U0DKTuPt0rVTQDkVb3ybsVNAyHhUvmKvU0BPblqUSK1TQKrLykTSqFNAhISbQDaoU0DelvBWsqdTQPxeukxOplNA6gTkCwukU0DBhYishaBTQMpCguXTj1NAO9/IWzCPU0CtcRx764pTQC0aQbLniFNAfJBcCaeHU0BplBc8fYVTQA5BRcbQdVNA4v3k601xU0DFBQ0pcGpTQKCkFNwXVFNAsuR1YyZBU0DFJmcGXDVTQHsh2aHLIVNAUolrS/kXU0DjAO35gw1TQF60vj8q2lJA",
          "dtype": "f8"
         },
         "yaxis": "y"
        }
       ],
       "layout": {
        "legend": {
         "tracegroupgap": 0
        },
        "margin": {
         "t": 60
        },
        "template": {
         "data": {
          "bar": [
           {
            "error_x": {
             "color": "#2a3f5f"
            },
            "error_y": {
             "color": "#2a3f5f"
            },
            "marker": {
             "line": {
              "color": "#E5ECF6",
              "width": 0.5
             },
             "pattern": {
              "fillmode": "overlay",
              "size": 10,
              "solidity": 0.2
             }
            },
            "type": "bar"
           }
          ],
          "barpolar": [
           {
            "marker": {
             "line": {
              "color": "#E5ECF6",
              "width": 0.5
             },
             "pattern": {
              "fillmode": "overlay",
              "size": 10,
              "solidity": 0.2
             }
            },
            "type": "barpolar"
           }
          ],
          "carpet": [
           {
            "aaxis": {
             "endlinecolor": "#2a3f5f",
             "gridcolor": "white",
             "linecolor": "white",
             "minorgridcolor": "white",
             "startlinecolor": "#2a3f5f"
            },
            "baxis": {
             "endlinecolor": "#2a3f5f",
             "gridcolor": "white",
             "linecolor": "white",
             "minorgridcolor": "white",
             "startlinecolor": "#2a3f5f"
            },
            "type": "carpet"
           }
          ],
          "choropleth": [
           {
            "colorbar": {
             "outlinewidth": 0,
             "ticks": ""
            },
            "type": "choropleth"
           }
          ],
          "contour": [
           {
            "colorbar": {
             "outlinewidth": 0,
             "ticks": ""
            },
            "colorscale": [
             [
              0,
              "#0d0887"
             ],
             [
              0.1111111111111111,
              "#46039f"
             ],
             [
              0.2222222222222222,
              "#7201a8"
             ],
             [
              0.3333333333333333,
              "#9c179e"
             ],
             [
              0.4444444444444444,
              "#bd3786"
             ],
             [
              0.5555555555555556,
              "#d8576b"
             ],
             [
              0.6666666666666666,
              "#ed7953"
             ],
             [
              0.7777777777777778,
              "#fb9f3a"
             ],
             [
              0.8888888888888888,
              "#fdca26"
             ],
             [
              1,
              "#f0f921"
             ]
            ],
            "type": "contour"
           }
          ],
          "contourcarpet": [
           {
            "colorbar": {
             "outlinewidth": 0,
             "ticks": ""
            },
            "type": "contourcarpet"
           }
          ],
          "heatmap": [
           {
            "colorbar": {
             "outlinewidth": 0,
             "ticks": ""
            },
            "colorscale": [
             [
              0,
              "#0d0887"
             ],
             [
              0.1111111111111111,
              "#46039f"
             ],
             [
              0.2222222222222222,
              "#7201a8"
             ],
             [
              0.3333333333333333,
              "#9c179e"
             ],
             [
              0.4444444444444444,
              "#bd3786"
             ],
             [
              0.5555555555555556,
              "#d8576b"
             ],
             [
              0.6666666666666666,
              "#ed7953"
             ],
             [
              0.7777777777777778,
              "#fb9f3a"
             ],
             [
              0.8888888888888888,
              "#fdca26"
             ],
             [
              1,
              "#f0f921"
             ]
            ],
            "type": "heatmap"
           }
          ],
          "histogram": [
           {
            "marker": {
             "pattern": {
              "fillmode": "overlay",
              "size": 10,
              "solidity": 0.2
             }
            },
            "type": "histogram"
           }
          ],
          "histogram2d": [
           {
            "colorbar": {
             "outlinewidth": 0,
             "ticks": ""
            },
            "colorscale": [
             [
              0,
              "#0d0887"
             ],
             [
              0.1111111111111111,
              "#46039f"
             ],
             [
              0.2222222222222222,
              "#7201a8"
             ],
             [
              0.3333333333333333,
              "#9c179e"
             ],
             [
              0.4444444444444444,
              "#bd3786"
             ],
             [
              0.5555555555555556,
              "#d8576b"
             ],
             [
              0.6666666666666666,
              "#ed7953"
             ],
             [
              0.7777777777777778,
              "#fb9f3a"
             ],
             [
              0.8888888888888888,
              "#fdca26"
             ],
             [
              1,
              "#f0f921"
             ]
            ],
            "type": "histogram2d"
           }
          ],
          "histogram2dcontour": [
           {
            "colorbar": {
             "outlinewidth": 0,
             "ticks": ""
            },
            "colorscale": [
             [
              0,
              "#0d0887"
             ],
             [
              0.1111111111111111,
              "#46039f"
             ],
             [
              0.2222222222222222,
              "#7201a8"
             ],
             [
              0.3333333333333333,
              "#9c179e"
             ],
             [
              0.4444444444444444,
              "#bd3786"
             ],
             [
              0.5555555555555556,
              "#d8576b"
             ],
             [
              0.6666666666666666,
              "#ed7953"
             ],
             [
              0.7777777777777778,
              "#fb9f3a"
             ],
             [
              0.8888888888888888,
              "#fdca26"
             ],
             [
              1,
              "#f0f921"
             ]
            ],
            "type": "histogram2dcontour"
           }
          ],
          "mesh3d": [
           {
            "colorbar": {
             "outlinewidth": 0,
             "ticks": ""
            },
            "type": "mesh3d"
           }
          ],
          "parcoords": [
           {
            "line": {
             "colorbar": {
              "outlinewidth": 0,
              "ticks": ""
             }
            },
            "type": "parcoords"
           }
          ],
          "pie": [
           {
            "automargin": true,
            "type": "pie"
           }
          ],
          "scatter": [
           {
            "fillpattern": {
             "fillmode": "overlay",
             "size": 10,
             "solidity": 0.2
            },
            "type": "scatter"
           }
          ],
          "scatter3d": [
           {
            "line": {
             "colorbar": {
              "outlinewidth": 0,
              "ticks": ""
             }
            },
            "marker": {
             "colorbar": {
              "outlinewidth": 0,
              "ticks": ""
             }
            },
            "type": "scatter3d"
           }
          ],
          "scattercarpet": [
           {
            "marker": {
             "colorbar": {
              "outlinewidth": 0,
              "ticks": ""
             }
            },
            "type": "scattercarpet"
           }
          ],
          "scattergeo": [
           {
            "marker": {
             "colorbar": {
              "outlinewidth": 0,
              "ticks": ""
             }
            },
            "type": "scattergeo"
           }
          ],
          "scattergl": [
           {
            "marker": {
             "colorbar": {
              "outlinewidth": 0,
              "ticks": ""
             }
            },
            "type": "scattergl"
           }
          ],
          "scattermap": [
           {
            "marker": {
             "colorbar": {
              "outlinewidth": 0,
              "ticks": ""
             }
            },
            "type": "scattermap"
           }
          ],
          "scattermapbox": [
           {
            "marker": {
             "colorbar": {
              "outlinewidth": 0,
              "ticks": ""
             }
            },
            "type": "scattermapbox"
           }
          ],
          "scatterpolar": [
           {
            "marker": {
             "colorbar": {
              "outlinewidth": 0,
              "ticks": ""
             }
            },
            "type": "scatterpolar"
           }
          ],
          "scatterpolargl": [
           {
            "marker": {
             "colorbar": {
              "outlinewidth": 0,
              "ticks": ""
             }
            },
            "type": "scatterpolargl"
           }
          ],
          "scatterternary": [
           {
            "marker": {
             "colorbar": {
              "outlinewidth": 0,
              "ticks": ""
             }
            },
            "type": "scatterternary"
           }
          ],
          "surface": [
           {
            "colorbar": {
             "outlinewidth": 0,
             "ticks": ""
            },
            "colorscale": [
             [
              0,
              "#0d0887"
             ],
             [
              0.1111111111111111,
              "#46039f"
             ],
             [
              0.2222222222222222,
              "#7201a8"
             ],
             [
              0.3333333333333333,
              "#9c179e"
             ],
             [
              0.4444444444444444,
              "#bd3786"
             ],
             [
              0.5555555555555556,
              "#d8576b"
             ],
             [
              0.6666666666666666,
              "#ed7953"
             ],
             [
              0.7777777777777778,
              "#fb9f3a"
             ],
             [
              0.8888888888888888,
              "#fdca26"
             ],
             [
              1,
              "#f0f921"
             ]
            ],
            "type": "surface"
           }
          ],
          "table": [
           {
            "cells": {
             "fill": {
              "color": "#EBF0F8"
             },
             "line": {
              "color": "white"
             }
            },
            "header": {
             "fill": {
              "color": "#C8D4E3"
             },
             "line": {
              "color": "white"
             }
            },
            "type": "table"
           }
          ]
         },
         "layout": {
          "annotationdefaults": {
           "arrowcolor": "#2a3f5f",
           "arrowhead": 0,
           "arrowwidth": 1
          },
          "autotypenumbers": "strict",
          "coloraxis": {
           "colorbar": {
            "outlinewidth": 0,
            "ticks": ""
           }
          },
          "colorscale": {
           "diverging": [
            [
             0,
             "#8e0152"
            ],
            [
             0.1,
             "#c51b7d"
            ],
            [
             0.2,
             "#de77ae"
            ],
            [
             0.3,
             "#f1b6da"
            ],
            [
             0.4,
             "#fde0ef"
            ],
            [
             0.5,
             "#f7f7f7"
            ],
            [
             0.6,
             "#e6f5d0"
            ],
            [
             0.7,
             "#b8e186"
            ],
            [
             0.8,
             "#7fbc41"
            ],
            [
             0.9,
             "#4d9221"
            ],
            [
             1,
             "#276419"
            ]
           ],
           "sequential": [
            [
             0,
             "#0d0887"
            ],
            [
             0.1111111111111111,
             "#46039f"
            ],
            [
             0.2222222222222222,
             "#7201a8"
            ],
            [
             0.3333333333333333,
             "#9c179e"
            ],
            [
             0.4444444444444444,
             "#bd3786"
            ],
            [
             0.5555555555555556,
             "#d8576b"
            ],
            [
             0.6666666666666666,
             "#ed7953"
            ],
            [
             0.7777777777777778,
             "#fb9f3a"
            ],
            [
             0.8888888888888888,
             "#fdca26"
            ],
            [
             1,
             "#f0f921"
            ]
           ],
           "sequentialminus": [
            [
             0,
             "#0d0887"
            ],
            [
             0.1111111111111111,
             "#46039f"
            ],
            [
             0.2222222222222222,
             "#7201a8"
            ],
            [
             0.3333333333333333,
             "#9c179e"
            ],
            [
             0.4444444444444444,
             "#bd3786"
            ],
            [
             0.5555555555555556,
             "#d8576b"
            ],
            [
             0.6666666666666666,
             "#ed7953"
            ],
            [
             0.7777777777777778,
             "#fb9f3a"
            ],
            [
             0.8888888888888888,
             "#fdca26"
            ],
            [
             1,
             "#f0f921"
            ]
           ]
          },
          "colorway": [
           "#636efa",
           "#EF553B",
           "#00cc96",
           "#ab63fa",
           "#FFA15A",
           "#19d3f3",
           "#FF6692",
           "#B6E880",
           "#FF97FF",
           "#FECB52"
          ],
          "font": {
           "color": "#2a3f5f"
          },
          "geo": {
           "bgcolor": "white",
           "lakecolor": "white",
           "landcolor": "#E5ECF6",
           "showlakes": true,
           "showland": true,
           "subunitcolor": "white"
          },
          "hoverlabel": {
           "align": "left"
          },
          "hovermode": "closest",
          "mapbox": {
           "style": "light"
          },
          "paper_bgcolor": "white",
          "plot_bgcolor": "#E5ECF6",
          "polar": {
           "angularaxis": {
            "gridcolor": "white",
            "linecolor": "white",
            "ticks": ""
           },
           "bgcolor": "#E5ECF6",
           "radialaxis": {
            "gridcolor": "white",
            "linecolor": "white",
            "ticks": ""
           }
          },
          "scene": {
           "xaxis": {
            "backgroundcolor": "#E5ECF6",
            "gridcolor": "white",
            "gridwidth": 2,
            "linecolor": "white",
            "showbackground": true,
            "ticks": "",
            "zerolinecolor": "white"
           },
           "yaxis": {
            "backgroundcolor": "#E5ECF6",
            "gridcolor": "white",
            "gridwidth": 2,
            "linecolor": "white",
            "showbackground": true,
            "ticks": "",
            "zerolinecolor": "white"
           },
           "zaxis": {
            "backgroundcolor": "#E5ECF6",
            "gridcolor": "white",
            "gridwidth": 2,
            "linecolor": "white",
            "showbackground": true,
            "ticks": "",
            "zerolinecolor": "white"
           }
          },
          "shapedefaults": {
           "line": {
            "color": "#2a3f5f"
           }
          },
          "ternary": {
           "aaxis": {
            "gridcolor": "white",
            "linecolor": "white",
            "ticks": ""
           },
           "baxis": {
            "gridcolor": "white",
            "linecolor": "white",
            "ticks": ""
           },
           "bgcolor": "#E5ECF6",
           "caxis": {
            "gridcolor": "white",
            "linecolor": "white",
            "ticks": ""
           }
          },
          "title": {
           "x": 0.05
          },
          "xaxis": {
           "automargin": true,
           "gridcolor": "white",
           "linecolor": "white",
           "ticks": "",
           "title": {
            "standoff": 15
           },
           "zerolinecolor": "white",
           "zerolinewidth": 2
          },
          "yaxis": {
           "automargin": true,
           "gridcolor": "white",
           "linecolor": "white",
           "ticks": "",
           "title": {
            "standoff": 15
           },
           "zerolinecolor": "white",
           "zerolinewidth": 2
          }
         }
        },
        "xaxis": {
         "anchor": "y",
         "domain": [
          0,
          1
         ],
         "title": {
          "text": "jsd"
         }
        },
        "yaxis": {
         "anchor": "x",
         "domain": [
          0,
          1
         ],
         "title": {
          "text": "int_pen_2023"
         }
        }
       }
      }
     },
     "metadata": {},
     "output_type": "display_data"
    }
   ],
   "source": [
    "import plotly.express as px\n",
    "\n",
    "px.scatter(df, x='jsd', y='int_pen_2023', trendline='ols')\n",
    "\n",
    "# Fail!"
   ]
  },
  {
   "cell_type": "code",
   "execution_count": 17,
   "metadata": {},
   "outputs": [
    {
     "name": "stdout",
     "output_type": "stream",
     "text": [
      "No matches found for:\n",
      "- Morocco\n"
     ]
    }
   ],
   "source": [
    "p_freedom = pd.read_csv('responses/other/press_freedom.csv')\n",
    "\n",
    "merged_df = df.merge(\n",
    "    p_freedom[['Country Name', 'Score 2025']],  \n",
    "    on='Country Name',                           \n",
    "    how='left',                                 \n",
    "    indicator=True                                \n",
    ")\n",
    "\n",
    "\n",
    "unmatched_df_countries = merged_df[merged_df['_merge'] == 'left_only']['Country Name']\n",
    "\n",
    "if not unmatched_df_countries.empty:\n",
    "    print(\"No matches found for:\")\n",
    "    for country in unmatched_df_countries:\n",
    "        print(f\"- {country}\")\n",
    "else:\n",
    "    print(\"All good.\")\n",
    "\n",
    "df['p_free'] = merged_df['Score 2025']"
   ]
  },
  {
   "cell_type": "code",
   "execution_count": 18,
   "metadata": {},
   "outputs": [
    {
     "data": {
      "text/html": [
       "<div>\n",
       "<style scoped>\n",
       "    .dataframe tbody tr th:only-of-type {\n",
       "        vertical-align: middle;\n",
       "    }\n",
       "\n",
       "    .dataframe tbody tr th {\n",
       "        vertical-align: top;\n",
       "    }\n",
       "\n",
       "    .dataframe thead th {\n",
       "        text-align: right;\n",
       "    }\n",
       "</style>\n",
       "<table border=\"1\" class=\"dataframe\">\n",
       "  <thead>\n",
       "    <tr style=\"text-align: right;\">\n",
       "      <th></th>\n",
       "      <th>Country Name</th>\n",
       "      <th>jsd</th>\n",
       "      <th>int_pen_2023</th>\n",
       "      <th>p_free</th>\n",
       "    </tr>\n",
       "  </thead>\n",
       "  <tbody>\n",
       "    <tr>\n",
       "      <th>0</th>\n",
       "      <td>Albania</td>\n",
       "      <td>0.258780</td>\n",
       "      <td>83.1</td>\n",
       "      <td>58.18</td>\n",
       "    </tr>\n",
       "    <tr>\n",
       "      <th>1</th>\n",
       "      <td>Andorra</td>\n",
       "      <td>0.337222</td>\n",
       "      <td>95.4</td>\n",
       "      <td>63.30</td>\n",
       "    </tr>\n",
       "    <tr>\n",
       "      <th>2</th>\n",
       "      <td>Angola</td>\n",
       "      <td>0.213217</td>\n",
       "      <td>44.8</td>\n",
       "      <td>52.67</td>\n",
       "    </tr>\n",
       "    <tr>\n",
       "      <th>3</th>\n",
       "      <td>Argentina</td>\n",
       "      <td>0.218250</td>\n",
       "      <td>89.2</td>\n",
       "      <td>56.14</td>\n",
       "    </tr>\n",
       "    <tr>\n",
       "      <th>4</th>\n",
       "      <td>Armenia</td>\n",
       "      <td>0.267053</td>\n",
       "      <td>80.0</td>\n",
       "      <td>73.96</td>\n",
       "    </tr>\n",
       "  </tbody>\n",
       "</table>\n",
       "</div>"
      ],
      "text/plain": [
       "  Country Name       jsd  int_pen_2023  p_free\n",
       "0      Albania  0.258780          83.1   58.18\n",
       "1      Andorra  0.337222          95.4   63.30\n",
       "2       Angola  0.213217          44.8   52.67\n",
       "3    Argentina  0.218250          89.2   56.14\n",
       "4      Armenia  0.267053          80.0   73.96"
      ]
     },
     "execution_count": 18,
     "metadata": {},
     "output_type": "execute_result"
    }
   ],
   "source": [
    "df.head()"
   ]
  },
  {
   "cell_type": "code",
   "execution_count": 19,
   "metadata": {},
   "outputs": [
    {
     "data": {
      "application/vnd.plotly.v1+json": {
       "config": {
        "plotlyServerURL": "https://plot.ly"
       },
       "data": [
        {
         "hovertemplate": "jsd=%{x}<br>p_free=%{y}<extra></extra>",
         "legendgroup": "",
         "marker": {
          "color": "#636efa",
          "symbol": "circle"
         },
         "mode": "markers",
         "name": "",
         "orientation": "v",
         "showlegend": false,
         "type": "scatter",
         "x": {
          "bdata": "8Jbv5dqP0D+M27taDZXVP8BF8j2ySss/lOw1KKHvyz9h9XKsZRfRP+0/Eix1oM8/9o4gIcwbzT9yPJ2Y/yPYP1ILECSyxdQ/mPI3/6dw0z+w7UWuHVzUP4LxOYGQMtE/aeYnVVvkzz8WqE/NmhTPP9lr0gQRLM0/5SPwgM0tzz96HhnJI6/KP2/tLFzgRdI/Oa9dn87P0j/7MlgJDnzPPwTQSEsT/M8/BSfeCirYzj/nCw1z10TWP2U6tnr6hdQ/LrQ4aWJZ0j9NOsDjW3HRP04QuItCMdI/2y7BZ2/Wxz9N9zm+Oo3SPyO1gW3wys8/BclGlcgw0D8mXTjk3ZPNPyc39dHKgtI/b2L3ofLC1z96Pxzi42rMPzOClNJNctE/W0Er08gmzj+MfTSIWg/QP6OS/G1fRcs/fA691ojvzj9lbmgLZP7QP43jKJ5eTc4/l2D8iCEK0j8lUyK3fMvKP5YVCCYAfc0/q+dGMDpp0T8+vOjL50rRPzwYA+CqytM/j1WHH2ya0D/JiTsSIq/SP34IqJ5yiNI/nrozeGLkzD+u5oMNajTPP/zsUrgimtI/fffCfBma0T/JmTu1l7bTP/bIwj2FANo/mGVDXExF0T/FyAVIkb3QPwyV7T1BstY/0sZHrgRA0D96Sa4kGuTMP3TPR96lsNE/U/4WuCri0T8fXWnjVYXPP1sCiHlx4NA/M435f4mPyz9T2uhlumrTP73BlwqsZMw/DA3jP3T+zj/R5sloxO/QP1tiBA9QfMw/254zrUWY0z+c0k5h5efQP6ZhpN4Ooc4/lrK4xmsI0j+wifE9L3DRPz1cyhjOZ9c/Ubsjja9Izz9OON+OfL/QP0LKle/wFdE/e6WiR5KR0D/ljLnJ8DnPP380SEiZoM0/+cVInBF80D9NEuZDQa7QP093MQ34qtM/",
          "dtype": "f8"
         },
         "xaxis": "x",
         "y": {
          "bdata": "16NwPQoXTUBmZmZmZqZPQPYoXI/CVUpAUrgehesRTEA9CtejcH1SQJqZmZmZyVJASOF6FK6HU0C4HoXrUXg5QHsUrkfh2kBAexSuR+G6OUBI4XoUrgdUQOxRuB6FC0tApHA9CtdjTkAAAAAAALBTQAAAAAAAIE9AmpmZmZmZLUBmZmZmZuZIQM3MzMzMDFBAhetRuB6FTUA9CtejcP1UQOxRuB6Fu1VAuB6F61GYREA9CtejcF1WQOxRuB6Fy1VApHA9CtdDSUBmZmZmZvZUQI/C9Shcr0tAKVyPwvUoREDhehSuR0FDQClcj8L1aE9A16NwPQpXVEBxPQrXo7A+QNejcD0Kh0lAcT0K16MAUUAAAAAAAKBBQOxRuB6Fq0NASOF6FK4HRkCPwvUoXE9FQPYoXI/CNURA4XoUrkeRVEB7FK5H4TpKQD0K16NwHUhAZmZmZmbGRkApXI/C9UhKQIXrUbgeNVJAUrgehetROUApXI/C9ShWQEjhehSuV1RAFK5H4XrUNkBcj8L1KJxRQKRwPQrXE1dAH4XrUbiePUBxPQrXo3BFQClcj8L1yEhAw/UoXI+yUkBxPQrXoxBVQHsUrkfhmlBAPQrXo3DtUkDXo3A9CrdNQGZmZmZmxkpApHA9CtfjRkCkcD0K14NSQLgehetRCFZAH4XrUbj+VEDXo3A9CtdKQFyPwvUoXExAPQrXo3C9RUCuR+F6FM5CQLpJDAIrX1BAH4XrUbieQUAAAAAAAAD4fwAAAAAAAPh/AAAAAAAA+H8AAAAAAAD4fwAAAAAAAPh/AAAAAAAA+H8AAAAAAAD4fwAAAAAAAPh/AAAAAAAA+H8AAAAAAAD4fwAAAAAAAPh/AAAAAAAA+H8AAAAAAAD4fwAAAAAAAPh/AAAAAAAA+H8AAAAAAAD4fwAAAAAAAPh/",
          "dtype": "f8"
         },
         "yaxis": "y"
        },
        {
         "hovertemplate": "<b>OLS trendline</b><br>p_free = 72.6511 * jsd + 38.7493<br>R<sup>2</sup>=0.025197<br><br>jsd=%{x}<br>p_free=%{y} <b>(trend)</b><extra></extra>",
         "legendgroup": "",
         "marker": {
          "color": "#636efa",
          "symbol": "circle"
         },
         "mode": "lines",
         "name": "",
         "showlegend": false,
         "type": "scatter",
         "x": {
          "bdata": "2y7BZ2/Wxz96HhnJI6/KPyVTIrd8y8o/o5L8bV9Fyz/ARfI9skrLPzON+X+Jj8s/lOw1KKHvyz+9wZcKrGTMP3o/HOLjasw/ekmuJBrkzD+eujN4YuTMP/aOICHMG80/2WvSBBEszT+WFQgmAH3NPyZdOOTdk80/W0Er08gmzj+N4yieXk3OPwUn3goq2M4/fA691ojvzj8MDeM/dP7OPxaoT82aFM8/5SPwgM0tzz+u5oMNajTPP/syWAkOfM8/H11p41WFzz/tPxIsdaDPPyO1gW3wys8/aeYnVVvkzz8E0EhLE/zPP4x9NIhaD9A/BclGlcgw0D/SxkeuBEDQP/CW7+Xaj9A/j1WHH2ya0D/FyAVIkb3QP1sCiHlx4NA/ZW5oC2T+0D9h9XKsZRfRP4LxOYGQMtE/mGVDXExF0T8+vOjL50rRP6vnRjA6adE/TTrA41tx0T8zgpTSTXLRP333wnwZmtE/dM9H3qWw0T9T/ha4KuLRP5dg/IghCtI/ThC4i0Ix0j9v7Sxc4EXSPy60OGliWdI/Jzf10cqC0j9+CKiecojSP033Ob46jdI//OxSuCKa0j/JiTsSIq/SPzmvXZ/Oz9I/U9roZbpq0z+Y8jf/p3DTP8mZO7WXttM/PBgD4KrK0z+w7UWuHVzUP2U6tnr6hdQ/UgsQJLLF1D+M27taDZXVP+cLDXPXRNY/DJXtPUGy1j9vYveh8sLXP3I8nZj/I9g/9sjCPYUA2j8=",
          "dtype": "f8"
         },
         "xaxis": "x",
         "y": {
          "bdata": "BXLLPLwjSkDpI41mifJKQBL9M96U+kpAv1eA/CsdS0CclkO+rh5LQKCapho4MktAJlPYUX1NS0CmVy6VtG5LQEl4LlZ4cEtALEp/g96SS0DwjRMK85JLQPEWUdWsoktAwPzzzEqnS0BEBba/Qr5LQBtsWADAxEtAX/qPunHuS0D6ErP6ZPlLQLIzZo7IIExAjEPnbmonTEA+VCVbpitMQNIKzJ7vMUxAORUeSRY5TEBKjJue9jpMQOAS4mFLT0xA/PkJou1RTEDu2PkWoFlMQHat1WmuZUxA6M1gB+VsTEDCt9E1oHNMQBQHa0F0fUxAns5lsG2QTEBokd1UE5lMQL6eOcljxkxAlHAnPGPMTECEclTmVeBMQAOixmsh9ExAgR2k3CAFTUCH0+1WUhNNQHq5p869Ik1AGBqn3l8tTUC8CJGajjBNQFvxmm7EQU1Azisw+mFGTUAKSY5L60ZNQPSf3ayBXU1AlIYQAE5qTUDUnmM1aYZNQLEGqhQYnU1AzGqSmU2zTUDy4C83Ab9NQISkY8UTyk1Axm1Ua5ThTUBYOq8ryuRNQEONZveA501Ag/pCQtTuTUCe0jI8v/pNQIyuQNdKDU5A4iPNMDllTkDk9CKPlmhOQHwVVnZIkE5A7uw4Yq2bTkDMYYFaO+5OQIrwFBD+BU9APpodVygqT0D0xLCm2Z9PQNJYSx3QAVBAOAVwGt0gUEBWHL+IQG5QQHwYtF3LiVBAa5LaMgcRUUA=",
          "dtype": "f8"
         },
         "yaxis": "y"
        }
       ],
       "layout": {
        "legend": {
         "tracegroupgap": 0
        },
        "margin": {
         "t": 60
        },
        "template": {
         "data": {
          "bar": [
           {
            "error_x": {
             "color": "#2a3f5f"
            },
            "error_y": {
             "color": "#2a3f5f"
            },
            "marker": {
             "line": {
              "color": "#E5ECF6",
              "width": 0.5
             },
             "pattern": {
              "fillmode": "overlay",
              "size": 10,
              "solidity": 0.2
             }
            },
            "type": "bar"
           }
          ],
          "barpolar": [
           {
            "marker": {
             "line": {
              "color": "#E5ECF6",
              "width": 0.5
             },
             "pattern": {
              "fillmode": "overlay",
              "size": 10,
              "solidity": 0.2
             }
            },
            "type": "barpolar"
           }
          ],
          "carpet": [
           {
            "aaxis": {
             "endlinecolor": "#2a3f5f",
             "gridcolor": "white",
             "linecolor": "white",
             "minorgridcolor": "white",
             "startlinecolor": "#2a3f5f"
            },
            "baxis": {
             "endlinecolor": "#2a3f5f",
             "gridcolor": "white",
             "linecolor": "white",
             "minorgridcolor": "white",
             "startlinecolor": "#2a3f5f"
            },
            "type": "carpet"
           }
          ],
          "choropleth": [
           {
            "colorbar": {
             "outlinewidth": 0,
             "ticks": ""
            },
            "type": "choropleth"
           }
          ],
          "contour": [
           {
            "colorbar": {
             "outlinewidth": 0,
             "ticks": ""
            },
            "colorscale": [
             [
              0,
              "#0d0887"
             ],
             [
              0.1111111111111111,
              "#46039f"
             ],
             [
              0.2222222222222222,
              "#7201a8"
             ],
             [
              0.3333333333333333,
              "#9c179e"
             ],
             [
              0.4444444444444444,
              "#bd3786"
             ],
             [
              0.5555555555555556,
              "#d8576b"
             ],
             [
              0.6666666666666666,
              "#ed7953"
             ],
             [
              0.7777777777777778,
              "#fb9f3a"
             ],
             [
              0.8888888888888888,
              "#fdca26"
             ],
             [
              1,
              "#f0f921"
             ]
            ],
            "type": "contour"
           }
          ],
          "contourcarpet": [
           {
            "colorbar": {
             "outlinewidth": 0,
             "ticks": ""
            },
            "type": "contourcarpet"
           }
          ],
          "heatmap": [
           {
            "colorbar": {
             "outlinewidth": 0,
             "ticks": ""
            },
            "colorscale": [
             [
              0,
              "#0d0887"
             ],
             [
              0.1111111111111111,
              "#46039f"
             ],
             [
              0.2222222222222222,
              "#7201a8"
             ],
             [
              0.3333333333333333,
              "#9c179e"
             ],
             [
              0.4444444444444444,
              "#bd3786"
             ],
             [
              0.5555555555555556,
              "#d8576b"
             ],
             [
              0.6666666666666666,
              "#ed7953"
             ],
             [
              0.7777777777777778,
              "#fb9f3a"
             ],
             [
              0.8888888888888888,
              "#fdca26"
             ],
             [
              1,
              "#f0f921"
             ]
            ],
            "type": "heatmap"
           }
          ],
          "histogram": [
           {
            "marker": {
             "pattern": {
              "fillmode": "overlay",
              "size": 10,
              "solidity": 0.2
             }
            },
            "type": "histogram"
           }
          ],
          "histogram2d": [
           {
            "colorbar": {
             "outlinewidth": 0,
             "ticks": ""
            },
            "colorscale": [
             [
              0,
              "#0d0887"
             ],
             [
              0.1111111111111111,
              "#46039f"
             ],
             [
              0.2222222222222222,
              "#7201a8"
             ],
             [
              0.3333333333333333,
              "#9c179e"
             ],
             [
              0.4444444444444444,
              "#bd3786"
             ],
             [
              0.5555555555555556,
              "#d8576b"
             ],
             [
              0.6666666666666666,
              "#ed7953"
             ],
             [
              0.7777777777777778,
              "#fb9f3a"
             ],
             [
              0.8888888888888888,
              "#fdca26"
             ],
             [
              1,
              "#f0f921"
             ]
            ],
            "type": "histogram2d"
           }
          ],
          "histogram2dcontour": [
           {
            "colorbar": {
             "outlinewidth": 0,
             "ticks": ""
            },
            "colorscale": [
             [
              0,
              "#0d0887"
             ],
             [
              0.1111111111111111,
              "#46039f"
             ],
             [
              0.2222222222222222,
              "#7201a8"
             ],
             [
              0.3333333333333333,
              "#9c179e"
             ],
             [
              0.4444444444444444,
              "#bd3786"
             ],
             [
              0.5555555555555556,
              "#d8576b"
             ],
             [
              0.6666666666666666,
              "#ed7953"
             ],
             [
              0.7777777777777778,
              "#fb9f3a"
             ],
             [
              0.8888888888888888,
              "#fdca26"
             ],
             [
              1,
              "#f0f921"
             ]
            ],
            "type": "histogram2dcontour"
           }
          ],
          "mesh3d": [
           {
            "colorbar": {
             "outlinewidth": 0,
             "ticks": ""
            },
            "type": "mesh3d"
           }
          ],
          "parcoords": [
           {
            "line": {
             "colorbar": {
              "outlinewidth": 0,
              "ticks": ""
             }
            },
            "type": "parcoords"
           }
          ],
          "pie": [
           {
            "automargin": true,
            "type": "pie"
           }
          ],
          "scatter": [
           {
            "fillpattern": {
             "fillmode": "overlay",
             "size": 10,
             "solidity": 0.2
            },
            "type": "scatter"
           }
          ],
          "scatter3d": [
           {
            "line": {
             "colorbar": {
              "outlinewidth": 0,
              "ticks": ""
             }
            },
            "marker": {
             "colorbar": {
              "outlinewidth": 0,
              "ticks": ""
             }
            },
            "type": "scatter3d"
           }
          ],
          "scattercarpet": [
           {
            "marker": {
             "colorbar": {
              "outlinewidth": 0,
              "ticks": ""
             }
            },
            "type": "scattercarpet"
           }
          ],
          "scattergeo": [
           {
            "marker": {
             "colorbar": {
              "outlinewidth": 0,
              "ticks": ""
             }
            },
            "type": "scattergeo"
           }
          ],
          "scattergl": [
           {
            "marker": {
             "colorbar": {
              "outlinewidth": 0,
              "ticks": ""
             }
            },
            "type": "scattergl"
           }
          ],
          "scattermap": [
           {
            "marker": {
             "colorbar": {
              "outlinewidth": 0,
              "ticks": ""
             }
            },
            "type": "scattermap"
           }
          ],
          "scattermapbox": [
           {
            "marker": {
             "colorbar": {
              "outlinewidth": 0,
              "ticks": ""
             }
            },
            "type": "scattermapbox"
           }
          ],
          "scatterpolar": [
           {
            "marker": {
             "colorbar": {
              "outlinewidth": 0,
              "ticks": ""
             }
            },
            "type": "scatterpolar"
           }
          ],
          "scatterpolargl": [
           {
            "marker": {
             "colorbar": {
              "outlinewidth": 0,
              "ticks": ""
             }
            },
            "type": "scatterpolargl"
           }
          ],
          "scatterternary": [
           {
            "marker": {
             "colorbar": {
              "outlinewidth": 0,
              "ticks": ""
             }
            },
            "type": "scatterternary"
           }
          ],
          "surface": [
           {
            "colorbar": {
             "outlinewidth": 0,
             "ticks": ""
            },
            "colorscale": [
             [
              0,
              "#0d0887"
             ],
             [
              0.1111111111111111,
              "#46039f"
             ],
             [
              0.2222222222222222,
              "#7201a8"
             ],
             [
              0.3333333333333333,
              "#9c179e"
             ],
             [
              0.4444444444444444,
              "#bd3786"
             ],
             [
              0.5555555555555556,
              "#d8576b"
             ],
             [
              0.6666666666666666,
              "#ed7953"
             ],
             [
              0.7777777777777778,
              "#fb9f3a"
             ],
             [
              0.8888888888888888,
              "#fdca26"
             ],
             [
              1,
              "#f0f921"
             ]
            ],
            "type": "surface"
           }
          ],
          "table": [
           {
            "cells": {
             "fill": {
              "color": "#EBF0F8"
             },
             "line": {
              "color": "white"
             }
            },
            "header": {
             "fill": {
              "color": "#C8D4E3"
             },
             "line": {
              "color": "white"
             }
            },
            "type": "table"
           }
          ]
         },
         "layout": {
          "annotationdefaults": {
           "arrowcolor": "#2a3f5f",
           "arrowhead": 0,
           "arrowwidth": 1
          },
          "autotypenumbers": "strict",
          "coloraxis": {
           "colorbar": {
            "outlinewidth": 0,
            "ticks": ""
           }
          },
          "colorscale": {
           "diverging": [
            [
             0,
             "#8e0152"
            ],
            [
             0.1,
             "#c51b7d"
            ],
            [
             0.2,
             "#de77ae"
            ],
            [
             0.3,
             "#f1b6da"
            ],
            [
             0.4,
             "#fde0ef"
            ],
            [
             0.5,
             "#f7f7f7"
            ],
            [
             0.6,
             "#e6f5d0"
            ],
            [
             0.7,
             "#b8e186"
            ],
            [
             0.8,
             "#7fbc41"
            ],
            [
             0.9,
             "#4d9221"
            ],
            [
             1,
             "#276419"
            ]
           ],
           "sequential": [
            [
             0,
             "#0d0887"
            ],
            [
             0.1111111111111111,
             "#46039f"
            ],
            [
             0.2222222222222222,
             "#7201a8"
            ],
            [
             0.3333333333333333,
             "#9c179e"
            ],
            [
             0.4444444444444444,
             "#bd3786"
            ],
            [
             0.5555555555555556,
             "#d8576b"
            ],
            [
             0.6666666666666666,
             "#ed7953"
            ],
            [
             0.7777777777777778,
             "#fb9f3a"
            ],
            [
             0.8888888888888888,
             "#fdca26"
            ],
            [
             1,
             "#f0f921"
            ]
           ],
           "sequentialminus": [
            [
             0,
             "#0d0887"
            ],
            [
             0.1111111111111111,
             "#46039f"
            ],
            [
             0.2222222222222222,
             "#7201a8"
            ],
            [
             0.3333333333333333,
             "#9c179e"
            ],
            [
             0.4444444444444444,
             "#bd3786"
            ],
            [
             0.5555555555555556,
             "#d8576b"
            ],
            [
             0.6666666666666666,
             "#ed7953"
            ],
            [
             0.7777777777777778,
             "#fb9f3a"
            ],
            [
             0.8888888888888888,
             "#fdca26"
            ],
            [
             1,
             "#f0f921"
            ]
           ]
          },
          "colorway": [
           "#636efa",
           "#EF553B",
           "#00cc96",
           "#ab63fa",
           "#FFA15A",
           "#19d3f3",
           "#FF6692",
           "#B6E880",
           "#FF97FF",
           "#FECB52"
          ],
          "font": {
           "color": "#2a3f5f"
          },
          "geo": {
           "bgcolor": "white",
           "lakecolor": "white",
           "landcolor": "#E5ECF6",
           "showlakes": true,
           "showland": true,
           "subunitcolor": "white"
          },
          "hoverlabel": {
           "align": "left"
          },
          "hovermode": "closest",
          "mapbox": {
           "style": "light"
          },
          "paper_bgcolor": "white",
          "plot_bgcolor": "#E5ECF6",
          "polar": {
           "angularaxis": {
            "gridcolor": "white",
            "linecolor": "white",
            "ticks": ""
           },
           "bgcolor": "#E5ECF6",
           "radialaxis": {
            "gridcolor": "white",
            "linecolor": "white",
            "ticks": ""
           }
          },
          "scene": {
           "xaxis": {
            "backgroundcolor": "#E5ECF6",
            "gridcolor": "white",
            "gridwidth": 2,
            "linecolor": "white",
            "showbackground": true,
            "ticks": "",
            "zerolinecolor": "white"
           },
           "yaxis": {
            "backgroundcolor": "#E5ECF6",
            "gridcolor": "white",
            "gridwidth": 2,
            "linecolor": "white",
            "showbackground": true,
            "ticks": "",
            "zerolinecolor": "white"
           },
           "zaxis": {
            "backgroundcolor": "#E5ECF6",
            "gridcolor": "white",
            "gridwidth": 2,
            "linecolor": "white",
            "showbackground": true,
            "ticks": "",
            "zerolinecolor": "white"
           }
          },
          "shapedefaults": {
           "line": {
            "color": "#2a3f5f"
           }
          },
          "ternary": {
           "aaxis": {
            "gridcolor": "white",
            "linecolor": "white",
            "ticks": ""
           },
           "baxis": {
            "gridcolor": "white",
            "linecolor": "white",
            "ticks": ""
           },
           "bgcolor": "#E5ECF6",
           "caxis": {
            "gridcolor": "white",
            "linecolor": "white",
            "ticks": ""
           }
          },
          "title": {
           "x": 0.05
          },
          "xaxis": {
           "automargin": true,
           "gridcolor": "white",
           "linecolor": "white",
           "ticks": "",
           "title": {
            "standoff": 15
           },
           "zerolinecolor": "white",
           "zerolinewidth": 2
          },
          "yaxis": {
           "automargin": true,
           "gridcolor": "white",
           "linecolor": "white",
           "ticks": "",
           "title": {
            "standoff": 15
           },
           "zerolinecolor": "white",
           "zerolinewidth": 2
          }
         }
        },
        "xaxis": {
         "anchor": "y",
         "domain": [
          0,
          1
         ],
         "title": {
          "text": "jsd"
         }
        },
        "yaxis": {
         "anchor": "x",
         "domain": [
          0,
          1
         ],
         "title": {
          "text": "p_free"
         }
        }
       }
      }
     },
     "metadata": {},
     "output_type": "display_data"
    }
   ],
   "source": [
    "px.scatter(df, x='jsd', y='p_free', trendline='ols')\n",
    "\n",
    "# Fail"
   ]
  },
  {
   "cell_type": "code",
   "execution_count": 21,
   "metadata": {},
   "outputs": [],
   "source": [
    "ef = pd.read_csv('responses/other/ethnic_fractionalization.csv')"
   ]
  },
  {
   "cell_type": "code",
   "execution_count": 22,
   "metadata": {},
   "outputs": [],
   "source": [
    "ef = ef[ef['Year']==2013]"
   ]
  },
  {
   "cell_type": "code",
   "execution_count": 23,
   "metadata": {},
   "outputs": [
    {
     "data": {
      "text/html": [
       "<div>\n",
       "<style scoped>\n",
       "    .dataframe tbody tr th:only-of-type {\n",
       "        vertical-align: middle;\n",
       "    }\n",
       "\n",
       "    .dataframe tbody tr th {\n",
       "        vertical-align: top;\n",
       "    }\n",
       "\n",
       "    .dataframe thead th {\n",
       "        text-align: right;\n",
       "    }\n",
       "</style>\n",
       "<table border=\"1\" class=\"dataframe\">\n",
       "  <thead>\n",
       "    <tr style=\"text-align: right;\">\n",
       "      <th></th>\n",
       "      <th>Country Name</th>\n",
       "      <th>Year</th>\n",
       "      <th>EFindex</th>\n",
       "    </tr>\n",
       "  </thead>\n",
       "  <tbody>\n",
       "    <tr>\n",
       "      <th>68</th>\n",
       "      <td>United Kingdom</td>\n",
       "      <td>2013</td>\n",
       "      <td>0.399</td>\n",
       "    </tr>\n",
       "    <tr>\n",
       "      <th>137</th>\n",
       "      <td>Ireland</td>\n",
       "      <td>2013</td>\n",
       "      <td>0.174</td>\n",
       "    </tr>\n",
       "    <tr>\n",
       "      <th>206</th>\n",
       "      <td>Netherlands</td>\n",
       "      <td>2013</td>\n",
       "      <td>0.354</td>\n",
       "    </tr>\n",
       "    <tr>\n",
       "      <th>275</th>\n",
       "      <td>Belgium</td>\n",
       "      <td>2013</td>\n",
       "      <td>0.592</td>\n",
       "    </tr>\n",
       "    <tr>\n",
       "      <th>344</th>\n",
       "      <td>Switzerland</td>\n",
       "      <td>2013</td>\n",
       "      <td>0.367</td>\n",
       "    </tr>\n",
       "  </tbody>\n",
       "</table>\n",
       "</div>"
      ],
      "text/plain": [
       "       Country Name  Year  EFindex\n",
       "68   United Kingdom  2013    0.399\n",
       "137         Ireland  2013    0.174\n",
       "206     Netherlands  2013    0.354\n",
       "275         Belgium  2013    0.592\n",
       "344     Switzerland  2013    0.367"
      ]
     },
     "execution_count": 23,
     "metadata": {},
     "output_type": "execute_result"
    }
   ],
   "source": [
    "ef.head()"
   ]
  },
  {
   "cell_type": "code",
   "execution_count": 24,
   "metadata": {},
   "outputs": [
    {
     "data": {
      "text/plain": [
       "(156, 3)"
      ]
     },
     "execution_count": 24,
     "metadata": {},
     "output_type": "execute_result"
    }
   ],
   "source": [
    "ef.shape"
   ]
  },
  {
   "cell_type": "code",
   "execution_count": 26,
   "metadata": {},
   "outputs": [
    {
     "name": "stdout",
     "output_type": "stream",
     "text": [
      "No matches found for:\n",
      "- Andorra\n",
      "- Czechia\n",
      "- France\n",
      "- Germany\n",
      "- Iceland\n",
      "- Maldives\n",
      "- Montenegro\n",
      "- North Macedonia\n",
      "- United States\n"
     ]
    }
   ],
   "source": [
    "\n",
    "merged_df = df.merge(\n",
    "    ef[['Country Name', 'EFindex']],  \n",
    "    on='Country Name',                           \n",
    "    how='left',                                 \n",
    "    indicator=True                                \n",
    ")\n",
    "\n",
    "\n",
    "unmatched_df_countries = merged_df[merged_df['_merge'] == 'left_only']['Country Name']\n",
    "\n",
    "if not unmatched_df_countries.empty:\n",
    "    print(\"No matches found for:\")\n",
    "    for country in unmatched_df_countries:\n",
    "        print(f\"- {country}\")\n",
    "else:\n",
    "    print(\"All good.\")\n",
    "\n",
    "df['ef'] = merged_df['EFindex']"
   ]
  },
  {
   "cell_type": "code",
   "execution_count": 27,
   "metadata": {},
   "outputs": [
    {
     "data": {
      "text/plain": [
       "(87, 5)"
      ]
     },
     "execution_count": 27,
     "metadata": {},
     "output_type": "execute_result"
    }
   ],
   "source": [
    "df.shape"
   ]
  },
  {
   "cell_type": "code",
   "execution_count": 28,
   "metadata": {},
   "outputs": [
    {
     "data": {
      "application/vnd.plotly.v1+json": {
       "config": {
        "plotlyServerURL": "https://plot.ly"
       },
       "data": [
        {
         "hovertemplate": "jsd=%{x}<br>ef=%{y}<extra></extra>",
         "legendgroup": "",
         "marker": {
          "color": "#636efa",
          "symbol": "circle"
         },
         "mode": "markers",
         "name": "",
         "orientation": "v",
         "showlegend": false,
         "type": "scatter",
         "x": {
          "bdata": "8Jbv5dqP0D+M27taDZXVP8BF8j2ySss/lOw1KKHvyz9h9XKsZRfRP+0/Eix1oM8/9o4gIcwbzT9yPJ2Y/yPYP1ILECSyxdQ/mPI3/6dw0z+w7UWuHVzUP4LxOYGQMtE/aeYnVVvkzz8WqE/NmhTPP9lr0gQRLM0/5SPwgM0tzz96HhnJI6/KP2/tLFzgRdI/Oa9dn87P0j/7MlgJDnzPPwTQSEsT/M8/BSfeCirYzj/nCw1z10TWP2U6tnr6hdQ/LrQ4aWJZ0j9NOsDjW3HRP04QuItCMdI/2y7BZ2/Wxz9N9zm+Oo3SPyO1gW3wys8/BclGlcgw0D8mXTjk3ZPNPyc39dHKgtI/b2L3ofLC1z96Pxzi42rMPzOClNJNctE/W0Er08gmzj+MfTSIWg/QP6OS/G1fRcs/fA691ojvzj9lbmgLZP7QP43jKJ5eTc4/l2D8iCEK0j8lUyK3fMvKP5YVCCYAfc0/q+dGMDpp0T8+vOjL50rRPzwYA+CqytM/j1WHH2ya0D/JiTsSIq/SP34IqJ5yiNI/nrozeGLkzD+u5oMNajTPP/zsUrgimtI/fffCfBma0T/JmTu1l7bTP/bIwj2FANo/mGVDXExF0T/FyAVIkb3QPwyV7T1BstY/0sZHrgRA0D96Sa4kGuTMP3TPR96lsNE/U/4WuCri0T8fXWnjVYXPP1sCiHlx4NA/M435f4mPyz9T2uhlumrTP73BlwqsZMw/DA3jP3T+zj/R5sloxO/QP1tiBA9QfMw/254zrUWY0z+c0k5h5efQP6ZhpN4Ooc4/lrK4xmsI0j+wifE9L3DRPz1cyhjOZ9c/Ubsjja9Izz9OON+OfL/QP0LKle/wFdE/e6WiR5KR0D/ljLnJ8DnPP380SEiZoM0/+cVInBF80D9NEuZDQa7QP093MQ34qtM/",
          "dtype": "f8"
         },
         "xaxis": "x",
         "y": {
          "bdata": "mG4Sg8DKwT8AAAAAAAD4fyGwcmiR7eg/001iEFg5xD8K16NwPQqnP0SLbOf7qdE/WDm0yHa+zz8IrBxaZDu/P5qZmZmZmZk/LbKd76fG0z+LbOf7qfHiP+f7qfHSTeI/5dAi2/l+0j9cj8L1KFznP39qvHSTGNw/UrgehetRyD+mm8QgsHLkPxfZzvdT48U/aJHtfD811j8AAAAAAAD4fw4tsp3vp8Y/H4XrUbgexT8dWmQ730/dP0SLbOf7qcE/sHJoke181z8AAAAAAAD4f8dLN4lBYMU/JzEIrBxa4D8dWmQ730/NPxkEVg4tss0/AAAAAAAA+H8lBoGVQ4vcP6rx0k1iENg/KVyPwvUovD+6SQwCK4emP57vp8ZLN+E/exSuR+F66D+gGi/dJAbBP/p+arx0k9A/kxgEVg4t0j8AAAAAAAD4f90kBoGVQ+s/YhBYObTI4j8pXI/C9SjUPwAAAAAAAPh/4XoUrkfh4j8OLbKd76fWPwrXo3A9Ct8/nMQgsHJo4T8AAAAAAAD4f4cW2c73U8M/Vg4tsp3v5z8tsp3vp8bjP23n+6nx0uk/RIts5/upsT8pXI/C9SjMP+XQItv5fso/MQisHFpk6z+BlUOLbOfnP/LSTWIQWNk/SOF6FK5H2T9QjZduEoPQP9V46SYxCMw/sHJoke181z+28/3UeOniP7pJDAIrh9Y/nMQgsHJooT+oxks3iUHsPwAAAAAAAPh/1XjpJjEI1D8AAAAAAAD4fwAAAAAAAPh/AAAAAAAA+H8AAAAAAAD4fwAAAAAAAPh/AAAAAAAA+H8AAAAAAAD4fwAAAAAAAPh/AAAAAAAA+H8AAAAAAAD4fwAAAAAAAPh/AAAAAAAA+H8AAAAAAAD4fwAAAAAAAPh/AAAAAAAA+H8AAAAAAAD4fwAAAAAAAPh/",
          "dtype": "f8"
         },
         "yaxis": "y"
        },
        {
         "hovertemplate": "<b>OLS trendline</b><br>ef = -0.912437 * jsd + 0.622566<br>R<sup>2</sup>=0.028567<br><br>jsd=%{x}<br>ef=%{y} <b>(trend)</b><extra></extra>",
         "legendgroup": "",
         "marker": {
          "color": "#636efa",
          "symbol": "circle"
         },
         "mode": "lines",
         "name": "",
         "showlegend": false,
         "type": "scatter",
         "x": {
          "bdata": "2y7BZ2/Wxz96HhnJI6/KPyVTIrd8y8o/o5L8bV9Fyz/ARfI9skrLPzON+X+Jj8s/lOw1KKHvyz96Pxzi42rMP3pJriQa5Mw/nrozeGLkzD/2jiAhzBvNP9lr0gQRLM0/Jl045N2TzT9bQSvTyCbOP43jKJ5eTc4/BSfeCirYzj98Dr3WiO/OPwwN4z90/s4/FqhPzZoUzz/lI/CAzS3PP67mgw1qNM8/H11p41WFzz/tPxIsdaDPPyO1gW3wys8/aeYnVVvkzz8E0EhLE/zPP4x9NIhaD9A/0sZHrgRA0D/wlu/l2o/QP49Vhx9smtA/xcgFSJG90D9bAoh5ceDQP2H1cqxlF9E/gvE5gZAy0T+YZUNcTEXRPz686MvnStE/q+dGMDpp0T8zgpTSTXLRP333wnwZmtE/dM9H3qWw0T9T/ha4KuLRP5dg/IghCtI/ThC4i0Ix0j9v7Sxc4EXSPy60OGliWdI/Jzf10cqC0j9+CKiecojSP033Ob46jdI//OxSuCKa0j85r12fzs/SP1Pa6GW6atM/mPI3/6dw0z/JmTu1l7bTPzwYA+CqytM/sO1Frh1c1D9lOrZ6+oXUP1ILECSyxdQ/5wsNc9dE1j8Mle09QbLWP29i96Hywtc/cjydmP8j2D/2yMI9hQDaPw==",
          "dtype": "f8"
         },
         "xaxis": "x",
         "y": {
          "bdata": "JlvAZBX43D9ZOyaVoqvbP3KmYNaznts/kshzlRhn2z8AP/vXqmTbP9Sp18lCRds/uAqj+GsZ2z8zv5AfMOHaP/SH5ovjqdo/YD7HjMKp2j/zmFHKepDaPwoR4rAOido/Xl0NqLNZ2j/BcujarBbaP5AwgGwSBdo/PHQtVcDF2T9NOubeFrvZPx+LlWJItNk/ntbfXy2q2T8Srglyrp7ZP5Rv+UWqm9k/4MrBU7922T9M1E2sX2rZP667UC7+Vtk/TdFlnGVL2T9QGVx4k0DZPwpGDb7GMNk/3oTRd18E2T+aEX7ihrvYPyERp4nisdg/TOXiMtGR2D+G/i3J/nHYP7WEPnHaP9g/XksRmRAn2D8AN7Gu+BXYP/6wAvDaENg/CCOoPjD11z98d00T6OzXPyAKb3mYyNc/1vGFigW01z9qPAS31obXP8zKt71fYtc/FVrj2as+1z80X8Et3CvXP5k+JmwPGtc/HmPeN0f01j8ttUYxHu/WP3db2UHB6tY/mUs5lvre1j9qIgXLAa7WP/T2TsCmINY/t568CT4b1j87TycIbtvVPyrKwt0cydU/yHzSdGZE1T9FCtgNNB7VPz1MSrEQ5NQ/yLYqCniG0z/77T/foiLTP60VnDXSKdI/CYycv0TR0T9FsLzleB7QPw==",
          "dtype": "f8"
         },
         "yaxis": "y"
        }
       ],
       "layout": {
        "legend": {
         "tracegroupgap": 0
        },
        "margin": {
         "t": 60
        },
        "template": {
         "data": {
          "bar": [
           {
            "error_x": {
             "color": "#2a3f5f"
            },
            "error_y": {
             "color": "#2a3f5f"
            },
            "marker": {
             "line": {
              "color": "#E5ECF6",
              "width": 0.5
             },
             "pattern": {
              "fillmode": "overlay",
              "size": 10,
              "solidity": 0.2
             }
            },
            "type": "bar"
           }
          ],
          "barpolar": [
           {
            "marker": {
             "line": {
              "color": "#E5ECF6",
              "width": 0.5
             },
             "pattern": {
              "fillmode": "overlay",
              "size": 10,
              "solidity": 0.2
             }
            },
            "type": "barpolar"
           }
          ],
          "carpet": [
           {
            "aaxis": {
             "endlinecolor": "#2a3f5f",
             "gridcolor": "white",
             "linecolor": "white",
             "minorgridcolor": "white",
             "startlinecolor": "#2a3f5f"
            },
            "baxis": {
             "endlinecolor": "#2a3f5f",
             "gridcolor": "white",
             "linecolor": "white",
             "minorgridcolor": "white",
             "startlinecolor": "#2a3f5f"
            },
            "type": "carpet"
           }
          ],
          "choropleth": [
           {
            "colorbar": {
             "outlinewidth": 0,
             "ticks": ""
            },
            "type": "choropleth"
           }
          ],
          "contour": [
           {
            "colorbar": {
             "outlinewidth": 0,
             "ticks": ""
            },
            "colorscale": [
             [
              0,
              "#0d0887"
             ],
             [
              0.1111111111111111,
              "#46039f"
             ],
             [
              0.2222222222222222,
              "#7201a8"
             ],
             [
              0.3333333333333333,
              "#9c179e"
             ],
             [
              0.4444444444444444,
              "#bd3786"
             ],
             [
              0.5555555555555556,
              "#d8576b"
             ],
             [
              0.6666666666666666,
              "#ed7953"
             ],
             [
              0.7777777777777778,
              "#fb9f3a"
             ],
             [
              0.8888888888888888,
              "#fdca26"
             ],
             [
              1,
              "#f0f921"
             ]
            ],
            "type": "contour"
           }
          ],
          "contourcarpet": [
           {
            "colorbar": {
             "outlinewidth": 0,
             "ticks": ""
            },
            "type": "contourcarpet"
           }
          ],
          "heatmap": [
           {
            "colorbar": {
             "outlinewidth": 0,
             "ticks": ""
            },
            "colorscale": [
             [
              0,
              "#0d0887"
             ],
             [
              0.1111111111111111,
              "#46039f"
             ],
             [
              0.2222222222222222,
              "#7201a8"
             ],
             [
              0.3333333333333333,
              "#9c179e"
             ],
             [
              0.4444444444444444,
              "#bd3786"
             ],
             [
              0.5555555555555556,
              "#d8576b"
             ],
             [
              0.6666666666666666,
              "#ed7953"
             ],
             [
              0.7777777777777778,
              "#fb9f3a"
             ],
             [
              0.8888888888888888,
              "#fdca26"
             ],
             [
              1,
              "#f0f921"
             ]
            ],
            "type": "heatmap"
           }
          ],
          "histogram": [
           {
            "marker": {
             "pattern": {
              "fillmode": "overlay",
              "size": 10,
              "solidity": 0.2
             }
            },
            "type": "histogram"
           }
          ],
          "histogram2d": [
           {
            "colorbar": {
             "outlinewidth": 0,
             "ticks": ""
            },
            "colorscale": [
             [
              0,
              "#0d0887"
             ],
             [
              0.1111111111111111,
              "#46039f"
             ],
             [
              0.2222222222222222,
              "#7201a8"
             ],
             [
              0.3333333333333333,
              "#9c179e"
             ],
             [
              0.4444444444444444,
              "#bd3786"
             ],
             [
              0.5555555555555556,
              "#d8576b"
             ],
             [
              0.6666666666666666,
              "#ed7953"
             ],
             [
              0.7777777777777778,
              "#fb9f3a"
             ],
             [
              0.8888888888888888,
              "#fdca26"
             ],
             [
              1,
              "#f0f921"
             ]
            ],
            "type": "histogram2d"
           }
          ],
          "histogram2dcontour": [
           {
            "colorbar": {
             "outlinewidth": 0,
             "ticks": ""
            },
            "colorscale": [
             [
              0,
              "#0d0887"
             ],
             [
              0.1111111111111111,
              "#46039f"
             ],
             [
              0.2222222222222222,
              "#7201a8"
             ],
             [
              0.3333333333333333,
              "#9c179e"
             ],
             [
              0.4444444444444444,
              "#bd3786"
             ],
             [
              0.5555555555555556,
              "#d8576b"
             ],
             [
              0.6666666666666666,
              "#ed7953"
             ],
             [
              0.7777777777777778,
              "#fb9f3a"
             ],
             [
              0.8888888888888888,
              "#fdca26"
             ],
             [
              1,
              "#f0f921"
             ]
            ],
            "type": "histogram2dcontour"
           }
          ],
          "mesh3d": [
           {
            "colorbar": {
             "outlinewidth": 0,
             "ticks": ""
            },
            "type": "mesh3d"
           }
          ],
          "parcoords": [
           {
            "line": {
             "colorbar": {
              "outlinewidth": 0,
              "ticks": ""
             }
            },
            "type": "parcoords"
           }
          ],
          "pie": [
           {
            "automargin": true,
            "type": "pie"
           }
          ],
          "scatter": [
           {
            "fillpattern": {
             "fillmode": "overlay",
             "size": 10,
             "solidity": 0.2
            },
            "type": "scatter"
           }
          ],
          "scatter3d": [
           {
            "line": {
             "colorbar": {
              "outlinewidth": 0,
              "ticks": ""
             }
            },
            "marker": {
             "colorbar": {
              "outlinewidth": 0,
              "ticks": ""
             }
            },
            "type": "scatter3d"
           }
          ],
          "scattercarpet": [
           {
            "marker": {
             "colorbar": {
              "outlinewidth": 0,
              "ticks": ""
             }
            },
            "type": "scattercarpet"
           }
          ],
          "scattergeo": [
           {
            "marker": {
             "colorbar": {
              "outlinewidth": 0,
              "ticks": ""
             }
            },
            "type": "scattergeo"
           }
          ],
          "scattergl": [
           {
            "marker": {
             "colorbar": {
              "outlinewidth": 0,
              "ticks": ""
             }
            },
            "type": "scattergl"
           }
          ],
          "scattermap": [
           {
            "marker": {
             "colorbar": {
              "outlinewidth": 0,
              "ticks": ""
             }
            },
            "type": "scattermap"
           }
          ],
          "scattermapbox": [
           {
            "marker": {
             "colorbar": {
              "outlinewidth": 0,
              "ticks": ""
             }
            },
            "type": "scattermapbox"
           }
          ],
          "scatterpolar": [
           {
            "marker": {
             "colorbar": {
              "outlinewidth": 0,
              "ticks": ""
             }
            },
            "type": "scatterpolar"
           }
          ],
          "scatterpolargl": [
           {
            "marker": {
             "colorbar": {
              "outlinewidth": 0,
              "ticks": ""
             }
            },
            "type": "scatterpolargl"
           }
          ],
          "scatterternary": [
           {
            "marker": {
             "colorbar": {
              "outlinewidth": 0,
              "ticks": ""
             }
            },
            "type": "scatterternary"
           }
          ],
          "surface": [
           {
            "colorbar": {
             "outlinewidth": 0,
             "ticks": ""
            },
            "colorscale": [
             [
              0,
              "#0d0887"
             ],
             [
              0.1111111111111111,
              "#46039f"
             ],
             [
              0.2222222222222222,
              "#7201a8"
             ],
             [
              0.3333333333333333,
              "#9c179e"
             ],
             [
              0.4444444444444444,
              "#bd3786"
             ],
             [
              0.5555555555555556,
              "#d8576b"
             ],
             [
              0.6666666666666666,
              "#ed7953"
             ],
             [
              0.7777777777777778,
              "#fb9f3a"
             ],
             [
              0.8888888888888888,
              "#fdca26"
             ],
             [
              1,
              "#f0f921"
             ]
            ],
            "type": "surface"
           }
          ],
          "table": [
           {
            "cells": {
             "fill": {
              "color": "#EBF0F8"
             },
             "line": {
              "color": "white"
             }
            },
            "header": {
             "fill": {
              "color": "#C8D4E3"
             },
             "line": {
              "color": "white"
             }
            },
            "type": "table"
           }
          ]
         },
         "layout": {
          "annotationdefaults": {
           "arrowcolor": "#2a3f5f",
           "arrowhead": 0,
           "arrowwidth": 1
          },
          "autotypenumbers": "strict",
          "coloraxis": {
           "colorbar": {
            "outlinewidth": 0,
            "ticks": ""
           }
          },
          "colorscale": {
           "diverging": [
            [
             0,
             "#8e0152"
            ],
            [
             0.1,
             "#c51b7d"
            ],
            [
             0.2,
             "#de77ae"
            ],
            [
             0.3,
             "#f1b6da"
            ],
            [
             0.4,
             "#fde0ef"
            ],
            [
             0.5,
             "#f7f7f7"
            ],
            [
             0.6,
             "#e6f5d0"
            ],
            [
             0.7,
             "#b8e186"
            ],
            [
             0.8,
             "#7fbc41"
            ],
            [
             0.9,
             "#4d9221"
            ],
            [
             1,
             "#276419"
            ]
           ],
           "sequential": [
            [
             0,
             "#0d0887"
            ],
            [
             0.1111111111111111,
             "#46039f"
            ],
            [
             0.2222222222222222,
             "#7201a8"
            ],
            [
             0.3333333333333333,
             "#9c179e"
            ],
            [
             0.4444444444444444,
             "#bd3786"
            ],
            [
             0.5555555555555556,
             "#d8576b"
            ],
            [
             0.6666666666666666,
             "#ed7953"
            ],
            [
             0.7777777777777778,
             "#fb9f3a"
            ],
            [
             0.8888888888888888,
             "#fdca26"
            ],
            [
             1,
             "#f0f921"
            ]
           ],
           "sequentialminus": [
            [
             0,
             "#0d0887"
            ],
            [
             0.1111111111111111,
             "#46039f"
            ],
            [
             0.2222222222222222,
             "#7201a8"
            ],
            [
             0.3333333333333333,
             "#9c179e"
            ],
            [
             0.4444444444444444,
             "#bd3786"
            ],
            [
             0.5555555555555556,
             "#d8576b"
            ],
            [
             0.6666666666666666,
             "#ed7953"
            ],
            [
             0.7777777777777778,
             "#fb9f3a"
            ],
            [
             0.8888888888888888,
             "#fdca26"
            ],
            [
             1,
             "#f0f921"
            ]
           ]
          },
          "colorway": [
           "#636efa",
           "#EF553B",
           "#00cc96",
           "#ab63fa",
           "#FFA15A",
           "#19d3f3",
           "#FF6692",
           "#B6E880",
           "#FF97FF",
           "#FECB52"
          ],
          "font": {
           "color": "#2a3f5f"
          },
          "geo": {
           "bgcolor": "white",
           "lakecolor": "white",
           "landcolor": "#E5ECF6",
           "showlakes": true,
           "showland": true,
           "subunitcolor": "white"
          },
          "hoverlabel": {
           "align": "left"
          },
          "hovermode": "closest",
          "mapbox": {
           "style": "light"
          },
          "paper_bgcolor": "white",
          "plot_bgcolor": "#E5ECF6",
          "polar": {
           "angularaxis": {
            "gridcolor": "white",
            "linecolor": "white",
            "ticks": ""
           },
           "bgcolor": "#E5ECF6",
           "radialaxis": {
            "gridcolor": "white",
            "linecolor": "white",
            "ticks": ""
           }
          },
          "scene": {
           "xaxis": {
            "backgroundcolor": "#E5ECF6",
            "gridcolor": "white",
            "gridwidth": 2,
            "linecolor": "white",
            "showbackground": true,
            "ticks": "",
            "zerolinecolor": "white"
           },
           "yaxis": {
            "backgroundcolor": "#E5ECF6",
            "gridcolor": "white",
            "gridwidth": 2,
            "linecolor": "white",
            "showbackground": true,
            "ticks": "",
            "zerolinecolor": "white"
           },
           "zaxis": {
            "backgroundcolor": "#E5ECF6",
            "gridcolor": "white",
            "gridwidth": 2,
            "linecolor": "white",
            "showbackground": true,
            "ticks": "",
            "zerolinecolor": "white"
           }
          },
          "shapedefaults": {
           "line": {
            "color": "#2a3f5f"
           }
          },
          "ternary": {
           "aaxis": {
            "gridcolor": "white",
            "linecolor": "white",
            "ticks": ""
           },
           "baxis": {
            "gridcolor": "white",
            "linecolor": "white",
            "ticks": ""
           },
           "bgcolor": "#E5ECF6",
           "caxis": {
            "gridcolor": "white",
            "linecolor": "white",
            "ticks": ""
           }
          },
          "title": {
           "x": 0.05
          },
          "xaxis": {
           "automargin": true,
           "gridcolor": "white",
           "linecolor": "white",
           "ticks": "",
           "title": {
            "standoff": 15
           },
           "zerolinecolor": "white",
           "zerolinewidth": 2
          },
          "yaxis": {
           "automargin": true,
           "gridcolor": "white",
           "linecolor": "white",
           "ticks": "",
           "title": {
            "standoff": 15
           },
           "zerolinecolor": "white",
           "zerolinewidth": 2
          }
         }
        },
        "xaxis": {
         "anchor": "y",
         "domain": [
          0,
          1
         ],
         "title": {
          "text": "jsd"
         }
        },
        "yaxis": {
         "anchor": "x",
         "domain": [
          0,
          1
         ],
         "title": {
          "text": "ef"
         }
        }
       }
      }
     },
     "metadata": {},
     "output_type": "display_data"
    }
   ],
   "source": [
    "px.scatter(df, x='jsd', y='ef', trendline='ols')\n"
   ]
  },
  {
   "cell_type": "code",
   "execution_count": 39,
   "metadata": {},
   "outputs": [
    {
     "name": "stdout",
     "output_type": "stream",
     "text": [
      "No matches found for:\n",
      "- Bosnia Herzegovina\n",
      "- Britain\n",
      "- Burkina Faso\n",
      "- Czech Rep.\n",
      "- Great Britain\n",
      "- Hong Kong SAR\n",
      "- Macau SAR\n",
      "- Myanmar\n",
      "- North Macedonia\n",
      "- Northern Ireland\n",
      "- Palest. ter.\n",
      "- Puerto Rico\n",
      "- S. Korea\n"
     ]
    }
   ],
   "source": [
    "df = pd.read_csv('responses/other/country_jsd.csv')\n",
    "\n",
    "continents = pd.read_csv('responses/other/continents.csv')\n",
    "merged_df = df.merge(\n",
    "    continents[['Country Name', 'Continent']],  \n",
    "    on='Country Name',                           \n",
    "    how='left',                                 \n",
    "    indicator=True                                \n",
    ")\n",
    "\n",
    "\n",
    "unmatched_df_countries = merged_df[merged_df['_merge'] == 'left_only']['Country Name']\n",
    "\n",
    "if not unmatched_df_countries.empty:\n",
    "    print(\"No matches found for:\")\n",
    "    for country in unmatched_df_countries:\n",
    "        print(f\"- {country}\")\n",
    "else:\n",
    "    print(\"All good.\")\n",
    "\n",
    "df['continent'] = merged_df['Continent']"
   ]
  },
  {
   "cell_type": "code",
   "execution_count": 40,
   "metadata": {},
   "outputs": [],
   "source": [
    "by_continent = df.groupby('continent')['jsd'].mean()"
   ]
  },
  {
   "cell_type": "code",
   "execution_count": 41,
   "metadata": {},
   "outputs": [
    {
     "data": {
      "application/vnd.plotly.v1+json": {
       "config": {
        "plotlyServerURL": "https://plot.ly"
       },
       "data": [
        {
         "hovertemplate": "variable=jsd<br>continent=%{x}<br>value=%{y}<extra></extra>",
         "legendgroup": "jsd",
         "marker": {
          "color": "#636efa",
          "pattern": {
           "shape": ""
          }
         },
         "name": "jsd",
         "orientation": "v",
         "showlegend": true,
         "textposition": "auto",
         "type": "bar",
         "x": [
          "Africa",
          "Asia",
          "Europe",
          "North America",
          "Oceania",
          "South America"
         ],
         "xaxis": "x",
         "y": {
          "bdata": "c6fGH/6L0D9C0jhuVtDRP4mmHqjS1tA/n5LrgIp50j9edAfv5UbQP4JL9ZAsw9A/",
          "dtype": "f8"
         },
         "yaxis": "y"
        }
       ],
       "layout": {
        "barmode": "relative",
        "legend": {
         "title": {
          "text": "variable"
         },
         "tracegroupgap": 0
        },
        "margin": {
         "t": 60
        },
        "template": {
         "data": {
          "bar": [
           {
            "error_x": {
             "color": "#2a3f5f"
            },
            "error_y": {
             "color": "#2a3f5f"
            },
            "marker": {
             "line": {
              "color": "#E5ECF6",
              "width": 0.5
             },
             "pattern": {
              "fillmode": "overlay",
              "size": 10,
              "solidity": 0.2
             }
            },
            "type": "bar"
           }
          ],
          "barpolar": [
           {
            "marker": {
             "line": {
              "color": "#E5ECF6",
              "width": 0.5
             },
             "pattern": {
              "fillmode": "overlay",
              "size": 10,
              "solidity": 0.2
             }
            },
            "type": "barpolar"
           }
          ],
          "carpet": [
           {
            "aaxis": {
             "endlinecolor": "#2a3f5f",
             "gridcolor": "white",
             "linecolor": "white",
             "minorgridcolor": "white",
             "startlinecolor": "#2a3f5f"
            },
            "baxis": {
             "endlinecolor": "#2a3f5f",
             "gridcolor": "white",
             "linecolor": "white",
             "minorgridcolor": "white",
             "startlinecolor": "#2a3f5f"
            },
            "type": "carpet"
           }
          ],
          "choropleth": [
           {
            "colorbar": {
             "outlinewidth": 0,
             "ticks": ""
            },
            "type": "choropleth"
           }
          ],
          "contour": [
           {
            "colorbar": {
             "outlinewidth": 0,
             "ticks": ""
            },
            "colorscale": [
             [
              0,
              "#0d0887"
             ],
             [
              0.1111111111111111,
              "#46039f"
             ],
             [
              0.2222222222222222,
              "#7201a8"
             ],
             [
              0.3333333333333333,
              "#9c179e"
             ],
             [
              0.4444444444444444,
              "#bd3786"
             ],
             [
              0.5555555555555556,
              "#d8576b"
             ],
             [
              0.6666666666666666,
              "#ed7953"
             ],
             [
              0.7777777777777778,
              "#fb9f3a"
             ],
             [
              0.8888888888888888,
              "#fdca26"
             ],
             [
              1,
              "#f0f921"
             ]
            ],
            "type": "contour"
           }
          ],
          "contourcarpet": [
           {
            "colorbar": {
             "outlinewidth": 0,
             "ticks": ""
            },
            "type": "contourcarpet"
           }
          ],
          "heatmap": [
           {
            "colorbar": {
             "outlinewidth": 0,
             "ticks": ""
            },
            "colorscale": [
             [
              0,
              "#0d0887"
             ],
             [
              0.1111111111111111,
              "#46039f"
             ],
             [
              0.2222222222222222,
              "#7201a8"
             ],
             [
              0.3333333333333333,
              "#9c179e"
             ],
             [
              0.4444444444444444,
              "#bd3786"
             ],
             [
              0.5555555555555556,
              "#d8576b"
             ],
             [
              0.6666666666666666,
              "#ed7953"
             ],
             [
              0.7777777777777778,
              "#fb9f3a"
             ],
             [
              0.8888888888888888,
              "#fdca26"
             ],
             [
              1,
              "#f0f921"
             ]
            ],
            "type": "heatmap"
           }
          ],
          "histogram": [
           {
            "marker": {
             "pattern": {
              "fillmode": "overlay",
              "size": 10,
              "solidity": 0.2
             }
            },
            "type": "histogram"
           }
          ],
          "histogram2d": [
           {
            "colorbar": {
             "outlinewidth": 0,
             "ticks": ""
            },
            "colorscale": [
             [
              0,
              "#0d0887"
             ],
             [
              0.1111111111111111,
              "#46039f"
             ],
             [
              0.2222222222222222,
              "#7201a8"
             ],
             [
              0.3333333333333333,
              "#9c179e"
             ],
             [
              0.4444444444444444,
              "#bd3786"
             ],
             [
              0.5555555555555556,
              "#d8576b"
             ],
             [
              0.6666666666666666,
              "#ed7953"
             ],
             [
              0.7777777777777778,
              "#fb9f3a"
             ],
             [
              0.8888888888888888,
              "#fdca26"
             ],
             [
              1,
              "#f0f921"
             ]
            ],
            "type": "histogram2d"
           }
          ],
          "histogram2dcontour": [
           {
            "colorbar": {
             "outlinewidth": 0,
             "ticks": ""
            },
            "colorscale": [
             [
              0,
              "#0d0887"
             ],
             [
              0.1111111111111111,
              "#46039f"
             ],
             [
              0.2222222222222222,
              "#7201a8"
             ],
             [
              0.3333333333333333,
              "#9c179e"
             ],
             [
              0.4444444444444444,
              "#bd3786"
             ],
             [
              0.5555555555555556,
              "#d8576b"
             ],
             [
              0.6666666666666666,
              "#ed7953"
             ],
             [
              0.7777777777777778,
              "#fb9f3a"
             ],
             [
              0.8888888888888888,
              "#fdca26"
             ],
             [
              1,
              "#f0f921"
             ]
            ],
            "type": "histogram2dcontour"
           }
          ],
          "mesh3d": [
           {
            "colorbar": {
             "outlinewidth": 0,
             "ticks": ""
            },
            "type": "mesh3d"
           }
          ],
          "parcoords": [
           {
            "line": {
             "colorbar": {
              "outlinewidth": 0,
              "ticks": ""
             }
            },
            "type": "parcoords"
           }
          ],
          "pie": [
           {
            "automargin": true,
            "type": "pie"
           }
          ],
          "scatter": [
           {
            "fillpattern": {
             "fillmode": "overlay",
             "size": 10,
             "solidity": 0.2
            },
            "type": "scatter"
           }
          ],
          "scatter3d": [
           {
            "line": {
             "colorbar": {
              "outlinewidth": 0,
              "ticks": ""
             }
            },
            "marker": {
             "colorbar": {
              "outlinewidth": 0,
              "ticks": ""
             }
            },
            "type": "scatter3d"
           }
          ],
          "scattercarpet": [
           {
            "marker": {
             "colorbar": {
              "outlinewidth": 0,
              "ticks": ""
             }
            },
            "type": "scattercarpet"
           }
          ],
          "scattergeo": [
           {
            "marker": {
             "colorbar": {
              "outlinewidth": 0,
              "ticks": ""
             }
            },
            "type": "scattergeo"
           }
          ],
          "scattergl": [
           {
            "marker": {
             "colorbar": {
              "outlinewidth": 0,
              "ticks": ""
             }
            },
            "type": "scattergl"
           }
          ],
          "scattermap": [
           {
            "marker": {
             "colorbar": {
              "outlinewidth": 0,
              "ticks": ""
             }
            },
            "type": "scattermap"
           }
          ],
          "scattermapbox": [
           {
            "marker": {
             "colorbar": {
              "outlinewidth": 0,
              "ticks": ""
             }
            },
            "type": "scattermapbox"
           }
          ],
          "scatterpolar": [
           {
            "marker": {
             "colorbar": {
              "outlinewidth": 0,
              "ticks": ""
             }
            },
            "type": "scatterpolar"
           }
          ],
          "scatterpolargl": [
           {
            "marker": {
             "colorbar": {
              "outlinewidth": 0,
              "ticks": ""
             }
            },
            "type": "scatterpolargl"
           }
          ],
          "scatterternary": [
           {
            "marker": {
             "colorbar": {
              "outlinewidth": 0,
              "ticks": ""
             }
            },
            "type": "scatterternary"
           }
          ],
          "surface": [
           {
            "colorbar": {
             "outlinewidth": 0,
             "ticks": ""
            },
            "colorscale": [
             [
              0,
              "#0d0887"
             ],
             [
              0.1111111111111111,
              "#46039f"
             ],
             [
              0.2222222222222222,
              "#7201a8"
             ],
             [
              0.3333333333333333,
              "#9c179e"
             ],
             [
              0.4444444444444444,
              "#bd3786"
             ],
             [
              0.5555555555555556,
              "#d8576b"
             ],
             [
              0.6666666666666666,
              "#ed7953"
             ],
             [
              0.7777777777777778,
              "#fb9f3a"
             ],
             [
              0.8888888888888888,
              "#fdca26"
             ],
             [
              1,
              "#f0f921"
             ]
            ],
            "type": "surface"
           }
          ],
          "table": [
           {
            "cells": {
             "fill": {
              "color": "#EBF0F8"
             },
             "line": {
              "color": "white"
             }
            },
            "header": {
             "fill": {
              "color": "#C8D4E3"
             },
             "line": {
              "color": "white"
             }
            },
            "type": "table"
           }
          ]
         },
         "layout": {
          "annotationdefaults": {
           "arrowcolor": "#2a3f5f",
           "arrowhead": 0,
           "arrowwidth": 1
          },
          "autotypenumbers": "strict",
          "coloraxis": {
           "colorbar": {
            "outlinewidth": 0,
            "ticks": ""
           }
          },
          "colorscale": {
           "diverging": [
            [
             0,
             "#8e0152"
            ],
            [
             0.1,
             "#c51b7d"
            ],
            [
             0.2,
             "#de77ae"
            ],
            [
             0.3,
             "#f1b6da"
            ],
            [
             0.4,
             "#fde0ef"
            ],
            [
             0.5,
             "#f7f7f7"
            ],
            [
             0.6,
             "#e6f5d0"
            ],
            [
             0.7,
             "#b8e186"
            ],
            [
             0.8,
             "#7fbc41"
            ],
            [
             0.9,
             "#4d9221"
            ],
            [
             1,
             "#276419"
            ]
           ],
           "sequential": [
            [
             0,
             "#0d0887"
            ],
            [
             0.1111111111111111,
             "#46039f"
            ],
            [
             0.2222222222222222,
             "#7201a8"
            ],
            [
             0.3333333333333333,
             "#9c179e"
            ],
            [
             0.4444444444444444,
             "#bd3786"
            ],
            [
             0.5555555555555556,
             "#d8576b"
            ],
            [
             0.6666666666666666,
             "#ed7953"
            ],
            [
             0.7777777777777778,
             "#fb9f3a"
            ],
            [
             0.8888888888888888,
             "#fdca26"
            ],
            [
             1,
             "#f0f921"
            ]
           ],
           "sequentialminus": [
            [
             0,
             "#0d0887"
            ],
            [
             0.1111111111111111,
             "#46039f"
            ],
            [
             0.2222222222222222,
             "#7201a8"
            ],
            [
             0.3333333333333333,
             "#9c179e"
            ],
            [
             0.4444444444444444,
             "#bd3786"
            ],
            [
             0.5555555555555556,
             "#d8576b"
            ],
            [
             0.6666666666666666,
             "#ed7953"
            ],
            [
             0.7777777777777778,
             "#fb9f3a"
            ],
            [
             0.8888888888888888,
             "#fdca26"
            ],
            [
             1,
             "#f0f921"
            ]
           ]
          },
          "colorway": [
           "#636efa",
           "#EF553B",
           "#00cc96",
           "#ab63fa",
           "#FFA15A",
           "#19d3f3",
           "#FF6692",
           "#B6E880",
           "#FF97FF",
           "#FECB52"
          ],
          "font": {
           "color": "#2a3f5f"
          },
          "geo": {
           "bgcolor": "white",
           "lakecolor": "white",
           "landcolor": "#E5ECF6",
           "showlakes": true,
           "showland": true,
           "subunitcolor": "white"
          },
          "hoverlabel": {
           "align": "left"
          },
          "hovermode": "closest",
          "mapbox": {
           "style": "light"
          },
          "paper_bgcolor": "white",
          "plot_bgcolor": "#E5ECF6",
          "polar": {
           "angularaxis": {
            "gridcolor": "white",
            "linecolor": "white",
            "ticks": ""
           },
           "bgcolor": "#E5ECF6",
           "radialaxis": {
            "gridcolor": "white",
            "linecolor": "white",
            "ticks": ""
           }
          },
          "scene": {
           "xaxis": {
            "backgroundcolor": "#E5ECF6",
            "gridcolor": "white",
            "gridwidth": 2,
            "linecolor": "white",
            "showbackground": true,
            "ticks": "",
            "zerolinecolor": "white"
           },
           "yaxis": {
            "backgroundcolor": "#E5ECF6",
            "gridcolor": "white",
            "gridwidth": 2,
            "linecolor": "white",
            "showbackground": true,
            "ticks": "",
            "zerolinecolor": "white"
           },
           "zaxis": {
            "backgroundcolor": "#E5ECF6",
            "gridcolor": "white",
            "gridwidth": 2,
            "linecolor": "white",
            "showbackground": true,
            "ticks": "",
            "zerolinecolor": "white"
           }
          },
          "shapedefaults": {
           "line": {
            "color": "#2a3f5f"
           }
          },
          "ternary": {
           "aaxis": {
            "gridcolor": "white",
            "linecolor": "white",
            "ticks": ""
           },
           "baxis": {
            "gridcolor": "white",
            "linecolor": "white",
            "ticks": ""
           },
           "bgcolor": "#E5ECF6",
           "caxis": {
            "gridcolor": "white",
            "linecolor": "white",
            "ticks": ""
           }
          },
          "title": {
           "x": 0.05
          },
          "xaxis": {
           "automargin": true,
           "gridcolor": "white",
           "linecolor": "white",
           "ticks": "",
           "title": {
            "standoff": 15
           },
           "zerolinecolor": "white",
           "zerolinewidth": 2
          },
          "yaxis": {
           "automargin": true,
           "gridcolor": "white",
           "linecolor": "white",
           "ticks": "",
           "title": {
            "standoff": 15
           },
           "zerolinecolor": "white",
           "zerolinewidth": 2
          }
         }
        },
        "xaxis": {
         "anchor": "y",
         "domain": [
          0,
          1
         ],
         "title": {
          "text": "continent"
         }
        },
        "yaxis": {
         "anchor": "x",
         "domain": [
          0,
          1
         ],
         "title": {
          "text": "value"
         }
        }
       }
      }
     },
     "metadata": {},
     "output_type": "display_data"
    }
   ],
   "source": [
    "px.bar(by_continent)"
   ]
  },
  {
   "cell_type": "code",
   "execution_count": 44,
   "metadata": {},
   "outputs": [
    {
     "name": "stdout",
     "output_type": "stream",
     "text": [
      "No matches found for:\n",
      "- Albania\n",
      "0\n",
      "- Angola\n",
      "1\n",
      "- Azerbaijan\n",
      "2\n",
      "- Belarus\n",
      "3\n",
      "- Bolivia\n",
      "4\n",
      "- Bosnia Herzegovina\n",
      "5\n",
      "- Britain\n",
      "6\n",
      "- Burkina Faso\n",
      "7\n",
      "- Czech Rep.\n",
      "8\n",
      "- El Salvador\n",
      "9\n",
      "- Ethiopia\n",
      "10\n",
      "- Georgia\n",
      "11\n",
      "- Great Britain\n",
      "12\n",
      "- Guatemala\n",
      "13\n",
      "- Honduras\n",
      "14\n",
      "- Hong Kong SAR\n",
      "15\n",
      "- Iran\n",
      "16\n",
      "- Ivory Coast\n",
      "17\n",
      "- Japan\n",
      "18\n",
      "- Kuwait\n",
      "19\n",
      "- Kyrgyzstan\n",
      "20\n",
      "- Libya\n",
      "21\n",
      "- Macau SAR\n",
      "22\n",
      "- Maldives\n",
      "23\n",
      "- Mali\n",
      "24\n",
      "- Mongolia\n",
      "25\n",
      "- Montenegro\n",
      "26\n",
      "- Nicaragua\n",
      "27\n",
      "- North Macedonia\n",
      "28\n",
      "- Northern Ireland\n",
      "29\n",
      "- Palest. ter.\n",
      "30\n",
      "- Peru\n",
      "31\n",
      "- S. Korea\n",
      "32\n",
      "- Senegal\n",
      "33\n",
      "- Serbia\n",
      "34\n",
      "- South Korea\n",
      "35\n",
      "- Taiwan\n",
      "36\n",
      "- Tajikistan\n",
      "37\n",
      "- Tunisia\n",
      "38\n",
      "- Uzbekistan\n",
      "39\n",
      "- Venezuela\n",
      "40\n",
      "- Vietnam\n",
      "41\n"
     ]
    }
   ],
   "source": [
    "df = pd.read_csv('responses/other/country_jsd.csv')\n",
    "\n",
    "es = pd.read_csv('responses/other/english_speakers.csv')\n",
    "\n",
    "merged_df = df.merge(\n",
    "    es[['Country Name', 'Total English speakers']],  \n",
    "    on='Country Name',                           \n",
    "    how='left',                                 \n",
    "    indicator=True                                \n",
    ")\n",
    "\n",
    "\n",
    "unmatched_df_countries = merged_df[merged_df['_merge'] == 'left_only']['Country Name']\n",
    "\n",
    "i = 0\n",
    "if not unmatched_df_countries.empty:\n",
    "    print(\"No matches found for:\")\n",
    "    for country in unmatched_df_countries:\n",
    "        print(f\"- {country}\")\n",
    "        print (i)\n",
    "        i+=1\n",
    "else:\n",
    "    print(\"All good.\")\n",
    "\n",
    "df['es'] = merged_df['Total English speakers']"
   ]
  },
  {
   "cell_type": "code",
   "execution_count": 46,
   "metadata": {},
   "outputs": [
    {
     "name": "stdout",
     "output_type": "stream",
     "text": [
      "Dropping 42 rows with invalid es\n",
      "float64\n"
     ]
    }
   ],
   "source": [
    "\n",
    "df['es'] = pd.to_numeric(\n",
    "    df['es'].str.replace(',', ''),\n",
    "    errors='coerce'\n",
    ")\n",
    "\n",
    "n_bad = df['es'].isna().sum()\n",
    "print(f\"Dropping {n_bad} rows with invalid es\")\n",
    "\n",
    "df = df.dropna(subset=['es'])\n",
    "print(df['es'].dtype)"
   ]
  },
  {
   "cell_type": "code",
   "execution_count": 48,
   "metadata": {},
   "outputs": [
    {
     "data": {
      "application/vnd.plotly.v1+json": {
       "config": {
        "plotlyServerURL": "https://plot.ly"
       },
       "data": [
        {
         "hovertemplate": "jsd=%{x}<br>es=%{y}<extra></extra>",
         "legendgroup": "",
         "marker": {
          "color": "#636efa",
          "symbol": "circle"
         },
         "mode": "markers",
         "name": "",
         "orientation": "v",
         "showlegend": false,
         "type": "scatter",
         "x": {
          "bdata": "jNu7Wg2V1T+U7DUooe/LP2H1cqxlF9E/7T8SLHWgzz/2jiAhzBvNP1ILECSyxdQ/sO1Frh1c1D9p5idVW+TPPxaoT82aFM8/5SPwgM0tzz96HhnJI6/KP2/tLFzgRdI/Oa9dn87P0j/7MlgJDnzPPwTQSEsT/M8/BSfeCirYzj/nCw1z10TWP2U6tnr6hdQ/quht9gi+0T9NOsDjW3HRP04QuItCMdI/2y7BZ2/Wxz8jtYFt8MrPPwXJRpXIMNA/Jl045N2TzT96Pxzi42rMPzOClNJNctE/25inFne80T9bQSvTyCbOP4x9NIhaD9A/o5L8bV9Fyz98Dr3WiO/OP43jKJ5eTc4/l2D8iCEK0j8lUyK3fMvKP6vnRjA6adE/Przoy+dK0T+PVYcfbJrQP8mJOxIir9I/ruaDDWo0zz/JmTu1l7bTP/bIwj2FANo/mGVDXExF0T/FyAVIkb3QP9LGR64EQNA/dM9H3qWw0T9T/ha4KuLRP1sCiHlx4NA/M435f4mPyz9T2uhlumrTP3SdkA3cydQ/vcGXCqxkzD84r9Ec1H3OPwwN4z90/s4/254zrUWY0z+ZEV467o7NP5zSTmHl59A/pmGk3g6hzj+WsrjGawjSP7CJ8T0vcNE/Ubsjja9Izz9OON+OfL/QP98yL2kXSMw/e6WiR5KR0D/ljLnJ8DnPP380SEiZoM0/+cVInBF80D9PdzEN+KrTPw==",
          "dtype": "f8"
         },
         "xaxis": "x",
         "y": {
          "bdata": "AAAAAEBz0UAAAACAVABFQQAAAAAYkgFBAAAAAKAWdkEAAAAA3HVXQQAAAADdkWRBAAAAAITXV0EAAAAAYONmQQAAAADg/TxBAAAA4JYRfUEAAAAAgy84QQAAAADQEmNBAAAAABa3PkEAAAAAYOM2QQAAAABgciRBAAAAAJxoVEEAAAAANDJSQQAAAABAdwtBAAAAULkohUEAAAAADh4jQQAAAAAwwU1BAAAAMEFtgkEAAAAAB+OFQQAAAGCHy3BBAAAAABj7VEEAAACAw4ZCQQAAAABMgRZBAAAApHU+q0EAAACMG3+UQQAAAAB7KWVBAAAAAJKrV0EAAAAAqvpeQQAAAACNp0ZBAAAAAJeaPEEAAAA4f7WDQQAAAADg/SxBAAAAABAIOkEAAAAAqqsqQQAAAABst21BAAAAwE7rbUEAAAAA5UFaQQAAAACAT0JBAAAAAEoWbUEAAAAAuh5SQQAAAADRz51BAAAAAIgqUUEAAABMhsKZQQAAALyot5BBAAAAAKweckEAAAAAECBGQQAAAADDCjNBAAAAALiBVkEAAADAxFNTQQAAAAAk5W9BAAAAgFdcREEAAAAAwFw1QQAAAACQdjJBAAAAACDWY0EAAAAAxJ1hQQAAAABZBUlBAAAAAHg4XUEAAAAw+lNwQQAAAABg42ZBAAAAAPzhckEAAAAATDpwQQAAAHB/1rFBAAAAAICiKUEAAADAeppmQQ==",
          "dtype": "f8"
         },
         "yaxis": "y"
        },
        {
         "hovertemplate": "<b>OLS trendline</b><br>es = -1.59871e+08 * jsd + 6.41318e+07<br>R<sup>2</sup>=0.015040<br><br>jsd=%{x}<br>es=%{y} <b>(trend)</b><extra></extra>",
         "legendgroup": "",
         "marker": {
          "color": "#636efa",
          "symbol": "circle"
         },
         "mode": "lines",
         "name": "",
         "showlegend": false,
         "type": "scatter",
         "x": {
          "bdata": "2y7BZ2/Wxz96HhnJI6/KPyVTIrd8y8o/o5L8bV9Fyz8zjfl/iY/LP5TsNSih78s/3zIvaRdIzD+9wZcKrGTMP3o/HOLjasw/9o4gIcwbzT+ZEV467o7NPyZdOOTdk80/fzRISJmgzT9bQSvTyCbOP43jKJ5eTc4/OK/RHNR9zj+mYaTeDqHOPwUn3goq2M4/fA691ojvzj8MDeM/dP7OPxaoT82aFM8/5SPwgM0tzz+u5oMNajTPP+WMucnwOc8/Ubsjja9Izz/7MlgJDnzPP+0/Eix1oM8/I7WBbfDKzz9p5idVW+TPPwTQSEsT/M8/jH00iFoP0D8FyUaVyDDQP9LGR64EQNA/+cVInBF80D97paJHkpHQP49Vhx9smtA/xcgFSJG90D9OON+OfL/QP1sCiHlx4NA/nNJOYeXn0D9h9XKsZRfRP5hlQ1xMRdE/Przoy+dK0T+r50YwOmnRP7CJ8T0vcNE/TTrA41tx0T8zgpTSTXLRP3TPR96lsNE/25inFne80T+q6G32CL7RP1P+Frgq4tE/lrK4xmsI0j+XYPyIIQrSP04QuItCMdI/b+0sXOBF0j/JiTsSIq/SPzmvXZ/Oz9I/U9roZbpq0z/bnjOtRZjTP093MQ34qtM/yZk7tZe20z+w7UWuHVzUP2U6tnr6hdQ/UgsQJLLF1D90nZAN3MnUP4zbu1oNldU/5wsNc9dE1j/2yMI9hQDaPw==",
          "dtype": "f8"
         },
         "xaxis": "x",
         "y": {
          "bdata": "3KVyfy5igEE6v9TJYGB9QYN9IM+cPn1BCAIsLm6tfEEWSa03F1V8QWZFvLeh4ntBeEHq+0J5e0F0uKjkN1d7QR4QpMvPT3tBjvhxZxd9ekHS9gDK8/N5QUrqjpgS7nlB4NccOejeeUGmc53qEj95QbIBAiMdEXlBel80hmTXeEHe2cD4ba14QWD4jW7Ka3hBSproHfRPeEGAnV2vLj54QSwRZUvMI3hBIuYvpMgFeEFUvXWW6P13QUSUp3JT93dBNCR2MsPld0EGFGozk6h3QWTxaNs2fXdBZKEV95xKd0FMsc5dVix3QazLBNgVEHdBaiH9hNXmdkE8Va3wMZd2QbS/ydvmcnZBqObHZ9jjdUHaX3LNnrB1QdAITfSIm3VBMFe/Tc9HdUH6bUnzPEN1QUL/HfK59HRBEGxRzfjidEEcu1m2z3F0QSiEgGp2BHRBdHc10hr3c0HMAiy33q5zQS7hb8RLnnNBdAIvi3+bc0GoScMxP5lzQTy+sBK6BHNB0IFQL5PockHCeQXQ1eRyQU43pmfCjnJB6u13taAzckFec3zZjS9yQZDl0aJW0nFB/g2BdjmhcUHM5iKIeaZwQWyCwOuiWHBBzKd4ViXPbUFE+3JDJvZsQXiEBGYRnWxBqB5Rxa9lbEGMVfxeC1FpQWQAJseWiWhBcMuNPwFaZ0G0pGirKkZnQUzT2UMMfmNBaJrcE344YEGArJkAAw4pwQ==",
          "dtype": "f8"
         },
         "yaxis": "y"
        }
       ],
       "layout": {
        "legend": {
         "tracegroupgap": 0
        },
        "margin": {
         "t": 60
        },
        "template": {
         "data": {
          "bar": [
           {
            "error_x": {
             "color": "#2a3f5f"
            },
            "error_y": {
             "color": "#2a3f5f"
            },
            "marker": {
             "line": {
              "color": "#E5ECF6",
              "width": 0.5
             },
             "pattern": {
              "fillmode": "overlay",
              "size": 10,
              "solidity": 0.2
             }
            },
            "type": "bar"
           }
          ],
          "barpolar": [
           {
            "marker": {
             "line": {
              "color": "#E5ECF6",
              "width": 0.5
             },
             "pattern": {
              "fillmode": "overlay",
              "size": 10,
              "solidity": 0.2
             }
            },
            "type": "barpolar"
           }
          ],
          "carpet": [
           {
            "aaxis": {
             "endlinecolor": "#2a3f5f",
             "gridcolor": "white",
             "linecolor": "white",
             "minorgridcolor": "white",
             "startlinecolor": "#2a3f5f"
            },
            "baxis": {
             "endlinecolor": "#2a3f5f",
             "gridcolor": "white",
             "linecolor": "white",
             "minorgridcolor": "white",
             "startlinecolor": "#2a3f5f"
            },
            "type": "carpet"
           }
          ],
          "choropleth": [
           {
            "colorbar": {
             "outlinewidth": 0,
             "ticks": ""
            },
            "type": "choropleth"
           }
          ],
          "contour": [
           {
            "colorbar": {
             "outlinewidth": 0,
             "ticks": ""
            },
            "colorscale": [
             [
              0,
              "#0d0887"
             ],
             [
              0.1111111111111111,
              "#46039f"
             ],
             [
              0.2222222222222222,
              "#7201a8"
             ],
             [
              0.3333333333333333,
              "#9c179e"
             ],
             [
              0.4444444444444444,
              "#bd3786"
             ],
             [
              0.5555555555555556,
              "#d8576b"
             ],
             [
              0.6666666666666666,
              "#ed7953"
             ],
             [
              0.7777777777777778,
              "#fb9f3a"
             ],
             [
              0.8888888888888888,
              "#fdca26"
             ],
             [
              1,
              "#f0f921"
             ]
            ],
            "type": "contour"
           }
          ],
          "contourcarpet": [
           {
            "colorbar": {
             "outlinewidth": 0,
             "ticks": ""
            },
            "type": "contourcarpet"
           }
          ],
          "heatmap": [
           {
            "colorbar": {
             "outlinewidth": 0,
             "ticks": ""
            },
            "colorscale": [
             [
              0,
              "#0d0887"
             ],
             [
              0.1111111111111111,
              "#46039f"
             ],
             [
              0.2222222222222222,
              "#7201a8"
             ],
             [
              0.3333333333333333,
              "#9c179e"
             ],
             [
              0.4444444444444444,
              "#bd3786"
             ],
             [
              0.5555555555555556,
              "#d8576b"
             ],
             [
              0.6666666666666666,
              "#ed7953"
             ],
             [
              0.7777777777777778,
              "#fb9f3a"
             ],
             [
              0.8888888888888888,
              "#fdca26"
             ],
             [
              1,
              "#f0f921"
             ]
            ],
            "type": "heatmap"
           }
          ],
          "histogram": [
           {
            "marker": {
             "pattern": {
              "fillmode": "overlay",
              "size": 10,
              "solidity": 0.2
             }
            },
            "type": "histogram"
           }
          ],
          "histogram2d": [
           {
            "colorbar": {
             "outlinewidth": 0,
             "ticks": ""
            },
            "colorscale": [
             [
              0,
              "#0d0887"
             ],
             [
              0.1111111111111111,
              "#46039f"
             ],
             [
              0.2222222222222222,
              "#7201a8"
             ],
             [
              0.3333333333333333,
              "#9c179e"
             ],
             [
              0.4444444444444444,
              "#bd3786"
             ],
             [
              0.5555555555555556,
              "#d8576b"
             ],
             [
              0.6666666666666666,
              "#ed7953"
             ],
             [
              0.7777777777777778,
              "#fb9f3a"
             ],
             [
              0.8888888888888888,
              "#fdca26"
             ],
             [
              1,
              "#f0f921"
             ]
            ],
            "type": "histogram2d"
           }
          ],
          "histogram2dcontour": [
           {
            "colorbar": {
             "outlinewidth": 0,
             "ticks": ""
            },
            "colorscale": [
             [
              0,
              "#0d0887"
             ],
             [
              0.1111111111111111,
              "#46039f"
             ],
             [
              0.2222222222222222,
              "#7201a8"
             ],
             [
              0.3333333333333333,
              "#9c179e"
             ],
             [
              0.4444444444444444,
              "#bd3786"
             ],
             [
              0.5555555555555556,
              "#d8576b"
             ],
             [
              0.6666666666666666,
              "#ed7953"
             ],
             [
              0.7777777777777778,
              "#fb9f3a"
             ],
             [
              0.8888888888888888,
              "#fdca26"
             ],
             [
              1,
              "#f0f921"
             ]
            ],
            "type": "histogram2dcontour"
           }
          ],
          "mesh3d": [
           {
            "colorbar": {
             "outlinewidth": 0,
             "ticks": ""
            },
            "type": "mesh3d"
           }
          ],
          "parcoords": [
           {
            "line": {
             "colorbar": {
              "outlinewidth": 0,
              "ticks": ""
             }
            },
            "type": "parcoords"
           }
          ],
          "pie": [
           {
            "automargin": true,
            "type": "pie"
           }
          ],
          "scatter": [
           {
            "fillpattern": {
             "fillmode": "overlay",
             "size": 10,
             "solidity": 0.2
            },
            "type": "scatter"
           }
          ],
          "scatter3d": [
           {
            "line": {
             "colorbar": {
              "outlinewidth": 0,
              "ticks": ""
             }
            },
            "marker": {
             "colorbar": {
              "outlinewidth": 0,
              "ticks": ""
             }
            },
            "type": "scatter3d"
           }
          ],
          "scattercarpet": [
           {
            "marker": {
             "colorbar": {
              "outlinewidth": 0,
              "ticks": ""
             }
            },
            "type": "scattercarpet"
           }
          ],
          "scattergeo": [
           {
            "marker": {
             "colorbar": {
              "outlinewidth": 0,
              "ticks": ""
             }
            },
            "type": "scattergeo"
           }
          ],
          "scattergl": [
           {
            "marker": {
             "colorbar": {
              "outlinewidth": 0,
              "ticks": ""
             }
            },
            "type": "scattergl"
           }
          ],
          "scattermap": [
           {
            "marker": {
             "colorbar": {
              "outlinewidth": 0,
              "ticks": ""
             }
            },
            "type": "scattermap"
           }
          ],
          "scattermapbox": [
           {
            "marker": {
             "colorbar": {
              "outlinewidth": 0,
              "ticks": ""
             }
            },
            "type": "scattermapbox"
           }
          ],
          "scatterpolar": [
           {
            "marker": {
             "colorbar": {
              "outlinewidth": 0,
              "ticks": ""
             }
            },
            "type": "scatterpolar"
           }
          ],
          "scatterpolargl": [
           {
            "marker": {
             "colorbar": {
              "outlinewidth": 0,
              "ticks": ""
             }
            },
            "type": "scatterpolargl"
           }
          ],
          "scatterternary": [
           {
            "marker": {
             "colorbar": {
              "outlinewidth": 0,
              "ticks": ""
             }
            },
            "type": "scatterternary"
           }
          ],
          "surface": [
           {
            "colorbar": {
             "outlinewidth": 0,
             "ticks": ""
            },
            "colorscale": [
             [
              0,
              "#0d0887"
             ],
             [
              0.1111111111111111,
              "#46039f"
             ],
             [
              0.2222222222222222,
              "#7201a8"
             ],
             [
              0.3333333333333333,
              "#9c179e"
             ],
             [
              0.4444444444444444,
              "#bd3786"
             ],
             [
              0.5555555555555556,
              "#d8576b"
             ],
             [
              0.6666666666666666,
              "#ed7953"
             ],
             [
              0.7777777777777778,
              "#fb9f3a"
             ],
             [
              0.8888888888888888,
              "#fdca26"
             ],
             [
              1,
              "#f0f921"
             ]
            ],
            "type": "surface"
           }
          ],
          "table": [
           {
            "cells": {
             "fill": {
              "color": "#EBF0F8"
             },
             "line": {
              "color": "white"
             }
            },
            "header": {
             "fill": {
              "color": "#C8D4E3"
             },
             "line": {
              "color": "white"
             }
            },
            "type": "table"
           }
          ]
         },
         "layout": {
          "annotationdefaults": {
           "arrowcolor": "#2a3f5f",
           "arrowhead": 0,
           "arrowwidth": 1
          },
          "autotypenumbers": "strict",
          "coloraxis": {
           "colorbar": {
            "outlinewidth": 0,
            "ticks": ""
           }
          },
          "colorscale": {
           "diverging": [
            [
             0,
             "#8e0152"
            ],
            [
             0.1,
             "#c51b7d"
            ],
            [
             0.2,
             "#de77ae"
            ],
            [
             0.3,
             "#f1b6da"
            ],
            [
             0.4,
             "#fde0ef"
            ],
            [
             0.5,
             "#f7f7f7"
            ],
            [
             0.6,
             "#e6f5d0"
            ],
            [
             0.7,
             "#b8e186"
            ],
            [
             0.8,
             "#7fbc41"
            ],
            [
             0.9,
             "#4d9221"
            ],
            [
             1,
             "#276419"
            ]
           ],
           "sequential": [
            [
             0,
             "#0d0887"
            ],
            [
             0.1111111111111111,
             "#46039f"
            ],
            [
             0.2222222222222222,
             "#7201a8"
            ],
            [
             0.3333333333333333,
             "#9c179e"
            ],
            [
             0.4444444444444444,
             "#bd3786"
            ],
            [
             0.5555555555555556,
             "#d8576b"
            ],
            [
             0.6666666666666666,
             "#ed7953"
            ],
            [
             0.7777777777777778,
             "#fb9f3a"
            ],
            [
             0.8888888888888888,
             "#fdca26"
            ],
            [
             1,
             "#f0f921"
            ]
           ],
           "sequentialminus": [
            [
             0,
             "#0d0887"
            ],
            [
             0.1111111111111111,
             "#46039f"
            ],
            [
             0.2222222222222222,
             "#7201a8"
            ],
            [
             0.3333333333333333,
             "#9c179e"
            ],
            [
             0.4444444444444444,
             "#bd3786"
            ],
            [
             0.5555555555555556,
             "#d8576b"
            ],
            [
             0.6666666666666666,
             "#ed7953"
            ],
            [
             0.7777777777777778,
             "#fb9f3a"
            ],
            [
             0.8888888888888888,
             "#fdca26"
            ],
            [
             1,
             "#f0f921"
            ]
           ]
          },
          "colorway": [
           "#636efa",
           "#EF553B",
           "#00cc96",
           "#ab63fa",
           "#FFA15A",
           "#19d3f3",
           "#FF6692",
           "#B6E880",
           "#FF97FF",
           "#FECB52"
          ],
          "font": {
           "color": "#2a3f5f"
          },
          "geo": {
           "bgcolor": "white",
           "lakecolor": "white",
           "landcolor": "#E5ECF6",
           "showlakes": true,
           "showland": true,
           "subunitcolor": "white"
          },
          "hoverlabel": {
           "align": "left"
          },
          "hovermode": "closest",
          "mapbox": {
           "style": "light"
          },
          "paper_bgcolor": "white",
          "plot_bgcolor": "#E5ECF6",
          "polar": {
           "angularaxis": {
            "gridcolor": "white",
            "linecolor": "white",
            "ticks": ""
           },
           "bgcolor": "#E5ECF6",
           "radialaxis": {
            "gridcolor": "white",
            "linecolor": "white",
            "ticks": ""
           }
          },
          "scene": {
           "xaxis": {
            "backgroundcolor": "#E5ECF6",
            "gridcolor": "white",
            "gridwidth": 2,
            "linecolor": "white",
            "showbackground": true,
            "ticks": "",
            "zerolinecolor": "white"
           },
           "yaxis": {
            "backgroundcolor": "#E5ECF6",
            "gridcolor": "white",
            "gridwidth": 2,
            "linecolor": "white",
            "showbackground": true,
            "ticks": "",
            "zerolinecolor": "white"
           },
           "zaxis": {
            "backgroundcolor": "#E5ECF6",
            "gridcolor": "white",
            "gridwidth": 2,
            "linecolor": "white",
            "showbackground": true,
            "ticks": "",
            "zerolinecolor": "white"
           }
          },
          "shapedefaults": {
           "line": {
            "color": "#2a3f5f"
           }
          },
          "ternary": {
           "aaxis": {
            "gridcolor": "white",
            "linecolor": "white",
            "ticks": ""
           },
           "baxis": {
            "gridcolor": "white",
            "linecolor": "white",
            "ticks": ""
           },
           "bgcolor": "#E5ECF6",
           "caxis": {
            "gridcolor": "white",
            "linecolor": "white",
            "ticks": ""
           }
          },
          "title": {
           "x": 0.05
          },
          "xaxis": {
           "automargin": true,
           "gridcolor": "white",
           "linecolor": "white",
           "ticks": "",
           "title": {
            "standoff": 15
           },
           "zerolinecolor": "white",
           "zerolinewidth": 2
          },
          "yaxis": {
           "automargin": true,
           "gridcolor": "white",
           "linecolor": "white",
           "ticks": "",
           "title": {
            "standoff": 15
           },
           "zerolinecolor": "white",
           "zerolinewidth": 2
          }
         }
        },
        "xaxis": {
         "anchor": "y",
         "domain": [
          0,
          1
         ],
         "title": {
          "text": "jsd"
         }
        },
        "yaxis": {
         "anchor": "x",
         "domain": [
          0,
          1
         ],
         "title": {
          "text": "es"
         }
        }
       }
      }
     },
     "metadata": {},
     "output_type": "display_data"
    }
   ],
   "source": [
    "px.scatter(df, 'jsd', 'es', trendline='ols')"
   ]
  }
 ],
 "metadata": {
  "kernelspec": {
   "display_name": ".venv",
   "language": "python",
   "name": "python3"
  },
  "language_info": {
   "codemirror_mode": {
    "name": "ipython",
    "version": 3
   },
   "file_extension": ".py",
   "mimetype": "text/x-python",
   "name": "python",
   "nbconvert_exporter": "python",
   "pygments_lexer": "ipython3",
   "version": "3.13.3"
  }
 },
 "nbformat": 4,
 "nbformat_minor": 2
}
