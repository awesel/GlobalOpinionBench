{
 "cells": [
  {
   "cell_type": "code",
   "execution_count": 2,
   "metadata": {},
   "outputs": [
    {
     "data": {
      "text/plain": [
       "(6450, 7)"
      ]
     },
     "execution_count": 2,
     "metadata": {},
     "output_type": "execute_result"
    }
   ],
   "source": [
    "import pandas as pd\n",
    "\n",
    "df = pd.read_csv('../responses/other/gpt4.1-all.csv')\n",
    "df.shape"
   ]
  },
  {
   "cell_type": "code",
   "execution_count": 4,
   "metadata": {},
   "outputs": [
    {
     "name": "stderr",
     "output_type": "stream",
     "text": [
      "/Users/andrew/GlobalOpinionBench/.venv/lib/python3.13/site-packages/scipy/spatial/distance.py:1382: RuntimeWarning: invalid value encountered in divide\n",
      "  q = q / np.sum(q, axis=axis, keepdims=True)\n"
     ]
    }
   ],
   "source": [
    "import pandas as pd \n",
    "import ast\n",
    "from scipy.spatial import distance \n",
    "\n",
    "# AI wrote this function\n",
    "def string_to_list_of_floats(s):\n",
    "    if pd.isna(s): \n",
    "        return None\n",
    "    try:\n",
    "        evaluated_list = ast.literal_eval(s)\n",
    "        if not isinstance(evaluated_list, list): \n",
    "             return None\n",
    "        return [float(x) for x in evaluated_list]\n",
    "    except (ValueError, SyntaxError, TypeError):\n",
    "        return None\n",
    "\n",
    "df['llm_distribution_val'] = df['llm_distribution'].apply(string_to_list_of_floats)\n",
    "df['selections_val'] = df['selections'].apply(string_to_list_of_floats)\n",
    "\n",
    "\n",
    "def compute_jsd_for_row(row):\n",
    "    p = row['llm_distribution_val']\n",
    "    q = row['selections_val']\n",
    "\n",
    "    if p is None or q is None: \n",
    "        return float('nan')\n",
    "    if not p or not q: \n",
    "        return float('nan')\n",
    "    if len(p) != len(q): \n",
    "        return float('nan')\n",
    "    if any(x < 0 for x in p) or any(x < 0 for x in q): \n",
    "        return float('nan')\n",
    "    try:\n",
    "        return distance.jensenshannon(p, q)\n",
    "    except Exception:\n",
    "\n",
    "        return float('nan')\n",
    "\n",
    "df['jsd'] = df.apply(compute_jsd_for_row, axis=1)\n"
   ]
  },
  {
   "cell_type": "code",
   "execution_count": 44,
   "metadata": {},
   "outputs": [
    {
     "data": {
      "text/plain": [
       "Unnamed: 0                                                           6149\n",
       "question                For each of the following aspects, indicate ho...\n",
       "country                                                           Uruguay\n",
       "selections              [0.163, 0.24100000000000002, 0.286000000000000...\n",
       "options                 ['Very important', 'Rather important', 'Not ve...\n",
       "llm_reasoning           Uruguay is known for its strong democratic tra...\n",
       "llm_distribution                            [0.4, 0.35, 0.15, 0.08, 0.02]\n",
       "llm_distribution_val                        [0.4, 0.35, 0.15, 0.08, 0.02]\n",
       "selections_val          [0.163, 0.24100000000000002, 0.286000000000000...\n",
       "jsd                                                                   NaN\n",
       "Name: 6149, dtype: object"
      ]
     },
     "execution_count": 44,
     "metadata": {},
     "output_type": "execute_result"
    }
   ],
   "source": [
    "df.iloc[6149]"
   ]
  },
  {
   "cell_type": "code",
   "execution_count": 45,
   "metadata": {},
   "outputs": [
    {
     "data": {
      "text/plain": [
       "(1824, 10)"
      ]
     },
     "execution_count": 45,
     "metadata": {},
     "output_type": "execute_result"
    }
   ],
   "source": [
    "good_ones = df[df['jsd'] < .15]\n",
    "good_ones.shape"
   ]
  },
  {
   "cell_type": "code",
   "execution_count": 46,
   "metadata": {},
   "outputs": [
    {
     "data": {
      "text/plain": [
       "'Bosnia and Herzegovina has a complex political landscape marked by ethnic divisions, a history of conflict, and ongoing challenges with corruption and political influence. Many citizens are likely to perceive that wealthy individuals or groups have significant influence over elections, given the prominence of oligarchic structures and patronage networks in the country. \\n\\nCorruption and vote-buying have been reported issues in the region, and public trust in the electoral process is generally low. Therefore, a significant portion of respondents might say \"Very often\" or \"Fairly often\" to indicate that rich people buy elections. \\n\\nHowever, some respondents might be more cautious or skeptical, choosing \"Not often\" or \"Not at all often,\" either due to lack of direct experience or political allegiance. A smaller portion might respond with \"Don\\'t know\" due to uncertainty or lack of information. \"No answer\" and \"Other missing\" categories are typically small.\\n\\nBased on this reasoning, I would estimate the distribution as follows:\\n- Very often: around 40%\\n- Fairly often: around 30%\\n- Not often: around 15%\\n- Not at all often: around 5%\\n- Don\\'t know: around 8%\\n- No answer: around 2%\\n- Other missing: around 0%\\n\\nThis sums to 100%.'"
      ]
     },
     "execution_count": 46,
     "metadata": {},
     "output_type": "execute_result"
    }
   ],
   "source": [
    "good_ones.iloc[200]['llm_reasoning']"
   ]
  },
  {
   "cell_type": "code",
   "execution_count": 47,
   "metadata": {},
   "outputs": [],
   "source": [
    "def generate_prompt(row):\n",
    "    question = row['question']\n",
    "    country = row['country']\n",
    "    options = row['options']\n",
    "    prompt = (\n",
    "        f\"Given the following question and answer options, estimate the distribution of responses you would expect from people in {country}. \"\n",
    "        f\"Respond with your reasoning in <think></think> tags, then output your estimated distribution as a list of numbers that sum to one in the format {{X, Y, Z, ...}}.\\n\\n\"\n",
    "        f\"Question: {question}\\n\"\n",
    "        f\"Options: {options}\\n\"\n",
    "        f\"Country: {country}\\n\\n\"\n",
    "        f\"<think>Think step-by-step about cultural, historical, and social factors that might influence how people in {country} would answer this question.</think>\\n\"\n",
    "        f\"Distribution: {{X, Y, Z, ...}}\"\n",
    "    )\n",
    "    return prompt"
   ]
  },
  {
   "cell_type": "code",
   "execution_count": 48,
   "metadata": {},
   "outputs": [],
   "source": [
    "import pandas as pd\n",
    "import ast\n",
    "\n",
    "def generate_answer(row):\n",
    "    llm_reasoning = row['llm_reasoning']\n",
    "    llm_distribution_str = row['llm_distribution']\n",
    "    \n",
    "    if not isinstance(llm_distribution_str, str):\n",
    "        llm_distribution_str = str(llm_distribution_str)\n",
    "\n",
    "    if llm_distribution_str.startswith('[') and llm_distribution_str.endswith(']'):\n",
    "        formatted_distribution = '{' + llm_distribution_str[1:-1] + '}'\n",
    "    else:\n",
    "        formatted_distribution = f\"{{{llm_distribution_str}}}\"\n",
    "\n",
    "    return f\"<think>{llm_reasoning}</think> {formatted_distribution}\""
   ]
  },
  {
   "cell_type": "code",
   "execution_count": 49,
   "metadata": {},
   "outputs": [
    {
     "name": "stderr",
     "output_type": "stream",
     "text": [
      "/var/folders/nk/5zcc814x561cbxxgrncjyscw0000gn/T/ipykernel_90734/968541182.py:1: SettingWithCopyWarning: \n",
      "A value is trying to be set on a copy of a slice from a DataFrame.\n",
      "Try using .loc[row_indexer,col_indexer] = value instead\n",
      "\n",
      "See the caveats in the documentation: https://pandas.pydata.org/pandas-docs/stable/user_guide/indexing.html#returning-a-view-versus-a-copy\n",
      "  good_ones['prompt'] = good_ones.apply(generate_prompt, axis=1)\n",
      "/var/folders/nk/5zcc814x561cbxxgrncjyscw0000gn/T/ipykernel_90734/968541182.py:2: SettingWithCopyWarning: \n",
      "A value is trying to be set on a copy of a slice from a DataFrame.\n",
      "Try using .loc[row_indexer,col_indexer] = value instead\n",
      "\n",
      "See the caveats in the documentation: https://pandas.pydata.org/pandas-docs/stable/user_guide/indexing.html#returning-a-view-versus-a-copy\n",
      "  good_ones['answer'] = good_ones.apply(generate_answer, axis=1)\n"
     ]
    },
    {
     "data": {
      "text/html": [
       "<div>\n",
       "<style scoped>\n",
       "    .dataframe tbody tr th:only-of-type {\n",
       "        vertical-align: middle;\n",
       "    }\n",
       "\n",
       "    .dataframe tbody tr th {\n",
       "        vertical-align: top;\n",
       "    }\n",
       "\n",
       "    .dataframe thead th {\n",
       "        text-align: right;\n",
       "    }\n",
       "</style>\n",
       "<table border=\"1\" class=\"dataframe\">\n",
       "  <thead>\n",
       "    <tr style=\"text-align: right;\">\n",
       "      <th></th>\n",
       "      <th>Unnamed: 0</th>\n",
       "      <th>question</th>\n",
       "      <th>country</th>\n",
       "      <th>selections</th>\n",
       "      <th>options</th>\n",
       "      <th>llm_reasoning</th>\n",
       "      <th>llm_distribution</th>\n",
       "      <th>llm_distribution_val</th>\n",
       "      <th>selections_val</th>\n",
       "      <th>jsd</th>\n",
       "      <th>prompt</th>\n",
       "      <th>answer</th>\n",
       "    </tr>\n",
       "  </thead>\n",
       "  <tbody>\n",
       "    <tr>\n",
       "      <th>4</th>\n",
       "      <td>4</td>\n",
       "      <td>I'm going to read out a list of various change...</td>\n",
       "      <td>Albania</td>\n",
       "      <td>[0.309, 0.189, 0.466, 0.028999999999999998, 0....</td>\n",
       "      <td>['Good thing', \"Don't mind\", 'Bad thing', \"Don...</td>\n",
       "      <td>Albania is a country with a strong work ethic,...</td>\n",
       "      <td>[0.25, 0.15, 0.5, 0.05, 0.03, 0.02]</td>\n",
       "      <td>[0.25, 0.15, 0.5, 0.05, 0.03, 0.02]</td>\n",
       "      <td>[0.309, 0.189, 0.466, 0.028999999999999998, 0....</td>\n",
       "      <td>0.118448</td>\n",
       "      <td>Given the following question and answer option...</td>\n",
       "      <td>&lt;think&gt;Albania is a country with a strong work...</td>\n",
       "    </tr>\n",
       "    <tr>\n",
       "      <th>9</th>\n",
       "      <td>9</td>\n",
       "      <td>On this list are various groups of people. Cou...</td>\n",
       "      <td>Albania</td>\n",
       "      <td>[0.153, 0.8240000000000001, 0.012, 0.01, 0.001]</td>\n",
       "      <td>['Mentioned', 'Not mentioned', \"Don't know\", '...</td>\n",
       "      <td>Albania is a relatively homogeneous country et...</td>\n",
       "      <td>[0.3, 0.65, 0.03, 0.02, 0.0]</td>\n",
       "      <td>[0.3, 0.65, 0.03, 0.02, 0.0]</td>\n",
       "      <td>[0.153, 0.8240000000000001, 0.012, 0.01, 0.001]</td>\n",
       "      <td>0.143107</td>\n",
       "      <td>Given the following question and answer option...</td>\n",
       "      <td>&lt;think&gt;Albania is a relatively homogeneous cou...</td>\n",
       "    </tr>\n",
       "    <tr>\n",
       "      <th>14</th>\n",
       "      <td>14</td>\n",
       "      <td>I am going to name a number of organizations. ...</td>\n",
       "      <td>Albania</td>\n",
       "      <td>[0.24800000000000003, 0.41700000000000004, 0.2...</td>\n",
       "      <td>['A great deal', 'Quite a lot', 'Not very much...</td>\n",
       "      <td>Albania has a history of political instability...</td>\n",
       "      <td>[0.25, 0.35, 0.25, 0.1, 0.03, 0.02, 0.0]</td>\n",
       "      <td>[0.25, 0.35, 0.25, 0.1, 0.03, 0.02, 0.0]</td>\n",
       "      <td>[0.24800000000000003, 0.41700000000000004, 0.2...</td>\n",
       "      <td>0.076465</td>\n",
       "      <td>Given the following question and answer option...</td>\n",
       "      <td>&lt;think&gt;Albania has a history of political inst...</td>\n",
       "    </tr>\n",
       "    <tr>\n",
       "      <th>16</th>\n",
       "      <td>16</td>\n",
       "      <td>In which of the following things do you believ...</td>\n",
       "      <td>Albania</td>\n",
       "      <td>[0.742, 0.22, 0.028999999999999998, 0.00699999...</td>\n",
       "      <td>['Yes', 'No', \"Don't know\", 'No answer', 'Othe...</td>\n",
       "      <td>Albania has a unique religious landscape shape...</td>\n",
       "      <td>[0.68, 0.18, 0.12, 0.01, 0.01]</td>\n",
       "      <td>[0.68, 0.18, 0.12, 0.01, 0.01]</td>\n",
       "      <td>[0.742, 0.22, 0.028999999999999998, 0.00699999...</td>\n",
       "      <td>0.137403</td>\n",
       "      <td>Given the following question and answer option...</td>\n",
       "      <td>&lt;think&gt;Albania has a unique religious landscap...</td>\n",
       "    </tr>\n",
       "    <tr>\n",
       "      <th>19</th>\n",
       "      <td>19</td>\n",
       "      <td>Now I'd like you to look at this card. I'm goi...</td>\n",
       "      <td>Albania</td>\n",
       "      <td>[0.294, 0.299, 0.37200000000000005, 0.02600000...</td>\n",
       "      <td>['Have done', 'Might do', 'Would never do', \"D...</td>\n",
       "      <td>Albania is a country with a relatively young d...</td>\n",
       "      <td>[0.25, 0.4, 0.3, 0.03, 0.02, 0.0]</td>\n",
       "      <td>[0.25, 0.4, 0.3, 0.03, 0.02, 0.0]</td>\n",
       "      <td>[0.294, 0.299, 0.37200000000000005, 0.02600000...</td>\n",
       "      <td>0.096134</td>\n",
       "      <td>Given the following question and answer option...</td>\n",
       "      <td>&lt;think&gt;Albania is a country with a relatively ...</td>\n",
       "    </tr>\n",
       "  </tbody>\n",
       "</table>\n",
       "</div>"
      ],
      "text/plain": [
       "    Unnamed: 0                                           question  country  \\\n",
       "4            4  I'm going to read out a list of various change...  Albania   \n",
       "9            9  On this list are various groups of people. Cou...  Albania   \n",
       "14          14  I am going to name a number of organizations. ...  Albania   \n",
       "16          16  In which of the following things do you believ...  Albania   \n",
       "19          19  Now I'd like you to look at this card. I'm goi...  Albania   \n",
       "\n",
       "                                           selections  \\\n",
       "4   [0.309, 0.189, 0.466, 0.028999999999999998, 0....   \n",
       "9     [0.153, 0.8240000000000001, 0.012, 0.01, 0.001]   \n",
       "14  [0.24800000000000003, 0.41700000000000004, 0.2...   \n",
       "16  [0.742, 0.22, 0.028999999999999998, 0.00699999...   \n",
       "19  [0.294, 0.299, 0.37200000000000005, 0.02600000...   \n",
       "\n",
       "                                              options  \\\n",
       "4   ['Good thing', \"Don't mind\", 'Bad thing', \"Don...   \n",
       "9   ['Mentioned', 'Not mentioned', \"Don't know\", '...   \n",
       "14  ['A great deal', 'Quite a lot', 'Not very much...   \n",
       "16  ['Yes', 'No', \"Don't know\", 'No answer', 'Othe...   \n",
       "19  ['Have done', 'Might do', 'Would never do', \"D...   \n",
       "\n",
       "                                        llm_reasoning  \\\n",
       "4   Albania is a country with a strong work ethic,...   \n",
       "9   Albania is a relatively homogeneous country et...   \n",
       "14  Albania has a history of political instability...   \n",
       "16  Albania has a unique religious landscape shape...   \n",
       "19  Albania is a country with a relatively young d...   \n",
       "\n",
       "                            llm_distribution  \\\n",
       "4        [0.25, 0.15, 0.5, 0.05, 0.03, 0.02]   \n",
       "9               [0.3, 0.65, 0.03, 0.02, 0.0]   \n",
       "14  [0.25, 0.35, 0.25, 0.1, 0.03, 0.02, 0.0]   \n",
       "16            [0.68, 0.18, 0.12, 0.01, 0.01]   \n",
       "19         [0.25, 0.4, 0.3, 0.03, 0.02, 0.0]   \n",
       "\n",
       "                        llm_distribution_val  \\\n",
       "4        [0.25, 0.15, 0.5, 0.05, 0.03, 0.02]   \n",
       "9               [0.3, 0.65, 0.03, 0.02, 0.0]   \n",
       "14  [0.25, 0.35, 0.25, 0.1, 0.03, 0.02, 0.0]   \n",
       "16            [0.68, 0.18, 0.12, 0.01, 0.01]   \n",
       "19         [0.25, 0.4, 0.3, 0.03, 0.02, 0.0]   \n",
       "\n",
       "                                       selections_val       jsd  \\\n",
       "4   [0.309, 0.189, 0.466, 0.028999999999999998, 0....  0.118448   \n",
       "9     [0.153, 0.8240000000000001, 0.012, 0.01, 0.001]  0.143107   \n",
       "14  [0.24800000000000003, 0.41700000000000004, 0.2...  0.076465   \n",
       "16  [0.742, 0.22, 0.028999999999999998, 0.00699999...  0.137403   \n",
       "19  [0.294, 0.299, 0.37200000000000005, 0.02600000...  0.096134   \n",
       "\n",
       "                                               prompt  \\\n",
       "4   Given the following question and answer option...   \n",
       "9   Given the following question and answer option...   \n",
       "14  Given the following question and answer option...   \n",
       "16  Given the following question and answer option...   \n",
       "19  Given the following question and answer option...   \n",
       "\n",
       "                                               answer  \n",
       "4   <think>Albania is a country with a strong work...  \n",
       "9   <think>Albania is a relatively homogeneous cou...  \n",
       "14  <think>Albania has a history of political inst...  \n",
       "16  <think>Albania has a unique religious landscap...  \n",
       "19  <think>Albania is a country with a relatively ...  "
      ]
     },
     "execution_count": 49,
     "metadata": {},
     "output_type": "execute_result"
    }
   ],
   "source": [
    "good_ones['prompt'] = good_ones.apply(generate_prompt, axis=1)\n",
    "good_ones['answer'] = good_ones.apply(generate_answer, axis=1)\n",
    "good_ones.head()"
   ]
  },
  {
   "cell_type": "code",
   "execution_count": 50,
   "metadata": {},
   "outputs": [
    {
     "name": "stdout",
     "output_type": "stream",
     "text": [
      "Successfully wrote 1641 records to train.jsonl\n",
      "Successfully wrote 183 records to eval.jsonl\n",
      "\n",
      "Training data shape: (1641, 12)\n",
      "Evaluation data shape: (183, 12)\n",
      "Training data saved to train.jsonl\n",
      "Evaluation data saved to eval.jsonl\n"
     ]
    }
   ],
   "source": [
    "import pandas as pd\n",
    "import json\n",
    "from sklearn.model_selection import train_test_split\n",
    "\n",
    "if 'prompt' not in good_ones.columns or 'answer' not in good_ones.columns:\n",
    "    raise ValueError(\"DataFrame 'good_ones' must contain 'prompt' and 'answer' columns.\")\n",
    "\n",
    "train_df, eval_df = train_test_split(good_ones, test_size=0.1, random_state=42)\n",
    "\n",
    "def df_to_jsonl(df, filename, prompt_col='prompt', completion_col='answer'):\n",
    "    with open(filename, 'w') as f:\n",
    "        for index, row in df.iterrows():\n",
    "            json_record = {\n",
    "                \"prompt\": row[prompt_col],\n",
    "                \"completion\": row[completion_col]\n",
    "            }\n",
    "            f.write(json.dumps(json_record) + '\\n')\n",
    "    print(f\"Successfully wrote {len(df)} records to {filename}\")\n",
    "\n",
    "train_jsonl_file = 'train.jsonl'\n",
    "eval_jsonl_file = 'eval.jsonl'\n",
    "\n",
    "df_to_jsonl(train_df, train_jsonl_file, prompt_col='prompt', completion_col='answer')\n",
    "df_to_jsonl(eval_df, eval_jsonl_file, prompt_col='prompt', completion_col='answer')"
   ]
  },
  {
   "cell_type": "code",
   "execution_count": 5,
   "metadata": {},
   "outputs": [
    {
     "name": "stdout",
     "output_type": "stream",
     "text": [
      "Total rows in original dataframe: 6450\n",
      "High-quality rows (JSD < 0.15): 1824\n",
      "Rows not in training (JSD >= 0.15): 4305\n",
      "Saved 4305 rows to not_in_training.csv\n"
     ]
    }
   ],
   "source": [
    "high_quality_rows = df[df['jsd'] < 0.15]\n",
    "\n",
    "not_in_training = df[df['jsd'] >= 0.15]\n",
    "\n",
    "not_in_training.to_csv('not_in_training.csv', index=False)\n",
    "\n",
    "print(f\"Total rows in original dataframe: {len(df)}\")\n",
    "print(f\"High-quality rows (JSD < 0.15): {len(high_quality_rows)}\")\n",
    "print(f\"Rows not in training (JSD >= 0.15): {len(not_in_training)}\")\n",
    "print(f\"Saved {len(not_in_training)} rows to not_in_training.csv\")"
   ]
  }
 ],
 "metadata": {
  "kernelspec": {
   "display_name": ".venv",
   "language": "python",
   "name": "python3"
  },
  "language_info": {
   "codemirror_mode": {
    "name": "ipython",
    "version": 3
   },
   "file_extension": ".py",
   "mimetype": "text/x-python",
   "name": "python",
   "nbconvert_exporter": "python",
   "pygments_lexer": "ipython3",
   "version": "3.13.3"
  }
 },
 "nbformat": 4,
 "nbformat_minor": 2
}
