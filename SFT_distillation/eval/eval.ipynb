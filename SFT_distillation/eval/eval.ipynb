{
 "cells": [
  {
   "cell_type": "code",
   "execution_count": 20,
   "metadata": {},
   "outputs": [],
   "source": [
    "import pandas as pd\n",
    "\n",
    "df = pd.read_csv('final_output.csv')"
   ]
  },
  {
   "cell_type": "code",
   "execution_count": 21,
   "metadata": {},
   "outputs": [
    {
     "data": {
      "text/html": [
       "<div>\n",
       "<style scoped>\n",
       "    .dataframe tbody tr th:only-of-type {\n",
       "        vertical-align: middle;\n",
       "    }\n",
       "\n",
       "    .dataframe tbody tr th {\n",
       "        vertical-align: top;\n",
       "    }\n",
       "\n",
       "    .dataframe thead th {\n",
       "        text-align: right;\n",
       "    }\n",
       "</style>\n",
       "<table border=\"1\" class=\"dataframe\">\n",
       "  <thead>\n",
       "    <tr style=\"text-align: right;\">\n",
       "      <th></th>\n",
       "      <th>Unnamed: 0</th>\n",
       "      <th>question</th>\n",
       "      <th>country</th>\n",
       "      <th>selections</th>\n",
       "      <th>options</th>\n",
       "      <th>llm_reasoning</th>\n",
       "      <th>llm_distribution</th>\n",
       "      <th>llm_distribution_val</th>\n",
       "      <th>selections_val</th>\n",
       "      <th>jsd_4.1</th>\n",
       "      <th>reason_default</th>\n",
       "      <th>dist_default</th>\n",
       "      <th>jsd_qwen</th>\n",
       "      <th>reason_lora</th>\n",
       "      <th>dist_lora</th>\n",
       "      <th>jsd_lora</th>\n",
       "    </tr>\n",
       "  </thead>\n",
       "  <tbody>\n",
       "    <tr>\n",
       "      <th>0</th>\n",
       "      <td>752</td>\n",
       "      <td>Do you agree, disagree or neither agree nor di...</td>\n",
       "      <td>Brazil</td>\n",
       "      <td>[0.0, 0.8370000000000001, 0.08800000000000001,...</td>\n",
       "      <td>['Agree strongly', 'Agree', 'Neither agree nor...</td>\n",
       "      <td>In Brazil, family ties and responsibilities ar...</td>\n",
       "      <td>[0.4, 0.3, 0.15, 0.1, 0.03, 0.01, 0.01, 0.0]</td>\n",
       "      <td>[0.4, 0.3, 0.15, 0.1, 0.03, 0.01, 0.01, 0.0]</td>\n",
       "      <td>[0.0, 0.8370000000000001, 0.08800000000000001,...</td>\n",
       "      <td>0.473640</td>\n",
       "      <td>system\\nYou are Qwen, created by Alibaba Cloud...</td>\n",
       "      <td>[0.10101010101010101, 0.40404040404040403, 0.3...</td>\n",
       "      <td>0.192194</td>\n",
       "      <td>system\\nYou are Qwen, created by Alibaba Cloud...</td>\n",
       "      <td>[]</td>\n",
       "      <td>1.000000</td>\n",
       "    </tr>\n",
       "    <tr>\n",
       "      <th>1</th>\n",
       "      <td>753</td>\n",
       "      <td>How likely or unlikely do you think it is that...</td>\n",
       "      <td>Brazil</td>\n",
       "      <td>[0.21, 0.37, 0.22, 0.12, 0.0, 0.08]</td>\n",
       "      <td>['Very likely', 'Somewhat likely', 'Somewhat u...</td>\n",
       "      <td>1. Brazil has experienced significant cyberatt...</td>\n",
       "      <td>[0.35, 0.4, 0.15, 0.05, 0.02, 0.03]</td>\n",
       "      <td>[0.35, 0.4, 0.15, 0.05, 0.02, 0.03]</td>\n",
       "      <td>[0.21, 0.37, 0.22, 0.12, 0.0, 0.08]</td>\n",
       "      <td>0.180883</td>\n",
       "      <td>system\\nYou are Qwen, created by Alibaba Cloud...</td>\n",
       "      <td>[0.23809523809523808, 0.38095238095238093, 0.1...</td>\n",
       "      <td>0.029295</td>\n",
       "      <td>system\\nYou are Qwen, created by Alibaba Cloud...</td>\n",
       "      <td>[0.35, 0.4, 0.15, 0.08, 0.02, 0.0]</td>\n",
       "      <td>0.070890</td>\n",
       "    </tr>\n",
       "    <tr>\n",
       "      <th>2</th>\n",
       "      <td>754</td>\n",
       "      <td>I am going to name a number of organizations. ...</td>\n",
       "      <td>Brazil</td>\n",
       "      <td>[0.08, 0.408, 0.268, 0.222, 0.0180000000000000...</td>\n",
       "      <td>['A great deal', 'Quite a lot', 'Not very much...</td>\n",
       "      <td>In Brazil, public confidence in civil services...</td>\n",
       "      <td>[0.1, 0.2, 0.35, 0.3, 0.04, 0.01, 0.0]</td>\n",
       "      <td>[0.1, 0.2, 0.35, 0.3, 0.04, 0.01, 0.0]</td>\n",
       "      <td>[0.08, 0.408, 0.268, 0.222, 0.0180000000000000...</td>\n",
       "      <td>0.165861</td>\n",
       "      <td>system\\nYou are Qwen, created by Alibaba Cloud...</td>\n",
       "      <td>[0.1, 0.3, 0.4, 0.15, 0.05]</td>\n",
       "      <td>0.028463</td>\n",
       "      <td>system\\nYou are Qwen, created by Alibaba Cloud...</td>\n",
       "      <td>[0.05, 0.15, 0.3, 0.4, 0.08, 0.02, 0.0]</td>\n",
       "      <td>0.086913</td>\n",
       "    </tr>\n",
       "    <tr>\n",
       "      <th>3</th>\n",
       "      <td>756</td>\n",
       "      <td>Do you agree or disagree with the following st...</td>\n",
       "      <td>Brazil</td>\n",
       "      <td>[0.0, 0.49700000000000005, 0.159, 0.337, 0.0, ...</td>\n",
       "      <td>['Agree strongly', 'Agree', 'Neither agree nor...</td>\n",
       "      <td>Brazilian culture tends to value work-life bal...</td>\n",
       "      <td>[0.1, 0.25, 0.2, 0.3, 0.1, 0.03, 0.02, 0.0]</td>\n",
       "      <td>[0.1, 0.25, 0.2, 0.3, 0.1, 0.03, 0.02, 0.0]</td>\n",
       "      <td>[0.0, 0.49700000000000005, 0.159, 0.337, 0.0, ...</td>\n",
       "      <td>0.319563</td>\n",
       "      <td>system\\nYou are Qwen, created by Alibaba Cloud...</td>\n",
       "      <td>[0.10101010101010101, 0.20202020202020202, 0.3...</td>\n",
       "      <td>0.180025</td>\n",
       "      <td>system\\nYou are Qwen, created by Alibaba Cloud...</td>\n",
       "      <td>[0.1, 0.25, 0.3, 0.25, 0.05, 0.03, 0.01, 0.01]</td>\n",
       "      <td>0.140881</td>\n",
       "    </tr>\n",
       "    <tr>\n",
       "      <th>4</th>\n",
       "      <td>758</td>\n",
       "      <td>Here is a list of qualities that children can ...</td>\n",
       "      <td>Brazil</td>\n",
       "      <td>[0.304, 0.696, 0.0, 0.0, 0.0]</td>\n",
       "      <td>['Important', 'Not mentioned', \"Don't know\", '...</td>\n",
       "      <td>In Brazil, family and community values are gen...</td>\n",
       "      <td>[0.7, 0.2, 0.05, 0.04, 0.01]</td>\n",
       "      <td>[0.7, 0.2, 0.05, 0.04, 0.01]</td>\n",
       "      <td>[0.304, 0.696, 0.0, 0.0, 0.0]</td>\n",
       "      <td>0.383995</td>\n",
       "      <td>system\\nYou are Qwen, created by Alibaba Cloud...</td>\n",
       "      <td>[0.3333333333333333, 0.22222222222222224, 0.16...</td>\n",
       "      <td>0.315279</td>\n",
       "      <td>system\\nYou are Qwen, created by Alibaba Cloud...</td>\n",
       "      <td>[0.7, 0.25, 0.03, 0.01, 0.01]</td>\n",
       "      <td>0.161827</td>\n",
       "    </tr>\n",
       "  </tbody>\n",
       "</table>\n",
       "</div>"
      ],
      "text/plain": [
       "   Unnamed: 0                                           question country  \\\n",
       "0         752  Do you agree, disagree or neither agree nor di...  Brazil   \n",
       "1         753  How likely or unlikely do you think it is that...  Brazil   \n",
       "2         754  I am going to name a number of organizations. ...  Brazil   \n",
       "3         756  Do you agree or disagree with the following st...  Brazil   \n",
       "4         758  Here is a list of qualities that children can ...  Brazil   \n",
       "\n",
       "                                          selections  \\\n",
       "0  [0.0, 0.8370000000000001, 0.08800000000000001,...   \n",
       "1                [0.21, 0.37, 0.22, 0.12, 0.0, 0.08]   \n",
       "2  [0.08, 0.408, 0.268, 0.222, 0.0180000000000000...   \n",
       "3  [0.0, 0.49700000000000005, 0.159, 0.337, 0.0, ...   \n",
       "4                      [0.304, 0.696, 0.0, 0.0, 0.0]   \n",
       "\n",
       "                                             options  \\\n",
       "0  ['Agree strongly', 'Agree', 'Neither agree nor...   \n",
       "1  ['Very likely', 'Somewhat likely', 'Somewhat u...   \n",
       "2  ['A great deal', 'Quite a lot', 'Not very much...   \n",
       "3  ['Agree strongly', 'Agree', 'Neither agree nor...   \n",
       "4  ['Important', 'Not mentioned', \"Don't know\", '...   \n",
       "\n",
       "                                       llm_reasoning  \\\n",
       "0  In Brazil, family ties and responsibilities ar...   \n",
       "1  1. Brazil has experienced significant cyberatt...   \n",
       "2  In Brazil, public confidence in civil services...   \n",
       "3  Brazilian culture tends to value work-life bal...   \n",
       "4  In Brazil, family and community values are gen...   \n",
       "\n",
       "                               llm_distribution  \\\n",
       "0  [0.4, 0.3, 0.15, 0.1, 0.03, 0.01, 0.01, 0.0]   \n",
       "1           [0.35, 0.4, 0.15, 0.05, 0.02, 0.03]   \n",
       "2        [0.1, 0.2, 0.35, 0.3, 0.04, 0.01, 0.0]   \n",
       "3   [0.1, 0.25, 0.2, 0.3, 0.1, 0.03, 0.02, 0.0]   \n",
       "4                  [0.7, 0.2, 0.05, 0.04, 0.01]   \n",
       "\n",
       "                           llm_distribution_val  \\\n",
       "0  [0.4, 0.3, 0.15, 0.1, 0.03, 0.01, 0.01, 0.0]   \n",
       "1           [0.35, 0.4, 0.15, 0.05, 0.02, 0.03]   \n",
       "2        [0.1, 0.2, 0.35, 0.3, 0.04, 0.01, 0.0]   \n",
       "3   [0.1, 0.25, 0.2, 0.3, 0.1, 0.03, 0.02, 0.0]   \n",
       "4                  [0.7, 0.2, 0.05, 0.04, 0.01]   \n",
       "\n",
       "                                      selections_val   jsd_4.1  \\\n",
       "0  [0.0, 0.8370000000000001, 0.08800000000000001,...  0.473640   \n",
       "1                [0.21, 0.37, 0.22, 0.12, 0.0, 0.08]  0.180883   \n",
       "2  [0.08, 0.408, 0.268, 0.222, 0.0180000000000000...  0.165861   \n",
       "3  [0.0, 0.49700000000000005, 0.159, 0.337, 0.0, ...  0.319563   \n",
       "4                      [0.304, 0.696, 0.0, 0.0, 0.0]  0.383995   \n",
       "\n",
       "                                      reason_default  \\\n",
       "0  system\\nYou are Qwen, created by Alibaba Cloud...   \n",
       "1  system\\nYou are Qwen, created by Alibaba Cloud...   \n",
       "2  system\\nYou are Qwen, created by Alibaba Cloud...   \n",
       "3  system\\nYou are Qwen, created by Alibaba Cloud...   \n",
       "4  system\\nYou are Qwen, created by Alibaba Cloud...   \n",
       "\n",
       "                                        dist_default  jsd_qwen  \\\n",
       "0  [0.10101010101010101, 0.40404040404040403, 0.3...  0.192194   \n",
       "1  [0.23809523809523808, 0.38095238095238093, 0.1...  0.029295   \n",
       "2                        [0.1, 0.3, 0.4, 0.15, 0.05]  0.028463   \n",
       "3  [0.10101010101010101, 0.20202020202020202, 0.3...  0.180025   \n",
       "4  [0.3333333333333333, 0.22222222222222224, 0.16...  0.315279   \n",
       "\n",
       "                                         reason_lora  \\\n",
       "0  system\\nYou are Qwen, created by Alibaba Cloud...   \n",
       "1  system\\nYou are Qwen, created by Alibaba Cloud...   \n",
       "2  system\\nYou are Qwen, created by Alibaba Cloud...   \n",
       "3  system\\nYou are Qwen, created by Alibaba Cloud...   \n",
       "4  system\\nYou are Qwen, created by Alibaba Cloud...   \n",
       "\n",
       "                                        dist_lora  jsd_lora  \n",
       "0                                              []  1.000000  \n",
       "1              [0.35, 0.4, 0.15, 0.08, 0.02, 0.0]  0.070890  \n",
       "2         [0.05, 0.15, 0.3, 0.4, 0.08, 0.02, 0.0]  0.086913  \n",
       "3  [0.1, 0.25, 0.3, 0.25, 0.05, 0.03, 0.01, 0.01]  0.140881  \n",
       "4                   [0.7, 0.25, 0.03, 0.01, 0.01]  0.161827  "
      ]
     },
     "execution_count": 21,
     "metadata": {},
     "output_type": "execute_result"
    }
   ],
   "source": [
    "df.head()"
   ]
  },
  {
   "cell_type": "code",
   "execution_count": 22,
   "metadata": {},
   "outputs": [],
   "source": [
    "df_claude = pd.read_csv('/Users/andrew/GlobalOpinionBench/responses/benchmark/claude.csv')\n",
    "\n",
    "df_gemini = pd.read_csv('/Users/andrew/GlobalOpinionBench/responses/benchmark/gemini.csv')"
   ]
  },
  {
   "cell_type": "code",
   "execution_count": 23,
   "metadata": {},
   "outputs": [
    {
     "data": {
      "text/plain": [
       "np.int64(118)"
      ]
     },
     "execution_count": 23,
     "metadata": {},
     "output_type": "execute_result"
    }
   ],
   "source": [
    "(df['jsd_lora'] == 1).sum()\n",
    "\n",
    "# LoRA broke it 118/203 times. Terrible!"
   ]
  },
  {
   "cell_type": "code",
   "execution_count": 24,
   "metadata": {},
   "outputs": [
    {
     "data": {
      "text/plain": [
       "(203, 16)"
      ]
     },
     "execution_count": 24,
     "metadata": {},
     "output_type": "execute_result"
    }
   ],
   "source": [
    "df.shape"
   ]
  },
  {
   "cell_type": "code",
   "execution_count": 25,
   "metadata": {},
   "outputs": [
    {
     "data": {
      "application/vnd.plotly.v1+json": {
       "config": {
        "plotlyServerURL": "https://plot.ly"
       },
       "data": [
        {
         "hovertemplate": "color=jsd_lora<br>x=%{x}<br>y=%{y}<extra></extra>",
         "legendgroup": "jsd_lora",
         "marker": {
          "color": "#006400",
          "pattern": {
           "shape": ""
          }
         },
         "name": "jsd_lora",
         "orientation": "v",
         "showlegend": true,
         "textposition": "auto",
         "type": "bar",
         "x": [
          "jsd_lora"
         ],
         "xaxis": "x",
         "y": {
          "bdata": "wzEO0JhU5D8=",
          "dtype": "f8"
         },
         "yaxis": "y"
        },
        {
         "hovertemplate": "color=jsd_gemini<br>x=%{x}<br>y=%{y}<extra></extra>",
         "legendgroup": "jsd_gemini",
         "marker": {
          "color": "#8B0000",
          "pattern": {
           "shape": ""
          }
         },
         "name": "jsd_gemini",
         "orientation": "v",
         "showlegend": true,
         "textposition": "auto",
         "type": "bar",
         "x": [
          "jsd_gemini"
         ],
         "xaxis": "x",
         "y": {
          "bdata": "8u8HlBQN1D8=",
          "dtype": "f8"
         },
         "yaxis": "y"
        },
        {
         "hovertemplate": "color=jsd_4.1<br>x=%{x}<br>y=%{y}<extra></extra>",
         "legendgroup": "jsd_4.1",
         "marker": {
          "color": "#8B0000",
          "pattern": {
           "shape": ""
          }
         },
         "name": "jsd_4.1",
         "orientation": "v",
         "showlegend": true,
         "textposition": "auto",
         "type": "bar",
         "x": [
          "jsd_4.1"
         ],
         "xaxis": "x",
         "y": {
          "bdata": "81rqko/r0D8=",
          "dtype": "f8"
         },
         "yaxis": "y"
        },
        {
         "hovertemplate": "color=jsd_claude<br>x=%{x}<br>y=%{y}<extra></extra>",
         "legendgroup": "jsd_claude",
         "marker": {
          "color": "#8B0000",
          "pattern": {
           "shape": ""
          }
         },
         "name": "jsd_claude",
         "orientation": "v",
         "showlegend": true,
         "textposition": "auto",
         "type": "bar",
         "x": [
          "jsd_claude"
         ],
         "xaxis": "x",
         "y": {
          "bdata": "99czZA5ezz8=",
          "dtype": "f8"
         },
         "yaxis": "y"
        },
        {
         "hovertemplate": "color=jsd_qwen<br>x=%{x}<br>y=%{y}<extra></extra>",
         "legendgroup": "jsd_qwen",
         "marker": {
          "color": "#8B0000",
          "pattern": {
           "shape": ""
          }
         },
         "name": "jsd_qwen",
         "orientation": "v",
         "showlegend": true,
         "textposition": "auto",
         "type": "bar",
         "x": [
          "jsd_qwen"
         ],
         "xaxis": "x",
         "y": {
          "bdata": "zHsfVkXbyj8=",
          "dtype": "f8"
         },
         "yaxis": "y"
        }
       ],
       "layout": {
        "barmode": "relative",
        "height": 400,
        "legend": {
         "title": {
          "text": "color"
         },
         "tracegroupgap": 0
        },
        "margin": {
         "t": 60
        },
        "showlegend": false,
        "template": {
         "data": {
          "bar": [
           {
            "error_x": {
             "color": "#2a3f5f"
            },
            "error_y": {
             "color": "#2a3f5f"
            },
            "marker": {
             "line": {
              "color": "#E5ECF6",
              "width": 0.5
             },
             "pattern": {
              "fillmode": "overlay",
              "size": 10,
              "solidity": 0.2
             }
            },
            "type": "bar"
           }
          ],
          "barpolar": [
           {
            "marker": {
             "line": {
              "color": "#E5ECF6",
              "width": 0.5
             },
             "pattern": {
              "fillmode": "overlay",
              "size": 10,
              "solidity": 0.2
             }
            },
            "type": "barpolar"
           }
          ],
          "carpet": [
           {
            "aaxis": {
             "endlinecolor": "#2a3f5f",
             "gridcolor": "white",
             "linecolor": "white",
             "minorgridcolor": "white",
             "startlinecolor": "#2a3f5f"
            },
            "baxis": {
             "endlinecolor": "#2a3f5f",
             "gridcolor": "white",
             "linecolor": "white",
             "minorgridcolor": "white",
             "startlinecolor": "#2a3f5f"
            },
            "type": "carpet"
           }
          ],
          "choropleth": [
           {
            "colorbar": {
             "outlinewidth": 0,
             "ticks": ""
            },
            "type": "choropleth"
           }
          ],
          "contour": [
           {
            "colorbar": {
             "outlinewidth": 0,
             "ticks": ""
            },
            "colorscale": [
             [
              0,
              "#0d0887"
             ],
             [
              0.1111111111111111,
              "#46039f"
             ],
             [
              0.2222222222222222,
              "#7201a8"
             ],
             [
              0.3333333333333333,
              "#9c179e"
             ],
             [
              0.4444444444444444,
              "#bd3786"
             ],
             [
              0.5555555555555556,
              "#d8576b"
             ],
             [
              0.6666666666666666,
              "#ed7953"
             ],
             [
              0.7777777777777778,
              "#fb9f3a"
             ],
             [
              0.8888888888888888,
              "#fdca26"
             ],
             [
              1,
              "#f0f921"
             ]
            ],
            "type": "contour"
           }
          ],
          "contourcarpet": [
           {
            "colorbar": {
             "outlinewidth": 0,
             "ticks": ""
            },
            "type": "contourcarpet"
           }
          ],
          "heatmap": [
           {
            "colorbar": {
             "outlinewidth": 0,
             "ticks": ""
            },
            "colorscale": [
             [
              0,
              "#0d0887"
             ],
             [
              0.1111111111111111,
              "#46039f"
             ],
             [
              0.2222222222222222,
              "#7201a8"
             ],
             [
              0.3333333333333333,
              "#9c179e"
             ],
             [
              0.4444444444444444,
              "#bd3786"
             ],
             [
              0.5555555555555556,
              "#d8576b"
             ],
             [
              0.6666666666666666,
              "#ed7953"
             ],
             [
              0.7777777777777778,
              "#fb9f3a"
             ],
             [
              0.8888888888888888,
              "#fdca26"
             ],
             [
              1,
              "#f0f921"
             ]
            ],
            "type": "heatmap"
           }
          ],
          "histogram": [
           {
            "marker": {
             "pattern": {
              "fillmode": "overlay",
              "size": 10,
              "solidity": 0.2
             }
            },
            "type": "histogram"
           }
          ],
          "histogram2d": [
           {
            "colorbar": {
             "outlinewidth": 0,
             "ticks": ""
            },
            "colorscale": [
             [
              0,
              "#0d0887"
             ],
             [
              0.1111111111111111,
              "#46039f"
             ],
             [
              0.2222222222222222,
              "#7201a8"
             ],
             [
              0.3333333333333333,
              "#9c179e"
             ],
             [
              0.4444444444444444,
              "#bd3786"
             ],
             [
              0.5555555555555556,
              "#d8576b"
             ],
             [
              0.6666666666666666,
              "#ed7953"
             ],
             [
              0.7777777777777778,
              "#fb9f3a"
             ],
             [
              0.8888888888888888,
              "#fdca26"
             ],
             [
              1,
              "#f0f921"
             ]
            ],
            "type": "histogram2d"
           }
          ],
          "histogram2dcontour": [
           {
            "colorbar": {
             "outlinewidth": 0,
             "ticks": ""
            },
            "colorscale": [
             [
              0,
              "#0d0887"
             ],
             [
              0.1111111111111111,
              "#46039f"
             ],
             [
              0.2222222222222222,
              "#7201a8"
             ],
             [
              0.3333333333333333,
              "#9c179e"
             ],
             [
              0.4444444444444444,
              "#bd3786"
             ],
             [
              0.5555555555555556,
              "#d8576b"
             ],
             [
              0.6666666666666666,
              "#ed7953"
             ],
             [
              0.7777777777777778,
              "#fb9f3a"
             ],
             [
              0.8888888888888888,
              "#fdca26"
             ],
             [
              1,
              "#f0f921"
             ]
            ],
            "type": "histogram2dcontour"
           }
          ],
          "mesh3d": [
           {
            "colorbar": {
             "outlinewidth": 0,
             "ticks": ""
            },
            "type": "mesh3d"
           }
          ],
          "parcoords": [
           {
            "line": {
             "colorbar": {
              "outlinewidth": 0,
              "ticks": ""
             }
            },
            "type": "parcoords"
           }
          ],
          "pie": [
           {
            "automargin": true,
            "type": "pie"
           }
          ],
          "scatter": [
           {
            "fillpattern": {
             "fillmode": "overlay",
             "size": 10,
             "solidity": 0.2
            },
            "type": "scatter"
           }
          ],
          "scatter3d": [
           {
            "line": {
             "colorbar": {
              "outlinewidth": 0,
              "ticks": ""
             }
            },
            "marker": {
             "colorbar": {
              "outlinewidth": 0,
              "ticks": ""
             }
            },
            "type": "scatter3d"
           }
          ],
          "scattercarpet": [
           {
            "marker": {
             "colorbar": {
              "outlinewidth": 0,
              "ticks": ""
             }
            },
            "type": "scattercarpet"
           }
          ],
          "scattergeo": [
           {
            "marker": {
             "colorbar": {
              "outlinewidth": 0,
              "ticks": ""
             }
            },
            "type": "scattergeo"
           }
          ],
          "scattergl": [
           {
            "marker": {
             "colorbar": {
              "outlinewidth": 0,
              "ticks": ""
             }
            },
            "type": "scattergl"
           }
          ],
          "scattermap": [
           {
            "marker": {
             "colorbar": {
              "outlinewidth": 0,
              "ticks": ""
             }
            },
            "type": "scattermap"
           }
          ],
          "scattermapbox": [
           {
            "marker": {
             "colorbar": {
              "outlinewidth": 0,
              "ticks": ""
             }
            },
            "type": "scattermapbox"
           }
          ],
          "scatterpolar": [
           {
            "marker": {
             "colorbar": {
              "outlinewidth": 0,
              "ticks": ""
             }
            },
            "type": "scatterpolar"
           }
          ],
          "scatterpolargl": [
           {
            "marker": {
             "colorbar": {
              "outlinewidth": 0,
              "ticks": ""
             }
            },
            "type": "scatterpolargl"
           }
          ],
          "scatterternary": [
           {
            "marker": {
             "colorbar": {
              "outlinewidth": 0,
              "ticks": ""
             }
            },
            "type": "scatterternary"
           }
          ],
          "surface": [
           {
            "colorbar": {
             "outlinewidth": 0,
             "ticks": ""
            },
            "colorscale": [
             [
              0,
              "#0d0887"
             ],
             [
              0.1111111111111111,
              "#46039f"
             ],
             [
              0.2222222222222222,
              "#7201a8"
             ],
             [
              0.3333333333333333,
              "#9c179e"
             ],
             [
              0.4444444444444444,
              "#bd3786"
             ],
             [
              0.5555555555555556,
              "#d8576b"
             ],
             [
              0.6666666666666666,
              "#ed7953"
             ],
             [
              0.7777777777777778,
              "#fb9f3a"
             ],
             [
              0.8888888888888888,
              "#fdca26"
             ],
             [
              1,
              "#f0f921"
             ]
            ],
            "type": "surface"
           }
          ],
          "table": [
           {
            "cells": {
             "fill": {
              "color": "#EBF0F8"
             },
             "line": {
              "color": "white"
             }
            },
            "header": {
             "fill": {
              "color": "#C8D4E3"
             },
             "line": {
              "color": "white"
             }
            },
            "type": "table"
           }
          ]
         },
         "layout": {
          "annotationdefaults": {
           "arrowcolor": "#2a3f5f",
           "arrowhead": 0,
           "arrowwidth": 1
          },
          "autotypenumbers": "strict",
          "coloraxis": {
           "colorbar": {
            "outlinewidth": 0,
            "ticks": ""
           }
          },
          "colorscale": {
           "diverging": [
            [
             0,
             "#8e0152"
            ],
            [
             0.1,
             "#c51b7d"
            ],
            [
             0.2,
             "#de77ae"
            ],
            [
             0.3,
             "#f1b6da"
            ],
            [
             0.4,
             "#fde0ef"
            ],
            [
             0.5,
             "#f7f7f7"
            ],
            [
             0.6,
             "#e6f5d0"
            ],
            [
             0.7,
             "#b8e186"
            ],
            [
             0.8,
             "#7fbc41"
            ],
            [
             0.9,
             "#4d9221"
            ],
            [
             1,
             "#276419"
            ]
           ],
           "sequential": [
            [
             0,
             "#0d0887"
            ],
            [
             0.1111111111111111,
             "#46039f"
            ],
            [
             0.2222222222222222,
             "#7201a8"
            ],
            [
             0.3333333333333333,
             "#9c179e"
            ],
            [
             0.4444444444444444,
             "#bd3786"
            ],
            [
             0.5555555555555556,
             "#d8576b"
            ],
            [
             0.6666666666666666,
             "#ed7953"
            ],
            [
             0.7777777777777778,
             "#fb9f3a"
            ],
            [
             0.8888888888888888,
             "#fdca26"
            ],
            [
             1,
             "#f0f921"
            ]
           ],
           "sequentialminus": [
            [
             0,
             "#0d0887"
            ],
            [
             0.1111111111111111,
             "#46039f"
            ],
            [
             0.2222222222222222,
             "#7201a8"
            ],
            [
             0.3333333333333333,
             "#9c179e"
            ],
            [
             0.4444444444444444,
             "#bd3786"
            ],
            [
             0.5555555555555556,
             "#d8576b"
            ],
            [
             0.6666666666666666,
             "#ed7953"
            ],
            [
             0.7777777777777778,
             "#fb9f3a"
            ],
            [
             0.8888888888888888,
             "#fdca26"
            ],
            [
             1,
             "#f0f921"
            ]
           ]
          },
          "colorway": [
           "#636efa",
           "#EF553B",
           "#00cc96",
           "#ab63fa",
           "#FFA15A",
           "#19d3f3",
           "#FF6692",
           "#B6E880",
           "#FF97FF",
           "#FECB52"
          ],
          "font": {
           "color": "#2a3f5f"
          },
          "geo": {
           "bgcolor": "white",
           "lakecolor": "white",
           "landcolor": "#E5ECF6",
           "showlakes": true,
           "showland": true,
           "subunitcolor": "white"
          },
          "hoverlabel": {
           "align": "left"
          },
          "hovermode": "closest",
          "mapbox": {
           "style": "light"
          },
          "paper_bgcolor": "white",
          "plot_bgcolor": "#E5ECF6",
          "polar": {
           "angularaxis": {
            "gridcolor": "white",
            "linecolor": "white",
            "ticks": ""
           },
           "bgcolor": "#E5ECF6",
           "radialaxis": {
            "gridcolor": "white",
            "linecolor": "white",
            "ticks": ""
           }
          },
          "scene": {
           "xaxis": {
            "backgroundcolor": "#E5ECF6",
            "gridcolor": "white",
            "gridwidth": 2,
            "linecolor": "white",
            "showbackground": true,
            "ticks": "",
            "zerolinecolor": "white"
           },
           "yaxis": {
            "backgroundcolor": "#E5ECF6",
            "gridcolor": "white",
            "gridwidth": 2,
            "linecolor": "white",
            "showbackground": true,
            "ticks": "",
            "zerolinecolor": "white"
           },
           "zaxis": {
            "backgroundcolor": "#E5ECF6",
            "gridcolor": "white",
            "gridwidth": 2,
            "linecolor": "white",
            "showbackground": true,
            "ticks": "",
            "zerolinecolor": "white"
           }
          },
          "shapedefaults": {
           "line": {
            "color": "#2a3f5f"
           }
          },
          "ternary": {
           "aaxis": {
            "gridcolor": "white",
            "linecolor": "white",
            "ticks": ""
           },
           "baxis": {
            "gridcolor": "white",
            "linecolor": "white",
            "ticks": ""
           },
           "bgcolor": "#E5ECF6",
           "caxis": {
            "gridcolor": "white",
            "linecolor": "white",
            "ticks": ""
           }
          },
          "title": {
           "x": 0.05
          },
          "xaxis": {
           "automargin": true,
           "gridcolor": "white",
           "linecolor": "white",
           "ticks": "",
           "title": {
            "standoff": 15
           },
           "zerolinecolor": "white",
           "zerolinewidth": 2
          },
          "yaxis": {
           "automargin": true,
           "gridcolor": "white",
           "linecolor": "white",
           "ticks": "",
           "title": {
            "standoff": 15
           },
           "zerolinecolor": "white",
           "zerolinewidth": 2
          }
         }
        },
        "width": 600,
        "xaxis": {
         "anchor": "y",
         "domain": [
          0,
          1
         ],
         "title": {
          "text": "Model"
         }
        },
        "yaxis": {
         "anchor": "x",
         "domain": [
          0,
          1
         ],
         "title": {
          "text": "Jensen-Shannon Distance"
         }
        }
       }
      }
     },
     "metadata": {},
     "output_type": "display_data"
    }
   ],
   "source": [
    "import plotly.express as px\n",
    "\n",
    "# Select the first five jsd_* columns\n",
    "jsd_cols = [col for col in df.columns if col.startswith('jsd_')][:5]\n",
    "\n",
    "# Compute mean for those columns\n",
    "values = df[jsd_cols].mean()\n",
    "\n",
    "# Add two new entries with the means from your other columns and custom bar names\n",
    "values['jsd_claude'] = df_claude['jsd'].mean()\n",
    "values['jsd_gemini'] = df_gemini['jsd'].mean()\n",
    "\n",
    "# Sort descending again if you want\n",
    "values = values.sort_values(ascending=False)\n",
    "\n",
    "# Define colors: dark green for jsd_lora, dark red for others (add new bars)\n",
    "colors = ['#006400' if col == 'jsd_lora' else '#8B0000' for col in values.index]\n",
    "\n",
    "fig = px.bar(\n",
    "    x=values.index,\n",
    "    y=values.values,\n",
    "    color=values.index,\n",
    "    color_discrete_sequence=colors\n",
    ")\n",
    "fig.update_layout(showlegend=False, xaxis_title='Model', yaxis_title='Jensen-Shannon Distance', width=600, height=400)\n",
    "fig.show()"
   ]
  },
  {
   "cell_type": "code",
   "execution_count": 26,
   "metadata": {},
   "outputs": [
    {
     "data": {
      "application/vnd.plotly.v1+json": {
       "config": {
        "plotlyServerURL": "https://plot.ly"
       },
       "data": [
        {
         "hovertemplate": "color=Custom<br>x=%{x}<br>y=%{y}<extra></extra>",
         "legendgroup": "Custom",
         "marker": {
          "color": "#006400",
          "pattern": {
           "shape": ""
          }
         },
         "name": "Custom",
         "orientation": "v",
         "showlegend": true,
         "textposition": "auto",
         "type": "bar",
         "x": [
          "Custom"
         ],
         "xaxis": "x",
         "y": {
          "bdata": "wzEO0JhU5D8=",
          "dtype": "f8"
         },
         "yaxis": "y"
        },
        {
         "hovertemplate": "color=Gemini-2.0-Flash<br>x=%{x}<br>y=%{y}<extra></extra>",
         "legendgroup": "Gemini-2.0-Flash",
         "marker": {
          "color": "#8B0000",
          "pattern": {
           "shape": ""
          }
         },
         "name": "Gemini-2.0-Flash",
         "orientation": "v",
         "showlegend": true,
         "textposition": "auto",
         "type": "bar",
         "x": [
          "Gemini-2.0-Flash"
         ],
         "xaxis": "x",
         "y": {
          "bdata": "8u8HlBQN1D8=",
          "dtype": "f8"
         },
         "yaxis": "y"
        },
        {
         "hovertemplate": "color=GPT-4.1<br>x=%{x}<br>y=%{y}<extra></extra>",
         "legendgroup": "GPT-4.1",
         "marker": {
          "color": "#8B0000",
          "pattern": {
           "shape": ""
          }
         },
         "name": "GPT-4.1",
         "orientation": "v",
         "showlegend": true,
         "textposition": "auto",
         "type": "bar",
         "x": [
          "GPT-4.1"
         ],
         "xaxis": "x",
         "y": {
          "bdata": "81rqko/r0D8=",
          "dtype": "f8"
         },
         "yaxis": "y"
        },
        {
         "hovertemplate": "color=Claude-3.5<br>x=%{x}<br>y=%{y}<extra></extra>",
         "legendgroup": "Claude-3.5",
         "marker": {
          "color": "#8B0000",
          "pattern": {
           "shape": ""
          }
         },
         "name": "Claude-3.5",
         "orientation": "v",
         "showlegend": true,
         "textposition": "auto",
         "type": "bar",
         "x": [
          "Claude-3.5"
         ],
         "xaxis": "x",
         "y": {
          "bdata": "99czZA5ezz8=",
          "dtype": "f8"
         },
         "yaxis": "y"
        },
        {
         "hovertemplate": "color=Qwen-2.5<br>x=%{x}<br>y=%{y}<extra></extra>",
         "legendgroup": "Qwen-2.5",
         "marker": {
          "color": "#8B0000",
          "pattern": {
           "shape": ""
          }
         },
         "name": "Qwen-2.5",
         "orientation": "v",
         "showlegend": true,
         "textposition": "auto",
         "type": "bar",
         "x": [
          "Qwen-2.5"
         ],
         "xaxis": "x",
         "y": {
          "bdata": "zHsfVkXbyj8=",
          "dtype": "f8"
         },
         "yaxis": "y"
        }
       ],
       "layout": {
        "barmode": "relative",
        "height": 400,
        "legend": {
         "title": {
          "text": "color"
         },
         "tracegroupgap": 0
        },
        "margin": {
         "t": 60
        },
        "showlegend": false,
        "template": {
         "data": {
          "bar": [
           {
            "error_x": {
             "color": "#2a3f5f"
            },
            "error_y": {
             "color": "#2a3f5f"
            },
            "marker": {
             "line": {
              "color": "#E5ECF6",
              "width": 0.5
             },
             "pattern": {
              "fillmode": "overlay",
              "size": 10,
              "solidity": 0.2
             }
            },
            "type": "bar"
           }
          ],
          "barpolar": [
           {
            "marker": {
             "line": {
              "color": "#E5ECF6",
              "width": 0.5
             },
             "pattern": {
              "fillmode": "overlay",
              "size": 10,
              "solidity": 0.2
             }
            },
            "type": "barpolar"
           }
          ],
          "carpet": [
           {
            "aaxis": {
             "endlinecolor": "#2a3f5f",
             "gridcolor": "white",
             "linecolor": "white",
             "minorgridcolor": "white",
             "startlinecolor": "#2a3f5f"
            },
            "baxis": {
             "endlinecolor": "#2a3f5f",
             "gridcolor": "white",
             "linecolor": "white",
             "minorgridcolor": "white",
             "startlinecolor": "#2a3f5f"
            },
            "type": "carpet"
           }
          ],
          "choropleth": [
           {
            "colorbar": {
             "outlinewidth": 0,
             "ticks": ""
            },
            "type": "choropleth"
           }
          ],
          "contour": [
           {
            "colorbar": {
             "outlinewidth": 0,
             "ticks": ""
            },
            "colorscale": [
             [
              0,
              "#0d0887"
             ],
             [
              0.1111111111111111,
              "#46039f"
             ],
             [
              0.2222222222222222,
              "#7201a8"
             ],
             [
              0.3333333333333333,
              "#9c179e"
             ],
             [
              0.4444444444444444,
              "#bd3786"
             ],
             [
              0.5555555555555556,
              "#d8576b"
             ],
             [
              0.6666666666666666,
              "#ed7953"
             ],
             [
              0.7777777777777778,
              "#fb9f3a"
             ],
             [
              0.8888888888888888,
              "#fdca26"
             ],
             [
              1,
              "#f0f921"
             ]
            ],
            "type": "contour"
           }
          ],
          "contourcarpet": [
           {
            "colorbar": {
             "outlinewidth": 0,
             "ticks": ""
            },
            "type": "contourcarpet"
           }
          ],
          "heatmap": [
           {
            "colorbar": {
             "outlinewidth": 0,
             "ticks": ""
            },
            "colorscale": [
             [
              0,
              "#0d0887"
             ],
             [
              0.1111111111111111,
              "#46039f"
             ],
             [
              0.2222222222222222,
              "#7201a8"
             ],
             [
              0.3333333333333333,
              "#9c179e"
             ],
             [
              0.4444444444444444,
              "#bd3786"
             ],
             [
              0.5555555555555556,
              "#d8576b"
             ],
             [
              0.6666666666666666,
              "#ed7953"
             ],
             [
              0.7777777777777778,
              "#fb9f3a"
             ],
             [
              0.8888888888888888,
              "#fdca26"
             ],
             [
              1,
              "#f0f921"
             ]
            ],
            "type": "heatmap"
           }
          ],
          "histogram": [
           {
            "marker": {
             "pattern": {
              "fillmode": "overlay",
              "size": 10,
              "solidity": 0.2
             }
            },
            "type": "histogram"
           }
          ],
          "histogram2d": [
           {
            "colorbar": {
             "outlinewidth": 0,
             "ticks": ""
            },
            "colorscale": [
             [
              0,
              "#0d0887"
             ],
             [
              0.1111111111111111,
              "#46039f"
             ],
             [
              0.2222222222222222,
              "#7201a8"
             ],
             [
              0.3333333333333333,
              "#9c179e"
             ],
             [
              0.4444444444444444,
              "#bd3786"
             ],
             [
              0.5555555555555556,
              "#d8576b"
             ],
             [
              0.6666666666666666,
              "#ed7953"
             ],
             [
              0.7777777777777778,
              "#fb9f3a"
             ],
             [
              0.8888888888888888,
              "#fdca26"
             ],
             [
              1,
              "#f0f921"
             ]
            ],
            "type": "histogram2d"
           }
          ],
          "histogram2dcontour": [
           {
            "colorbar": {
             "outlinewidth": 0,
             "ticks": ""
            },
            "colorscale": [
             [
              0,
              "#0d0887"
             ],
             [
              0.1111111111111111,
              "#46039f"
             ],
             [
              0.2222222222222222,
              "#7201a8"
             ],
             [
              0.3333333333333333,
              "#9c179e"
             ],
             [
              0.4444444444444444,
              "#bd3786"
             ],
             [
              0.5555555555555556,
              "#d8576b"
             ],
             [
              0.6666666666666666,
              "#ed7953"
             ],
             [
              0.7777777777777778,
              "#fb9f3a"
             ],
             [
              0.8888888888888888,
              "#fdca26"
             ],
             [
              1,
              "#f0f921"
             ]
            ],
            "type": "histogram2dcontour"
           }
          ],
          "mesh3d": [
           {
            "colorbar": {
             "outlinewidth": 0,
             "ticks": ""
            },
            "type": "mesh3d"
           }
          ],
          "parcoords": [
           {
            "line": {
             "colorbar": {
              "outlinewidth": 0,
              "ticks": ""
             }
            },
            "type": "parcoords"
           }
          ],
          "pie": [
           {
            "automargin": true,
            "type": "pie"
           }
          ],
          "scatter": [
           {
            "fillpattern": {
             "fillmode": "overlay",
             "size": 10,
             "solidity": 0.2
            },
            "type": "scatter"
           }
          ],
          "scatter3d": [
           {
            "line": {
             "colorbar": {
              "outlinewidth": 0,
              "ticks": ""
             }
            },
            "marker": {
             "colorbar": {
              "outlinewidth": 0,
              "ticks": ""
             }
            },
            "type": "scatter3d"
           }
          ],
          "scattercarpet": [
           {
            "marker": {
             "colorbar": {
              "outlinewidth": 0,
              "ticks": ""
             }
            },
            "type": "scattercarpet"
           }
          ],
          "scattergeo": [
           {
            "marker": {
             "colorbar": {
              "outlinewidth": 0,
              "ticks": ""
             }
            },
            "type": "scattergeo"
           }
          ],
          "scattergl": [
           {
            "marker": {
             "colorbar": {
              "outlinewidth": 0,
              "ticks": ""
             }
            },
            "type": "scattergl"
           }
          ],
          "scattermap": [
           {
            "marker": {
             "colorbar": {
              "outlinewidth": 0,
              "ticks": ""
             }
            },
            "type": "scattermap"
           }
          ],
          "scattermapbox": [
           {
            "marker": {
             "colorbar": {
              "outlinewidth": 0,
              "ticks": ""
             }
            },
            "type": "scattermapbox"
           }
          ],
          "scatterpolar": [
           {
            "marker": {
             "colorbar": {
              "outlinewidth": 0,
              "ticks": ""
             }
            },
            "type": "scatterpolar"
           }
          ],
          "scatterpolargl": [
           {
            "marker": {
             "colorbar": {
              "outlinewidth": 0,
              "ticks": ""
             }
            },
            "type": "scatterpolargl"
           }
          ],
          "scatterternary": [
           {
            "marker": {
             "colorbar": {
              "outlinewidth": 0,
              "ticks": ""
             }
            },
            "type": "scatterternary"
           }
          ],
          "surface": [
           {
            "colorbar": {
             "outlinewidth": 0,
             "ticks": ""
            },
            "colorscale": [
             [
              0,
              "#0d0887"
             ],
             [
              0.1111111111111111,
              "#46039f"
             ],
             [
              0.2222222222222222,
              "#7201a8"
             ],
             [
              0.3333333333333333,
              "#9c179e"
             ],
             [
              0.4444444444444444,
              "#bd3786"
             ],
             [
              0.5555555555555556,
              "#d8576b"
             ],
             [
              0.6666666666666666,
              "#ed7953"
             ],
             [
              0.7777777777777778,
              "#fb9f3a"
             ],
             [
              0.8888888888888888,
              "#fdca26"
             ],
             [
              1,
              "#f0f921"
             ]
            ],
            "type": "surface"
           }
          ],
          "table": [
           {
            "cells": {
             "fill": {
              "color": "#EBF0F8"
             },
             "line": {
              "color": "white"
             }
            },
            "header": {
             "fill": {
              "color": "#C8D4E3"
             },
             "line": {
              "color": "white"
             }
            },
            "type": "table"
           }
          ]
         },
         "layout": {
          "annotationdefaults": {
           "arrowcolor": "#2a3f5f",
           "arrowhead": 0,
           "arrowwidth": 1
          },
          "autotypenumbers": "strict",
          "coloraxis": {
           "colorbar": {
            "outlinewidth": 0,
            "ticks": ""
           }
          },
          "colorscale": {
           "diverging": [
            [
             0,
             "#8e0152"
            ],
            [
             0.1,
             "#c51b7d"
            ],
            [
             0.2,
             "#de77ae"
            ],
            [
             0.3,
             "#f1b6da"
            ],
            [
             0.4,
             "#fde0ef"
            ],
            [
             0.5,
             "#f7f7f7"
            ],
            [
             0.6,
             "#e6f5d0"
            ],
            [
             0.7,
             "#b8e186"
            ],
            [
             0.8,
             "#7fbc41"
            ],
            [
             0.9,
             "#4d9221"
            ],
            [
             1,
             "#276419"
            ]
           ],
           "sequential": [
            [
             0,
             "#0d0887"
            ],
            [
             0.1111111111111111,
             "#46039f"
            ],
            [
             0.2222222222222222,
             "#7201a8"
            ],
            [
             0.3333333333333333,
             "#9c179e"
            ],
            [
             0.4444444444444444,
             "#bd3786"
            ],
            [
             0.5555555555555556,
             "#d8576b"
            ],
            [
             0.6666666666666666,
             "#ed7953"
            ],
            [
             0.7777777777777778,
             "#fb9f3a"
            ],
            [
             0.8888888888888888,
             "#fdca26"
            ],
            [
             1,
             "#f0f921"
            ]
           ],
           "sequentialminus": [
            [
             0,
             "#0d0887"
            ],
            [
             0.1111111111111111,
             "#46039f"
            ],
            [
             0.2222222222222222,
             "#7201a8"
            ],
            [
             0.3333333333333333,
             "#9c179e"
            ],
            [
             0.4444444444444444,
             "#bd3786"
            ],
            [
             0.5555555555555556,
             "#d8576b"
            ],
            [
             0.6666666666666666,
             "#ed7953"
            ],
            [
             0.7777777777777778,
             "#fb9f3a"
            ],
            [
             0.8888888888888888,
             "#fdca26"
            ],
            [
             1,
             "#f0f921"
            ]
           ]
          },
          "colorway": [
           "#636efa",
           "#EF553B",
           "#00cc96",
           "#ab63fa",
           "#FFA15A",
           "#19d3f3",
           "#FF6692",
           "#B6E880",
           "#FF97FF",
           "#FECB52"
          ],
          "font": {
           "color": "#2a3f5f"
          },
          "geo": {
           "bgcolor": "white",
           "lakecolor": "white",
           "landcolor": "#E5ECF6",
           "showlakes": true,
           "showland": true,
           "subunitcolor": "white"
          },
          "hoverlabel": {
           "align": "left"
          },
          "hovermode": "closest",
          "mapbox": {
           "style": "light"
          },
          "paper_bgcolor": "white",
          "plot_bgcolor": "#E5ECF6",
          "polar": {
           "angularaxis": {
            "gridcolor": "white",
            "linecolor": "white",
            "ticks": ""
           },
           "bgcolor": "#E5ECF6",
           "radialaxis": {
            "gridcolor": "white",
            "linecolor": "white",
            "ticks": ""
           }
          },
          "scene": {
           "xaxis": {
            "backgroundcolor": "#E5ECF6",
            "gridcolor": "white",
            "gridwidth": 2,
            "linecolor": "white",
            "showbackground": true,
            "ticks": "",
            "zerolinecolor": "white"
           },
           "yaxis": {
            "backgroundcolor": "#E5ECF6",
            "gridcolor": "white",
            "gridwidth": 2,
            "linecolor": "white",
            "showbackground": true,
            "ticks": "",
            "zerolinecolor": "white"
           },
           "zaxis": {
            "backgroundcolor": "#E5ECF6",
            "gridcolor": "white",
            "gridwidth": 2,
            "linecolor": "white",
            "showbackground": true,
            "ticks": "",
            "zerolinecolor": "white"
           }
          },
          "shapedefaults": {
           "line": {
            "color": "#2a3f5f"
           }
          },
          "ternary": {
           "aaxis": {
            "gridcolor": "white",
            "linecolor": "white",
            "ticks": ""
           },
           "baxis": {
            "gridcolor": "white",
            "linecolor": "white",
            "ticks": ""
           },
           "bgcolor": "#E5ECF6",
           "caxis": {
            "gridcolor": "white",
            "linecolor": "white",
            "ticks": ""
           }
          },
          "title": {
           "x": 0.05
          },
          "xaxis": {
           "automargin": true,
           "gridcolor": "white",
           "linecolor": "white",
           "ticks": "",
           "title": {
            "standoff": 15
           },
           "zerolinecolor": "white",
           "zerolinewidth": 2
          },
          "yaxis": {
           "automargin": true,
           "gridcolor": "white",
           "linecolor": "white",
           "ticks": "",
           "title": {
            "standoff": 15
           },
           "zerolinecolor": "white",
           "zerolinewidth": 2
          }
         }
        },
        "width": 600,
        "xaxis": {
         "anchor": "y",
         "domain": [
          0,
          1
         ],
         "title": {
          "text": "Model"
         }
        },
        "yaxis": {
         "anchor": "x",
         "domain": [
          0,
          1
         ],
         "title": {
          "text": "Jensen-Shannon Distance"
         }
        }
       }
      }
     },
     "metadata": {},
     "output_type": "display_data"
    }
   ],
   "source": [
    "# Original index names\n",
    "old_names = ['jsd_gemini', 'jsd_4.1', 'jsd_claude', 'jsd_qwen', 'jsd_lora']\n",
    "\n",
    "# Your desired display names in the same order\n",
    "new_names = ['Gemini-2.0-Flash', 'GPT-4.1', 'Claude-3.5', 'Qwen-2.5', 'Custom']\n",
    "\n",
    "# Create a mapping dictionary\n",
    "rename_map = dict(zip(old_names, new_names))\n",
    "\n",
    "# Rename the index in your values Series\n",
    "values = values.rename(index=rename_map)\n",
    "\n",
    "# Then plot as before\n",
    "colors = ['#006400' if col == 'Custom' else '#8B0000' for col in values.index]\n",
    "\n",
    "fig = px.bar(\n",
    "    x=values.index,\n",
    "    y=values.values,\n",
    "    color=values.index,\n",
    "    color_discrete_sequence=colors\n",
    ")\n",
    "fig.update_layout(showlegend=False, xaxis_title='Model', yaxis_title='Jensen-Shannon Distance', width=600, height=400)\n",
    "fig.show()"
   ]
  },
  {
   "cell_type": "code",
   "execution_count": 27,
   "metadata": {},
   "outputs": [
    {
     "name": "stdout",
     "output_type": "stream",
     "text": [
      "Unnamed: 0                                                           6097\n",
      "question                I'd like your opinion about some possible inte...\n",
      "country                                                     United States\n",
      "selections              [0.6086956521739131, 0.33695652173913043, 0.05...\n",
      "options                  ['Major threat', 'Minor threat', 'Not a threat']\n",
      "llm_reasoning           In the United States, perceptions of Islamic e...\n",
      "llm_distribution                                          [0.4, 0.4, 0.2]\n",
      "llm_distribution_val                                      [0.4, 0.4, 0.2]\n",
      "selections_val          [0.6086956521739131, 0.33695652173913043, 0.05...\n",
      "jsd_4.1                                                          0.185465\n",
      "reason_default          system\\nYou are Qwen, created by Alibaba Cloud...\n",
      "dist_default            [0.6000000000000001, 0.30000000000000004, 0.10...\n",
      "jsd_qwen                                                          0.00574\n",
      "reason_lora             system\\nYou are Qwen, created by Alibaba Cloud...\n",
      "dist_lora                                                              []\n",
      "jsd_lora                                                              1.0\n"
     ]
    }
   ],
   "source": [
    "print(df.iloc[(df['jsd_qwen'] - df['jsd_lora']).abs().argmax()].to_string())"
   ]
  },
  {
   "cell_type": "code",
   "execution_count": 28,
   "metadata": {},
   "outputs": [
    {
     "name": "stdout",
     "output_type": "stream",
     "text": [
      "Unnamed: 0                                                                                                                                                                                                                                                                                                                                                                                                                                                                                                                                                                                                                                                                                                                                                                                                                                                                                                                                                                                                                                                                                                                                                                                                                                                                                                                                                                                                                                                                                                                                                                                                                                                                                                                                                                                                                                                                                                                                                                                                                                                                                                                                                                                                                                                                                                                                                                                                                                                                                                                                                             6097\n",
      "question                                                                                                                                                                                                                                                                                                                                                                                                                                                                                                                                                                                                                                                                                                                                                                                                                                                                                                                                                                                                                                                                                                                                                                                                                                                                                                                                                                                                                                                                                                                                                                                                                                                                                                                                                                                                                                                                                                                                                                                                                                                                                                                                                                                                                                                                                                                                                                  I'd like your opinion about some possible international concerns for your country. Do you think that Islamic extremist groups is a major threat, a minor threat or not a threat to your country? \n",
      "country                                                                                                                                                                                                                                                                                                                                                                                                                                                                                                                                                                                                                                                                                                                                                                                                                                                                                                                                                                                                                                                                                                                                                                                                                                                                                                                                                                                                                                                                                                                                                                                                                                                                                                                                                                                                                                                                                                                                                                                                                                                                                                                                                                                                                                                                                                                                                                                                                                                                                                                                                       United States\n",
      "selections                                                                                                                                                                                                                                                                                                                                                                                                                                                                                                                                                                                                                                                                                                                                                                                                                                                                                                                                                                                                                                                                                                                                                                                                                                                                                                                                                                                                                                                                                                                                                                                                                                                                                                                                                                                                                                                                                                                                                                                                                                                                                                                                                                                                                                                                                                                                                                                                                                                                                                   [0.6086956521739131, 0.33695652173913043, 0.05434782608695652]\n",
      "options                                                                                                                                                                                                                                                                                                                                                                                                                                                                                                                                                                                                                                                                                                                                                                                                                                                                                                                                                                                                                                                                                                                                                                                                                                                                                                                                                                                                                                                                                                                                                                                                                                                                                                                                                                                                                                                                                                                                                                                                                                                                                                                                                                                                                                                                                                                                                                                                                                                                                                                    ['Major threat', 'Minor threat', 'Not a threat']\n",
      "llm_reasoning                                                                                                                                                                                                                                                                                                                                                                                                                                                                                                                                                                                                                                                                                                                                                                                                                                                                                                                                                                                                                                                                                                                                                                                                 In the United States, perceptions of Islamic extremist groups as a threat have been shaped by events such as the 9/11 attacks and subsequent terrorism-related incidents. Over the years, public concern has fluctuated depending on current events, media coverage, and political discourse.\\n\\n1. Major threat: A significant portion of the population, especially those who prioritize national security or have concerns about terrorism, may consider Islamic extremist groups a major threat. However, this group has likely decreased somewhat compared to the immediate post-9/11 era due to increased security measures and a broader focus on other threats.\\n\\n2. Minor threat: Many people may acknowledge that Islamic extremist groups pose some threat but see it as less severe or less immediate compared to other issues like domestic terrorism, cyber threats, or economic concerns.\\n\\n3. Not a threat: A smaller but notable portion of the population might believe that Islamic extremist groups are not a threat, either due to a belief that the threat is exaggerated, a focus on other priorities, or a desire to avoid stigmatizing a religious group.\\n\\nGiven these considerations, I would estimate the distribution roughly as follows:\\n- Major threat: around 40%\\n- Minor threat: around 40%\\n- Not a threat: around 20%\n",
      "llm_distribution                                                                                                                                                                                                                                                                                                                                                                                                                                                                                                                                                                                                                                                                                                                                                                                                                                                                                                                                                                                                                                                                                                                                                                                                                                                                                                                                                                                                                                                                                                                                                                                                                                                                                                                                                                                                                                                                                                                                                                                                                                                                                                                                                                                                                                                                                                                                                                                                                                                                                                                                            [0.4, 0.4, 0.2]\n",
      "llm_distribution_val                                                                                                                                                                                                                                                                                                                                                                                                                                                                                                                                                                                                                                                                                                                                                                                                                                                                                                                                                                                                                                                                                                                                                                                                                                                                                                                                                                                                                                                                                                                                                                                                                                                                                                                                                                                                                                                                                                                                                                                                                                                                                                                                                                                                                                                                                                                                                                                                                                                                                                                                        [0.4, 0.4, 0.2]\n",
      "selections_val                                                                                                                                                                                                                                                                                                                                                                                                                                                                                                                                                                                                                                                                                                                                                                                                                                                                                                                                                                                                                                                                                                                                                                                                                                                                                                                                                                                                                                                                                                                                                                                                                                                                                                                                                                                                                                                                                                                                                                                                                                                                                                                                                                                                                                                                                                                                                                                                                                                                                               [0.6086956521739131, 0.33695652173913043, 0.05434782608695652]\n",
      "jsd_4.1                                                                                                                                                                                                                                                                                                                                                                                                                                                                                                                                                                                                                                                                                                                                                                                                                                                                                                                                                                                                                                                                                                                                                                                                                                                                                                                                                                                                                                                                                                                                                                                                                                                                                                                                                                                                                                                                                                                                                                                                                                                                                                                                                                                                                                                                                                                                                                                                                                                                                                                                                            0.185465\n",
      "reason_default                                                                                                             system\\nYou are Qwen, created by Alibaba Cloud. You are a helpful assistant.\\nuser\\nGiven the following question and answer options, estimate the distribution of responses you would expect from people in United States. Respond with your reasoning in <think></think> tags, then output your estimated distribution as a list of numbers that sum to one in the format {X, Y, Z, ...}.\\n\\nQuestion: I'd like your opinion about some possible international concerns for your country. Do you think that Islamic extremist groups is a major threat, a minor threat or not a threat to your country? \\nOptions: ['Major threat', 'Minor threat', 'Not a threat']\\nCountry: United States\\n\\n<think>Think step-by-step about cultural, historical, and social factors that might influence how people in United States would answer this question.</think>\\n{X, Y, Z, ...}\\nassistant\\n<think>Considering the cultural, historical, and social factors in the United States, we can make an educated guess about how people might respond to this question:\\n\\n1. **Major Threat (X)**: The United States has experienced significant terrorist attacks linked to Islamic extremist groups, such as 9/11. This event has deeply influenced public perception and policy. Additionally, there is ongoing concern about potential future attacks and the activities of groups like ISIS and al-Qaeda. Therefore, many Americans might view these groups as a major threat.\\n\\n2. **Minor Threat (Y)**: Some Americans might believe that the threat from Islamic extremist groups has been exaggerated in the media and by politicians. They may also feel that the threat is less severe than it was during the height of the War on Terror. This group might include those who are more skeptical of government claims or who have a more nuanced view of the issue.\\n\\n3. **Not a Threat (Z)**: A smaller segment of the population might believe that Islamic extremist groups pose no real threat to the United States. This could be due to a variety of reasons, including a lack of direct experience with terrorism, a belief in the effectiveness of current security measures, or a more liberal or anti-war stance.\\n\\nGiven these considerations, a reasonable distribution might be:\\n- Major threat: 60%\\n- Minor threat: 30%\\n- Not a threat: 10%\\n\\nThis translates to the numbers: {0.6, 0.3, 0.1}\\n</think>\\n{0.6, 0.3, 0.1}\n",
      "dist_default                                                                                                                                                                                                                                                                                                                                                                                                                                                                                                                                                                                                                                                                                                                                                                                                                                                                                                                                                                                                                                                                                                                                                                                                                                                                                                                                                                                                                                                                                                                                                                                                                                                                                                                                                                                                                                                                                                                                                                                                                                                                                                                                                                                                                                                                                                                                                                                                                                                                                                 [0.6000000000000001, 0.30000000000000004, 0.10000000000000002]\n",
      "jsd_qwen                                                                                                                                                                                                                                                                                                                                                                                                                                                                                                                                                                                                                                                                                                                                                                                                                                                                                                                                                                                                                                                                                                                                                                                                                                                                                                                                                                                                                                                                                                                                                                                                                                                                                                                                                                                                                                                                                                                                                                                                                                                                                                                                                                                                                                                                                                                                                                                                                                                                                                                                                            0.00574\n",
      "reason_lora             system\\nYou are Qwen, created by Alibaba Cloud. You are a helpful assistant.\\nuser\\nGiven the following question and answer options, estimate the distribution of responses you would expect from people in United States. Respond with your reasoning in <think></think> tags, then output your estimated distribution as a list of numbers that sum to one in the format {X, Y, Z, ...}.\\n\\nQuestion: I'd like your opinion about some possible international concerns for your country. Do you think that Islamic extremist groups is a major threat, a minor threat or not a threat to your country? \\nOptions: ['Major threat', 'Minor threat', 'Not a threat']\\nCountry: United States\\n\\n<think>Think step-by-step about cultural, historical, and social factors that might influence how people in United States would answer this question.</think>\\n{X, Y, Z, ...}\\nassistant\\nIn the United States, perceptions of Islamic extremist groups as a threat are influenced by several factors:\\n\\n1. Media Coverage and Public Discourse: The U.S. media frequently reports on terrorist attacks and extremist activities linked to groups like ISIS, al-Qaeda, and others. This coverage tends to heighten awareness and concern about these groups as threats.\\n\\n2. Political Climate: During periods of heightened security concerns (e.g., post-9/11, recent terrorist incidents), more people may view Islamic extremist groups as a major threat. Conversely, during times of relative calm, the perception might shift toward minor threat or not a threat.\\n\\n3. Public Opinion Polls: Surveys such as those from Pew Research Center often show a significant portion of Americans perceive Islamic extremism as a major threat, but there is also a substantial minority who see it as a minor threat or not a threat.\\n\\n4. Demographics: Younger generations and urban populations tend to be less likely to view Islamic extremist groups as a major threat compared to older or rural populations.\\n\\nBased on these considerations, I would estimate the distribution as follows:\\n- Major threat: A plurality, likely around 50-60%, reflecting widespread media and political messaging.\\n- Minor threat: A significant minority, around 30-40%, acknowledging the threat but not seeing it as urgent.\\n- Not a threat: A smaller group, around 10-20%, possibly including those who distrust media narratives or prioritize other issues.\\n\\nFinal estimate:\\nMajor threat: 0.55\\nMinor threat: 0.35\\nNot a threat: 0.10\n",
      "dist_lora                                                                                                                                                                                                                                                                                                                                                                                                                                                                                                                                                                                                                                                                                                                                                                                                                                                                                                                                                                                                                                                                                                                                                                                                                                                                                                                                                                                                                                                                                                                                                                                                                                                                                                                                                                                                                                                                                                                                                                                                                                                                                                                                                                                                                                                                                                                                                                                                                                                                                                                                                                []\n",
      "jsd_lora                                                                                                                                                                                                                                                                                                                                                                                                                                                                                                                                                                                                                                                                                                                                                                                                                                                                                                                                                                                                                                                                                                                                                                                                                                                                                                                                                                                                                                                                                                                                                                                                                                                                                                                                                                                                                                                                                                                                                                                                                                                                                                                                                                                                                                                                                                                                                                                                                                                                                                                                                                1.0\n",
      "Name: 177, dtype: object\n"
     ]
    }
   ],
   "source": [
    "with pd.option_context('display.max_columns', None, 'display.max_colwidth', None):\n",
    "    print(df.iloc[(df['jsd_qwen'] - df['jsd_lora']).abs().argmax()])"
   ]
  },
  {
   "cell_type": "code",
   "execution_count": 29,
   "metadata": {},
   "outputs": [
    {
     "data": {
      "text/html": [
       "<div>\n",
       "<style scoped>\n",
       "    .dataframe tbody tr th:only-of-type {\n",
       "        vertical-align: middle;\n",
       "    }\n",
       "\n",
       "    .dataframe tbody tr th {\n",
       "        vertical-align: top;\n",
       "    }\n",
       "\n",
       "    .dataframe thead th {\n",
       "        text-align: right;\n",
       "    }\n",
       "</style>\n",
       "<table border=\"1\" class=\"dataframe\">\n",
       "  <thead>\n",
       "    <tr style=\"text-align: right;\">\n",
       "      <th></th>\n",
       "      <th>Unnamed: 0</th>\n",
       "      <th>question</th>\n",
       "      <th>country</th>\n",
       "      <th>selections</th>\n",
       "      <th>options</th>\n",
       "      <th>llm_reasoning</th>\n",
       "      <th>llm_distribution</th>\n",
       "      <th>llm_distribution_val</th>\n",
       "      <th>selections_val</th>\n",
       "      <th>jsd_4.1</th>\n",
       "      <th>reason_default</th>\n",
       "      <th>dist_default</th>\n",
       "      <th>jsd_qwen</th>\n",
       "      <th>reason_lora</th>\n",
       "      <th>dist_lora</th>\n",
       "      <th>jsd_lora</th>\n",
       "    </tr>\n",
       "  </thead>\n",
       "  <tbody>\n",
       "    <tr>\n",
       "      <th>0</th>\n",
       "      <td>752</td>\n",
       "      <td>Do you agree, disagree or neither agree nor di...</td>\n",
       "      <td>Brazil</td>\n",
       "      <td>[0.0, 0.8370000000000001, 0.08800000000000001,...</td>\n",
       "      <td>['Agree strongly', 'Agree', 'Neither agree nor...</td>\n",
       "      <td>In Brazil, family ties and responsibilities ar...</td>\n",
       "      <td>[0.4, 0.3, 0.15, 0.1, 0.03, 0.01, 0.01, 0.0]</td>\n",
       "      <td>[0.4, 0.3, 0.15, 0.1, 0.03, 0.01, 0.01, 0.0]</td>\n",
       "      <td>[0.0, 0.8370000000000001, 0.08800000000000001,...</td>\n",
       "      <td>0.473640</td>\n",
       "      <td>system\\nYou are Qwen, created by Alibaba Cloud...</td>\n",
       "      <td>[0.10101010101010101, 0.40404040404040403, 0.3...</td>\n",
       "      <td>0.192194</td>\n",
       "      <td>system\\nYou are Qwen, created by Alibaba Cloud...</td>\n",
       "      <td>[]</td>\n",
       "      <td>1.000000</td>\n",
       "    </tr>\n",
       "    <tr>\n",
       "      <th>1</th>\n",
       "      <td>753</td>\n",
       "      <td>How likely or unlikely do you think it is that...</td>\n",
       "      <td>Brazil</td>\n",
       "      <td>[0.21, 0.37, 0.22, 0.12, 0.0, 0.08]</td>\n",
       "      <td>['Very likely', 'Somewhat likely', 'Somewhat u...</td>\n",
       "      <td>1. Brazil has experienced significant cyberatt...</td>\n",
       "      <td>[0.35, 0.4, 0.15, 0.05, 0.02, 0.03]</td>\n",
       "      <td>[0.35, 0.4, 0.15, 0.05, 0.02, 0.03]</td>\n",
       "      <td>[0.21, 0.37, 0.22, 0.12, 0.0, 0.08]</td>\n",
       "      <td>0.180883</td>\n",
       "      <td>system\\nYou are Qwen, created by Alibaba Cloud...</td>\n",
       "      <td>[0.23809523809523808, 0.38095238095238093, 0.1...</td>\n",
       "      <td>0.029295</td>\n",
       "      <td>system\\nYou are Qwen, created by Alibaba Cloud...</td>\n",
       "      <td>[0.35, 0.4, 0.15, 0.08, 0.02, 0.0]</td>\n",
       "      <td>0.070890</td>\n",
       "    </tr>\n",
       "    <tr>\n",
       "      <th>2</th>\n",
       "      <td>754</td>\n",
       "      <td>I am going to name a number of organizations. ...</td>\n",
       "      <td>Brazil</td>\n",
       "      <td>[0.08, 0.408, 0.268, 0.222, 0.0180000000000000...</td>\n",
       "      <td>['A great deal', 'Quite a lot', 'Not very much...</td>\n",
       "      <td>In Brazil, public confidence in civil services...</td>\n",
       "      <td>[0.1, 0.2, 0.35, 0.3, 0.04, 0.01, 0.0]</td>\n",
       "      <td>[0.1, 0.2, 0.35, 0.3, 0.04, 0.01, 0.0]</td>\n",
       "      <td>[0.08, 0.408, 0.268, 0.222, 0.0180000000000000...</td>\n",
       "      <td>0.165861</td>\n",
       "      <td>system\\nYou are Qwen, created by Alibaba Cloud...</td>\n",
       "      <td>[0.1, 0.3, 0.4, 0.15, 0.05]</td>\n",
       "      <td>0.028463</td>\n",
       "      <td>system\\nYou are Qwen, created by Alibaba Cloud...</td>\n",
       "      <td>[0.05, 0.15, 0.3, 0.4, 0.08, 0.02, 0.0]</td>\n",
       "      <td>0.086913</td>\n",
       "    </tr>\n",
       "    <tr>\n",
       "      <th>3</th>\n",
       "      <td>756</td>\n",
       "      <td>Do you agree or disagree with the following st...</td>\n",
       "      <td>Brazil</td>\n",
       "      <td>[0.0, 0.49700000000000005, 0.159, 0.337, 0.0, ...</td>\n",
       "      <td>['Agree strongly', 'Agree', 'Neither agree nor...</td>\n",
       "      <td>Brazilian culture tends to value work-life bal...</td>\n",
       "      <td>[0.1, 0.25, 0.2, 0.3, 0.1, 0.03, 0.02, 0.0]</td>\n",
       "      <td>[0.1, 0.25, 0.2, 0.3, 0.1, 0.03, 0.02, 0.0]</td>\n",
       "      <td>[0.0, 0.49700000000000005, 0.159, 0.337, 0.0, ...</td>\n",
       "      <td>0.319563</td>\n",
       "      <td>system\\nYou are Qwen, created by Alibaba Cloud...</td>\n",
       "      <td>[0.10101010101010101, 0.20202020202020202, 0.3...</td>\n",
       "      <td>0.180025</td>\n",
       "      <td>system\\nYou are Qwen, created by Alibaba Cloud...</td>\n",
       "      <td>[0.1, 0.25, 0.3, 0.25, 0.05, 0.03, 0.01, 0.01]</td>\n",
       "      <td>0.140881</td>\n",
       "    </tr>\n",
       "    <tr>\n",
       "      <th>4</th>\n",
       "      <td>758</td>\n",
       "      <td>Here is a list of qualities that children can ...</td>\n",
       "      <td>Brazil</td>\n",
       "      <td>[0.304, 0.696, 0.0, 0.0, 0.0]</td>\n",
       "      <td>['Important', 'Not mentioned', \"Don't know\", '...</td>\n",
       "      <td>In Brazil, family and community values are gen...</td>\n",
       "      <td>[0.7, 0.2, 0.05, 0.04, 0.01]</td>\n",
       "      <td>[0.7, 0.2, 0.05, 0.04, 0.01]</td>\n",
       "      <td>[0.304, 0.696, 0.0, 0.0, 0.0]</td>\n",
       "      <td>0.383995</td>\n",
       "      <td>system\\nYou are Qwen, created by Alibaba Cloud...</td>\n",
       "      <td>[0.3333333333333333, 0.22222222222222224, 0.16...</td>\n",
       "      <td>0.315279</td>\n",
       "      <td>system\\nYou are Qwen, created by Alibaba Cloud...</td>\n",
       "      <td>[0.7, 0.25, 0.03, 0.01, 0.01]</td>\n",
       "      <td>0.161827</td>\n",
       "    </tr>\n",
       "  </tbody>\n",
       "</table>\n",
       "</div>"
      ],
      "text/plain": [
       "   Unnamed: 0                                           question country  \\\n",
       "0         752  Do you agree, disagree or neither agree nor di...  Brazil   \n",
       "1         753  How likely or unlikely do you think it is that...  Brazil   \n",
       "2         754  I am going to name a number of organizations. ...  Brazil   \n",
       "3         756  Do you agree or disagree with the following st...  Brazil   \n",
       "4         758  Here is a list of qualities that children can ...  Brazil   \n",
       "\n",
       "                                          selections  \\\n",
       "0  [0.0, 0.8370000000000001, 0.08800000000000001,...   \n",
       "1                [0.21, 0.37, 0.22, 0.12, 0.0, 0.08]   \n",
       "2  [0.08, 0.408, 0.268, 0.222, 0.0180000000000000...   \n",
       "3  [0.0, 0.49700000000000005, 0.159, 0.337, 0.0, ...   \n",
       "4                      [0.304, 0.696, 0.0, 0.0, 0.0]   \n",
       "\n",
       "                                             options  \\\n",
       "0  ['Agree strongly', 'Agree', 'Neither agree nor...   \n",
       "1  ['Very likely', 'Somewhat likely', 'Somewhat u...   \n",
       "2  ['A great deal', 'Quite a lot', 'Not very much...   \n",
       "3  ['Agree strongly', 'Agree', 'Neither agree nor...   \n",
       "4  ['Important', 'Not mentioned', \"Don't know\", '...   \n",
       "\n",
       "                                       llm_reasoning  \\\n",
       "0  In Brazil, family ties and responsibilities ar...   \n",
       "1  1. Brazil has experienced significant cyberatt...   \n",
       "2  In Brazil, public confidence in civil services...   \n",
       "3  Brazilian culture tends to value work-life bal...   \n",
       "4  In Brazil, family and community values are gen...   \n",
       "\n",
       "                               llm_distribution  \\\n",
       "0  [0.4, 0.3, 0.15, 0.1, 0.03, 0.01, 0.01, 0.0]   \n",
       "1           [0.35, 0.4, 0.15, 0.05, 0.02, 0.03]   \n",
       "2        [0.1, 0.2, 0.35, 0.3, 0.04, 0.01, 0.0]   \n",
       "3   [0.1, 0.25, 0.2, 0.3, 0.1, 0.03, 0.02, 0.0]   \n",
       "4                  [0.7, 0.2, 0.05, 0.04, 0.01]   \n",
       "\n",
       "                           llm_distribution_val  \\\n",
       "0  [0.4, 0.3, 0.15, 0.1, 0.03, 0.01, 0.01, 0.0]   \n",
       "1           [0.35, 0.4, 0.15, 0.05, 0.02, 0.03]   \n",
       "2        [0.1, 0.2, 0.35, 0.3, 0.04, 0.01, 0.0]   \n",
       "3   [0.1, 0.25, 0.2, 0.3, 0.1, 0.03, 0.02, 0.0]   \n",
       "4                  [0.7, 0.2, 0.05, 0.04, 0.01]   \n",
       "\n",
       "                                      selections_val   jsd_4.1  \\\n",
       "0  [0.0, 0.8370000000000001, 0.08800000000000001,...  0.473640   \n",
       "1                [0.21, 0.37, 0.22, 0.12, 0.0, 0.08]  0.180883   \n",
       "2  [0.08, 0.408, 0.268, 0.222, 0.0180000000000000...  0.165861   \n",
       "3  [0.0, 0.49700000000000005, 0.159, 0.337, 0.0, ...  0.319563   \n",
       "4                      [0.304, 0.696, 0.0, 0.0, 0.0]  0.383995   \n",
       "\n",
       "                                      reason_default  \\\n",
       "0  system\\nYou are Qwen, created by Alibaba Cloud...   \n",
       "1  system\\nYou are Qwen, created by Alibaba Cloud...   \n",
       "2  system\\nYou are Qwen, created by Alibaba Cloud...   \n",
       "3  system\\nYou are Qwen, created by Alibaba Cloud...   \n",
       "4  system\\nYou are Qwen, created by Alibaba Cloud...   \n",
       "\n",
       "                                        dist_default  jsd_qwen  \\\n",
       "0  [0.10101010101010101, 0.40404040404040403, 0.3...  0.192194   \n",
       "1  [0.23809523809523808, 0.38095238095238093, 0.1...  0.029295   \n",
       "2                        [0.1, 0.3, 0.4, 0.15, 0.05]  0.028463   \n",
       "3  [0.10101010101010101, 0.20202020202020202, 0.3...  0.180025   \n",
       "4  [0.3333333333333333, 0.22222222222222224, 0.16...  0.315279   \n",
       "\n",
       "                                         reason_lora  \\\n",
       "0  system\\nYou are Qwen, created by Alibaba Cloud...   \n",
       "1  system\\nYou are Qwen, created by Alibaba Cloud...   \n",
       "2  system\\nYou are Qwen, created by Alibaba Cloud...   \n",
       "3  system\\nYou are Qwen, created by Alibaba Cloud...   \n",
       "4  system\\nYou are Qwen, created by Alibaba Cloud...   \n",
       "\n",
       "                                        dist_lora  jsd_lora  \n",
       "0                                              []  1.000000  \n",
       "1              [0.35, 0.4, 0.15, 0.08, 0.02, 0.0]  0.070890  \n",
       "2         [0.05, 0.15, 0.3, 0.4, 0.08, 0.02, 0.0]  0.086913  \n",
       "3  [0.1, 0.25, 0.3, 0.25, 0.05, 0.03, 0.01, 0.01]  0.140881  \n",
       "4                   [0.7, 0.25, 0.03, 0.01, 0.01]  0.161827  "
      ]
     },
     "execution_count": 29,
     "metadata": {},
     "output_type": "execute_result"
    }
   ],
   "source": [
    "df.head()"
   ]
  },
  {
   "cell_type": "code",
   "execution_count": 30,
   "metadata": {},
   "outputs": [
    {
     "data": {
      "application/vnd.plotly.v1+json": {
       "config": {
        "plotlyServerURL": "https://plot.ly"
       },
       "data": [
        {
         "alignmentgroup": "True",
         "hovertemplate": "Dataset=Penalize improper formatting<br>Model=%{x}<br>Average Jensen–Shannon Distance=%{y}<extra></extra>",
         "legendgroup": "Penalize improper formatting",
         "marker": {
          "color": "#8B0000",
          "pattern": {
           "shape": ""
          }
         },
         "name": "Penalize improper formatting",
         "offsetgroup": "Penalize improper formatting",
         "orientation": "v",
         "showlegend": true,
         "textposition": "auto",
         "type": "bar",
         "x": [
          "GPT-4.1",
          "Qwen-2.5",
          "Custom LoRA",
          "Claude 3.5",
          "Gemini 2.0 Flash"
         ],
         "xaxis": "x",
         "y": {
          "bdata": "81rqko/r0D/Mex9WRdvKP8MxDtCYVOQ/99czZA5ezz/y7weUFA3UPw==",
          "dtype": "f8"
         },
         "yaxis": "y"
        },
        {
         "alignmentgroup": "True",
         "hovertemplate": "Dataset=Forgive improper formatting<br>Model=%{x}<br>Average Jensen–Shannon Distance=%{y}<extra></extra>",
         "legendgroup": "Forgive improper formatting",
         "marker": {
          "color": "#006400",
          "pattern": {
           "shape": ""
          }
         },
         "name": "Forgive improper formatting",
         "offsetgroup": "Forgive improper formatting",
         "orientation": "v",
         "showlegend": true,
         "textposition": "auto",
         "type": "bar",
         "x": [
          "GPT-4.1",
          "Qwen-2.5",
          "Custom LoRA",
          "Claude 3.5",
          "Gemini 2.0 Flash"
         ],
         "xaxis": "x",
         "y": {
          "bdata": "81rqko/r0D/GoqdB4VbJPwJ4Zp+DhcA/99czZA5ezz98obKWAefTPw==",
          "dtype": "f8"
         },
         "yaxis": "y"
        }
       ],
       "layout": {
        "annotations": [
         {
          "font": {
           "size": 12
          },
          "showarrow": false,
          "text": "600 questions",
          "x": 0.5,
          "y": 0.686152914874037
         },
         {
          "font": {
           "size": 12
          },
          "showarrow": false,
          "text": "200 questions",
          "x": 3,
          "y": 0.686152914874037
         }
        ],
        "barmode": "group",
        "height": 500,
        "legend": {
         "title": {
          "text": "Dataset"
         },
         "tracegroupgap": 0
        },
        "margin": {
         "t": 60
        },
        "shapes": [
         {
          "line": {
           "color": "grey",
           "dash": "dash"
          },
          "type": "line",
          "x0": 1.5,
          "x1": 1.5,
          "y0": 0,
          "y1": 0.6670931116830915
         }
        ],
        "template": {
         "data": {
          "bar": [
           {
            "error_x": {
             "color": "#2a3f5f"
            },
            "error_y": {
             "color": "#2a3f5f"
            },
            "marker": {
             "line": {
              "color": "#E5ECF6",
              "width": 0.5
             },
             "pattern": {
              "fillmode": "overlay",
              "size": 10,
              "solidity": 0.2
             }
            },
            "type": "bar"
           }
          ],
          "barpolar": [
           {
            "marker": {
             "line": {
              "color": "#E5ECF6",
              "width": 0.5
             },
             "pattern": {
              "fillmode": "overlay",
              "size": 10,
              "solidity": 0.2
             }
            },
            "type": "barpolar"
           }
          ],
          "carpet": [
           {
            "aaxis": {
             "endlinecolor": "#2a3f5f",
             "gridcolor": "white",
             "linecolor": "white",
             "minorgridcolor": "white",
             "startlinecolor": "#2a3f5f"
            },
            "baxis": {
             "endlinecolor": "#2a3f5f",
             "gridcolor": "white",
             "linecolor": "white",
             "minorgridcolor": "white",
             "startlinecolor": "#2a3f5f"
            },
            "type": "carpet"
           }
          ],
          "choropleth": [
           {
            "colorbar": {
             "outlinewidth": 0,
             "ticks": ""
            },
            "type": "choropleth"
           }
          ],
          "contour": [
           {
            "colorbar": {
             "outlinewidth": 0,
             "ticks": ""
            },
            "colorscale": [
             [
              0,
              "#0d0887"
             ],
             [
              0.1111111111111111,
              "#46039f"
             ],
             [
              0.2222222222222222,
              "#7201a8"
             ],
             [
              0.3333333333333333,
              "#9c179e"
             ],
             [
              0.4444444444444444,
              "#bd3786"
             ],
             [
              0.5555555555555556,
              "#d8576b"
             ],
             [
              0.6666666666666666,
              "#ed7953"
             ],
             [
              0.7777777777777778,
              "#fb9f3a"
             ],
             [
              0.8888888888888888,
              "#fdca26"
             ],
             [
              1,
              "#f0f921"
             ]
            ],
            "type": "contour"
           }
          ],
          "contourcarpet": [
           {
            "colorbar": {
             "outlinewidth": 0,
             "ticks": ""
            },
            "type": "contourcarpet"
           }
          ],
          "heatmap": [
           {
            "colorbar": {
             "outlinewidth": 0,
             "ticks": ""
            },
            "colorscale": [
             [
              0,
              "#0d0887"
             ],
             [
              0.1111111111111111,
              "#46039f"
             ],
             [
              0.2222222222222222,
              "#7201a8"
             ],
             [
              0.3333333333333333,
              "#9c179e"
             ],
             [
              0.4444444444444444,
              "#bd3786"
             ],
             [
              0.5555555555555556,
              "#d8576b"
             ],
             [
              0.6666666666666666,
              "#ed7953"
             ],
             [
              0.7777777777777778,
              "#fb9f3a"
             ],
             [
              0.8888888888888888,
              "#fdca26"
             ],
             [
              1,
              "#f0f921"
             ]
            ],
            "type": "heatmap"
           }
          ],
          "histogram": [
           {
            "marker": {
             "pattern": {
              "fillmode": "overlay",
              "size": 10,
              "solidity": 0.2
             }
            },
            "type": "histogram"
           }
          ],
          "histogram2d": [
           {
            "colorbar": {
             "outlinewidth": 0,
             "ticks": ""
            },
            "colorscale": [
             [
              0,
              "#0d0887"
             ],
             [
              0.1111111111111111,
              "#46039f"
             ],
             [
              0.2222222222222222,
              "#7201a8"
             ],
             [
              0.3333333333333333,
              "#9c179e"
             ],
             [
              0.4444444444444444,
              "#bd3786"
             ],
             [
              0.5555555555555556,
              "#d8576b"
             ],
             [
              0.6666666666666666,
              "#ed7953"
             ],
             [
              0.7777777777777778,
              "#fb9f3a"
             ],
             [
              0.8888888888888888,
              "#fdca26"
             ],
             [
              1,
              "#f0f921"
             ]
            ],
            "type": "histogram2d"
           }
          ],
          "histogram2dcontour": [
           {
            "colorbar": {
             "outlinewidth": 0,
             "ticks": ""
            },
            "colorscale": [
             [
              0,
              "#0d0887"
             ],
             [
              0.1111111111111111,
              "#46039f"
             ],
             [
              0.2222222222222222,
              "#7201a8"
             ],
             [
              0.3333333333333333,
              "#9c179e"
             ],
             [
              0.4444444444444444,
              "#bd3786"
             ],
             [
              0.5555555555555556,
              "#d8576b"
             ],
             [
              0.6666666666666666,
              "#ed7953"
             ],
             [
              0.7777777777777778,
              "#fb9f3a"
             ],
             [
              0.8888888888888888,
              "#fdca26"
             ],
             [
              1,
              "#f0f921"
             ]
            ],
            "type": "histogram2dcontour"
           }
          ],
          "mesh3d": [
           {
            "colorbar": {
             "outlinewidth": 0,
             "ticks": ""
            },
            "type": "mesh3d"
           }
          ],
          "parcoords": [
           {
            "line": {
             "colorbar": {
              "outlinewidth": 0,
              "ticks": ""
             }
            },
            "type": "parcoords"
           }
          ],
          "pie": [
           {
            "automargin": true,
            "type": "pie"
           }
          ],
          "scatter": [
           {
            "fillpattern": {
             "fillmode": "overlay",
             "size": 10,
             "solidity": 0.2
            },
            "type": "scatter"
           }
          ],
          "scatter3d": [
           {
            "line": {
             "colorbar": {
              "outlinewidth": 0,
              "ticks": ""
             }
            },
            "marker": {
             "colorbar": {
              "outlinewidth": 0,
              "ticks": ""
             }
            },
            "type": "scatter3d"
           }
          ],
          "scattercarpet": [
           {
            "marker": {
             "colorbar": {
              "outlinewidth": 0,
              "ticks": ""
             }
            },
            "type": "scattercarpet"
           }
          ],
          "scattergeo": [
           {
            "marker": {
             "colorbar": {
              "outlinewidth": 0,
              "ticks": ""
             }
            },
            "type": "scattergeo"
           }
          ],
          "scattergl": [
           {
            "marker": {
             "colorbar": {
              "outlinewidth": 0,
              "ticks": ""
             }
            },
            "type": "scattergl"
           }
          ],
          "scattermap": [
           {
            "marker": {
             "colorbar": {
              "outlinewidth": 0,
              "ticks": ""
             }
            },
            "type": "scattermap"
           }
          ],
          "scattermapbox": [
           {
            "marker": {
             "colorbar": {
              "outlinewidth": 0,
              "ticks": ""
             }
            },
            "type": "scattermapbox"
           }
          ],
          "scatterpolar": [
           {
            "marker": {
             "colorbar": {
              "outlinewidth": 0,
              "ticks": ""
             }
            },
            "type": "scatterpolar"
           }
          ],
          "scatterpolargl": [
           {
            "marker": {
             "colorbar": {
              "outlinewidth": 0,
              "ticks": ""
             }
            },
            "type": "scatterpolargl"
           }
          ],
          "scatterternary": [
           {
            "marker": {
             "colorbar": {
              "outlinewidth": 0,
              "ticks": ""
             }
            },
            "type": "scatterternary"
           }
          ],
          "surface": [
           {
            "colorbar": {
             "outlinewidth": 0,
             "ticks": ""
            },
            "colorscale": [
             [
              0,
              "#0d0887"
             ],
             [
              0.1111111111111111,
              "#46039f"
             ],
             [
              0.2222222222222222,
              "#7201a8"
             ],
             [
              0.3333333333333333,
              "#9c179e"
             ],
             [
              0.4444444444444444,
              "#bd3786"
             ],
             [
              0.5555555555555556,
              "#d8576b"
             ],
             [
              0.6666666666666666,
              "#ed7953"
             ],
             [
              0.7777777777777778,
              "#fb9f3a"
             ],
             [
              0.8888888888888888,
              "#fdca26"
             ],
             [
              1,
              "#f0f921"
             ]
            ],
            "type": "surface"
           }
          ],
          "table": [
           {
            "cells": {
             "fill": {
              "color": "#EBF0F8"
             },
             "line": {
              "color": "white"
             }
            },
            "header": {
             "fill": {
              "color": "#C8D4E3"
             },
             "line": {
              "color": "white"
             }
            },
            "type": "table"
           }
          ]
         },
         "layout": {
          "annotationdefaults": {
           "arrowcolor": "#2a3f5f",
           "arrowhead": 0,
           "arrowwidth": 1
          },
          "autotypenumbers": "strict",
          "coloraxis": {
           "colorbar": {
            "outlinewidth": 0,
            "ticks": ""
           }
          },
          "colorscale": {
           "diverging": [
            [
             0,
             "#8e0152"
            ],
            [
             0.1,
             "#c51b7d"
            ],
            [
             0.2,
             "#de77ae"
            ],
            [
             0.3,
             "#f1b6da"
            ],
            [
             0.4,
             "#fde0ef"
            ],
            [
             0.5,
             "#f7f7f7"
            ],
            [
             0.6,
             "#e6f5d0"
            ],
            [
             0.7,
             "#b8e186"
            ],
            [
             0.8,
             "#7fbc41"
            ],
            [
             0.9,
             "#4d9221"
            ],
            [
             1,
             "#276419"
            ]
           ],
           "sequential": [
            [
             0,
             "#0d0887"
            ],
            [
             0.1111111111111111,
             "#46039f"
            ],
            [
             0.2222222222222222,
             "#7201a8"
            ],
            [
             0.3333333333333333,
             "#9c179e"
            ],
            [
             0.4444444444444444,
             "#bd3786"
            ],
            [
             0.5555555555555556,
             "#d8576b"
            ],
            [
             0.6666666666666666,
             "#ed7953"
            ],
            [
             0.7777777777777778,
             "#fb9f3a"
            ],
            [
             0.8888888888888888,
             "#fdca26"
            ],
            [
             1,
             "#f0f921"
            ]
           ],
           "sequentialminus": [
            [
             0,
             "#0d0887"
            ],
            [
             0.1111111111111111,
             "#46039f"
            ],
            [
             0.2222222222222222,
             "#7201a8"
            ],
            [
             0.3333333333333333,
             "#9c179e"
            ],
            [
             0.4444444444444444,
             "#bd3786"
            ],
            [
             0.5555555555555556,
             "#d8576b"
            ],
            [
             0.6666666666666666,
             "#ed7953"
            ],
            [
             0.7777777777777778,
             "#fb9f3a"
            ],
            [
             0.8888888888888888,
             "#fdca26"
            ],
            [
             1,
             "#f0f921"
            ]
           ]
          },
          "colorway": [
           "#636efa",
           "#EF553B",
           "#00cc96",
           "#ab63fa",
           "#FFA15A",
           "#19d3f3",
           "#FF6692",
           "#B6E880",
           "#FF97FF",
           "#FECB52"
          ],
          "font": {
           "color": "#2a3f5f"
          },
          "geo": {
           "bgcolor": "white",
           "lakecolor": "white",
           "landcolor": "#E5ECF6",
           "showlakes": true,
           "showland": true,
           "subunitcolor": "white"
          },
          "hoverlabel": {
           "align": "left"
          },
          "hovermode": "closest",
          "mapbox": {
           "style": "light"
          },
          "paper_bgcolor": "white",
          "plot_bgcolor": "#E5ECF6",
          "polar": {
           "angularaxis": {
            "gridcolor": "white",
            "linecolor": "white",
            "ticks": ""
           },
           "bgcolor": "#E5ECF6",
           "radialaxis": {
            "gridcolor": "white",
            "linecolor": "white",
            "ticks": ""
           }
          },
          "scene": {
           "xaxis": {
            "backgroundcolor": "#E5ECF6",
            "gridcolor": "white",
            "gridwidth": 2,
            "linecolor": "white",
            "showbackground": true,
            "ticks": "",
            "zerolinecolor": "white"
           },
           "yaxis": {
            "backgroundcolor": "#E5ECF6",
            "gridcolor": "white",
            "gridwidth": 2,
            "linecolor": "white",
            "showbackground": true,
            "ticks": "",
            "zerolinecolor": "white"
           },
           "zaxis": {
            "backgroundcolor": "#E5ECF6",
            "gridcolor": "white",
            "gridwidth": 2,
            "linecolor": "white",
            "showbackground": true,
            "ticks": "",
            "zerolinecolor": "white"
           }
          },
          "shapedefaults": {
           "line": {
            "color": "#2a3f5f"
           }
          },
          "ternary": {
           "aaxis": {
            "gridcolor": "white",
            "linecolor": "white",
            "ticks": ""
           },
           "baxis": {
            "gridcolor": "white",
            "linecolor": "white",
            "ticks": ""
           },
           "bgcolor": "#E5ECF6",
           "caxis": {
            "gridcolor": "white",
            "linecolor": "white",
            "ticks": ""
           }
          },
          "title": {
           "x": 0.05
          },
          "xaxis": {
           "automargin": true,
           "gridcolor": "white",
           "linecolor": "white",
           "ticks": "",
           "title": {
            "standoff": 15
           },
           "zerolinecolor": "white",
           "zerolinewidth": 2
          },
          "yaxis": {
           "automargin": true,
           "gridcolor": "white",
           "linecolor": "white",
           "ticks": "",
           "title": {
            "standoff": 15
           },
           "zerolinecolor": "white",
           "zerolinewidth": 2
          }
         }
        },
        "width": 900,
        "xaxis": {
         "anchor": "y",
         "categoryarray": [
          "Claude 3.5",
          "Gemini 2.0 Flash",
          "GPT-4.1",
          "Qwen-2.5",
          "Custom LoRA"
         ],
         "categoryorder": "array",
         "domain": [
          0,
          1
         ],
         "title": {
          "text": "Model"
         }
        },
        "yaxis": {
         "anchor": "x",
         "domain": [
          0,
          1
         ],
         "title": {
          "text": "Average JSD"
         }
        }
       }
      }
     },
     "metadata": {},
     "output_type": "display_data"
    }
   ],
   "source": [
    "# I worked with AI to create this graph, as indicated by the exessive commenting\n",
    "\n",
    "# ----------# ------------------------------------------------------------------\n",
    "# 1️⃣  Build the same tidy table as before\n",
    "# ------------------------------------------------------------------\n",
    "models_80 = ['jsd_4.1', 'jsd_qwen', 'jsd_lora']             # cols in df\n",
    "label_map = {\n",
    "    'jsd_4.1' : 'GPT-4.1',\n",
    "    'jsd_qwen': 'Qwen-2.5',\n",
    "    'jsd_lora': 'Custom LoRA',\n",
    "    'claude'  : 'Claude 3.5',\n",
    "    'gemini'  : 'Gemini 2.0 Flash'\n",
    "}\n",
    "\n",
    "rows = []\n",
    "\n",
    "# --- 80-question models ------------------------------------------\n",
    "for col in models_80:\n",
    "    rows += [\n",
    "        dict(Model=label_map[col], Bucket='80 questions',\n",
    "             Dataset='Penalize improper formatting',   # legend text\n",
    "             JSD=df[col].mean()),\n",
    "\n",
    "        dict(Model=label_map[col], Bucket='80 questions',\n",
    "             Dataset='Forgive improper formatting',\n",
    "             JSD=df.loc[df[col] != 1, col].mean())\n",
    "    ]\n",
    "\n",
    "# --- 600-question models -----------------------------------------\n",
    "rows += [\n",
    "    dict(Model=label_map['claude'], Bucket='600 questions',\n",
    "         Dataset='Penalize improper formatting',\n",
    "         JSD=df_claude['jsd'].mean()),\n",
    "    dict(Model=label_map['claude'], Bucket='600 questions',\n",
    "         Dataset='Forgive improper formatting',\n",
    "         JSD=df_claude.loc[df_claude['jsd'] != 1, 'jsd'].mean()),\n",
    "\n",
    "    dict(Model=label_map['gemini'], Bucket='600 questions',\n",
    "         Dataset='Penalize improper formatting',\n",
    "         JSD=df_gemini['jsd'].mean()),\n",
    "    dict(Model=label_map['gemini'], Bucket='600 questions',\n",
    "         Dataset='Forgive improper formatting',\n",
    "         JSD=df_gemini.loc[df_gemini['jsd'] != 1, 'jsd'].mean())\n",
    "]\n",
    "\n",
    "plot_data = pd.DataFrame(rows)\n",
    "\n",
    "# ------------------------------------------------------------------\n",
    "# 2️⃣  Create an ordered x-axis so 600-Q models come first\n",
    "# ------------------------------------------------------------------\n",
    "order_600 = plot_data.loc[plot_data.Bucket == '600 questions', 'Model'].unique().tolist()\n",
    "order_80  = plot_data.loc[plot_data.Bucket == '80 questions',  'Model'].unique().tolist()\n",
    "x_order   = order_600 + order_80\n",
    "\n",
    "plot_data['Model'] = pd.Categorical(plot_data['Model'],\n",
    "                                    categories=x_order,\n",
    "                                    ordered=True)\n",
    "\n",
    "# ------------------------------------------------------------------\n",
    "# 3️⃣  Draw the single-row grouped bar chart\n",
    "# ------------------------------------------------------------------\n",
    "fig = px.bar(\n",
    "    plot_data,\n",
    "    x='Model',\n",
    "    y='JSD',\n",
    "    color='Dataset',\n",
    "    barmode='group',\n",
    "    labels={'JSD': 'Average Jensen–Shannon Distance'},\n",
    "    color_discrete_sequence=['#8B0000', '#006400'],\n",
    "    category_orders={'Model': x_order}   #  ← NEW: lock X-axis order\n",
    ")\n",
    "\n",
    "\n",
    "# ------------------------------------------------------------------\n",
    "# 4️⃣  Visual cue separating the two evaluation sets\n",
    "# ------------------------------------------------------------------\n",
    "split_x = len(order_600) - 0.5          # position between buckets\n",
    "\n",
    "# Dashed vertical divider\n",
    "fig.add_shape(\n",
    "    type='line',\n",
    "    x0=split_x, x1=split_x,\n",
    "    y0=0, y1=plot_data['JSD'].max()*1.05,\n",
    "    line=dict(color='grey', dash='dash')\n",
    ")\n",
    "\n",
    "# Group labels above bars\n",
    "fig.add_annotation(\n",
    "    x=(len(order_600)-1)/2,           # mid-point of 600-Q group\n",
    "    y=plot_data['JSD'].max()*1.08,\n",
    "    text='600 questions',\n",
    "    showarrow=False,\n",
    "    font=dict(size=12)\n",
    ")\n",
    "fig.add_annotation(\n",
    "    x=len(order_600) + (len(order_80)-1)/2,\n",
    "    y=plot_data['JSD'].max()*1.08,\n",
    "    text='200 questions',\n",
    "    showarrow=False,\n",
    "    font=dict(size=12)\n",
    ")\n",
    "\n",
    "fig.update_layout(\n",
    "    width=900,\n",
    "    height=500,\n",
    "    xaxis_title='Model',\n",
    "    yaxis_title='Average JSD'\n",
    ")\n",
    "\n",
    "fig.show()"
   ]
  },
  {
   "cell_type": "code",
   "execution_count": 31,
   "metadata": {},
   "outputs": [],
   "source": [
    "df_filtered = df[df['jsd_lora'] != 1.0]"
   ]
  },
  {
   "cell_type": "code",
   "execution_count": 32,
   "metadata": {},
   "outputs": [],
   "source": [
    "df_filtered.to_csv('for_blog.csv')"
   ]
  }
 ],
 "metadata": {
  "kernelspec": {
   "display_name": ".venv",
   "language": "python",
   "name": "python3"
  },
  "language_info": {
   "codemirror_mode": {
    "name": "ipython",
    "version": 3
   },
   "file_extension": ".py",
   "mimetype": "text/x-python",
   "name": "python",
   "nbconvert_exporter": "python",
   "pygments_lexer": "ipython3",
   "version": "3.13.3"
  }
 },
 "nbformat": 4,
 "nbformat_minor": 2
}
